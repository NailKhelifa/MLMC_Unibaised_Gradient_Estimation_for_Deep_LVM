{
 "cells": [
  {
   "cell_type": "markdown",
   "metadata": {},
   "source": [
    "# <span style=\"color:red\">  **SIMULATIONS ET MÉTHODES DE MONTE CARLO**  </span>"
   ]
  },
  {
   "cell_type": "code",
   "execution_count": 1,
   "metadata": {},
   "outputs": [],
   "source": [
    "import numpy as np \n",
    "from scipy.stats import multivariate_normal\n",
    "import Estimateurs\n",
    "import Code\n",
    "import MLMC_Code\n",
    "import matplotlib.pyplot as plt\n",
    "from tqdm import tqdm"
   ]
  },
  {
   "cell_type": "markdown",
   "metadata": {},
   "source": [
    "## Sommaire\n",
    "\n",
    "- [Partie 0. Définition du cadre gaussien pour la génération des données](#partie-0-définition-du-cadre-gaussien-pour-la-génération-des-données)\n",
    "  - [0.1. Génération du vrai $\\theta$](#01-génération-du-vrai-theta)\n",
    "  \n",
    "  - [0.2. Génération de notre vecteur d'observation $\\boldsymbol{x} \\in \\mathbb{R}^{20}$](#02-génération-de-notre-vecteur-dobservation-boldsymbolx-in-mathbbr20)\n",
    "\n",
    "  - [0.3. Génération de la vraie log-vraisemblance et du vrai gradient associé à $\\theta_{\\text{true}}$ et à notre observation $\\boldsymbol{x}$](#03-génération-de-la-vraie-log-vraisemblance-et-du-vrai-gradient-associé-à-thetatru-et-à-notre-observation-boldsymbolx)\n",
    "\n",
    "  - [0.4. Génération des paramètres de l'encodeur $A \\in \\mathbb{R}^{20\\times 20}$ et $b \\in \\mathbb{R}^{20}$](#04-génération-des-paramètres-de-lencodeur-a-in-mathbbr2020-et-b-in-mathbbr20)\n",
    "\n",
    "- [Partie 1. Comparaison des estimateurs de la vraisemblance du modèle](#partie-1-comparaison-des-estimateurs-de-la-vraisemblance-du-modèle)\n",
    "\n",
    "  - [1.1 Les estimateurs RR (Roulette Russe) et SS (Single Sample)](#11-les-estimateurs-rr-roulette-russe-et-ss-single-sample)\n",
    "\n",
    "    - [1.1.1 Estimateur ML-SS](#111-estimateur-ml-ss)\n",
    "\n",
    "    - [1.1.2 Estimateur ML-RR](#112-estimateur-ml-rr)\n",
    "    \n",
    "  - [1.2 L'estimateurs SUMO (Stochastically Unbiased Marginalization Objective (SUMO))](#12-lestimateurs-sumo-stochastically-unbiased-marginalization-objective-sumo)\n",
    "\n",
    "  - [1.3 L'estimateurs IWAE (Autoencoder Pondéré par l'Importance)](#13-lestimateurs-iwae-autoencoder-pondéré-par-limportance)\n",
    "  \n",
    "  - [1.4 Comparaison entre les différents estimateurs](#14-comparaison-entre-les-différents-estimateurs)"
   ]
  },
  {
   "cell_type": "markdown",
   "metadata": {},
   "source": [
    "<span style=\"color:blue\">  **NOTATIONS**  </span> : on se donne un ensemble de données $\\boldsymbol{x} = \\{x^{(i)}\\}_{i=1}^n$ composé de $n$ échantillons i.i.d. d'une variable continue ou discrète $x$ à valeurs dans un espace d'observations $\\boldsymbol{\\mathcal{X}}$ (ainsi $\\boldsymbol{x} \\in \\boldsymbol{\\mathcal{X}}$). Nous supposons que les données sont générées par un processus aléatoire impliquant une variable aléatoire continue non observée $\\boldsymbol{z} = \\{z^{(i)}\\}_{i=1}^n$ à valeur dans un espace d'observations $\\boldsymbol{\\mathcal{Z}}$ (ainsi $\\boldsymbol{z} \\in \\boldsymbol{\\mathcal{Z}}$). Le processus se compose de deux étapes :\n",
    "\n",
    "\n",
    "1. La valeur $z^{(i)}$ est générée à partir d'une distribution a priori $p_{\\theta^*}(z)$ ;\n",
    "2. Une valeur $x^{(i)}$ est générée à partir d'une distribution conditionnelle $p_{\\theta^*}(x|z)$.\n",
    "\n",
    "\n",
    "Nous supposons que la distribution a priori $p_{\\theta^*}(\\boldsymbol{z})$ et la vraisemblance $p_{\\theta^*}(\\boldsymbol{x}|\\boldsymbol{z})$ proviennent de familles paramétriques de distributions $p_{\\theta}(\\boldsymbol{z})$ et $p_{\\theta}(\\boldsymbol{x}|\\boldsymbol{z})$ et on note $\\Theta \\subset \\mathbb{R}^d$ l'espace des paramètres. On connait ainsi l'expression de ces deux distributions. En revanche une grande partie de ce processus nous est cachée : les véritables paramètres $\\theta^*$ ainsi que les valeurs des $\\textbf{variables latentes}$ $z^{(i)}$ nous sont inconnus. \n",
    "\n",
    "Connaissant l'expression de la distribution a priori $p_{\\theta^*}(\\boldsymbol{z})$ et la vraisemblance $p_{\\theta^*}(\\boldsymbol{x}|\\boldsymbol{z})$ pour tout $\\theta \\in \\Theta$, on peut définir la densité jointe $p_{\\theta}(\\boldsymbol{x}, \\boldsymbol{z})$ sur $\\boldsymbol{\\mathcal{X}} \\times \\boldsymbol{\\mathcal{Z}}$ par : \n",
    "\n",
    "$$\n",
    "p_{\\theta}(\\boldsymbol{x}, \\boldsymbol{z}) = p_{\\theta}(\\boldsymbol{x}|\\boldsymbol{z}) p_{\\theta}(\\boldsymbol{z})\n",
    "$$"
   ]
  },
  {
   "cell_type": "markdown",
   "metadata": {},
   "source": [
    "<span style=\"color:blue\">  **OBJECTIF**  </span> : on cherche à déterminer la vraie valeur du paramètre (ici $\\theta^*$) ainsi que les valeurs des variables latentes. \n",
    "\n",
    "Une approche classique pour apprendre $\\boldsymbol{\\theta}$ est de choisir, si celle-ci existe, la valeur de ce paramètre qui maximise la log-vraisemblance marginale de l’ ́echantillon définie par :\n",
    "\n",
    "$$\n",
    "\\ell(\\boldsymbol{\\theta}) = \\log p_{\\boldsymbol{\\theta}}(\\boldsymbol{x}) = \\log \\int_{\\boldsymbol{\\mathcal{Z}}} p_{\\boldsymbol{\\theta}}(\\boldsymbol{x}, \\boldsymbol{z}) d\\boldsymbol{z}\n",
    "$$"
   ]
  },
  {
   "cell_type": "markdown",
   "metadata": {},
   "source": [
    "<span style=\"color:blue\">  **PROBLÈME**  </span> : l'intégrale donnée en ci-dessus est intractable (nous ne pouvons donc pas évaluer ou différencier la vraisemblance marginale)."
   ]
  },
  {
   "cell_type": "markdown",
   "metadata": {},
   "source": [
    "<span style=\"color:blue\">  **SOLUTION**  </span> : dans le but de résoudre les problèmes ci-dessus, introduisons un **modèle de reconnaissance** (paramétrique) {$ q_{\\phi}(\\boldsymbol{z}|\\boldsymbol{x}) : \\phi \\in \\Phi$} avec $\\Phi \\subset \\mathbb{R}^d$. Pour tout $\\phi$, $q_{\\phi}(\\boldsymbol{z}|\\boldsymbol{x})$ est choisi comme une approximation de la véritable postérieure intractable $p_{\\theta}(\\boldsymbol{z}|\\boldsymbol{x})$. L'idée est donc de proposer une valeur de l'a posteriori (faire une hypothèse) et d'introduire une méthode pour apprendre les paramètres du **modèle de reconnaissance** $\\phi$ conjointement avec les paramètres du **modèle génératif** $\\theta$."
   ]
  },
  {
   "cell_type": "markdown",
   "metadata": {},
   "source": [
    "## <span style=\"color:green\">  **Partie 0. Définition du cadre gaussien pour la génération des données**  </span>"
   ]
  },
  {
   "cell_type": "markdown",
   "metadata": {},
   "source": [
    "(Application numérique inspirée de [Rainforth et al. (2018)](https://arxiv.org/pdf/1802.04537.pdf))\n",
    "\n",
    "- Le **modèle génératif** est donné par $p_{\\theta}(\\boldsymbol{x}, \\boldsymbol{z}) = \\mathcal{N}(\\boldsymbol{z}|\\theta, I) \\mathcal{N}(\\boldsymbol{x}|\\boldsymbol{z}, I)$, où $\\boldsymbol{x}$ et $\\boldsymbol{z} \\in \\mathbb{R}^{20}$, de sorte que $p_{\\theta}(\\boldsymbol{x}) = \\mathcal{N}(\\boldsymbol{x}|\\theta, 2I)$ et $p_{\\theta}(\\boldsymbol{z}|\\boldsymbol{x}) = \\mathcal{N}\\left( \\frac{\\theta + x}{2}, \\frac{1}{2}I \\right)$. \n",
    "\n",
    "- La **distribution de l'encodeur** (le modèle de reconnaissance) est $q_{\\phi}(z|x) = \\mathcal{N}\\left(\\boldsymbol{z}|A\\boldsymbol{x} + b, \\frac{2}{3}I \\right)$, où $\\phi = (A, b)$.\n",
    "\n",
    "- Nous considérons des perturbations aléatoires des paramètres près de la valeur optimale par une distribution gaussienne de moyenne nulle et d'écart-type $0.01$.\n",
    "\n",
    "**Dans ce cas, on peut analytiquement calculer la vraie log-vraisemblance du modèle pour quantifier le biais et la variance de tous les estimateurs**.\n",
    "\n",
    "Puisque $q_{\\phi}(z|x) = \\mathcal{N}\\left(\\boldsymbol{z}|A\\boldsymbol{x} + b, \\frac{2}{3}I \\right)$ est censé être une approximation de la véritable loi a posteriori donnée par $p_{\\boldsymbol{\\theta}}(\\boldsymbol{z} | \\boldsymbol{x}) = \\mathcal{N}\\left( \\frac{\\theta + x}{2}, \\frac{1}{2}I \\right)$"
   ]
  },
  {
   "cell_type": "markdown",
   "metadata": {},
   "source": [
    "### <span style=\"color:orange\"> 0.1. **Génération du vrai $\\theta$**  </span>"
   ]
  },
  {
   "cell_type": "markdown",
   "metadata": {},
   "source": [
    "On commence par tirer le $\\theta$* ($\\in \\mathbb{R}$) qui sera le paramètre que l'on cherchera à estimer par la suite. \n",
    "\n",
    "A la manière de la génération des données dans [Rainforth et al. (2018)](https://arxiv.org/pdf/1802.04537.pdf) : $\\theta^* \\sim \\mathcal{N}(0, 1)$"
   ]
  },
  {
   "cell_type": "code",
   "execution_count": 2,
   "metadata": {},
   "outputs": [
    {
     "name": "stdout",
     "output_type": "stream",
     "text": [
      "La valeur de theta à estimer est 3.48\n"
     ]
    }
   ],
   "source": [
    "#theta_true = np.random.multivariate_normal(np.zeros(20), np.identity(20))\n",
    "theta_true = np.random.normal(0, 1)\n",
    "print(f\"La valeur de theta à estimer est {int(theta_true*100)/100}\")"
   ]
  },
  {
   "cell_type": "markdown",
   "metadata": {},
   "source": [
    "### <span style=\"color:orange\"> 0.2. **Génération de notre vecteur d'observation $\\boldsymbol{x} \\in \\mathbb{R}^{20}$**  </span>"
   ]
  },
  {
   "cell_type": "markdown",
   "metadata": {},
   "source": [
    "L'idée est désormais de tirer une observation $\\boldsymbol{x} \\in \\mathbb{R}^{20}$, chose que l'on peut faire puisque toutes les distributions nous sont données. \n"
   ]
  },
  {
   "cell_type": "code",
   "execution_count": 3,
   "metadata": {},
   "outputs": [
    {
     "name": "stdout",
     "output_type": "stream",
     "text": [
      "L'échantillon x observé est :\n",
      " \n",
      " x = [ 4.15635259  1.067038    2.93253056  2.64648186  3.65573404  6.05624413\n",
      "  2.07085626  3.8476202   6.32051869  3.51050892  4.10902073  4.38145348\n",
      " -0.73673511  4.29682068  3.04191065  3.1048502   0.28462872  4.16789785\n",
      "  1.06017438  3.95726071] \n",
      " \n",
      " et on vérifique bien sa taille est celle voulue : (20,)\n"
     ]
    }
   ],
   "source": [
    "## On se donne notre échantillon x\n",
    "\n",
    "x, _ = Estimateurs.joint_probability(theta_true)\n",
    "\n",
    "print(f\"L'échantillon x observé est :\\n \\n x = {x} \\n \\n et on vérifique bien sa taille est celle voulue : {x.shape}\")"
   ]
  },
  {
   "cell_type": "markdown",
   "metadata": {},
   "source": [
    "### <span style=\"color:orange\"> 0.3. **Génération de la vraie log-vraisemblance et du vrai gradient associé à $\\theta_{\\text{true}}$ et à notre observation $\\boldsymbol{x}$**  </span>"
   ]
  },
  {
   "cell_type": "code",
   "execution_count": 4,
   "metadata": {},
   "outputs": [
    {
     "name": "stdout",
     "output_type": "stream",
     "text": [
      "La valeur associée à la log-vraisemblance de l'échantillon x pour theta_true est : -33.95914289085967 \n",
      " \n",
      "La valeur associée au gradient de l'échantillon x pour theta_true est : \n",
      "\n",
      " 0.14376668442683216 \n",
      " \n"
     ]
    }
   ],
   "source": [
    "true_likelihood = Code.true_likelihood(x, theta_true)\n",
    "true_gradient = Code.true_grad(x, theta_true)\n",
    "\n",
    "print(f\"La valeur associée à la log-vraisemblance de l'échantillon x pour theta_true est : {true_likelihood} \\n \")\n",
    "print(f\"La valeur associée au gradient de l'échantillon x pour theta_true est : \\n\\n {true_gradient} \\n \")"
   ]
  },
  {
   "cell_type": "markdown",
   "metadata": {},
   "source": [
    "### <span style=\"color:orange\"> 0.4. **Génération des paramètres de l'encodeur $A \\in \\mathbb{R}^{20\\times 20}$ et $b \\in \\mathbb{R}^{20}$**  </span>"
   ]
  },
  {
   "cell_type": "markdown",
   "metadata": {},
   "source": [
    "Il est maintenant question de tirer notre encodeur tel que : $q_{\\phi}(z|x) = \\mathcal{N}\\left(\\boldsymbol{z}|A\\boldsymbol{x} + b, \\frac{2}{3}I \\right)$, où $\\phi = (A, b)$. **Le problème qui se pose est donc celui du choix de $A$ et de $b$**. Dans l'article [Rainforth et al. (2018)](https://arxiv.org/pdf/1802.04537.pdf), il nous est indiqué : \n",
    "\n",
    "*\"Following [Rainforth et al. (2018)](https://arxiv.org/pdf/1802.04537.pdf), we consider random perturbations of the parameters near the optimal value by a zero-mean Gaussian with standard deviation 0.01\"*\n",
    "\n",
    "Ainsi, étant donné une observation $\\boldsymbol{x}$,  le choix parfait pour $\\phi$ serait $\\phi^* = (A^*, b^*)$ où $A^* = \\frac{1}{2}\\boldsymbol{I}_{20} \\in \\mathbb{R}^{20 \\times 20}$ et $b^* = [\\frac{\\theta^*}{2}, ..., \\frac{\\theta^*}{2}]^T \\in \\mathbb{R}^{20} $. Suivant l'indication dans l'article, nous nous plaçons dans un cas où on aurait réussi à inférer de manière convenable la loi $p_{\\theta}(\\boldsymbol{z}|\\boldsymbol{x}) = \\mathcal{N}\\left( \\frac{\\theta + x}{2}, \\frac{1}{2}I \\right)$, mais pas parfaitement. Ainsi,  on introduit de la même façon que dans l'article [[Rainforth et al. (2018)](https://arxiv.org/pdf/1802.04537.pdf) une perturbation autour de la valeur optimale du paramètre $\\phi$. Cette perturbation se caractérise par le fait chaque dimension de chaque paramètre a été décalée de manière aléatoire par rapport à sa valeur optimale en utilisant une gaussienne centrée en zéro avec un écart-type de 0,01.\n"
   ]
  },
  {
   "cell_type": "code",
   "execution_count": 5,
   "metadata": {},
   "outputs": [
    {
     "name": "stdout",
     "output_type": "stream",
     "text": [
      "On vérifie que les tailles de A, b et x coincident :\n",
      " \n",
      " taille A : (20, 20) \n",
      " taille b : (20,) \n",
      " taille x : (20,)\n"
     ]
    }
   ],
   "source": [
    "dim = 20 \n",
    "\n",
    "## On calcule les valeurs optimales de A et de b\n",
    "A = 0.5 * np.eye(dim)\n",
    "b = 0.5 * theta_true * np.ones(dim)\n",
    "\n",
    "## On calcule les valeurs perturbées de A et de b, qui sont FIXÉES dans la suite\n",
    "noised_A, noised_b = Code.noised_params(A, b)\n",
    "\n",
    "print(f\"On vérifie que les tailles de A, b et x coincident :\\n \\n taille A : {A.shape} \\n taille b : {b.shape} \\n taille x : {x.shape}\")"
   ]
  },
  {
   "cell_type": "markdown",
   "metadata": {},
   "source": [
    "## <span style=\"color:green\">  **Partie 1. Comparaison des estimateurs de la vraisemblance du modèle**  </span>\n",
    "\n",
    "### <span style=\"color:orange\">  **1.1 Les estimateurs RR (Roulette Russe) et SS (Single Sample)**  </span>\n",
    "\n",
    "On rappelle rapidement la manière dont sont définis les estimateurs RR et SS, utilisés plus tard pour construire SUMO, ML-SS et ML-RR.  \n",
    "Désignons une quantité d'intérêt par $I_\\infty = \\log p_\\theta(\\boldsymbol{x})$. Supposons que $I_\\infty$ puisse être écrite comme\n",
    "\n",
    "$$\n",
    "I_\\infty = \\mathbb{E}[I_0] + \\sum_{k=0}^\\infty \\mathbb{E}[\\Delta_k] \n",
    "$$\n",
    "\n",
    "pour les variables aléatoires $I_0$ et $(\\Delta_k)_{k\\geq0}$. Nous pouvons estimer $I_\\infty$ de manière non biaisée via les estimateurs suivants ss ou rr :\n",
    "\n",
    "$$\n",
    "ss = I_0 + \\frac{\\Delta_K}{p(K)}, \\quad rr = I_0 + \\sum_{k=0}^K \\frac{\\Delta_k}{\\mathbb{P}(K \\geq k)}\n",
    "$$\n",
    "\n",
    "où $K \\sim Geom(r)$.\n",
    "\n",
    "Pour chacun de ces estimateurs, nous allons suivre la méthodologie du Monte Carlo multiniveau (voir cet [article](https://web.stanford.edu/~glynn/papers/2015/BlanchetG15.html)) qui repose sur un schéma alternatif astucieux pour construire $\\Delta_k$, qui peut garantir la construction d'estimateurs non biaisés de $\\ell(\\boldsymbol{\\theta})$ qui admettent une variance finie et peuvent être calculés en un temps attendu fini.\n",
    "\n",
    "Nous désignons par $\\boldsymbol{z}^O_i$, $\\boldsymbol{z}^E_i$ deux séquences indépendantes d'échantillons i.i.d. de $q_\\phi$, où $O$, $E$ désignent respectivement impair (odd), pair (even), et $w^O_i$, $w^E_i$ les poids d'importance correspondants. Ensuite, nous définissons $I_0 = \\hat{\\ell}^{(1)}(\\boldsymbol{\\theta})$ et\n",
    "\n",
    "\\begin{align*}\n",
    "\\Delta^\\text{ML}_k = \\hat{\\ell}^{(2^{k+1})}_{O\\cup E}(\\boldsymbol{\\theta}) - \\frac{1}{2} \\left( \\hat{\\ell}^{(2^k)}_O (\\boldsymbol{\\theta}) + \\hat{\\ell}^{(2^k)}_E (\\boldsymbol{\\theta}) \\right),\n",
    "\\end{align*}\n",
    "\n",
    "où $\\hat{\\ell}^{(2^k)}_O (\\boldsymbol{\\theta}) = \\log \\left(\\frac{1}{2^k} \\sum_{i=1}^{2^k} w(z^{O}_i) \\right)$ est calculé en utilisant les échantillons impairs $\\{z^O_i\\}_{i=1}^{2^k}$, $\\hat{\\ell}^{(2^k)}_E (\\boldsymbol{\\theta}) = \\log \\left(\\frac{1}{2^k} \\sum_{i=1}^{2^k} w(z^{E}_i) \\right)$ en utilisant les échantillons pairs $\\{z^E_i\\}_{i=1}^{2^k}$, et $\\hat{\\ell}^{(2^{k+1})}_{O\\cup E} (\\boldsymbol{\\theta})$ en utilisant $\\{z^O_i\\}_{i=1}^{2^k} \\cup \\{z^E_i\\}_{i=1}^{2^k}$. Nous désignons les estimateurs SS/RR multiniveaux correspondants de $\\hat{\\ell}(\\boldsymbol{\\theta})$ comme $\\hat{\\ell}^\\text{ML-SS}(\\boldsymbol{\\theta})$ et $\\hat{\\ell}^\\text{ML-RR}(\\boldsymbol{\\theta})$, et collectivement comme $\\hat{\\ell}^\\text{ML}(\\boldsymbol{\\theta})$.\n",
    "\n",
    "Ainsi, \n",
    "\n",
    "$$\n",
    "\\hat{\\ell}^\\text{ML-SS}(\\boldsymbol{\\theta}) = I_0 + \\frac{\\Delta^{\\text{ML}}_\\mathcal{K}}{p(\\mathcal{K})}, \\quad \\hat{\\ell}^\\text{ML-RR}(\\boldsymbol{\\theta}) = I_0 + \\sum_{k=0}^{K} \\frac{\\Delta^{\\text{ML}}_k}{\\mathbb{P}(\\mathcal{K} \\geq k)},\n",
    "$$\n",
    "\n",
    "En abscisse, on considère un segment centré autour de $\\theta^*$, la vraie valeur du paramètre. Pour chaque point de ce segment, on calcule l'estimation réalisée par $\\hat{\\ell}^\\text{ML-SS}(\\boldsymbol{\\theta})$ ou $\\hat{\\ell}^\\text{ML-RR}(\\boldsymbol{\\theta})$ et on la trace sur les graphiques suivant. Le courbe en rouge représente la vraie fonction de vraisemblance, calculée analytiquement. \n",
    "\n",
    "#### <span style=\"color:red\">  **1.1.1 Estimateur ML-SS**  </span>\n",
    "\n",
    "On choisit arbitrairement un nombre de 15 simulations et de 60 points pour des questions de vitesse de calcul. "
   ]
  },
  {
   "cell_type": "code",
   "execution_count": 8,
   "metadata": {},
   "outputs": [],
   "source": [
    "n_simulations = 15 \n",
    "num_runs = 10\n",
    "r = 0.6"
   ]
  },
  {
   "cell_type": "code",
   "execution_count": 11,
   "metadata": {},
   "outputs": [
    {
     "data": {
      "text/plain": [
       "-41.201408115256704"
      ]
     },
     "execution_count": 11,
     "metadata": {},
     "output_type": "execute_result"
    }
   ],
   "source": [
    "Code.log_likelihood_SUMO(r, theta_true, x, noised_A, noised_b, n_simulations)"
   ]
  },
  {
   "cell_type": "code",
   "execution_count": 7,
   "metadata": {},
   "outputs": [
    {
     "name": "stderr",
     "output_type": "stream",
     "text": [
      "Progression:   0%|          | 0/60 [00:00<?, ?it/s]"
     ]
    },
    {
     "name": "stderr",
     "output_type": "stream",
     "text": [
      "Progression: 100%|██████████| 60/60 [00:25<00:00,  2.36it/s]\n"
     ]
    },
    {
     "data": {
      "application/vnd.plotly.v1+json": {
       "config": {
        "plotlyServerURL": "https://plot.ly"
       },
       "data": [
        {
         "line": {
          "color": "blue"
         },
         "mode": "lines",
         "name": "Vraisemblance réelle (avec theta_true)",
         "type": "scatter",
         "x": [
          -1.5159082546608564,
          -1.3464167292371276,
          -1.1769252038133988,
          -1.00743367838967,
          -0.8379421529659412,
          -0.6684506275422124,
          -0.4989591021184836,
          -0.3294675766947548,
          -0.159976051271026,
          0.009515474152702819,
          0.17900699957643162,
          0.34849852500016043,
          0.5179900504238892,
          0.687481575847618,
          0.8569731012713468,
          1.0264646266950757,
          1.1959561521188045,
          1.3654476775425333,
          1.534939202966262,
          1.7044307283899909,
          1.8739222538137197,
          2.0434137792374485,
          2.2129053046611773,
          2.382396830084906,
          2.551888355508635,
          2.7213798809323633,
          2.8908714063560925,
          3.0603629317798218,
          3.22985445720355,
          3.3993459826272785,
          3.5688375080510077,
          3.738329033474737,
          3.9078205588984654,
          4.077312084322194,
          4.246803609745923,
          4.416295135169652,
          4.585786660593381,
          4.755278186017109,
          4.924769711440838,
          5.094261236864567,
          5.263752762288296,
          5.433244287712024,
          5.602735813135753,
          5.772227338559483,
          5.941718863983211,
          6.111210389406939,
          6.280701914830669,
          6.450193440254398,
          6.619684965678126,
          6.789176491101855,
          6.958668016525583,
          7.128159541949313,
          7.2976510673730415,
          7.46714259279677,
          7.6366341182205,
          7.806125643644228,
          7.975617169067957,
          8.145108694491686,
          8.314600219915413,
          8.484091745339143
         ],
         "y": [
          -144.5824744481764,
          -136.7388797559146,
          -129.18255883555742,
          -121.91351168710486,
          -114.93173831055691,
          -108.23723870591357,
          -101.83001287317491,
          -95.71006081234086,
          -89.8773825234114,
          -84.33197800638659,
          -79.07384726126642,
          -74.10299028805085,
          -69.41940708673991,
          -65.0230976573336,
          -60.9140619998319,
          -57.092300114234845,
          -53.5578120005424,
          -50.31059765875459,
          -47.3506570888714,
          -44.677990290892836,
          -42.2925972648189,
          -40.19447801064959,
          -38.3836325283849,
          -36.86006081802484,
          -35.623762879569405,
          -34.67473871301859,
          -34.0129883183724,
          -33.63851169563084,
          -33.5513088447939,
          -33.75137976586159,
          -34.23872445883391,
          -35.01334292371085,
          -36.075235160492404,
          -37.424401169178594,
          -39.060840949769414,
          -40.98455450226486,
          -43.195541826664915,
          -45.693802922969596,
          -48.47933779117892,
          -51.55214643129287,
          -54.91222884331142,
          -58.5595850272346,
          -62.49421498306241,
          -66.71611871079487,
          -71.22529621043192,
          -76.0217474819736,
          -81.10547252541994,
          -86.47647134077089,
          -92.13474392802644,
          -98.08029028718661,
          -104.3131104182514,
          -110.8332043212209,
          -117.64057199609493,
          -124.73521344287362,
          -132.117128661557,
          -139.78631765214493,
          -147.74278041463745,
          -155.98651694903467,
          -164.51752725533638,
          -173.33581133354286
         ]
        },
        {
         "marker": {
          "color": "red",
          "symbol": "cross"
         },
         "mode": "markers",
         "name": "SUMO",
         "type": "scatter",
         "x": [
          -1.5159082546608564,
          -1.3464167292371276,
          -1.1769252038133988,
          -1.00743367838967,
          -0.8379421529659412,
          -0.6684506275422124,
          -0.4989591021184836,
          -0.3294675766947548,
          -0.159976051271026,
          0.009515474152702819,
          0.17900699957643162,
          0.34849852500016043,
          0.5179900504238892,
          0.687481575847618,
          0.8569731012713468,
          1.0264646266950757,
          1.1959561521188045,
          1.3654476775425333,
          1.534939202966262,
          1.7044307283899909,
          1.8739222538137197,
          2.0434137792374485,
          2.2129053046611773,
          2.382396830084906,
          2.551888355508635,
          2.7213798809323633,
          2.8908714063560925,
          3.0603629317798218,
          3.22985445720355,
          3.3993459826272785,
          3.5688375080510077,
          3.738329033474737,
          3.9078205588984654,
          4.077312084322194,
          4.246803609745923,
          4.416295135169652,
          4.585786660593381,
          4.755278186017109,
          4.924769711440838,
          5.094261236864567,
          5.263752762288296,
          5.433244287712024,
          5.602735813135753,
          5.772227338559483,
          5.941718863983211,
          6.111210389406939,
          6.280701914830669,
          6.450193440254398,
          6.619684965678126,
          6.789176491101855,
          6.958668016525583,
          7.128159541949313,
          7.2976510673730415,
          7.46714259279677,
          7.6366341182205,
          7.806125643644228,
          7.975617169067957,
          8.145108694491686,
          8.314600219915413,
          8.484091745339143
         ],
         "y": [
          -266.2507870711802,
          -255.5475230542403,
          -245.2548558564108,
          -205.00672229578367,
          -213.7952849584771,
          -202.58553655876733,
          -129.90730175599967,
          -171.15849657653135,
          -149.97908015643856,
          -148.13122910928706,
          -132.19098011052716,
          -120.44640284500659,
          -120.31514512145398,
          -104.49304703990255,
          -99.70854753973215,
          -84.22030901369736,
          -84.01307807148642,
          -80.00162428685515,
          -71.84851829756471,
          -67.36359142928146,
          -62.39023887470175,
          -56.13595976548395,
          -52.760618167521834,
          -50.175065224293654,
          -45.95397270367811,
          -44.457857202698115,
          -41.32311634137984,
          -40.75432651033467,
          -41.06397002077191,
          -41.15256436736069,
          -41.61486701263714,
          -42.285693990495865,
          -70.57678127606512,
          -45.70862177891497,
          -48.170861921265754,
          -55.30128936180462,
          -56.7068849371548,
          -61.71526948951608,
          -65.01989865473087,
          -67.80482537302552,
          -74.75204811766619,
          -81.40380796837484,
          -81.04503916710505,
          -98.41190137894338,
          -106.48004875282957,
          -111.26404881974737,
          -129.03921587341125,
          -117.30244474513592,
          -144.6375747713161,
          -157.86848095503638,
          -165.7140371967698,
          -159.7080045707083,
          -193.35514217787627,
          -210.18366992316572,
          -227.24299488928074,
          -226.01326682909627,
          -254.4996899398362,
          -259.5474745724311,
          -290.2116507910221,
          -297.81963853242536
         ]
        }
       ],
       "layout": {
        "grid": {
         "columns": 1,
         "rows": 1
        },
        "legend": {
         "font": {
          "size": 10
         }
        },
        "shapes": [
         {
          "line": {
           "color": "black",
           "dash": "dash"
          },
          "name": "Theta=3.4840917453391436",
          "type": "line",
          "x0": 3.4840917453391436,
          "x1": 3.4840917453391436,
          "y0": -300,
          "y1": 500
         }
        ],
        "showlegend": true,
        "template": {
         "data": {
          "bar": [
           {
            "error_x": {
             "color": "#2a3f5f"
            },
            "error_y": {
             "color": "#2a3f5f"
            },
            "marker": {
             "line": {
              "color": "#E5ECF6",
              "width": 0.5
             },
             "pattern": {
              "fillmode": "overlay",
              "size": 10,
              "solidity": 0.2
             }
            },
            "type": "bar"
           }
          ],
          "barpolar": [
           {
            "marker": {
             "line": {
              "color": "#E5ECF6",
              "width": 0.5
             },
             "pattern": {
              "fillmode": "overlay",
              "size": 10,
              "solidity": 0.2
             }
            },
            "type": "barpolar"
           }
          ],
          "carpet": [
           {
            "aaxis": {
             "endlinecolor": "#2a3f5f",
             "gridcolor": "white",
             "linecolor": "white",
             "minorgridcolor": "white",
             "startlinecolor": "#2a3f5f"
            },
            "baxis": {
             "endlinecolor": "#2a3f5f",
             "gridcolor": "white",
             "linecolor": "white",
             "minorgridcolor": "white",
             "startlinecolor": "#2a3f5f"
            },
            "type": "carpet"
           }
          ],
          "choropleth": [
           {
            "colorbar": {
             "outlinewidth": 0,
             "ticks": ""
            },
            "type": "choropleth"
           }
          ],
          "contour": [
           {
            "colorbar": {
             "outlinewidth": 0,
             "ticks": ""
            },
            "colorscale": [
             [
              0,
              "#0d0887"
             ],
             [
              0.1111111111111111,
              "#46039f"
             ],
             [
              0.2222222222222222,
              "#7201a8"
             ],
             [
              0.3333333333333333,
              "#9c179e"
             ],
             [
              0.4444444444444444,
              "#bd3786"
             ],
             [
              0.5555555555555556,
              "#d8576b"
             ],
             [
              0.6666666666666666,
              "#ed7953"
             ],
             [
              0.7777777777777778,
              "#fb9f3a"
             ],
             [
              0.8888888888888888,
              "#fdca26"
             ],
             [
              1,
              "#f0f921"
             ]
            ],
            "type": "contour"
           }
          ],
          "contourcarpet": [
           {
            "colorbar": {
             "outlinewidth": 0,
             "ticks": ""
            },
            "type": "contourcarpet"
           }
          ],
          "heatmap": [
           {
            "colorbar": {
             "outlinewidth": 0,
             "ticks": ""
            },
            "colorscale": [
             [
              0,
              "#0d0887"
             ],
             [
              0.1111111111111111,
              "#46039f"
             ],
             [
              0.2222222222222222,
              "#7201a8"
             ],
             [
              0.3333333333333333,
              "#9c179e"
             ],
             [
              0.4444444444444444,
              "#bd3786"
             ],
             [
              0.5555555555555556,
              "#d8576b"
             ],
             [
              0.6666666666666666,
              "#ed7953"
             ],
             [
              0.7777777777777778,
              "#fb9f3a"
             ],
             [
              0.8888888888888888,
              "#fdca26"
             ],
             [
              1,
              "#f0f921"
             ]
            ],
            "type": "heatmap"
           }
          ],
          "heatmapgl": [
           {
            "colorbar": {
             "outlinewidth": 0,
             "ticks": ""
            },
            "colorscale": [
             [
              0,
              "#0d0887"
             ],
             [
              0.1111111111111111,
              "#46039f"
             ],
             [
              0.2222222222222222,
              "#7201a8"
             ],
             [
              0.3333333333333333,
              "#9c179e"
             ],
             [
              0.4444444444444444,
              "#bd3786"
             ],
             [
              0.5555555555555556,
              "#d8576b"
             ],
             [
              0.6666666666666666,
              "#ed7953"
             ],
             [
              0.7777777777777778,
              "#fb9f3a"
             ],
             [
              0.8888888888888888,
              "#fdca26"
             ],
             [
              1,
              "#f0f921"
             ]
            ],
            "type": "heatmapgl"
           }
          ],
          "histogram": [
           {
            "marker": {
             "pattern": {
              "fillmode": "overlay",
              "size": 10,
              "solidity": 0.2
             }
            },
            "type": "histogram"
           }
          ],
          "histogram2d": [
           {
            "colorbar": {
             "outlinewidth": 0,
             "ticks": ""
            },
            "colorscale": [
             [
              0,
              "#0d0887"
             ],
             [
              0.1111111111111111,
              "#46039f"
             ],
             [
              0.2222222222222222,
              "#7201a8"
             ],
             [
              0.3333333333333333,
              "#9c179e"
             ],
             [
              0.4444444444444444,
              "#bd3786"
             ],
             [
              0.5555555555555556,
              "#d8576b"
             ],
             [
              0.6666666666666666,
              "#ed7953"
             ],
             [
              0.7777777777777778,
              "#fb9f3a"
             ],
             [
              0.8888888888888888,
              "#fdca26"
             ],
             [
              1,
              "#f0f921"
             ]
            ],
            "type": "histogram2d"
           }
          ],
          "histogram2dcontour": [
           {
            "colorbar": {
             "outlinewidth": 0,
             "ticks": ""
            },
            "colorscale": [
             [
              0,
              "#0d0887"
             ],
             [
              0.1111111111111111,
              "#46039f"
             ],
             [
              0.2222222222222222,
              "#7201a8"
             ],
             [
              0.3333333333333333,
              "#9c179e"
             ],
             [
              0.4444444444444444,
              "#bd3786"
             ],
             [
              0.5555555555555556,
              "#d8576b"
             ],
             [
              0.6666666666666666,
              "#ed7953"
             ],
             [
              0.7777777777777778,
              "#fb9f3a"
             ],
             [
              0.8888888888888888,
              "#fdca26"
             ],
             [
              1,
              "#f0f921"
             ]
            ],
            "type": "histogram2dcontour"
           }
          ],
          "mesh3d": [
           {
            "colorbar": {
             "outlinewidth": 0,
             "ticks": ""
            },
            "type": "mesh3d"
           }
          ],
          "parcoords": [
           {
            "line": {
             "colorbar": {
              "outlinewidth": 0,
              "ticks": ""
             }
            },
            "type": "parcoords"
           }
          ],
          "pie": [
           {
            "automargin": true,
            "type": "pie"
           }
          ],
          "scatter": [
           {
            "fillpattern": {
             "fillmode": "overlay",
             "size": 10,
             "solidity": 0.2
            },
            "type": "scatter"
           }
          ],
          "scatter3d": [
           {
            "line": {
             "colorbar": {
              "outlinewidth": 0,
              "ticks": ""
             }
            },
            "marker": {
             "colorbar": {
              "outlinewidth": 0,
              "ticks": ""
             }
            },
            "type": "scatter3d"
           }
          ],
          "scattercarpet": [
           {
            "marker": {
             "colorbar": {
              "outlinewidth": 0,
              "ticks": ""
             }
            },
            "type": "scattercarpet"
           }
          ],
          "scattergeo": [
           {
            "marker": {
             "colorbar": {
              "outlinewidth": 0,
              "ticks": ""
             }
            },
            "type": "scattergeo"
           }
          ],
          "scattergl": [
           {
            "marker": {
             "colorbar": {
              "outlinewidth": 0,
              "ticks": ""
             }
            },
            "type": "scattergl"
           }
          ],
          "scattermapbox": [
           {
            "marker": {
             "colorbar": {
              "outlinewidth": 0,
              "ticks": ""
             }
            },
            "type": "scattermapbox"
           }
          ],
          "scatterpolar": [
           {
            "marker": {
             "colorbar": {
              "outlinewidth": 0,
              "ticks": ""
             }
            },
            "type": "scatterpolar"
           }
          ],
          "scatterpolargl": [
           {
            "marker": {
             "colorbar": {
              "outlinewidth": 0,
              "ticks": ""
             }
            },
            "type": "scatterpolargl"
           }
          ],
          "scatterternary": [
           {
            "marker": {
             "colorbar": {
              "outlinewidth": 0,
              "ticks": ""
             }
            },
            "type": "scatterternary"
           }
          ],
          "surface": [
           {
            "colorbar": {
             "outlinewidth": 0,
             "ticks": ""
            },
            "colorscale": [
             [
              0,
              "#0d0887"
             ],
             [
              0.1111111111111111,
              "#46039f"
             ],
             [
              0.2222222222222222,
              "#7201a8"
             ],
             [
              0.3333333333333333,
              "#9c179e"
             ],
             [
              0.4444444444444444,
              "#bd3786"
             ],
             [
              0.5555555555555556,
              "#d8576b"
             ],
             [
              0.6666666666666666,
              "#ed7953"
             ],
             [
              0.7777777777777778,
              "#fb9f3a"
             ],
             [
              0.8888888888888888,
              "#fdca26"
             ],
             [
              1,
              "#f0f921"
             ]
            ],
            "type": "surface"
           }
          ],
          "table": [
           {
            "cells": {
             "fill": {
              "color": "#EBF0F8"
             },
             "line": {
              "color": "white"
             }
            },
            "header": {
             "fill": {
              "color": "#C8D4E3"
             },
             "line": {
              "color": "white"
             }
            },
            "type": "table"
           }
          ]
         },
         "layout": {
          "annotationdefaults": {
           "arrowcolor": "#2a3f5f",
           "arrowhead": 0,
           "arrowwidth": 1
          },
          "autotypenumbers": "strict",
          "coloraxis": {
           "colorbar": {
            "outlinewidth": 0,
            "ticks": ""
           }
          },
          "colorscale": {
           "diverging": [
            [
             0,
             "#8e0152"
            ],
            [
             0.1,
             "#c51b7d"
            ],
            [
             0.2,
             "#de77ae"
            ],
            [
             0.3,
             "#f1b6da"
            ],
            [
             0.4,
             "#fde0ef"
            ],
            [
             0.5,
             "#f7f7f7"
            ],
            [
             0.6,
             "#e6f5d0"
            ],
            [
             0.7,
             "#b8e186"
            ],
            [
             0.8,
             "#7fbc41"
            ],
            [
             0.9,
             "#4d9221"
            ],
            [
             1,
             "#276419"
            ]
           ],
           "sequential": [
            [
             0,
             "#0d0887"
            ],
            [
             0.1111111111111111,
             "#46039f"
            ],
            [
             0.2222222222222222,
             "#7201a8"
            ],
            [
             0.3333333333333333,
             "#9c179e"
            ],
            [
             0.4444444444444444,
             "#bd3786"
            ],
            [
             0.5555555555555556,
             "#d8576b"
            ],
            [
             0.6666666666666666,
             "#ed7953"
            ],
            [
             0.7777777777777778,
             "#fb9f3a"
            ],
            [
             0.8888888888888888,
             "#fdca26"
            ],
            [
             1,
             "#f0f921"
            ]
           ],
           "sequentialminus": [
            [
             0,
             "#0d0887"
            ],
            [
             0.1111111111111111,
             "#46039f"
            ],
            [
             0.2222222222222222,
             "#7201a8"
            ],
            [
             0.3333333333333333,
             "#9c179e"
            ],
            [
             0.4444444444444444,
             "#bd3786"
            ],
            [
             0.5555555555555556,
             "#d8576b"
            ],
            [
             0.6666666666666666,
             "#ed7953"
            ],
            [
             0.7777777777777778,
             "#fb9f3a"
            ],
            [
             0.8888888888888888,
             "#fdca26"
            ],
            [
             1,
             "#f0f921"
            ]
           ]
          },
          "colorway": [
           "#636efa",
           "#EF553B",
           "#00cc96",
           "#ab63fa",
           "#FFA15A",
           "#19d3f3",
           "#FF6692",
           "#B6E880",
           "#FF97FF",
           "#FECB52"
          ],
          "font": {
           "color": "#2a3f5f"
          },
          "geo": {
           "bgcolor": "white",
           "lakecolor": "white",
           "landcolor": "#E5ECF6",
           "showlakes": true,
           "showland": true,
           "subunitcolor": "white"
          },
          "hoverlabel": {
           "align": "left"
          },
          "hovermode": "closest",
          "mapbox": {
           "style": "light"
          },
          "paper_bgcolor": "white",
          "plot_bgcolor": "#E5ECF6",
          "polar": {
           "angularaxis": {
            "gridcolor": "white",
            "linecolor": "white",
            "ticks": ""
           },
           "bgcolor": "#E5ECF6",
           "radialaxis": {
            "gridcolor": "white",
            "linecolor": "white",
            "ticks": ""
           }
          },
          "scene": {
           "xaxis": {
            "backgroundcolor": "#E5ECF6",
            "gridcolor": "white",
            "gridwidth": 2,
            "linecolor": "white",
            "showbackground": true,
            "ticks": "",
            "zerolinecolor": "white"
           },
           "yaxis": {
            "backgroundcolor": "#E5ECF6",
            "gridcolor": "white",
            "gridwidth": 2,
            "linecolor": "white",
            "showbackground": true,
            "ticks": "",
            "zerolinecolor": "white"
           },
           "zaxis": {
            "backgroundcolor": "#E5ECF6",
            "gridcolor": "white",
            "gridwidth": 2,
            "linecolor": "white",
            "showbackground": true,
            "ticks": "",
            "zerolinecolor": "white"
           }
          },
          "shapedefaults": {
           "line": {
            "color": "#2a3f5f"
           }
          },
          "ternary": {
           "aaxis": {
            "gridcolor": "white",
            "linecolor": "white",
            "ticks": ""
           },
           "baxis": {
            "gridcolor": "white",
            "linecolor": "white",
            "ticks": ""
           },
           "bgcolor": "#E5ECF6",
           "caxis": {
            "gridcolor": "white",
            "linecolor": "white",
            "ticks": ""
           }
          },
          "title": {
           "x": 0.05
          },
          "xaxis": {
           "automargin": true,
           "gridcolor": "white",
           "linecolor": "white",
           "ticks": "",
           "title": {
            "standoff": 15
           },
           "zerolinecolor": "white",
           "zerolinewidth": 2
          },
          "yaxis": {
           "automargin": true,
           "gridcolor": "white",
           "linecolor": "white",
           "ticks": "",
           "title": {
            "standoff": 15
           },
           "zerolinecolor": "white",
           "zerolinewidth": 2
          }
         }
        },
        "title": {
         "text": "Estimation de la vraisemblance par SUMO"
        },
        "xaxis": {
         "tickfont": {
          "size": 12
         },
         "title": {
          "text": "Theta"
         }
        },
        "yaxis": {
         "range": [
          -300,
          500
         ],
         "tickfont": {
          "size": 12
         },
         "title": {
          "text": "Vraisemblance"
         }
        }
       }
      }
     },
     "metadata": {},
     "output_type": "display_data"
    }
   ],
   "source": [
    "#On remarque c'est beaucoup plus long en important depuis le .py \n",
    "Code.plot_likelihood(r, x, noised_A, noised_b, theta_true, n_simulations, \"ML_SS\")"
   ]
  },
  {
   "cell_type": "code",
   "execution_count": 10,
   "metadata": {},
   "outputs": [
    {
     "data": {
      "application/vnd.plotly.v1+json": {
       "config": {
        "plotlyServerURL": "https://plot.ly"
       },
       "data": [
        {
         "type": "box",
         "y": [
          7.121438890483418,
          6.793752358180733,
          6.881284029239055,
          6.8177569146417625,
          7.0287216602487845,
          6.978469534774426,
          6.881272839388629,
          7.026494795484901,
          7.141727174421625,
          6.9098101160552545
         ]
        }
       ],
       "layout": {
        "template": {
         "data": {
          "bar": [
           {
            "error_x": {
             "color": "#2a3f5f"
            },
            "error_y": {
             "color": "#2a3f5f"
            },
            "marker": {
             "line": {
              "color": "#E5ECF6",
              "width": 0.5
             },
             "pattern": {
              "fillmode": "overlay",
              "size": 10,
              "solidity": 0.2
             }
            },
            "type": "bar"
           }
          ],
          "barpolar": [
           {
            "marker": {
             "line": {
              "color": "#E5ECF6",
              "width": 0.5
             },
             "pattern": {
              "fillmode": "overlay",
              "size": 10,
              "solidity": 0.2
             }
            },
            "type": "barpolar"
           }
          ],
          "carpet": [
           {
            "aaxis": {
             "endlinecolor": "#2a3f5f",
             "gridcolor": "white",
             "linecolor": "white",
             "minorgridcolor": "white",
             "startlinecolor": "#2a3f5f"
            },
            "baxis": {
             "endlinecolor": "#2a3f5f",
             "gridcolor": "white",
             "linecolor": "white",
             "minorgridcolor": "white",
             "startlinecolor": "#2a3f5f"
            },
            "type": "carpet"
           }
          ],
          "choropleth": [
           {
            "colorbar": {
             "outlinewidth": 0,
             "ticks": ""
            },
            "type": "choropleth"
           }
          ],
          "contour": [
           {
            "colorbar": {
             "outlinewidth": 0,
             "ticks": ""
            },
            "colorscale": [
             [
              0,
              "#0d0887"
             ],
             [
              0.1111111111111111,
              "#46039f"
             ],
             [
              0.2222222222222222,
              "#7201a8"
             ],
             [
              0.3333333333333333,
              "#9c179e"
             ],
             [
              0.4444444444444444,
              "#bd3786"
             ],
             [
              0.5555555555555556,
              "#d8576b"
             ],
             [
              0.6666666666666666,
              "#ed7953"
             ],
             [
              0.7777777777777778,
              "#fb9f3a"
             ],
             [
              0.8888888888888888,
              "#fdca26"
             ],
             [
              1,
              "#f0f921"
             ]
            ],
            "type": "contour"
           }
          ],
          "contourcarpet": [
           {
            "colorbar": {
             "outlinewidth": 0,
             "ticks": ""
            },
            "type": "contourcarpet"
           }
          ],
          "heatmap": [
           {
            "colorbar": {
             "outlinewidth": 0,
             "ticks": ""
            },
            "colorscale": [
             [
              0,
              "#0d0887"
             ],
             [
              0.1111111111111111,
              "#46039f"
             ],
             [
              0.2222222222222222,
              "#7201a8"
             ],
             [
              0.3333333333333333,
              "#9c179e"
             ],
             [
              0.4444444444444444,
              "#bd3786"
             ],
             [
              0.5555555555555556,
              "#d8576b"
             ],
             [
              0.6666666666666666,
              "#ed7953"
             ],
             [
              0.7777777777777778,
              "#fb9f3a"
             ],
             [
              0.8888888888888888,
              "#fdca26"
             ],
             [
              1,
              "#f0f921"
             ]
            ],
            "type": "heatmap"
           }
          ],
          "heatmapgl": [
           {
            "colorbar": {
             "outlinewidth": 0,
             "ticks": ""
            },
            "colorscale": [
             [
              0,
              "#0d0887"
             ],
             [
              0.1111111111111111,
              "#46039f"
             ],
             [
              0.2222222222222222,
              "#7201a8"
             ],
             [
              0.3333333333333333,
              "#9c179e"
             ],
             [
              0.4444444444444444,
              "#bd3786"
             ],
             [
              0.5555555555555556,
              "#d8576b"
             ],
             [
              0.6666666666666666,
              "#ed7953"
             ],
             [
              0.7777777777777778,
              "#fb9f3a"
             ],
             [
              0.8888888888888888,
              "#fdca26"
             ],
             [
              1,
              "#f0f921"
             ]
            ],
            "type": "heatmapgl"
           }
          ],
          "histogram": [
           {
            "marker": {
             "pattern": {
              "fillmode": "overlay",
              "size": 10,
              "solidity": 0.2
             }
            },
            "type": "histogram"
           }
          ],
          "histogram2d": [
           {
            "colorbar": {
             "outlinewidth": 0,
             "ticks": ""
            },
            "colorscale": [
             [
              0,
              "#0d0887"
             ],
             [
              0.1111111111111111,
              "#46039f"
             ],
             [
              0.2222222222222222,
              "#7201a8"
             ],
             [
              0.3333333333333333,
              "#9c179e"
             ],
             [
              0.4444444444444444,
              "#bd3786"
             ],
             [
              0.5555555555555556,
              "#d8576b"
             ],
             [
              0.6666666666666666,
              "#ed7953"
             ],
             [
              0.7777777777777778,
              "#fb9f3a"
             ],
             [
              0.8888888888888888,
              "#fdca26"
             ],
             [
              1,
              "#f0f921"
             ]
            ],
            "type": "histogram2d"
           }
          ],
          "histogram2dcontour": [
           {
            "colorbar": {
             "outlinewidth": 0,
             "ticks": ""
            },
            "colorscale": [
             [
              0,
              "#0d0887"
             ],
             [
              0.1111111111111111,
              "#46039f"
             ],
             [
              0.2222222222222222,
              "#7201a8"
             ],
             [
              0.3333333333333333,
              "#9c179e"
             ],
             [
              0.4444444444444444,
              "#bd3786"
             ],
             [
              0.5555555555555556,
              "#d8576b"
             ],
             [
              0.6666666666666666,
              "#ed7953"
             ],
             [
              0.7777777777777778,
              "#fb9f3a"
             ],
             [
              0.8888888888888888,
              "#fdca26"
             ],
             [
              1,
              "#f0f921"
             ]
            ],
            "type": "histogram2dcontour"
           }
          ],
          "mesh3d": [
           {
            "colorbar": {
             "outlinewidth": 0,
             "ticks": ""
            },
            "type": "mesh3d"
           }
          ],
          "parcoords": [
           {
            "line": {
             "colorbar": {
              "outlinewidth": 0,
              "ticks": ""
             }
            },
            "type": "parcoords"
           }
          ],
          "pie": [
           {
            "automargin": true,
            "type": "pie"
           }
          ],
          "scatter": [
           {
            "fillpattern": {
             "fillmode": "overlay",
             "size": 10,
             "solidity": 0.2
            },
            "type": "scatter"
           }
          ],
          "scatter3d": [
           {
            "line": {
             "colorbar": {
              "outlinewidth": 0,
              "ticks": ""
             }
            },
            "marker": {
             "colorbar": {
              "outlinewidth": 0,
              "ticks": ""
             }
            },
            "type": "scatter3d"
           }
          ],
          "scattercarpet": [
           {
            "marker": {
             "colorbar": {
              "outlinewidth": 0,
              "ticks": ""
             }
            },
            "type": "scattercarpet"
           }
          ],
          "scattergeo": [
           {
            "marker": {
             "colorbar": {
              "outlinewidth": 0,
              "ticks": ""
             }
            },
            "type": "scattergeo"
           }
          ],
          "scattergl": [
           {
            "marker": {
             "colorbar": {
              "outlinewidth": 0,
              "ticks": ""
             }
            },
            "type": "scattergl"
           }
          ],
          "scattermapbox": [
           {
            "marker": {
             "colorbar": {
              "outlinewidth": 0,
              "ticks": ""
             }
            },
            "type": "scattermapbox"
           }
          ],
          "scatterpolar": [
           {
            "marker": {
             "colorbar": {
              "outlinewidth": 0,
              "ticks": ""
             }
            },
            "type": "scatterpolar"
           }
          ],
          "scatterpolargl": [
           {
            "marker": {
             "colorbar": {
              "outlinewidth": 0,
              "ticks": ""
             }
            },
            "type": "scatterpolargl"
           }
          ],
          "scatterternary": [
           {
            "marker": {
             "colorbar": {
              "outlinewidth": 0,
              "ticks": ""
             }
            },
            "type": "scatterternary"
           }
          ],
          "surface": [
           {
            "colorbar": {
             "outlinewidth": 0,
             "ticks": ""
            },
            "colorscale": [
             [
              0,
              "#0d0887"
             ],
             [
              0.1111111111111111,
              "#46039f"
             ],
             [
              0.2222222222222222,
              "#7201a8"
             ],
             [
              0.3333333333333333,
              "#9c179e"
             ],
             [
              0.4444444444444444,
              "#bd3786"
             ],
             [
              0.5555555555555556,
              "#d8576b"
             ],
             [
              0.6666666666666666,
              "#ed7953"
             ],
             [
              0.7777777777777778,
              "#fb9f3a"
             ],
             [
              0.8888888888888888,
              "#fdca26"
             ],
             [
              1,
              "#f0f921"
             ]
            ],
            "type": "surface"
           }
          ],
          "table": [
           {
            "cells": {
             "fill": {
              "color": "#EBF0F8"
             },
             "line": {
              "color": "white"
             }
            },
            "header": {
             "fill": {
              "color": "#C8D4E3"
             },
             "line": {
              "color": "white"
             }
            },
            "type": "table"
           }
          ]
         },
         "layout": {
          "annotationdefaults": {
           "arrowcolor": "#2a3f5f",
           "arrowhead": 0,
           "arrowwidth": 1
          },
          "autotypenumbers": "strict",
          "coloraxis": {
           "colorbar": {
            "outlinewidth": 0,
            "ticks": ""
           }
          },
          "colorscale": {
           "diverging": [
            [
             0,
             "#8e0152"
            ],
            [
             0.1,
             "#c51b7d"
            ],
            [
             0.2,
             "#de77ae"
            ],
            [
             0.3,
             "#f1b6da"
            ],
            [
             0.4,
             "#fde0ef"
            ],
            [
             0.5,
             "#f7f7f7"
            ],
            [
             0.6,
             "#e6f5d0"
            ],
            [
             0.7,
             "#b8e186"
            ],
            [
             0.8,
             "#7fbc41"
            ],
            [
             0.9,
             "#4d9221"
            ],
            [
             1,
             "#276419"
            ]
           ],
           "sequential": [
            [
             0,
             "#0d0887"
            ],
            [
             0.1111111111111111,
             "#46039f"
            ],
            [
             0.2222222222222222,
             "#7201a8"
            ],
            [
             0.3333333333333333,
             "#9c179e"
            ],
            [
             0.4444444444444444,
             "#bd3786"
            ],
            [
             0.5555555555555556,
             "#d8576b"
            ],
            [
             0.6666666666666666,
             "#ed7953"
            ],
            [
             0.7777777777777778,
             "#fb9f3a"
            ],
            [
             0.8888888888888888,
             "#fdca26"
            ],
            [
             1,
             "#f0f921"
            ]
           ],
           "sequentialminus": [
            [
             0,
             "#0d0887"
            ],
            [
             0.1111111111111111,
             "#46039f"
            ],
            [
             0.2222222222222222,
             "#7201a8"
            ],
            [
             0.3333333333333333,
             "#9c179e"
            ],
            [
             0.4444444444444444,
             "#bd3786"
            ],
            [
             0.5555555555555556,
             "#d8576b"
            ],
            [
             0.6666666666666666,
             "#ed7953"
            ],
            [
             0.7777777777777778,
             "#fb9f3a"
            ],
            [
             0.8888888888888888,
             "#fdca26"
            ],
            [
             1,
             "#f0f921"
            ]
           ]
          },
          "colorway": [
           "#636efa",
           "#EF553B",
           "#00cc96",
           "#ab63fa",
           "#FFA15A",
           "#19d3f3",
           "#FF6692",
           "#B6E880",
           "#FF97FF",
           "#FECB52"
          ],
          "font": {
           "color": "#2a3f5f"
          },
          "geo": {
           "bgcolor": "white",
           "lakecolor": "white",
           "landcolor": "#E5ECF6",
           "showlakes": true,
           "showland": true,
           "subunitcolor": "white"
          },
          "hoverlabel": {
           "align": "left"
          },
          "hovermode": "closest",
          "mapbox": {
           "style": "light"
          },
          "paper_bgcolor": "white",
          "plot_bgcolor": "#E5ECF6",
          "polar": {
           "angularaxis": {
            "gridcolor": "white",
            "linecolor": "white",
            "ticks": ""
           },
           "bgcolor": "#E5ECF6",
           "radialaxis": {
            "gridcolor": "white",
            "linecolor": "white",
            "ticks": ""
           }
          },
          "scene": {
           "xaxis": {
            "backgroundcolor": "#E5ECF6",
            "gridcolor": "white",
            "gridwidth": 2,
            "linecolor": "white",
            "showbackground": true,
            "ticks": "",
            "zerolinecolor": "white"
           },
           "yaxis": {
            "backgroundcolor": "#E5ECF6",
            "gridcolor": "white",
            "gridwidth": 2,
            "linecolor": "white",
            "showbackground": true,
            "ticks": "",
            "zerolinecolor": "white"
           },
           "zaxis": {
            "backgroundcolor": "#E5ECF6",
            "gridcolor": "white",
            "gridwidth": 2,
            "linecolor": "white",
            "showbackground": true,
            "ticks": "",
            "zerolinecolor": "white"
           }
          },
          "shapedefaults": {
           "line": {
            "color": "#2a3f5f"
           }
          },
          "ternary": {
           "aaxis": {
            "gridcolor": "white",
            "linecolor": "white",
            "ticks": ""
           },
           "baxis": {
            "gridcolor": "white",
            "linecolor": "white",
            "ticks": ""
           },
           "bgcolor": "#E5ECF6",
           "caxis": {
            "gridcolor": "white",
            "linecolor": "white",
            "ticks": ""
           }
          },
          "title": {
           "x": 0.05
          },
          "xaxis": {
           "automargin": true,
           "gridcolor": "white",
           "linecolor": "white",
           "ticks": "",
           "title": {
            "standoff": 15
           },
           "zerolinecolor": "white",
           "zerolinewidth": 2
          },
          "yaxis": {
           "automargin": true,
           "gridcolor": "white",
           "linecolor": "white",
           "ticks": "",
           "title": {
            "standoff": 15
           },
           "zerolinecolor": "white",
           "zerolinewidth": 2
          }
         }
        },
        "title": {
         "text": "Distribution des erreurs sur différentes exécutions"
        },
        "xaxis": {
         "title": {
          "text": "Exécutions"
         }
        },
        "yaxis": {
         "title": {
          "text": "Erreur"
         }
        }
       }
      }
     },
     "metadata": {},
     "output_type": "display_data"
    }
   ],
   "source": [
    "k_IAWE = 10\n",
    "\n",
    "Code.plot_uncertainty(r, theta_true, x, noised_A, noised_b, k_IAWE, n_simulations, num_runs, method='log_likelihood_ML_SS')"
   ]
  },
  {
   "cell_type": "markdown",
   "metadata": {},
   "source": [
    "On va désormais s'intéresser à l'estimation de $\\nabla_{\\theta} l(\\theta)$ par notre estimateur ML-SS. L'objectif étant de voir à quel point cet estimateur nous permettra, par la suite, d'approximer $\\theta^*$ à l'aide d'une descente de gradient. \n",
    "\n",
    "De la même façon, "
   ]
  },
  {
   "cell_type": "code",
   "execution_count": 8,
   "metadata": {},
   "outputs": [
    {
     "data": {
      "application/vnd.plotly.v1+json": {
       "config": {
        "plotlyServerURL": "https://plot.ly"
       },
       "data": [
        {
         "line": {
          "color": "red"
         },
         "mode": "lines",
         "name": "True Gradient",
         "type": "scatter",
         "x": [
          -2.9388223082554052,
          -2.7693307828316764,
          -2.5998392574079476,
          -2.430347731984219,
          -2.26085620656049,
          -2.091364681136761,
          -1.9218731557130324,
          -1.7523816302893036,
          -1.5828901048655748,
          -1.413398579441846,
          -1.2439070540181172,
          -1.0744155285943884,
          -0.9049240031706596,
          -0.7354324777469308,
          -0.565940952323202,
          -0.39644942689947316,
          -0.22695790147574435,
          -0.057466376052015544,
          0.11202514937171326,
          0.28151667479544207,
          0.4510082002191709,
          0.6204997256428997,
          0.7899912510666285,
          0.9594827764903573,
          1.128974301914086,
          1.2984658273378145,
          1.4679573527615437,
          1.637448878185273,
          1.8069404036090013,
          1.9764319290327297,
          2.145923454456459,
          2.315414979880188,
          2.4849065053039165,
          2.654398030727645,
          2.823889556151374,
          2.9933810815751034,
          3.1628726069988318,
          3.33236413242256,
          3.5018556578462894,
          3.6713471832700186,
          3.840838708693747,
          4.010330234117475,
          4.179821759541205,
          4.349313284964934,
          4.518804810388662,
          4.688296335812391,
          4.85778786123612,
          5.027279386659849,
          5.196770912083577,
          5.366262437507306,
          5.535753962931034,
          5.705245488354764,
          5.874737013778493,
          6.044228539202221,
          6.213720064625951,
          6.3832115900496795,
          6.552703115473408,
          6.722194640897136,
          6.891686166320865,
          7.061177691744595
         ],
         "y": [
          -2.5067273374524603,
          -2.4219815747405957,
          -2.337235812028731,
          -2.252490049316867,
          -2.1677442866050027,
          -2.082998523893138,
          -1.9982527611812737,
          -1.9135069984694093,
          -1.828761235757545,
          -1.7440154730456805,
          -1.659269710333816,
          -1.5745239476219517,
          -1.4897781849100873,
          -1.4050324221982229,
          -1.3202866594863585,
          -1.235540896774494,
          -1.1507951340626297,
          -1.0660493713507653,
          -0.9813036086389009,
          -0.8965578459270365,
          -0.8118120832151721,
          -0.7270663205033077,
          -0.6423205577914433,
          -0.5575747950795789,
          -0.47282903236771445,
          -0.38808326965585027,
          -0.30333750694398565,
          -0.21859174423212102,
          -0.13384598152025684,
          -0.04910021880839266,
          0.035645543903471966,
          0.12039130661533659,
          0.20513706932720077,
          0.28988283203906495,
          0.3746285947509296,
          0.4593743574627942,
          0.5441201201746584,
          0.6288658828865226,
          0.7136116455983872,
          0.7983574083102518,
          0.883103171022116,
          0.9678489337339802,
          1.0525946964458448,
          1.1373404591577094,
          1.2220862218695736,
          1.3068319845814378,
          1.3915777472933024,
          1.476323510005167,
          1.5610692727170312,
          1.6458150354288954,
          1.7305607981407596,
          1.8153065608526247,
          1.9000523235644888,
          1.984798086276353,
          2.069543848988218,
          2.154289611700082,
          2.239035374411946,
          2.3237811371238104,
          2.4085268998356746,
          2.4932726625475397
         ]
        },
        {
         "marker": {
          "color": "purple",
          "symbol": "x"
         },
         "mode": "markers",
         "name": "ML_SS",
         "type": "scatter",
         "x": [
          -2.9388223082554052,
          -2.7693307828316764,
          -2.5998392574079476,
          -2.430347731984219,
          -2.26085620656049,
          -2.091364681136761,
          -1.9218731557130324,
          -1.7523816302893036,
          -1.5828901048655748,
          -1.413398579441846,
          -1.2439070540181172,
          -1.0744155285943884,
          -0.9049240031706596,
          -0.7354324777469308,
          -0.565940952323202,
          -0.39644942689947316,
          -0.22695790147574435,
          -0.057466376052015544,
          0.11202514937171326,
          0.28151667479544207,
          0.4510082002191709,
          0.6204997256428997,
          0.7899912510666285,
          0.9594827764903573,
          1.128974301914086,
          1.2984658273378145,
          1.4679573527615437,
          1.637448878185273,
          1.8069404036090013,
          1.9764319290327297,
          2.145923454456459,
          2.315414979880188,
          2.4849065053039165,
          2.654398030727645,
          2.823889556151374,
          2.9933810815751034,
          3.1628726069988318,
          3.33236413242256,
          3.5018556578462894,
          3.6713471832700186,
          3.840838708693747,
          4.010330234117475,
          4.179821759541205,
          4.349313284964934,
          4.518804810388662,
          4.688296335812391,
          4.85778786123612,
          5.027279386659849,
          5.196770912083577,
          5.366262437507306,
          5.535753962931034,
          5.705245488354764,
          5.874737013778493,
          6.044228539202221,
          6.213720064625951,
          6.3832115900496795,
          6.552703115473408,
          6.722194640897136,
          6.891686166320865,
          7.061177691744595
         ],
         "y": [
          30.891040270319863,
          3.978684241899032,
          -30.51073207870411,
          -13.924596766145157,
          6.6234211379345425,
          76.44389052640497,
          -9.407108785772152,
          -86.3655116848575,
          8.495822646471822,
          16.029650196380544,
          5.20482145944419,
          -11.450590870575581,
          -0.5686413996219812,
          -1.7340395542994997,
          -17.631952307031042,
          49.64046680773802,
          99.51817261173142,
          -19.413294255755346,
          -70.35814852274603,
          43.75921953147471,
          509.7866312179096,
          -24.928175104951947,
          -518.2721532209332,
          -43.86340082397524,
          -7.528457041841477,
          5.901413725882662,
          147.9162061828375,
          16.60100749059643,
          -140.2810008526396,
          92.90924549209927,
          -8.802357513056108,
          -106.75763371420985,
          15.115123002390703,
          14.429253330184167,
          259.72935712079817,
          -32.189404313176226,
          -261.26020124080156,
          57.31365572796139,
          -3.8059029252873415,
          -16.62354334585592,
          -25.242599951959505,
          -12.185293338852318,
          224.7116436597546,
          -19.116272091176825,
          -207.08818823040264,
          -4.001562255416445,
          7.791565388015101,
          2.314989224991905,
          22.95086646110451,
          2.3848851249063614,
          -30.19992886230341,
          14.846291731772112,
          -19.129270543555208,
          -11.141300959508271,
          185.90453873483776,
          -0.0442992943334275,
          -169.68283505518747,
          -20.391408845243802,
          -8.394003380362335,
          17.21576382444479
         ]
        }
       ],
       "layout": {
        "legend": {
         "font": {
          "size": 12
         },
         "traceorder": "normal",
         "x": 0,
         "y": 1
        },
        "shapes": [
         {
          "line": {
           "color": "black",
           "dash": "dash",
           "width": 2
          },
          "name": "theta=2.0611776917445948",
          "type": "line",
          "x0": 2.0611776917445948,
          "x1": 2.0611776917445948,
          "y0": -518.2721532209332,
          "y1": 509.7866312179096
         }
        ],
        "showlegend": true,
        "template": {
         "data": {
          "bar": [
           {
            "error_x": {
             "color": "#2a3f5f"
            },
            "error_y": {
             "color": "#2a3f5f"
            },
            "marker": {
             "line": {
              "color": "#E5ECF6",
              "width": 0.5
             },
             "pattern": {
              "fillmode": "overlay",
              "size": 10,
              "solidity": 0.2
             }
            },
            "type": "bar"
           }
          ],
          "barpolar": [
           {
            "marker": {
             "line": {
              "color": "#E5ECF6",
              "width": 0.5
             },
             "pattern": {
              "fillmode": "overlay",
              "size": 10,
              "solidity": 0.2
             }
            },
            "type": "barpolar"
           }
          ],
          "carpet": [
           {
            "aaxis": {
             "endlinecolor": "#2a3f5f",
             "gridcolor": "white",
             "linecolor": "white",
             "minorgridcolor": "white",
             "startlinecolor": "#2a3f5f"
            },
            "baxis": {
             "endlinecolor": "#2a3f5f",
             "gridcolor": "white",
             "linecolor": "white",
             "minorgridcolor": "white",
             "startlinecolor": "#2a3f5f"
            },
            "type": "carpet"
           }
          ],
          "choropleth": [
           {
            "colorbar": {
             "outlinewidth": 0,
             "ticks": ""
            },
            "type": "choropleth"
           }
          ],
          "contour": [
           {
            "colorbar": {
             "outlinewidth": 0,
             "ticks": ""
            },
            "colorscale": [
             [
              0,
              "#0d0887"
             ],
             [
              0.1111111111111111,
              "#46039f"
             ],
             [
              0.2222222222222222,
              "#7201a8"
             ],
             [
              0.3333333333333333,
              "#9c179e"
             ],
             [
              0.4444444444444444,
              "#bd3786"
             ],
             [
              0.5555555555555556,
              "#d8576b"
             ],
             [
              0.6666666666666666,
              "#ed7953"
             ],
             [
              0.7777777777777778,
              "#fb9f3a"
             ],
             [
              0.8888888888888888,
              "#fdca26"
             ],
             [
              1,
              "#f0f921"
             ]
            ],
            "type": "contour"
           }
          ],
          "contourcarpet": [
           {
            "colorbar": {
             "outlinewidth": 0,
             "ticks": ""
            },
            "type": "contourcarpet"
           }
          ],
          "heatmap": [
           {
            "colorbar": {
             "outlinewidth": 0,
             "ticks": ""
            },
            "colorscale": [
             [
              0,
              "#0d0887"
             ],
             [
              0.1111111111111111,
              "#46039f"
             ],
             [
              0.2222222222222222,
              "#7201a8"
             ],
             [
              0.3333333333333333,
              "#9c179e"
             ],
             [
              0.4444444444444444,
              "#bd3786"
             ],
             [
              0.5555555555555556,
              "#d8576b"
             ],
             [
              0.6666666666666666,
              "#ed7953"
             ],
             [
              0.7777777777777778,
              "#fb9f3a"
             ],
             [
              0.8888888888888888,
              "#fdca26"
             ],
             [
              1,
              "#f0f921"
             ]
            ],
            "type": "heatmap"
           }
          ],
          "heatmapgl": [
           {
            "colorbar": {
             "outlinewidth": 0,
             "ticks": ""
            },
            "colorscale": [
             [
              0,
              "#0d0887"
             ],
             [
              0.1111111111111111,
              "#46039f"
             ],
             [
              0.2222222222222222,
              "#7201a8"
             ],
             [
              0.3333333333333333,
              "#9c179e"
             ],
             [
              0.4444444444444444,
              "#bd3786"
             ],
             [
              0.5555555555555556,
              "#d8576b"
             ],
             [
              0.6666666666666666,
              "#ed7953"
             ],
             [
              0.7777777777777778,
              "#fb9f3a"
             ],
             [
              0.8888888888888888,
              "#fdca26"
             ],
             [
              1,
              "#f0f921"
             ]
            ],
            "type": "heatmapgl"
           }
          ],
          "histogram": [
           {
            "marker": {
             "pattern": {
              "fillmode": "overlay",
              "size": 10,
              "solidity": 0.2
             }
            },
            "type": "histogram"
           }
          ],
          "histogram2d": [
           {
            "colorbar": {
             "outlinewidth": 0,
             "ticks": ""
            },
            "colorscale": [
             [
              0,
              "#0d0887"
             ],
             [
              0.1111111111111111,
              "#46039f"
             ],
             [
              0.2222222222222222,
              "#7201a8"
             ],
             [
              0.3333333333333333,
              "#9c179e"
             ],
             [
              0.4444444444444444,
              "#bd3786"
             ],
             [
              0.5555555555555556,
              "#d8576b"
             ],
             [
              0.6666666666666666,
              "#ed7953"
             ],
             [
              0.7777777777777778,
              "#fb9f3a"
             ],
             [
              0.8888888888888888,
              "#fdca26"
             ],
             [
              1,
              "#f0f921"
             ]
            ],
            "type": "histogram2d"
           }
          ],
          "histogram2dcontour": [
           {
            "colorbar": {
             "outlinewidth": 0,
             "ticks": ""
            },
            "colorscale": [
             [
              0,
              "#0d0887"
             ],
             [
              0.1111111111111111,
              "#46039f"
             ],
             [
              0.2222222222222222,
              "#7201a8"
             ],
             [
              0.3333333333333333,
              "#9c179e"
             ],
             [
              0.4444444444444444,
              "#bd3786"
             ],
             [
              0.5555555555555556,
              "#d8576b"
             ],
             [
              0.6666666666666666,
              "#ed7953"
             ],
             [
              0.7777777777777778,
              "#fb9f3a"
             ],
             [
              0.8888888888888888,
              "#fdca26"
             ],
             [
              1,
              "#f0f921"
             ]
            ],
            "type": "histogram2dcontour"
           }
          ],
          "mesh3d": [
           {
            "colorbar": {
             "outlinewidth": 0,
             "ticks": ""
            },
            "type": "mesh3d"
           }
          ],
          "parcoords": [
           {
            "line": {
             "colorbar": {
              "outlinewidth": 0,
              "ticks": ""
             }
            },
            "type": "parcoords"
           }
          ],
          "pie": [
           {
            "automargin": true,
            "type": "pie"
           }
          ],
          "scatter": [
           {
            "fillpattern": {
             "fillmode": "overlay",
             "size": 10,
             "solidity": 0.2
            },
            "type": "scatter"
           }
          ],
          "scatter3d": [
           {
            "line": {
             "colorbar": {
              "outlinewidth": 0,
              "ticks": ""
             }
            },
            "marker": {
             "colorbar": {
              "outlinewidth": 0,
              "ticks": ""
             }
            },
            "type": "scatter3d"
           }
          ],
          "scattercarpet": [
           {
            "marker": {
             "colorbar": {
              "outlinewidth": 0,
              "ticks": ""
             }
            },
            "type": "scattercarpet"
           }
          ],
          "scattergeo": [
           {
            "marker": {
             "colorbar": {
              "outlinewidth": 0,
              "ticks": ""
             }
            },
            "type": "scattergeo"
           }
          ],
          "scattergl": [
           {
            "marker": {
             "colorbar": {
              "outlinewidth": 0,
              "ticks": ""
             }
            },
            "type": "scattergl"
           }
          ],
          "scattermapbox": [
           {
            "marker": {
             "colorbar": {
              "outlinewidth": 0,
              "ticks": ""
             }
            },
            "type": "scattermapbox"
           }
          ],
          "scatterpolar": [
           {
            "marker": {
             "colorbar": {
              "outlinewidth": 0,
              "ticks": ""
             }
            },
            "type": "scatterpolar"
           }
          ],
          "scatterpolargl": [
           {
            "marker": {
             "colorbar": {
              "outlinewidth": 0,
              "ticks": ""
             }
            },
            "type": "scatterpolargl"
           }
          ],
          "scatterternary": [
           {
            "marker": {
             "colorbar": {
              "outlinewidth": 0,
              "ticks": ""
             }
            },
            "type": "scatterternary"
           }
          ],
          "surface": [
           {
            "colorbar": {
             "outlinewidth": 0,
             "ticks": ""
            },
            "colorscale": [
             [
              0,
              "#0d0887"
             ],
             [
              0.1111111111111111,
              "#46039f"
             ],
             [
              0.2222222222222222,
              "#7201a8"
             ],
             [
              0.3333333333333333,
              "#9c179e"
             ],
             [
              0.4444444444444444,
              "#bd3786"
             ],
             [
              0.5555555555555556,
              "#d8576b"
             ],
             [
              0.6666666666666666,
              "#ed7953"
             ],
             [
              0.7777777777777778,
              "#fb9f3a"
             ],
             [
              0.8888888888888888,
              "#fdca26"
             ],
             [
              1,
              "#f0f921"
             ]
            ],
            "type": "surface"
           }
          ],
          "table": [
           {
            "cells": {
             "fill": {
              "color": "#EBF0F8"
             },
             "line": {
              "color": "white"
             }
            },
            "header": {
             "fill": {
              "color": "#C8D4E3"
             },
             "line": {
              "color": "white"
             }
            },
            "type": "table"
           }
          ]
         },
         "layout": {
          "annotationdefaults": {
           "arrowcolor": "#2a3f5f",
           "arrowhead": 0,
           "arrowwidth": 1
          },
          "autotypenumbers": "strict",
          "coloraxis": {
           "colorbar": {
            "outlinewidth": 0,
            "ticks": ""
           }
          },
          "colorscale": {
           "diverging": [
            [
             0,
             "#8e0152"
            ],
            [
             0.1,
             "#c51b7d"
            ],
            [
             0.2,
             "#de77ae"
            ],
            [
             0.3,
             "#f1b6da"
            ],
            [
             0.4,
             "#fde0ef"
            ],
            [
             0.5,
             "#f7f7f7"
            ],
            [
             0.6,
             "#e6f5d0"
            ],
            [
             0.7,
             "#b8e186"
            ],
            [
             0.8,
             "#7fbc41"
            ],
            [
             0.9,
             "#4d9221"
            ],
            [
             1,
             "#276419"
            ]
           ],
           "sequential": [
            [
             0,
             "#0d0887"
            ],
            [
             0.1111111111111111,
             "#46039f"
            ],
            [
             0.2222222222222222,
             "#7201a8"
            ],
            [
             0.3333333333333333,
             "#9c179e"
            ],
            [
             0.4444444444444444,
             "#bd3786"
            ],
            [
             0.5555555555555556,
             "#d8576b"
            ],
            [
             0.6666666666666666,
             "#ed7953"
            ],
            [
             0.7777777777777778,
             "#fb9f3a"
            ],
            [
             0.8888888888888888,
             "#fdca26"
            ],
            [
             1,
             "#f0f921"
            ]
           ],
           "sequentialminus": [
            [
             0,
             "#0d0887"
            ],
            [
             0.1111111111111111,
             "#46039f"
            ],
            [
             0.2222222222222222,
             "#7201a8"
            ],
            [
             0.3333333333333333,
             "#9c179e"
            ],
            [
             0.4444444444444444,
             "#bd3786"
            ],
            [
             0.5555555555555556,
             "#d8576b"
            ],
            [
             0.6666666666666666,
             "#ed7953"
            ],
            [
             0.7777777777777778,
             "#fb9f3a"
            ],
            [
             0.8888888888888888,
             "#fdca26"
            ],
            [
             1,
             "#f0f921"
            ]
           ]
          },
          "colorway": [
           "#636efa",
           "#EF553B",
           "#00cc96",
           "#ab63fa",
           "#FFA15A",
           "#19d3f3",
           "#FF6692",
           "#B6E880",
           "#FF97FF",
           "#FECB52"
          ],
          "font": {
           "color": "#2a3f5f"
          },
          "geo": {
           "bgcolor": "white",
           "lakecolor": "white",
           "landcolor": "#E5ECF6",
           "showlakes": true,
           "showland": true,
           "subunitcolor": "white"
          },
          "hoverlabel": {
           "align": "left"
          },
          "hovermode": "closest",
          "mapbox": {
           "style": "light"
          },
          "paper_bgcolor": "white",
          "plot_bgcolor": "#E5ECF6",
          "polar": {
           "angularaxis": {
            "gridcolor": "white",
            "linecolor": "white",
            "ticks": ""
           },
           "bgcolor": "#E5ECF6",
           "radialaxis": {
            "gridcolor": "white",
            "linecolor": "white",
            "ticks": ""
           }
          },
          "scene": {
           "xaxis": {
            "backgroundcolor": "#E5ECF6",
            "gridcolor": "white",
            "gridwidth": 2,
            "linecolor": "white",
            "showbackground": true,
            "ticks": "",
            "zerolinecolor": "white"
           },
           "yaxis": {
            "backgroundcolor": "#E5ECF6",
            "gridcolor": "white",
            "gridwidth": 2,
            "linecolor": "white",
            "showbackground": true,
            "ticks": "",
            "zerolinecolor": "white"
           },
           "zaxis": {
            "backgroundcolor": "#E5ECF6",
            "gridcolor": "white",
            "gridwidth": 2,
            "linecolor": "white",
            "showbackground": true,
            "ticks": "",
            "zerolinecolor": "white"
           }
          },
          "shapedefaults": {
           "line": {
            "color": "#2a3f5f"
           }
          },
          "ternary": {
           "aaxis": {
            "gridcolor": "white",
            "linecolor": "white",
            "ticks": ""
           },
           "baxis": {
            "gridcolor": "white",
            "linecolor": "white",
            "ticks": ""
           },
           "bgcolor": "#E5ECF6",
           "caxis": {
            "gridcolor": "white",
            "linecolor": "white",
            "ticks": ""
           }
          },
          "title": {
           "x": 0.05
          },
          "xaxis": {
           "automargin": true,
           "gridcolor": "white",
           "linecolor": "white",
           "ticks": "",
           "title": {
            "standoff": 15
           },
           "zerolinecolor": "white",
           "zerolinewidth": 2
          },
          "yaxis": {
           "automargin": true,
           "gridcolor": "white",
           "linecolor": "white",
           "ticks": "",
           "title": {
            "standoff": 15
           },
           "zerolinecolor": "white",
           "zerolinewidth": 2
          }
         }
        },
        "title": {
         "text": "Estimation de la likelihood par ML_SS"
        },
        "xaxis": {
         "title": {
          "text": "Theta"
         }
        },
        "yaxis": {
         "title": {
          "text": "Gradient"
         }
        }
       }
      }
     },
     "metadata": {},
     "output_type": "display_data"
    }
   ],
   "source": [
    "Code.plot_gradient(0.6, x, noised_A, noised_b, theta_true, 15, 'ML_SS')"
   ]
  },
  {
   "cell_type": "markdown",
   "metadata": {},
   "source": [
    "#### <span style=\"color:red\">  **1.1.2 Estimateur ML-RR**  </span>"
   ]
  },
  {
   "cell_type": "code",
   "execution_count": 9,
   "metadata": {},
   "outputs": [
    {
     "name": "stderr",
     "output_type": "stream",
     "text": [
      "Progression: 100%|██████████| 60/60 [00:14<00:00,  4.28it/s]\n"
     ]
    },
    {
     "data": {
      "application/vnd.plotly.v1+json": {
       "config": {
        "plotlyServerURL": "https://plot.ly"
       },
       "data": [
        {
         "line": {
          "color": "blue"
         },
         "mode": "lines",
         "name": "Vraisemblance réelle (avec theta_true)",
         "type": "scatter",
         "x": [
          -2.9388223082554052,
          -2.7693307828316764,
          -2.5998392574079476,
          -2.430347731984219,
          -2.26085620656049,
          -2.091364681136761,
          -1.9218731557130324,
          -1.7523816302893036,
          -1.5828901048655748,
          -1.413398579441846,
          -1.2439070540181172,
          -1.0744155285943884,
          -0.9049240031706596,
          -0.7354324777469308,
          -0.565940952323202,
          -0.39644942689947316,
          -0.22695790147574435,
          -0.057466376052015544,
          0.11202514937171326,
          0.28151667479544207,
          0.4510082002191709,
          0.6204997256428997,
          0.7899912510666285,
          0.9594827764903573,
          1.128974301914086,
          1.2984658273378145,
          1.4679573527615437,
          1.637448878185273,
          1.8069404036090013,
          1.9764319290327297,
          2.145923454456459,
          2.315414979880188,
          2.4849065053039165,
          2.654398030727645,
          2.823889556151374,
          2.9933810815751034,
          3.1628726069988318,
          3.33236413242256,
          3.5018556578462894,
          3.6713471832700186,
          3.840838708693747,
          4.010330234117475,
          4.179821759541205,
          4.349313284964934,
          4.518804810388662,
          4.688296335812391,
          4.85778786123612,
          5.027279386659849,
          5.196770912083577,
          5.366262437507306,
          5.535753962931034,
          5.705245488354764,
          5.874737013778493,
          6.044228539202221,
          6.213720064625951,
          6.3832115900496795,
          6.552703115473408,
          6.722194640897136,
          6.891686166320865,
          7.061177691744595
         ],
         "y": [
          -152.99269754297242,
          -144.63895362400115,
          -136.57248347693448,
          -128.79328710177245,
          -121.30136449851506,
          -114.09671566716226,
          -107.17934060771411,
          -100.54923932017059,
          -94.20641180453167,
          -88.15085806079739,
          -82.38257808896776,
          -76.90157188904271,
          -71.70783946102232,
          -66.80138080490653,
          -62.182195920695364,
          -57.85028480838884,
          -53.80564746798694,
          -50.048283899489654,
          -46.57819410289701,
          -43.39537807820897,
          -40.49983582542556,
          -37.89156734454679,
          -35.57057263557264,
          -33.536851698503106,
          -31.790404533338204,
          -30.33123114007793,
          -29.159331518722272,
          -28.27470566927124,
          -27.677353591724835,
          -27.36727528608306,
          -27.344470752345906,
          -27.608939990513377,
          -28.160683000585475,
          -28.999699782562192,
          -30.125990336443543,
          -31.539554662229516,
          -33.24039275992011,
          -35.228504629515335,
          -37.50389027101518,
          -40.06654968441966,
          -42.91648286972875,
          -46.05368982694247,
          -49.478170556060824,
          -53.189925057083805,
          -57.18895333001139,
          -61.4752553748436,
          -66.04883119158046,
          -70.90968078022195,
          -76.05780414076803,
          -81.49320127321874,
          -87.21587217757407,
          -93.2258168538341,
          -99.52303530199869,
          -106.10752752206788,
          -112.97929351404179,
          -120.13833327792025,
          -127.5846468137033,
          -135.31823412139101,
          -143.33909520098337,
          -151.6472300524804
         ]
        },
        {
         "marker": {
          "color": "red",
          "symbol": "cross"
         },
         "mode": "markers",
         "name": "ML_RR",
         "type": "scatter",
         "x": [
          -2.9388223082554052,
          -2.7693307828316764,
          -2.5998392574079476,
          -2.430347731984219,
          -2.26085620656049,
          -2.091364681136761,
          -1.9218731557130324,
          -1.7523816302893036,
          -1.5828901048655748,
          -1.413398579441846,
          -1.2439070540181172,
          -1.0744155285943884,
          -0.9049240031706596,
          -0.7354324777469308,
          -0.565940952323202,
          -0.39644942689947316,
          -0.22695790147574435,
          -0.057466376052015544,
          0.11202514937171326,
          0.28151667479544207,
          0.4510082002191709,
          0.6204997256428997,
          0.7899912510666285,
          0.9594827764903573,
          1.128974301914086,
          1.2984658273378145,
          1.4679573527615437,
          1.637448878185273,
          1.8069404036090013,
          1.9764319290327297,
          2.145923454456459,
          2.315414979880188,
          2.4849065053039165,
          2.654398030727645,
          2.823889556151374,
          2.9933810815751034,
          3.1628726069988318,
          3.33236413242256,
          3.5018556578462894,
          3.6713471832700186,
          3.840838708693747,
          4.010330234117475,
          4.179821759541205,
          4.349313284964934,
          4.518804810388662,
          4.688296335812391,
          4.85778786123612,
          5.027279386659849,
          5.196770912083577,
          5.366262437507306,
          5.535753962931034,
          5.705245488354764,
          5.874737013778493,
          6.044228539202221,
          6.213720064625951,
          6.3832115900496795,
          6.552703115473408,
          6.722194640897136,
          6.891686166320865,
          7.061177691744595
         ],
         "y": [
          -246.420770576959,
          -216.00514375790064,
          -127.69392724340742,
          -186.8325087663041,
          -196.76754265524252,
          -171.96702954926877,
          -127.38881572193571,
          -160.26892051527292,
          -143.96410050299866,
          -125.78236291778322,
          -120.369430347016,
          -113.06331763355202,
          -98.91872737751358,
          -46.51488129187933,
          -80.45822681630237,
          -82.42824646052647,
          -54.13773624728545,
          -56.13899212619005,
          -48.8401361329908,
          -50.56685048120654,
          -48.55233496491302,
          -34.39647754162233,
          -39.24254047342606,
          -40.24180338246113,
          -38.165295069738356,
          -36.50547988817276,
          -35.64373232114512,
          -35.38162403249851,
          -34.126698345640605,
          -33.60599647128747,
          -34.19681898449867,
          -34.136568126736314,
          -33.944084937476234,
          -35.119872254921546,
          -36.525670417719375,
          -36.241113280902816,
          -40.86212468684924,
          -47.557796672377826,
          -46.590523170271474,
          -53.16634604662102,
          -51.2308694023747,
          -49.25647808618999,
          -60.53970960127537,
          -10.259121867001166,
          -69.78608471760252,
          -84.73543528045073,
          -95.77169180851271,
          -97.04169660786138,
          -103.8707071803128,
          -122.65868560539586,
          -132.51063018298473,
          -131.377039583224,
          566.3511048020882,
          -72.38265159040854,
          579.9746385543356,
          -157.91453172687125,
          -197.2448363233769,
          -229.55339521714868,
          -215.70486319063303,
          -254.71877615768875
         ]
        }
       ],
       "layout": {
        "grid": {
         "columns": 1,
         "rows": 1
        },
        "legend": {
         "font": {
          "size": 10
         }
        },
        "shapes": [
         {
          "line": {
           "color": "black",
           "dash": "dash"
          },
          "name": "Theta=2.0611776917445948",
          "type": "line",
          "x0": 2.0611776917445948,
          "x1": 2.0611776917445948,
          "y0": -300,
          "y1": 500
         }
        ],
        "showlegend": true,
        "template": {
         "data": {
          "bar": [
           {
            "error_x": {
             "color": "#2a3f5f"
            },
            "error_y": {
             "color": "#2a3f5f"
            },
            "marker": {
             "line": {
              "color": "#E5ECF6",
              "width": 0.5
             },
             "pattern": {
              "fillmode": "overlay",
              "size": 10,
              "solidity": 0.2
             }
            },
            "type": "bar"
           }
          ],
          "barpolar": [
           {
            "marker": {
             "line": {
              "color": "#E5ECF6",
              "width": 0.5
             },
             "pattern": {
              "fillmode": "overlay",
              "size": 10,
              "solidity": 0.2
             }
            },
            "type": "barpolar"
           }
          ],
          "carpet": [
           {
            "aaxis": {
             "endlinecolor": "#2a3f5f",
             "gridcolor": "white",
             "linecolor": "white",
             "minorgridcolor": "white",
             "startlinecolor": "#2a3f5f"
            },
            "baxis": {
             "endlinecolor": "#2a3f5f",
             "gridcolor": "white",
             "linecolor": "white",
             "minorgridcolor": "white",
             "startlinecolor": "#2a3f5f"
            },
            "type": "carpet"
           }
          ],
          "choropleth": [
           {
            "colorbar": {
             "outlinewidth": 0,
             "ticks": ""
            },
            "type": "choropleth"
           }
          ],
          "contour": [
           {
            "colorbar": {
             "outlinewidth": 0,
             "ticks": ""
            },
            "colorscale": [
             [
              0,
              "#0d0887"
             ],
             [
              0.1111111111111111,
              "#46039f"
             ],
             [
              0.2222222222222222,
              "#7201a8"
             ],
             [
              0.3333333333333333,
              "#9c179e"
             ],
             [
              0.4444444444444444,
              "#bd3786"
             ],
             [
              0.5555555555555556,
              "#d8576b"
             ],
             [
              0.6666666666666666,
              "#ed7953"
             ],
             [
              0.7777777777777778,
              "#fb9f3a"
             ],
             [
              0.8888888888888888,
              "#fdca26"
             ],
             [
              1,
              "#f0f921"
             ]
            ],
            "type": "contour"
           }
          ],
          "contourcarpet": [
           {
            "colorbar": {
             "outlinewidth": 0,
             "ticks": ""
            },
            "type": "contourcarpet"
           }
          ],
          "heatmap": [
           {
            "colorbar": {
             "outlinewidth": 0,
             "ticks": ""
            },
            "colorscale": [
             [
              0,
              "#0d0887"
             ],
             [
              0.1111111111111111,
              "#46039f"
             ],
             [
              0.2222222222222222,
              "#7201a8"
             ],
             [
              0.3333333333333333,
              "#9c179e"
             ],
             [
              0.4444444444444444,
              "#bd3786"
             ],
             [
              0.5555555555555556,
              "#d8576b"
             ],
             [
              0.6666666666666666,
              "#ed7953"
             ],
             [
              0.7777777777777778,
              "#fb9f3a"
             ],
             [
              0.8888888888888888,
              "#fdca26"
             ],
             [
              1,
              "#f0f921"
             ]
            ],
            "type": "heatmap"
           }
          ],
          "heatmapgl": [
           {
            "colorbar": {
             "outlinewidth": 0,
             "ticks": ""
            },
            "colorscale": [
             [
              0,
              "#0d0887"
             ],
             [
              0.1111111111111111,
              "#46039f"
             ],
             [
              0.2222222222222222,
              "#7201a8"
             ],
             [
              0.3333333333333333,
              "#9c179e"
             ],
             [
              0.4444444444444444,
              "#bd3786"
             ],
             [
              0.5555555555555556,
              "#d8576b"
             ],
             [
              0.6666666666666666,
              "#ed7953"
             ],
             [
              0.7777777777777778,
              "#fb9f3a"
             ],
             [
              0.8888888888888888,
              "#fdca26"
             ],
             [
              1,
              "#f0f921"
             ]
            ],
            "type": "heatmapgl"
           }
          ],
          "histogram": [
           {
            "marker": {
             "pattern": {
              "fillmode": "overlay",
              "size": 10,
              "solidity": 0.2
             }
            },
            "type": "histogram"
           }
          ],
          "histogram2d": [
           {
            "colorbar": {
             "outlinewidth": 0,
             "ticks": ""
            },
            "colorscale": [
             [
              0,
              "#0d0887"
             ],
             [
              0.1111111111111111,
              "#46039f"
             ],
             [
              0.2222222222222222,
              "#7201a8"
             ],
             [
              0.3333333333333333,
              "#9c179e"
             ],
             [
              0.4444444444444444,
              "#bd3786"
             ],
             [
              0.5555555555555556,
              "#d8576b"
             ],
             [
              0.6666666666666666,
              "#ed7953"
             ],
             [
              0.7777777777777778,
              "#fb9f3a"
             ],
             [
              0.8888888888888888,
              "#fdca26"
             ],
             [
              1,
              "#f0f921"
             ]
            ],
            "type": "histogram2d"
           }
          ],
          "histogram2dcontour": [
           {
            "colorbar": {
             "outlinewidth": 0,
             "ticks": ""
            },
            "colorscale": [
             [
              0,
              "#0d0887"
             ],
             [
              0.1111111111111111,
              "#46039f"
             ],
             [
              0.2222222222222222,
              "#7201a8"
             ],
             [
              0.3333333333333333,
              "#9c179e"
             ],
             [
              0.4444444444444444,
              "#bd3786"
             ],
             [
              0.5555555555555556,
              "#d8576b"
             ],
             [
              0.6666666666666666,
              "#ed7953"
             ],
             [
              0.7777777777777778,
              "#fb9f3a"
             ],
             [
              0.8888888888888888,
              "#fdca26"
             ],
             [
              1,
              "#f0f921"
             ]
            ],
            "type": "histogram2dcontour"
           }
          ],
          "mesh3d": [
           {
            "colorbar": {
             "outlinewidth": 0,
             "ticks": ""
            },
            "type": "mesh3d"
           }
          ],
          "parcoords": [
           {
            "line": {
             "colorbar": {
              "outlinewidth": 0,
              "ticks": ""
             }
            },
            "type": "parcoords"
           }
          ],
          "pie": [
           {
            "automargin": true,
            "type": "pie"
           }
          ],
          "scatter": [
           {
            "fillpattern": {
             "fillmode": "overlay",
             "size": 10,
             "solidity": 0.2
            },
            "type": "scatter"
           }
          ],
          "scatter3d": [
           {
            "line": {
             "colorbar": {
              "outlinewidth": 0,
              "ticks": ""
             }
            },
            "marker": {
             "colorbar": {
              "outlinewidth": 0,
              "ticks": ""
             }
            },
            "type": "scatter3d"
           }
          ],
          "scattercarpet": [
           {
            "marker": {
             "colorbar": {
              "outlinewidth": 0,
              "ticks": ""
             }
            },
            "type": "scattercarpet"
           }
          ],
          "scattergeo": [
           {
            "marker": {
             "colorbar": {
              "outlinewidth": 0,
              "ticks": ""
             }
            },
            "type": "scattergeo"
           }
          ],
          "scattergl": [
           {
            "marker": {
             "colorbar": {
              "outlinewidth": 0,
              "ticks": ""
             }
            },
            "type": "scattergl"
           }
          ],
          "scattermapbox": [
           {
            "marker": {
             "colorbar": {
              "outlinewidth": 0,
              "ticks": ""
             }
            },
            "type": "scattermapbox"
           }
          ],
          "scatterpolar": [
           {
            "marker": {
             "colorbar": {
              "outlinewidth": 0,
              "ticks": ""
             }
            },
            "type": "scatterpolar"
           }
          ],
          "scatterpolargl": [
           {
            "marker": {
             "colorbar": {
              "outlinewidth": 0,
              "ticks": ""
             }
            },
            "type": "scatterpolargl"
           }
          ],
          "scatterternary": [
           {
            "marker": {
             "colorbar": {
              "outlinewidth": 0,
              "ticks": ""
             }
            },
            "type": "scatterternary"
           }
          ],
          "surface": [
           {
            "colorbar": {
             "outlinewidth": 0,
             "ticks": ""
            },
            "colorscale": [
             [
              0,
              "#0d0887"
             ],
             [
              0.1111111111111111,
              "#46039f"
             ],
             [
              0.2222222222222222,
              "#7201a8"
             ],
             [
              0.3333333333333333,
              "#9c179e"
             ],
             [
              0.4444444444444444,
              "#bd3786"
             ],
             [
              0.5555555555555556,
              "#d8576b"
             ],
             [
              0.6666666666666666,
              "#ed7953"
             ],
             [
              0.7777777777777778,
              "#fb9f3a"
             ],
             [
              0.8888888888888888,
              "#fdca26"
             ],
             [
              1,
              "#f0f921"
             ]
            ],
            "type": "surface"
           }
          ],
          "table": [
           {
            "cells": {
             "fill": {
              "color": "#EBF0F8"
             },
             "line": {
              "color": "white"
             }
            },
            "header": {
             "fill": {
              "color": "#C8D4E3"
             },
             "line": {
              "color": "white"
             }
            },
            "type": "table"
           }
          ]
         },
         "layout": {
          "annotationdefaults": {
           "arrowcolor": "#2a3f5f",
           "arrowhead": 0,
           "arrowwidth": 1
          },
          "autotypenumbers": "strict",
          "coloraxis": {
           "colorbar": {
            "outlinewidth": 0,
            "ticks": ""
           }
          },
          "colorscale": {
           "diverging": [
            [
             0,
             "#8e0152"
            ],
            [
             0.1,
             "#c51b7d"
            ],
            [
             0.2,
             "#de77ae"
            ],
            [
             0.3,
             "#f1b6da"
            ],
            [
             0.4,
             "#fde0ef"
            ],
            [
             0.5,
             "#f7f7f7"
            ],
            [
             0.6,
             "#e6f5d0"
            ],
            [
             0.7,
             "#b8e186"
            ],
            [
             0.8,
             "#7fbc41"
            ],
            [
             0.9,
             "#4d9221"
            ],
            [
             1,
             "#276419"
            ]
           ],
           "sequential": [
            [
             0,
             "#0d0887"
            ],
            [
             0.1111111111111111,
             "#46039f"
            ],
            [
             0.2222222222222222,
             "#7201a8"
            ],
            [
             0.3333333333333333,
             "#9c179e"
            ],
            [
             0.4444444444444444,
             "#bd3786"
            ],
            [
             0.5555555555555556,
             "#d8576b"
            ],
            [
             0.6666666666666666,
             "#ed7953"
            ],
            [
             0.7777777777777778,
             "#fb9f3a"
            ],
            [
             0.8888888888888888,
             "#fdca26"
            ],
            [
             1,
             "#f0f921"
            ]
           ],
           "sequentialminus": [
            [
             0,
             "#0d0887"
            ],
            [
             0.1111111111111111,
             "#46039f"
            ],
            [
             0.2222222222222222,
             "#7201a8"
            ],
            [
             0.3333333333333333,
             "#9c179e"
            ],
            [
             0.4444444444444444,
             "#bd3786"
            ],
            [
             0.5555555555555556,
             "#d8576b"
            ],
            [
             0.6666666666666666,
             "#ed7953"
            ],
            [
             0.7777777777777778,
             "#fb9f3a"
            ],
            [
             0.8888888888888888,
             "#fdca26"
            ],
            [
             1,
             "#f0f921"
            ]
           ]
          },
          "colorway": [
           "#636efa",
           "#EF553B",
           "#00cc96",
           "#ab63fa",
           "#FFA15A",
           "#19d3f3",
           "#FF6692",
           "#B6E880",
           "#FF97FF",
           "#FECB52"
          ],
          "font": {
           "color": "#2a3f5f"
          },
          "geo": {
           "bgcolor": "white",
           "lakecolor": "white",
           "landcolor": "#E5ECF6",
           "showlakes": true,
           "showland": true,
           "subunitcolor": "white"
          },
          "hoverlabel": {
           "align": "left"
          },
          "hovermode": "closest",
          "mapbox": {
           "style": "light"
          },
          "paper_bgcolor": "white",
          "plot_bgcolor": "#E5ECF6",
          "polar": {
           "angularaxis": {
            "gridcolor": "white",
            "linecolor": "white",
            "ticks": ""
           },
           "bgcolor": "#E5ECF6",
           "radialaxis": {
            "gridcolor": "white",
            "linecolor": "white",
            "ticks": ""
           }
          },
          "scene": {
           "xaxis": {
            "backgroundcolor": "#E5ECF6",
            "gridcolor": "white",
            "gridwidth": 2,
            "linecolor": "white",
            "showbackground": true,
            "ticks": "",
            "zerolinecolor": "white"
           },
           "yaxis": {
            "backgroundcolor": "#E5ECF6",
            "gridcolor": "white",
            "gridwidth": 2,
            "linecolor": "white",
            "showbackground": true,
            "ticks": "",
            "zerolinecolor": "white"
           },
           "zaxis": {
            "backgroundcolor": "#E5ECF6",
            "gridcolor": "white",
            "gridwidth": 2,
            "linecolor": "white",
            "showbackground": true,
            "ticks": "",
            "zerolinecolor": "white"
           }
          },
          "shapedefaults": {
           "line": {
            "color": "#2a3f5f"
           }
          },
          "ternary": {
           "aaxis": {
            "gridcolor": "white",
            "linecolor": "white",
            "ticks": ""
           },
           "baxis": {
            "gridcolor": "white",
            "linecolor": "white",
            "ticks": ""
           },
           "bgcolor": "#E5ECF6",
           "caxis": {
            "gridcolor": "white",
            "linecolor": "white",
            "ticks": ""
           }
          },
          "title": {
           "x": 0.05
          },
          "xaxis": {
           "automargin": true,
           "gridcolor": "white",
           "linecolor": "white",
           "ticks": "",
           "title": {
            "standoff": 15
           },
           "zerolinecolor": "white",
           "zerolinewidth": 2
          },
          "yaxis": {
           "automargin": true,
           "gridcolor": "white",
           "linecolor": "white",
           "ticks": "",
           "title": {
            "standoff": 15
           },
           "zerolinecolor": "white",
           "zerolinewidth": 2
          }
         }
        },
        "title": {
         "text": "Estimation de la vraisemblance par ML_RR"
        },
        "xaxis": {
         "tickfont": {
          "size": 12
         },
         "title": {
          "text": "Theta"
         }
        },
        "yaxis": {
         "range": [
          -300,
          500
         ],
         "tickfont": {
          "size": 12
         },
         "title": {
          "text": "Vraisemblance"
         }
        }
       }
      }
     },
     "metadata": {},
     "output_type": "display_data"
    }
   ],
   "source": [
    "n_simulations = 15\n",
    "r = 0.6\n",
    "\n",
    "Code.plot_likelihood(r, x, noised_A, noised_b, theta_true, n_simulations, \"ML_RR\")"
   ]
  },
  {
   "cell_type": "code",
   "execution_count": 10,
   "metadata": {},
   "outputs": [
    {
     "data": {
      "application/vnd.plotly.v1+json": {
       "config": {
        "plotlyServerURL": "https://plot.ly"
       },
       "data": [
        {
         "line": {
          "color": "red"
         },
         "mode": "lines",
         "name": "True Gradient",
         "type": "scatter",
         "x": [
          -2.9388223082554052,
          -2.7693307828316764,
          -2.5998392574079476,
          -2.430347731984219,
          -2.26085620656049,
          -2.091364681136761,
          -1.9218731557130324,
          -1.7523816302893036,
          -1.5828901048655748,
          -1.413398579441846,
          -1.2439070540181172,
          -1.0744155285943884,
          -0.9049240031706596,
          -0.7354324777469308,
          -0.565940952323202,
          -0.39644942689947316,
          -0.22695790147574435,
          -0.057466376052015544,
          0.11202514937171326,
          0.28151667479544207,
          0.4510082002191709,
          0.6204997256428997,
          0.7899912510666285,
          0.9594827764903573,
          1.128974301914086,
          1.2984658273378145,
          1.4679573527615437,
          1.637448878185273,
          1.8069404036090013,
          1.9764319290327297,
          2.145923454456459,
          2.315414979880188,
          2.4849065053039165,
          2.654398030727645,
          2.823889556151374,
          2.9933810815751034,
          3.1628726069988318,
          3.33236413242256,
          3.5018556578462894,
          3.6713471832700186,
          3.840838708693747,
          4.010330234117475,
          4.179821759541205,
          4.349313284964934,
          4.518804810388662,
          4.688296335812391,
          4.85778786123612,
          5.027279386659849,
          5.196770912083577,
          5.366262437507306,
          5.535753962931034,
          5.705245488354764,
          5.874737013778493,
          6.044228539202221,
          6.213720064625951,
          6.3832115900496795,
          6.552703115473408,
          6.722194640897136,
          6.891686166320865,
          7.061177691744595
         ],
         "y": [
          -2.5067273374524603,
          -2.4219815747405957,
          -2.337235812028731,
          -2.252490049316867,
          -2.1677442866050027,
          -2.082998523893138,
          -1.9982527611812737,
          -1.9135069984694093,
          -1.828761235757545,
          -1.7440154730456805,
          -1.659269710333816,
          -1.5745239476219517,
          -1.4897781849100873,
          -1.4050324221982229,
          -1.3202866594863585,
          -1.235540896774494,
          -1.1507951340626297,
          -1.0660493713507653,
          -0.9813036086389009,
          -0.8965578459270365,
          -0.8118120832151721,
          -0.7270663205033077,
          -0.6423205577914433,
          -0.5575747950795789,
          -0.47282903236771445,
          -0.38808326965585027,
          -0.30333750694398565,
          -0.21859174423212102,
          -0.13384598152025684,
          -0.04910021880839266,
          0.035645543903471966,
          0.12039130661533659,
          0.20513706932720077,
          0.28988283203906495,
          0.3746285947509296,
          0.4593743574627942,
          0.5441201201746584,
          0.6288658828865226,
          0.7136116455983872,
          0.7983574083102518,
          0.883103171022116,
          0.9678489337339802,
          1.0525946964458448,
          1.1373404591577094,
          1.2220862218695736,
          1.3068319845814378,
          1.3915777472933024,
          1.476323510005167,
          1.5610692727170312,
          1.6458150354288954,
          1.7305607981407596,
          1.8153065608526247,
          1.9000523235644888,
          1.984798086276353,
          2.069543848988218,
          2.154289611700082,
          2.239035374411946,
          2.3237811371238104,
          2.4085268998356746,
          2.4932726625475397
         ]
        },
        {
         "marker": {
          "color": "purple",
          "symbol": "x"
         },
         "mode": "markers",
         "name": "ML_RR",
         "type": "scatter",
         "x": [
          -2.9388223082554052,
          -2.7693307828316764,
          -2.5998392574079476,
          -2.430347731984219,
          -2.26085620656049,
          -2.091364681136761,
          -1.9218731557130324,
          -1.7523816302893036,
          -1.5828901048655748,
          -1.413398579441846,
          -1.2439070540181172,
          -1.0744155285943884,
          -0.9049240031706596,
          -0.7354324777469308,
          -0.565940952323202,
          -0.39644942689947316,
          -0.22695790147574435,
          -0.057466376052015544,
          0.11202514937171326,
          0.28151667479544207,
          0.4510082002191709,
          0.6204997256428997,
          0.7899912510666285,
          0.9594827764903573,
          1.128974301914086,
          1.2984658273378145,
          1.4679573527615437,
          1.637448878185273,
          1.8069404036090013,
          1.9764319290327297,
          2.145923454456459,
          2.315414979880188,
          2.4849065053039165,
          2.654398030727645,
          2.823889556151374,
          2.9933810815751034,
          3.1628726069988318,
          3.33236413242256,
          3.5018556578462894,
          3.6713471832700186,
          3.840838708693747,
          4.010330234117475,
          4.179821759541205,
          4.349313284964934,
          4.518804810388662,
          4.688296335812391,
          4.85778786123612,
          5.027279386659849,
          5.196770912083577,
          5.366262437507306,
          5.535753962931034,
          5.705245488354764,
          5.874737013778493,
          6.044228539202221,
          6.213720064625951,
          6.3832115900496795,
          6.552703115473408,
          6.722194640897136,
          6.891686166320865,
          7.061177691744595
         ],
         "y": [
          83.19938346584837,
          90.81223583460317,
          -23.614499274940954,
          -72.44949557489272,
          50.53993047329644,
          3.661473098795966,
          -33.54197225109556,
          0.3620736612673454,
          21.21826880389662,
          -7.274838268970939,
          36.70283280246014,
          141.27083963358027,
          11.111814544476175,
          -117.75960579713191,
          -78.79775957912275,
          105.57438220352492,
          20.114577125070554,
          -97.89496130811528,
          -0.15630214116922048,
          -13.1974319488817,
          2.930959017541994,
          109.097879568694,
          31.718607655070173,
          -96.20283469079624,
          20.52938100105689,
          50.50467525511115,
          -44.008054058914325,
          3.029245806271348,
          -33.006967625852354,
          -88.26102509577797,
          56.38678538906785,
          17.607546617300642,
          115.95420376422786,
          44.20838181623364,
          -158.20107886539762,
          -35.13164851455238,
          5.752060006719688,
          52.98752913879423,
          4.552643836566858,
          -46.51302308939819,
          -2.053850276868843,
          -23.9671985278448,
          11.257333811445363,
          36.27505641628244,
          7.169266133112018,
          -11.322037238191797,
          73.83476340411787,
          -18.790361981013206,
          -65.25516104047725,
          239.90060475390135,
          -34.27629606856536,
          -241.40588993495834,
          -27.787911239842288,
          12.245058610343506,
          9.792273169327245,
          2.227465084321807,
          -12.453920121925137,
          10.978756248576389,
          13.36242306061365,
          -58.3976171805161
         ]
        }
       ],
       "layout": {
        "legend": {
         "font": {
          "size": 12
         },
         "traceorder": "normal",
         "x": 0,
         "y": 1
        },
        "shapes": [
         {
          "line": {
           "color": "black",
           "dash": "dash",
           "width": 2
          },
          "name": "theta=2.0611776917445948",
          "type": "line",
          "x0": 2.0611776917445948,
          "x1": 2.0611776917445948,
          "y0": -241.40588993495834,
          "y1": 239.90060475390135
         }
        ],
        "showlegend": true,
        "template": {
         "data": {
          "bar": [
           {
            "error_x": {
             "color": "#2a3f5f"
            },
            "error_y": {
             "color": "#2a3f5f"
            },
            "marker": {
             "line": {
              "color": "#E5ECF6",
              "width": 0.5
             },
             "pattern": {
              "fillmode": "overlay",
              "size": 10,
              "solidity": 0.2
             }
            },
            "type": "bar"
           }
          ],
          "barpolar": [
           {
            "marker": {
             "line": {
              "color": "#E5ECF6",
              "width": 0.5
             },
             "pattern": {
              "fillmode": "overlay",
              "size": 10,
              "solidity": 0.2
             }
            },
            "type": "barpolar"
           }
          ],
          "carpet": [
           {
            "aaxis": {
             "endlinecolor": "#2a3f5f",
             "gridcolor": "white",
             "linecolor": "white",
             "minorgridcolor": "white",
             "startlinecolor": "#2a3f5f"
            },
            "baxis": {
             "endlinecolor": "#2a3f5f",
             "gridcolor": "white",
             "linecolor": "white",
             "minorgridcolor": "white",
             "startlinecolor": "#2a3f5f"
            },
            "type": "carpet"
           }
          ],
          "choropleth": [
           {
            "colorbar": {
             "outlinewidth": 0,
             "ticks": ""
            },
            "type": "choropleth"
           }
          ],
          "contour": [
           {
            "colorbar": {
             "outlinewidth": 0,
             "ticks": ""
            },
            "colorscale": [
             [
              0,
              "#0d0887"
             ],
             [
              0.1111111111111111,
              "#46039f"
             ],
             [
              0.2222222222222222,
              "#7201a8"
             ],
             [
              0.3333333333333333,
              "#9c179e"
             ],
             [
              0.4444444444444444,
              "#bd3786"
             ],
             [
              0.5555555555555556,
              "#d8576b"
             ],
             [
              0.6666666666666666,
              "#ed7953"
             ],
             [
              0.7777777777777778,
              "#fb9f3a"
             ],
             [
              0.8888888888888888,
              "#fdca26"
             ],
             [
              1,
              "#f0f921"
             ]
            ],
            "type": "contour"
           }
          ],
          "contourcarpet": [
           {
            "colorbar": {
             "outlinewidth": 0,
             "ticks": ""
            },
            "type": "contourcarpet"
           }
          ],
          "heatmap": [
           {
            "colorbar": {
             "outlinewidth": 0,
             "ticks": ""
            },
            "colorscale": [
             [
              0,
              "#0d0887"
             ],
             [
              0.1111111111111111,
              "#46039f"
             ],
             [
              0.2222222222222222,
              "#7201a8"
             ],
             [
              0.3333333333333333,
              "#9c179e"
             ],
             [
              0.4444444444444444,
              "#bd3786"
             ],
             [
              0.5555555555555556,
              "#d8576b"
             ],
             [
              0.6666666666666666,
              "#ed7953"
             ],
             [
              0.7777777777777778,
              "#fb9f3a"
             ],
             [
              0.8888888888888888,
              "#fdca26"
             ],
             [
              1,
              "#f0f921"
             ]
            ],
            "type": "heatmap"
           }
          ],
          "heatmapgl": [
           {
            "colorbar": {
             "outlinewidth": 0,
             "ticks": ""
            },
            "colorscale": [
             [
              0,
              "#0d0887"
             ],
             [
              0.1111111111111111,
              "#46039f"
             ],
             [
              0.2222222222222222,
              "#7201a8"
             ],
             [
              0.3333333333333333,
              "#9c179e"
             ],
             [
              0.4444444444444444,
              "#bd3786"
             ],
             [
              0.5555555555555556,
              "#d8576b"
             ],
             [
              0.6666666666666666,
              "#ed7953"
             ],
             [
              0.7777777777777778,
              "#fb9f3a"
             ],
             [
              0.8888888888888888,
              "#fdca26"
             ],
             [
              1,
              "#f0f921"
             ]
            ],
            "type": "heatmapgl"
           }
          ],
          "histogram": [
           {
            "marker": {
             "pattern": {
              "fillmode": "overlay",
              "size": 10,
              "solidity": 0.2
             }
            },
            "type": "histogram"
           }
          ],
          "histogram2d": [
           {
            "colorbar": {
             "outlinewidth": 0,
             "ticks": ""
            },
            "colorscale": [
             [
              0,
              "#0d0887"
             ],
             [
              0.1111111111111111,
              "#46039f"
             ],
             [
              0.2222222222222222,
              "#7201a8"
             ],
             [
              0.3333333333333333,
              "#9c179e"
             ],
             [
              0.4444444444444444,
              "#bd3786"
             ],
             [
              0.5555555555555556,
              "#d8576b"
             ],
             [
              0.6666666666666666,
              "#ed7953"
             ],
             [
              0.7777777777777778,
              "#fb9f3a"
             ],
             [
              0.8888888888888888,
              "#fdca26"
             ],
             [
              1,
              "#f0f921"
             ]
            ],
            "type": "histogram2d"
           }
          ],
          "histogram2dcontour": [
           {
            "colorbar": {
             "outlinewidth": 0,
             "ticks": ""
            },
            "colorscale": [
             [
              0,
              "#0d0887"
             ],
             [
              0.1111111111111111,
              "#46039f"
             ],
             [
              0.2222222222222222,
              "#7201a8"
             ],
             [
              0.3333333333333333,
              "#9c179e"
             ],
             [
              0.4444444444444444,
              "#bd3786"
             ],
             [
              0.5555555555555556,
              "#d8576b"
             ],
             [
              0.6666666666666666,
              "#ed7953"
             ],
             [
              0.7777777777777778,
              "#fb9f3a"
             ],
             [
              0.8888888888888888,
              "#fdca26"
             ],
             [
              1,
              "#f0f921"
             ]
            ],
            "type": "histogram2dcontour"
           }
          ],
          "mesh3d": [
           {
            "colorbar": {
             "outlinewidth": 0,
             "ticks": ""
            },
            "type": "mesh3d"
           }
          ],
          "parcoords": [
           {
            "line": {
             "colorbar": {
              "outlinewidth": 0,
              "ticks": ""
             }
            },
            "type": "parcoords"
           }
          ],
          "pie": [
           {
            "automargin": true,
            "type": "pie"
           }
          ],
          "scatter": [
           {
            "fillpattern": {
             "fillmode": "overlay",
             "size": 10,
             "solidity": 0.2
            },
            "type": "scatter"
           }
          ],
          "scatter3d": [
           {
            "line": {
             "colorbar": {
              "outlinewidth": 0,
              "ticks": ""
             }
            },
            "marker": {
             "colorbar": {
              "outlinewidth": 0,
              "ticks": ""
             }
            },
            "type": "scatter3d"
           }
          ],
          "scattercarpet": [
           {
            "marker": {
             "colorbar": {
              "outlinewidth": 0,
              "ticks": ""
             }
            },
            "type": "scattercarpet"
           }
          ],
          "scattergeo": [
           {
            "marker": {
             "colorbar": {
              "outlinewidth": 0,
              "ticks": ""
             }
            },
            "type": "scattergeo"
           }
          ],
          "scattergl": [
           {
            "marker": {
             "colorbar": {
              "outlinewidth": 0,
              "ticks": ""
             }
            },
            "type": "scattergl"
           }
          ],
          "scattermapbox": [
           {
            "marker": {
             "colorbar": {
              "outlinewidth": 0,
              "ticks": ""
             }
            },
            "type": "scattermapbox"
           }
          ],
          "scatterpolar": [
           {
            "marker": {
             "colorbar": {
              "outlinewidth": 0,
              "ticks": ""
             }
            },
            "type": "scatterpolar"
           }
          ],
          "scatterpolargl": [
           {
            "marker": {
             "colorbar": {
              "outlinewidth": 0,
              "ticks": ""
             }
            },
            "type": "scatterpolargl"
           }
          ],
          "scatterternary": [
           {
            "marker": {
             "colorbar": {
              "outlinewidth": 0,
              "ticks": ""
             }
            },
            "type": "scatterternary"
           }
          ],
          "surface": [
           {
            "colorbar": {
             "outlinewidth": 0,
             "ticks": ""
            },
            "colorscale": [
             [
              0,
              "#0d0887"
             ],
             [
              0.1111111111111111,
              "#46039f"
             ],
             [
              0.2222222222222222,
              "#7201a8"
             ],
             [
              0.3333333333333333,
              "#9c179e"
             ],
             [
              0.4444444444444444,
              "#bd3786"
             ],
             [
              0.5555555555555556,
              "#d8576b"
             ],
             [
              0.6666666666666666,
              "#ed7953"
             ],
             [
              0.7777777777777778,
              "#fb9f3a"
             ],
             [
              0.8888888888888888,
              "#fdca26"
             ],
             [
              1,
              "#f0f921"
             ]
            ],
            "type": "surface"
           }
          ],
          "table": [
           {
            "cells": {
             "fill": {
              "color": "#EBF0F8"
             },
             "line": {
              "color": "white"
             }
            },
            "header": {
             "fill": {
              "color": "#C8D4E3"
             },
             "line": {
              "color": "white"
             }
            },
            "type": "table"
           }
          ]
         },
         "layout": {
          "annotationdefaults": {
           "arrowcolor": "#2a3f5f",
           "arrowhead": 0,
           "arrowwidth": 1
          },
          "autotypenumbers": "strict",
          "coloraxis": {
           "colorbar": {
            "outlinewidth": 0,
            "ticks": ""
           }
          },
          "colorscale": {
           "diverging": [
            [
             0,
             "#8e0152"
            ],
            [
             0.1,
             "#c51b7d"
            ],
            [
             0.2,
             "#de77ae"
            ],
            [
             0.3,
             "#f1b6da"
            ],
            [
             0.4,
             "#fde0ef"
            ],
            [
             0.5,
             "#f7f7f7"
            ],
            [
             0.6,
             "#e6f5d0"
            ],
            [
             0.7,
             "#b8e186"
            ],
            [
             0.8,
             "#7fbc41"
            ],
            [
             0.9,
             "#4d9221"
            ],
            [
             1,
             "#276419"
            ]
           ],
           "sequential": [
            [
             0,
             "#0d0887"
            ],
            [
             0.1111111111111111,
             "#46039f"
            ],
            [
             0.2222222222222222,
             "#7201a8"
            ],
            [
             0.3333333333333333,
             "#9c179e"
            ],
            [
             0.4444444444444444,
             "#bd3786"
            ],
            [
             0.5555555555555556,
             "#d8576b"
            ],
            [
             0.6666666666666666,
             "#ed7953"
            ],
            [
             0.7777777777777778,
             "#fb9f3a"
            ],
            [
             0.8888888888888888,
             "#fdca26"
            ],
            [
             1,
             "#f0f921"
            ]
           ],
           "sequentialminus": [
            [
             0,
             "#0d0887"
            ],
            [
             0.1111111111111111,
             "#46039f"
            ],
            [
             0.2222222222222222,
             "#7201a8"
            ],
            [
             0.3333333333333333,
             "#9c179e"
            ],
            [
             0.4444444444444444,
             "#bd3786"
            ],
            [
             0.5555555555555556,
             "#d8576b"
            ],
            [
             0.6666666666666666,
             "#ed7953"
            ],
            [
             0.7777777777777778,
             "#fb9f3a"
            ],
            [
             0.8888888888888888,
             "#fdca26"
            ],
            [
             1,
             "#f0f921"
            ]
           ]
          },
          "colorway": [
           "#636efa",
           "#EF553B",
           "#00cc96",
           "#ab63fa",
           "#FFA15A",
           "#19d3f3",
           "#FF6692",
           "#B6E880",
           "#FF97FF",
           "#FECB52"
          ],
          "font": {
           "color": "#2a3f5f"
          },
          "geo": {
           "bgcolor": "white",
           "lakecolor": "white",
           "landcolor": "#E5ECF6",
           "showlakes": true,
           "showland": true,
           "subunitcolor": "white"
          },
          "hoverlabel": {
           "align": "left"
          },
          "hovermode": "closest",
          "mapbox": {
           "style": "light"
          },
          "paper_bgcolor": "white",
          "plot_bgcolor": "#E5ECF6",
          "polar": {
           "angularaxis": {
            "gridcolor": "white",
            "linecolor": "white",
            "ticks": ""
           },
           "bgcolor": "#E5ECF6",
           "radialaxis": {
            "gridcolor": "white",
            "linecolor": "white",
            "ticks": ""
           }
          },
          "scene": {
           "xaxis": {
            "backgroundcolor": "#E5ECF6",
            "gridcolor": "white",
            "gridwidth": 2,
            "linecolor": "white",
            "showbackground": true,
            "ticks": "",
            "zerolinecolor": "white"
           },
           "yaxis": {
            "backgroundcolor": "#E5ECF6",
            "gridcolor": "white",
            "gridwidth": 2,
            "linecolor": "white",
            "showbackground": true,
            "ticks": "",
            "zerolinecolor": "white"
           },
           "zaxis": {
            "backgroundcolor": "#E5ECF6",
            "gridcolor": "white",
            "gridwidth": 2,
            "linecolor": "white",
            "showbackground": true,
            "ticks": "",
            "zerolinecolor": "white"
           }
          },
          "shapedefaults": {
           "line": {
            "color": "#2a3f5f"
           }
          },
          "ternary": {
           "aaxis": {
            "gridcolor": "white",
            "linecolor": "white",
            "ticks": ""
           },
           "baxis": {
            "gridcolor": "white",
            "linecolor": "white",
            "ticks": ""
           },
           "bgcolor": "#E5ECF6",
           "caxis": {
            "gridcolor": "white",
            "linecolor": "white",
            "ticks": ""
           }
          },
          "title": {
           "x": 0.05
          },
          "xaxis": {
           "automargin": true,
           "gridcolor": "white",
           "linecolor": "white",
           "ticks": "",
           "title": {
            "standoff": 15
           },
           "zerolinecolor": "white",
           "zerolinewidth": 2
          },
          "yaxis": {
           "automargin": true,
           "gridcolor": "white",
           "linecolor": "white",
           "ticks": "",
           "title": {
            "standoff": 15
           },
           "zerolinecolor": "white",
           "zerolinewidth": 2
          }
         }
        },
        "title": {
         "text": "Estimation de la likelihood par ML_RR"
        },
        "xaxis": {
         "title": {
          "text": "Theta"
         }
        },
        "yaxis": {
         "title": {
          "text": "Gradient"
         }
        }
       }
      }
     },
     "metadata": {},
     "output_type": "display_data"
    }
   ],
   "source": [
    "Code.plot_gradient(0.6, x, noised_A, noised_b, theta_true, 15, 'ML_RR')"
   ]
  },
  {
   "cell_type": "markdown",
   "metadata": {},
   "source": [
    "### <span style=\"color:orange\">  **1.2 L'estimateurs SUMO (Stochastically Unbiased Marginalization Objective (SUMO))**  </span>\n",
    "\n",
    "On pose \n",
    "\\begin{align*}\n",
    "\\Delta^{\\text{SUMO}}_k &:= \\hat{\\ell}^{(k+2)}(\\boldsymbol{\\theta}) - \\hat{\\ell}^{(k+1)}(\\boldsymbol{\\theta})\\\\\n",
    "&:= \\log \\left( \\frac{1}{k+2} \\sum_{i=1}^{k+2} w(\\boldsymbol{z}_i) \\right) - \\log \\left( \\frac{1}{k+1} \\sum_{i=1}^{k+1} w(\\boldsymbol{z}_i) \\right),\n",
    "\\end{align*}\n",
    "\n",
    "où on rappelle que $w(\\boldsymbol{z}) := \\frac{p_{\\boldsymbol{\\theta}}(\\boldsymbol{x}, \\boldsymbol{z})}{q_{\\phi}(\\boldsymbol{z}|\\boldsymbol{x})}$.\n",
    "\n",
    "On applique l'estimateur $RR$ pour construire notre estimateur, que nous appelons $\\textbf{SUMO}$ (Stochastically Unbiased Marginalization Objective) qui correspond précisément à l'estimateur de la roulette russe pour $\\Delta^{\\text{SUMO}}_k$. Ainsi, \n",
    "$$\n",
    "\\hat{\\ell}^{\\text{SUMO}}(\\boldsymbol{\\theta}) := I_0 + \\sum^K_{k=0} \\frac{\\Delta^{\\text{SUMO}}_k}{P(\\mathcal{K} \\geq k)}\n",
    "$$\n",
    "    \n",
    "où $\\mathcal{K} \\sim p(\\cdot)$ une distrubtion de support dans $\\mathbb{N}$"
   ]
  },
  {
   "cell_type": "code",
   "execution_count": 11,
   "metadata": {},
   "outputs": [
    {
     "name": "stderr",
     "output_type": "stream",
     "text": [
      "Progression: 100%|██████████| 60/60 [00:18<00:00,  3.25it/s]\n"
     ]
    },
    {
     "data": {
      "application/vnd.plotly.v1+json": {
       "config": {
        "plotlyServerURL": "https://plot.ly"
       },
       "data": [
        {
         "line": {
          "color": "blue"
         },
         "mode": "lines",
         "name": "Vraisemblance réelle (avec theta_true)",
         "type": "scatter",
         "x": [
          -2.9388223082554052,
          -2.7693307828316764,
          -2.5998392574079476,
          -2.430347731984219,
          -2.26085620656049,
          -2.091364681136761,
          -1.9218731557130324,
          -1.7523816302893036,
          -1.5828901048655748,
          -1.413398579441846,
          -1.2439070540181172,
          -1.0744155285943884,
          -0.9049240031706596,
          -0.7354324777469308,
          -0.565940952323202,
          -0.39644942689947316,
          -0.22695790147574435,
          -0.057466376052015544,
          0.11202514937171326,
          0.28151667479544207,
          0.4510082002191709,
          0.6204997256428997,
          0.7899912510666285,
          0.9594827764903573,
          1.128974301914086,
          1.2984658273378145,
          1.4679573527615437,
          1.637448878185273,
          1.8069404036090013,
          1.9764319290327297,
          2.145923454456459,
          2.315414979880188,
          2.4849065053039165,
          2.654398030727645,
          2.823889556151374,
          2.9933810815751034,
          3.1628726069988318,
          3.33236413242256,
          3.5018556578462894,
          3.6713471832700186,
          3.840838708693747,
          4.010330234117475,
          4.179821759541205,
          4.349313284964934,
          4.518804810388662,
          4.688296335812391,
          4.85778786123612,
          5.027279386659849,
          5.196770912083577,
          5.366262437507306,
          5.535753962931034,
          5.705245488354764,
          5.874737013778493,
          6.044228539202221,
          6.213720064625951,
          6.3832115900496795,
          6.552703115473408,
          6.722194640897136,
          6.891686166320865,
          7.061177691744595
         ],
         "y": [
          -152.99269754297242,
          -144.63895362400115,
          -136.57248347693448,
          -128.79328710177245,
          -121.30136449851506,
          -114.09671566716226,
          -107.17934060771411,
          -100.54923932017059,
          -94.20641180453167,
          -88.15085806079739,
          -82.38257808896776,
          -76.90157188904271,
          -71.70783946102232,
          -66.80138080490653,
          -62.182195920695364,
          -57.85028480838884,
          -53.80564746798694,
          -50.048283899489654,
          -46.57819410289701,
          -43.39537807820897,
          -40.49983582542556,
          -37.89156734454679,
          -35.57057263557264,
          -33.536851698503106,
          -31.790404533338204,
          -30.33123114007793,
          -29.159331518722272,
          -28.27470566927124,
          -27.677353591724835,
          -27.36727528608306,
          -27.344470752345906,
          -27.608939990513377,
          -28.160683000585475,
          -28.999699782562192,
          -30.125990336443543,
          -31.539554662229516,
          -33.24039275992011,
          -35.228504629515335,
          -37.50389027101518,
          -40.06654968441966,
          -42.91648286972875,
          -46.05368982694247,
          -49.478170556060824,
          -53.189925057083805,
          -57.18895333001139,
          -61.4752553748436,
          -66.04883119158046,
          -70.90968078022195,
          -76.05780414076803,
          -81.49320127321874,
          -87.21587217757407,
          -93.2258168538341,
          -99.52303530199869,
          -106.10752752206788,
          -112.97929351404179,
          -120.13833327792025,
          -127.5846468137033,
          -135.31823412139101,
          -143.33909520098337,
          -151.6472300524804
         ]
        },
        {
         "marker": {
          "color": "red",
          "symbol": "cross"
         },
         "mode": "markers",
         "name": "SUMO",
         "type": "scatter",
         "x": [
          -2.9388223082554052,
          -2.7693307828316764,
          -2.5998392574079476,
          -2.430347731984219,
          -2.26085620656049,
          -2.091364681136761,
          -1.9218731557130324,
          -1.7523816302893036,
          -1.5828901048655748,
          -1.413398579441846,
          -1.2439070540181172,
          -1.0744155285943884,
          -0.9049240031706596,
          -0.7354324777469308,
          -0.565940952323202,
          -0.39644942689947316,
          -0.22695790147574435,
          -0.057466376052015544,
          0.11202514937171326,
          0.28151667479544207,
          0.4510082002191709,
          0.6204997256428997,
          0.7899912510666285,
          0.9594827764903573,
          1.128974301914086,
          1.2984658273378145,
          1.4679573527615437,
          1.637448878185273,
          1.8069404036090013,
          1.9764319290327297,
          2.145923454456459,
          2.315414979880188,
          2.4849065053039165,
          2.654398030727645,
          2.823889556151374,
          2.9933810815751034,
          3.1628726069988318,
          3.33236413242256,
          3.5018556578462894,
          3.6713471832700186,
          3.840838708693747,
          4.010330234117475,
          4.179821759541205,
          4.349313284964934,
          4.518804810388662,
          4.688296335812391,
          4.85778786123612,
          5.027279386659849,
          5.196770912083577,
          5.366262437507306,
          5.535753962931034,
          5.705245488354764,
          5.874737013778493,
          6.044228539202221,
          6.213720064625951,
          6.3832115900496795,
          6.552703115473408,
          6.722194640897136,
          6.891686166320865,
          7.061177691744595
         ],
         "y": [
          -271.59511846222154,
          -247.2553845931408,
          -248.08436304499344,
          -187.3621848400284,
          -193.53011937221748,
          -195.8603460358209,
          -176.5652272054436,
          -176.8799182709096,
          -159.6460023656061,
          -131.51167800488267,
          -112.11269347737925,
          -129.36547949327064,
          -113.77137600642259,
          -111.63033518986941,
          -103.18434743944368,
          -91.49212657854834,
          -84.42207029993729,
          -78.57919674781058,
          -71.32167637126479,
          -64.29921278947263,
          -58.003197479519955,
          -55.44857816991324,
          -49.57448846774938,
          -50.107742826622896,
          -42.607535208372596,
          -39.81638380738782,
          -36.979212135048236,
          -35.64938194674599,
          -35.18449147451784,
          -33.93740790394146,
          -34.37123055914591,
          -34.49472437731785,
          -35.79008759769192,
          -38.95863835032042,
          -39.702598512294685,
          -41.97210723938284,
          -45.37397836461854,
          -49.704932658237006,
          -49.71531601149516,
          -61.237289076347224,
          -67.21510564564954,
          -63.44243428103856,
          -80.31811893996016,
          -85.89948421486231,
          -91.34376076634712,
          -102.28230111998087,
          -107.18500003083838,
          -121.8977253226628,
          -115.45287655020253,
          -144.2994598457852,
          -130.51429278153677,
          -156.28416250360036,
          -168.99116424100131,
          -190.73764101335183,
          -183.09599140417046,
          -221.07275761691656,
          -238.72416970256938,
          -249.4287745863668,
          -267.8302837578811,
          -283.7834375497027
         ]
        }
       ],
       "layout": {
        "grid": {
         "columns": 1,
         "rows": 1
        },
        "legend": {
         "font": {
          "size": 10
         }
        },
        "shapes": [
         {
          "line": {
           "color": "black",
           "dash": "dash"
          },
          "name": "Theta=2.0611776917445948",
          "type": "line",
          "x0": 2.0611776917445948,
          "x1": 2.0611776917445948,
          "y0": -300,
          "y1": 500
         }
        ],
        "showlegend": true,
        "template": {
         "data": {
          "bar": [
           {
            "error_x": {
             "color": "#2a3f5f"
            },
            "error_y": {
             "color": "#2a3f5f"
            },
            "marker": {
             "line": {
              "color": "#E5ECF6",
              "width": 0.5
             },
             "pattern": {
              "fillmode": "overlay",
              "size": 10,
              "solidity": 0.2
             }
            },
            "type": "bar"
           }
          ],
          "barpolar": [
           {
            "marker": {
             "line": {
              "color": "#E5ECF6",
              "width": 0.5
             },
             "pattern": {
              "fillmode": "overlay",
              "size": 10,
              "solidity": 0.2
             }
            },
            "type": "barpolar"
           }
          ],
          "carpet": [
           {
            "aaxis": {
             "endlinecolor": "#2a3f5f",
             "gridcolor": "white",
             "linecolor": "white",
             "minorgridcolor": "white",
             "startlinecolor": "#2a3f5f"
            },
            "baxis": {
             "endlinecolor": "#2a3f5f",
             "gridcolor": "white",
             "linecolor": "white",
             "minorgridcolor": "white",
             "startlinecolor": "#2a3f5f"
            },
            "type": "carpet"
           }
          ],
          "choropleth": [
           {
            "colorbar": {
             "outlinewidth": 0,
             "ticks": ""
            },
            "type": "choropleth"
           }
          ],
          "contour": [
           {
            "colorbar": {
             "outlinewidth": 0,
             "ticks": ""
            },
            "colorscale": [
             [
              0,
              "#0d0887"
             ],
             [
              0.1111111111111111,
              "#46039f"
             ],
             [
              0.2222222222222222,
              "#7201a8"
             ],
             [
              0.3333333333333333,
              "#9c179e"
             ],
             [
              0.4444444444444444,
              "#bd3786"
             ],
             [
              0.5555555555555556,
              "#d8576b"
             ],
             [
              0.6666666666666666,
              "#ed7953"
             ],
             [
              0.7777777777777778,
              "#fb9f3a"
             ],
             [
              0.8888888888888888,
              "#fdca26"
             ],
             [
              1,
              "#f0f921"
             ]
            ],
            "type": "contour"
           }
          ],
          "contourcarpet": [
           {
            "colorbar": {
             "outlinewidth": 0,
             "ticks": ""
            },
            "type": "contourcarpet"
           }
          ],
          "heatmap": [
           {
            "colorbar": {
             "outlinewidth": 0,
             "ticks": ""
            },
            "colorscale": [
             [
              0,
              "#0d0887"
             ],
             [
              0.1111111111111111,
              "#46039f"
             ],
             [
              0.2222222222222222,
              "#7201a8"
             ],
             [
              0.3333333333333333,
              "#9c179e"
             ],
             [
              0.4444444444444444,
              "#bd3786"
             ],
             [
              0.5555555555555556,
              "#d8576b"
             ],
             [
              0.6666666666666666,
              "#ed7953"
             ],
             [
              0.7777777777777778,
              "#fb9f3a"
             ],
             [
              0.8888888888888888,
              "#fdca26"
             ],
             [
              1,
              "#f0f921"
             ]
            ],
            "type": "heatmap"
           }
          ],
          "heatmapgl": [
           {
            "colorbar": {
             "outlinewidth": 0,
             "ticks": ""
            },
            "colorscale": [
             [
              0,
              "#0d0887"
             ],
             [
              0.1111111111111111,
              "#46039f"
             ],
             [
              0.2222222222222222,
              "#7201a8"
             ],
             [
              0.3333333333333333,
              "#9c179e"
             ],
             [
              0.4444444444444444,
              "#bd3786"
             ],
             [
              0.5555555555555556,
              "#d8576b"
             ],
             [
              0.6666666666666666,
              "#ed7953"
             ],
             [
              0.7777777777777778,
              "#fb9f3a"
             ],
             [
              0.8888888888888888,
              "#fdca26"
             ],
             [
              1,
              "#f0f921"
             ]
            ],
            "type": "heatmapgl"
           }
          ],
          "histogram": [
           {
            "marker": {
             "pattern": {
              "fillmode": "overlay",
              "size": 10,
              "solidity": 0.2
             }
            },
            "type": "histogram"
           }
          ],
          "histogram2d": [
           {
            "colorbar": {
             "outlinewidth": 0,
             "ticks": ""
            },
            "colorscale": [
             [
              0,
              "#0d0887"
             ],
             [
              0.1111111111111111,
              "#46039f"
             ],
             [
              0.2222222222222222,
              "#7201a8"
             ],
             [
              0.3333333333333333,
              "#9c179e"
             ],
             [
              0.4444444444444444,
              "#bd3786"
             ],
             [
              0.5555555555555556,
              "#d8576b"
             ],
             [
              0.6666666666666666,
              "#ed7953"
             ],
             [
              0.7777777777777778,
              "#fb9f3a"
             ],
             [
              0.8888888888888888,
              "#fdca26"
             ],
             [
              1,
              "#f0f921"
             ]
            ],
            "type": "histogram2d"
           }
          ],
          "histogram2dcontour": [
           {
            "colorbar": {
             "outlinewidth": 0,
             "ticks": ""
            },
            "colorscale": [
             [
              0,
              "#0d0887"
             ],
             [
              0.1111111111111111,
              "#46039f"
             ],
             [
              0.2222222222222222,
              "#7201a8"
             ],
             [
              0.3333333333333333,
              "#9c179e"
             ],
             [
              0.4444444444444444,
              "#bd3786"
             ],
             [
              0.5555555555555556,
              "#d8576b"
             ],
             [
              0.6666666666666666,
              "#ed7953"
             ],
             [
              0.7777777777777778,
              "#fb9f3a"
             ],
             [
              0.8888888888888888,
              "#fdca26"
             ],
             [
              1,
              "#f0f921"
             ]
            ],
            "type": "histogram2dcontour"
           }
          ],
          "mesh3d": [
           {
            "colorbar": {
             "outlinewidth": 0,
             "ticks": ""
            },
            "type": "mesh3d"
           }
          ],
          "parcoords": [
           {
            "line": {
             "colorbar": {
              "outlinewidth": 0,
              "ticks": ""
             }
            },
            "type": "parcoords"
           }
          ],
          "pie": [
           {
            "automargin": true,
            "type": "pie"
           }
          ],
          "scatter": [
           {
            "fillpattern": {
             "fillmode": "overlay",
             "size": 10,
             "solidity": 0.2
            },
            "type": "scatter"
           }
          ],
          "scatter3d": [
           {
            "line": {
             "colorbar": {
              "outlinewidth": 0,
              "ticks": ""
             }
            },
            "marker": {
             "colorbar": {
              "outlinewidth": 0,
              "ticks": ""
             }
            },
            "type": "scatter3d"
           }
          ],
          "scattercarpet": [
           {
            "marker": {
             "colorbar": {
              "outlinewidth": 0,
              "ticks": ""
             }
            },
            "type": "scattercarpet"
           }
          ],
          "scattergeo": [
           {
            "marker": {
             "colorbar": {
              "outlinewidth": 0,
              "ticks": ""
             }
            },
            "type": "scattergeo"
           }
          ],
          "scattergl": [
           {
            "marker": {
             "colorbar": {
              "outlinewidth": 0,
              "ticks": ""
             }
            },
            "type": "scattergl"
           }
          ],
          "scattermapbox": [
           {
            "marker": {
             "colorbar": {
              "outlinewidth": 0,
              "ticks": ""
             }
            },
            "type": "scattermapbox"
           }
          ],
          "scatterpolar": [
           {
            "marker": {
             "colorbar": {
              "outlinewidth": 0,
              "ticks": ""
             }
            },
            "type": "scatterpolar"
           }
          ],
          "scatterpolargl": [
           {
            "marker": {
             "colorbar": {
              "outlinewidth": 0,
              "ticks": ""
             }
            },
            "type": "scatterpolargl"
           }
          ],
          "scatterternary": [
           {
            "marker": {
             "colorbar": {
              "outlinewidth": 0,
              "ticks": ""
             }
            },
            "type": "scatterternary"
           }
          ],
          "surface": [
           {
            "colorbar": {
             "outlinewidth": 0,
             "ticks": ""
            },
            "colorscale": [
             [
              0,
              "#0d0887"
             ],
             [
              0.1111111111111111,
              "#46039f"
             ],
             [
              0.2222222222222222,
              "#7201a8"
             ],
             [
              0.3333333333333333,
              "#9c179e"
             ],
             [
              0.4444444444444444,
              "#bd3786"
             ],
             [
              0.5555555555555556,
              "#d8576b"
             ],
             [
              0.6666666666666666,
              "#ed7953"
             ],
             [
              0.7777777777777778,
              "#fb9f3a"
             ],
             [
              0.8888888888888888,
              "#fdca26"
             ],
             [
              1,
              "#f0f921"
             ]
            ],
            "type": "surface"
           }
          ],
          "table": [
           {
            "cells": {
             "fill": {
              "color": "#EBF0F8"
             },
             "line": {
              "color": "white"
             }
            },
            "header": {
             "fill": {
              "color": "#C8D4E3"
             },
             "line": {
              "color": "white"
             }
            },
            "type": "table"
           }
          ]
         },
         "layout": {
          "annotationdefaults": {
           "arrowcolor": "#2a3f5f",
           "arrowhead": 0,
           "arrowwidth": 1
          },
          "autotypenumbers": "strict",
          "coloraxis": {
           "colorbar": {
            "outlinewidth": 0,
            "ticks": ""
           }
          },
          "colorscale": {
           "diverging": [
            [
             0,
             "#8e0152"
            ],
            [
             0.1,
             "#c51b7d"
            ],
            [
             0.2,
             "#de77ae"
            ],
            [
             0.3,
             "#f1b6da"
            ],
            [
             0.4,
             "#fde0ef"
            ],
            [
             0.5,
             "#f7f7f7"
            ],
            [
             0.6,
             "#e6f5d0"
            ],
            [
             0.7,
             "#b8e186"
            ],
            [
             0.8,
             "#7fbc41"
            ],
            [
             0.9,
             "#4d9221"
            ],
            [
             1,
             "#276419"
            ]
           ],
           "sequential": [
            [
             0,
             "#0d0887"
            ],
            [
             0.1111111111111111,
             "#46039f"
            ],
            [
             0.2222222222222222,
             "#7201a8"
            ],
            [
             0.3333333333333333,
             "#9c179e"
            ],
            [
             0.4444444444444444,
             "#bd3786"
            ],
            [
             0.5555555555555556,
             "#d8576b"
            ],
            [
             0.6666666666666666,
             "#ed7953"
            ],
            [
             0.7777777777777778,
             "#fb9f3a"
            ],
            [
             0.8888888888888888,
             "#fdca26"
            ],
            [
             1,
             "#f0f921"
            ]
           ],
           "sequentialminus": [
            [
             0,
             "#0d0887"
            ],
            [
             0.1111111111111111,
             "#46039f"
            ],
            [
             0.2222222222222222,
             "#7201a8"
            ],
            [
             0.3333333333333333,
             "#9c179e"
            ],
            [
             0.4444444444444444,
             "#bd3786"
            ],
            [
             0.5555555555555556,
             "#d8576b"
            ],
            [
             0.6666666666666666,
             "#ed7953"
            ],
            [
             0.7777777777777778,
             "#fb9f3a"
            ],
            [
             0.8888888888888888,
             "#fdca26"
            ],
            [
             1,
             "#f0f921"
            ]
           ]
          },
          "colorway": [
           "#636efa",
           "#EF553B",
           "#00cc96",
           "#ab63fa",
           "#FFA15A",
           "#19d3f3",
           "#FF6692",
           "#B6E880",
           "#FF97FF",
           "#FECB52"
          ],
          "font": {
           "color": "#2a3f5f"
          },
          "geo": {
           "bgcolor": "white",
           "lakecolor": "white",
           "landcolor": "#E5ECF6",
           "showlakes": true,
           "showland": true,
           "subunitcolor": "white"
          },
          "hoverlabel": {
           "align": "left"
          },
          "hovermode": "closest",
          "mapbox": {
           "style": "light"
          },
          "paper_bgcolor": "white",
          "plot_bgcolor": "#E5ECF6",
          "polar": {
           "angularaxis": {
            "gridcolor": "white",
            "linecolor": "white",
            "ticks": ""
           },
           "bgcolor": "#E5ECF6",
           "radialaxis": {
            "gridcolor": "white",
            "linecolor": "white",
            "ticks": ""
           }
          },
          "scene": {
           "xaxis": {
            "backgroundcolor": "#E5ECF6",
            "gridcolor": "white",
            "gridwidth": 2,
            "linecolor": "white",
            "showbackground": true,
            "ticks": "",
            "zerolinecolor": "white"
           },
           "yaxis": {
            "backgroundcolor": "#E5ECF6",
            "gridcolor": "white",
            "gridwidth": 2,
            "linecolor": "white",
            "showbackground": true,
            "ticks": "",
            "zerolinecolor": "white"
           },
           "zaxis": {
            "backgroundcolor": "#E5ECF6",
            "gridcolor": "white",
            "gridwidth": 2,
            "linecolor": "white",
            "showbackground": true,
            "ticks": "",
            "zerolinecolor": "white"
           }
          },
          "shapedefaults": {
           "line": {
            "color": "#2a3f5f"
           }
          },
          "ternary": {
           "aaxis": {
            "gridcolor": "white",
            "linecolor": "white",
            "ticks": ""
           },
           "baxis": {
            "gridcolor": "white",
            "linecolor": "white",
            "ticks": ""
           },
           "bgcolor": "#E5ECF6",
           "caxis": {
            "gridcolor": "white",
            "linecolor": "white",
            "ticks": ""
           }
          },
          "title": {
           "x": 0.05
          },
          "xaxis": {
           "automargin": true,
           "gridcolor": "white",
           "linecolor": "white",
           "ticks": "",
           "title": {
            "standoff": 15
           },
           "zerolinecolor": "white",
           "zerolinewidth": 2
          },
          "yaxis": {
           "automargin": true,
           "gridcolor": "white",
           "linecolor": "white",
           "ticks": "",
           "title": {
            "standoff": 15
           },
           "zerolinecolor": "white",
           "zerolinewidth": 2
          }
         }
        },
        "title": {
         "text": "Estimation de la vraisemblance par SUMO"
        },
        "xaxis": {
         "tickfont": {
          "size": 12
         },
         "title": {
          "text": "Theta"
         }
        },
        "yaxis": {
         "range": [
          -300,
          500
         ],
         "tickfont": {
          "size": 12
         },
         "title": {
          "text": "Vraisemblance"
         }
        }
       }
      }
     },
     "metadata": {},
     "output_type": "display_data"
    }
   ],
   "source": [
    "n_simulations = 15 \n",
    "r = 0.6\n",
    "\n",
    "Code.plot_likelihood(r, x, noised_A, noised_b, theta_true, n_simulations, \"SUMO\")"
   ]
  },
  {
   "cell_type": "code",
   "execution_count": 12,
   "metadata": {},
   "outputs": [
    {
     "data": {
      "application/vnd.plotly.v1+json": {
       "config": {
        "plotlyServerURL": "https://plot.ly"
       },
       "data": [
        {
         "line": {
          "color": "red"
         },
         "mode": "lines",
         "name": "True Gradient",
         "type": "scatter",
         "x": [
          -2.9388223082554052,
          -2.7693307828316764,
          -2.5998392574079476,
          -2.430347731984219,
          -2.26085620656049,
          -2.091364681136761,
          -1.9218731557130324,
          -1.7523816302893036,
          -1.5828901048655748,
          -1.413398579441846,
          -1.2439070540181172,
          -1.0744155285943884,
          -0.9049240031706596,
          -0.7354324777469308,
          -0.565940952323202,
          -0.39644942689947316,
          -0.22695790147574435,
          -0.057466376052015544,
          0.11202514937171326,
          0.28151667479544207,
          0.4510082002191709,
          0.6204997256428997,
          0.7899912510666285,
          0.9594827764903573,
          1.128974301914086,
          1.2984658273378145,
          1.4679573527615437,
          1.637448878185273,
          1.8069404036090013,
          1.9764319290327297,
          2.145923454456459,
          2.315414979880188,
          2.4849065053039165,
          2.654398030727645,
          2.823889556151374,
          2.9933810815751034,
          3.1628726069988318,
          3.33236413242256,
          3.5018556578462894,
          3.6713471832700186,
          3.840838708693747,
          4.010330234117475,
          4.179821759541205,
          4.349313284964934,
          4.518804810388662,
          4.688296335812391,
          4.85778786123612,
          5.027279386659849,
          5.196770912083577,
          5.366262437507306,
          5.535753962931034,
          5.705245488354764,
          5.874737013778493,
          6.044228539202221,
          6.213720064625951,
          6.3832115900496795,
          6.552703115473408,
          6.722194640897136,
          6.891686166320865,
          7.061177691744595
         ],
         "y": [
          -2.5067273374524603,
          -2.4219815747405957,
          -2.337235812028731,
          -2.252490049316867,
          -2.1677442866050027,
          -2.082998523893138,
          -1.9982527611812737,
          -1.9135069984694093,
          -1.828761235757545,
          -1.7440154730456805,
          -1.659269710333816,
          -1.5745239476219517,
          -1.4897781849100873,
          -1.4050324221982229,
          -1.3202866594863585,
          -1.235540896774494,
          -1.1507951340626297,
          -1.0660493713507653,
          -0.9813036086389009,
          -0.8965578459270365,
          -0.8118120832151721,
          -0.7270663205033077,
          -0.6423205577914433,
          -0.5575747950795789,
          -0.47282903236771445,
          -0.38808326965585027,
          -0.30333750694398565,
          -0.21859174423212102,
          -0.13384598152025684,
          -0.04910021880839266,
          0.035645543903471966,
          0.12039130661533659,
          0.20513706932720077,
          0.28988283203906495,
          0.3746285947509296,
          0.4593743574627942,
          0.5441201201746584,
          0.6288658828865226,
          0.7136116455983872,
          0.7983574083102518,
          0.883103171022116,
          0.9678489337339802,
          1.0525946964458448,
          1.1373404591577094,
          1.2220862218695736,
          1.3068319845814378,
          1.3915777472933024,
          1.476323510005167,
          1.5610692727170312,
          1.6458150354288954,
          1.7305607981407596,
          1.8153065608526247,
          1.9000523235644888,
          1.984798086276353,
          2.069543848988218,
          2.154289611700082,
          2.239035374411946,
          2.3237811371238104,
          2.4085268998356746,
          2.4932726625475397
         ]
        },
        {
         "marker": {
          "color": "purple",
          "symbol": "x"
         },
         "mode": "markers",
         "name": "SUMO",
         "type": "scatter",
         "x": [
          -2.9388223082554052,
          -2.7693307828316764,
          -2.5998392574079476,
          -2.430347731984219,
          -2.26085620656049,
          -2.091364681136761,
          -1.9218731557130324,
          -1.7523816302893036,
          -1.5828901048655748,
          -1.413398579441846,
          -1.2439070540181172,
          -1.0744155285943884,
          -0.9049240031706596,
          -0.7354324777469308,
          -0.565940952323202,
          -0.39644942689947316,
          -0.22695790147574435,
          -0.057466376052015544,
          0.11202514937171326,
          0.28151667479544207,
          0.4510082002191709,
          0.6204997256428997,
          0.7899912510666285,
          0.9594827764903573,
          1.128974301914086,
          1.2984658273378145,
          1.4679573527615437,
          1.637448878185273,
          1.8069404036090013,
          1.9764319290327297,
          2.145923454456459,
          2.315414979880188,
          2.4849065053039165,
          2.654398030727645,
          2.823889556151374,
          2.9933810815751034,
          3.1628726069988318,
          3.33236413242256,
          3.5018556578462894,
          3.6713471832700186,
          3.840838708693747,
          4.010330234117475,
          4.179821759541205,
          4.349313284964934,
          4.518804810388662,
          4.688296335812391,
          4.85778786123612,
          5.027279386659849,
          5.196770912083577,
          5.366262437507306,
          5.535753962931034,
          5.705245488354764,
          5.874737013778493,
          6.044228539202221,
          6.213720064625951,
          6.3832115900496795,
          6.552703115473408,
          6.722194640897136,
          6.891686166320865,
          7.061177691744595
         ],
         "y": [
          6.400645385593506,
          -26.114526587932573,
          -9.655128581117083,
          33.41593568935673,
          -25.91001440811931,
          -38.143216799125184,
          12.236280421019273,
          18.572442949636127,
          1.8062366018034481,
          -26.96186340396565,
          9.867579463502807,
          8.105581454888352,
          -18.35410074655465,
          2.4314937107984633,
          13.288884129002838,
          20.61744545901712,
          0.1678200819839617,
          14.54314876814027,
          21.31934412944122,
          -38.98950056778625,
          -43.89093909553242,
          -4.9371307528631405,
          18.37206167029325,
          25.974550711261884,
          -2.2419104345813707,
          -1.6689967239744306,
          -8.066914960389795,
          -16.45946022190111,
          9.150530465121733,
          56.75595621891188,
          -7.229181501275093,
          -48.19258249310275,
          20.334085350030193,
          1.5489868056012028,
          -25.73734094138905,
          -9.376096541461322,
          4.784623117611318,
          3.255961030845299,
          -8.888894926546982,
          30.394475109616053,
          36.518954341934204,
          -15.82090573425171,
          -22.839953337103452,
          -17.58466927219007,
          14.991219341203589,
          44.18302563715008,
          -19.877962061155642,
          -30.151915202617204,
          31.838357623332683,
          -19.893803143977152,
          -38.9311629780284,
          -4.317586332256326,
          0.8663035654205942,
          5.409052804483849,
          12.223446300250544,
          6.6718043002537115,
          -10.22955084619133,
          5.159498272733117,
          -2.7286522349592133,
          -24.0855258069682
         ]
        }
       ],
       "layout": {
        "legend": {
         "font": {
          "size": 12
         },
         "traceorder": "normal",
         "x": 0,
         "y": 1
        },
        "shapes": [
         {
          "line": {
           "color": "black",
           "dash": "dash",
           "width": 2
          },
          "name": "theta=2.0611776917445948",
          "type": "line",
          "x0": 2.0611776917445948,
          "x1": 2.0611776917445948,
          "y0": -48.19258249310275,
          "y1": 56.75595621891188
         }
        ],
        "showlegend": true,
        "template": {
         "data": {
          "bar": [
           {
            "error_x": {
             "color": "#2a3f5f"
            },
            "error_y": {
             "color": "#2a3f5f"
            },
            "marker": {
             "line": {
              "color": "#E5ECF6",
              "width": 0.5
             },
             "pattern": {
              "fillmode": "overlay",
              "size": 10,
              "solidity": 0.2
             }
            },
            "type": "bar"
           }
          ],
          "barpolar": [
           {
            "marker": {
             "line": {
              "color": "#E5ECF6",
              "width": 0.5
             },
             "pattern": {
              "fillmode": "overlay",
              "size": 10,
              "solidity": 0.2
             }
            },
            "type": "barpolar"
           }
          ],
          "carpet": [
           {
            "aaxis": {
             "endlinecolor": "#2a3f5f",
             "gridcolor": "white",
             "linecolor": "white",
             "minorgridcolor": "white",
             "startlinecolor": "#2a3f5f"
            },
            "baxis": {
             "endlinecolor": "#2a3f5f",
             "gridcolor": "white",
             "linecolor": "white",
             "minorgridcolor": "white",
             "startlinecolor": "#2a3f5f"
            },
            "type": "carpet"
           }
          ],
          "choropleth": [
           {
            "colorbar": {
             "outlinewidth": 0,
             "ticks": ""
            },
            "type": "choropleth"
           }
          ],
          "contour": [
           {
            "colorbar": {
             "outlinewidth": 0,
             "ticks": ""
            },
            "colorscale": [
             [
              0,
              "#0d0887"
             ],
             [
              0.1111111111111111,
              "#46039f"
             ],
             [
              0.2222222222222222,
              "#7201a8"
             ],
             [
              0.3333333333333333,
              "#9c179e"
             ],
             [
              0.4444444444444444,
              "#bd3786"
             ],
             [
              0.5555555555555556,
              "#d8576b"
             ],
             [
              0.6666666666666666,
              "#ed7953"
             ],
             [
              0.7777777777777778,
              "#fb9f3a"
             ],
             [
              0.8888888888888888,
              "#fdca26"
             ],
             [
              1,
              "#f0f921"
             ]
            ],
            "type": "contour"
           }
          ],
          "contourcarpet": [
           {
            "colorbar": {
             "outlinewidth": 0,
             "ticks": ""
            },
            "type": "contourcarpet"
           }
          ],
          "heatmap": [
           {
            "colorbar": {
             "outlinewidth": 0,
             "ticks": ""
            },
            "colorscale": [
             [
              0,
              "#0d0887"
             ],
             [
              0.1111111111111111,
              "#46039f"
             ],
             [
              0.2222222222222222,
              "#7201a8"
             ],
             [
              0.3333333333333333,
              "#9c179e"
             ],
             [
              0.4444444444444444,
              "#bd3786"
             ],
             [
              0.5555555555555556,
              "#d8576b"
             ],
             [
              0.6666666666666666,
              "#ed7953"
             ],
             [
              0.7777777777777778,
              "#fb9f3a"
             ],
             [
              0.8888888888888888,
              "#fdca26"
             ],
             [
              1,
              "#f0f921"
             ]
            ],
            "type": "heatmap"
           }
          ],
          "heatmapgl": [
           {
            "colorbar": {
             "outlinewidth": 0,
             "ticks": ""
            },
            "colorscale": [
             [
              0,
              "#0d0887"
             ],
             [
              0.1111111111111111,
              "#46039f"
             ],
             [
              0.2222222222222222,
              "#7201a8"
             ],
             [
              0.3333333333333333,
              "#9c179e"
             ],
             [
              0.4444444444444444,
              "#bd3786"
             ],
             [
              0.5555555555555556,
              "#d8576b"
             ],
             [
              0.6666666666666666,
              "#ed7953"
             ],
             [
              0.7777777777777778,
              "#fb9f3a"
             ],
             [
              0.8888888888888888,
              "#fdca26"
             ],
             [
              1,
              "#f0f921"
             ]
            ],
            "type": "heatmapgl"
           }
          ],
          "histogram": [
           {
            "marker": {
             "pattern": {
              "fillmode": "overlay",
              "size": 10,
              "solidity": 0.2
             }
            },
            "type": "histogram"
           }
          ],
          "histogram2d": [
           {
            "colorbar": {
             "outlinewidth": 0,
             "ticks": ""
            },
            "colorscale": [
             [
              0,
              "#0d0887"
             ],
             [
              0.1111111111111111,
              "#46039f"
             ],
             [
              0.2222222222222222,
              "#7201a8"
             ],
             [
              0.3333333333333333,
              "#9c179e"
             ],
             [
              0.4444444444444444,
              "#bd3786"
             ],
             [
              0.5555555555555556,
              "#d8576b"
             ],
             [
              0.6666666666666666,
              "#ed7953"
             ],
             [
              0.7777777777777778,
              "#fb9f3a"
             ],
             [
              0.8888888888888888,
              "#fdca26"
             ],
             [
              1,
              "#f0f921"
             ]
            ],
            "type": "histogram2d"
           }
          ],
          "histogram2dcontour": [
           {
            "colorbar": {
             "outlinewidth": 0,
             "ticks": ""
            },
            "colorscale": [
             [
              0,
              "#0d0887"
             ],
             [
              0.1111111111111111,
              "#46039f"
             ],
             [
              0.2222222222222222,
              "#7201a8"
             ],
             [
              0.3333333333333333,
              "#9c179e"
             ],
             [
              0.4444444444444444,
              "#bd3786"
             ],
             [
              0.5555555555555556,
              "#d8576b"
             ],
             [
              0.6666666666666666,
              "#ed7953"
             ],
             [
              0.7777777777777778,
              "#fb9f3a"
             ],
             [
              0.8888888888888888,
              "#fdca26"
             ],
             [
              1,
              "#f0f921"
             ]
            ],
            "type": "histogram2dcontour"
           }
          ],
          "mesh3d": [
           {
            "colorbar": {
             "outlinewidth": 0,
             "ticks": ""
            },
            "type": "mesh3d"
           }
          ],
          "parcoords": [
           {
            "line": {
             "colorbar": {
              "outlinewidth": 0,
              "ticks": ""
             }
            },
            "type": "parcoords"
           }
          ],
          "pie": [
           {
            "automargin": true,
            "type": "pie"
           }
          ],
          "scatter": [
           {
            "fillpattern": {
             "fillmode": "overlay",
             "size": 10,
             "solidity": 0.2
            },
            "type": "scatter"
           }
          ],
          "scatter3d": [
           {
            "line": {
             "colorbar": {
              "outlinewidth": 0,
              "ticks": ""
             }
            },
            "marker": {
             "colorbar": {
              "outlinewidth": 0,
              "ticks": ""
             }
            },
            "type": "scatter3d"
           }
          ],
          "scattercarpet": [
           {
            "marker": {
             "colorbar": {
              "outlinewidth": 0,
              "ticks": ""
             }
            },
            "type": "scattercarpet"
           }
          ],
          "scattergeo": [
           {
            "marker": {
             "colorbar": {
              "outlinewidth": 0,
              "ticks": ""
             }
            },
            "type": "scattergeo"
           }
          ],
          "scattergl": [
           {
            "marker": {
             "colorbar": {
              "outlinewidth": 0,
              "ticks": ""
             }
            },
            "type": "scattergl"
           }
          ],
          "scattermapbox": [
           {
            "marker": {
             "colorbar": {
              "outlinewidth": 0,
              "ticks": ""
             }
            },
            "type": "scattermapbox"
           }
          ],
          "scatterpolar": [
           {
            "marker": {
             "colorbar": {
              "outlinewidth": 0,
              "ticks": ""
             }
            },
            "type": "scatterpolar"
           }
          ],
          "scatterpolargl": [
           {
            "marker": {
             "colorbar": {
              "outlinewidth": 0,
              "ticks": ""
             }
            },
            "type": "scatterpolargl"
           }
          ],
          "scatterternary": [
           {
            "marker": {
             "colorbar": {
              "outlinewidth": 0,
              "ticks": ""
             }
            },
            "type": "scatterternary"
           }
          ],
          "surface": [
           {
            "colorbar": {
             "outlinewidth": 0,
             "ticks": ""
            },
            "colorscale": [
             [
              0,
              "#0d0887"
             ],
             [
              0.1111111111111111,
              "#46039f"
             ],
             [
              0.2222222222222222,
              "#7201a8"
             ],
             [
              0.3333333333333333,
              "#9c179e"
             ],
             [
              0.4444444444444444,
              "#bd3786"
             ],
             [
              0.5555555555555556,
              "#d8576b"
             ],
             [
              0.6666666666666666,
              "#ed7953"
             ],
             [
              0.7777777777777778,
              "#fb9f3a"
             ],
             [
              0.8888888888888888,
              "#fdca26"
             ],
             [
              1,
              "#f0f921"
             ]
            ],
            "type": "surface"
           }
          ],
          "table": [
           {
            "cells": {
             "fill": {
              "color": "#EBF0F8"
             },
             "line": {
              "color": "white"
             }
            },
            "header": {
             "fill": {
              "color": "#C8D4E3"
             },
             "line": {
              "color": "white"
             }
            },
            "type": "table"
           }
          ]
         },
         "layout": {
          "annotationdefaults": {
           "arrowcolor": "#2a3f5f",
           "arrowhead": 0,
           "arrowwidth": 1
          },
          "autotypenumbers": "strict",
          "coloraxis": {
           "colorbar": {
            "outlinewidth": 0,
            "ticks": ""
           }
          },
          "colorscale": {
           "diverging": [
            [
             0,
             "#8e0152"
            ],
            [
             0.1,
             "#c51b7d"
            ],
            [
             0.2,
             "#de77ae"
            ],
            [
             0.3,
             "#f1b6da"
            ],
            [
             0.4,
             "#fde0ef"
            ],
            [
             0.5,
             "#f7f7f7"
            ],
            [
             0.6,
             "#e6f5d0"
            ],
            [
             0.7,
             "#b8e186"
            ],
            [
             0.8,
             "#7fbc41"
            ],
            [
             0.9,
             "#4d9221"
            ],
            [
             1,
             "#276419"
            ]
           ],
           "sequential": [
            [
             0,
             "#0d0887"
            ],
            [
             0.1111111111111111,
             "#46039f"
            ],
            [
             0.2222222222222222,
             "#7201a8"
            ],
            [
             0.3333333333333333,
             "#9c179e"
            ],
            [
             0.4444444444444444,
             "#bd3786"
            ],
            [
             0.5555555555555556,
             "#d8576b"
            ],
            [
             0.6666666666666666,
             "#ed7953"
            ],
            [
             0.7777777777777778,
             "#fb9f3a"
            ],
            [
             0.8888888888888888,
             "#fdca26"
            ],
            [
             1,
             "#f0f921"
            ]
           ],
           "sequentialminus": [
            [
             0,
             "#0d0887"
            ],
            [
             0.1111111111111111,
             "#46039f"
            ],
            [
             0.2222222222222222,
             "#7201a8"
            ],
            [
             0.3333333333333333,
             "#9c179e"
            ],
            [
             0.4444444444444444,
             "#bd3786"
            ],
            [
             0.5555555555555556,
             "#d8576b"
            ],
            [
             0.6666666666666666,
             "#ed7953"
            ],
            [
             0.7777777777777778,
             "#fb9f3a"
            ],
            [
             0.8888888888888888,
             "#fdca26"
            ],
            [
             1,
             "#f0f921"
            ]
           ]
          },
          "colorway": [
           "#636efa",
           "#EF553B",
           "#00cc96",
           "#ab63fa",
           "#FFA15A",
           "#19d3f3",
           "#FF6692",
           "#B6E880",
           "#FF97FF",
           "#FECB52"
          ],
          "font": {
           "color": "#2a3f5f"
          },
          "geo": {
           "bgcolor": "white",
           "lakecolor": "white",
           "landcolor": "#E5ECF6",
           "showlakes": true,
           "showland": true,
           "subunitcolor": "white"
          },
          "hoverlabel": {
           "align": "left"
          },
          "hovermode": "closest",
          "mapbox": {
           "style": "light"
          },
          "paper_bgcolor": "white",
          "plot_bgcolor": "#E5ECF6",
          "polar": {
           "angularaxis": {
            "gridcolor": "white",
            "linecolor": "white",
            "ticks": ""
           },
           "bgcolor": "#E5ECF6",
           "radialaxis": {
            "gridcolor": "white",
            "linecolor": "white",
            "ticks": ""
           }
          },
          "scene": {
           "xaxis": {
            "backgroundcolor": "#E5ECF6",
            "gridcolor": "white",
            "gridwidth": 2,
            "linecolor": "white",
            "showbackground": true,
            "ticks": "",
            "zerolinecolor": "white"
           },
           "yaxis": {
            "backgroundcolor": "#E5ECF6",
            "gridcolor": "white",
            "gridwidth": 2,
            "linecolor": "white",
            "showbackground": true,
            "ticks": "",
            "zerolinecolor": "white"
           },
           "zaxis": {
            "backgroundcolor": "#E5ECF6",
            "gridcolor": "white",
            "gridwidth": 2,
            "linecolor": "white",
            "showbackground": true,
            "ticks": "",
            "zerolinecolor": "white"
           }
          },
          "shapedefaults": {
           "line": {
            "color": "#2a3f5f"
           }
          },
          "ternary": {
           "aaxis": {
            "gridcolor": "white",
            "linecolor": "white",
            "ticks": ""
           },
           "baxis": {
            "gridcolor": "white",
            "linecolor": "white",
            "ticks": ""
           },
           "bgcolor": "#E5ECF6",
           "caxis": {
            "gridcolor": "white",
            "linecolor": "white",
            "ticks": ""
           }
          },
          "title": {
           "x": 0.05
          },
          "xaxis": {
           "automargin": true,
           "gridcolor": "white",
           "linecolor": "white",
           "ticks": "",
           "title": {
            "standoff": 15
           },
           "zerolinecolor": "white",
           "zerolinewidth": 2
          },
          "yaxis": {
           "automargin": true,
           "gridcolor": "white",
           "linecolor": "white",
           "ticks": "",
           "title": {
            "standoff": 15
           },
           "zerolinecolor": "white",
           "zerolinewidth": 2
          }
         }
        },
        "title": {
         "text": "Estimation de la likelihood par SUMO"
        },
        "xaxis": {
         "title": {
          "text": "Theta"
         }
        },
        "yaxis": {
         "title": {
          "text": "Gradient"
         }
        }
       }
      }
     },
     "metadata": {},
     "output_type": "display_data"
    }
   ],
   "source": [
    "Code.plot_gradient(0.6, x, noised_A, noised_b, theta_true, 15, 'SUMO')"
   ]
  },
  {
   "cell_type": "markdown",
   "metadata": {},
   "source": [
    "### <span style=\"color:orange\">  **1.3 L'estimateurs IWAE (Autoencoder Pondéré par l'Importance)**  </span>\n",
    "\n",
    "Voir l'article séminal sur l'IAWE [ici](https://arxiv.org/pdf/1509.00519.pdf).\n",
    "\n",
    "L'IWAE utilise cette architecture avec à la fois un **réseau génératif** (paramètre $\\boldsymbol{\\theta}$) et un **réseau de reconnaissance** (paramètre $\\phi$). **La différence est qu'il est entraîné à maximiser une autre borne inférieure** sur $\\log p_{\\boldsymbol{\\theta}}(\\boldsymbol{x})$. En particulier, nous utilisons la borne inférieure suivante, correspondant à l'estimation de pondération d'importance à $k$ échantillons de la log-vraisemblance :\n",
    "\n",
    "\\begin{align*}\n",
    "\\ell_{\\text{IAWE}}^{(k)}(\\boldsymbol{\\theta}, \\phi) &= \\mathbb{E}_{\\boldsymbol{z}_1,\\dots,\\boldsymbol{z}_k \\underset{i.i.d}{\\sim} q_{\\phi}(\\boldsymbol{z}|\\boldsymbol{x})}\\left[\\log \\frac{1}{k} \\sum_{i=1}^{k} \\frac{p_{\\boldsymbol{\\theta}}(\\boldsymbol{x}, \\boldsymbol{z}_i)}{q_{\\phi}(\\boldsymbol{z}_i | \\boldsymbol{x})}\\right ]\n",
    "\\end{align*}\n",
    "\n",
    "Ici, $\\boldsymbol{z}_1, \\dots, \\boldsymbol{z}_k$ sont échantillonnés indépendamment du modèle de reconnaissance. Le terme à l'intérieur de la somme correspond aux poids d'importance non normalisés pour la distribution conjointe, que nous noterons $w_i = \\frac{p(\\boldsymbol{x}, \\boldsymbol{z}_i)}{q_{\\phi}(\\boldsymbol{z}_i | \\boldsymbol{x})}$. \n",
    "\n",
    "L'optimisation de $\\ell_{\\text{IAWE}}^{(k)}(\\boldsymbol{\\theta}, \\phi)$ est effectuée conjointement en $\\boldsymbol{\\theta}$ et $\\phi$. \n",
    "\n",
    "Il existe deux propriétés de l'IWAE qui nous permettront de le modifier pour produire un estimateur non biaisé :\n",
    "1. Il est consistant, i.e. lorsque le nombre d'échantillons $k$ augmente, l'espérance de $\\ell_{\\text{IAWE}}^{(k)}(\\boldsymbol{\\theta}, \\phi)$ converge vers $\\log p_{\\boldsymbol{\\theta}}(\\boldsymbol{x})$ : \n",
    "$$\n",
    "\\log p_{\\boldsymbol{\\theta}}(\\boldsymbol{x}) = \\lim_{k \\rightarrow +\\infty} \\mathbb{E}[\\ell_{\\text{IAWE}}^{(k)}(\\boldsymbol{\\theta}, \\phi)]\n",
    "$$\n",
    "\n",
    "2. Il est également croissant en espérance : \n",
    "$$\n",
    "\\mathbb{E}[\\ell_{\\text{IAWE}}^{(k+1)}(\\boldsymbol{\\theta}, \\phi)] \\geq \\mathbb{E}[\\ell_{\\text{IAWE}}^{(k)}(\\boldsymbol{\\theta}, \\phi)]\n",
    "$$ \n",
    "\n",
    "De la même façon que pour les estimateurs précédents, on trace les estimations de l'IWAE sur une plage autour de $\\theta^*$"
   ]
  },
  {
   "cell_type": "code",
   "execution_count": 8,
   "metadata": {},
   "outputs": [
    {
     "name": "stderr",
     "output_type": "stream",
     "text": [
      "Progression:   0%|          | 0/60 [00:00<?, ?it/s]"
     ]
    }
   ],
   "source": [
    "n_simulations = 15 \n",
    "k_IAWE = 20\n",
    "r = 0.6\n",
    "\n",
    "Code.plot_likelihood(r, x, noised_A, noised_b, theta_true,  n_simulations, k_IAWE, \"IWAE\")"
   ]
  },
  {
   "cell_type": "code",
   "execution_count": 14,
   "metadata": {},
   "outputs": [
    {
     "data": {
      "application/vnd.plotly.v1+json": {
       "config": {
        "plotlyServerURL": "https://plot.ly"
       },
       "data": [
        {
         "line": {
          "color": "red"
         },
         "mode": "lines",
         "name": "True Gradient",
         "type": "scatter",
         "x": [
          -2.9388223082554052,
          -2.7693307828316764,
          -2.5998392574079476,
          -2.430347731984219,
          -2.26085620656049,
          -2.091364681136761,
          -1.9218731557130324,
          -1.7523816302893036,
          -1.5828901048655748,
          -1.413398579441846,
          -1.2439070540181172,
          -1.0744155285943884,
          -0.9049240031706596,
          -0.7354324777469308,
          -0.565940952323202,
          -0.39644942689947316,
          -0.22695790147574435,
          -0.057466376052015544,
          0.11202514937171326,
          0.28151667479544207,
          0.4510082002191709,
          0.6204997256428997,
          0.7899912510666285,
          0.9594827764903573,
          1.128974301914086,
          1.2984658273378145,
          1.4679573527615437,
          1.637448878185273,
          1.8069404036090013,
          1.9764319290327297,
          2.145923454456459,
          2.315414979880188,
          2.4849065053039165,
          2.654398030727645,
          2.823889556151374,
          2.9933810815751034,
          3.1628726069988318,
          3.33236413242256,
          3.5018556578462894,
          3.6713471832700186,
          3.840838708693747,
          4.010330234117475,
          4.179821759541205,
          4.349313284964934,
          4.518804810388662,
          4.688296335812391,
          4.85778786123612,
          5.027279386659849,
          5.196770912083577,
          5.366262437507306,
          5.535753962931034,
          5.705245488354764,
          5.874737013778493,
          6.044228539202221,
          6.213720064625951,
          6.3832115900496795,
          6.552703115473408,
          6.722194640897136,
          6.891686166320865,
          7.061177691744595
         ],
         "y": [
          -2.5067273374524603,
          -2.4219815747405957,
          -2.337235812028731,
          -2.252490049316867,
          -2.1677442866050027,
          -2.082998523893138,
          -1.9982527611812737,
          -1.9135069984694093,
          -1.828761235757545,
          -1.7440154730456805,
          -1.659269710333816,
          -1.5745239476219517,
          -1.4897781849100873,
          -1.4050324221982229,
          -1.3202866594863585,
          -1.235540896774494,
          -1.1507951340626297,
          -1.0660493713507653,
          -0.9813036086389009,
          -0.8965578459270365,
          -0.8118120832151721,
          -0.7270663205033077,
          -0.6423205577914433,
          -0.5575747950795789,
          -0.47282903236771445,
          -0.38808326965585027,
          -0.30333750694398565,
          -0.21859174423212102,
          -0.13384598152025684,
          -0.04910021880839266,
          0.035645543903471966,
          0.12039130661533659,
          0.20513706932720077,
          0.28988283203906495,
          0.3746285947509296,
          0.4593743574627942,
          0.5441201201746584,
          0.6288658828865226,
          0.7136116455983872,
          0.7983574083102518,
          0.883103171022116,
          0.9678489337339802,
          1.0525946964458448,
          1.1373404591577094,
          1.2220862218695736,
          1.3068319845814378,
          1.3915777472933024,
          1.476323510005167,
          1.5610692727170312,
          1.6458150354288954,
          1.7305607981407596,
          1.8153065608526247,
          1.9000523235644888,
          1.984798086276353,
          2.069543848988218,
          2.154289611700082,
          2.239035374411946,
          2.3237811371238104,
          2.4085268998356746,
          2.4932726625475397
         ]
        },
        {
         "marker": {
          "color": "purple",
          "symbol": "x"
         },
         "mode": "markers",
         "name": "IWAE",
         "type": "scatter",
         "x": [
          -2.9388223082554052,
          -2.7693307828316764,
          -2.5998392574079476,
          -2.430347731984219,
          -2.26085620656049,
          -2.091364681136761,
          -1.9218731557130324,
          -1.7523816302893036,
          -1.5828901048655748,
          -1.413398579441846,
          -1.2439070540181172,
          -1.0744155285943884,
          -0.9049240031706596,
          -0.7354324777469308,
          -0.565940952323202,
          -0.39644942689947316,
          -0.22695790147574435,
          -0.057466376052015544,
          0.11202514937171326,
          0.28151667479544207,
          0.4510082002191709,
          0.6204997256428997,
          0.7899912510666285,
          0.9594827764903573,
          1.128974301914086,
          1.2984658273378145,
          1.4679573527615437,
          1.637448878185273,
          1.8069404036090013,
          1.9764319290327297,
          2.145923454456459,
          2.315414979880188,
          2.4849065053039165,
          2.654398030727645,
          2.823889556151374,
          2.9933810815751034,
          3.1628726069988318,
          3.33236413242256,
          3.5018556578462894,
          3.6713471832700186,
          3.840838708693747,
          4.010330234117475,
          4.179821759541205,
          4.349313284964934,
          4.518804810388662,
          4.688296335812391,
          4.85778786123612,
          5.027279386659849,
          5.196770912083577,
          5.366262437507306,
          5.535753962931034,
          5.705245488354764,
          5.874737013778493,
          6.044228539202221,
          6.213720064625951,
          6.3832115900496795,
          6.552703115473408,
          6.722194640897136,
          6.891686166320865,
          7.061177691744595
         ],
         "y": [
          -1.647569300775838,
          0.9921005540238355,
          1.2266357565493422,
          -2.237004696398543,
          0.19598470217805186,
          1.8084234147173959,
          -1.804536281631357,
          -1.4650922144857645,
          0.23713069436352896,
          0.4538310012763844,
          1.0276366237158783,
          0.9021460977182585,
          -1.377149309263558,
          -0.1710898131118057,
          2.34654818554921,
          -0.2454855883866287,
          0.03525184330941045,
          -0.4417449629078476,
          -1.8474368388463063,
          0.7814509196054331,
          1.4202161361134955,
          0.4638284860679249,
          -0.3682603339704258,
          0.14771503950763076,
          1.6630620689185633,
          -1.3864036659374364,
          -3.5196509914219547,
          0.4286269418898314,
          2.6538864489521927,
          1.960032752173035,
          -0.1414850034992554,
          -1.2237040728297472,
          0.5852552988344968,
          -3.4194190265609166,
          -0.513711606957088,
          1.6052135915360282,
          -1.439596262228207,
          0.8342592341355157,
          -0.49736134164042767,
          0.2355386126589707,
          1.5677216308287143,
          -0.8412000454814716,
          -0.8454757315808763,
          1.252498013448303,
          -0.3266148425610851,
          -1.4606759967178107,
          0.23894984403131048,
          2.021036114848471,
          -0.8650264562966186,
          -2.0407597390192365,
          1.0500521766603015,
          0.5860873435550644,
          0.5091353538306151,
          1.485447218497498,
          -0.136606853698666,
          0.251363119771284,
          0.30104868822755293,
          -1.005344397434726,
          0.5985163432707452,
          1.7573221103815682
         ]
        }
       ],
       "layout": {
        "legend": {
         "font": {
          "size": 12
         },
         "traceorder": "normal",
         "x": 0,
         "y": 1
        },
        "shapes": [
         {
          "line": {
           "color": "black",
           "dash": "dash",
           "width": 2
          },
          "name": "theta=2.0611776917445948",
          "type": "line",
          "x0": 2.0611776917445948,
          "x1": 2.0611776917445948,
          "y0": -3.5196509914219547,
          "y1": 2.6538864489521927
         }
        ],
        "showlegend": true,
        "template": {
         "data": {
          "bar": [
           {
            "error_x": {
             "color": "#2a3f5f"
            },
            "error_y": {
             "color": "#2a3f5f"
            },
            "marker": {
             "line": {
              "color": "#E5ECF6",
              "width": 0.5
             },
             "pattern": {
              "fillmode": "overlay",
              "size": 10,
              "solidity": 0.2
             }
            },
            "type": "bar"
           }
          ],
          "barpolar": [
           {
            "marker": {
             "line": {
              "color": "#E5ECF6",
              "width": 0.5
             },
             "pattern": {
              "fillmode": "overlay",
              "size": 10,
              "solidity": 0.2
             }
            },
            "type": "barpolar"
           }
          ],
          "carpet": [
           {
            "aaxis": {
             "endlinecolor": "#2a3f5f",
             "gridcolor": "white",
             "linecolor": "white",
             "minorgridcolor": "white",
             "startlinecolor": "#2a3f5f"
            },
            "baxis": {
             "endlinecolor": "#2a3f5f",
             "gridcolor": "white",
             "linecolor": "white",
             "minorgridcolor": "white",
             "startlinecolor": "#2a3f5f"
            },
            "type": "carpet"
           }
          ],
          "choropleth": [
           {
            "colorbar": {
             "outlinewidth": 0,
             "ticks": ""
            },
            "type": "choropleth"
           }
          ],
          "contour": [
           {
            "colorbar": {
             "outlinewidth": 0,
             "ticks": ""
            },
            "colorscale": [
             [
              0,
              "#0d0887"
             ],
             [
              0.1111111111111111,
              "#46039f"
             ],
             [
              0.2222222222222222,
              "#7201a8"
             ],
             [
              0.3333333333333333,
              "#9c179e"
             ],
             [
              0.4444444444444444,
              "#bd3786"
             ],
             [
              0.5555555555555556,
              "#d8576b"
             ],
             [
              0.6666666666666666,
              "#ed7953"
             ],
             [
              0.7777777777777778,
              "#fb9f3a"
             ],
             [
              0.8888888888888888,
              "#fdca26"
             ],
             [
              1,
              "#f0f921"
             ]
            ],
            "type": "contour"
           }
          ],
          "contourcarpet": [
           {
            "colorbar": {
             "outlinewidth": 0,
             "ticks": ""
            },
            "type": "contourcarpet"
           }
          ],
          "heatmap": [
           {
            "colorbar": {
             "outlinewidth": 0,
             "ticks": ""
            },
            "colorscale": [
             [
              0,
              "#0d0887"
             ],
             [
              0.1111111111111111,
              "#46039f"
             ],
             [
              0.2222222222222222,
              "#7201a8"
             ],
             [
              0.3333333333333333,
              "#9c179e"
             ],
             [
              0.4444444444444444,
              "#bd3786"
             ],
             [
              0.5555555555555556,
              "#d8576b"
             ],
             [
              0.6666666666666666,
              "#ed7953"
             ],
             [
              0.7777777777777778,
              "#fb9f3a"
             ],
             [
              0.8888888888888888,
              "#fdca26"
             ],
             [
              1,
              "#f0f921"
             ]
            ],
            "type": "heatmap"
           }
          ],
          "heatmapgl": [
           {
            "colorbar": {
             "outlinewidth": 0,
             "ticks": ""
            },
            "colorscale": [
             [
              0,
              "#0d0887"
             ],
             [
              0.1111111111111111,
              "#46039f"
             ],
             [
              0.2222222222222222,
              "#7201a8"
             ],
             [
              0.3333333333333333,
              "#9c179e"
             ],
             [
              0.4444444444444444,
              "#bd3786"
             ],
             [
              0.5555555555555556,
              "#d8576b"
             ],
             [
              0.6666666666666666,
              "#ed7953"
             ],
             [
              0.7777777777777778,
              "#fb9f3a"
             ],
             [
              0.8888888888888888,
              "#fdca26"
             ],
             [
              1,
              "#f0f921"
             ]
            ],
            "type": "heatmapgl"
           }
          ],
          "histogram": [
           {
            "marker": {
             "pattern": {
              "fillmode": "overlay",
              "size": 10,
              "solidity": 0.2
             }
            },
            "type": "histogram"
           }
          ],
          "histogram2d": [
           {
            "colorbar": {
             "outlinewidth": 0,
             "ticks": ""
            },
            "colorscale": [
             [
              0,
              "#0d0887"
             ],
             [
              0.1111111111111111,
              "#46039f"
             ],
             [
              0.2222222222222222,
              "#7201a8"
             ],
             [
              0.3333333333333333,
              "#9c179e"
             ],
             [
              0.4444444444444444,
              "#bd3786"
             ],
             [
              0.5555555555555556,
              "#d8576b"
             ],
             [
              0.6666666666666666,
              "#ed7953"
             ],
             [
              0.7777777777777778,
              "#fb9f3a"
             ],
             [
              0.8888888888888888,
              "#fdca26"
             ],
             [
              1,
              "#f0f921"
             ]
            ],
            "type": "histogram2d"
           }
          ],
          "histogram2dcontour": [
           {
            "colorbar": {
             "outlinewidth": 0,
             "ticks": ""
            },
            "colorscale": [
             [
              0,
              "#0d0887"
             ],
             [
              0.1111111111111111,
              "#46039f"
             ],
             [
              0.2222222222222222,
              "#7201a8"
             ],
             [
              0.3333333333333333,
              "#9c179e"
             ],
             [
              0.4444444444444444,
              "#bd3786"
             ],
             [
              0.5555555555555556,
              "#d8576b"
             ],
             [
              0.6666666666666666,
              "#ed7953"
             ],
             [
              0.7777777777777778,
              "#fb9f3a"
             ],
             [
              0.8888888888888888,
              "#fdca26"
             ],
             [
              1,
              "#f0f921"
             ]
            ],
            "type": "histogram2dcontour"
           }
          ],
          "mesh3d": [
           {
            "colorbar": {
             "outlinewidth": 0,
             "ticks": ""
            },
            "type": "mesh3d"
           }
          ],
          "parcoords": [
           {
            "line": {
             "colorbar": {
              "outlinewidth": 0,
              "ticks": ""
             }
            },
            "type": "parcoords"
           }
          ],
          "pie": [
           {
            "automargin": true,
            "type": "pie"
           }
          ],
          "scatter": [
           {
            "fillpattern": {
             "fillmode": "overlay",
             "size": 10,
             "solidity": 0.2
            },
            "type": "scatter"
           }
          ],
          "scatter3d": [
           {
            "line": {
             "colorbar": {
              "outlinewidth": 0,
              "ticks": ""
             }
            },
            "marker": {
             "colorbar": {
              "outlinewidth": 0,
              "ticks": ""
             }
            },
            "type": "scatter3d"
           }
          ],
          "scattercarpet": [
           {
            "marker": {
             "colorbar": {
              "outlinewidth": 0,
              "ticks": ""
             }
            },
            "type": "scattercarpet"
           }
          ],
          "scattergeo": [
           {
            "marker": {
             "colorbar": {
              "outlinewidth": 0,
              "ticks": ""
             }
            },
            "type": "scattergeo"
           }
          ],
          "scattergl": [
           {
            "marker": {
             "colorbar": {
              "outlinewidth": 0,
              "ticks": ""
             }
            },
            "type": "scattergl"
           }
          ],
          "scattermapbox": [
           {
            "marker": {
             "colorbar": {
              "outlinewidth": 0,
              "ticks": ""
             }
            },
            "type": "scattermapbox"
           }
          ],
          "scatterpolar": [
           {
            "marker": {
             "colorbar": {
              "outlinewidth": 0,
              "ticks": ""
             }
            },
            "type": "scatterpolar"
           }
          ],
          "scatterpolargl": [
           {
            "marker": {
             "colorbar": {
              "outlinewidth": 0,
              "ticks": ""
             }
            },
            "type": "scatterpolargl"
           }
          ],
          "scatterternary": [
           {
            "marker": {
             "colorbar": {
              "outlinewidth": 0,
              "ticks": ""
             }
            },
            "type": "scatterternary"
           }
          ],
          "surface": [
           {
            "colorbar": {
             "outlinewidth": 0,
             "ticks": ""
            },
            "colorscale": [
             [
              0,
              "#0d0887"
             ],
             [
              0.1111111111111111,
              "#46039f"
             ],
             [
              0.2222222222222222,
              "#7201a8"
             ],
             [
              0.3333333333333333,
              "#9c179e"
             ],
             [
              0.4444444444444444,
              "#bd3786"
             ],
             [
              0.5555555555555556,
              "#d8576b"
             ],
             [
              0.6666666666666666,
              "#ed7953"
             ],
             [
              0.7777777777777778,
              "#fb9f3a"
             ],
             [
              0.8888888888888888,
              "#fdca26"
             ],
             [
              1,
              "#f0f921"
             ]
            ],
            "type": "surface"
           }
          ],
          "table": [
           {
            "cells": {
             "fill": {
              "color": "#EBF0F8"
             },
             "line": {
              "color": "white"
             }
            },
            "header": {
             "fill": {
              "color": "#C8D4E3"
             },
             "line": {
              "color": "white"
             }
            },
            "type": "table"
           }
          ]
         },
         "layout": {
          "annotationdefaults": {
           "arrowcolor": "#2a3f5f",
           "arrowhead": 0,
           "arrowwidth": 1
          },
          "autotypenumbers": "strict",
          "coloraxis": {
           "colorbar": {
            "outlinewidth": 0,
            "ticks": ""
           }
          },
          "colorscale": {
           "diverging": [
            [
             0,
             "#8e0152"
            ],
            [
             0.1,
             "#c51b7d"
            ],
            [
             0.2,
             "#de77ae"
            ],
            [
             0.3,
             "#f1b6da"
            ],
            [
             0.4,
             "#fde0ef"
            ],
            [
             0.5,
             "#f7f7f7"
            ],
            [
             0.6,
             "#e6f5d0"
            ],
            [
             0.7,
             "#b8e186"
            ],
            [
             0.8,
             "#7fbc41"
            ],
            [
             0.9,
             "#4d9221"
            ],
            [
             1,
             "#276419"
            ]
           ],
           "sequential": [
            [
             0,
             "#0d0887"
            ],
            [
             0.1111111111111111,
             "#46039f"
            ],
            [
             0.2222222222222222,
             "#7201a8"
            ],
            [
             0.3333333333333333,
             "#9c179e"
            ],
            [
             0.4444444444444444,
             "#bd3786"
            ],
            [
             0.5555555555555556,
             "#d8576b"
            ],
            [
             0.6666666666666666,
             "#ed7953"
            ],
            [
             0.7777777777777778,
             "#fb9f3a"
            ],
            [
             0.8888888888888888,
             "#fdca26"
            ],
            [
             1,
             "#f0f921"
            ]
           ],
           "sequentialminus": [
            [
             0,
             "#0d0887"
            ],
            [
             0.1111111111111111,
             "#46039f"
            ],
            [
             0.2222222222222222,
             "#7201a8"
            ],
            [
             0.3333333333333333,
             "#9c179e"
            ],
            [
             0.4444444444444444,
             "#bd3786"
            ],
            [
             0.5555555555555556,
             "#d8576b"
            ],
            [
             0.6666666666666666,
             "#ed7953"
            ],
            [
             0.7777777777777778,
             "#fb9f3a"
            ],
            [
             0.8888888888888888,
             "#fdca26"
            ],
            [
             1,
             "#f0f921"
            ]
           ]
          },
          "colorway": [
           "#636efa",
           "#EF553B",
           "#00cc96",
           "#ab63fa",
           "#FFA15A",
           "#19d3f3",
           "#FF6692",
           "#B6E880",
           "#FF97FF",
           "#FECB52"
          ],
          "font": {
           "color": "#2a3f5f"
          },
          "geo": {
           "bgcolor": "white",
           "lakecolor": "white",
           "landcolor": "#E5ECF6",
           "showlakes": true,
           "showland": true,
           "subunitcolor": "white"
          },
          "hoverlabel": {
           "align": "left"
          },
          "hovermode": "closest",
          "mapbox": {
           "style": "light"
          },
          "paper_bgcolor": "white",
          "plot_bgcolor": "#E5ECF6",
          "polar": {
           "angularaxis": {
            "gridcolor": "white",
            "linecolor": "white",
            "ticks": ""
           },
           "bgcolor": "#E5ECF6",
           "radialaxis": {
            "gridcolor": "white",
            "linecolor": "white",
            "ticks": ""
           }
          },
          "scene": {
           "xaxis": {
            "backgroundcolor": "#E5ECF6",
            "gridcolor": "white",
            "gridwidth": 2,
            "linecolor": "white",
            "showbackground": true,
            "ticks": "",
            "zerolinecolor": "white"
           },
           "yaxis": {
            "backgroundcolor": "#E5ECF6",
            "gridcolor": "white",
            "gridwidth": 2,
            "linecolor": "white",
            "showbackground": true,
            "ticks": "",
            "zerolinecolor": "white"
           },
           "zaxis": {
            "backgroundcolor": "#E5ECF6",
            "gridcolor": "white",
            "gridwidth": 2,
            "linecolor": "white",
            "showbackground": true,
            "ticks": "",
            "zerolinecolor": "white"
           }
          },
          "shapedefaults": {
           "line": {
            "color": "#2a3f5f"
           }
          },
          "ternary": {
           "aaxis": {
            "gridcolor": "white",
            "linecolor": "white",
            "ticks": ""
           },
           "baxis": {
            "gridcolor": "white",
            "linecolor": "white",
            "ticks": ""
           },
           "bgcolor": "#E5ECF6",
           "caxis": {
            "gridcolor": "white",
            "linecolor": "white",
            "ticks": ""
           }
          },
          "title": {
           "x": 0.05
          },
          "xaxis": {
           "automargin": true,
           "gridcolor": "white",
           "linecolor": "white",
           "ticks": "",
           "title": {
            "standoff": 15
           },
           "zerolinecolor": "white",
           "zerolinewidth": 2
          },
          "yaxis": {
           "automargin": true,
           "gridcolor": "white",
           "linecolor": "white",
           "ticks": "",
           "title": {
            "standoff": 15
           },
           "zerolinecolor": "white",
           "zerolinewidth": 2
          }
         }
        },
        "title": {
         "text": "Estimation de la likelihood par IWAE"
        },
        "xaxis": {
         "title": {
          "text": "Theta"
         }
        },
        "yaxis": {
         "title": {
          "text": "Gradient"
         }
        }
       }
      }
     },
     "metadata": {},
     "output_type": "display_data"
    }
   ],
   "source": [
    "Code.plot_gradient(0.6, x, noised_A, noised_b, theta_true, 15, 'IWAE')"
   ]
  },
  {
   "cell_type": "markdown",
   "metadata": {},
   "source": [
    "### <span style=\"color:orange\">  **1.4 Comparaison entre les différents estimateurs**  </span>\n",
    "\n",
    "Dans cette partie, nous allons comparer les estimateurs sur un même graphique. "
   ]
  },
  {
   "cell_type": "code",
   "execution_count": 15,
   "metadata": {},
   "outputs": [
    {
     "name": "stderr",
     "output_type": "stream",
     "text": [
      "Progression: 100%|██████████| 60/60 [02:06<00:00,  2.11s/it]\n"
     ]
    },
    {
     "data": {
      "application/vnd.plotly.v1+json": {
       "config": {
        "plotlyServerURL": "https://plot.ly"
       },
       "data": [
        {
         "line": {
          "color": "red"
         },
         "mode": "lines",
         "name": "True likelihood",
         "type": "scatter",
         "x": [
          -2.9388223082554052,
          -2.7693307828316764,
          -2.5998392574079476,
          -2.430347731984219,
          -2.26085620656049,
          -2.091364681136761,
          -1.9218731557130324,
          -1.7523816302893036,
          -1.5828901048655748,
          -1.413398579441846,
          -1.2439070540181172,
          -1.0744155285943884,
          -0.9049240031706596,
          -0.7354324777469308,
          -0.565940952323202,
          -0.39644942689947316,
          -0.22695790147574435,
          -0.057466376052015544,
          0.11202514937171326,
          0.28151667479544207,
          0.4510082002191709,
          0.6204997256428997,
          0.7899912510666285,
          0.9594827764903573,
          1.128974301914086,
          1.2984658273378145,
          1.4679573527615437,
          1.637448878185273,
          1.8069404036090013,
          1.9764319290327297,
          2.145923454456459,
          2.315414979880188,
          2.4849065053039165,
          2.654398030727645,
          2.823889556151374,
          2.9933810815751034,
          3.1628726069988318,
          3.33236413242256,
          3.5018556578462894,
          3.6713471832700186,
          3.840838708693747,
          4.010330234117475,
          4.179821759541205,
          4.349313284964934,
          4.518804810388662,
          4.688296335812391,
          4.85778786123612,
          5.027279386659849,
          5.196770912083577,
          5.366262437507306,
          5.535753962931034,
          5.705245488354764,
          5.874737013778493,
          6.044228539202221,
          6.213720064625951,
          6.3832115900496795,
          6.552703115473408,
          6.722194640897136,
          6.891686166320865,
          7.061177691744595
         ],
         "y": [
          -152.99269754297242,
          -144.63895362400115,
          -136.57248347693448,
          -128.79328710177245,
          -121.30136449851506,
          -114.09671566716226,
          -107.17934060771411,
          -100.54923932017059,
          -94.20641180453167,
          -88.15085806079739,
          -82.38257808896776,
          -76.90157188904271,
          -71.70783946102232,
          -66.80138080490653,
          -62.182195920695364,
          -57.85028480838884,
          -53.80564746798694,
          -50.048283899489654,
          -46.57819410289701,
          -43.39537807820897,
          -40.49983582542556,
          -37.89156734454679,
          -35.57057263557264,
          -33.536851698503106,
          -31.790404533338204,
          -30.33123114007793,
          -29.159331518722272,
          -28.27470566927124,
          -27.677353591724835,
          -27.36727528608306,
          -27.344470752345906,
          -27.608939990513377,
          -28.160683000585475,
          -28.999699782562192,
          -30.125990336443543,
          -31.539554662229516,
          -33.24039275992011,
          -35.228504629515335,
          -37.50389027101518,
          -40.06654968441966,
          -42.91648286972875,
          -46.05368982694247,
          -49.478170556060824,
          -53.189925057083805,
          -57.18895333001139,
          -61.4752553748436,
          -66.04883119158046,
          -70.90968078022195,
          -76.05780414076803,
          -81.49320127321874,
          -87.21587217757407,
          -93.2258168538341,
          -99.52303530199869,
          -106.10752752206788,
          -112.97929351404179,
          -120.13833327792025,
          -127.5846468137033,
          -135.31823412139101,
          -143.33909520098337,
          -151.6472300524804
         ]
        },
        {
         "marker": {
          "color": "purple",
          "symbol": "x"
         },
         "mode": "markers",
         "name": "IWAE",
         "type": "scatter",
         "x": [
          -2.9388223082554052,
          -2.7693307828316764,
          -2.5998392574079476,
          -2.430347731984219,
          -2.26085620656049,
          -2.091364681136761,
          -1.9218731557130324,
          -1.7523816302893036,
          -1.5828901048655748,
          -1.413398579441846,
          -1.2439070540181172,
          -1.0744155285943884,
          -0.9049240031706596,
          -0.7354324777469308,
          -0.565940952323202,
          -0.39644942689947316,
          -0.22695790147574435,
          -0.057466376052015544,
          0.11202514937171326,
          0.28151667479544207,
          0.4510082002191709,
          0.6204997256428997,
          0.7899912510666285,
          0.9594827764903573,
          1.128974301914086,
          1.2984658273378145,
          1.4679573527615437,
          1.637448878185273,
          1.8069404036090013,
          1.9764319290327297,
          2.145923454456459,
          2.315414979880188,
          2.4849065053039165,
          2.654398030727645,
          2.823889556151374,
          2.9933810815751034,
          3.1628726069988318,
          3.33236413242256,
          3.5018556578462894,
          3.6713471832700186,
          3.840838708693747,
          4.010330234117475,
          4.179821759541205,
          4.349313284964934,
          4.518804810388662,
          4.688296335812391,
          4.85778786123612,
          5.027279386659849,
          5.196770912083577,
          5.366262437507306,
          5.535753962931034,
          5.705245488354764,
          5.874737013778493,
          6.044228539202221,
          6.213720064625951,
          6.3832115900496795,
          6.552703115473408,
          6.722194640897136,
          6.891686166320865,
          7.061177691744595
         ],
         "y": [
          -260.2862477438511,
          -249.25308382460662,
          -232.12633656938962,
          -217.55756297209197,
          -182.9546950457394,
          -169.7131270675972,
          -136.98152127565385,
          -171.65802980642093,
          -146.26058655865558,
          -147.16589582854888,
          -97.69936860043822,
          -122.85149023134582,
          -15.01527564582078,
          -101.41736910459025,
          -66.91932189069112,
          -32.30662494455979,
          -74.0410946335605,
          -74.43312214321432,
          -58.8109063944339,
          -58.163906734948384,
          -52.930708296665266,
          -30.0676339337092,
          -46.85194209874294,
          -42.23152011476024,
          -37.72394944439823,
          -38.85681792879663,
          -36.986158470209396,
          -35.59727560307759,
          -34.71524223918108,
          -34.377283289621985,
          -34.20227509095696,
          -34.35490797343885,
          -35.27334854962125,
          -37.141537824434366,
          -38.06497119639184,
          -40.18985504143286,
          -42.2164829080931,
          -46.92837272485297,
          -52.452297359422964,
          -54.53352417080831,
          -52.49300001288308,
          -46.93137669799221,
          -70.81586528100166,
          -75.04834557888785,
          -84.2460763833822,
          -69.47561344520543,
          -104.87669813192942,
          -111.90539364689158,
          -102.27969828099917,
          -127.18298569984076,
          -147.68349695306284,
          -148.54851091232192,
          -162.8415087521799,
          -169.11212901364186,
          -191.3946569802408,
          -205.6805870887021,
          -225.09298772363567,
          -209.42158086477153,
          -253.0168976694892,
          -228.08441836359816
         ]
        },
        {
         "marker": {
          "color": "orange",
          "symbol": "x"
         },
         "mode": "markers",
         "name": "ML_SS",
         "type": "scatter",
         "x": [
          -2.9388223082554052,
          -2.7693307828316764,
          -2.5998392574079476,
          -2.430347731984219,
          -2.26085620656049,
          -2.091364681136761,
          -1.9218731557130324,
          -1.7523816302893036,
          -1.5828901048655748,
          -1.413398579441846,
          -1.2439070540181172,
          -1.0744155285943884,
          -0.9049240031706596,
          -0.7354324777469308,
          -0.565940952323202,
          -0.39644942689947316,
          -0.22695790147574435,
          -0.057466376052015544,
          0.11202514937171326,
          0.28151667479544207,
          0.4510082002191709,
          0.6204997256428997,
          0.7899912510666285,
          0.9594827764903573,
          1.128974301914086,
          1.2984658273378145,
          1.4679573527615437,
          1.637448878185273,
          1.8069404036090013,
          1.9764319290327297,
          2.145923454456459,
          2.315414979880188,
          2.4849065053039165,
          2.654398030727645,
          2.823889556151374,
          2.9933810815751034,
          3.1628726069988318,
          3.33236413242256,
          3.5018556578462894,
          3.6713471832700186,
          3.840838708693747,
          4.010330234117475,
          4.179821759541205,
          4.349313284964934,
          4.518804810388662,
          4.688296335812391,
          4.85778786123612,
          5.027279386659849,
          5.196770912083577,
          5.366262437507306,
          5.535753962931034,
          5.705245488354764,
          5.874737013778493,
          6.044228539202221,
          6.213720064625951,
          6.3832115900496795,
          6.552703115473408,
          6.722194640897136,
          6.891686166320865,
          7.061177691744595
         ],
         "y": [
          -250.39924243285608,
          -177.83172269541046,
          -221.1869702070674,
          -194.24028138768128,
          -205.1435932621012,
          -150.7358806908505,
          -151.87256546407386,
          -151.8135195977764,
          -90.9778319125921,
          -106.21412833877746,
          -109.54851402039853,
          -48.681925214147,
          14.675346102052517,
          -71.9257842527498,
          -89.59003947113982,
          -82.41923669948129,
          -65.23882064746061,
          -64.03302455302655,
          -57.73176014601399,
          -53.56402100660201,
          -48.531373290116306,
          -44.08389430571197,
          -40.25882698888829,
          -38.39968420839997,
          -36.851172893259914,
          -36.68902430186118,
          -35.74570636663084,
          -35.06348954254329,
          -34.36989946828617,
          -33.53503586596499,
          -34.10620282150409,
          -33.73257830272039,
          -33.13924830335271,
          -34.29561570695089,
          -34.06223703408389,
          -39.21319067701437,
          -40.7720419229224,
          -42.648187051260685,
          -47.54357181083491,
          -52.51343642750762,
          -34.45959398284549,
          -56.81363547180188,
          -65.1205415816822,
          -70.46624992026919,
          -70.84515018621282,
          -72.18583224950572,
          -91.01130763466072,
          87.55953855665759,
          -112.66723339409378,
          -120.8729635306893,
          -134.62207154740105,
          -145.07779528773563,
          -151.56564541857432,
          -168.34101477384993,
          -149.2498577561369,
          -156.60258348728365,
          -185.07329403673097,
          12832.611669611731,
          -226.02191492009757,
          -261.0478270395253
         ]
        },
        {
         "marker": {
          "color": "green",
          "symbol": "x"
         },
         "mode": "markers",
         "name": "ML_RR",
         "type": "scatter",
         "x": [
          -2.9388223082554052,
          -2.7693307828316764,
          -2.5998392574079476,
          -2.430347731984219,
          -2.26085620656049,
          -2.091364681136761,
          -1.9218731557130324,
          -1.7523816302893036,
          -1.5828901048655748,
          -1.413398579441846,
          -1.2439070540181172,
          -1.0744155285943884,
          -0.9049240031706596,
          -0.7354324777469308,
          -0.565940952323202,
          -0.39644942689947316,
          -0.22695790147574435,
          -0.057466376052015544,
          0.11202514937171326,
          0.28151667479544207,
          0.4510082002191709,
          0.6204997256428997,
          0.7899912510666285,
          0.9594827764903573,
          1.128974301914086,
          1.2984658273378145,
          1.4679573527615437,
          1.637448878185273,
          1.8069404036090013,
          1.9764319290327297,
          2.145923454456459,
          2.315414979880188,
          2.4849065053039165,
          2.654398030727645,
          2.823889556151374,
          2.9933810815751034,
          3.1628726069988318,
          3.33236413242256,
          3.5018556578462894,
          3.6713471832700186,
          3.840838708693747,
          4.010330234117475,
          4.179821759541205,
          4.349313284964934,
          4.518804810388662,
          4.688296335812391,
          4.85778786123612,
          5.027279386659849,
          5.196770912083577,
          5.366262437507306,
          5.535753962931034,
          5.705245488354764,
          5.874737013778493,
          6.044228539202221,
          6.213720064625951,
          6.3832115900496795,
          6.552703115473408,
          6.722194640897136,
          6.891686166320865,
          7.061177691744595
         ],
         "y": [
          -279.88150818405774,
          -247.82887920521395,
          -245.66494278623986,
          -193.68028372608222,
          -215.37530527801408,
          -215.0057785422785,
          -170.69753879854323,
          -172.24224767787942,
          -149.11977405439015,
          -153.26584295862764,
          -114.69023934883734,
          -130.7995364052685,
          -118.4993068320076,
          -109.46614253647252,
          -101.72810731337418,
          -84.6083796632421,
          -84.03009697604138,
          -1230.9983270468829,
          -76.39772542332535,
          -59.74796988116382,
          -56.89699753698377,
          -45.667656417627214,
          -50.89829844953657,
          -44.042200436549734,
          -43.08489025794473,
          -37.93939987929335,
          -37.05402683497876,
          -36.12004482062885,
          -35.763206554042526,
          -34.4882892050122,
          -32.92404570697755,
          -35.03352841988035,
          -35.789883363229784,
          -37.676420210470994,
          -133.85786918416176,
          -43.451653295704666,
          -43.256437540527564,
          -51.75635317104592,
          -45.05874650981541,
          -62.83591248216912,
          -64.74762322142011,
          -73.71621018482354,
          -78.92060446078291,
          -83.85530019374697,
          -89.53497613641393,
          -102.99051105837984,
          -108.41236622333909,
          -115.52642702047274,
          -130.4252441943812,
          -140.81555319440443,
          -153.8467295440099,
          -148.46876182669263,
          -182.08539199005847,
          -185.65215104372547,
          -206.58146256304266,
          -208.0601030515307,
          -239.89831042884785,
          -246.34899959489272,
          -251.97471987447014,
          -268.0743355626909
         ]
        },
        {
         "marker": {
          "color": "yellow",
          "symbol": "x"
         },
         "mode": "markers",
         "name": "SUMO",
         "type": "scatter",
         "x": [
          -2.9388223082554052,
          -2.7693307828316764,
          -2.5998392574079476,
          -2.430347731984219,
          -2.26085620656049,
          -2.091364681136761,
          -1.9218731557130324,
          -1.7523816302893036,
          -1.5828901048655748,
          -1.413398579441846,
          -1.2439070540181172,
          -1.0744155285943884,
          -0.9049240031706596,
          -0.7354324777469308,
          -0.565940952323202,
          -0.39644942689947316,
          -0.22695790147574435,
          -0.057466376052015544,
          0.11202514937171326,
          0.28151667479544207,
          0.4510082002191709,
          0.6204997256428997,
          0.7899912510666285,
          0.9594827764903573,
          1.128974301914086,
          1.2984658273378145,
          1.4679573527615437,
          1.637448878185273,
          1.8069404036090013,
          1.9764319290327297,
          2.145923454456459,
          2.315414979880188,
          2.4849065053039165,
          2.654398030727645,
          2.823889556151374,
          2.9933810815751034,
          3.1628726069988318,
          3.33236413242256,
          3.5018556578462894,
          3.6713471832700186,
          3.840838708693747,
          4.010330234117475,
          4.179821759541205,
          4.349313284964934,
          4.518804810388662,
          4.688296335812391,
          4.85778786123612,
          5.027279386659849,
          5.196770912083577,
          5.366262437507306,
          5.535753962931034,
          5.705245488354764,
          5.874737013778493,
          6.044228539202221,
          6.213720064625951,
          6.3832115900496795,
          6.552703115473408,
          6.722194640897136,
          6.891686166320865,
          7.061177691744595
         ],
         "y": [
          -279.2592160316281,
          -253.80514784113953,
          -248.4592123599784,
          -230.48436866814788,
          -223.551314378753,
          -198.74462151717518,
          -187.06164464888795,
          -178.01852706557642,
          -161.81741898950747,
          -149.80306344519315,
          -139.47670880048526,
          -128.36356064524765,
          -119.2620582425579,
          -110.84561103201294,
          -99.96377372285512,
          -93.64218514213516,
          -83.66129189499308,
          -80.93773408512318,
          -70.43821587779257,
          -64.81521323304734,
          -58.47576576561086,
          -54.26626205622287,
          -49.32779947060299,
          -44.565354650073544,
          -41.63553831315841,
          -39.7684632797858,
          -38.15917838430213,
          -35.519958757939,
          -35.19076079588653,
          -34.593091919284156,
          -34.645945313380984,
          -34.44380603277151,
          -35.30297953621227,
          -38.35337141992907,
          -39.5750687420001,
          -43.596119073213636,
          -47.53894804556318,
          -50.10020535834123,
          -53.47201091320694,
          -60.41933776351575,
          -63.19051779261626,
          -69.30754774230975,
          -75.33054006488037,
          -85.36572972837993,
          -96.62367440306802,
          -101.87551670237103,
          -113.95954911606427,
          -115.8211649632225,
          -137.00506929846367,
          -145.6946628931965,
          -149.2290594458706,
          -166.60999146049883,
          -177.99345582776053,
          -186.6367235457954,
          -203.87952270284285,
          -218.43384777811426,
          -233.12592590620363,
          -247.29987663796229,
          -265.7448093163545,
          -274.35504520235486
         ]
        }
       ],
       "layout": {
        "grid": {
         "columns": 1,
         "rows": 1
        },
        "legend": {
         "font": {
          "size": 10
         }
        },
        "shapes": [
         {
          "line": {
           "color": "black",
           "dash": "dash"
          },
          "name": "Theta=2.0611776917445948",
          "type": "line",
          "x0": 2.0611776917445948,
          "x1": 2.0611776917445948,
          "y0": -300,
          "y1": 500
         }
        ],
        "showlegend": true,
        "template": {
         "data": {
          "bar": [
           {
            "error_x": {
             "color": "#2a3f5f"
            },
            "error_y": {
             "color": "#2a3f5f"
            },
            "marker": {
             "line": {
              "color": "#E5ECF6",
              "width": 0.5
             },
             "pattern": {
              "fillmode": "overlay",
              "size": 10,
              "solidity": 0.2
             }
            },
            "type": "bar"
           }
          ],
          "barpolar": [
           {
            "marker": {
             "line": {
              "color": "#E5ECF6",
              "width": 0.5
             },
             "pattern": {
              "fillmode": "overlay",
              "size": 10,
              "solidity": 0.2
             }
            },
            "type": "barpolar"
           }
          ],
          "carpet": [
           {
            "aaxis": {
             "endlinecolor": "#2a3f5f",
             "gridcolor": "white",
             "linecolor": "white",
             "minorgridcolor": "white",
             "startlinecolor": "#2a3f5f"
            },
            "baxis": {
             "endlinecolor": "#2a3f5f",
             "gridcolor": "white",
             "linecolor": "white",
             "minorgridcolor": "white",
             "startlinecolor": "#2a3f5f"
            },
            "type": "carpet"
           }
          ],
          "choropleth": [
           {
            "colorbar": {
             "outlinewidth": 0,
             "ticks": ""
            },
            "type": "choropleth"
           }
          ],
          "contour": [
           {
            "colorbar": {
             "outlinewidth": 0,
             "ticks": ""
            },
            "colorscale": [
             [
              0,
              "#0d0887"
             ],
             [
              0.1111111111111111,
              "#46039f"
             ],
             [
              0.2222222222222222,
              "#7201a8"
             ],
             [
              0.3333333333333333,
              "#9c179e"
             ],
             [
              0.4444444444444444,
              "#bd3786"
             ],
             [
              0.5555555555555556,
              "#d8576b"
             ],
             [
              0.6666666666666666,
              "#ed7953"
             ],
             [
              0.7777777777777778,
              "#fb9f3a"
             ],
             [
              0.8888888888888888,
              "#fdca26"
             ],
             [
              1,
              "#f0f921"
             ]
            ],
            "type": "contour"
           }
          ],
          "contourcarpet": [
           {
            "colorbar": {
             "outlinewidth": 0,
             "ticks": ""
            },
            "type": "contourcarpet"
           }
          ],
          "heatmap": [
           {
            "colorbar": {
             "outlinewidth": 0,
             "ticks": ""
            },
            "colorscale": [
             [
              0,
              "#0d0887"
             ],
             [
              0.1111111111111111,
              "#46039f"
             ],
             [
              0.2222222222222222,
              "#7201a8"
             ],
             [
              0.3333333333333333,
              "#9c179e"
             ],
             [
              0.4444444444444444,
              "#bd3786"
             ],
             [
              0.5555555555555556,
              "#d8576b"
             ],
             [
              0.6666666666666666,
              "#ed7953"
             ],
             [
              0.7777777777777778,
              "#fb9f3a"
             ],
             [
              0.8888888888888888,
              "#fdca26"
             ],
             [
              1,
              "#f0f921"
             ]
            ],
            "type": "heatmap"
           }
          ],
          "heatmapgl": [
           {
            "colorbar": {
             "outlinewidth": 0,
             "ticks": ""
            },
            "colorscale": [
             [
              0,
              "#0d0887"
             ],
             [
              0.1111111111111111,
              "#46039f"
             ],
             [
              0.2222222222222222,
              "#7201a8"
             ],
             [
              0.3333333333333333,
              "#9c179e"
             ],
             [
              0.4444444444444444,
              "#bd3786"
             ],
             [
              0.5555555555555556,
              "#d8576b"
             ],
             [
              0.6666666666666666,
              "#ed7953"
             ],
             [
              0.7777777777777778,
              "#fb9f3a"
             ],
             [
              0.8888888888888888,
              "#fdca26"
             ],
             [
              1,
              "#f0f921"
             ]
            ],
            "type": "heatmapgl"
           }
          ],
          "histogram": [
           {
            "marker": {
             "pattern": {
              "fillmode": "overlay",
              "size": 10,
              "solidity": 0.2
             }
            },
            "type": "histogram"
           }
          ],
          "histogram2d": [
           {
            "colorbar": {
             "outlinewidth": 0,
             "ticks": ""
            },
            "colorscale": [
             [
              0,
              "#0d0887"
             ],
             [
              0.1111111111111111,
              "#46039f"
             ],
             [
              0.2222222222222222,
              "#7201a8"
             ],
             [
              0.3333333333333333,
              "#9c179e"
             ],
             [
              0.4444444444444444,
              "#bd3786"
             ],
             [
              0.5555555555555556,
              "#d8576b"
             ],
             [
              0.6666666666666666,
              "#ed7953"
             ],
             [
              0.7777777777777778,
              "#fb9f3a"
             ],
             [
              0.8888888888888888,
              "#fdca26"
             ],
             [
              1,
              "#f0f921"
             ]
            ],
            "type": "histogram2d"
           }
          ],
          "histogram2dcontour": [
           {
            "colorbar": {
             "outlinewidth": 0,
             "ticks": ""
            },
            "colorscale": [
             [
              0,
              "#0d0887"
             ],
             [
              0.1111111111111111,
              "#46039f"
             ],
             [
              0.2222222222222222,
              "#7201a8"
             ],
             [
              0.3333333333333333,
              "#9c179e"
             ],
             [
              0.4444444444444444,
              "#bd3786"
             ],
             [
              0.5555555555555556,
              "#d8576b"
             ],
             [
              0.6666666666666666,
              "#ed7953"
             ],
             [
              0.7777777777777778,
              "#fb9f3a"
             ],
             [
              0.8888888888888888,
              "#fdca26"
             ],
             [
              1,
              "#f0f921"
             ]
            ],
            "type": "histogram2dcontour"
           }
          ],
          "mesh3d": [
           {
            "colorbar": {
             "outlinewidth": 0,
             "ticks": ""
            },
            "type": "mesh3d"
           }
          ],
          "parcoords": [
           {
            "line": {
             "colorbar": {
              "outlinewidth": 0,
              "ticks": ""
             }
            },
            "type": "parcoords"
           }
          ],
          "pie": [
           {
            "automargin": true,
            "type": "pie"
           }
          ],
          "scatter": [
           {
            "fillpattern": {
             "fillmode": "overlay",
             "size": 10,
             "solidity": 0.2
            },
            "type": "scatter"
           }
          ],
          "scatter3d": [
           {
            "line": {
             "colorbar": {
              "outlinewidth": 0,
              "ticks": ""
             }
            },
            "marker": {
             "colorbar": {
              "outlinewidth": 0,
              "ticks": ""
             }
            },
            "type": "scatter3d"
           }
          ],
          "scattercarpet": [
           {
            "marker": {
             "colorbar": {
              "outlinewidth": 0,
              "ticks": ""
             }
            },
            "type": "scattercarpet"
           }
          ],
          "scattergeo": [
           {
            "marker": {
             "colorbar": {
              "outlinewidth": 0,
              "ticks": ""
             }
            },
            "type": "scattergeo"
           }
          ],
          "scattergl": [
           {
            "marker": {
             "colorbar": {
              "outlinewidth": 0,
              "ticks": ""
             }
            },
            "type": "scattergl"
           }
          ],
          "scattermapbox": [
           {
            "marker": {
             "colorbar": {
              "outlinewidth": 0,
              "ticks": ""
             }
            },
            "type": "scattermapbox"
           }
          ],
          "scatterpolar": [
           {
            "marker": {
             "colorbar": {
              "outlinewidth": 0,
              "ticks": ""
             }
            },
            "type": "scatterpolar"
           }
          ],
          "scatterpolargl": [
           {
            "marker": {
             "colorbar": {
              "outlinewidth": 0,
              "ticks": ""
             }
            },
            "type": "scatterpolargl"
           }
          ],
          "scatterternary": [
           {
            "marker": {
             "colorbar": {
              "outlinewidth": 0,
              "ticks": ""
             }
            },
            "type": "scatterternary"
           }
          ],
          "surface": [
           {
            "colorbar": {
             "outlinewidth": 0,
             "ticks": ""
            },
            "colorscale": [
             [
              0,
              "#0d0887"
             ],
             [
              0.1111111111111111,
              "#46039f"
             ],
             [
              0.2222222222222222,
              "#7201a8"
             ],
             [
              0.3333333333333333,
              "#9c179e"
             ],
             [
              0.4444444444444444,
              "#bd3786"
             ],
             [
              0.5555555555555556,
              "#d8576b"
             ],
             [
              0.6666666666666666,
              "#ed7953"
             ],
             [
              0.7777777777777778,
              "#fb9f3a"
             ],
             [
              0.8888888888888888,
              "#fdca26"
             ],
             [
              1,
              "#f0f921"
             ]
            ],
            "type": "surface"
           }
          ],
          "table": [
           {
            "cells": {
             "fill": {
              "color": "#EBF0F8"
             },
             "line": {
              "color": "white"
             }
            },
            "header": {
             "fill": {
              "color": "#C8D4E3"
             },
             "line": {
              "color": "white"
             }
            },
            "type": "table"
           }
          ]
         },
         "layout": {
          "annotationdefaults": {
           "arrowcolor": "#2a3f5f",
           "arrowhead": 0,
           "arrowwidth": 1
          },
          "autotypenumbers": "strict",
          "coloraxis": {
           "colorbar": {
            "outlinewidth": 0,
            "ticks": ""
           }
          },
          "colorscale": {
           "diverging": [
            [
             0,
             "#8e0152"
            ],
            [
             0.1,
             "#c51b7d"
            ],
            [
             0.2,
             "#de77ae"
            ],
            [
             0.3,
             "#f1b6da"
            ],
            [
             0.4,
             "#fde0ef"
            ],
            [
             0.5,
             "#f7f7f7"
            ],
            [
             0.6,
             "#e6f5d0"
            ],
            [
             0.7,
             "#b8e186"
            ],
            [
             0.8,
             "#7fbc41"
            ],
            [
             0.9,
             "#4d9221"
            ],
            [
             1,
             "#276419"
            ]
           ],
           "sequential": [
            [
             0,
             "#0d0887"
            ],
            [
             0.1111111111111111,
             "#46039f"
            ],
            [
             0.2222222222222222,
             "#7201a8"
            ],
            [
             0.3333333333333333,
             "#9c179e"
            ],
            [
             0.4444444444444444,
             "#bd3786"
            ],
            [
             0.5555555555555556,
             "#d8576b"
            ],
            [
             0.6666666666666666,
             "#ed7953"
            ],
            [
             0.7777777777777778,
             "#fb9f3a"
            ],
            [
             0.8888888888888888,
             "#fdca26"
            ],
            [
             1,
             "#f0f921"
            ]
           ],
           "sequentialminus": [
            [
             0,
             "#0d0887"
            ],
            [
             0.1111111111111111,
             "#46039f"
            ],
            [
             0.2222222222222222,
             "#7201a8"
            ],
            [
             0.3333333333333333,
             "#9c179e"
            ],
            [
             0.4444444444444444,
             "#bd3786"
            ],
            [
             0.5555555555555556,
             "#d8576b"
            ],
            [
             0.6666666666666666,
             "#ed7953"
            ],
            [
             0.7777777777777778,
             "#fb9f3a"
            ],
            [
             0.8888888888888888,
             "#fdca26"
            ],
            [
             1,
             "#f0f921"
            ]
           ]
          },
          "colorway": [
           "#636efa",
           "#EF553B",
           "#00cc96",
           "#ab63fa",
           "#FFA15A",
           "#19d3f3",
           "#FF6692",
           "#B6E880",
           "#FF97FF",
           "#FECB52"
          ],
          "font": {
           "color": "#2a3f5f"
          },
          "geo": {
           "bgcolor": "white",
           "lakecolor": "white",
           "landcolor": "#E5ECF6",
           "showlakes": true,
           "showland": true,
           "subunitcolor": "white"
          },
          "hoverlabel": {
           "align": "left"
          },
          "hovermode": "closest",
          "mapbox": {
           "style": "light"
          },
          "paper_bgcolor": "white",
          "plot_bgcolor": "#E5ECF6",
          "polar": {
           "angularaxis": {
            "gridcolor": "white",
            "linecolor": "white",
            "ticks": ""
           },
           "bgcolor": "#E5ECF6",
           "radialaxis": {
            "gridcolor": "white",
            "linecolor": "white",
            "ticks": ""
           }
          },
          "scene": {
           "xaxis": {
            "backgroundcolor": "#E5ECF6",
            "gridcolor": "white",
            "gridwidth": 2,
            "linecolor": "white",
            "showbackground": true,
            "ticks": "",
            "zerolinecolor": "white"
           },
           "yaxis": {
            "backgroundcolor": "#E5ECF6",
            "gridcolor": "white",
            "gridwidth": 2,
            "linecolor": "white",
            "showbackground": true,
            "ticks": "",
            "zerolinecolor": "white"
           },
           "zaxis": {
            "backgroundcolor": "#E5ECF6",
            "gridcolor": "white",
            "gridwidth": 2,
            "linecolor": "white",
            "showbackground": true,
            "ticks": "",
            "zerolinecolor": "white"
           }
          },
          "shapedefaults": {
           "line": {
            "color": "#2a3f5f"
           }
          },
          "ternary": {
           "aaxis": {
            "gridcolor": "white",
            "linecolor": "white",
            "ticks": ""
           },
           "baxis": {
            "gridcolor": "white",
            "linecolor": "white",
            "ticks": ""
           },
           "bgcolor": "#E5ECF6",
           "caxis": {
            "gridcolor": "white",
            "linecolor": "white",
            "ticks": ""
           }
          },
          "title": {
           "x": 0.05
          },
          "xaxis": {
           "automargin": true,
           "gridcolor": "white",
           "linecolor": "white",
           "ticks": "",
           "title": {
            "standoff": 15
           },
           "zerolinecolor": "white",
           "zerolinewidth": 2
          },
          "yaxis": {
           "automargin": true,
           "gridcolor": "white",
           "linecolor": "white",
           "ticks": "",
           "title": {
            "standoff": 15
           },
           "zerolinecolor": "white",
           "zerolinewidth": 2
          }
         }
        },
        "title": {
         "text": "Estimation de la likelihood"
        },
        "xaxis": {
         "tickfont": {
          "size": 12
         },
         "title": {
          "text": "Theta"
         }
        },
        "yaxis": {
         "range": [
          -300,
          500
         ],
         "tickfont": {
          "size": 12
         },
         "title": {
          "text": "Likelihood"
         }
        }
       }
      }
     },
     "metadata": {},
     "output_type": "display_data"
    }
   ],
   "source": [
    "Code.plot_likelihood(r, x, noised_A, noised_b, theta_true, n_simulations, \"all\")"
   ]
  },
  {
   "cell_type": "markdown",
   "metadata": {},
   "source": [
    "On fait de même pour le gradient : "
   ]
  },
  {
   "cell_type": "code",
   "execution_count": null,
   "metadata": {},
   "outputs": [],
   "source": []
  }
 ],
 "metadata": {
  "kernelspec": {
   "display_name": "Python 3",
   "language": "python",
   "name": "python3"
  },
  "language_info": {
   "codemirror_mode": {
    "name": "ipython",
    "version": 3
   },
   "file_extension": ".py",
   "mimetype": "text/x-python",
   "name": "python",
   "nbconvert_exporter": "python",
   "pygments_lexer": "ipython3",
   "version": "3.11.5"
  },
  "orig_nbformat": 4
 },
 "nbformat": 4,
 "nbformat_minor": 2
}
