{
 "cells": [
  {
   "cell_type": "markdown",
   "metadata": {},
   "source": [
    "# <span style=\"color:red\">  **SIMULATIONS ET MÉTHODES DE MONTE CARLO**  </span>"
   ]
  },
  {
   "cell_type": "code",
   "execution_count": 1,
   "metadata": {},
   "outputs": [],
   "source": [
    "import numpy as np \n",
    "from scipy.stats import multivariate_normal\n",
    "import Estimateurs\n",
    "import Code\n",
    "import matplotlib.pyplot as plt\n",
    "from tqdm import tqdm\n",
    "import time"
   ]
  },
  {
   "cell_type": "markdown",
   "metadata": {},
   "source": [
    "## Sommaire\n",
    "\n",
    "- [Partie 0. Définition du cadre gaussien pour la génération des données](#partie-0-définition-du-cadre-gaussien-pour-la-génération-des-données)\n",
    "  - [0.1. Génération du vrai $\\theta$](#01-génération-du-vrai-theta)\n",
    "  \n",
    "  - [0.2. Génération de notre vecteur d'observation $\\boldsymbol{x} \\in \\mathbb{R}^{20}$](#02-génération-de-notre-vecteur-dobservation-boldsymbolx-in-mathbbr20)\n",
    "\n",
    "  - [0.3. Génération de la vraie log-vraisemblance et du vrai gradient associé à $\\theta_{\\text{true}}$ et à notre observation $\\boldsymbol{x}$](#03-génération-de-la-vraie-log-vraisemblance-et-du-vrai-gradient-associé-à-thetatru-et-à-notre-observation-boldsymbolx)\n",
    "\n",
    "  - [0.4. Génération des paramètres de l'encodeur $A \\in \\mathbb{R}^{20\\times 20}$ et $b \\in \\mathbb{R}^{20}$](#04-génération-des-paramètres-de-lencodeur-a-in-mathbbr2020-et-b-in-mathbbr20)\n",
    "\n",
    "- [Partie 1. Comparaison des estimateurs de la vraisemblance du modèle](#partie-1-comparaison-des-estimateurs-de-la-vraisemblance-du-modèle)\n",
    "\n",
    "  - [1.1 Les estimateurs RR (Roulette Russe) et SS (Single Sample)](#11-les-estimateurs-rr-roulette-russe-et-ss-single-sample)\n",
    "\n",
    "    - [1.1.1 Estimateur ML-SS](#111-estimateur-ml-ss)\n",
    "\n",
    "    - [1.1.2 Estimateur ML-RR](#112-estimateur-ml-rr)\n",
    "    \n",
    "  - [1.2 L'estimateurs SUMO (Stochastically Unbiased Marginalization Objective (SUMO))](#12-lestimateurs-sumo-stochastically-unbiased-marginalization-objective-sumo)\n",
    "\n",
    "  - [1.3 L'estimateurs IWAE (Autoencoder Pondéré par l'Importance)](#13-lestimateurs-iwae-autoencoder-pondéré-par-limportance)\n",
    "  \n",
    "  - [1.4 Comparaison entre les différents estimateurs](#14-comparaison-entre-les-différents-estimateurs)"
   ]
  },
  {
   "cell_type": "markdown",
   "metadata": {},
   "source": [
    "<span style=\"color:blue\">  **NOTATIONS**  </span> : on se donne un ensemble de données $\\boldsymbol{x} = \\{x^{(i)}\\}_{i=1}^n$ composé de $n$ échantillons i.i.d. d'une variable continue ou discrète $x$ à valeurs dans un espace d'observations $\\boldsymbol{\\mathcal{X}}$ (ainsi $\\boldsymbol{x} \\in \\boldsymbol{\\mathcal{X}}$). Nous supposons que les données sont générées par un processus aléatoire impliquant une variable aléatoire continue non observée $\\boldsymbol{z} = \\{z^{(i)}\\}_{i=1}^n$ à valeur dans un espace d'observations $\\boldsymbol{\\mathcal{Z}}$ (ainsi $\\boldsymbol{z} \\in \\boldsymbol{\\mathcal{Z}}$). Le processus se compose de deux étapes :\n",
    "\n",
    "\n",
    "1. La valeur $z^{(i)}$ est générée à partir d'une distribution a priori $p_{\\theta^*}(z)$ ;\n",
    "2. Une valeur $x^{(i)}$ est générée à partir d'une distribution conditionnelle $p_{\\theta^*}(x|z)$.\n",
    "\n",
    "\n",
    "Nous supposons que la distribution a priori $p_{\\theta^*}(\\boldsymbol{z})$ et la vraisemblance $p_{\\theta^*}(\\boldsymbol{x}|\\boldsymbol{z})$ proviennent de familles paramétriques de distributions $p_{\\theta}(\\boldsymbol{z})$ et $p_{\\theta}(\\boldsymbol{x}|\\boldsymbol{z})$ et on note $\\Theta \\subset \\mathbb{R}^d$ l'espace des paramètres. On connait ainsi l'expression de ces deux distributions. En revanche une grande partie de ce processus nous est cachée : les véritables paramètres $\\theta^*$ ainsi que les valeurs des $\\textbf{variables latentes}$ $z^{(i)}$ nous sont inconnus. \n",
    "\n",
    "Connaissant l'expression de la distribution a priori $p_{\\theta^*}(\\boldsymbol{z})$ et la vraisemblance $p_{\\theta^*}(\\boldsymbol{x}|\\boldsymbol{z})$ pour tout $\\theta \\in \\Theta$, on peut définir la densité jointe $p_{\\theta}(\\boldsymbol{x}, \\boldsymbol{z})$ sur $\\boldsymbol{\\mathcal{X}} \\times \\boldsymbol{\\mathcal{Z}}$ par : \n",
    "\n",
    "$$\n",
    "p_{\\theta}(\\boldsymbol{x}, \\boldsymbol{z}) = p_{\\theta}(\\boldsymbol{x}|\\boldsymbol{z}) p_{\\theta}(\\boldsymbol{z})\n",
    "$$"
   ]
  },
  {
   "cell_type": "markdown",
   "metadata": {},
   "source": [
    "<span style=\"color:blue\">  **OBJECTIF**  </span> : on cherche à déterminer la vraie valeur du paramètre (ici $\\theta^*$) ainsi que les valeurs des variables latentes. \n",
    "\n",
    "Une approche classique pour apprendre $\\boldsymbol{\\theta}$ est de choisir, si celle-ci existe, la valeur de ce paramètre qui maximise la log-vraisemblance marginale de l’ ́echantillon définie par :\n",
    "\n",
    "$$\n",
    "\\ell(\\boldsymbol{\\theta}) = \\log p_{\\boldsymbol{\\theta}}(\\boldsymbol{x}) = \\log \\int_{\\boldsymbol{\\mathcal{Z}}} p_{\\boldsymbol{\\theta}}(\\boldsymbol{x}, \\boldsymbol{z}) d\\boldsymbol{z}\n",
    "$$"
   ]
  },
  {
   "cell_type": "markdown",
   "metadata": {},
   "source": [
    "<span style=\"color:blue\">  **PROBLÈME**  </span> : l'intégrale donnée en ci-dessus est intractable (nous ne pouvons donc pas évaluer ou différencier la vraisemblance marginale)."
   ]
  },
  {
   "cell_type": "markdown",
   "metadata": {},
   "source": [
    "<span style=\"color:blue\">  **SOLUTION**  </span> : dans le but de résoudre les problèmes ci-dessus, introduisons un **modèle de reconnaissance** (paramétrique) {$ q_{\\phi}(\\boldsymbol{z}|\\boldsymbol{x}) : \\phi \\in \\Phi$} avec $\\Phi \\subset \\mathbb{R}^d$. Pour tout $\\phi$, $q_{\\phi}(\\boldsymbol{z}|\\boldsymbol{x})$ est choisi comme une approximation de la véritable postérieure intractable $p_{\\theta}(\\boldsymbol{z}|\\boldsymbol{x})$. L'idée est donc de proposer une valeur de l'a posteriori (faire une hypothèse) et d'introduire une méthode pour apprendre les paramètres du **modèle de reconnaissance** $\\phi$ conjointement avec les paramètres du **modèle génératif** $\\theta$."
   ]
  },
  {
   "cell_type": "markdown",
   "metadata": {},
   "source": [
    "## <span style=\"color:green\">  **Partie 0. Définition du cadre gaussien pour la génération des données**  </span>"
   ]
  },
  {
   "cell_type": "markdown",
   "metadata": {},
   "source": [
    "(Application numérique inspirée de [Rainforth et al. (2018)](https://arxiv.org/pdf/1802.04537.pdf))\n",
    "\n",
    "- Le **modèle génératif** est donné par $p_{\\theta}(\\boldsymbol{x}, \\boldsymbol{z}) = \\mathcal{N}(\\boldsymbol{z}|\\theta, I) \\mathcal{N}(\\boldsymbol{x}|\\boldsymbol{z}, I)$, où $\\boldsymbol{x}$ et $\\boldsymbol{z} \\in \\mathbb{R}^{20}$, de sorte que $p_{\\theta}(\\boldsymbol{x}) = \\mathcal{N}(\\boldsymbol{x}|\\theta, 2I)$ et $p_{\\theta}(\\boldsymbol{z}|\\boldsymbol{x}) = \\mathcal{N}\\left( \\frac{\\theta + x}{2}, \\frac{1}{2}I \\right)$. \n",
    "\n",
    "- La **distribution de l'encodeur** (le modèle de reconnaissance) est $q_{\\phi}(z|x) = \\mathcal{N}\\left(\\boldsymbol{z}|A\\boldsymbol{x} + b, \\frac{2}{3}I \\right)$, où $\\phi = (A, b)$.\n",
    "\n",
    "- Nous considérons des perturbations aléatoires des paramètres près de la valeur optimale par une distribution gaussienne de moyenne nulle et d'écart-type $0.01$.\n",
    "\n",
    "**Dans ce cas, on peut analytiquement calculer la vraie log-vraisemblance du modèle pour quantifier le biais et la variance de tous les estimateurs**.\n",
    "\n",
    "Puisque $q_{\\phi}(z|x) = \\mathcal{N}\\left(\\boldsymbol{z}|A\\boldsymbol{x} + b, \\frac{2}{3}I \\right)$ est censé être une approximation de la véritable loi a posteriori donnée par $p_{\\boldsymbol{\\theta}}(\\boldsymbol{z} | \\boldsymbol{x}) = \\mathcal{N}\\left( \\frac{\\theta + x}{2}, \\frac{1}{2}I \\right)$"
   ]
  },
  {
   "cell_type": "markdown",
   "metadata": {},
   "source": [
    "### <span style=\"color:orange\"> 0.1. **Génération du vrai $\\theta$**  </span>"
   ]
  },
  {
   "cell_type": "markdown",
   "metadata": {},
   "source": [
    "On commence par tirer le $\\theta$* ($\\in \\mathbb{R}$) qui sera le paramètre que l'on cherchera à estimer par la suite. \n",
    "\n",
    "A la manière de la génération des données dans [Rainforth et al. (2018)](https://arxiv.org/pdf/1802.04537.pdf) : $\\theta^* \\sim \\mathcal{N}(0, 1)$"
   ]
  },
  {
   "cell_type": "code",
   "execution_count": 2,
   "metadata": {},
   "outputs": [
    {
     "name": "stdout",
     "output_type": "stream",
     "text": [
      "La valeur de theta à estimer est -0.2\n"
     ]
    }
   ],
   "source": [
    "#theta_true = np.random.multivariate_normal(np.zeros(20), np.identity(20))\n",
    "theta_true = np.random.normal(0, 1)\n",
    "print(f\"La valeur de theta à estimer est {int(theta_true*100)/100}\")"
   ]
  },
  {
   "cell_type": "markdown",
   "metadata": {},
   "source": [
    "### <span style=\"color:orange\"> 0.2. **Génération de notre vecteur d'observation $\\boldsymbol{x} \\in \\mathbb{R}^{20}$**  </span>"
   ]
  },
  {
   "cell_type": "markdown",
   "metadata": {},
   "source": [
    "L'idée est désormais de tirer une observation $\\boldsymbol{x} \\in \\mathbb{R}^{20}$, chose que l'on peut faire puisque toutes les distributions nous sont données. \n"
   ]
  },
  {
   "cell_type": "code",
   "execution_count": 3,
   "metadata": {},
   "outputs": [
    {
     "name": "stdout",
     "output_type": "stream",
     "text": [
      "L'échantillon x observé est :\n",
      " \n",
      " x = [-0.63635949 -0.10476746  0.37442955  1.13121903  1.21338138  0.85902284\n",
      "  0.36143953  1.14863847 -2.35200943 -0.02205357 -0.64314805 -2.29129684\n",
      " -0.13603678  1.36931436 -1.63964665 -0.53428869  1.06357527  0.52382602\n",
      " -1.8861241   0.28196765] \n",
      " \n",
      " et on vérifique bien sa taille est celle voulue : (20,)\n"
     ]
    }
   ],
   "source": [
    "## On se donne notre échantillon x\n",
    "\n",
    "x, _ = Estimateurs.joint_probability(theta_true)\n",
    "\n",
    "print(f\"L'échantillon x observé est :\\n \\n x = {x} \\n \\n et on vérifique bien sa taille est celle voulue : {x.shape}\")"
   ]
  },
  {
   "cell_type": "markdown",
   "metadata": {},
   "source": [
    "### <span style=\"color:orange\"> 0.3. **Génération de la vraie log-vraisemblance et du vrai gradient associé à $\\theta_{\\text{true}}$ et à notre observation $\\boldsymbol{x}$**  </span>"
   ]
  },
  {
   "cell_type": "markdown",
   "metadata": {},
   "source": [
    "On rappelle que l'on nous a donné que $p_{\\theta}(\\boldsymbol{x}) = \\mathcal{N}(\\boldsymbol{x}|\\theta, 2I)$ pour tout $\\boldsymbol{x} \\in \\mathbb{R}^{20}$, ainsi, on peut explicitement calculer la log-vraisemblance et du vrai gradient de $p_{\\theta}$ par rapport à $\\theta$. On a :\n",
    "\n",
    "\\begin{align*}\n",
    "\\ell (\\theta) = \\log p_{\\theta}(\\boldsymbol{x}) = \\log (\\mathcal{N}(\\boldsymbol{x}|\\theta, 2I)) &= \\log \\left ( \\frac{1}{\\sqrt{(2\\pi)^{20} \\det(2I)}} \\exp \\left\\{-\\frac{1}{2} (x-\\theta\\bm{1}_{20})^T (2I)^{-1} (x-\\theta\\bm{1}_{20}) \\right\\} \\right )\\\\\n",
    "&= \\log \\left ( \\frac{1}{(2\\pi)^{10} 2^{10}} \\exp \\left\\{-\\frac{1}{4} (x-\\theta\\bm{1}_{20})^T (x-\\theta\\bm{1}_{20}) \\right\\} \\right )\\\\\n",
    "&= - 10 \\log (4\\pi) -\\frac{1}{4} (x-\\theta\\bm{1}_{20})^T (x-\\theta\\bm{1}_{20})\\\\\n",
    "&= - 10 \\log (4\\pi) -\\frac{1}{4} \\| x - \\theta \\mathbf{1}_{20} \\|^2\\\\\n",
    "&= - 10 \\log (4\\pi) -\\frac{1}{4} \\sum_{i=1}^{20} (x_i - \\theta)^2\n",
    "\n",
    "\\end{align*}\n",
    "\n",
    "Et, alors \n",
    "\n",
    "\\begin{align*}\n",
    "\\nabla_{\\theta}\\ell (\\theta) = \\ell '(\\theta) &= \\frac{1}{2} \\sum_{i=1}^{20} (x_i - \\theta)\\\\\n",
    "&= \\frac{1}{2} \\sum_{i=1}^{20}x_i - 10 \\theta \\\\\n",
    "&= 10 \\frac{1}{20} \\sum_{i=1}^{20}x_i - 10 \\theta \\\\\n",
    "&= 10 (\\bar{x}_{20} - \\theta)\n",
    "\\end{align*}"
   ]
  },
  {
   "cell_type": "code",
   "execution_count": 4,
   "metadata": {},
   "outputs": [
    {
     "name": "stdout",
     "output_type": "stream",
     "text": [
      "La valeur associée à la log-vraisemblance de l'échantillon x pour theta_true est : -25.39050925802372 \n",
      " \n",
      "La valeur associée au gradient de l'échantillon x pour theta_true est : \n",
      "\n",
      " 1.101499825087783 \n",
      " \n"
     ]
    }
   ],
   "source": [
    "true_likelihood = Code.true_likelihood(x, theta_true)\n",
    "true_gradient = Code.true_grad(x, theta_true)\n",
    "\n",
    "print(f\"La valeur associée à la log-vraisemblance de l'échantillon x pour theta_true est : {true_likelihood} \\n \")\n",
    "print(f\"La valeur associée au gradient de l'échantillon x pour theta_true est : \\n\\n {true_gradient} \\n \")"
   ]
  },
  {
   "cell_type": "markdown",
   "metadata": {},
   "source": [
    "### <span style=\"color:orange\"> 0.4. **Génération des paramètres de l'encodeur $A \\in \\mathbb{R}^{20\\times 20}$ et $b \\in \\mathbb{R}^{20}$**  </span>"
   ]
  },
  {
   "cell_type": "markdown",
   "metadata": {},
   "source": [
    "Il est maintenant question de tirer notre encodeur tel que : $q_{\\phi}(z|x) = \\mathcal{N}\\left(\\boldsymbol{z}|A\\boldsymbol{x} + b, \\frac{2}{3}I \\right)$, où $\\phi = (A, b)$. **Le problème qui se pose est donc celui du choix de $A$ et de $b$**. Dans l'article [Rainforth et al. (2018)](https://arxiv.org/pdf/1802.04537.pdf), il nous est indiqué : \n",
    "\n",
    "*\"Following [Rainforth et al. (2018)](https://arxiv.org/pdf/1802.04537.pdf), we consider random perturbations of the parameters near the optimal value by a zero-mean Gaussian with standard deviation 0.01\"*\n",
    "\n",
    "Ainsi, étant donné une observation $\\boldsymbol{x}$,  le choix parfait pour $\\phi$ serait $\\phi^* = (A^*, b^*)$ où $A^* = \\frac{1}{2}\\boldsymbol{I}_{20} \\in \\mathbb{R}^{20 \\times 20}$ et $b^* = [\\frac{\\theta^*}{2}, ..., \\frac{\\theta^*}{2}]^T \\in \\mathbb{R}^{20} $. Suivant l'indication dans l'article, nous nous plaçons dans un cas où on aurait réussi à inférer de manière convenable la loi $p_{\\theta}(\\boldsymbol{z}|\\boldsymbol{x}) = \\mathcal{N}\\left( \\frac{\\theta + x}{2}, \\frac{1}{2}I \\right)$, mais pas parfaitement. Ainsi,  on introduit de la même façon que dans l'article [[Rainforth et al. (2018)](https://arxiv.org/pdf/1802.04537.pdf) une perturbation autour de la valeur optimale du paramètre $\\phi$. Cette perturbation se caractérise par le fait chaque dimension de chaque paramètre a été décalée de manière aléatoire par rapport à sa valeur optimale en utilisant une gaussienne centrée en zéro avec un écart-type de 0,01.\n"
   ]
  },
  {
   "cell_type": "code",
   "execution_count": 5,
   "metadata": {},
   "outputs": [
    {
     "name": "stdout",
     "output_type": "stream",
     "text": [
      "On vérifie que les tailles de A, b et x coincident :\n",
      " \n",
      " taille A : (20, 20) \n",
      " taille b : (20,) \n",
      " taille x : (20,)\n"
     ]
    }
   ],
   "source": [
    "dim = 20 \n",
    "\n",
    "## On calcule les valeurs optimales de A et de b\n",
    "A = 0.5 * np.eye(dim)\n",
    "b = 0.5 * theta_true * np.ones(dim)\n",
    "\n",
    "## On calcule les valeurs perturbées de A et de b, qui sont FIXÉES dans la suite\n",
    "noised_A, noised_b = Code.noised_params(A, b)\n",
    "\n",
    "print(f\"On vérifie que les tailles de A, b et x coincident :\\n \\n taille A : {A.shape} \\n taille b : {b.shape} \\n taille x : {x.shape}\")"
   ]
  },
  {
   "cell_type": "markdown",
   "metadata": {},
   "source": [
    "## <span style=\"color:green\">  **Partie 1. Comparaison des estimateurs de la vraisemblance du modèle**  </span>\n",
    "\n",
    "### <span style=\"color:orange\">  **1.1 Les estimateurs RR (Roulette Russe) et SS (Single Sample)**  </span>\n",
    "\n",
    "On rappelle rapidement la manière dont sont définis les estimateurs RR et SS, utilisés plus tard pour construire SUMO, ML-SS et ML-RR.  \n",
    "Désignons une quantité d'intérêt par $I_\\infty = \\log p_\\theta(\\boldsymbol{x})$. Supposons que $I_\\infty$ puisse être écrite comme\n",
    "\n",
    "$$\n",
    "I_\\infty = \\mathbb{E}[I_0] + \\sum_{k=0}^\\infty \\mathbb{E}[\\Delta_k] \n",
    "$$\n",
    "\n",
    "pour les variables aléatoires $I_0$ et $(\\Delta_k)_{k\\geq0}$. Nous pouvons estimer $I_\\infty$ de manière non biaisée via les estimateurs suivants ss ou rr :\n",
    "\n",
    "$$\n",
    "ss = I_0 + \\frac{\\Delta_K}{p(K)}, \\quad rr = I_0 + \\sum_{k=0}^K \\frac{\\Delta_k}{\\mathbb{P}(K \\geq k)}\n",
    "$$\n",
    "\n",
    "où $K \\sim Geom(r)$.\n",
    "\n",
    "Pour chacun de ces estimateurs, nous allons suivre la méthodologie du Monte Carlo multiniveau (voir cet [article](https://web.stanford.edu/~glynn/papers/2015/BlanchetG15.html)) qui repose sur un schéma alternatif astucieux pour construire $\\Delta_k$, qui peut garantir la construction d'estimateurs non biaisés de $\\ell(\\boldsymbol{\\theta})$ qui admettent une variance finie et peuvent être calculés en un temps attendu fini.\n",
    "\n",
    "Nous désignons par $\\boldsymbol{z}^O_i$, $\\boldsymbol{z}^E_i$ deux séquences indépendantes d'échantillons i.i.d. de $q_\\phi$, où $O$, $E$ désignent respectivement impair (odd), pair (even), et $w^O_i$, $w^E_i$ les poids d'importance correspondants. Ensuite, nous définissons $I_0 = \\hat{\\ell}^{(1)}(\\boldsymbol{\\theta})$ et\n",
    "\n",
    "\\begin{align*}\n",
    "\\Delta^\\text{ML}_k = \\hat{\\ell}^{(2^{k+1})}_{O\\cup E}(\\boldsymbol{\\theta}) - \\frac{1}{2} \\left( \\hat{\\ell}^{(2^k)}_O (\\boldsymbol{\\theta}) + \\hat{\\ell}^{(2^k)}_E (\\boldsymbol{\\theta}) \\right),\n",
    "\\end{align*}\n",
    "\n",
    "où $\\hat{\\ell}^{(2^k)}_O (\\boldsymbol{\\theta}) = \\log \\left(\\frac{1}{2^k} \\sum_{i=1}^{2^k} w(z^{O}_i) \\right)$ est calculé en utilisant les échantillons impairs $\\{z^O_i\\}_{i=1}^{2^k}$, $\\hat{\\ell}^{(2^k)}_E (\\boldsymbol{\\theta}) = \\log \\left(\\frac{1}{2^k} \\sum_{i=1}^{2^k} w(z^{E}_i) \\right)$ en utilisant les échantillons pairs $\\{z^E_i\\}_{i=1}^{2^k}$, et $\\hat{\\ell}^{(2^{k+1})}_{O\\cup E} (\\boldsymbol{\\theta})$ en utilisant $\\{z^O_i\\}_{i=1}^{2^k} \\cup \\{z^E_i\\}_{i=1}^{2^k}$. Nous désignons les estimateurs SS/RR multiniveaux correspondants de $\\hat{\\ell}(\\boldsymbol{\\theta})$ comme $\\hat{\\ell}^\\text{ML-SS}(\\boldsymbol{\\theta})$ et $\\hat{\\ell}^\\text{ML-RR}(\\boldsymbol{\\theta})$, et collectivement comme $\\hat{\\ell}^\\text{ML}(\\boldsymbol{\\theta})$.\n",
    "\n",
    "Ainsi, \n",
    "\n",
    "$$\n",
    "\\hat{\\ell}^\\text{ML-SS}(\\boldsymbol{\\theta}) = I_0 + \\frac{\\Delta^{\\text{ML}}_\\mathcal{K}}{p(\\mathcal{K})}, \\quad \\hat{\\ell}^\\text{ML-RR}(\\boldsymbol{\\theta}) = I_0 + \\sum_{k=0}^{K} \\frac{\\Delta^{\\text{ML}}_k}{\\mathbb{P}(\\mathcal{K} \\geq k)},\n",
    "$$\n",
    "\n",
    "En abscisse, on considère un segment centré autour de $\\theta^*$, la vraie valeur du paramètre. Pour chaque point de ce segment, on calcule l'estimation réalisée par $\\hat{\\ell}^\\text{ML-SS}(\\boldsymbol{\\theta})$ ou $\\hat{\\ell}^\\text{ML-RR}(\\boldsymbol{\\theta})$ et on la trace sur les graphiques suivant. Le courbe en rouge représente la vraie fonction de vraisemblance, calculée analytiquement. \n",
    "\n",
    "#### <span style=\"color:red\">  **1.1.1 Estimateur ML-SS**  </span>\n",
    "\n",
    "On choisit arbitrairement un nombre de 15 simulations et de 60 points pour des questions de vitesse de calcul. "
   ]
  },
  {
   "cell_type": "code",
   "execution_count": 6,
   "metadata": {},
   "outputs": [],
   "source": [
    "n_simulations = 15 \n",
    "num_runs = 10\n",
    "r = 0.6\n",
    "#k_IWAE = 5 "
   ]
  },
  {
   "cell_type": "code",
   "execution_count": 9,
   "metadata": {},
   "outputs": [
    {
     "name": "stderr",
     "output_type": "stream",
     "text": [
      "Progression: 100%|██████████| 30/30 [01:00<00:00,  2.00s/it]\n"
     ]
    },
    {
     "data": {
      "image/png": "[encoded data removed]",
      "text/plain": [
       "<Figure size 1080x576 with 1 Axes>"
      ]
     },
     "metadata": {
      "needs_background": "light"
     },
     "output_type": "display_data"
    }
   ],
   "source": [
    "Code.plot_errors_likelihood(r, theta_true, x, noised_A, noised_b, n_simulations,  n_runs=5)"
   ]
  },
  {
   "cell_type": "code",
   "execution_count": null,
   "metadata": {},
   "outputs": [
    {
     "name": "stderr",
     "output_type": "stream",
     "text": [
      "Progression: 100%|██████████| 60/60 [00:22<00:00,  2.62it/s]\n"
     ]
    },
    {
     "data": {
      "application/vnd.plotly.v1+json": {
       "config": {
        "plotlyServerURL": "https://plot.ly"
       },
       "data": [
        {
         "line": {
          "color": "blue"
         },
         "mode": "lines",
         "name": "Vraisemblance réelle (avec theta_true)",
         "type": "scatter",
         "x": [
          -2.380576571893175,
          -2.2110850464694463,
          -2.0415935210457175,
          -1.8721019956219886,
          -1.7026104701982598,
          -1.533118944774531,
          -1.3636274193508022,
          -1.1941358939270734,
          -1.0246443685033446,
          -0.8551528430796158,
          -0.685661317655887,
          -0.5161697922321582,
          -0.3466782668084294,
          -0.17718674138470059,
          -0.00769521596097178,
          0.16179630946275703,
          0.33128783488648583,
          0.5007793603102146,
          0.6702708857339434,
          0.8397624111576723,
          1.009253936581401,
          1.1787454620051299,
          1.3482369874288587,
          1.5177285128525875,
          1.6872200382763163,
          1.8567115637000446,
          2.026203089123774,
          2.195694614547503,
          2.3651861399712315,
          2.53467766539496,
          2.704169190818689,
          2.8736607162424184,
          3.0431522416661467,
          3.212643767089875,
          3.3821352925136043,
          3.5516268179373336,
          3.721118343361062,
          3.8906098687847903,
          4.06010139420852,
          4.229592919632249,
          4.399084445055977,
          4.5685759704797055,
          4.738067495903435,
          4.907559021327164,
          5.077050546750892,
          5.246542072174621,
          5.41603359759835,
          5.585525123022079,
          5.755016648445808,
          5.924508173869536,
          6.093999699293264,
          6.2634912247169945,
          6.432982750140723,
          6.602474275564451,
          6.771965800988181,
          6.94145732641191,
          7.110948851835638,
          7.280440377259366,
          7.449931902683095,
          7.619423428106825
         ],
         "y": [
          -187.44065375300076,
          -178.1070271327654,
          -169.06067428443467,
          -160.30159520800856,
          -151.82978990348707,
          -143.64525837087018,
          -135.74800061015796,
          -128.13801662135035,
          -120.81530640444736,
          -113.77986995944899,
          -107.03170728635523,
          -100.57081838516615,
          -94.39720325588165,
          -88.51086189850176,
          -82.91179431302653,
          -77.60000049945592,
          -72.57548045778994,
          -67.83823418802857,
          -63.38826169017183,
          -59.22556296421972,
          -55.35013801017223,
          -51.761986828029364,
          -48.46110941779112,
          -45.447505779457515,
          -42.721175913028524,
          -40.282119818504164,
          -38.13033749588442,
          -36.26582894516931,
          -34.688594166358826,
          -33.39863315945296,
          -32.39594592445172,
          -31.680532461355106,
          -31.25239277016312,
          -31.11152685087576,
          -31.25793470349302,
          -31.69161632801491,
          -32.41257172444142,
          -33.420800892772554,
          -34.716303833008325,
          -36.29908054514871,
          -38.16913102919372,
          -40.32645528514335,
          -42.77105331299762,
          -45.50292511275653,
          -48.52207068442002,
          -51.82849002798815,
          -55.42218314346093,
          -59.303150030838324,
          -63.47139069012033,
          -67.92690512130696,
          -72.66969332439821,
          -77.69975529939414,
          -83.01709104629464,
          -88.62170056509977,
          -94.51358385580957,
          -100.69274091842397,
          -107.15917175294294,
          -113.91287635936656,
          -120.95385473769481,
          -128.28210688792777
         ]
        },
        {
         "marker": {
          "color": "red",
          "symbol": "cross"
         },
         "mode": "markers",
         "name": "SUMO",
         "type": "scatter",
         "x": [
          -2.380576571893175,
          -2.2110850464694463,
          -2.0415935210457175,
          -1.8721019956219886,
          -1.7026104701982598,
          -1.533118944774531,
          -1.3636274193508022,
          -1.1941358939270734,
          -1.0246443685033446,
          -0.8551528430796158,
          -0.685661317655887,
          -0.5161697922321582,
          -0.3466782668084294,
          -0.17718674138470059,
          -0.00769521596097178,
          0.16179630946275703,
          0.33128783488648583,
          0.5007793603102146,
          0.6702708857339434,
          0.8397624111576723,
          1.009253936581401,
          1.1787454620051299,
          1.3482369874288587,
          1.5177285128525875,
          1.6872200382763163,
          1.8567115637000446,
          2.026203089123774,
          2.195694614547503,
          2.3651861399712315,
          2.53467766539496,
          2.704169190818689,
          2.8736607162424184,
          3.0431522416661467,
          3.212643767089875,
          3.3821352925136043,
          3.5516268179373336,
          3.721118343361062,
          3.8906098687847903,
          4.06010139420852,
          4.229592919632249,
          4.399084445055977,
          4.5685759704797055,
          4.738067495903435,
          4.907559021327164,
          5.077050546750892,
          5.246542072174621,
          5.41603359759835,
          5.585525123022079,
          5.755016648445808,
          5.924508173869536,
          6.093999699293264,
          6.2634912247169945,
          6.432982750140723,
          6.602474275564451,
          6.771965800988181,
          6.94145732641191,
          7.110948851835638,
          7.280440377259366,
          7.449931902683095,
          7.619423428106825
         ],
         "y": [
          -305.64469139837763,
          -290.98770161585685,
          -273.37711548225593,
          -258.8293895390142,
          -247.12217404931388,
          -193.77141484618002,
          -207.22803043104798,
          -203.04013382913504,
          -178.8729000138932,
          -183.844416516474,
          -162.41017285843893,
          -146.3220573955951,
          -136.76733297119074,
          -119.12520378173352,
          -118.6047597834312,
          -109.31093595623979,
          -97.29184745845642,
          -89.81734396446394,
          -86.6938072421685,
          -74.50262041848204,
          -72.92635329692598,
          -64.64687755247539,
          -49.93186388532455,
          -45.46972271727586,
          -52.91422367422635,
          -50.158158435616755,
          -45.945033075690546,
          -44.5754378494214,
          -41.93891485006436,
          -41.08113454362943,
          -39.10069849299834,
          -38.29381254523306,
          -38.881035681068916,
          -41.29576484831532,
          -38.471990779605406,
          -42.912126724085304,
          -46.40039728983968,
          -51.68898801430092,
          -53.219644908278404,
          -60.00482774546128,
          -63.83283393095125,
          -69.97148506792215,
          -72.58279197839143,
          -81.77994273822365,
          -88.87486467093231,
          -89.1549716365304,
          -96.76765128504414,
          -110.16860460036213,
          -120.73698828351834,
          -135.49422117221854,
          -140.36968994593343,
          -118.17912343624559,
          -169.749888737583,
          -175.37466816295012,
          -178.863825781504,
          -197.89010990194816,
          -220.42861242700482,
          -232.58087428859574,
          -246.43963623436417,
          -261.79742991865606
         ]
        }
       ],
       "layout": {
        "grid": {
         "columns": 1,
         "rows": 1
        },
        "legend": {
         "font": {
          "size": 10
         }
        },
        "shapes": [
         {
          "line": {
           "color": "black",
           "dash": "dash"
          },
          "name": "Theta=2.619423428106825",
          "type": "line",
          "x0": 2.619423428106825,
          "x1": 2.619423428106825,
          "y0": -300,
          "y1": 500
         }
        ],
        "showlegend": true,
        "template": {
         "data": {
          "bar": [
           {
            "error_x": {
             "color": "#2a3f5f"
            },
            "error_y": {
             "color": "#2a3f5f"
            },
            "marker": {
             "line": {
              "color": "#E5ECF6",
              "width": 0.5
             },
             "pattern": {
              "fillmode": "overlay",
              "size": 10,
              "solidity": 0.2
             }
            },
            "type": "bar"
           }
          ],
          "barpolar": [
           {
            "marker": {
             "line": {
              "color": "#E5ECF6",
              "width": 0.5
             },
             "pattern": {
              "fillmode": "overlay",
              "size": 10,
              "solidity": 0.2
             }
            },
            "type": "barpolar"
           }
          ],
          "carpet": [
           {
            "aaxis": {
             "endlinecolor": "#2a3f5f",
             "gridcolor": "white",
             "linecolor": "white",
             "minorgridcolor": "white",
             "startlinecolor": "#2a3f5f"
            },
            "baxis": {
             "endlinecolor": "#2a3f5f",
             "gridcolor": "white",
             "linecolor": "white",
             "minorgridcolor": "white",
             "startlinecolor": "#2a3f5f"
            },
            "type": "carpet"
           }
          ],
          "choropleth": [
           {
            "colorbar": {
             "outlinewidth": 0,
             "ticks": ""
            },
            "type": "choropleth"
           }
          ],
          "contour": [
           {
            "colorbar": {
             "outlinewidth": 0,
             "ticks": ""
            },
            "colorscale": [
             [
              0,
              "#0d0887"
             ],
             [
              0.1111111111111111,
              "#46039f"
             ],
             [
              0.2222222222222222,
              "#7201a8"
             ],
             [
              0.3333333333333333,
              "#9c179e"
             ],
             [
              0.4444444444444444,
              "#bd3786"
             ],
             [
              0.5555555555555556,
              "#d8576b"
             ],
             [
              0.6666666666666666,
              "#ed7953"
             ],
             [
              0.7777777777777778,
              "#fb9f3a"
             ],
             [
              0.8888888888888888,
              "#fdca26"
             ],
             [
              1,
              "#f0f921"
             ]
            ],
            "type": "contour"
           }
          ],
          "contourcarpet": [
           {
            "colorbar": {
             "outlinewidth": 0,
             "ticks": ""
            },
            "type": "contourcarpet"
           }
          ],
          "heatmap": [
           {
            "colorbar": {
             "outlinewidth": 0,
             "ticks": ""
            },
            "colorscale": [
             [
              0,
              "#0d0887"
             ],
             [
              0.1111111111111111,
              "#46039f"
             ],
             [
              0.2222222222222222,
              "#7201a8"
             ],
             [
              0.3333333333333333,
              "#9c179e"
             ],
             [
              0.4444444444444444,
              "#bd3786"
             ],
             [
              0.5555555555555556,
              "#d8576b"
             ],
             [
              0.6666666666666666,
              "#ed7953"
             ],
             [
              0.7777777777777778,
              "#fb9f3a"
             ],
             [
              0.8888888888888888,
              "#fdca26"
             ],
             [
              1,
              "#f0f921"
             ]
            ],
            "type": "heatmap"
           }
          ],
          "heatmapgl": [
           {
            "colorbar": {
             "outlinewidth": 0,
             "ticks": ""
            },
            "colorscale": [
             [
              0,
              "#0d0887"
             ],
             [
              0.1111111111111111,
              "#46039f"
             ],
             [
              0.2222222222222222,
              "#7201a8"
             ],
             [
              0.3333333333333333,
              "#9c179e"
             ],
             [
              0.4444444444444444,
              "#bd3786"
             ],
             [
              0.5555555555555556,
              "#d8576b"
             ],
             [
              0.6666666666666666,
              "#ed7953"
             ],
             [
              0.7777777777777778,
              "#fb9f3a"
             ],
             [
              0.8888888888888888,
              "#fdca26"
             ],
             [
              1,
              "#f0f921"
             ]
            ],
            "type": "heatmapgl"
           }
          ],
          "histogram": [
           {
            "marker": {
             "pattern": {
              "fillmode": "overlay",
              "size": 10,
              "solidity": 0.2
             }
            },
            "type": "histogram"
           }
          ],
          "histogram2d": [
           {
            "colorbar": {
             "outlinewidth": 0,
             "ticks": ""
            },
            "colorscale": [
             [
              0,
              "#0d0887"
             ],
             [
              0.1111111111111111,
              "#46039f"
             ],
             [
              0.2222222222222222,
              "#7201a8"
             ],
             [
              0.3333333333333333,
              "#9c179e"
             ],
             [
              0.4444444444444444,
              "#bd3786"
             ],
             [
              0.5555555555555556,
              "#d8576b"
             ],
             [
              0.6666666666666666,
              "#ed7953"
             ],
             [
              0.7777777777777778,
              "#fb9f3a"
             ],
             [
              0.8888888888888888,
              "#fdca26"
             ],
             [
              1,
              "#f0f921"
             ]
            ],
            "type": "histogram2d"
           }
          ],
          "histogram2dcontour": [
           {
            "colorbar": {
             "outlinewidth": 0,
             "ticks": ""
            },
            "colorscale": [
             [
              0,
              "#0d0887"
             ],
             [
              0.1111111111111111,
              "#46039f"
             ],
             [
              0.2222222222222222,
              "#7201a8"
             ],
             [
              0.3333333333333333,
              "#9c179e"
             ],
             [
              0.4444444444444444,
              "#bd3786"
             ],
             [
              0.5555555555555556,
              "#d8576b"
             ],
             [
              0.6666666666666666,
              "#ed7953"
             ],
             [
              0.7777777777777778,
              "#fb9f3a"
             ],
             [
              0.8888888888888888,
              "#fdca26"
             ],
             [
              1,
              "#f0f921"
             ]
            ],
            "type": "histogram2dcontour"
           }
          ],
          "mesh3d": [
           {
            "colorbar": {
             "outlinewidth": 0,
             "ticks": ""
            },
            "type": "mesh3d"
           }
          ],
          "parcoords": [
           {
            "line": {
             "colorbar": {
              "outlinewidth": 0,
              "ticks": ""
             }
            },
            "type": "parcoords"
           }
          ],
          "pie": [
           {
            "automargin": true,
            "type": "pie"
           }
          ],
          "scatter": [
           {
            "fillpattern": {
             "fillmode": "overlay",
             "size": 10,
             "solidity": 0.2
            },
            "type": "scatter"
           }
          ],
          "scatter3d": [
           {
            "line": {
             "colorbar": {
              "outlinewidth": 0,
              "ticks": ""
             }
            },
            "marker": {
             "colorbar": {
              "outlinewidth": 0,
              "ticks": ""
             }
            },
            "type": "scatter3d"
           }
          ],
          "scattercarpet": [
           {
            "marker": {
             "colorbar": {
              "outlinewidth": 0,
              "ticks": ""
             }
            },
            "type": "scattercarpet"
           }
          ],
          "scattergeo": [
           {
            "marker": {
             "colorbar": {
              "outlinewidth": 0,
              "ticks": ""
             }
            },
            "type": "scattergeo"
           }
          ],
          "scattergl": [
           {
            "marker": {
             "colorbar": {
              "outlinewidth": 0,
              "ticks": ""
             }
            },
            "type": "scattergl"
           }
          ],
          "scattermapbox": [
           {
            "marker": {
             "colorbar": {
              "outlinewidth": 0,
              "ticks": ""
             }
            },
            "type": "scattermapbox"
           }
          ],
          "scatterpolar": [
           {
            "marker": {
             "colorbar": {
              "outlinewidth": 0,
              "ticks": ""
             }
            },
            "type": "scatterpolar"
           }
          ],
          "scatterpolargl": [
           {
            "marker": {
             "colorbar": {
              "outlinewidth": 0,
              "ticks": ""
             }
            },
            "type": "scatterpolargl"
           }
          ],
          "scatterternary": [
           {
            "marker": {
             "colorbar": {
              "outlinewidth": 0,
              "ticks": ""
             }
            },
            "type": "scatterternary"
           }
          ],
          "surface": [
           {
            "colorbar": {
             "outlinewidth": 0,
             "ticks": ""
            },
            "colorscale": [
             [
              0,
              "#0d0887"
             ],
             [
              0.1111111111111111,
              "#46039f"
             ],
             [
              0.2222222222222222,
              "#7201a8"
             ],
             [
              0.3333333333333333,
              "#9c179e"
             ],
             [
              0.4444444444444444,
              "#bd3786"
             ],
             [
              0.5555555555555556,
              "#d8576b"
             ],
             [
              0.6666666666666666,
              "#ed7953"
             ],
             [
              0.7777777777777778,
              "#fb9f3a"
             ],
             [
              0.8888888888888888,
              "#fdca26"
             ],
             [
              1,
              "#f0f921"
             ]
            ],
            "type": "surface"
           }
          ],
          "table": [
           {
            "cells": {
             "fill": {
              "color": "#EBF0F8"
             },
             "line": {
              "color": "white"
             }
            },
            "header": {
             "fill": {
              "color": "#C8D4E3"
             },
             "line": {
              "color": "white"
             }
            },
            "type": "table"
           }
          ]
         },
         "layout": {
          "annotationdefaults": {
           "arrowcolor": "#2a3f5f",
           "arrowhead": 0,
           "arrowwidth": 1
          },
          "autotypenumbers": "strict",
          "coloraxis": {
           "colorbar": {
            "outlinewidth": 0,
            "ticks": ""
           }
          },
          "colorscale": {
           "diverging": [
            [
             0,
             "#8e0152"
            ],
            [
             0.1,
             "#c51b7d"
            ],
            [
             0.2,
             "#de77ae"
            ],
            [
             0.3,
             "#f1b6da"
            ],
            [
             0.4,
             "#fde0ef"
            ],
            [
             0.5,
             "#f7f7f7"
            ],
            [
             0.6,
             "#e6f5d0"
            ],
            [
             0.7,
             "#b8e186"
            ],
            [
             0.8,
             "#7fbc41"
            ],
            [
             0.9,
             "#4d9221"
            ],
            [
             1,
             "#276419"
            ]
           ],
           "sequential": [
            [
             0,
             "#0d0887"
            ],
            [
             0.1111111111111111,
             "#46039f"
            ],
            [
             0.2222222222222222,
             "#7201a8"
            ],
            [
             0.3333333333333333,
             "#9c179e"
            ],
            [
             0.4444444444444444,
             "#bd3786"
            ],
            [
             0.5555555555555556,
             "#d8576b"
            ],
            [
             0.6666666666666666,
             "#ed7953"
            ],
            [
             0.7777777777777778,
             "#fb9f3a"
            ],
            [
             0.8888888888888888,
             "#fdca26"
            ],
            [
             1,
             "#f0f921"
            ]
           ],
           "sequentialminus": [
            [
             0,
             "#0d0887"
            ],
            [
             0.1111111111111111,
             "#46039f"
            ],
            [
             0.2222222222222222,
             "#7201a8"
            ],
            [
             0.3333333333333333,
             "#9c179e"
            ],
            [
             0.4444444444444444,
             "#bd3786"
            ],
            [
             0.5555555555555556,
             "#d8576b"
            ],
            [
             0.6666666666666666,
             "#ed7953"
            ],
            [
             0.7777777777777778,
             "#fb9f3a"
            ],
            [
             0.8888888888888888,
             "#fdca26"
            ],
            [
             1,
             "#f0f921"
            ]
           ]
          },
          "colorway": [
           "#636efa",
           "#EF553B",
           "#00cc96",
           "#ab63fa",
           "#FFA15A",
           "#19d3f3",
           "#FF6692",
           "#B6E880",
           "#FF97FF",
           "#FECB52"
          ],
          "font": {
           "color": "#2a3f5f"
          },
          "geo": {
           "bgcolor": "white",
           "lakecolor": "white",
           "landcolor": "#E5ECF6",
           "showlakes": true,
           "showland": true,
           "subunitcolor": "white"
          },
          "hoverlabel": {
           "align": "left"
          },
          "hovermode": "closest",
          "mapbox": {
           "style": "light"
          },
          "paper_bgcolor": "white",
          "plot_bgcolor": "#E5ECF6",
          "polar": {
           "angularaxis": {
            "gridcolor": "white",
            "linecolor": "white",
            "ticks": ""
           },
           "bgcolor": "#E5ECF6",
           "radialaxis": {
            "gridcolor": "white",
            "linecolor": "white",
            "ticks": ""
           }
          },
          "scene": {
           "xaxis": {
            "backgroundcolor": "#E5ECF6",
            "gridcolor": "white",
            "gridwidth": 2,
            "linecolor": "white",
            "showbackground": true,
            "ticks": "",
            "zerolinecolor": "white"
           },
           "yaxis": {
            "backgroundcolor": "#E5ECF6",
            "gridcolor": "white",
            "gridwidth": 2,
            "linecolor": "white",
            "showbackground": true,
            "ticks": "",
            "zerolinecolor": "white"
           },
           "zaxis": {
            "backgroundcolor": "#E5ECF6",
            "gridcolor": "white",
            "gridwidth": 2,
            "linecolor": "white",
            "showbackground": true,
            "ticks": "",
            "zerolinecolor": "white"
           }
          },
          "shapedefaults": {
           "line": {
            "color": "#2a3f5f"
           }
          },
          "ternary": {
           "aaxis": {
            "gridcolor": "white",
            "linecolor": "white",
            "ticks": ""
           },
           "baxis": {
            "gridcolor": "white",
            "linecolor": "white",
            "ticks": ""
           },
           "bgcolor": "#E5ECF6",
           "caxis": {
            "gridcolor": "white",
            "linecolor": "white",
            "ticks": ""
           }
          },
          "title": {
           "x": 0.05
          },
          "xaxis": {
           "automargin": true,
           "gridcolor": "white",
           "linecolor": "white",
           "ticks": "",
           "title": {
            "standoff": 15
           },
           "zerolinecolor": "white",
           "zerolinewidth": 2
          },
          "yaxis": {
           "automargin": true,
           "gridcolor": "white",
           "linecolor": "white",
           "ticks": "",
           "title": {
            "standoff": 15
           },
           "zerolinecolor": "white",
           "zerolinewidth": 2
          }
         }
        },
        "title": {
         "text": "Estimation de la vraisemblance par SUMO"
        },
        "xaxis": {
         "tickfont": {
          "size": 12
         },
         "title": {
          "text": "Theta"
         }
        },
        "yaxis": {
         "range": [
          -300,
          500
         ],
         "tickfont": {
          "size": 12
         },
         "title": {
          "text": "Vraisemblance"
         }
        }
       }
      }
     },
     "metadata": {},
     "output_type": "display_data"
    }
   ],
   "source": [
    "#On remarque c'est beaucoup plus long en important depuis le .py \n",
    "Code.plot_likelihood(r, x, noised_A, noised_b, theta_true, n_simulations, \"ML_SS\")"
   ]
  },
  {
   "cell_type": "code",
   "execution_count": 7,
   "metadata": {},
   "outputs": [
    {
     "name": "stderr",
     "output_type": "stream",
     "text": [
      "Progression:   0%|          | 0/15 [00:00<?, ?it/s]"
     ]
    },
    {
     "name": "stderr",
     "output_type": "stream",
     "text": [
      "Progression: 100%|██████████| 15/15 [00:00<00:00, 54.96it/s]\n",
      "Progression: 100%|██████████| 15/15 [00:00<00:00, 51.99it/s]\n",
      "Progression: 100%|██████████| 15/15 [00:00<00:00, 50.45it/s]\n",
      "Progression: 100%|██████████| 15/15 [00:00<00:00, 50.90it/s]\n",
      "Progression: 100%|██████████| 15/15 [00:00<00:00, 51.65it/s]\n",
      "Progression: 100%|██████████| 15/15 [00:00<00:00, 48.25it/s]\n",
      "Progression: 100%|██████████| 15/15 [00:00<00:00, 52.55it/s]\n",
      "Progression: 100%|██████████| 15/15 [00:00<00:00, 51.32it/s]\n",
      "Progression: 100%|██████████| 15/15 [00:00<00:00, 44.75it/s]\n",
      "Progression: 100%|██████████| 15/15 [00:00<00:00, 51.42it/s]\n",
      "Progression: 100%|██████████| 15/15 [00:00<00:00, 50.50it/s]\n",
      "Progression: 100%|██████████| 15/15 [00:00<00:00, 53.89it/s]\n",
      "Progression: 100%|██████████| 15/15 [00:00<00:00, 48.44it/s]\n",
      "Progression: 100%|██████████| 15/15 [00:00<00:00, 54.48it/s]\n",
      "Progression:  80%|████████  | 12/15 [00:00<00:00, 56.02it/s]"
     ]
    },
    {
     "ename": "KeyboardInterrupt",
     "evalue": "",
     "output_type": "error",
     "traceback": [
      "\u001b[0;31m---------------------------------------------------------------------------\u001b[0m",
      "\u001b[0;31mKeyboardInterrupt\u001b[0m                         Traceback (most recent call last)",
      "\u001b[1;32m/Users/khelifanail/MLMC_Unibaised_Gradient_Estimation_for_Deep_LVM/Test_code.ipynb Cell 26\u001b[0m line \u001b[0;36m1\n\u001b[1;32m     <a href='vscode-notebook-cell:/Users/khelifanail/MLMC_Unibaised_Gradient_Estimation_for_Deep_LVM/Test_code.ipynb#X34sZmlsZQ%3D%3D?line=16'>17</a>\u001b[0m likelihoods \u001b[39m=\u001b[39m []\n\u001b[1;32m     <a href='vscode-notebook-cell:/Users/khelifanail/MLMC_Unibaised_Gradient_Estimation_for_Deep_LVM/Test_code.ipynb#X34sZmlsZQ%3D%3D?line=17'>18</a>\u001b[0m \u001b[39mfor\u001b[39;00m _ \u001b[39min\u001b[39;00m \u001b[39mrange\u001b[39m(n_runs):\n\u001b[0;32m---> <a href='vscode-notebook-cell:/Users/khelifanail/MLMC_Unibaised_Gradient_Estimation_for_Deep_LVM/Test_code.ipynb#X34sZmlsZQ%3D%3D?line=18'>19</a>\u001b[0m     likelihoods\u001b[39m.\u001b[39mappend(Code\u001b[39m.\u001b[39;49mlog_likelihood_SUMO(r, theta, x, noised_A, noised_b, n_simulations))\n\u001b[1;32m     <a href='vscode-notebook-cell:/Users/khelifanail/MLMC_Unibaised_Gradient_Estimation_for_Deep_LVM/Test_code.ipynb#X34sZmlsZQ%3D%3D?line=19'>20</a>\u001b[0m estimated_likelihood\u001b[39m.\u001b[39mappend(likelihoods)\n\u001b[1;32m     <a href='vscode-notebook-cell:/Users/khelifanail/MLMC_Unibaised_Gradient_Estimation_for_Deep_LVM/Test_code.ipynb#X34sZmlsZQ%3D%3D?line=20'>21</a>\u001b[0m time\u001b[39m.\u001b[39msleep(\u001b[39m0.01\u001b[39m)\n",
      "File \u001b[0;32m~/MLMC_Unibaised_Gradient_Estimation_for_Deep_LVM/Code.py:230\u001b[0m, in \u001b[0;36mlog_likelihood_SUMO\u001b[0;34m(r, theta, x, noised_A, noised_b, n_simulations, discrete_k)\u001b[0m\n\u001b[1;32m    226\u001b[0m         SUMO_K \u001b[39m+\u001b[39m\u001b[39m=\u001b[39m Delta_theta(j)\u001b[39m/\u001b[39m((\u001b[39m1\u001b[39m\u001b[39m-\u001b[39mr)\u001b[39m*\u001b[39m\u001b[39m*\u001b[39mj)\n\u001b[1;32m    228\u001b[0m     SUMO\u001b[39m.\u001b[39mappend(SUMO_K)\n\u001b[0;32m--> 230\u001b[0m     time\u001b[39m.\u001b[39msleep(\u001b[39m0.01\u001b[39m)\n\u001b[1;32m    231\u001b[0m     progress_bar\u001b[39m.\u001b[39mupdate(\u001b[39m1\u001b[39m)\n\u001b[1;32m    233\u001b[0m progress_bar\u001b[39m.\u001b[39mclose()\n",
      "\u001b[0;31mKeyboardInterrupt\u001b[0m: "
     ]
    },
    {
     "name": "stderr",
     "output_type": "stream",
     "text": [
      "Progression:  80%|████████  | 12/15 [00:15<00:00, 56.02it/s]"
     ]
    }
   ],
   "source": [
    "import numpy as np\n",
    "import matplotlib.pyplot as plt\n",
    "\n",
    "# Définition des valeurs initiales\n",
    "theta_min = theta_true - 5\n",
    "theta_max = theta_true + 5\n",
    "num_points = 30\n",
    "theta_values = np.linspace(theta_min, theta_max, num_points)\n",
    "n_runs = 5  # Nombre de lancements du programme\n",
    "true_likelihood_values = [Code.true_likelihood(x, theta) for theta in theta_values]\n",
    "\n",
    "estimated_likelihood = []\n",
    "\n",
    "# Calcul des vraisemblances estimées et stockage des résultats pour chaque exécution\n",
    "progress_bar = tqdm(total=len(theta_values), desc='Progression', position=0)\n",
    "for theta in theta_values:\n",
    "    likelihoods = []\n",
    "    for _ in range(n_runs):\n",
    "        likelihoods.append(Code.log_likelihood_SUMO(r, theta, x, noised_A, noised_b, n_simulations))\n",
    "    estimated_likelihood.append(likelihoods)\n",
    "    time.sleep(0.01)\n",
    "    progress_bar.update(1)\n",
    "progress_bar.close()\n",
    "\n",
    "# Création de la figure\n",
    "plt.figure(figsize=(15, 8))\n",
    "\n",
    "# Tracé de la vraisemblance réelle\n",
    "plt.plot(theta_values, true_likelihood_values, color='blue', label='Vraisemblance réelle')\n",
    "\n",
    "# Tracé de la vraisemblance estimée\n",
    "plt.scatter(theta_values, [np.median(x) for x in estimated_likelihood], color='red', label='Estimation moyenne')\n",
    "\n",
    "# Ajout des boxplots\n",
    "plt.boxplot(estimated_likelihood, positions=theta_values, widths=0.1, showfliers=False, patch_artist=True, notch=False, showmeans=True, boxprops=dict(facecolor='orange'))\n",
    "\n",
    "# Ligne verticale pour la valeur de theta vrai\n",
    "plt.axvline(x=theta_true, color='black', linestyle='--', label=f'Theta={theta_true}')\n",
    "\n",
    "# Mise en forme de la figure\n",
    "plt.title('Estimation de la vraisemblance par SUMO avec incertitude')\n",
    "plt.xlabel('Theta')\n",
    "plt.ylabel('Vraisemblance')\n",
    "plt.legend()\n",
    "plt.grid(True)\n",
    "plt.xticks(np.arange(min(theta_values), max(theta_values)+1, 2))\n",
    "\n",
    "\n",
    "# Affichage de la figure\n",
    "plt.show()\n"
   ]
  },
  {
   "cell_type": "markdown",
   "metadata": {},
   "source": [
    "On va désormais s'intéresser à l'estimation de $\\nabla_{\\theta} l(\\theta)$ par notre estimateur ML-SS. L'objectif étant de voir à quel point cet estimateur nous permettra, par la suite, d'approximer $\\theta^*$ à l'aide d'une descente de gradient. \n",
    "\n",
    "De la même façon, "
   ]
  },
  {
   "cell_type": "code",
   "execution_count": 10,
   "metadata": {},
   "outputs": [
    {
     "data": {
      "application/vnd.plotly.v1+json": {
       "config": {
        "plotlyServerURL": "https://plot.ly"
       },
       "data": [
        {
         "line": {
          "color": "red"
         },
         "mode": "lines",
         "name": "True Gradient",
         "type": "scatter",
         "x": [
          -5.049100556476373,
          -4.845018923823312,
          -4.64093729117025,
          -4.436855658517189,
          -4.232774025864128,
          -4.028692393211067,
          -3.8246107605580053,
          -3.620529127904944,
          -3.416447495251883,
          -3.212365862598822,
          -3.0082842299457604,
          -2.804202597292699,
          -2.600120964639638,
          -2.396039331986577,
          -2.1919576993335155,
          -1.987876066680454,
          -1.783794434027393,
          -1.579712801374332,
          -1.3756311687212706,
          -1.171549536068209,
          -0.9674679034151481,
          -0.7633862707620871,
          -0.5593046381090252,
          -0.3552230054559642,
          -0.15114137280290318,
          0.05294025985015782,
          0.25702189250321883,
          0.4611035251562807,
          0.6651851578093417,
          0.8692667904624027,
          1.0733484231154646,
          1.2774300557685256,
          1.4815116884215866,
          1.6855933210746477,
          1.8896749537277087,
          2.0937565863807706,
          2.2978382190338316,
          2.5019198516868926,
          2.7060014843399545,
          2.9100831169930155,
          3.1141647496460765,
          3.3182463822991375,
          3.5223280149521985,
          3.7264096476052595,
          3.9304912802583223,
          4.134572912911383,
          4.338654545564444,
          4.542736178217505,
          4.746817810870566,
          4.950899443523627
         ],
         "y": [
          56.72565880845987,
          54.68484248192926,
          52.64402615539864,
          50.60320982886803,
          48.56239350233742,
          46.52157717580681,
          44.480760849276194,
          42.43994452274558,
          40.399128196214974,
          38.35831186968436,
          36.31749554315375,
          34.27667921662313,
          32.23586289009252,
          30.19504656356191,
          28.154230237031296,
          26.113413910500682,
          24.072597583970072,
          22.031781257439462,
          19.99096493090885,
          17.950148604378235,
          15.909332277847623,
          13.868515951317013,
          11.827699624786394,
          9.786883298255784,
          7.746066971725174,
          5.705250645194564,
          3.664434318663954,
          1.623617992133335,
          -0.41719833439727516,
          -2.4580146609278852,
          -4.498830987458504,
          -6.539647313989114,
          -8.580463640519724,
          -10.621279967050334,
          -12.662096293580944,
          -14.702912620111563,
          -16.74372894664217,
          -18.78454527317278,
          -20.825361599703403,
          -22.866177926234013,
          -24.906994252764623,
          -26.947810579295233,
          -28.988626905825843,
          -31.029443232356453,
          -33.07025955888708,
          -35.11107588541769,
          -37.1518922119483,
          -39.19270853847891,
          -41.23352486500952,
          -43.27434119154013
         ]
        },
        {
         "marker": {
          "color": "purple",
          "symbol": "x"
         },
         "mode": "markers",
         "name": "ML_SS",
         "type": "scatter",
         "x": [
          -5.049100556476373,
          -4.845018923823312,
          -4.64093729117025,
          -4.436855658517189,
          -4.232774025864128,
          -4.028692393211067,
          -3.8246107605580053,
          -3.620529127904944,
          -3.416447495251883,
          -3.212365862598822,
          -3.0082842299457604,
          -2.804202597292699,
          -2.600120964639638,
          -2.396039331986577,
          -2.1919576993335155,
          -1.987876066680454,
          -1.783794434027393,
          -1.579712801374332,
          -1.3756311687212706,
          -1.171549536068209,
          -0.9674679034151481,
          -0.7633862707620871,
          -0.5593046381090252,
          -0.3552230054559642,
          -0.15114137280290318,
          0.05294025985015782,
          0.25702189250321883,
          0.4611035251562807,
          0.6651851578093417,
          0.8692667904624027,
          1.0733484231154646,
          1.2774300557685256,
          1.4815116884215866,
          1.6855933210746477,
          1.8896749537277087,
          2.0937565863807706,
          2.2978382190338316,
          2.5019198516868926,
          2.7060014843399545,
          2.9100831169930155,
          3.1141647496460765,
          3.3182463822991375,
          3.5223280149521985,
          3.7264096476052595,
          3.9304912802583223,
          4.134572912911383,
          4.338654545564444,
          4.542736178217505,
          4.746817810870566,
          4.950899443523627
         ],
         "y": [
          53.38411463501791,
          43.656864807135975,
          67.75738866604033,
          53.07904631203613,
          11.171997842236692,
          20.19589549229704,
          60.91800624359146,
          49.12373177706007,
          -4.078847781135636,
          5.309414648727497,
          36.11814819392494,
          41.311940877436484,
          31.390233254310033,
          15.849360045118232,
          1.9633982731160344,
          6.6242919019625575,
          21.46260400213255,
          23.379819752018378,
          4.997333700674552,
          8.447017594065393,
          6.382595949530849,
          6.327906720675987,
          5.395761500994162,
          -0.8624600233586079,
          3.53180861295246,
          2.9357839765933242,
          -0.44174366487703054,
          -0.4866931795256555,
          -0.409195472157851,
          -1.7986008206220454,
          -4.765639557726075,
          -8.942381966039694,
          -3.9455490474077592,
          -5.36087667936712,
          -9.654548248416546,
          -15.991851384949925,
          20.261718536338776,
          -16.434352890696047,
          -60.12811978432346,
          -7.660818309640291,
          -22.038397543519395,
          -41.96710406213241,
          -20.003950296550514,
          -16.303729809916987,
          -15.670194147300492,
          -24.324805916456626,
          -46.377492051352476,
          -39.3685922586144,
          -9.14383710232326,
          9.293461584908073
         ]
        }
       ],
       "layout": {
        "legend": {
         "font": {
          "size": 12
         },
         "traceorder": "normal",
         "x": 0,
         "y": 1
        },
        "shapes": [
         {
          "line": {
           "color": "black",
           "dash": "dash",
           "width": 2
          },
          "name": "theta=-0.04910055647637311",
          "type": "line",
          "x0": -0.04910055647637311,
          "x1": -0.04910055647637311,
          "y0": -60.12811978432346,
          "y1": 67.75738866604033
         }
        ],
        "showlegend": true,
        "template": {
         "data": {
          "bar": [
           {
            "error_x": {
             "color": "#2a3f5f"
            },
            "error_y": {
             "color": "#2a3f5f"
            },
            "marker": {
             "line": {
              "color": "#E5ECF6",
              "width": 0.5
             },
             "pattern": {
              "fillmode": "overlay",
              "size": 10,
              "solidity": 0.2
             }
            },
            "type": "bar"
           }
          ],
          "barpolar": [
           {
            "marker": {
             "line": {
              "color": "#E5ECF6",
              "width": 0.5
             },
             "pattern": {
              "fillmode": "overlay",
              "size": 10,
              "solidity": 0.2
             }
            },
            "type": "barpolar"
           }
          ],
          "carpet": [
           {
            "aaxis": {
             "endlinecolor": "#2a3f5f",
             "gridcolor": "white",
             "linecolor": "white",
             "minorgridcolor": "white",
             "startlinecolor": "#2a3f5f"
            },
            "baxis": {
             "endlinecolor": "#2a3f5f",
             "gridcolor": "white",
             "linecolor": "white",
             "minorgridcolor": "white",
             "startlinecolor": "#2a3f5f"
            },
            "type": "carpet"
           }
          ],
          "choropleth": [
           {
            "colorbar": {
             "outlinewidth": 0,
             "ticks": ""
            },
            "type": "choropleth"
           }
          ],
          "contour": [
           {
            "colorbar": {
             "outlinewidth": 0,
             "ticks": ""
            },
            "colorscale": [
             [
              0,
              "#0d0887"
             ],
             [
              0.1111111111111111,
              "#46039f"
             ],
             [
              0.2222222222222222,
              "#7201a8"
             ],
             [
              0.3333333333333333,
              "#9c179e"
             ],
             [
              0.4444444444444444,
              "#bd3786"
             ],
             [
              0.5555555555555556,
              "#d8576b"
             ],
             [
              0.6666666666666666,
              "#ed7953"
             ],
             [
              0.7777777777777778,
              "#fb9f3a"
             ],
             [
              0.8888888888888888,
              "#fdca26"
             ],
             [
              1,
              "#f0f921"
             ]
            ],
            "type": "contour"
           }
          ],
          "contourcarpet": [
           {
            "colorbar": {
             "outlinewidth": 0,
             "ticks": ""
            },
            "type": "contourcarpet"
           }
          ],
          "heatmap": [
           {
            "colorbar": {
             "outlinewidth": 0,
             "ticks": ""
            },
            "colorscale": [
             [
              0,
              "#0d0887"
             ],
             [
              0.1111111111111111,
              "#46039f"
             ],
             [
              0.2222222222222222,
              "#7201a8"
             ],
             [
              0.3333333333333333,
              "#9c179e"
             ],
             [
              0.4444444444444444,
              "#bd3786"
             ],
             [
              0.5555555555555556,
              "#d8576b"
             ],
             [
              0.6666666666666666,
              "#ed7953"
             ],
             [
              0.7777777777777778,
              "#fb9f3a"
             ],
             [
              0.8888888888888888,
              "#fdca26"
             ],
             [
              1,
              "#f0f921"
             ]
            ],
            "type": "heatmap"
           }
          ],
          "heatmapgl": [
           {
            "colorbar": {
             "outlinewidth": 0,
             "ticks": ""
            },
            "colorscale": [
             [
              0,
              "#0d0887"
             ],
             [
              0.1111111111111111,
              "#46039f"
             ],
             [
              0.2222222222222222,
              "#7201a8"
             ],
             [
              0.3333333333333333,
              "#9c179e"
             ],
             [
              0.4444444444444444,
              "#bd3786"
             ],
             [
              0.5555555555555556,
              "#d8576b"
             ],
             [
              0.6666666666666666,
              "#ed7953"
             ],
             [
              0.7777777777777778,
              "#fb9f3a"
             ],
             [
              0.8888888888888888,
              "#fdca26"
             ],
             [
              1,
              "#f0f921"
             ]
            ],
            "type": "heatmapgl"
           }
          ],
          "histogram": [
           {
            "marker": {
             "pattern": {
              "fillmode": "overlay",
              "size": 10,
              "solidity": 0.2
             }
            },
            "type": "histogram"
           }
          ],
          "histogram2d": [
           {
            "colorbar": {
             "outlinewidth": 0,
             "ticks": ""
            },
            "colorscale": [
             [
              0,
              "#0d0887"
             ],
             [
              0.1111111111111111,
              "#46039f"
             ],
             [
              0.2222222222222222,
              "#7201a8"
             ],
             [
              0.3333333333333333,
              "#9c179e"
             ],
             [
              0.4444444444444444,
              "#bd3786"
             ],
             [
              0.5555555555555556,
              "#d8576b"
             ],
             [
              0.6666666666666666,
              "#ed7953"
             ],
             [
              0.7777777777777778,
              "#fb9f3a"
             ],
             [
              0.8888888888888888,
              "#fdca26"
             ],
             [
              1,
              "#f0f921"
             ]
            ],
            "type": "histogram2d"
           }
          ],
          "histogram2dcontour": [
           {
            "colorbar": {
             "outlinewidth": 0,
             "ticks": ""
            },
            "colorscale": [
             [
              0,
              "#0d0887"
             ],
             [
              0.1111111111111111,
              "#46039f"
             ],
             [
              0.2222222222222222,
              "#7201a8"
             ],
             [
              0.3333333333333333,
              "#9c179e"
             ],
             [
              0.4444444444444444,
              "#bd3786"
             ],
             [
              0.5555555555555556,
              "#d8576b"
             ],
             [
              0.6666666666666666,
              "#ed7953"
             ],
             [
              0.7777777777777778,
              "#fb9f3a"
             ],
             [
              0.8888888888888888,
              "#fdca26"
             ],
             [
              1,
              "#f0f921"
             ]
            ],
            "type": "histogram2dcontour"
           }
          ],
          "mesh3d": [
           {
            "colorbar": {
             "outlinewidth": 0,
             "ticks": ""
            },
            "type": "mesh3d"
           }
          ],
          "parcoords": [
           {
            "line": {
             "colorbar": {
              "outlinewidth": 0,
              "ticks": ""
             }
            },
            "type": "parcoords"
           }
          ],
          "pie": [
           {
            "automargin": true,
            "type": "pie"
           }
          ],
          "scatter": [
           {
            "fillpattern": {
             "fillmode": "overlay",
             "size": 10,
             "solidity": 0.2
            },
            "type": "scatter"
           }
          ],
          "scatter3d": [
           {
            "line": {
             "colorbar": {
              "outlinewidth": 0,
              "ticks": ""
             }
            },
            "marker": {
             "colorbar": {
              "outlinewidth": 0,
              "ticks": ""
             }
            },
            "type": "scatter3d"
           }
          ],
          "scattercarpet": [
           {
            "marker": {
             "colorbar": {
              "outlinewidth": 0,
              "ticks": ""
             }
            },
            "type": "scattercarpet"
           }
          ],
          "scattergeo": [
           {
            "marker": {
             "colorbar": {
              "outlinewidth": 0,
              "ticks": ""
             }
            },
            "type": "scattergeo"
           }
          ],
          "scattergl": [
           {
            "marker": {
             "colorbar": {
              "outlinewidth": 0,
              "ticks": ""
             }
            },
            "type": "scattergl"
           }
          ],
          "scattermapbox": [
           {
            "marker": {
             "colorbar": {
              "outlinewidth": 0,
              "ticks": ""
             }
            },
            "type": "scattermapbox"
           }
          ],
          "scatterpolar": [
           {
            "marker": {
             "colorbar": {
              "outlinewidth": 0,
              "ticks": ""
             }
            },
            "type": "scatterpolar"
           }
          ],
          "scatterpolargl": [
           {
            "marker": {
             "colorbar": {
              "outlinewidth": 0,
              "ticks": ""
             }
            },
            "type": "scatterpolargl"
           }
          ],
          "scatterternary": [
           {
            "marker": {
             "colorbar": {
              "outlinewidth": 0,
              "ticks": ""
             }
            },
            "type": "scatterternary"
           }
          ],
          "surface": [
           {
            "colorbar": {
             "outlinewidth": 0,
             "ticks": ""
            },
            "colorscale": [
             [
              0,
              "#0d0887"
             ],
             [
              0.1111111111111111,
              "#46039f"
             ],
             [
              0.2222222222222222,
              "#7201a8"
             ],
             [
              0.3333333333333333,
              "#9c179e"
             ],
             [
              0.4444444444444444,
              "#bd3786"
             ],
             [
              0.5555555555555556,
              "#d8576b"
             ],
             [
              0.6666666666666666,
              "#ed7953"
             ],
             [
              0.7777777777777778,
              "#fb9f3a"
             ],
             [
              0.8888888888888888,
              "#fdca26"
             ],
             [
              1,
              "#f0f921"
             ]
            ],
            "type": "surface"
           }
          ],
          "table": [
           {
            "cells": {
             "fill": {
              "color": "#EBF0F8"
             },
             "line": {
              "color": "white"
             }
            },
            "header": {
             "fill": {
              "color": "#C8D4E3"
             },
             "line": {
              "color": "white"
             }
            },
            "type": "table"
           }
          ]
         },
         "layout": {
          "annotationdefaults": {
           "arrowcolor": "#2a3f5f",
           "arrowhead": 0,
           "arrowwidth": 1
          },
          "autotypenumbers": "strict",
          "coloraxis": {
           "colorbar": {
            "outlinewidth": 0,
            "ticks": ""
           }
          },
          "colorscale": {
           "diverging": [
            [
             0,
             "#8e0152"
            ],
            [
             0.1,
             "#c51b7d"
            ],
            [
             0.2,
             "#de77ae"
            ],
            [
             0.3,
             "#f1b6da"
            ],
            [
             0.4,
             "#fde0ef"
            ],
            [
             0.5,
             "#f7f7f7"
            ],
            [
             0.6,
             "#e6f5d0"
            ],
            [
             0.7,
             "#b8e186"
            ],
            [
             0.8,
             "#7fbc41"
            ],
            [
             0.9,
             "#4d9221"
            ],
            [
             1,
             "#276419"
            ]
           ],
           "sequential": [
            [
             0,
             "#0d0887"
            ],
            [
             0.1111111111111111,
             "#46039f"
            ],
            [
             0.2222222222222222,
             "#7201a8"
            ],
            [
             0.3333333333333333,
             "#9c179e"
            ],
            [
             0.4444444444444444,
             "#bd3786"
            ],
            [
             0.5555555555555556,
             "#d8576b"
            ],
            [
             0.6666666666666666,
             "#ed7953"
            ],
            [
             0.7777777777777778,
             "#fb9f3a"
            ],
            [
             0.8888888888888888,
             "#fdca26"
            ],
            [
             1,
             "#f0f921"
            ]
           ],
           "sequentialminus": [
            [
             0,
             "#0d0887"
            ],
            [
             0.1111111111111111,
             "#46039f"
            ],
            [
             0.2222222222222222,
             "#7201a8"
            ],
            [
             0.3333333333333333,
             "#9c179e"
            ],
            [
             0.4444444444444444,
             "#bd3786"
            ],
            [
             0.5555555555555556,
             "#d8576b"
            ],
            [
             0.6666666666666666,
             "#ed7953"
            ],
            [
             0.7777777777777778,
             "#fb9f3a"
            ],
            [
             0.8888888888888888,
             "#fdca26"
            ],
            [
             1,
             "#f0f921"
            ]
           ]
          },
          "colorway": [
           "#636efa",
           "#EF553B",
           "#00cc96",
           "#ab63fa",
           "#FFA15A",
           "#19d3f3",
           "#FF6692",
           "#B6E880",
           "#FF97FF",
           "#FECB52"
          ],
          "font": {
           "color": "#2a3f5f"
          },
          "geo": {
           "bgcolor": "white",
           "lakecolor": "white",
           "landcolor": "#E5ECF6",
           "showlakes": true,
           "showland": true,
           "subunitcolor": "white"
          },
          "hoverlabel": {
           "align": "left"
          },
          "hovermode": "closest",
          "mapbox": {
           "style": "light"
          },
          "paper_bgcolor": "white",
          "plot_bgcolor": "#E5ECF6",
          "polar": {
           "angularaxis": {
            "gridcolor": "white",
            "linecolor": "white",
            "ticks": ""
           },
           "bgcolor": "#E5ECF6",
           "radialaxis": {
            "gridcolor": "white",
            "linecolor": "white",
            "ticks": ""
           }
          },
          "scene": {
           "xaxis": {
            "backgroundcolor": "#E5ECF6",
            "gridcolor": "white",
            "gridwidth": 2,
            "linecolor": "white",
            "showbackground": true,
            "ticks": "",
            "zerolinecolor": "white"
           },
           "yaxis": {
            "backgroundcolor": "#E5ECF6",
            "gridcolor": "white",
            "gridwidth": 2,
            "linecolor": "white",
            "showbackground": true,
            "ticks": "",
            "zerolinecolor": "white"
           },
           "zaxis": {
            "backgroundcolor": "#E5ECF6",
            "gridcolor": "white",
            "gridwidth": 2,
            "linecolor": "white",
            "showbackground": true,
            "ticks": "",
            "zerolinecolor": "white"
           }
          },
          "shapedefaults": {
           "line": {
            "color": "#2a3f5f"
           }
          },
          "ternary": {
           "aaxis": {
            "gridcolor": "white",
            "linecolor": "white",
            "ticks": ""
           },
           "baxis": {
            "gridcolor": "white",
            "linecolor": "white",
            "ticks": ""
           },
           "bgcolor": "#E5ECF6",
           "caxis": {
            "gridcolor": "white",
            "linecolor": "white",
            "ticks": ""
           }
          },
          "title": {
           "x": 0.05
          },
          "xaxis": {
           "automargin": true,
           "gridcolor": "white",
           "linecolor": "white",
           "ticks": "",
           "title": {
            "standoff": 15
           },
           "zerolinecolor": "white",
           "zerolinewidth": 2
          },
          "yaxis": {
           "automargin": true,
           "gridcolor": "white",
           "linecolor": "white",
           "ticks": "",
           "title": {
            "standoff": 15
           },
           "zerolinecolor": "white",
           "zerolinewidth": 2
          }
         }
        },
        "title": {
         "text": "Estimation du gradient par ML_SS"
        },
        "xaxis": {
         "title": {
          "text": "Theta"
         }
        },
        "yaxis": {
         "title": {
          "text": "Gradient"
         }
        }
       }
      }
     },
     "metadata": {},
     "output_type": "display_data"
    }
   ],
   "source": [
    "Code.plot_gradient(0.6, x, noised_A, noised_b, theta_true, n_simulations,'ML_SS')"
   ]
  },
  {
   "cell_type": "markdown",
   "metadata": {},
   "source": [
    "#### <span style=\"color:red\">  **1.1.2 Estimateur ML-RR**  </span>"
   ]
  },
  {
   "cell_type": "code",
   "execution_count": null,
   "metadata": {},
   "outputs": [
    {
     "name": "stderr",
     "output_type": "stream",
     "text": [
      "Progression: 100%|██████████| 60/60 [00:14<00:00,  4.28it/s]\n"
     ]
    },
    {
     "data": {
      "application/vnd.plotly.v1+json": {
       "config": {
        "plotlyServerURL": "https://plot.ly"
       },
       "data": [
        {
         "line": {
          "color": "blue"
         },
         "mode": "lines",
         "name": "Vraisemblance réelle (avec theta_true)",
         "type": "scatter",
         "x": [
          -2.9388223082554052,
          -2.7693307828316764,
          -2.5998392574079476,
          -2.430347731984219,
          -2.26085620656049,
          -2.091364681136761,
          -1.9218731557130324,
          -1.7523816302893036,
          -1.5828901048655748,
          -1.413398579441846,
          -1.2439070540181172,
          -1.0744155285943884,
          -0.9049240031706596,
          -0.7354324777469308,
          -0.565940952323202,
          -0.39644942689947316,
          -0.22695790147574435,
          -0.057466376052015544,
          0.11202514937171326,
          0.28151667479544207,
          0.4510082002191709,
          0.6204997256428997,
          0.7899912510666285,
          0.9594827764903573,
          1.128974301914086,
          1.2984658273378145,
          1.4679573527615437,
          1.637448878185273,
          1.8069404036090013,
          1.9764319290327297,
          2.145923454456459,
          2.315414979880188,
          2.4849065053039165,
          2.654398030727645,
          2.823889556151374,
          2.9933810815751034,
          3.1628726069988318,
          3.33236413242256,
          3.5018556578462894,
          3.6713471832700186,
          3.840838708693747,
          4.010330234117475,
          4.179821759541205,
          4.349313284964934,
          4.518804810388662,
          4.688296335812391,
          4.85778786123612,
          5.027279386659849,
          5.196770912083577,
          5.366262437507306,
          5.535753962931034,
          5.705245488354764,
          5.874737013778493,
          6.044228539202221,
          6.213720064625951,
          6.3832115900496795,
          6.552703115473408,
          6.722194640897136,
          6.891686166320865,
          7.061177691744595
         ],
         "y": [
          -152.99269754297242,
          -144.63895362400115,
          -136.57248347693448,
          -128.79328710177245,
          -121.30136449851506,
          -114.09671566716226,
          -107.17934060771411,
          -100.54923932017059,
          -94.20641180453167,
          -88.15085806079739,
          -82.38257808896776,
          -76.90157188904271,
          -71.70783946102232,
          -66.80138080490653,
          -62.182195920695364,
          -57.85028480838884,
          -53.80564746798694,
          -50.048283899489654,
          -46.57819410289701,
          -43.39537807820897,
          -40.49983582542556,
          -37.89156734454679,
          -35.57057263557264,
          -33.536851698503106,
          -31.790404533338204,
          -30.33123114007793,
          -29.159331518722272,
          -28.27470566927124,
          -27.677353591724835,
          -27.36727528608306,
          -27.344470752345906,
          -27.608939990513377,
          -28.160683000585475,
          -28.999699782562192,
          -30.125990336443543,
          -31.539554662229516,
          -33.24039275992011,
          -35.228504629515335,
          -37.50389027101518,
          -40.06654968441966,
          -42.91648286972875,
          -46.05368982694247,
          -49.478170556060824,
          -53.189925057083805,
          -57.18895333001139,
          -61.4752553748436,
          -66.04883119158046,
          -70.90968078022195,
          -76.05780414076803,
          -81.49320127321874,
          -87.21587217757407,
          -93.2258168538341,
          -99.52303530199869,
          -106.10752752206788,
          -112.97929351404179,
          -120.13833327792025,
          -127.5846468137033,
          -135.31823412139101,
          -143.33909520098337,
          -151.6472300524804
         ]
        },
        {
         "marker": {
          "color": "red",
          "symbol": "cross"
         },
         "mode": "markers",
         "name": "ML_RR",
         "type": "scatter",
         "x": [
          -2.9388223082554052,
          -2.7693307828316764,
          -2.5998392574079476,
          -2.430347731984219,
          -2.26085620656049,
          -2.091364681136761,
          -1.9218731557130324,
          -1.7523816302893036,
          -1.5828901048655748,
          -1.413398579441846,
          -1.2439070540181172,
          -1.0744155285943884,
          -0.9049240031706596,
          -0.7354324777469308,
          -0.565940952323202,
          -0.39644942689947316,
          -0.22695790147574435,
          -0.057466376052015544,
          0.11202514937171326,
          0.28151667479544207,
          0.4510082002191709,
          0.6204997256428997,
          0.7899912510666285,
          0.9594827764903573,
          1.128974301914086,
          1.2984658273378145,
          1.4679573527615437,
          1.637448878185273,
          1.8069404036090013,
          1.9764319290327297,
          2.145923454456459,
          2.315414979880188,
          2.4849065053039165,
          2.654398030727645,
          2.823889556151374,
          2.9933810815751034,
          3.1628726069988318,
          3.33236413242256,
          3.5018556578462894,
          3.6713471832700186,
          3.840838708693747,
          4.010330234117475,
          4.179821759541205,
          4.349313284964934,
          4.518804810388662,
          4.688296335812391,
          4.85778786123612,
          5.027279386659849,
          5.196770912083577,
          5.366262437507306,
          5.535753962931034,
          5.705245488354764,
          5.874737013778493,
          6.044228539202221,
          6.213720064625951,
          6.3832115900496795,
          6.552703115473408,
          6.722194640897136,
          6.891686166320865,
          7.061177691744595
         ],
         "y": [
          -246.420770576959,
          -216.00514375790064,
          -127.69392724340742,
          -186.8325087663041,
          -196.76754265524252,
          -171.96702954926877,
          -127.38881572193571,
          -160.26892051527292,
          -143.96410050299866,
          -125.78236291778322,
          -120.369430347016,
          -113.06331763355202,
          -98.91872737751358,
          -46.51488129187933,
          -80.45822681630237,
          -82.42824646052647,
          -54.13773624728545,
          -56.13899212619005,
          -48.8401361329908,
          -50.56685048120654,
          -48.55233496491302,
          -34.39647754162233,
          -39.24254047342606,
          -40.24180338246113,
          -38.165295069738356,
          -36.50547988817276,
          -35.64373232114512,
          -35.38162403249851,
          -34.126698345640605,
          -33.60599647128747,
          -34.19681898449867,
          -34.136568126736314,
          -33.944084937476234,
          -35.119872254921546,
          -36.525670417719375,
          -36.241113280902816,
          -40.86212468684924,
          -47.557796672377826,
          -46.590523170271474,
          -53.16634604662102,
          -51.2308694023747,
          -49.25647808618999,
          -60.53970960127537,
          -10.259121867001166,
          -69.78608471760252,
          -84.73543528045073,
          -95.77169180851271,
          -97.04169660786138,
          -103.8707071803128,
          -122.65868560539586,
          -132.51063018298473,
          -131.377039583224,
          566.3511048020882,
          -72.38265159040854,
          579.9746385543356,
          -157.91453172687125,
          -197.2448363233769,
          -229.55339521714868,
          -215.70486319063303,
          -254.71877615768875
         ]
        }
       ],
       "layout": {
        "grid": {
         "columns": 1,
         "rows": 1
        },
        "legend": {
         "font": {
          "size": 10
         }
        },
        "shapes": [
         {
          "line": {
           "color": "black",
           "dash": "dash"
          },
          "name": "Theta=2.0611776917445948",
          "type": "line",
          "x0": 2.0611776917445948,
          "x1": 2.0611776917445948,
          "y0": -300,
          "y1": 500
         }
        ],
        "showlegend": true,
        "template": {
         "data": {
          "bar": [
           {
            "error_x": {
             "color": "#2a3f5f"
            },
            "error_y": {
             "color": "#2a3f5f"
            },
            "marker": {
             "line": {
              "color": "#E5ECF6",
              "width": 0.5
             },
             "pattern": {
              "fillmode": "overlay",
              "size": 10,
              "solidity": 0.2
             }
            },
            "type": "bar"
           }
          ],
          "barpolar": [
           {
            "marker": {
             "line": {
              "color": "#E5ECF6",
              "width": 0.5
             },
             "pattern": {
              "fillmode": "overlay",
              "size": 10,
              "solidity": 0.2
             }
            },
            "type": "barpolar"
           }
          ],
          "carpet": [
           {
            "aaxis": {
             "endlinecolor": "#2a3f5f",
             "gridcolor": "white",
             "linecolor": "white",
             "minorgridcolor": "white",
             "startlinecolor": "#2a3f5f"
            },
            "baxis": {
             "endlinecolor": "#2a3f5f",
             "gridcolor": "white",
             "linecolor": "white",
             "minorgridcolor": "white",
             "startlinecolor": "#2a3f5f"
            },
            "type": "carpet"
           }
          ],
          "choropleth": [
           {
            "colorbar": {
             "outlinewidth": 0,
             "ticks": ""
            },
            "type": "choropleth"
           }
          ],
          "contour": [
           {
            "colorbar": {
             "outlinewidth": 0,
             "ticks": ""
            },
            "colorscale": [
             [
              0,
              "#0d0887"
             ],
             [
              0.1111111111111111,
              "#46039f"
             ],
             [
              0.2222222222222222,
              "#7201a8"
             ],
             [
              0.3333333333333333,
              "#9c179e"
             ],
             [
              0.4444444444444444,
              "#bd3786"
             ],
             [
              0.5555555555555556,
              "#d8576b"
             ],
             [
              0.6666666666666666,
              "#ed7953"
             ],
             [
              0.7777777777777778,
              "#fb9f3a"
             ],
             [
              0.8888888888888888,
              "#fdca26"
             ],
             [
              1,
              "#f0f921"
             ]
            ],
            "type": "contour"
           }
          ],
          "contourcarpet": [
           {
            "colorbar": {
             "outlinewidth": 0,
             "ticks": ""
            },
            "type": "contourcarpet"
           }
          ],
          "heatmap": [
           {
            "colorbar": {
             "outlinewidth": 0,
             "ticks": ""
            },
            "colorscale": [
             [
              0,
              "#0d0887"
             ],
             [
              0.1111111111111111,
              "#46039f"
             ],
             [
              0.2222222222222222,
              "#7201a8"
             ],
             [
              0.3333333333333333,
              "#9c179e"
             ],
             [
              0.4444444444444444,
              "#bd3786"
             ],
             [
              0.5555555555555556,
              "#d8576b"
             ],
             [
              0.6666666666666666,
              "#ed7953"
             ],
             [
              0.7777777777777778,
              "#fb9f3a"
             ],
             [
              0.8888888888888888,
              "#fdca26"
             ],
             [
              1,
              "#f0f921"
             ]
            ],
            "type": "heatmap"
           }
          ],
          "heatmapgl": [
           {
            "colorbar": {
             "outlinewidth": 0,
             "ticks": ""
            },
            "colorscale": [
             [
              0,
              "#0d0887"
             ],
             [
              0.1111111111111111,
              "#46039f"
             ],
             [
              0.2222222222222222,
              "#7201a8"
             ],
             [
              0.3333333333333333,
              "#9c179e"
             ],
             [
              0.4444444444444444,
              "#bd3786"
             ],
             [
              0.5555555555555556,
              "#d8576b"
             ],
             [
              0.6666666666666666,
              "#ed7953"
             ],
             [
              0.7777777777777778,
              "#fb9f3a"
             ],
             [
              0.8888888888888888,
              "#fdca26"
             ],
             [
              1,
              "#f0f921"
             ]
            ],
            "type": "heatmapgl"
           }
          ],
          "histogram": [
           {
            "marker": {
             "pattern": {
              "fillmode": "overlay",
              "size": 10,
              "solidity": 0.2
             }
            },
            "type": "histogram"
           }
          ],
          "histogram2d": [
           {
            "colorbar": {
             "outlinewidth": 0,
             "ticks": ""
            },
            "colorscale": [
             [
              0,
              "#0d0887"
             ],
             [
              0.1111111111111111,
              "#46039f"
             ],
             [
              0.2222222222222222,
              "#7201a8"
             ],
             [
              0.3333333333333333,
              "#9c179e"
             ],
             [
              0.4444444444444444,
              "#bd3786"
             ],
             [
              0.5555555555555556,
              "#d8576b"
             ],
             [
              0.6666666666666666,
              "#ed7953"
             ],
             [
              0.7777777777777778,
              "#fb9f3a"
             ],
             [
              0.8888888888888888,
              "#fdca26"
             ],
             [
              1,
              "#f0f921"
             ]
            ],
            "type": "histogram2d"
           }
          ],
          "histogram2dcontour": [
           {
            "colorbar": {
             "outlinewidth": 0,
             "ticks": ""
            },
            "colorscale": [
             [
              0,
              "#0d0887"
             ],
             [
              0.1111111111111111,
              "#46039f"
             ],
             [
              0.2222222222222222,
              "#7201a8"
             ],
             [
              0.3333333333333333,
              "#9c179e"
             ],
             [
              0.4444444444444444,
              "#bd3786"
             ],
             [
              0.5555555555555556,
              "#d8576b"
             ],
             [
              0.6666666666666666,
              "#ed7953"
             ],
             [
              0.7777777777777778,
              "#fb9f3a"
             ],
             [
              0.8888888888888888,
              "#fdca26"
             ],
             [
              1,
              "#f0f921"
             ]
            ],
            "type": "histogram2dcontour"
           }
          ],
          "mesh3d": [
           {
            "colorbar": {
             "outlinewidth": 0,
             "ticks": ""
            },
            "type": "mesh3d"
           }
          ],
          "parcoords": [
           {
            "line": {
             "colorbar": {
              "outlinewidth": 0,
              "ticks": ""
             }
            },
            "type": "parcoords"
           }
          ],
          "pie": [
           {
            "automargin": true,
            "type": "pie"
           }
          ],
          "scatter": [
           {
            "fillpattern": {
             "fillmode": "overlay",
             "size": 10,
             "solidity": 0.2
            },
            "type": "scatter"
           }
          ],
          "scatter3d": [
           {
            "line": {
             "colorbar": {
              "outlinewidth": 0,
              "ticks": ""
             }
            },
            "marker": {
             "colorbar": {
              "outlinewidth": 0,
              "ticks": ""
             }
            },
            "type": "scatter3d"
           }
          ],
          "scattercarpet": [
           {
            "marker": {
             "colorbar": {
              "outlinewidth": 0,
              "ticks": ""
             }
            },
            "type": "scattercarpet"
           }
          ],
          "scattergeo": [
           {
            "marker": {
             "colorbar": {
              "outlinewidth": 0,
              "ticks": ""
             }
            },
            "type": "scattergeo"
           }
          ],
          "scattergl": [
           {
            "marker": {
             "colorbar": {
              "outlinewidth": 0,
              "ticks": ""
             }
            },
            "type": "scattergl"
           }
          ],
          "scattermapbox": [
           {
            "marker": {
             "colorbar": {
              "outlinewidth": 0,
              "ticks": ""
             }
            },
            "type": "scattermapbox"
           }
          ],
          "scatterpolar": [
           {
            "marker": {
             "colorbar": {
              "outlinewidth": 0,
              "ticks": ""
             }
            },
            "type": "scatterpolar"
           }
          ],
          "scatterpolargl": [
           {
            "marker": {
             "colorbar": {
              "outlinewidth": 0,
              "ticks": ""
             }
            },
            "type": "scatterpolargl"
           }
          ],
          "scatterternary": [
           {
            "marker": {
             "colorbar": {
              "outlinewidth": 0,
              "ticks": ""
             }
            },
            "type": "scatterternary"
           }
          ],
          "surface": [
           {
            "colorbar": {
             "outlinewidth": 0,
             "ticks": ""
            },
            "colorscale": [
             [
              0,
              "#0d0887"
             ],
             [
              0.1111111111111111,
              "#46039f"
             ],
             [
              0.2222222222222222,
              "#7201a8"
             ],
             [
              0.3333333333333333,
              "#9c179e"
             ],
             [
              0.4444444444444444,
              "#bd3786"
             ],
             [
              0.5555555555555556,
              "#d8576b"
             ],
             [
              0.6666666666666666,
              "#ed7953"
             ],
             [
              0.7777777777777778,
              "#fb9f3a"
             ],
             [
              0.8888888888888888,
              "#fdca26"
             ],
             [
              1,
              "#f0f921"
             ]
            ],
            "type": "surface"
           }
          ],
          "table": [
           {
            "cells": {
             "fill": {
              "color": "#EBF0F8"
             },
             "line": {
              "color": "white"
             }
            },
            "header": {
             "fill": {
              "color": "#C8D4E3"
             },
             "line": {
              "color": "white"
             }
            },
            "type": "table"
           }
          ]
         },
         "layout": {
          "annotationdefaults": {
           "arrowcolor": "#2a3f5f",
           "arrowhead": 0,
           "arrowwidth": 1
          },
          "autotypenumbers": "strict",
          "coloraxis": {
           "colorbar": {
            "outlinewidth": 0,
            "ticks": ""
           }
          },
          "colorscale": {
           "diverging": [
            [
             0,
             "#8e0152"
            ],
            [
             0.1,
             "#c51b7d"
            ],
            [
             0.2,
             "#de77ae"
            ],
            [
             0.3,
             "#f1b6da"
            ],
            [
             0.4,
             "#fde0ef"
            ],
            [
             0.5,
             "#f7f7f7"
            ],
            [
             0.6,
             "#e6f5d0"
            ],
            [
             0.7,
             "#b8e186"
            ],
            [
             0.8,
             "#7fbc41"
            ],
            [
             0.9,
             "#4d9221"
            ],
            [
             1,
             "#276419"
            ]
           ],
           "sequential": [
            [
             0,
             "#0d0887"
            ],
            [
             0.1111111111111111,
             "#46039f"
            ],
            [
             0.2222222222222222,
             "#7201a8"
            ],
            [
             0.3333333333333333,
             "#9c179e"
            ],
            [
             0.4444444444444444,
             "#bd3786"
            ],
            [
             0.5555555555555556,
             "#d8576b"
            ],
            [
             0.6666666666666666,
             "#ed7953"
            ],
            [
             0.7777777777777778,
             "#fb9f3a"
            ],
            [
             0.8888888888888888,
             "#fdca26"
            ],
            [
             1,
             "#f0f921"
            ]
           ],
           "sequentialminus": [
            [
             0,
             "#0d0887"
            ],
            [
             0.1111111111111111,
             "#46039f"
            ],
            [
             0.2222222222222222,
             "#7201a8"
            ],
            [
             0.3333333333333333,
             "#9c179e"
            ],
            [
             0.4444444444444444,
             "#bd3786"
            ],
            [
             0.5555555555555556,
             "#d8576b"
            ],
            [
             0.6666666666666666,
             "#ed7953"
            ],
            [
             0.7777777777777778,
             "#fb9f3a"
            ],
            [
             0.8888888888888888,
             "#fdca26"
            ],
            [
             1,
             "#f0f921"
            ]
           ]
          },
          "colorway": [
           "#636efa",
           "#EF553B",
           "#00cc96",
           "#ab63fa",
           "#FFA15A",
           "#19d3f3",
           "#FF6692",
           "#B6E880",
           "#FF97FF",
           "#FECB52"
          ],
          "font": {
           "color": "#2a3f5f"
          },
          "geo": {
           "bgcolor": "white",
           "lakecolor": "white",
           "landcolor": "#E5ECF6",
           "showlakes": true,
           "showland": true,
           "subunitcolor": "white"
          },
          "hoverlabel": {
           "align": "left"
          },
          "hovermode": "closest",
          "mapbox": {
           "style": "light"
          },
          "paper_bgcolor": "white",
          "plot_bgcolor": "#E5ECF6",
          "polar": {
           "angularaxis": {
            "gridcolor": "white",
            "linecolor": "white",
            "ticks": ""
           },
           "bgcolor": "#E5ECF6",
           "radialaxis": {
            "gridcolor": "white",
            "linecolor": "white",
            "ticks": ""
           }
          },
          "scene": {
           "xaxis": {
            "backgroundcolor": "#E5ECF6",
            "gridcolor": "white",
            "gridwidth": 2,
            "linecolor": "white",
            "showbackground": true,
            "ticks": "",
            "zerolinecolor": "white"
           },
           "yaxis": {
            "backgroundcolor": "#E5ECF6",
            "gridcolor": "white",
            "gridwidth": 2,
            "linecolor": "white",
            "showbackground": true,
            "ticks": "",
            "zerolinecolor": "white"
           },
           "zaxis": {
            "backgroundcolor": "#E5ECF6",
            "gridcolor": "white",
            "gridwidth": 2,
            "linecolor": "white",
            "showbackground": true,
            "ticks": "",
            "zerolinecolor": "white"
           }
          },
          "shapedefaults": {
           "line": {
            "color": "#2a3f5f"
           }
          },
          "ternary": {
           "aaxis": {
            "gridcolor": "white",
            "linecolor": "white",
            "ticks": ""
           },
           "baxis": {
            "gridcolor": "white",
            "linecolor": "white",
            "ticks": ""
           },
           "bgcolor": "#E5ECF6",
           "caxis": {
            "gridcolor": "white",
            "linecolor": "white",
            "ticks": ""
           }
          },
          "title": {
           "x": 0.05
          },
          "xaxis": {
           "automargin": true,
           "gridcolor": "white",
           "linecolor": "white",
           "ticks": "",
           "title": {
            "standoff": 15
           },
           "zerolinecolor": "white",
           "zerolinewidth": 2
          },
          "yaxis": {
           "automargin": true,
           "gridcolor": "white",
           "linecolor": "white",
           "ticks": "",
           "title": {
            "standoff": 15
           },
           "zerolinecolor": "white",
           "zerolinewidth": 2
          }
         }
        },
        "title": {
         "text": "Estimation de la vraisemblance par ML_RR"
        },
        "xaxis": {
         "tickfont": {
          "size": 12
         },
         "title": {
          "text": "Theta"
         }
        },
        "yaxis": {
         "range": [
          -300,
          500
         ],
         "tickfont": {
          "size": 12
         },
         "title": {
          "text": "Vraisemblance"
         }
        }
       }
      }
     },
     "metadata": {},
     "output_type": "display_data"
    }
   ],
   "source": [
    "n_simulations = 15\n",
    "r = 0.6\n",
    "\n",
    "Code.plot_likelihood(r, x, noised_A, noised_b, theta_true, n_simulations, \"ML_RR\")"
   ]
  },
  {
   "cell_type": "code",
   "execution_count": 9,
   "metadata": {},
   "outputs": [
    {
     "name": "stderr",
     "output_type": "stream",
     "text": [
      "/Users/tomrossa/Documents/ENSAE/Monte Carlo Method/Project/MLMC_Unibaised_Gradient_Estimation_for_Deep_LVM/Code.py:254: RuntimeWarning:\n",
      "\n",
      "divide by zero encountered in log\n",
      "\n",
      "/Users/tomrossa/Documents/ENSAE/Monte Carlo Method/Project/MLMC_Unibaised_Gradient_Estimation_for_Deep_LVM/Code.py:258: RuntimeWarning:\n",
      "\n",
      "divide by zero encountered in log\n",
      "\n",
      "/Users/tomrossa/Documents/ENSAE/Monte Carlo Method/Project/MLMC_Unibaised_Gradient_Estimation_for_Deep_LVM/Code.py:256: RuntimeWarning:\n",
      "\n",
      "divide by zero encountered in log\n",
      "\n",
      "/Users/tomrossa/Documents/ENSAE/Monte Carlo Method/Project/MLMC_Unibaised_Gradient_Estimation_for_Deep_LVM/Code.py:257: RuntimeWarning:\n",
      "\n",
      "divide by zero encountered in log\n",
      "\n"
     ]
    },
    {
     "data": {
      "application/vnd.plotly.v1+json": {
       "config": {
        "plotlyServerURL": "https://plot.ly"
       },
       "data": [
        {
         "line": {
          "color": "red"
         },
         "mode": "lines",
         "name": "True Gradient",
         "type": "scatter",
         "x": [
          -5.049100556476373,
          -4.845018923823312,
          -4.64093729117025,
          -4.436855658517189,
          -4.232774025864128,
          -4.028692393211067,
          -3.8246107605580053,
          -3.620529127904944,
          -3.416447495251883,
          -3.212365862598822,
          -3.0082842299457604,
          -2.804202597292699,
          -2.600120964639638,
          -2.396039331986577,
          -2.1919576993335155,
          -1.987876066680454,
          -1.783794434027393,
          -1.579712801374332,
          -1.3756311687212706,
          -1.171549536068209,
          -0.9674679034151481,
          -0.7633862707620871,
          -0.5593046381090252,
          -0.3552230054559642,
          -0.15114137280290318,
          0.05294025985015782,
          0.25702189250321883,
          0.4611035251562807,
          0.6651851578093417,
          0.8692667904624027,
          1.0733484231154646,
          1.2774300557685256,
          1.4815116884215866,
          1.6855933210746477,
          1.8896749537277087,
          2.0937565863807706,
          2.2978382190338316,
          2.5019198516868926,
          2.7060014843399545,
          2.9100831169930155,
          3.1141647496460765,
          3.3182463822991375,
          3.5223280149521985,
          3.7264096476052595,
          3.9304912802583223,
          4.134572912911383,
          4.338654545564444,
          4.542736178217505,
          4.746817810870566,
          4.950899443523627
         ],
         "y": [
          56.72565880845987,
          54.68484248192926,
          52.64402615539864,
          50.60320982886803,
          48.56239350233742,
          46.52157717580681,
          44.480760849276194,
          42.43994452274558,
          40.399128196214974,
          38.35831186968436,
          36.31749554315375,
          34.27667921662313,
          32.23586289009252,
          30.19504656356191,
          28.154230237031296,
          26.113413910500682,
          24.072597583970072,
          22.031781257439462,
          19.99096493090885,
          17.950148604378235,
          15.909332277847623,
          13.868515951317013,
          11.827699624786394,
          9.786883298255784,
          7.746066971725174,
          5.705250645194564,
          3.664434318663954,
          1.623617992133335,
          -0.41719833439727516,
          -2.4580146609278852,
          -4.498830987458504,
          -6.539647313989114,
          -8.580463640519724,
          -10.621279967050334,
          -12.662096293580944,
          -14.702912620111563,
          -16.74372894664217,
          -18.78454527317278,
          -20.825361599703403,
          -22.866177926234013,
          -24.906994252764623,
          -26.947810579295233,
          -28.988626905825843,
          -31.029443232356453,
          -33.07025955888708,
          -35.11107588541769,
          -37.1518922119483,
          -39.19270853847891,
          -41.23352486500952,
          -43.27434119154013
         ]
        },
        {
         "marker": {
          "color": "purple",
          "symbol": "x"
         },
         "mode": "markers",
         "name": "ML_RR",
         "type": "scatter",
         "x": [
          -5.049100556476373,
          -4.845018923823312,
          -4.64093729117025,
          -4.436855658517189,
          -4.232774025864128,
          -4.028692393211067,
          -3.8246107605580053,
          -3.620529127904944,
          -3.416447495251883,
          -3.212365862598822,
          -3.0082842299457604,
          -2.804202597292699,
          -2.600120964639638,
          -2.396039331986577,
          -2.1919576993335155,
          -1.987876066680454,
          -1.783794434027393,
          -1.579712801374332,
          -1.3756311687212706,
          -1.171549536068209,
          -0.9674679034151481,
          -0.7633862707620871,
          -0.5593046381090252,
          -0.3552230054559642,
          -0.15114137280290318,
          0.05294025985015782,
          0.25702189250321883,
          0.4611035251562807,
          0.6651851578093417,
          0.8692667904624027,
          1.0733484231154646,
          1.2774300557685256,
          1.4815116884215866,
          1.6855933210746477,
          1.8896749537277087,
          2.0937565863807706,
          2.2978382190338316,
          2.5019198516868926,
          2.7060014843399545,
          2.9100831169930155,
          3.1141647496460765,
          3.3182463822991375,
          3.5223280149521985,
          3.7264096476052595,
          3.9304912802583223,
          4.134572912911383,
          4.338654545564444,
          4.542736178217505,
          4.746817810870566,
          4.950899443523627
         ],
         "y": [
          null,
          null,
          53.68835905238183,
          76.0463649356191,
          30.871519380117178,
          -34.9864933054337,
          17.158987319076942,
          128.18964139762056,
          32.83856690337437,
          -66.6931691698229,
          123.95541946346127,
          27.724642141515005,
          -85.16128574813217,
          18.425845445613362,
          26.464126339152713,
          32.751003522180326,
          9.591602527432762,
          1.5936994212233238,
          8.885419991913757,
          0.7849989179904178,
          4.594027475563131,
          3.3040851025676794,
          5.817760531892347,
          8.141308521801488,
          0.9632067182423896,
          -0.5684727241999283,
          0.44406243740131046,
          -1.5957428503067206,
          -0.10671835174415278,
          -1.9415426773427669,
          -1.450913843620203,
          -1.4608172224083447,
          7.369430376799841,
          1.90738492794841,
          -18.675889229405847,
          -22.399649048293693,
          -2.877550134261188,
          -8.338875993240528,
          -40.91803462321765,
          12.011307444200504,
          22.504517217594582,
          -65.36761924544754,
          -42.180851847932615,
          -23.131288356302292,
          -26.045796449989012,
          -19.452701986363678,
          -53.55419401834381,
          -19.71256827512437,
          -19.3427025565787,
          -50.99762669418095
         ]
        }
       ],
       "layout": {
        "legend": {
         "font": {
          "size": 12
         },
         "traceorder": "normal",
         "x": 0,
         "y": 1
        },
        "shapes": [
         {
          "line": {
           "color": "black",
           "dash": "dash",
           "width": 2
          },
          "name": "theta=-0.04910055647637311",
          "type": "line",
          "x0": -0.04910055647637311,
          "x1": -0.04910055647637311,
          "y0": -85.16128574813217,
          "y1": null
         }
        ],
        "showlegend": true,
        "template": {
         "data": {
          "bar": [
           {
            "error_x": {
             "color": "#2a3f5f"
            },
            "error_y": {
             "color": "#2a3f5f"
            },
            "marker": {
             "line": {
              "color": "#E5ECF6",
              "width": 0.5
             },
             "pattern": {
              "fillmode": "overlay",
              "size": 10,
              "solidity": 0.2
             }
            },
            "type": "bar"
           }
          ],
          "barpolar": [
           {
            "marker": {
             "line": {
              "color": "#E5ECF6",
              "width": 0.5
             },
             "pattern": {
              "fillmode": "overlay",
              "size": 10,
              "solidity": 0.2
             }
            },
            "type": "barpolar"
           }
          ],
          "carpet": [
           {
            "aaxis": {
             "endlinecolor": "#2a3f5f",
             "gridcolor": "white",
             "linecolor": "white",
             "minorgridcolor": "white",
             "startlinecolor": "#2a3f5f"
            },
            "baxis": {
             "endlinecolor": "#2a3f5f",
             "gridcolor": "white",
             "linecolor": "white",
             "minorgridcolor": "white",
             "startlinecolor": "#2a3f5f"
            },
            "type": "carpet"
           }
          ],
          "choropleth": [
           {
            "colorbar": {
             "outlinewidth": 0,
             "ticks": ""
            },
            "type": "choropleth"
           }
          ],
          "contour": [
           {
            "colorbar": {
             "outlinewidth": 0,
             "ticks": ""
            },
            "colorscale": [
             [
              0,
              "#0d0887"
             ],
             [
              0.1111111111111111,
              "#46039f"
             ],
             [
              0.2222222222222222,
              "#7201a8"
             ],
             [
              0.3333333333333333,
              "#9c179e"
             ],
             [
              0.4444444444444444,
              "#bd3786"
             ],
             [
              0.5555555555555556,
              "#d8576b"
             ],
             [
              0.6666666666666666,
              "#ed7953"
             ],
             [
              0.7777777777777778,
              "#fb9f3a"
             ],
             [
              0.8888888888888888,
              "#fdca26"
             ],
             [
              1,
              "#f0f921"
             ]
            ],
            "type": "contour"
           }
          ],
          "contourcarpet": [
           {
            "colorbar": {
             "outlinewidth": 0,
             "ticks": ""
            },
            "type": "contourcarpet"
           }
          ],
          "heatmap": [
           {
            "colorbar": {
             "outlinewidth": 0,
             "ticks": ""
            },
            "colorscale": [
             [
              0,
              "#0d0887"
             ],
             [
              0.1111111111111111,
              "#46039f"
             ],
             [
              0.2222222222222222,
              "#7201a8"
             ],
             [
              0.3333333333333333,
              "#9c179e"
             ],
             [
              0.4444444444444444,
              "#bd3786"
             ],
             [
              0.5555555555555556,
              "#d8576b"
             ],
             [
              0.6666666666666666,
              "#ed7953"
             ],
             [
              0.7777777777777778,
              "#fb9f3a"
             ],
             [
              0.8888888888888888,
              "#fdca26"
             ],
             [
              1,
              "#f0f921"
             ]
            ],
            "type": "heatmap"
           }
          ],
          "heatmapgl": [
           {
            "colorbar": {
             "outlinewidth": 0,
             "ticks": ""
            },
            "colorscale": [
             [
              0,
              "#0d0887"
             ],
             [
              0.1111111111111111,
              "#46039f"
             ],
             [
              0.2222222222222222,
              "#7201a8"
             ],
             [
              0.3333333333333333,
              "#9c179e"
             ],
             [
              0.4444444444444444,
              "#bd3786"
             ],
             [
              0.5555555555555556,
              "#d8576b"
             ],
             [
              0.6666666666666666,
              "#ed7953"
             ],
             [
              0.7777777777777778,
              "#fb9f3a"
             ],
             [
              0.8888888888888888,
              "#fdca26"
             ],
             [
              1,
              "#f0f921"
             ]
            ],
            "type": "heatmapgl"
           }
          ],
          "histogram": [
           {
            "marker": {
             "pattern": {
              "fillmode": "overlay",
              "size": 10,
              "solidity": 0.2
             }
            },
            "type": "histogram"
           }
          ],
          "histogram2d": [
           {
            "colorbar": {
             "outlinewidth": 0,
             "ticks": ""
            },
            "colorscale": [
             [
              0,
              "#0d0887"
             ],
             [
              0.1111111111111111,
              "#46039f"
             ],
             [
              0.2222222222222222,
              "#7201a8"
             ],
             [
              0.3333333333333333,
              "#9c179e"
             ],
             [
              0.4444444444444444,
              "#bd3786"
             ],
             [
              0.5555555555555556,
              "#d8576b"
             ],
             [
              0.6666666666666666,
              "#ed7953"
             ],
             [
              0.7777777777777778,
              "#fb9f3a"
             ],
             [
              0.8888888888888888,
              "#fdca26"
             ],
             [
              1,
              "#f0f921"
             ]
            ],
            "type": "histogram2d"
           }
          ],
          "histogram2dcontour": [
           {
            "colorbar": {
             "outlinewidth": 0,
             "ticks": ""
            },
            "colorscale": [
             [
              0,
              "#0d0887"
             ],
             [
              0.1111111111111111,
              "#46039f"
             ],
             [
              0.2222222222222222,
              "#7201a8"
             ],
             [
              0.3333333333333333,
              "#9c179e"
             ],
             [
              0.4444444444444444,
              "#bd3786"
             ],
             [
              0.5555555555555556,
              "#d8576b"
             ],
             [
              0.6666666666666666,
              "#ed7953"
             ],
             [
              0.7777777777777778,
              "#fb9f3a"
             ],
             [
              0.8888888888888888,
              "#fdca26"
             ],
             [
              1,
              "#f0f921"
             ]
            ],
            "type": "histogram2dcontour"
           }
          ],
          "mesh3d": [
           {
            "colorbar": {
             "outlinewidth": 0,
             "ticks": ""
            },
            "type": "mesh3d"
           }
          ],
          "parcoords": [
           {
            "line": {
             "colorbar": {
              "outlinewidth": 0,
              "ticks": ""
             }
            },
            "type": "parcoords"
           }
          ],
          "pie": [
           {
            "automargin": true,
            "type": "pie"
           }
          ],
          "scatter": [
           {
            "fillpattern": {
             "fillmode": "overlay",
             "size": 10,
             "solidity": 0.2
            },
            "type": "scatter"
           }
          ],
          "scatter3d": [
           {
            "line": {
             "colorbar": {
              "outlinewidth": 0,
              "ticks": ""
             }
            },
            "marker": {
             "colorbar": {
              "outlinewidth": 0,
              "ticks": ""
             }
            },
            "type": "scatter3d"
           }
          ],
          "scattercarpet": [
           {
            "marker": {
             "colorbar": {
              "outlinewidth": 0,
              "ticks": ""
             }
            },
            "type": "scattercarpet"
           }
          ],
          "scattergeo": [
           {
            "marker": {
             "colorbar": {
              "outlinewidth": 0,
              "ticks": ""
             }
            },
            "type": "scattergeo"
           }
          ],
          "scattergl": [
           {
            "marker": {
             "colorbar": {
              "outlinewidth": 0,
              "ticks": ""
             }
            },
            "type": "scattergl"
           }
          ],
          "scattermapbox": [
           {
            "marker": {
             "colorbar": {
              "outlinewidth": 0,
              "ticks": ""
             }
            },
            "type": "scattermapbox"
           }
          ],
          "scatterpolar": [
           {
            "marker": {
             "colorbar": {
              "outlinewidth": 0,
              "ticks": ""
             }
            },
            "type": "scatterpolar"
           }
          ],
          "scatterpolargl": [
           {
            "marker": {
             "colorbar": {
              "outlinewidth": 0,
              "ticks": ""
             }
            },
            "type": "scatterpolargl"
           }
          ],
          "scatterternary": [
           {
            "marker": {
             "colorbar": {
              "outlinewidth": 0,
              "ticks": ""
             }
            },
            "type": "scatterternary"
           }
          ],
          "surface": [
           {
            "colorbar": {
             "outlinewidth": 0,
             "ticks": ""
            },
            "colorscale": [
             [
              0,
              "#0d0887"
             ],
             [
              0.1111111111111111,
              "#46039f"
             ],
             [
              0.2222222222222222,
              "#7201a8"
             ],
             [
              0.3333333333333333,
              "#9c179e"
             ],
             [
              0.4444444444444444,
              "#bd3786"
             ],
             [
              0.5555555555555556,
              "#d8576b"
             ],
             [
              0.6666666666666666,
              "#ed7953"
             ],
             [
              0.7777777777777778,
              "#fb9f3a"
             ],
             [
              0.8888888888888888,
              "#fdca26"
             ],
             [
              1,
              "#f0f921"
             ]
            ],
            "type": "surface"
           }
          ],
          "table": [
           {
            "cells": {
             "fill": {
              "color": "#EBF0F8"
             },
             "line": {
              "color": "white"
             }
            },
            "header": {
             "fill": {
              "color": "#C8D4E3"
             },
             "line": {
              "color": "white"
             }
            },
            "type": "table"
           }
          ]
         },
         "layout": {
          "annotationdefaults": {
           "arrowcolor": "#2a3f5f",
           "arrowhead": 0,
           "arrowwidth": 1
          },
          "autotypenumbers": "strict",
          "coloraxis": {
           "colorbar": {
            "outlinewidth": 0,
            "ticks": ""
           }
          },
          "colorscale": {
           "diverging": [
            [
             0,
             "#8e0152"
            ],
            [
             0.1,
             "#c51b7d"
            ],
            [
             0.2,
             "#de77ae"
            ],
            [
             0.3,
             "#f1b6da"
            ],
            [
             0.4,
             "#fde0ef"
            ],
            [
             0.5,
             "#f7f7f7"
            ],
            [
             0.6,
             "#e6f5d0"
            ],
            [
             0.7,
             "#b8e186"
            ],
            [
             0.8,
             "#7fbc41"
            ],
            [
             0.9,
             "#4d9221"
            ],
            [
             1,
             "#276419"
            ]
           ],
           "sequential": [
            [
             0,
             "#0d0887"
            ],
            [
             0.1111111111111111,
             "#46039f"
            ],
            [
             0.2222222222222222,
             "#7201a8"
            ],
            [
             0.3333333333333333,
             "#9c179e"
            ],
            [
             0.4444444444444444,
             "#bd3786"
            ],
            [
             0.5555555555555556,
             "#d8576b"
            ],
            [
             0.6666666666666666,
             "#ed7953"
            ],
            [
             0.7777777777777778,
             "#fb9f3a"
            ],
            [
             0.8888888888888888,
             "#fdca26"
            ],
            [
             1,
             "#f0f921"
            ]
           ],
           "sequentialminus": [
            [
             0,
             "#0d0887"
            ],
            [
             0.1111111111111111,
             "#46039f"
            ],
            [
             0.2222222222222222,
             "#7201a8"
            ],
            [
             0.3333333333333333,
             "#9c179e"
            ],
            [
             0.4444444444444444,
             "#bd3786"
            ],
            [
             0.5555555555555556,
             "#d8576b"
            ],
            [
             0.6666666666666666,
             "#ed7953"
            ],
            [
             0.7777777777777778,
             "#fb9f3a"
            ],
            [
             0.8888888888888888,
             "#fdca26"
            ],
            [
             1,
             "#f0f921"
            ]
           ]
          },
          "colorway": [
           "#636efa",
           "#EF553B",
           "#00cc96",
           "#ab63fa",
           "#FFA15A",
           "#19d3f3",
           "#FF6692",
           "#B6E880",
           "#FF97FF",
           "#FECB52"
          ],
          "font": {
           "color": "#2a3f5f"
          },
          "geo": {
           "bgcolor": "white",
           "lakecolor": "white",
           "landcolor": "#E5ECF6",
           "showlakes": true,
           "showland": true,
           "subunitcolor": "white"
          },
          "hoverlabel": {
           "align": "left"
          },
          "hovermode": "closest",
          "mapbox": {
           "style": "light"
          },
          "paper_bgcolor": "white",
          "plot_bgcolor": "#E5ECF6",
          "polar": {
           "angularaxis": {
            "gridcolor": "white",
            "linecolor": "white",
            "ticks": ""
           },
           "bgcolor": "#E5ECF6",
           "radialaxis": {
            "gridcolor": "white",
            "linecolor": "white",
            "ticks": ""
           }
          },
          "scene": {
           "xaxis": {
            "backgroundcolor": "#E5ECF6",
            "gridcolor": "white",
            "gridwidth": 2,
            "linecolor": "white",
            "showbackground": true,
            "ticks": "",
            "zerolinecolor": "white"
           },
           "yaxis": {
            "backgroundcolor": "#E5ECF6",
            "gridcolor": "white",
            "gridwidth": 2,
            "linecolor": "white",
            "showbackground": true,
            "ticks": "",
            "zerolinecolor": "white"
           },
           "zaxis": {
            "backgroundcolor": "#E5ECF6",
            "gridcolor": "white",
            "gridwidth": 2,
            "linecolor": "white",
            "showbackground": true,
            "ticks": "",
            "zerolinecolor": "white"
           }
          },
          "shapedefaults": {
           "line": {
            "color": "#2a3f5f"
           }
          },
          "ternary": {
           "aaxis": {
            "gridcolor": "white",
            "linecolor": "white",
            "ticks": ""
           },
           "baxis": {
            "gridcolor": "white",
            "linecolor": "white",
            "ticks": ""
           },
           "bgcolor": "#E5ECF6",
           "caxis": {
            "gridcolor": "white",
            "linecolor": "white",
            "ticks": ""
           }
          },
          "title": {
           "x": 0.05
          },
          "xaxis": {
           "automargin": true,
           "gridcolor": "white",
           "linecolor": "white",
           "ticks": "",
           "title": {
            "standoff": 15
           },
           "zerolinecolor": "white",
           "zerolinewidth": 2
          },
          "yaxis": {
           "automargin": true,
           "gridcolor": "white",
           "linecolor": "white",
           "ticks": "",
           "title": {
            "standoff": 15
           },
           "zerolinecolor": "white",
           "zerolinewidth": 2
          }
         }
        },
        "title": {
         "text": "Estimation du gradient par ML_RR"
        },
        "xaxis": {
         "title": {
          "text": "Theta"
         }
        },
        "yaxis": {
         "title": {
          "text": "Gradient"
         }
        }
       }
      }
     },
     "metadata": {},
     "output_type": "display_data"
    }
   ],
   "source": [
    "Code.plot_gradient(0.6, x, noised_A, noised_b, theta_true, 15, \"ML_RR\")"
   ]
  },
  {
   "cell_type": "markdown",
   "metadata": {},
   "source": [
    "### <span style=\"color:orange\">  **1.2 L'estimateurs SUMO (Stochastically Unbiased Marginalization Objective (SUMO))**  </span>\n",
    "\n",
    "On pose \n",
    "\\begin{align*}\n",
    "\\Delta^{\\text{SUMO}}_k &:= \\hat{\\ell}^{(k+2)}(\\boldsymbol{\\theta}) - \\hat{\\ell}^{(k+1)}(\\boldsymbol{\\theta})\\\\\n",
    "&:= \\log \\left( \\frac{1}{k+2} \\sum_{i=1}^{k+2} w(\\boldsymbol{z}_i) \\right) - \\log \\left( \\frac{1}{k+1} \\sum_{i=1}^{k+1} w(\\boldsymbol{z}_i) \\right),\n",
    "\\end{align*}\n",
    "\n",
    "où on rappelle que $w(\\boldsymbol{z}) := \\frac{p_{\\boldsymbol{\\theta}}(\\boldsymbol{x}, \\boldsymbol{z})}{q_{\\phi}(\\boldsymbol{z}|\\boldsymbol{x})}$.\n",
    "\n",
    "On applique l'estimateur $RR$ pour construire notre estimateur, que nous appelons $\\textbf{SUMO}$ (Stochastically Unbiased Marginalization Objective) qui correspond précisément à l'estimateur de la roulette russe pour $\\Delta^{\\text{SUMO}}_k$. Ainsi, \n",
    "$$\n",
    "\\hat{\\ell}^{\\text{SUMO}}(\\boldsymbol{\\theta}) := I_0 + \\sum^K_{k=0} \\frac{\\Delta^{\\text{SUMO}}_k}{P(\\mathcal{K} \\geq k)}\n",
    "$$\n",
    "    \n",
    "où $\\mathcal{K} \\sim p(\\cdot)$ une distrubtion de support dans $\\mathbb{N}$"
   ]
  },
  {
   "cell_type": "code",
   "execution_count": null,
   "metadata": {},
   "outputs": [
    {
     "name": "stderr",
     "output_type": "stream",
     "text": [
      "Progression: 100%|██████████| 60/60 [00:18<00:00,  3.25it/s]\n"
     ]
    },
    {
     "data": {
      "application/vnd.plotly.v1+json": {
       "config": {
        "plotlyServerURL": "https://plot.ly"
       },
       "data": [
        {
         "line": {
          "color": "blue"
         },
         "mode": "lines",
         "name": "Vraisemblance réelle (avec theta_true)",
         "type": "scatter",
         "x": [
          -2.9388223082554052,
          -2.7693307828316764,
          -2.5998392574079476,
          -2.430347731984219,
          -2.26085620656049,
          -2.091364681136761,
          -1.9218731557130324,
          -1.7523816302893036,
          -1.5828901048655748,
          -1.413398579441846,
          -1.2439070540181172,
          -1.0744155285943884,
          -0.9049240031706596,
          -0.7354324777469308,
          -0.565940952323202,
          -0.39644942689947316,
          -0.22695790147574435,
          -0.057466376052015544,
          0.11202514937171326,
          0.28151667479544207,
          0.4510082002191709,
          0.6204997256428997,
          0.7899912510666285,
          0.9594827764903573,
          1.128974301914086,
          1.2984658273378145,
          1.4679573527615437,
          1.637448878185273,
          1.8069404036090013,
          1.9764319290327297,
          2.145923454456459,
          2.315414979880188,
          2.4849065053039165,
          2.654398030727645,
          2.823889556151374,
          2.9933810815751034,
          3.1628726069988318,
          3.33236413242256,
          3.5018556578462894,
          3.6713471832700186,
          3.840838708693747,
          4.010330234117475,
          4.179821759541205,
          4.349313284964934,
          4.518804810388662,
          4.688296335812391,
          4.85778786123612,
          5.027279386659849,
          5.196770912083577,
          5.366262437507306,
          5.535753962931034,
          5.705245488354764,
          5.874737013778493,
          6.044228539202221,
          6.213720064625951,
          6.3832115900496795,
          6.552703115473408,
          6.722194640897136,
          6.891686166320865,
          7.061177691744595
         ],
         "y": [
          -152.99269754297242,
          -144.63895362400115,
          -136.57248347693448,
          -128.79328710177245,
          -121.30136449851506,
          -114.09671566716226,
          -107.17934060771411,
          -100.54923932017059,
          -94.20641180453167,
          -88.15085806079739,
          -82.38257808896776,
          -76.90157188904271,
          -71.70783946102232,
          -66.80138080490653,
          -62.182195920695364,
          -57.85028480838884,
          -53.80564746798694,
          -50.048283899489654,
          -46.57819410289701,
          -43.39537807820897,
          -40.49983582542556,
          -37.89156734454679,
          -35.57057263557264,
          -33.536851698503106,
          -31.790404533338204,
          -30.33123114007793,
          -29.159331518722272,
          -28.27470566927124,
          -27.677353591724835,
          -27.36727528608306,
          -27.344470752345906,
          -27.608939990513377,
          -28.160683000585475,
          -28.999699782562192,
          -30.125990336443543,
          -31.539554662229516,
          -33.24039275992011,
          -35.228504629515335,
          -37.50389027101518,
          -40.06654968441966,
          -42.91648286972875,
          -46.05368982694247,
          -49.478170556060824,
          -53.189925057083805,
          -57.18895333001139,
          -61.4752553748436,
          -66.04883119158046,
          -70.90968078022195,
          -76.05780414076803,
          -81.49320127321874,
          -87.21587217757407,
          -93.2258168538341,
          -99.52303530199869,
          -106.10752752206788,
          -112.97929351404179,
          -120.13833327792025,
          -127.5846468137033,
          -135.31823412139101,
          -143.33909520098337,
          -151.6472300524804
         ]
        },
        {
         "marker": {
          "color": "red",
          "symbol": "cross"
         },
         "mode": "markers",
         "name": "SUMO",
         "type": "scatter",
         "x": [
          -2.9388223082554052,
          -2.7693307828316764,
          -2.5998392574079476,
          -2.430347731984219,
          -2.26085620656049,
          -2.091364681136761,
          -1.9218731557130324,
          -1.7523816302893036,
          -1.5828901048655748,
          -1.413398579441846,
          -1.2439070540181172,
          -1.0744155285943884,
          -0.9049240031706596,
          -0.7354324777469308,
          -0.565940952323202,
          -0.39644942689947316,
          -0.22695790147574435,
          -0.057466376052015544,
          0.11202514937171326,
          0.28151667479544207,
          0.4510082002191709,
          0.6204997256428997,
          0.7899912510666285,
          0.9594827764903573,
          1.128974301914086,
          1.2984658273378145,
          1.4679573527615437,
          1.637448878185273,
          1.8069404036090013,
          1.9764319290327297,
          2.145923454456459,
          2.315414979880188,
          2.4849065053039165,
          2.654398030727645,
          2.823889556151374,
          2.9933810815751034,
          3.1628726069988318,
          3.33236413242256,
          3.5018556578462894,
          3.6713471832700186,
          3.840838708693747,
          4.010330234117475,
          4.179821759541205,
          4.349313284964934,
          4.518804810388662,
          4.688296335812391,
          4.85778786123612,
          5.027279386659849,
          5.196770912083577,
          5.366262437507306,
          5.535753962931034,
          5.705245488354764,
          5.874737013778493,
          6.044228539202221,
          6.213720064625951,
          6.3832115900496795,
          6.552703115473408,
          6.722194640897136,
          6.891686166320865,
          7.061177691744595
         ],
         "y": [
          -271.59511846222154,
          -247.2553845931408,
          -248.08436304499344,
          -187.3621848400284,
          -193.53011937221748,
          -195.8603460358209,
          -176.5652272054436,
          -176.8799182709096,
          -159.6460023656061,
          -131.51167800488267,
          -112.11269347737925,
          -129.36547949327064,
          -113.77137600642259,
          -111.63033518986941,
          -103.18434743944368,
          -91.49212657854834,
          -84.42207029993729,
          -78.57919674781058,
          -71.32167637126479,
          -64.29921278947263,
          -58.003197479519955,
          -55.44857816991324,
          -49.57448846774938,
          -50.107742826622896,
          -42.607535208372596,
          -39.81638380738782,
          -36.979212135048236,
          -35.64938194674599,
          -35.18449147451784,
          -33.93740790394146,
          -34.37123055914591,
          -34.49472437731785,
          -35.79008759769192,
          -38.95863835032042,
          -39.702598512294685,
          -41.97210723938284,
          -45.37397836461854,
          -49.704932658237006,
          -49.71531601149516,
          -61.237289076347224,
          -67.21510564564954,
          -63.44243428103856,
          -80.31811893996016,
          -85.89948421486231,
          -91.34376076634712,
          -102.28230111998087,
          -107.18500003083838,
          -121.8977253226628,
          -115.45287655020253,
          -144.2994598457852,
          -130.51429278153677,
          -156.28416250360036,
          -168.99116424100131,
          -190.73764101335183,
          -183.09599140417046,
          -221.07275761691656,
          -238.72416970256938,
          -249.4287745863668,
          -267.8302837578811,
          -283.7834375497027
         ]
        }
       ],
       "layout": {
        "grid": {
         "columns": 1,
         "rows": 1
        },
        "legend": {
         "font": {
          "size": 10
         }
        },
        "shapes": [
         {
          "line": {
           "color": "black",
           "dash": "dash"
          },
          "name": "Theta=2.0611776917445948",
          "type": "line",
          "x0": 2.0611776917445948,
          "x1": 2.0611776917445948,
          "y0": -300,
          "y1": 500
         }
        ],
        "showlegend": true,
        "template": {
         "data": {
          "bar": [
           {
            "error_x": {
             "color": "#2a3f5f"
            },
            "error_y": {
             "color": "#2a3f5f"
            },
            "marker": {
             "line": {
              "color": "#E5ECF6",
              "width": 0.5
             },
             "pattern": {
              "fillmode": "overlay",
              "size": 10,
              "solidity": 0.2
             }
            },
            "type": "bar"
           }
          ],
          "barpolar": [
           {
            "marker": {
             "line": {
              "color": "#E5ECF6",
              "width": 0.5
             },
             "pattern": {
              "fillmode": "overlay",
              "size": 10,
              "solidity": 0.2
             }
            },
            "type": "barpolar"
           }
          ],
          "carpet": [
           {
            "aaxis": {
             "endlinecolor": "#2a3f5f",
             "gridcolor": "white",
             "linecolor": "white",
             "minorgridcolor": "white",
             "startlinecolor": "#2a3f5f"
            },
            "baxis": {
             "endlinecolor": "#2a3f5f",
             "gridcolor": "white",
             "linecolor": "white",
             "minorgridcolor": "white",
             "startlinecolor": "#2a3f5f"
            },
            "type": "carpet"
           }
          ],
          "choropleth": [
           {
            "colorbar": {
             "outlinewidth": 0,
             "ticks": ""
            },
            "type": "choropleth"
           }
          ],
          "contour": [
           {
            "colorbar": {
             "outlinewidth": 0,
             "ticks": ""
            },
            "colorscale": [
             [
              0,
              "#0d0887"
             ],
             [
              0.1111111111111111,
              "#46039f"
             ],
             [
              0.2222222222222222,
              "#7201a8"
             ],
             [
              0.3333333333333333,
              "#9c179e"
             ],
             [
              0.4444444444444444,
              "#bd3786"
             ],
             [
              0.5555555555555556,
              "#d8576b"
             ],
             [
              0.6666666666666666,
              "#ed7953"
             ],
             [
              0.7777777777777778,
              "#fb9f3a"
             ],
             [
              0.8888888888888888,
              "#fdca26"
             ],
             [
              1,
              "#f0f921"
             ]
            ],
            "type": "contour"
           }
          ],
          "contourcarpet": [
           {
            "colorbar": {
             "outlinewidth": 0,
             "ticks": ""
            },
            "type": "contourcarpet"
           }
          ],
          "heatmap": [
           {
            "colorbar": {
             "outlinewidth": 0,
             "ticks": ""
            },
            "colorscale": [
             [
              0,
              "#0d0887"
             ],
             [
              0.1111111111111111,
              "#46039f"
             ],
             [
              0.2222222222222222,
              "#7201a8"
             ],
             [
              0.3333333333333333,
              "#9c179e"
             ],
             [
              0.4444444444444444,
              "#bd3786"
             ],
             [
              0.5555555555555556,
              "#d8576b"
             ],
             [
              0.6666666666666666,
              "#ed7953"
             ],
             [
              0.7777777777777778,
              "#fb9f3a"
             ],
             [
              0.8888888888888888,
              "#fdca26"
             ],
             [
              1,
              "#f0f921"
             ]
            ],
            "type": "heatmap"
           }
          ],
          "heatmapgl": [
           {
            "colorbar": {
             "outlinewidth": 0,
             "ticks": ""
            },
            "colorscale": [
             [
              0,
              "#0d0887"
             ],
             [
              0.1111111111111111,
              "#46039f"
             ],
             [
              0.2222222222222222,
              "#7201a8"
             ],
             [
              0.3333333333333333,
              "#9c179e"
             ],
             [
              0.4444444444444444,
              "#bd3786"
             ],
             [
              0.5555555555555556,
              "#d8576b"
             ],
             [
              0.6666666666666666,
              "#ed7953"
             ],
             [
              0.7777777777777778,
              "#fb9f3a"
             ],
             [
              0.8888888888888888,
              "#fdca26"
             ],
             [
              1,
              "#f0f921"
             ]
            ],
            "type": "heatmapgl"
           }
          ],
          "histogram": [
           {
            "marker": {
             "pattern": {
              "fillmode": "overlay",
              "size": 10,
              "solidity": 0.2
             }
            },
            "type": "histogram"
           }
          ],
          "histogram2d": [
           {
            "colorbar": {
             "outlinewidth": 0,
             "ticks": ""
            },
            "colorscale": [
             [
              0,
              "#0d0887"
             ],
             [
              0.1111111111111111,
              "#46039f"
             ],
             [
              0.2222222222222222,
              "#7201a8"
             ],
             [
              0.3333333333333333,
              "#9c179e"
             ],
             [
              0.4444444444444444,
              "#bd3786"
             ],
             [
              0.5555555555555556,
              "#d8576b"
             ],
             [
              0.6666666666666666,
              "#ed7953"
             ],
             [
              0.7777777777777778,
              "#fb9f3a"
             ],
             [
              0.8888888888888888,
              "#fdca26"
             ],
             [
              1,
              "#f0f921"
             ]
            ],
            "type": "histogram2d"
           }
          ],
          "histogram2dcontour": [
           {
            "colorbar": {
             "outlinewidth": 0,
             "ticks": ""
            },
            "colorscale": [
             [
              0,
              "#0d0887"
             ],
             [
              0.1111111111111111,
              "#46039f"
             ],
             [
              0.2222222222222222,
              "#7201a8"
             ],
             [
              0.3333333333333333,
              "#9c179e"
             ],
             [
              0.4444444444444444,
              "#bd3786"
             ],
             [
              0.5555555555555556,
              "#d8576b"
             ],
             [
              0.6666666666666666,
              "#ed7953"
             ],
             [
              0.7777777777777778,
              "#fb9f3a"
             ],
             [
              0.8888888888888888,
              "#fdca26"
             ],
             [
              1,
              "#f0f921"
             ]
            ],
            "type": "histogram2dcontour"
           }
          ],
          "mesh3d": [
           {
            "colorbar": {
             "outlinewidth": 0,
             "ticks": ""
            },
            "type": "mesh3d"
           }
          ],
          "parcoords": [
           {
            "line": {
             "colorbar": {
              "outlinewidth": 0,
              "ticks": ""
             }
            },
            "type": "parcoords"
           }
          ],
          "pie": [
           {
            "automargin": true,
            "type": "pie"
           }
          ],
          "scatter": [
           {
            "fillpattern": {
             "fillmode": "overlay",
             "size": 10,
             "solidity": 0.2
            },
            "type": "scatter"
           }
          ],
          "scatter3d": [
           {
            "line": {
             "colorbar": {
              "outlinewidth": 0,
              "ticks": ""
             }
            },
            "marker": {
             "colorbar": {
              "outlinewidth": 0,
              "ticks": ""
             }
            },
            "type": "scatter3d"
           }
          ],
          "scattercarpet": [
           {
            "marker": {
             "colorbar": {
              "outlinewidth": 0,
              "ticks": ""
             }
            },
            "type": "scattercarpet"
           }
          ],
          "scattergeo": [
           {
            "marker": {
             "colorbar": {
              "outlinewidth": 0,
              "ticks": ""
             }
            },
            "type": "scattergeo"
           }
          ],
          "scattergl": [
           {
            "marker": {
             "colorbar": {
              "outlinewidth": 0,
              "ticks": ""
             }
            },
            "type": "scattergl"
           }
          ],
          "scattermapbox": [
           {
            "marker": {
             "colorbar": {
              "outlinewidth": 0,
              "ticks": ""
             }
            },
            "type": "scattermapbox"
           }
          ],
          "scatterpolar": [
           {
            "marker": {
             "colorbar": {
              "outlinewidth": 0,
              "ticks": ""
             }
            },
            "type": "scatterpolar"
           }
          ],
          "scatterpolargl": [
           {
            "marker": {
             "colorbar": {
              "outlinewidth": 0,
              "ticks": ""
             }
            },
            "type": "scatterpolargl"
           }
          ],
          "scatterternary": [
           {
            "marker": {
             "colorbar": {
              "outlinewidth": 0,
              "ticks": ""
             }
            },
            "type": "scatterternary"
           }
          ],
          "surface": [
           {
            "colorbar": {
             "outlinewidth": 0,
             "ticks": ""
            },
            "colorscale": [
             [
              0,
              "#0d0887"
             ],
             [
              0.1111111111111111,
              "#46039f"
             ],
             [
              0.2222222222222222,
              "#7201a8"
             ],
             [
              0.3333333333333333,
              "#9c179e"
             ],
             [
              0.4444444444444444,
              "#bd3786"
             ],
             [
              0.5555555555555556,
              "#d8576b"
             ],
             [
              0.6666666666666666,
              "#ed7953"
             ],
             [
              0.7777777777777778,
              "#fb9f3a"
             ],
             [
              0.8888888888888888,
              "#fdca26"
             ],
             [
              1,
              "#f0f921"
             ]
            ],
            "type": "surface"
           }
          ],
          "table": [
           {
            "cells": {
             "fill": {
              "color": "#EBF0F8"
             },
             "line": {
              "color": "white"
             }
            },
            "header": {
             "fill": {
              "color": "#C8D4E3"
             },
             "line": {
              "color": "white"
             }
            },
            "type": "table"
           }
          ]
         },
         "layout": {
          "annotationdefaults": {
           "arrowcolor": "#2a3f5f",
           "arrowhead": 0,
           "arrowwidth": 1
          },
          "autotypenumbers": "strict",
          "coloraxis": {
           "colorbar": {
            "outlinewidth": 0,
            "ticks": ""
           }
          },
          "colorscale": {
           "diverging": [
            [
             0,
             "#8e0152"
            ],
            [
             0.1,
             "#c51b7d"
            ],
            [
             0.2,
             "#de77ae"
            ],
            [
             0.3,
             "#f1b6da"
            ],
            [
             0.4,
             "#fde0ef"
            ],
            [
             0.5,
             "#f7f7f7"
            ],
            [
             0.6,
             "#e6f5d0"
            ],
            [
             0.7,
             "#b8e186"
            ],
            [
             0.8,
             "#7fbc41"
            ],
            [
             0.9,
             "#4d9221"
            ],
            [
             1,
             "#276419"
            ]
           ],
           "sequential": [
            [
             0,
             "#0d0887"
            ],
            [
             0.1111111111111111,
             "#46039f"
            ],
            [
             0.2222222222222222,
             "#7201a8"
            ],
            [
             0.3333333333333333,
             "#9c179e"
            ],
            [
             0.4444444444444444,
             "#bd3786"
            ],
            [
             0.5555555555555556,
             "#d8576b"
            ],
            [
             0.6666666666666666,
             "#ed7953"
            ],
            [
             0.7777777777777778,
             "#fb9f3a"
            ],
            [
             0.8888888888888888,
             "#fdca26"
            ],
            [
             1,
             "#f0f921"
            ]
           ],
           "sequentialminus": [
            [
             0,
             "#0d0887"
            ],
            [
             0.1111111111111111,
             "#46039f"
            ],
            [
             0.2222222222222222,
             "#7201a8"
            ],
            [
             0.3333333333333333,
             "#9c179e"
            ],
            [
             0.4444444444444444,
             "#bd3786"
            ],
            [
             0.5555555555555556,
             "#d8576b"
            ],
            [
             0.6666666666666666,
             "#ed7953"
            ],
            [
             0.7777777777777778,
             "#fb9f3a"
            ],
            [
             0.8888888888888888,
             "#fdca26"
            ],
            [
             1,
             "#f0f921"
            ]
           ]
          },
          "colorway": [
           "#636efa",
           "#EF553B",
           "#00cc96",
           "#ab63fa",
           "#FFA15A",
           "#19d3f3",
           "#FF6692",
           "#B6E880",
           "#FF97FF",
           "#FECB52"
          ],
          "font": {
           "color": "#2a3f5f"
          },
          "geo": {
           "bgcolor": "white",
           "lakecolor": "white",
           "landcolor": "#E5ECF6",
           "showlakes": true,
           "showland": true,
           "subunitcolor": "white"
          },
          "hoverlabel": {
           "align": "left"
          },
          "hovermode": "closest",
          "mapbox": {
           "style": "light"
          },
          "paper_bgcolor": "white",
          "plot_bgcolor": "#E5ECF6",
          "polar": {
           "angularaxis": {
            "gridcolor": "white",
            "linecolor": "white",
            "ticks": ""
           },
           "bgcolor": "#E5ECF6",
           "radialaxis": {
            "gridcolor": "white",
            "linecolor": "white",
            "ticks": ""
           }
          },
          "scene": {
           "xaxis": {
            "backgroundcolor": "#E5ECF6",
            "gridcolor": "white",
            "gridwidth": 2,
            "linecolor": "white",
            "showbackground": true,
            "ticks": "",
            "zerolinecolor": "white"
           },
           "yaxis": {
            "backgroundcolor": "#E5ECF6",
            "gridcolor": "white",
            "gridwidth": 2,
            "linecolor": "white",
            "showbackground": true,
            "ticks": "",
            "zerolinecolor": "white"
           },
           "zaxis": {
            "backgroundcolor": "#E5ECF6",
            "gridcolor": "white",
            "gridwidth": 2,
            "linecolor": "white",
            "showbackground": true,
            "ticks": "",
            "zerolinecolor": "white"
           }
          },
          "shapedefaults": {
           "line": {
            "color": "#2a3f5f"
           }
          },
          "ternary": {
           "aaxis": {
            "gridcolor": "white",
            "linecolor": "white",
            "ticks": ""
           },
           "baxis": {
            "gridcolor": "white",
            "linecolor": "white",
            "ticks": ""
           },
           "bgcolor": "#E5ECF6",
           "caxis": {
            "gridcolor": "white",
            "linecolor": "white",
            "ticks": ""
           }
          },
          "title": {
           "x": 0.05
          },
          "xaxis": {
           "automargin": true,
           "gridcolor": "white",
           "linecolor": "white",
           "ticks": "",
           "title": {
            "standoff": 15
           },
           "zerolinecolor": "white",
           "zerolinewidth": 2
          },
          "yaxis": {
           "automargin": true,
           "gridcolor": "white",
           "linecolor": "white",
           "ticks": "",
           "title": {
            "standoff": 15
           },
           "zerolinecolor": "white",
           "zerolinewidth": 2
          }
         }
        },
        "title": {
         "text": "Estimation de la vraisemblance par SUMO"
        },
        "xaxis": {
         "tickfont": {
          "size": 12
         },
         "title": {
          "text": "Theta"
         }
        },
        "yaxis": {
         "range": [
          -300,
          500
         ],
         "tickfont": {
          "size": 12
         },
         "title": {
          "text": "Vraisemblance"
         }
        }
       }
      }
     },
     "metadata": {},
     "output_type": "display_data"
    }
   ],
   "source": [
    "n_simulations = 15 \n",
    "r = 0.6\n",
    "\n",
    "Code.plot_likelihood(r, x, noised_A, noised_b, theta_true, n_simulations, \"SUMO\")"
   ]
  },
  {
   "cell_type": "code",
   "execution_count": 8,
   "metadata": {},
   "outputs": [
    {
     "name": "stderr",
     "output_type": "stream",
     "text": [
      "/Users/tomrossa/Documents/ENSAE/Monte Carlo Method/Project/MLMC_Unibaised_Gradient_Estimation_for_Deep_LVM/Code.py:185: RuntimeWarning:\n",
      "\n",
      "divide by zero encountered in log\n",
      "\n"
     ]
    },
    {
     "data": {
      "application/vnd.plotly.v1+json": {
       "config": {
        "plotlyServerURL": "https://plot.ly"
       },
       "data": [
        {
         "line": {
          "color": "red"
         },
         "mode": "lines",
         "name": "True Gradient",
         "type": "scatter",
         "x": [
          -5.049100556476373,
          -4.845018923823312,
          -4.64093729117025,
          -4.436855658517189,
          -4.232774025864128,
          -4.028692393211067,
          -3.8246107605580053,
          -3.620529127904944,
          -3.416447495251883,
          -3.212365862598822,
          -3.0082842299457604,
          -2.804202597292699,
          -2.600120964639638,
          -2.396039331986577,
          -2.1919576993335155,
          -1.987876066680454,
          -1.783794434027393,
          -1.579712801374332,
          -1.3756311687212706,
          -1.171549536068209,
          -0.9674679034151481,
          -0.7633862707620871,
          -0.5593046381090252,
          -0.3552230054559642,
          -0.15114137280290318,
          0.05294025985015782,
          0.25702189250321883,
          0.4611035251562807,
          0.6651851578093417,
          0.8692667904624027,
          1.0733484231154646,
          1.2774300557685256,
          1.4815116884215866,
          1.6855933210746477,
          1.8896749537277087,
          2.0937565863807706,
          2.2978382190338316,
          2.5019198516868926,
          2.7060014843399545,
          2.9100831169930155,
          3.1141647496460765,
          3.3182463822991375,
          3.5223280149521985,
          3.7264096476052595,
          3.9304912802583223,
          4.134572912911383,
          4.338654545564444,
          4.542736178217505,
          4.746817810870566,
          4.950899443523627
         ],
         "y": [
          56.72565880845987,
          54.68484248192926,
          52.64402615539864,
          50.60320982886803,
          48.56239350233742,
          46.52157717580681,
          44.480760849276194,
          42.43994452274558,
          40.399128196214974,
          38.35831186968436,
          36.31749554315375,
          34.27667921662313,
          32.23586289009252,
          30.19504656356191,
          28.154230237031296,
          26.113413910500682,
          24.072597583970072,
          22.031781257439462,
          19.99096493090885,
          17.950148604378235,
          15.909332277847623,
          13.868515951317013,
          11.827699624786394,
          9.786883298255784,
          7.746066971725174,
          5.705250645194564,
          3.664434318663954,
          1.623617992133335,
          -0.41719833439727516,
          -2.4580146609278852,
          -4.498830987458504,
          -6.539647313989114,
          -8.580463640519724,
          -10.621279967050334,
          -12.662096293580944,
          -14.702912620111563,
          -16.74372894664217,
          -18.78454527317278,
          -20.825361599703403,
          -22.866177926234013,
          -24.906994252764623,
          -26.947810579295233,
          -28.988626905825843,
          -31.029443232356453,
          -33.07025955888708,
          -35.11107588541769,
          -37.1518922119483,
          -39.19270853847891,
          -41.23352486500952,
          -43.27434119154013
         ]
        },
        {
         "marker": {
          "color": "purple",
          "symbol": "x"
         },
         "mode": "markers",
         "name": "SUMO",
         "type": "scatter",
         "x": [
          -5.049100556476373,
          -4.845018923823312,
          -4.64093729117025,
          -4.436855658517189,
          -4.232774025864128,
          -4.028692393211067,
          -3.8246107605580053,
          -3.620529127904944,
          -3.416447495251883,
          -3.212365862598822,
          -3.0082842299457604,
          -2.804202597292699,
          -2.600120964639638,
          -2.396039331986577,
          -2.1919576993335155,
          -1.987876066680454,
          -1.783794434027393,
          -1.579712801374332,
          -1.3756311687212706,
          -1.171549536068209,
          -0.9674679034151481,
          -0.7633862707620871,
          -0.5593046381090252,
          -0.3552230054559642,
          -0.15114137280290318,
          0.05294025985015782,
          0.25702189250321883,
          0.4611035251562807,
          0.6651851578093417,
          0.8692667904624027,
          1.0733484231154646,
          1.2774300557685256,
          1.4815116884215866,
          1.6855933210746477,
          1.8896749537277087,
          2.0937565863807706,
          2.2978382190338316,
          2.5019198516868926,
          2.7060014843399545,
          2.9100831169930155,
          3.1141647496460765,
          3.3182463822991375,
          3.5223280149521985,
          3.7264096476052595,
          3.9304912802583223,
          4.134572912911383,
          4.338654545564444,
          4.542736178217505,
          4.746817810870566,
          4.950899443523627
         ],
         "y": [
          null,
          null,
          -5.255673741822022,
          33.14094783209072,
          45.30494525310573,
          17.142822443431072,
          73.03167717481068,
          29.556429471931096,
          7.223323590874315,
          35.05375172548176,
          13.2310812187456,
          17.898503413353183,
          30.19260560104624,
          31.669295663629924,
          6.2994814354011766,
          11.423205717279131,
          15.389363084294253,
          15.02580515098127,
          16.66136555558525,
          13.255720543588055,
          5.065364749048136,
          8.345148857619353,
          10.357599243654228,
          3.6670162963966924,
          1.78447985846962,
          6.3944314229064005,
          7.092358709469558,
          -3.6954488769145115,
          -7.4946923491499895,
          -4.332383798130181,
          -5.407719539054682,
          -8.560337820650858,
          -10.055266937094835,
          -9.864857160375195,
          -9.913283529484907,
          -14.028774506107808,
          -17.534526388013212,
          -14.677353077468716,
          -20.6943380965283,
          -33.55191385719161,
          -17.93015122157847,
          -4.965397480718025,
          -26.39350625362343,
          -32.09628905583821,
          -28.550365603623902,
          204.02544032721485,
          -23.69732927608024,
          -275.2681136247426,
          -43.87178128809728,
          -25.794840711821394
         ]
        }
       ],
       "layout": {
        "legend": {
         "font": {
          "size": 12
         },
         "traceorder": "normal",
         "x": 0,
         "y": 1
        },
        "shapes": [
         {
          "line": {
           "color": "black",
           "dash": "dash",
           "width": 2
          },
          "name": "theta=-0.04910055647637311",
          "type": "line",
          "x0": -0.04910055647637311,
          "x1": -0.04910055647637311,
          "y0": -275.2681136247426,
          "y1": null
         }
        ],
        "showlegend": true,
        "template": {
         "data": {
          "bar": [
           {
            "error_x": {
             "color": "#2a3f5f"
            },
            "error_y": {
             "color": "#2a3f5f"
            },
            "marker": {
             "line": {
              "color": "#E5ECF6",
              "width": 0.5
             },
             "pattern": {
              "fillmode": "overlay",
              "size": 10,
              "solidity": 0.2
             }
            },
            "type": "bar"
           }
          ],
          "barpolar": [
           {
            "marker": {
             "line": {
              "color": "#E5ECF6",
              "width": 0.5
             },
             "pattern": {
              "fillmode": "overlay",
              "size": 10,
              "solidity": 0.2
             }
            },
            "type": "barpolar"
           }
          ],
          "carpet": [
           {
            "aaxis": {
             "endlinecolor": "#2a3f5f",
             "gridcolor": "white",
             "linecolor": "white",
             "minorgridcolor": "white",
             "startlinecolor": "#2a3f5f"
            },
            "baxis": {
             "endlinecolor": "#2a3f5f",
             "gridcolor": "white",
             "linecolor": "white",
             "minorgridcolor": "white",
             "startlinecolor": "#2a3f5f"
            },
            "type": "carpet"
           }
          ],
          "choropleth": [
           {
            "colorbar": {
             "outlinewidth": 0,
             "ticks": ""
            },
            "type": "choropleth"
           }
          ],
          "contour": [
           {
            "colorbar": {
             "outlinewidth": 0,
             "ticks": ""
            },
            "colorscale": [
             [
              0,
              "#0d0887"
             ],
             [
              0.1111111111111111,
              "#46039f"
             ],
             [
              0.2222222222222222,
              "#7201a8"
             ],
             [
              0.3333333333333333,
              "#9c179e"
             ],
             [
              0.4444444444444444,
              "#bd3786"
             ],
             [
              0.5555555555555556,
              "#d8576b"
             ],
             [
              0.6666666666666666,
              "#ed7953"
             ],
             [
              0.7777777777777778,
              "#fb9f3a"
             ],
             [
              0.8888888888888888,
              "#fdca26"
             ],
             [
              1,
              "#f0f921"
             ]
            ],
            "type": "contour"
           }
          ],
          "contourcarpet": [
           {
            "colorbar": {
             "outlinewidth": 0,
             "ticks": ""
            },
            "type": "contourcarpet"
           }
          ],
          "heatmap": [
           {
            "colorbar": {
             "outlinewidth": 0,
             "ticks": ""
            },
            "colorscale": [
             [
              0,
              "#0d0887"
             ],
             [
              0.1111111111111111,
              "#46039f"
             ],
             [
              0.2222222222222222,
              "#7201a8"
             ],
             [
              0.3333333333333333,
              "#9c179e"
             ],
             [
              0.4444444444444444,
              "#bd3786"
             ],
             [
              0.5555555555555556,
              "#d8576b"
             ],
             [
              0.6666666666666666,
              "#ed7953"
             ],
             [
              0.7777777777777778,
              "#fb9f3a"
             ],
             [
              0.8888888888888888,
              "#fdca26"
             ],
             [
              1,
              "#f0f921"
             ]
            ],
            "type": "heatmap"
           }
          ],
          "heatmapgl": [
           {
            "colorbar": {
             "outlinewidth": 0,
             "ticks": ""
            },
            "colorscale": [
             [
              0,
              "#0d0887"
             ],
             [
              0.1111111111111111,
              "#46039f"
             ],
             [
              0.2222222222222222,
              "#7201a8"
             ],
             [
              0.3333333333333333,
              "#9c179e"
             ],
             [
              0.4444444444444444,
              "#bd3786"
             ],
             [
              0.5555555555555556,
              "#d8576b"
             ],
             [
              0.6666666666666666,
              "#ed7953"
             ],
             [
              0.7777777777777778,
              "#fb9f3a"
             ],
             [
              0.8888888888888888,
              "#fdca26"
             ],
             [
              1,
              "#f0f921"
             ]
            ],
            "type": "heatmapgl"
           }
          ],
          "histogram": [
           {
            "marker": {
             "pattern": {
              "fillmode": "overlay",
              "size": 10,
              "solidity": 0.2
             }
            },
            "type": "histogram"
           }
          ],
          "histogram2d": [
           {
            "colorbar": {
             "outlinewidth": 0,
             "ticks": ""
            },
            "colorscale": [
             [
              0,
              "#0d0887"
             ],
             [
              0.1111111111111111,
              "#46039f"
             ],
             [
              0.2222222222222222,
              "#7201a8"
             ],
             [
              0.3333333333333333,
              "#9c179e"
             ],
             [
              0.4444444444444444,
              "#bd3786"
             ],
             [
              0.5555555555555556,
              "#d8576b"
             ],
             [
              0.6666666666666666,
              "#ed7953"
             ],
             [
              0.7777777777777778,
              "#fb9f3a"
             ],
             [
              0.8888888888888888,
              "#fdca26"
             ],
             [
              1,
              "#f0f921"
             ]
            ],
            "type": "histogram2d"
           }
          ],
          "histogram2dcontour": [
           {
            "colorbar": {
             "outlinewidth": 0,
             "ticks": ""
            },
            "colorscale": [
             [
              0,
              "#0d0887"
             ],
             [
              0.1111111111111111,
              "#46039f"
             ],
             [
              0.2222222222222222,
              "#7201a8"
             ],
             [
              0.3333333333333333,
              "#9c179e"
             ],
             [
              0.4444444444444444,
              "#bd3786"
             ],
             [
              0.5555555555555556,
              "#d8576b"
             ],
             [
              0.6666666666666666,
              "#ed7953"
             ],
             [
              0.7777777777777778,
              "#fb9f3a"
             ],
             [
              0.8888888888888888,
              "#fdca26"
             ],
             [
              1,
              "#f0f921"
             ]
            ],
            "type": "histogram2dcontour"
           }
          ],
          "mesh3d": [
           {
            "colorbar": {
             "outlinewidth": 0,
             "ticks": ""
            },
            "type": "mesh3d"
           }
          ],
          "parcoords": [
           {
            "line": {
             "colorbar": {
              "outlinewidth": 0,
              "ticks": ""
             }
            },
            "type": "parcoords"
           }
          ],
          "pie": [
           {
            "automargin": true,
            "type": "pie"
           }
          ],
          "scatter": [
           {
            "fillpattern": {
             "fillmode": "overlay",
             "size": 10,
             "solidity": 0.2
            },
            "type": "scatter"
           }
          ],
          "scatter3d": [
           {
            "line": {
             "colorbar": {
              "outlinewidth": 0,
              "ticks": ""
             }
            },
            "marker": {
             "colorbar": {
              "outlinewidth": 0,
              "ticks": ""
             }
            },
            "type": "scatter3d"
           }
          ],
          "scattercarpet": [
           {
            "marker": {
             "colorbar": {
              "outlinewidth": 0,
              "ticks": ""
             }
            },
            "type": "scattercarpet"
           }
          ],
          "scattergeo": [
           {
            "marker": {
             "colorbar": {
              "outlinewidth": 0,
              "ticks": ""
             }
            },
            "type": "scattergeo"
           }
          ],
          "scattergl": [
           {
            "marker": {
             "colorbar": {
              "outlinewidth": 0,
              "ticks": ""
             }
            },
            "type": "scattergl"
           }
          ],
          "scattermapbox": [
           {
            "marker": {
             "colorbar": {
              "outlinewidth": 0,
              "ticks": ""
             }
            },
            "type": "scattermapbox"
           }
          ],
          "scatterpolar": [
           {
            "marker": {
             "colorbar": {
              "outlinewidth": 0,
              "ticks": ""
             }
            },
            "type": "scatterpolar"
           }
          ],
          "scatterpolargl": [
           {
            "marker": {
             "colorbar": {
              "outlinewidth": 0,
              "ticks": ""
             }
            },
            "type": "scatterpolargl"
           }
          ],
          "scatterternary": [
           {
            "marker": {
             "colorbar": {
              "outlinewidth": 0,
              "ticks": ""
             }
            },
            "type": "scatterternary"
           }
          ],
          "surface": [
           {
            "colorbar": {
             "outlinewidth": 0,
             "ticks": ""
            },
            "colorscale": [
             [
              0,
              "#0d0887"
             ],
             [
              0.1111111111111111,
              "#46039f"
             ],
             [
              0.2222222222222222,
              "#7201a8"
             ],
             [
              0.3333333333333333,
              "#9c179e"
             ],
             [
              0.4444444444444444,
              "#bd3786"
             ],
             [
              0.5555555555555556,
              "#d8576b"
             ],
             [
              0.6666666666666666,
              "#ed7953"
             ],
             [
              0.7777777777777778,
              "#fb9f3a"
             ],
             [
              0.8888888888888888,
              "#fdca26"
             ],
             [
              1,
              "#f0f921"
             ]
            ],
            "type": "surface"
           }
          ],
          "table": [
           {
            "cells": {
             "fill": {
              "color": "#EBF0F8"
             },
             "line": {
              "color": "white"
             }
            },
            "header": {
             "fill": {
              "color": "#C8D4E3"
             },
             "line": {
              "color": "white"
             }
            },
            "type": "table"
           }
          ]
         },
         "layout": {
          "annotationdefaults": {
           "arrowcolor": "#2a3f5f",
           "arrowhead": 0,
           "arrowwidth": 1
          },
          "autotypenumbers": "strict",
          "coloraxis": {
           "colorbar": {
            "outlinewidth": 0,
            "ticks": ""
           }
          },
          "colorscale": {
           "diverging": [
            [
             0,
             "#8e0152"
            ],
            [
             0.1,
             "#c51b7d"
            ],
            [
             0.2,
             "#de77ae"
            ],
            [
             0.3,
             "#f1b6da"
            ],
            [
             0.4,
             "#fde0ef"
            ],
            [
             0.5,
             "#f7f7f7"
            ],
            [
             0.6,
             "#e6f5d0"
            ],
            [
             0.7,
             "#b8e186"
            ],
            [
             0.8,
             "#7fbc41"
            ],
            [
             0.9,
             "#4d9221"
            ],
            [
             1,
             "#276419"
            ]
           ],
           "sequential": [
            [
             0,
             "#0d0887"
            ],
            [
             0.1111111111111111,
             "#46039f"
            ],
            [
             0.2222222222222222,
             "#7201a8"
            ],
            [
             0.3333333333333333,
             "#9c179e"
            ],
            [
             0.4444444444444444,
             "#bd3786"
            ],
            [
             0.5555555555555556,
             "#d8576b"
            ],
            [
             0.6666666666666666,
             "#ed7953"
            ],
            [
             0.7777777777777778,
             "#fb9f3a"
            ],
            [
             0.8888888888888888,
             "#fdca26"
            ],
            [
             1,
             "#f0f921"
            ]
           ],
           "sequentialminus": [
            [
             0,
             "#0d0887"
            ],
            [
             0.1111111111111111,
             "#46039f"
            ],
            [
             0.2222222222222222,
             "#7201a8"
            ],
            [
             0.3333333333333333,
             "#9c179e"
            ],
            [
             0.4444444444444444,
             "#bd3786"
            ],
            [
             0.5555555555555556,
             "#d8576b"
            ],
            [
             0.6666666666666666,
             "#ed7953"
            ],
            [
             0.7777777777777778,
             "#fb9f3a"
            ],
            [
             0.8888888888888888,
             "#fdca26"
            ],
            [
             1,
             "#f0f921"
            ]
           ]
          },
          "colorway": [
           "#636efa",
           "#EF553B",
           "#00cc96",
           "#ab63fa",
           "#FFA15A",
           "#19d3f3",
           "#FF6692",
           "#B6E880",
           "#FF97FF",
           "#FECB52"
          ],
          "font": {
           "color": "#2a3f5f"
          },
          "geo": {
           "bgcolor": "white",
           "lakecolor": "white",
           "landcolor": "#E5ECF6",
           "showlakes": true,
           "showland": true,
           "subunitcolor": "white"
          },
          "hoverlabel": {
           "align": "left"
          },
          "hovermode": "closest",
          "mapbox": {
           "style": "light"
          },
          "paper_bgcolor": "white",
          "plot_bgcolor": "#E5ECF6",
          "polar": {
           "angularaxis": {
            "gridcolor": "white",
            "linecolor": "white",
            "ticks": ""
           },
           "bgcolor": "#E5ECF6",
           "radialaxis": {
            "gridcolor": "white",
            "linecolor": "white",
            "ticks": ""
           }
          },
          "scene": {
           "xaxis": {
            "backgroundcolor": "#E5ECF6",
            "gridcolor": "white",
            "gridwidth": 2,
            "linecolor": "white",
            "showbackground": true,
            "ticks": "",
            "zerolinecolor": "white"
           },
           "yaxis": {
            "backgroundcolor": "#E5ECF6",
            "gridcolor": "white",
            "gridwidth": 2,
            "linecolor": "white",
            "showbackground": true,
            "ticks": "",
            "zerolinecolor": "white"
           },
           "zaxis": {
            "backgroundcolor": "#E5ECF6",
            "gridcolor": "white",
            "gridwidth": 2,
            "linecolor": "white",
            "showbackground": true,
            "ticks": "",
            "zerolinecolor": "white"
           }
          },
          "shapedefaults": {
           "line": {
            "color": "#2a3f5f"
           }
          },
          "ternary": {
           "aaxis": {
            "gridcolor": "white",
            "linecolor": "white",
            "ticks": ""
           },
           "baxis": {
            "gridcolor": "white",
            "linecolor": "white",
            "ticks": ""
           },
           "bgcolor": "#E5ECF6",
           "caxis": {
            "gridcolor": "white",
            "linecolor": "white",
            "ticks": ""
           }
          },
          "title": {
           "x": 0.05
          },
          "xaxis": {
           "automargin": true,
           "gridcolor": "white",
           "linecolor": "white",
           "ticks": "",
           "title": {
            "standoff": 15
           },
           "zerolinecolor": "white",
           "zerolinewidth": 2
          },
          "yaxis": {
           "automargin": true,
           "gridcolor": "white",
           "linecolor": "white",
           "ticks": "",
           "title": {
            "standoff": 15
           },
           "zerolinecolor": "white",
           "zerolinewidth": 2
          }
         }
        },
        "title": {
         "text": "Estimation du gradient par SUMO"
        },
        "xaxis": {
         "title": {
          "text": "Theta"
         }
        },
        "yaxis": {
         "title": {
          "text": "Gradient"
         }
        }
       }
      }
     },
     "metadata": {},
     "output_type": "display_data"
    }
   ],
   "source": [
    "Code.plot_gradient(0.6, x, noised_A, noised_b, theta_true, 15, 'SUMO')"
   ]
  },
  {
   "cell_type": "markdown",
   "metadata": {},
   "source": [
    "### <span style=\"color:orange\">  **1.3 L'estimateurs IWAE (Autoencoder Pondéré par l'Importance)**  </span>\n",
    "\n",
    "Voir l'article séminal sur l'IWAE [ici](https://arxiv.org/pdf/1509.00519.pdf).\n",
    "\n",
    "L'IWAE utilise cette architecture avec à la fois un **réseau génératif** (paramètre $\\boldsymbol{\\theta}$) et un **réseau de reconnaissance** (paramètre $\\phi$). **La différence est qu'il est entraîné à maximiser une autre borne inférieure** sur $\\log p_{\\boldsymbol{\\theta}}(\\boldsymbol{x})$. En particulier, nous utilisons la borne inférieure suivante, correspondant à l'estimation de pondération d'importance à $k$ échantillons de la log-vraisemblance :\n",
    "\n",
    "\\begin{align*}\n",
    "\\ell_{\\text{IWAE}}^{(k)}(\\boldsymbol{\\theta}, \\phi) &= \\mathbb{E}_{\\boldsymbol{z}_1,\\dots,\\boldsymbol{z}_k \\underset{i.i.d}{\\sim} q_{\\phi}(\\boldsymbol{z}|\\boldsymbol{x})}\\left[\\log \\frac{1}{k} \\sum_{i=1}^{k} \\frac{p_{\\boldsymbol{\\theta}}(\\boldsymbol{x}, \\boldsymbol{z}_i)}{q_{\\phi}(\\boldsymbol{z}_i | \\boldsymbol{x})}\\right ]\n",
    "\\end{align*}\n",
    "\n",
    "Ici, $\\boldsymbol{z}_1, \\dots, \\boldsymbol{z}_k$ sont échantillonnés indépendamment du modèle de reconnaissance. Le terme à l'intérieur de la somme correspond aux poids d'importance non normalisés pour la distribution conjointe, que nous noterons $w_i = \\frac{p(\\boldsymbol{x}, \\boldsymbol{z}_i)}{q_{\\phi}(\\boldsymbol{z}_i | \\boldsymbol{x})}$. \n",
    "\n",
    "L'optimisation de $\\ell_{\\text{IWAE}}^{(k)}(\\boldsymbol{\\theta}, \\phi)$ est effectuée conjointement en $\\boldsymbol{\\theta}$ et $\\phi$. \n",
    "\n",
    "Il existe deux propriétés de l'IWAE qui nous permettront de le modifier pour produire un estimateur non biaisé :\n",
    "1. Il est consistant, i.e. lorsque le nombre d'échantillons $k$ augmente, l'espérance de $\\ell_{\\text{IWAE}}^{(k)}(\\boldsymbol{\\theta}, \\phi)$ converge vers $\\log p_{\\boldsymbol{\\theta}}(\\boldsymbol{x})$ : \n",
    "$$\n",
    "\\log p_{\\boldsymbol{\\theta}}(\\boldsymbol{x}) = \\lim_{k \\rightarrow +\\infty} \\mathbb{E}[\\ell_{\\text{IWAE}}^{(k)}(\\boldsymbol{\\theta}, \\phi)]\n",
    "$$\n",
    "\n",
    "2. Il est également croissant en espérance : \n",
    "$$\n",
    "\\mathbb{E}[\\ell_{\\text{IWAE}}^{(k+1)}(\\boldsymbol{\\theta}, \\phi)] \\geq \\mathbb{E}[\\ell_{\\text{IWAE}}^{(k)}(\\boldsymbol{\\theta}, \\phi)]\n",
    "$$ \n",
    "\n",
    "De la même façon que pour les estimateurs précédents, on trace les estimations de l'IWAE sur une plage autour de $\\theta^*$"
   ]
  },
  {
   "cell_type": "code",
   "execution_count": null,
   "metadata": {},
   "outputs": [
    {
     "name": "stderr",
     "output_type": "stream",
     "text": [
      "Progression:   0%|          | 0/60 [00:00<?, ?it/s]"
     ]
    },
    {
     "name": "stderr",
     "output_type": "stream",
     "text": [
      "Progression: 100%|██████████| 60/60 [00:13<00:00,  4.44it/s]\n"
     ]
    },
    {
     "data": {
      "application/vnd.plotly.v1+json": {
       "config": {
        "plotlyServerURL": "https://plot.ly"
       },
       "data": [
        {
         "line": {
          "color": "blue"
         },
         "mode": "lines",
         "name": "Vraisemblance réelle (avec theta_true)",
         "type": "scatter",
         "x": [
          -2.380576571893175,
          -2.2110850464694463,
          -2.0415935210457175,
          -1.8721019956219886,
          -1.7026104701982598,
          -1.533118944774531,
          -1.3636274193508022,
          -1.1941358939270734,
          -1.0246443685033446,
          -0.8551528430796158,
          -0.685661317655887,
          -0.5161697922321582,
          -0.3466782668084294,
          -0.17718674138470059,
          -0.00769521596097178,
          0.16179630946275703,
          0.33128783488648583,
          0.5007793603102146,
          0.6702708857339434,
          0.8397624111576723,
          1.009253936581401,
          1.1787454620051299,
          1.3482369874288587,
          1.5177285128525875,
          1.6872200382763163,
          1.8567115637000446,
          2.026203089123774,
          2.195694614547503,
          2.3651861399712315,
          2.53467766539496,
          2.704169190818689,
          2.8736607162424184,
          3.0431522416661467,
          3.212643767089875,
          3.3821352925136043,
          3.5516268179373336,
          3.721118343361062,
          3.8906098687847903,
          4.06010139420852,
          4.229592919632249,
          4.399084445055977,
          4.5685759704797055,
          4.738067495903435,
          4.907559021327164,
          5.077050546750892,
          5.246542072174621,
          5.41603359759835,
          5.585525123022079,
          5.755016648445808,
          5.924508173869536,
          6.093999699293264,
          6.2634912247169945,
          6.432982750140723,
          6.602474275564451,
          6.771965800988181,
          6.94145732641191,
          7.110948851835638,
          7.280440377259366,
          7.449931902683095,
          7.619423428106825
         ],
         "y": [
          -187.44065375300076,
          -178.1070271327654,
          -169.06067428443467,
          -160.30159520800856,
          -151.82978990348707,
          -143.64525837087018,
          -135.74800061015796,
          -128.13801662135035,
          -120.81530640444736,
          -113.77986995944899,
          -107.03170728635523,
          -100.57081838516615,
          -94.39720325588165,
          -88.51086189850176,
          -82.91179431302653,
          -77.60000049945592,
          -72.57548045778994,
          -67.83823418802857,
          -63.38826169017183,
          -59.22556296421972,
          -55.35013801017223,
          -51.761986828029364,
          -48.46110941779112,
          -45.447505779457515,
          -42.721175913028524,
          -40.282119818504164,
          -38.13033749588442,
          -36.26582894516931,
          -34.688594166358826,
          -33.39863315945296,
          -32.39594592445172,
          -31.680532461355106,
          -31.25239277016312,
          -31.11152685087576,
          -31.25793470349302,
          -31.69161632801491,
          -32.41257172444142,
          -33.420800892772554,
          -34.716303833008325,
          -36.29908054514871,
          -38.16913102919372,
          -40.32645528514335,
          -42.77105331299762,
          -45.50292511275653,
          -48.52207068442002,
          -51.82849002798815,
          -55.42218314346093,
          -59.303150030838324,
          -63.47139069012033,
          -67.92690512130696,
          -72.66969332439821,
          -77.69975529939414,
          -83.01709104629464,
          -88.62170056509977,
          -94.51358385580957,
          -100.69274091842397,
          -107.15917175294294,
          -113.91287635936656,
          -120.95385473769481,
          -128.28210688792777
         ]
        },
        {
         "marker": {
          "color": "red",
          "symbol": "cross"
         },
         "mode": "markers",
         "name": "IWAE",
         "type": "scatter",
         "x": [
          -2.380576571893175,
          -2.2110850464694463,
          -2.0415935210457175,
          -1.8721019956219886,
          -1.7026104701982598,
          -1.533118944774531,
          -1.3636274193508022,
          -1.1941358939270734,
          -1.0246443685033446,
          -0.8551528430796158,
          -0.685661317655887,
          -0.5161697922321582,
          -0.3466782668084294,
          -0.17718674138470059,
          -0.00769521596097178,
          0.16179630946275703,
          0.33128783488648583,
          0.5007793603102146,
          0.6702708857339434,
          0.8397624111576723,
          1.009253936581401,
          1.1787454620051299,
          1.3482369874288587,
          1.5177285128525875,
          1.6872200382763163,
          1.8567115637000446,
          2.026203089123774,
          2.195694614547503,
          2.3651861399712315,
          2.53467766539496,
          2.704169190818689,
          2.8736607162424184,
          3.0431522416661467,
          3.212643767089875,
          3.3821352925136043,
          3.5516268179373336,
          3.721118343361062,
          3.8906098687847903,
          4.06010139420852,
          4.229592919632249,
          4.399084445055977,
          4.5685759704797055,
          4.738067495903435,
          4.907559021327164,
          5.077050546750892,
          5.246542072174621,
          5.41603359759835,
          5.585525123022079,
          5.755016648445808,
          5.924508173869536,
          6.093999699293264,
          6.2634912247169945,
          6.432982750140723,
          6.602474275564451,
          6.771965800988181,
          6.94145732641191,
          7.110948851835638,
          7.280440377259366,
          7.449931902683095,
          7.619423428106825
         ],
         "y": [
          -281.95975363919035,
          -266.90543511475255,
          -248.99495108866645,
          -235.45285850744702,
          -219.94156811972047,
          -206.82657983264167,
          -193.74468873517816,
          -181.2762239922759,
          -170.86917843067297,
          -157.44641349783615,
          -148.0605402617003,
          -135.13917832542873,
          -125.24920019161972,
          -114.96865264473705,
          -105.95425339414837,
          -98.47974421055368,
          -91.77633283776429,
          -85.77045893086479,
          -77.46546031320376,
          -71.05288527049652,
          -66.64790064259655,
          -61.29792393111055,
          -57.28258013545932,
          -52.962715231817796,
          -50.23681295905521,
          -46.994429429050825,
          -45.00077262907565,
          -42.980178588982575,
          -41.28021025921149,
          -40.14991710714647,
          -39.259799185208514,
          -38.405706271259795,
          -38.45952683975897,
          -38.7281075106508,
          -38.52876578193357,
          -39.84249934385741,
          -41.745230815467785,
          -44.220379520168535,
          -46.6559350277761,
          -49.85816140552617,
          -54.37559300552927,
          -58.97456941003937,
          -64.83832482776097,
          -69.27559386036488,
          -74.9848558289418,
          -80.588794344967,
          -87.1009062510769,
          -96.60714195165689,
          -106.80664245286752,
          -113.88664988391933,
          -124.35039900381291,
          -134.2139459580022,
          -145.90517389403905,
          -155.48920482209732,
          -170.4301133286285,
          -182.08447237793663,
          -194.053860217484,
          -213.0845281975198,
          -221.07244489385832,
          -237.64831277152692
         ]
        }
       ],
       "layout": {
        "grid": {
         "columns": 1,
         "rows": 1
        },
        "legend": {
         "font": {
          "size": 10
         }
        },
        "shapes": [
         {
          "line": {
           "color": "black",
           "dash": "dash"
          },
          "name": "Theta=2.619423428106825",
          "type": "line",
          "x0": 2.619423428106825,
          "x1": 2.619423428106825,
          "y0": -300,
          "y1": 500
         }
        ],
        "showlegend": true,
        "template": {
         "data": {
          "bar": [
           {
            "error_x": {
             "color": "#2a3f5f"
            },
            "error_y": {
             "color": "#2a3f5f"
            },
            "marker": {
             "line": {
              "color": "#E5ECF6",
              "width": 0.5
             },
             "pattern": {
              "fillmode": "overlay",
              "size": 10,
              "solidity": 0.2
             }
            },
            "type": "bar"
           }
          ],
          "barpolar": [
           {
            "marker": {
             "line": {
              "color": "#E5ECF6",
              "width": 0.5
             },
             "pattern": {
              "fillmode": "overlay",
              "size": 10,
              "solidity": 0.2
             }
            },
            "type": "barpolar"
           }
          ],
          "carpet": [
           {
            "aaxis": {
             "endlinecolor": "#2a3f5f",
             "gridcolor": "white",
             "linecolor": "white",
             "minorgridcolor": "white",
             "startlinecolor": "#2a3f5f"
            },
            "baxis": {
             "endlinecolor": "#2a3f5f",
             "gridcolor": "white",
             "linecolor": "white",
             "minorgridcolor": "white",
             "startlinecolor": "#2a3f5f"
            },
            "type": "carpet"
           }
          ],
          "choropleth": [
           {
            "colorbar": {
             "outlinewidth": 0,
             "ticks": ""
            },
            "type": "choropleth"
           }
          ],
          "contour": [
           {
            "colorbar": {
             "outlinewidth": 0,
             "ticks": ""
            },
            "colorscale": [
             [
              0,
              "#0d0887"
             ],
             [
              0.1111111111111111,
              "#46039f"
             ],
             [
              0.2222222222222222,
              "#7201a8"
             ],
             [
              0.3333333333333333,
              "#9c179e"
             ],
             [
              0.4444444444444444,
              "#bd3786"
             ],
             [
              0.5555555555555556,
              "#d8576b"
             ],
             [
              0.6666666666666666,
              "#ed7953"
             ],
             [
              0.7777777777777778,
              "#fb9f3a"
             ],
             [
              0.8888888888888888,
              "#fdca26"
             ],
             [
              1,
              "#f0f921"
             ]
            ],
            "type": "contour"
           }
          ],
          "contourcarpet": [
           {
            "colorbar": {
             "outlinewidth": 0,
             "ticks": ""
            },
            "type": "contourcarpet"
           }
          ],
          "heatmap": [
           {
            "colorbar": {
             "outlinewidth": 0,
             "ticks": ""
            },
            "colorscale": [
             [
              0,
              "#0d0887"
             ],
             [
              0.1111111111111111,
              "#46039f"
             ],
             [
              0.2222222222222222,
              "#7201a8"
             ],
             [
              0.3333333333333333,
              "#9c179e"
             ],
             [
              0.4444444444444444,
              "#bd3786"
             ],
             [
              0.5555555555555556,
              "#d8576b"
             ],
             [
              0.6666666666666666,
              "#ed7953"
             ],
             [
              0.7777777777777778,
              "#fb9f3a"
             ],
             [
              0.8888888888888888,
              "#fdca26"
             ],
             [
              1,
              "#f0f921"
             ]
            ],
            "type": "heatmap"
           }
          ],
          "heatmapgl": [
           {
            "colorbar": {
             "outlinewidth": 0,
             "ticks": ""
            },
            "colorscale": [
             [
              0,
              "#0d0887"
             ],
             [
              0.1111111111111111,
              "#46039f"
             ],
             [
              0.2222222222222222,
              "#7201a8"
             ],
             [
              0.3333333333333333,
              "#9c179e"
             ],
             [
              0.4444444444444444,
              "#bd3786"
             ],
             [
              0.5555555555555556,
              "#d8576b"
             ],
             [
              0.6666666666666666,
              "#ed7953"
             ],
             [
              0.7777777777777778,
              "#fb9f3a"
             ],
             [
              0.8888888888888888,
              "#fdca26"
             ],
             [
              1,
              "#f0f921"
             ]
            ],
            "type": "heatmapgl"
           }
          ],
          "histogram": [
           {
            "marker": {
             "pattern": {
              "fillmode": "overlay",
              "size": 10,
              "solidity": 0.2
             }
            },
            "type": "histogram"
           }
          ],
          "histogram2d": [
           {
            "colorbar": {
             "outlinewidth": 0,
             "ticks": ""
            },
            "colorscale": [
             [
              0,
              "#0d0887"
             ],
             [
              0.1111111111111111,
              "#46039f"
             ],
             [
              0.2222222222222222,
              "#7201a8"
             ],
             [
              0.3333333333333333,
              "#9c179e"
             ],
             [
              0.4444444444444444,
              "#bd3786"
             ],
             [
              0.5555555555555556,
              "#d8576b"
             ],
             [
              0.6666666666666666,
              "#ed7953"
             ],
             [
              0.7777777777777778,
              "#fb9f3a"
             ],
             [
              0.8888888888888888,
              "#fdca26"
             ],
             [
              1,
              "#f0f921"
             ]
            ],
            "type": "histogram2d"
           }
          ],
          "histogram2dcontour": [
           {
            "colorbar": {
             "outlinewidth": 0,
             "ticks": ""
            },
            "colorscale": [
             [
              0,
              "#0d0887"
             ],
             [
              0.1111111111111111,
              "#46039f"
             ],
             [
              0.2222222222222222,
              "#7201a8"
             ],
             [
              0.3333333333333333,
              "#9c179e"
             ],
             [
              0.4444444444444444,
              "#bd3786"
             ],
             [
              0.5555555555555556,
              "#d8576b"
             ],
             [
              0.6666666666666666,
              "#ed7953"
             ],
             [
              0.7777777777777778,
              "#fb9f3a"
             ],
             [
              0.8888888888888888,
              "#fdca26"
             ],
             [
              1,
              "#f0f921"
             ]
            ],
            "type": "histogram2dcontour"
           }
          ],
          "mesh3d": [
           {
            "colorbar": {
             "outlinewidth": 0,
             "ticks": ""
            },
            "type": "mesh3d"
           }
          ],
          "parcoords": [
           {
            "line": {
             "colorbar": {
              "outlinewidth": 0,
              "ticks": ""
             }
            },
            "type": "parcoords"
           }
          ],
          "pie": [
           {
            "automargin": true,
            "type": "pie"
           }
          ],
          "scatter": [
           {
            "fillpattern": {
             "fillmode": "overlay",
             "size": 10,
             "solidity": 0.2
            },
            "type": "scatter"
           }
          ],
          "scatter3d": [
           {
            "line": {
             "colorbar": {
              "outlinewidth": 0,
              "ticks": ""
             }
            },
            "marker": {
             "colorbar": {
              "outlinewidth": 0,
              "ticks": ""
             }
            },
            "type": "scatter3d"
           }
          ],
          "scattercarpet": [
           {
            "marker": {
             "colorbar": {
              "outlinewidth": 0,
              "ticks": ""
             }
            },
            "type": "scattercarpet"
           }
          ],
          "scattergeo": [
           {
            "marker": {
             "colorbar": {
              "outlinewidth": 0,
              "ticks": ""
             }
            },
            "type": "scattergeo"
           }
          ],
          "scattergl": [
           {
            "marker": {
             "colorbar": {
              "outlinewidth": 0,
              "ticks": ""
             }
            },
            "type": "scattergl"
           }
          ],
          "scattermapbox": [
           {
            "marker": {
             "colorbar": {
              "outlinewidth": 0,
              "ticks": ""
             }
            },
            "type": "scattermapbox"
           }
          ],
          "scatterpolar": [
           {
            "marker": {
             "colorbar": {
              "outlinewidth": 0,
              "ticks": ""
             }
            },
            "type": "scatterpolar"
           }
          ],
          "scatterpolargl": [
           {
            "marker": {
             "colorbar": {
              "outlinewidth": 0,
              "ticks": ""
             }
            },
            "type": "scatterpolargl"
           }
          ],
          "scatterternary": [
           {
            "marker": {
             "colorbar": {
              "outlinewidth": 0,
              "ticks": ""
             }
            },
            "type": "scatterternary"
           }
          ],
          "surface": [
           {
            "colorbar": {
             "outlinewidth": 0,
             "ticks": ""
            },
            "colorscale": [
             [
              0,
              "#0d0887"
             ],
             [
              0.1111111111111111,
              "#46039f"
             ],
             [
              0.2222222222222222,
              "#7201a8"
             ],
             [
              0.3333333333333333,
              "#9c179e"
             ],
             [
              0.4444444444444444,
              "#bd3786"
             ],
             [
              0.5555555555555556,
              "#d8576b"
             ],
             [
              0.6666666666666666,
              "#ed7953"
             ],
             [
              0.7777777777777778,
              "#fb9f3a"
             ],
             [
              0.8888888888888888,
              "#fdca26"
             ],
             [
              1,
              "#f0f921"
             ]
            ],
            "type": "surface"
           }
          ],
          "table": [
           {
            "cells": {
             "fill": {
              "color": "#EBF0F8"
             },
             "line": {
              "color": "white"
             }
            },
            "header": {
             "fill": {
              "color": "#C8D4E3"
             },
             "line": {
              "color": "white"
             }
            },
            "type": "table"
           }
          ]
         },
         "layout": {
          "annotationdefaults": {
           "arrowcolor": "#2a3f5f",
           "arrowhead": 0,
           "arrowwidth": 1
          },
          "autotypenumbers": "strict",
          "coloraxis": {
           "colorbar": {
            "outlinewidth": 0,
            "ticks": ""
           }
          },
          "colorscale": {
           "diverging": [
            [
             0,
             "#8e0152"
            ],
            [
             0.1,
             "#c51b7d"
            ],
            [
             0.2,
             "#de77ae"
            ],
            [
             0.3,
             "#f1b6da"
            ],
            [
             0.4,
             "#fde0ef"
            ],
            [
             0.5,
             "#f7f7f7"
            ],
            [
             0.6,
             "#e6f5d0"
            ],
            [
             0.7,
             "#b8e186"
            ],
            [
             0.8,
             "#7fbc41"
            ],
            [
             0.9,
             "#4d9221"
            ],
            [
             1,
             "#276419"
            ]
           ],
           "sequential": [
            [
             0,
             "#0d0887"
            ],
            [
             0.1111111111111111,
             "#46039f"
            ],
            [
             0.2222222222222222,
             "#7201a8"
            ],
            [
             0.3333333333333333,
             "#9c179e"
            ],
            [
             0.4444444444444444,
             "#bd3786"
            ],
            [
             0.5555555555555556,
             "#d8576b"
            ],
            [
             0.6666666666666666,
             "#ed7953"
            ],
            [
             0.7777777777777778,
             "#fb9f3a"
            ],
            [
             0.8888888888888888,
             "#fdca26"
            ],
            [
             1,
             "#f0f921"
            ]
           ],
           "sequentialminus": [
            [
             0,
             "#0d0887"
            ],
            [
             0.1111111111111111,
             "#46039f"
            ],
            [
             0.2222222222222222,
             "#7201a8"
            ],
            [
             0.3333333333333333,
             "#9c179e"
            ],
            [
             0.4444444444444444,
             "#bd3786"
            ],
            [
             0.5555555555555556,
             "#d8576b"
            ],
            [
             0.6666666666666666,
             "#ed7953"
            ],
            [
             0.7777777777777778,
             "#fb9f3a"
            ],
            [
             0.8888888888888888,
             "#fdca26"
            ],
            [
             1,
             "#f0f921"
            ]
           ]
          },
          "colorway": [
           "#636efa",
           "#EF553B",
           "#00cc96",
           "#ab63fa",
           "#FFA15A",
           "#19d3f3",
           "#FF6692",
           "#B6E880",
           "#FF97FF",
           "#FECB52"
          ],
          "font": {
           "color": "#2a3f5f"
          },
          "geo": {
           "bgcolor": "white",
           "lakecolor": "white",
           "landcolor": "#E5ECF6",
           "showlakes": true,
           "showland": true,
           "subunitcolor": "white"
          },
          "hoverlabel": {
           "align": "left"
          },
          "hovermode": "closest",
          "mapbox": {
           "style": "light"
          },
          "paper_bgcolor": "white",
          "plot_bgcolor": "#E5ECF6",
          "polar": {
           "angularaxis": {
            "gridcolor": "white",
            "linecolor": "white",
            "ticks": ""
           },
           "bgcolor": "#E5ECF6",
           "radialaxis": {
            "gridcolor": "white",
            "linecolor": "white",
            "ticks": ""
           }
          },
          "scene": {
           "xaxis": {
            "backgroundcolor": "#E5ECF6",
            "gridcolor": "white",
            "gridwidth": 2,
            "linecolor": "white",
            "showbackground": true,
            "ticks": "",
            "zerolinecolor": "white"
           },
           "yaxis": {
            "backgroundcolor": "#E5ECF6",
            "gridcolor": "white",
            "gridwidth": 2,
            "linecolor": "white",
            "showbackground": true,
            "ticks": "",
            "zerolinecolor": "white"
           },
           "zaxis": {
            "backgroundcolor": "#E5ECF6",
            "gridcolor": "white",
            "gridwidth": 2,
            "linecolor": "white",
            "showbackground": true,
            "ticks": "",
            "zerolinecolor": "white"
           }
          },
          "shapedefaults": {
           "line": {
            "color": "#2a3f5f"
           }
          },
          "ternary": {
           "aaxis": {
            "gridcolor": "white",
            "linecolor": "white",
            "ticks": ""
           },
           "baxis": {
            "gridcolor": "white",
            "linecolor": "white",
            "ticks": ""
           },
           "bgcolor": "#E5ECF6",
           "caxis": {
            "gridcolor": "white",
            "linecolor": "white",
            "ticks": ""
           }
          },
          "title": {
           "x": 0.05
          },
          "xaxis": {
           "automargin": true,
           "gridcolor": "white",
           "linecolor": "white",
           "ticks": "",
           "title": {
            "standoff": 15
           },
           "zerolinecolor": "white",
           "zerolinewidth": 2
          },
          "yaxis": {
           "automargin": true,
           "gridcolor": "white",
           "linecolor": "white",
           "ticks": "",
           "title": {
            "standoff": 15
           },
           "zerolinecolor": "white",
           "zerolinewidth": 2
          }
         }
        },
        "title": {
         "text": "Estimation de la vraisemblance par IWAE"
        },
        "xaxis": {
         "tickfont": {
          "size": 12
         },
         "title": {
          "text": "Theta"
         }
        },
        "yaxis": {
         "range": [
          -300,
          500
         ],
         "tickfont": {
          "size": 12
         },
         "title": {
          "text": "Vraisemblance"
         }
        }
       }
      }
     },
     "metadata": {},
     "output_type": "display_data"
    }
   ],
   "source": [
    "n_simulations = 15 \n",
    "k_IWAE = 20\n",
    "r = 0.6\n",
    "\n",
    "Code.plot_likelihood(r, x, noised_A, noised_b, theta_true,  n_simulations, k_IWAE, \"IWAE\")"
   ]
  },
  {
   "cell_type": "markdown",
   "metadata": {},
   "source": [
    "Fixons k_IWAE = 5 et comparons les résultats : "
   ]
  },
  {
   "cell_type": "code",
   "execution_count": null,
   "metadata": {},
   "outputs": [
    {
     "name": "stderr",
     "output_type": "stream",
     "text": [
      "Progression:   0%|          | 0/60 [00:00<?, ?it/s]"
     ]
    },
    {
     "name": "stderr",
     "output_type": "stream",
     "text": [
      "Progression: 100%|██████████| 60/60 [00:05<00:00, 11.55it/s]\n"
     ]
    },
    {
     "data": {
      "application/vnd.plotly.v1+json": {
       "config": {
        "plotlyServerURL": "https://plot.ly"
       },
       "data": [
        {
         "line": {
          "color": "blue"
         },
         "mode": "lines",
         "name": "Vraisemblance réelle (avec theta_true)",
         "type": "scatter",
         "x": [
          -4.072023752313933,
          -3.902532226890204,
          -3.733040701466475,
          -3.5635491760427462,
          -3.3940576506190174,
          -3.2245661251952886,
          -3.05507459977156,
          -2.885583074347831,
          -2.716091548924102,
          -2.5466000235003734,
          -2.3771084980766446,
          -2.207616972652916,
          -2.038125447229187,
          -1.8686339218054582,
          -1.6991423963817294,
          -1.5296508709580006,
          -1.3601593455342718,
          -1.190667820110543,
          -1.0211762946868141,
          -0.8516847692630853,
          -0.6821932438393565,
          -0.5127017184156277,
          -0.3432101929918989,
          -0.17371866756817012,
          -0.004227142144441309,
          0.16526438327928705,
          0.3347559087030163,
          0.5042474341267456,
          0.6737389595504739,
          0.8432304849742023,
          1.0127220103979315,
          1.1822135358216608,
          1.3517050612453891,
          1.5211965866691175,
          1.6906881120928468,
          1.860179637516576,
          2.0296711629403044,
          2.1991626883640327,
          2.368654213787762,
          2.5381457392114912,
          2.7076372646352196,
          2.877128790058948,
          3.046620315482677,
          3.2161118409064064,
          3.385603366330135,
          3.555094891753863,
          3.7245864171775924,
          3.8940779426013217,
          4.06356946802505,
          4.233060993448778,
          4.402552518872507,
          4.572044044296237,
          4.741535569719965,
          4.911027095143694,
          5.080518620567424,
          5.250010145991152,
          5.4195016714148805,
          5.588993196838609,
          5.758484722262337,
          5.927976247686067
         ],
         "y": [
          -143.4098169220608,
          -135.31116025258203,
          -127.49977735500788,
          -119.97566822933837,
          -112.7388328755735,
          -105.78927129371321,
          -99.1269834837576,
          -92.75196944570656,
          -86.66422917956018,
          -80.86376268531842,
          -75.35056996298127,
          -70.12465101254877,
          -65.18600583402086,
          -60.534634427397606,
          -56.17053679267897,
          -52.09371292986496,
          -48.30416283895558,
          -44.80188651995081,
          -41.586883972850664,
          -38.65915519765515,
          -36.018700194364264,
          -33.665518962978005,
          -31.599611503496362,
          -29.820977815919353,
          -28.329617900246966,
          -27.1255317564792,
          -26.208719384616064,
          -25.57918078465755,
          -25.236915956603664,
          -25.1819249004544,
          -25.414207616209765,
          -25.933764103869756,
          -26.740594363434365,
          -27.8346983949036,
          -29.216076198277463,
          -30.884727773555962,
          -32.84065312073907,
          -35.083852239826804,
          -37.614325130819175,
          -40.43207179371617,
          -43.53709222851777,
          -46.929386435224,
          -50.60895441383487,
          -54.57579616435038,
          -58.82991168677048,
          -63.37130098109521,
          -68.19996404732458,
          -73.31590088545859,
          -78.71911149549719,
          -84.40959587744041,
          -90.38735403128825,
          -96.6523859570408,
          -103.20469165469788,
          -110.04427112425962,
          -117.17112436572604,
          -124.585251379097,
          -132.2866521643726,
          -140.27532672155283,
          -148.55127505063766,
          -157.1144971516272
         ]
        },
        {
         "marker": {
          "color": "red",
          "symbol": "cross"
         },
         "mode": "markers",
         "name": "IWAE",
         "type": "scatter",
         "x": [
          -4.072023752313933,
          -3.902532226890204,
          -3.733040701466475,
          -3.5635491760427462,
          -3.3940576506190174,
          -3.2245661251952886,
          -3.05507459977156,
          -2.885583074347831,
          -2.716091548924102,
          -2.5466000235003734,
          -2.3771084980766446,
          -2.207616972652916,
          -2.038125447229187,
          -1.8686339218054582,
          -1.6991423963817294,
          -1.5296508709580006,
          -1.3601593455342718,
          -1.190667820110543,
          -1.0211762946868141,
          -0.8516847692630853,
          -0.6821932438393565,
          -0.5127017184156277,
          -0.3432101929918989,
          -0.17371866756817012,
          -0.004227142144441309,
          0.16526438327928705,
          0.3347559087030163,
          0.5042474341267456,
          0.6737389595504739,
          0.8432304849742023,
          1.0127220103979315,
          1.1822135358216608,
          1.3517050612453891,
          1.5211965866691175,
          1.6906881120928468,
          1.860179637516576,
          2.0296711629403044,
          2.1991626883640327,
          2.368654213787762,
          2.5381457392114912,
          2.7076372646352196,
          2.877128790058948,
          3.046620315482677,
          3.2161118409064064,
          3.385603366330135,
          3.555094891753863,
          3.7245864171775924,
          3.8940779426013217,
          4.06356946802505,
          4.233060993448778,
          4.402552518872507,
          4.572044044296237,
          4.741535569719965,
          4.911027095143694,
          5.080518620567424,
          5.250010145991152,
          5.4195016714148805,
          5.588993196838609,
          5.758484722262337,
          5.927976247686067
         ],
         "y": [
          -255.01393038795862,
          -238.35031544897544,
          -222.0338644868702,
          -211.91982410821353,
          -195.31921813553018,
          -181.35082316026754,
          -167.51758337329153,
          -160.4219382672812,
          -143.9006346858875,
          -134.53479838004813,
          -123.24882531191084,
          -116.02794506904185,
          -103.69345991962153,
          -98.11836707818051,
          -88.17211095955237,
          -79.67358150684237,
          -72.41091357465893,
          -64.7610617836819,
          -59.221581340586994,
          -54.97730736130395,
          -51.91417371236077,
          -46.071261966707794,
          -41.99147728757919,
          -38.747441264052185,
          -36.62011291850441,
          -34.37270557612919,
          -33.60985411433752,
          -32.48671852169259,
          -31.916604649098577,
          -31.92440253843298,
          -31.965072252107213,
          -32.52050922802994,
          -33.6616796288293,
          -35.31791550854747,
          -37.023388575988534,
          -40.06370496559779,
          -40.95724156537862,
          -46.38536945499083,
          -51.46926663906016,
          -56.150708168408315,
          -58.780083502232294,
          -68.12483889194701,
          -72.59670205784546,
          -78.15315124230104,
          -87.55499289418385,
          -94.73899873347249,
          -108.48310576170938,
          -117.06417365427207,
          -122.7486297378722,
          -134.88951469376778,
          -143.45316777250108,
          -154.9932416193641,
          -165.6601897932658,
          -183.3647098726561,
          -194.49612631276048,
          -207.5358179212756,
          -221.57054103909707,
          -236.2386525173468,
          -254.27430803902737,
          -275.0316500400788
         ]
        }
       ],
       "layout": {
        "grid": {
         "columns": 1,
         "rows": 1
        },
        "legend": {
         "font": {
          "size": 10
         }
        },
        "shapes": [
         {
          "line": {
           "color": "black",
           "dash": "dash"
          },
          "name": "Theta=0.927976247686067",
          "type": "line",
          "x0": 0.927976247686067,
          "x1": 0.927976247686067,
          "y0": -300,
          "y1": 500
         }
        ],
        "showlegend": true,
        "template": {
         "data": {
          "bar": [
           {
            "error_x": {
             "color": "#2a3f5f"
            },
            "error_y": {
             "color": "#2a3f5f"
            },
            "marker": {
             "line": {
              "color": "#E5ECF6",
              "width": 0.5
             },
             "pattern": {
              "fillmode": "overlay",
              "size": 10,
              "solidity": 0.2
             }
            },
            "type": "bar"
           }
          ],
          "barpolar": [
           {
            "marker": {
             "line": {
              "color": "#E5ECF6",
              "width": 0.5
             },
             "pattern": {
              "fillmode": "overlay",
              "size": 10,
              "solidity": 0.2
             }
            },
            "type": "barpolar"
           }
          ],
          "carpet": [
           {
            "aaxis": {
             "endlinecolor": "#2a3f5f",
             "gridcolor": "white",
             "linecolor": "white",
             "minorgridcolor": "white",
             "startlinecolor": "#2a3f5f"
            },
            "baxis": {
             "endlinecolor": "#2a3f5f",
             "gridcolor": "white",
             "linecolor": "white",
             "minorgridcolor": "white",
             "startlinecolor": "#2a3f5f"
            },
            "type": "carpet"
           }
          ],
          "choropleth": [
           {
            "colorbar": {
             "outlinewidth": 0,
             "ticks": ""
            },
            "type": "choropleth"
           }
          ],
          "contour": [
           {
            "colorbar": {
             "outlinewidth": 0,
             "ticks": ""
            },
            "colorscale": [
             [
              0,
              "#0d0887"
             ],
             [
              0.1111111111111111,
              "#46039f"
             ],
             [
              0.2222222222222222,
              "#7201a8"
             ],
             [
              0.3333333333333333,
              "#9c179e"
             ],
             [
              0.4444444444444444,
              "#bd3786"
             ],
             [
              0.5555555555555556,
              "#d8576b"
             ],
             [
              0.6666666666666666,
              "#ed7953"
             ],
             [
              0.7777777777777778,
              "#fb9f3a"
             ],
             [
              0.8888888888888888,
              "#fdca26"
             ],
             [
              1,
              "#f0f921"
             ]
            ],
            "type": "contour"
           }
          ],
          "contourcarpet": [
           {
            "colorbar": {
             "outlinewidth": 0,
             "ticks": ""
            },
            "type": "contourcarpet"
           }
          ],
          "heatmap": [
           {
            "colorbar": {
             "outlinewidth": 0,
             "ticks": ""
            },
            "colorscale": [
             [
              0,
              "#0d0887"
             ],
             [
              0.1111111111111111,
              "#46039f"
             ],
             [
              0.2222222222222222,
              "#7201a8"
             ],
             [
              0.3333333333333333,
              "#9c179e"
             ],
             [
              0.4444444444444444,
              "#bd3786"
             ],
             [
              0.5555555555555556,
              "#d8576b"
             ],
             [
              0.6666666666666666,
              "#ed7953"
             ],
             [
              0.7777777777777778,
              "#fb9f3a"
             ],
             [
              0.8888888888888888,
              "#fdca26"
             ],
             [
              1,
              "#f0f921"
             ]
            ],
            "type": "heatmap"
           }
          ],
          "heatmapgl": [
           {
            "colorbar": {
             "outlinewidth": 0,
             "ticks": ""
            },
            "colorscale": [
             [
              0,
              "#0d0887"
             ],
             [
              0.1111111111111111,
              "#46039f"
             ],
             [
              0.2222222222222222,
              "#7201a8"
             ],
             [
              0.3333333333333333,
              "#9c179e"
             ],
             [
              0.4444444444444444,
              "#bd3786"
             ],
             [
              0.5555555555555556,
              "#d8576b"
             ],
             [
              0.6666666666666666,
              "#ed7953"
             ],
             [
              0.7777777777777778,
              "#fb9f3a"
             ],
             [
              0.8888888888888888,
              "#fdca26"
             ],
             [
              1,
              "#f0f921"
             ]
            ],
            "type": "heatmapgl"
           }
          ],
          "histogram": [
           {
            "marker": {
             "pattern": {
              "fillmode": "overlay",
              "size": 10,
              "solidity": 0.2
             }
            },
            "type": "histogram"
           }
          ],
          "histogram2d": [
           {
            "colorbar": {
             "outlinewidth": 0,
             "ticks": ""
            },
            "colorscale": [
             [
              0,
              "#0d0887"
             ],
             [
              0.1111111111111111,
              "#46039f"
             ],
             [
              0.2222222222222222,
              "#7201a8"
             ],
             [
              0.3333333333333333,
              "#9c179e"
             ],
             [
              0.4444444444444444,
              "#bd3786"
             ],
             [
              0.5555555555555556,
              "#d8576b"
             ],
             [
              0.6666666666666666,
              "#ed7953"
             ],
             [
              0.7777777777777778,
              "#fb9f3a"
             ],
             [
              0.8888888888888888,
              "#fdca26"
             ],
             [
              1,
              "#f0f921"
             ]
            ],
            "type": "histogram2d"
           }
          ],
          "histogram2dcontour": [
           {
            "colorbar": {
             "outlinewidth": 0,
             "ticks": ""
            },
            "colorscale": [
             [
              0,
              "#0d0887"
             ],
             [
              0.1111111111111111,
              "#46039f"
             ],
             [
              0.2222222222222222,
              "#7201a8"
             ],
             [
              0.3333333333333333,
              "#9c179e"
             ],
             [
              0.4444444444444444,
              "#bd3786"
             ],
             [
              0.5555555555555556,
              "#d8576b"
             ],
             [
              0.6666666666666666,
              "#ed7953"
             ],
             [
              0.7777777777777778,
              "#fb9f3a"
             ],
             [
              0.8888888888888888,
              "#fdca26"
             ],
             [
              1,
              "#f0f921"
             ]
            ],
            "type": "histogram2dcontour"
           }
          ],
          "mesh3d": [
           {
            "colorbar": {
             "outlinewidth": 0,
             "ticks": ""
            },
            "type": "mesh3d"
           }
          ],
          "parcoords": [
           {
            "line": {
             "colorbar": {
              "outlinewidth": 0,
              "ticks": ""
             }
            },
            "type": "parcoords"
           }
          ],
          "pie": [
           {
            "automargin": true,
            "type": "pie"
           }
          ],
          "scatter": [
           {
            "fillpattern": {
             "fillmode": "overlay",
             "size": 10,
             "solidity": 0.2
            },
            "type": "scatter"
           }
          ],
          "scatter3d": [
           {
            "line": {
             "colorbar": {
              "outlinewidth": 0,
              "ticks": ""
             }
            },
            "marker": {
             "colorbar": {
              "outlinewidth": 0,
              "ticks": ""
             }
            },
            "type": "scatter3d"
           }
          ],
          "scattercarpet": [
           {
            "marker": {
             "colorbar": {
              "outlinewidth": 0,
              "ticks": ""
             }
            },
            "type": "scattercarpet"
           }
          ],
          "scattergeo": [
           {
            "marker": {
             "colorbar": {
              "outlinewidth": 0,
              "ticks": ""
             }
            },
            "type": "scattergeo"
           }
          ],
          "scattergl": [
           {
            "marker": {
             "colorbar": {
              "outlinewidth": 0,
              "ticks": ""
             }
            },
            "type": "scattergl"
           }
          ],
          "scattermapbox": [
           {
            "marker": {
             "colorbar": {
              "outlinewidth": 0,
              "ticks": ""
             }
            },
            "type": "scattermapbox"
           }
          ],
          "scatterpolar": [
           {
            "marker": {
             "colorbar": {
              "outlinewidth": 0,
              "ticks": ""
             }
            },
            "type": "scatterpolar"
           }
          ],
          "scatterpolargl": [
           {
            "marker": {
             "colorbar": {
              "outlinewidth": 0,
              "ticks": ""
             }
            },
            "type": "scatterpolargl"
           }
          ],
          "scatterternary": [
           {
            "marker": {
             "colorbar": {
              "outlinewidth": 0,
              "ticks": ""
             }
            },
            "type": "scatterternary"
           }
          ],
          "surface": [
           {
            "colorbar": {
             "outlinewidth": 0,
             "ticks": ""
            },
            "colorscale": [
             [
              0,
              "#0d0887"
             ],
             [
              0.1111111111111111,
              "#46039f"
             ],
             [
              0.2222222222222222,
              "#7201a8"
             ],
             [
              0.3333333333333333,
              "#9c179e"
             ],
             [
              0.4444444444444444,
              "#bd3786"
             ],
             [
              0.5555555555555556,
              "#d8576b"
             ],
             [
              0.6666666666666666,
              "#ed7953"
             ],
             [
              0.7777777777777778,
              "#fb9f3a"
             ],
             [
              0.8888888888888888,
              "#fdca26"
             ],
             [
              1,
              "#f0f921"
             ]
            ],
            "type": "surface"
           }
          ],
          "table": [
           {
            "cells": {
             "fill": {
              "color": "#EBF0F8"
             },
             "line": {
              "color": "white"
             }
            },
            "header": {
             "fill": {
              "color": "#C8D4E3"
             },
             "line": {
              "color": "white"
             }
            },
            "type": "table"
           }
          ]
         },
         "layout": {
          "annotationdefaults": {
           "arrowcolor": "#2a3f5f",
           "arrowhead": 0,
           "arrowwidth": 1
          },
          "autotypenumbers": "strict",
          "coloraxis": {
           "colorbar": {
            "outlinewidth": 0,
            "ticks": ""
           }
          },
          "colorscale": {
           "diverging": [
            [
             0,
             "#8e0152"
            ],
            [
             0.1,
             "#c51b7d"
            ],
            [
             0.2,
             "#de77ae"
            ],
            [
             0.3,
             "#f1b6da"
            ],
            [
             0.4,
             "#fde0ef"
            ],
            [
             0.5,
             "#f7f7f7"
            ],
            [
             0.6,
             "#e6f5d0"
            ],
            [
             0.7,
             "#b8e186"
            ],
            [
             0.8,
             "#7fbc41"
            ],
            [
             0.9,
             "#4d9221"
            ],
            [
             1,
             "#276419"
            ]
           ],
           "sequential": [
            [
             0,
             "#0d0887"
            ],
            [
             0.1111111111111111,
             "#46039f"
            ],
            [
             0.2222222222222222,
             "#7201a8"
            ],
            [
             0.3333333333333333,
             "#9c179e"
            ],
            [
             0.4444444444444444,
             "#bd3786"
            ],
            [
             0.5555555555555556,
             "#d8576b"
            ],
            [
             0.6666666666666666,
             "#ed7953"
            ],
            [
             0.7777777777777778,
             "#fb9f3a"
            ],
            [
             0.8888888888888888,
             "#fdca26"
            ],
            [
             1,
             "#f0f921"
            ]
           ],
           "sequentialminus": [
            [
             0,
             "#0d0887"
            ],
            [
             0.1111111111111111,
             "#46039f"
            ],
            [
             0.2222222222222222,
             "#7201a8"
            ],
            [
             0.3333333333333333,
             "#9c179e"
            ],
            [
             0.4444444444444444,
             "#bd3786"
            ],
            [
             0.5555555555555556,
             "#d8576b"
            ],
            [
             0.6666666666666666,
             "#ed7953"
            ],
            [
             0.7777777777777778,
             "#fb9f3a"
            ],
            [
             0.8888888888888888,
             "#fdca26"
            ],
            [
             1,
             "#f0f921"
            ]
           ]
          },
          "colorway": [
           "#636efa",
           "#EF553B",
           "#00cc96",
           "#ab63fa",
           "#FFA15A",
           "#19d3f3",
           "#FF6692",
           "#B6E880",
           "#FF97FF",
           "#FECB52"
          ],
          "font": {
           "color": "#2a3f5f"
          },
          "geo": {
           "bgcolor": "white",
           "lakecolor": "white",
           "landcolor": "#E5ECF6",
           "showlakes": true,
           "showland": true,
           "subunitcolor": "white"
          },
          "hoverlabel": {
           "align": "left"
          },
          "hovermode": "closest",
          "mapbox": {
           "style": "light"
          },
          "paper_bgcolor": "white",
          "plot_bgcolor": "#E5ECF6",
          "polar": {
           "angularaxis": {
            "gridcolor": "white",
            "linecolor": "white",
            "ticks": ""
           },
           "bgcolor": "#E5ECF6",
           "radialaxis": {
            "gridcolor": "white",
            "linecolor": "white",
            "ticks": ""
           }
          },
          "scene": {
           "xaxis": {
            "backgroundcolor": "#E5ECF6",
            "gridcolor": "white",
            "gridwidth": 2,
            "linecolor": "white",
            "showbackground": true,
            "ticks": "",
            "zerolinecolor": "white"
           },
           "yaxis": {
            "backgroundcolor": "#E5ECF6",
            "gridcolor": "white",
            "gridwidth": 2,
            "linecolor": "white",
            "showbackground": true,
            "ticks": "",
            "zerolinecolor": "white"
           },
           "zaxis": {
            "backgroundcolor": "#E5ECF6",
            "gridcolor": "white",
            "gridwidth": 2,
            "linecolor": "white",
            "showbackground": true,
            "ticks": "",
            "zerolinecolor": "white"
           }
          },
          "shapedefaults": {
           "line": {
            "color": "#2a3f5f"
           }
          },
          "ternary": {
           "aaxis": {
            "gridcolor": "white",
            "linecolor": "white",
            "ticks": ""
           },
           "baxis": {
            "gridcolor": "white",
            "linecolor": "white",
            "ticks": ""
           },
           "bgcolor": "#E5ECF6",
           "caxis": {
            "gridcolor": "white",
            "linecolor": "white",
            "ticks": ""
           }
          },
          "title": {
           "x": 0.05
          },
          "xaxis": {
           "automargin": true,
           "gridcolor": "white",
           "linecolor": "white",
           "ticks": "",
           "title": {
            "standoff": 15
           },
           "zerolinecolor": "white",
           "zerolinewidth": 2
          },
          "yaxis": {
           "automargin": true,
           "gridcolor": "white",
           "linecolor": "white",
           "ticks": "",
           "title": {
            "standoff": 15
           },
           "zerolinecolor": "white",
           "zerolinewidth": 2
          }
         }
        },
        "title": {
         "text": "Estimation de la vraisemblance par IWAE"
        },
        "xaxis": {
         "tickfont": {
          "size": 12
         },
         "title": {
          "text": "Theta"
         }
        },
        "yaxis": {
         "range": [
          -300,
          500
         ],
         "tickfont": {
          "size": 12
         },
         "title": {
          "text": "Vraisemblance"
         }
        }
       }
      }
     },
     "metadata": {},
     "output_type": "display_data"
    }
   ],
   "source": [
    "k_IWAE = 5\n",
    "\n",
    "Code.plot_likelihood(r, x, noised_A, noised_b, theta_true,  n_simulations, k_IWAE, \"IWAE\")"
   ]
  },
  {
   "cell_type": "code",
   "execution_count": 7,
   "metadata": {},
   "outputs": [
    {
     "data": {
      "application/vnd.plotly.v1+json": {
       "config": {
        "plotlyServerURL": "https://plot.ly"
       },
       "data": [
        {
         "line": {
          "color": "red"
         },
         "mode": "lines",
         "name": "True Gradient",
         "type": "scatter",
         "x": [
          -5.049100556476373,
          -4.845018923823312,
          -4.64093729117025,
          -4.436855658517189,
          -4.232774025864128,
          -4.028692393211067,
          -3.8246107605580053,
          -3.620529127904944,
          -3.416447495251883,
          -3.212365862598822,
          -3.0082842299457604,
          -2.804202597292699,
          -2.600120964639638,
          -2.396039331986577,
          -2.1919576993335155,
          -1.987876066680454,
          -1.783794434027393,
          -1.579712801374332,
          -1.3756311687212706,
          -1.171549536068209,
          -0.9674679034151481,
          -0.7633862707620871,
          -0.5593046381090252,
          -0.3552230054559642,
          -0.15114137280290318,
          0.05294025985015782,
          0.25702189250321883,
          0.4611035251562807,
          0.6651851578093417,
          0.8692667904624027,
          1.0733484231154646,
          1.2774300557685256,
          1.4815116884215866,
          1.6855933210746477,
          1.8896749537277087,
          2.0937565863807706,
          2.2978382190338316,
          2.5019198516868926,
          2.7060014843399545,
          2.9100831169930155,
          3.1141647496460765,
          3.3182463822991375,
          3.5223280149521985,
          3.7264096476052595,
          3.9304912802583223,
          4.134572912911383,
          4.338654545564444,
          4.542736178217505,
          4.746817810870566,
          4.950899443523627
         ],
         "y": [
          56.72565880845987,
          54.68484248192926,
          52.64402615539864,
          50.60320982886803,
          48.56239350233742,
          46.52157717580681,
          44.480760849276194,
          42.43994452274558,
          40.399128196214974,
          38.35831186968436,
          36.31749554315375,
          34.27667921662313,
          32.23586289009252,
          30.19504656356191,
          28.154230237031296,
          26.113413910500682,
          24.072597583970072,
          22.031781257439462,
          19.99096493090885,
          17.950148604378235,
          15.909332277847623,
          13.868515951317013,
          11.827699624786394,
          9.786883298255784,
          7.746066971725174,
          5.705250645194564,
          3.664434318663954,
          1.623617992133335,
          -0.41719833439727516,
          -2.4580146609278852,
          -4.498830987458504,
          -6.539647313989114,
          -8.580463640519724,
          -10.621279967050334,
          -12.662096293580944,
          -14.702912620111563,
          -16.74372894664217,
          -18.78454527317278,
          -20.825361599703403,
          -22.866177926234013,
          -24.906994252764623,
          -26.947810579295233,
          -28.988626905825843,
          -31.029443232356453,
          -33.07025955888708,
          -35.11107588541769,
          -37.1518922119483,
          -39.19270853847891,
          -41.23352486500952,
          -43.27434119154013
         ]
        },
        {
         "marker": {
          "color": "purple",
          "symbol": "x"
         },
         "mode": "markers",
         "name": "IWAE",
         "type": "scatter",
         "x": [
          -5.049100556476373,
          -4.845018923823312,
          -4.64093729117025,
          -4.436855658517189,
          -4.232774025864128,
          -4.028692393211067,
          -3.8246107605580053,
          -3.620529127904944,
          -3.416447495251883,
          -3.212365862598822,
          -3.0082842299457604,
          -2.804202597292699,
          -2.600120964639638,
          -2.396039331986577,
          -2.1919576993335155,
          -1.987876066680454,
          -1.783794434027393,
          -1.579712801374332,
          -1.3756311687212706,
          -1.171549536068209,
          -0.9674679034151481,
          -0.7633862707620871,
          -0.5593046381090252,
          -0.3552230054559642,
          -0.15114137280290318,
          0.05294025985015782,
          0.25702189250321883,
          0.4611035251562807,
          0.6651851578093417,
          0.8692667904624027,
          1.0733484231154646,
          1.2774300557685256,
          1.4815116884215866,
          1.6855933210746477,
          1.8896749537277087,
          2.0937565863807706,
          2.2978382190338316,
          2.5019198516868926,
          2.7060014843399545,
          2.9100831169930155,
          3.1141647496460765,
          3.3182463822991375,
          3.5223280149521985,
          3.7264096476052595,
          3.9304912802583223,
          4.134572912911383,
          4.338654545564444,
          4.542736178217505,
          4.746817810870566,
          4.950899443523627
         ],
         "y": [
          19.063814541902616,
          16.441635897716736,
          18.383161457167645,
          15.259274455458225,
          15.461351388861885,
          20.491149672535172,
          17.243593626729137,
          15.606281952718547,
          10.104106977905175,
          13.022075587851631,
          15.229791601906307,
          11.823174856783503,
          13.128526827250319,
          10.322096430488443,
          7.310789619920854,
          8.320717305727165,
          7.383856004901148,
          6.740510160326487,
          6.597268779816503,
          4.982217066687937,
          4.915948896091955,
          3.7362620115560645,
          2.7376123121237974,
          2.129846482040371,
          1.60879633373035,
          1.2839827882931623,
          0.49805898278412997,
          0.054829418536918695,
          -0.4008986505340282,
          -1.4683135871174073,
          -2.6438713110458174,
          -3.5711282049093533,
          -4.16824468409342,
          -5.271415752346012,
          -5.6983136311370615,
          -6.475770594036479,
          -9.205609493256777,
          -7.884770989447645,
          -7.493883448084475,
          -11.3494050025325,
          -8.546595580201021,
          -11.170702219340747,
          -14.668535843632114,
          -10.622991858474734,
          -16.672372132809812,
          -16.175762793487067,
          -11.61160247699543,
          -16.785693764247654,
          -15.745218420171355,
          -12.316949825203125
         ]
        }
       ],
       "layout": {
        "legend": {
         "font": {
          "size": 12
         },
         "traceorder": "normal",
         "x": 0,
         "y": 1
        },
        "shapes": [
         {
          "line": {
           "color": "black",
           "dash": "dash",
           "width": 2
          },
          "name": "theta=-0.04910055647637311",
          "type": "line",
          "x0": -0.04910055647637311,
          "x1": -0.04910055647637311,
          "y0": -43.27434119154013,
          "y1": 56.72565880845987
         }
        ],
        "showlegend": true,
        "template": {
         "data": {
          "bar": [
           {
            "error_x": {
             "color": "#2a3f5f"
            },
            "error_y": {
             "color": "#2a3f5f"
            },
            "marker": {
             "line": {
              "color": "#E5ECF6",
              "width": 0.5
             },
             "pattern": {
              "fillmode": "overlay",
              "size": 10,
              "solidity": 0.2
             }
            },
            "type": "bar"
           }
          ],
          "barpolar": [
           {
            "marker": {
             "line": {
              "color": "#E5ECF6",
              "width": 0.5
             },
             "pattern": {
              "fillmode": "overlay",
              "size": 10,
              "solidity": 0.2
             }
            },
            "type": "barpolar"
           }
          ],
          "carpet": [
           {
            "aaxis": {
             "endlinecolor": "#2a3f5f",
             "gridcolor": "white",
             "linecolor": "white",
             "minorgridcolor": "white",
             "startlinecolor": "#2a3f5f"
            },
            "baxis": {
             "endlinecolor": "#2a3f5f",
             "gridcolor": "white",
             "linecolor": "white",
             "minorgridcolor": "white",
             "startlinecolor": "#2a3f5f"
            },
            "type": "carpet"
           }
          ],
          "choropleth": [
           {
            "colorbar": {
             "outlinewidth": 0,
             "ticks": ""
            },
            "type": "choropleth"
           }
          ],
          "contour": [
           {
            "colorbar": {
             "outlinewidth": 0,
             "ticks": ""
            },
            "colorscale": [
             [
              0,
              "#0d0887"
             ],
             [
              0.1111111111111111,
              "#46039f"
             ],
             [
              0.2222222222222222,
              "#7201a8"
             ],
             [
              0.3333333333333333,
              "#9c179e"
             ],
             [
              0.4444444444444444,
              "#bd3786"
             ],
             [
              0.5555555555555556,
              "#d8576b"
             ],
             [
              0.6666666666666666,
              "#ed7953"
             ],
             [
              0.7777777777777778,
              "#fb9f3a"
             ],
             [
              0.8888888888888888,
              "#fdca26"
             ],
             [
              1,
              "#f0f921"
             ]
            ],
            "type": "contour"
           }
          ],
          "contourcarpet": [
           {
            "colorbar": {
             "outlinewidth": 0,
             "ticks": ""
            },
            "type": "contourcarpet"
           }
          ],
          "heatmap": [
           {
            "colorbar": {
             "outlinewidth": 0,
             "ticks": ""
            },
            "colorscale": [
             [
              0,
              "#0d0887"
             ],
             [
              0.1111111111111111,
              "#46039f"
             ],
             [
              0.2222222222222222,
              "#7201a8"
             ],
             [
              0.3333333333333333,
              "#9c179e"
             ],
             [
              0.4444444444444444,
              "#bd3786"
             ],
             [
              0.5555555555555556,
              "#d8576b"
             ],
             [
              0.6666666666666666,
              "#ed7953"
             ],
             [
              0.7777777777777778,
              "#fb9f3a"
             ],
             [
              0.8888888888888888,
              "#fdca26"
             ],
             [
              1,
              "#f0f921"
             ]
            ],
            "type": "heatmap"
           }
          ],
          "heatmapgl": [
           {
            "colorbar": {
             "outlinewidth": 0,
             "ticks": ""
            },
            "colorscale": [
             [
              0,
              "#0d0887"
             ],
             [
              0.1111111111111111,
              "#46039f"
             ],
             [
              0.2222222222222222,
              "#7201a8"
             ],
             [
              0.3333333333333333,
              "#9c179e"
             ],
             [
              0.4444444444444444,
              "#bd3786"
             ],
             [
              0.5555555555555556,
              "#d8576b"
             ],
             [
              0.6666666666666666,
              "#ed7953"
             ],
             [
              0.7777777777777778,
              "#fb9f3a"
             ],
             [
              0.8888888888888888,
              "#fdca26"
             ],
             [
              1,
              "#f0f921"
             ]
            ],
            "type": "heatmapgl"
           }
          ],
          "histogram": [
           {
            "marker": {
             "pattern": {
              "fillmode": "overlay",
              "size": 10,
              "solidity": 0.2
             }
            },
            "type": "histogram"
           }
          ],
          "histogram2d": [
           {
            "colorbar": {
             "outlinewidth": 0,
             "ticks": ""
            },
            "colorscale": [
             [
              0,
              "#0d0887"
             ],
             [
              0.1111111111111111,
              "#46039f"
             ],
             [
              0.2222222222222222,
              "#7201a8"
             ],
             [
              0.3333333333333333,
              "#9c179e"
             ],
             [
              0.4444444444444444,
              "#bd3786"
             ],
             [
              0.5555555555555556,
              "#d8576b"
             ],
             [
              0.6666666666666666,
              "#ed7953"
             ],
             [
              0.7777777777777778,
              "#fb9f3a"
             ],
             [
              0.8888888888888888,
              "#fdca26"
             ],
             [
              1,
              "#f0f921"
             ]
            ],
            "type": "histogram2d"
           }
          ],
          "histogram2dcontour": [
           {
            "colorbar": {
             "outlinewidth": 0,
             "ticks": ""
            },
            "colorscale": [
             [
              0,
              "#0d0887"
             ],
             [
              0.1111111111111111,
              "#46039f"
             ],
             [
              0.2222222222222222,
              "#7201a8"
             ],
             [
              0.3333333333333333,
              "#9c179e"
             ],
             [
              0.4444444444444444,
              "#bd3786"
             ],
             [
              0.5555555555555556,
              "#d8576b"
             ],
             [
              0.6666666666666666,
              "#ed7953"
             ],
             [
              0.7777777777777778,
              "#fb9f3a"
             ],
             [
              0.8888888888888888,
              "#fdca26"
             ],
             [
              1,
              "#f0f921"
             ]
            ],
            "type": "histogram2dcontour"
           }
          ],
          "mesh3d": [
           {
            "colorbar": {
             "outlinewidth": 0,
             "ticks": ""
            },
            "type": "mesh3d"
           }
          ],
          "parcoords": [
           {
            "line": {
             "colorbar": {
              "outlinewidth": 0,
              "ticks": ""
             }
            },
            "type": "parcoords"
           }
          ],
          "pie": [
           {
            "automargin": true,
            "type": "pie"
           }
          ],
          "scatter": [
           {
            "fillpattern": {
             "fillmode": "overlay",
             "size": 10,
             "solidity": 0.2
            },
            "type": "scatter"
           }
          ],
          "scatter3d": [
           {
            "line": {
             "colorbar": {
              "outlinewidth": 0,
              "ticks": ""
             }
            },
            "marker": {
             "colorbar": {
              "outlinewidth": 0,
              "ticks": ""
             }
            },
            "type": "scatter3d"
           }
          ],
          "scattercarpet": [
           {
            "marker": {
             "colorbar": {
              "outlinewidth": 0,
              "ticks": ""
             }
            },
            "type": "scattercarpet"
           }
          ],
          "scattergeo": [
           {
            "marker": {
             "colorbar": {
              "outlinewidth": 0,
              "ticks": ""
             }
            },
            "type": "scattergeo"
           }
          ],
          "scattergl": [
           {
            "marker": {
             "colorbar": {
              "outlinewidth": 0,
              "ticks": ""
             }
            },
            "type": "scattergl"
           }
          ],
          "scattermapbox": [
           {
            "marker": {
             "colorbar": {
              "outlinewidth": 0,
              "ticks": ""
             }
            },
            "type": "scattermapbox"
           }
          ],
          "scatterpolar": [
           {
            "marker": {
             "colorbar": {
              "outlinewidth": 0,
              "ticks": ""
             }
            },
            "type": "scatterpolar"
           }
          ],
          "scatterpolargl": [
           {
            "marker": {
             "colorbar": {
              "outlinewidth": 0,
              "ticks": ""
             }
            },
            "type": "scatterpolargl"
           }
          ],
          "scatterternary": [
           {
            "marker": {
             "colorbar": {
              "outlinewidth": 0,
              "ticks": ""
             }
            },
            "type": "scatterternary"
           }
          ],
          "surface": [
           {
            "colorbar": {
             "outlinewidth": 0,
             "ticks": ""
            },
            "colorscale": [
             [
              0,
              "#0d0887"
             ],
             [
              0.1111111111111111,
              "#46039f"
             ],
             [
              0.2222222222222222,
              "#7201a8"
             ],
             [
              0.3333333333333333,
              "#9c179e"
             ],
             [
              0.4444444444444444,
              "#bd3786"
             ],
             [
              0.5555555555555556,
              "#d8576b"
             ],
             [
              0.6666666666666666,
              "#ed7953"
             ],
             [
              0.7777777777777778,
              "#fb9f3a"
             ],
             [
              0.8888888888888888,
              "#fdca26"
             ],
             [
              1,
              "#f0f921"
             ]
            ],
            "type": "surface"
           }
          ],
          "table": [
           {
            "cells": {
             "fill": {
              "color": "#EBF0F8"
             },
             "line": {
              "color": "white"
             }
            },
            "header": {
             "fill": {
              "color": "#C8D4E3"
             },
             "line": {
              "color": "white"
             }
            },
            "type": "table"
           }
          ]
         },
         "layout": {
          "annotationdefaults": {
           "arrowcolor": "#2a3f5f",
           "arrowhead": 0,
           "arrowwidth": 1
          },
          "autotypenumbers": "strict",
          "coloraxis": {
           "colorbar": {
            "outlinewidth": 0,
            "ticks": ""
           }
          },
          "colorscale": {
           "diverging": [
            [
             0,
             "#8e0152"
            ],
            [
             0.1,
             "#c51b7d"
            ],
            [
             0.2,
             "#de77ae"
            ],
            [
             0.3,
             "#f1b6da"
            ],
            [
             0.4,
             "#fde0ef"
            ],
            [
             0.5,
             "#f7f7f7"
            ],
            [
             0.6,
             "#e6f5d0"
            ],
            [
             0.7,
             "#b8e186"
            ],
            [
             0.8,
             "#7fbc41"
            ],
            [
             0.9,
             "#4d9221"
            ],
            [
             1,
             "#276419"
            ]
           ],
           "sequential": [
            [
             0,
             "#0d0887"
            ],
            [
             0.1111111111111111,
             "#46039f"
            ],
            [
             0.2222222222222222,
             "#7201a8"
            ],
            [
             0.3333333333333333,
             "#9c179e"
            ],
            [
             0.4444444444444444,
             "#bd3786"
            ],
            [
             0.5555555555555556,
             "#d8576b"
            ],
            [
             0.6666666666666666,
             "#ed7953"
            ],
            [
             0.7777777777777778,
             "#fb9f3a"
            ],
            [
             0.8888888888888888,
             "#fdca26"
            ],
            [
             1,
             "#f0f921"
            ]
           ],
           "sequentialminus": [
            [
             0,
             "#0d0887"
            ],
            [
             0.1111111111111111,
             "#46039f"
            ],
            [
             0.2222222222222222,
             "#7201a8"
            ],
            [
             0.3333333333333333,
             "#9c179e"
            ],
            [
             0.4444444444444444,
             "#bd3786"
            ],
            [
             0.5555555555555556,
             "#d8576b"
            ],
            [
             0.6666666666666666,
             "#ed7953"
            ],
            [
             0.7777777777777778,
             "#fb9f3a"
            ],
            [
             0.8888888888888888,
             "#fdca26"
            ],
            [
             1,
             "#f0f921"
            ]
           ]
          },
          "colorway": [
           "#636efa",
           "#EF553B",
           "#00cc96",
           "#ab63fa",
           "#FFA15A",
           "#19d3f3",
           "#FF6692",
           "#B6E880",
           "#FF97FF",
           "#FECB52"
          ],
          "font": {
           "color": "#2a3f5f"
          },
          "geo": {
           "bgcolor": "white",
           "lakecolor": "white",
           "landcolor": "#E5ECF6",
           "showlakes": true,
           "showland": true,
           "subunitcolor": "white"
          },
          "hoverlabel": {
           "align": "left"
          },
          "hovermode": "closest",
          "mapbox": {
           "style": "light"
          },
          "paper_bgcolor": "white",
          "plot_bgcolor": "#E5ECF6",
          "polar": {
           "angularaxis": {
            "gridcolor": "white",
            "linecolor": "white",
            "ticks": ""
           },
           "bgcolor": "#E5ECF6",
           "radialaxis": {
            "gridcolor": "white",
            "linecolor": "white",
            "ticks": ""
           }
          },
          "scene": {
           "xaxis": {
            "backgroundcolor": "#E5ECF6",
            "gridcolor": "white",
            "gridwidth": 2,
            "linecolor": "white",
            "showbackground": true,
            "ticks": "",
            "zerolinecolor": "white"
           },
           "yaxis": {
            "backgroundcolor": "#E5ECF6",
            "gridcolor": "white",
            "gridwidth": 2,
            "linecolor": "white",
            "showbackground": true,
            "ticks": "",
            "zerolinecolor": "white"
           },
           "zaxis": {
            "backgroundcolor": "#E5ECF6",
            "gridcolor": "white",
            "gridwidth": 2,
            "linecolor": "white",
            "showbackground": true,
            "ticks": "",
            "zerolinecolor": "white"
           }
          },
          "shapedefaults": {
           "line": {
            "color": "#2a3f5f"
           }
          },
          "ternary": {
           "aaxis": {
            "gridcolor": "white",
            "linecolor": "white",
            "ticks": ""
           },
           "baxis": {
            "gridcolor": "white",
            "linecolor": "white",
            "ticks": ""
           },
           "bgcolor": "#E5ECF6",
           "caxis": {
            "gridcolor": "white",
            "linecolor": "white",
            "ticks": ""
           }
          },
          "title": {
           "x": 0.05
          },
          "xaxis": {
           "automargin": true,
           "gridcolor": "white",
           "linecolor": "white",
           "ticks": "",
           "title": {
            "standoff": 15
           },
           "zerolinecolor": "white",
           "zerolinewidth": 2
          },
          "yaxis": {
           "automargin": true,
           "gridcolor": "white",
           "linecolor": "white",
           "ticks": "",
           "title": {
            "standoff": 15
           },
           "zerolinecolor": "white",
           "zerolinewidth": 2
          }
         }
        },
        "title": {
         "text": "Estimation du gradient par IWAE"
        },
        "xaxis": {
         "title": {
          "text": "Theta"
         }
        },
        "yaxis": {
         "title": {
          "text": "Gradient"
         }
        }
       }
      }
     },
     "metadata": {},
     "output_type": "display_data"
    }
   ],
   "source": [
    "Code.plot_gradient(r, x, noised_A, noised_b, theta_true, n_simulations, 'IWAE')"
   ]
  },
  {
   "cell_type": "markdown",
   "metadata": {},
   "source": [
    "### <span style=\"color:orange\">  **1.4 Comparaison entre les différents estimateurs**  </span>\n",
    "\n",
    "Dans cette partie, nous allons comparer les estimateurs sur un même graphique. "
   ]
  },
  {
   "cell_type": "code",
   "execution_count": null,
   "metadata": {},
   "outputs": [
    {
     "name": "stderr",
     "output_type": "stream",
     "text": [
      "Progression: 100%|██████████| 60/60 [02:06<00:00,  2.11s/it]\n"
     ]
    },
    {
     "data": {
      "application/vnd.plotly.v1+json": {
       "config": {
        "plotlyServerURL": "https://plot.ly"
       },
       "data": [
        {
         "line": {
          "color": "red"
         },
         "mode": "lines",
         "name": "True likelihood",
         "type": "scatter",
         "x": [
          -2.9388223082554052,
          -2.7693307828316764,
          -2.5998392574079476,
          -2.430347731984219,
          -2.26085620656049,
          -2.091364681136761,
          -1.9218731557130324,
          -1.7523816302893036,
          -1.5828901048655748,
          -1.413398579441846,
          -1.2439070540181172,
          -1.0744155285943884,
          -0.9049240031706596,
          -0.7354324777469308,
          -0.565940952323202,
          -0.39644942689947316,
          -0.22695790147574435,
          -0.057466376052015544,
          0.11202514937171326,
          0.28151667479544207,
          0.4510082002191709,
          0.6204997256428997,
          0.7899912510666285,
          0.9594827764903573,
          1.128974301914086,
          1.2984658273378145,
          1.4679573527615437,
          1.637448878185273,
          1.8069404036090013,
          1.9764319290327297,
          2.145923454456459,
          2.315414979880188,
          2.4849065053039165,
          2.654398030727645,
          2.823889556151374,
          2.9933810815751034,
          3.1628726069988318,
          3.33236413242256,
          3.5018556578462894,
          3.6713471832700186,
          3.840838708693747,
          4.010330234117475,
          4.179821759541205,
          4.349313284964934,
          4.518804810388662,
          4.688296335812391,
          4.85778786123612,
          5.027279386659849,
          5.196770912083577,
          5.366262437507306,
          5.535753962931034,
          5.705245488354764,
          5.874737013778493,
          6.044228539202221,
          6.213720064625951,
          6.3832115900496795,
          6.552703115473408,
          6.722194640897136,
          6.891686166320865,
          7.061177691744595
         ],
         "y": [
          -152.99269754297242,
          -144.63895362400115,
          -136.57248347693448,
          -128.79328710177245,
          -121.30136449851506,
          -114.09671566716226,
          -107.17934060771411,
          -100.54923932017059,
          -94.20641180453167,
          -88.15085806079739,
          -82.38257808896776,
          -76.90157188904271,
          -71.70783946102232,
          -66.80138080490653,
          -62.182195920695364,
          -57.85028480838884,
          -53.80564746798694,
          -50.048283899489654,
          -46.57819410289701,
          -43.39537807820897,
          -40.49983582542556,
          -37.89156734454679,
          -35.57057263557264,
          -33.536851698503106,
          -31.790404533338204,
          -30.33123114007793,
          -29.159331518722272,
          -28.27470566927124,
          -27.677353591724835,
          -27.36727528608306,
          -27.344470752345906,
          -27.608939990513377,
          -28.160683000585475,
          -28.999699782562192,
          -30.125990336443543,
          -31.539554662229516,
          -33.24039275992011,
          -35.228504629515335,
          -37.50389027101518,
          -40.06654968441966,
          -42.91648286972875,
          -46.05368982694247,
          -49.478170556060824,
          -53.189925057083805,
          -57.18895333001139,
          -61.4752553748436,
          -66.04883119158046,
          -70.90968078022195,
          -76.05780414076803,
          -81.49320127321874,
          -87.21587217757407,
          -93.2258168538341,
          -99.52303530199869,
          -106.10752752206788,
          -112.97929351404179,
          -120.13833327792025,
          -127.5846468137033,
          -135.31823412139101,
          -143.33909520098337,
          -151.6472300524804
         ]
        },
        {
         "marker": {
          "color": "purple",
          "symbol": "x"
         },
         "mode": "markers",
         "name": "IWAE",
         "type": "scatter",
         "x": [
          -2.9388223082554052,
          -2.7693307828316764,
          -2.5998392574079476,
          -2.430347731984219,
          -2.26085620656049,
          -2.091364681136761,
          -1.9218731557130324,
          -1.7523816302893036,
          -1.5828901048655748,
          -1.413398579441846,
          -1.2439070540181172,
          -1.0744155285943884,
          -0.9049240031706596,
          -0.7354324777469308,
          -0.565940952323202,
          -0.39644942689947316,
          -0.22695790147574435,
          -0.057466376052015544,
          0.11202514937171326,
          0.28151667479544207,
          0.4510082002191709,
          0.6204997256428997,
          0.7899912510666285,
          0.9594827764903573,
          1.128974301914086,
          1.2984658273378145,
          1.4679573527615437,
          1.637448878185273,
          1.8069404036090013,
          1.9764319290327297,
          2.145923454456459,
          2.315414979880188,
          2.4849065053039165,
          2.654398030727645,
          2.823889556151374,
          2.9933810815751034,
          3.1628726069988318,
          3.33236413242256,
          3.5018556578462894,
          3.6713471832700186,
          3.840838708693747,
          4.010330234117475,
          4.179821759541205,
          4.349313284964934,
          4.518804810388662,
          4.688296335812391,
          4.85778786123612,
          5.027279386659849,
          5.196770912083577,
          5.366262437507306,
          5.535753962931034,
          5.705245488354764,
          5.874737013778493,
          6.044228539202221,
          6.213720064625951,
          6.3832115900496795,
          6.552703115473408,
          6.722194640897136,
          6.891686166320865,
          7.061177691744595
         ],
         "y": [
          -260.2862477438511,
          -249.25308382460662,
          -232.12633656938962,
          -217.55756297209197,
          -182.9546950457394,
          -169.7131270675972,
          -136.98152127565385,
          -171.65802980642093,
          -146.26058655865558,
          -147.16589582854888,
          -97.69936860043822,
          -122.85149023134582,
          -15.01527564582078,
          -101.41736910459025,
          -66.91932189069112,
          -32.30662494455979,
          -74.0410946335605,
          -74.43312214321432,
          -58.8109063944339,
          -58.163906734948384,
          -52.930708296665266,
          -30.0676339337092,
          -46.85194209874294,
          -42.23152011476024,
          -37.72394944439823,
          -38.85681792879663,
          -36.986158470209396,
          -35.59727560307759,
          -34.71524223918108,
          -34.377283289621985,
          -34.20227509095696,
          -34.35490797343885,
          -35.27334854962125,
          -37.141537824434366,
          -38.06497119639184,
          -40.18985504143286,
          -42.2164829080931,
          -46.92837272485297,
          -52.452297359422964,
          -54.53352417080831,
          -52.49300001288308,
          -46.93137669799221,
          -70.81586528100166,
          -75.04834557888785,
          -84.2460763833822,
          -69.47561344520543,
          -104.87669813192942,
          -111.90539364689158,
          -102.27969828099917,
          -127.18298569984076,
          -147.68349695306284,
          -148.54851091232192,
          -162.8415087521799,
          -169.11212901364186,
          -191.3946569802408,
          -205.6805870887021,
          -225.09298772363567,
          -209.42158086477153,
          -253.0168976694892,
          -228.08441836359816
         ]
        },
        {
         "marker": {
          "color": "orange",
          "symbol": "x"
         },
         "mode": "markers",
         "name": "ML_SS",
         "type": "scatter",
         "x": [
          -2.9388223082554052,
          -2.7693307828316764,
          -2.5998392574079476,
          -2.430347731984219,
          -2.26085620656049,
          -2.091364681136761,
          -1.9218731557130324,
          -1.7523816302893036,
          -1.5828901048655748,
          -1.413398579441846,
          -1.2439070540181172,
          -1.0744155285943884,
          -0.9049240031706596,
          -0.7354324777469308,
          -0.565940952323202,
          -0.39644942689947316,
          -0.22695790147574435,
          -0.057466376052015544,
          0.11202514937171326,
          0.28151667479544207,
          0.4510082002191709,
          0.6204997256428997,
          0.7899912510666285,
          0.9594827764903573,
          1.128974301914086,
          1.2984658273378145,
          1.4679573527615437,
          1.637448878185273,
          1.8069404036090013,
          1.9764319290327297,
          2.145923454456459,
          2.315414979880188,
          2.4849065053039165,
          2.654398030727645,
          2.823889556151374,
          2.9933810815751034,
          3.1628726069988318,
          3.33236413242256,
          3.5018556578462894,
          3.6713471832700186,
          3.840838708693747,
          4.010330234117475,
          4.179821759541205,
          4.349313284964934,
          4.518804810388662,
          4.688296335812391,
          4.85778786123612,
          5.027279386659849,
          5.196770912083577,
          5.366262437507306,
          5.535753962931034,
          5.705245488354764,
          5.874737013778493,
          6.044228539202221,
          6.213720064625951,
          6.3832115900496795,
          6.552703115473408,
          6.722194640897136,
          6.891686166320865,
          7.061177691744595
         ],
         "y": [
          -250.39924243285608,
          -177.83172269541046,
          -221.1869702070674,
          -194.24028138768128,
          -205.1435932621012,
          -150.7358806908505,
          -151.87256546407386,
          -151.8135195977764,
          -90.9778319125921,
          -106.21412833877746,
          -109.54851402039853,
          -48.681925214147,
          14.675346102052517,
          -71.9257842527498,
          -89.59003947113982,
          -82.41923669948129,
          -65.23882064746061,
          -64.03302455302655,
          -57.73176014601399,
          -53.56402100660201,
          -48.531373290116306,
          -44.08389430571197,
          -40.25882698888829,
          -38.39968420839997,
          -36.851172893259914,
          -36.68902430186118,
          -35.74570636663084,
          -35.06348954254329,
          -34.36989946828617,
          -33.53503586596499,
          -34.10620282150409,
          -33.73257830272039,
          -33.13924830335271,
          -34.29561570695089,
          -34.06223703408389,
          -39.21319067701437,
          -40.7720419229224,
          -42.648187051260685,
          -47.54357181083491,
          -52.51343642750762,
          -34.45959398284549,
          -56.81363547180188,
          -65.1205415816822,
          -70.46624992026919,
          -70.84515018621282,
          -72.18583224950572,
          -91.01130763466072,
          87.55953855665759,
          -112.66723339409378,
          -120.8729635306893,
          -134.62207154740105,
          -145.07779528773563,
          -151.56564541857432,
          -168.34101477384993,
          -149.2498577561369,
          -156.60258348728365,
          -185.07329403673097,
          12832.611669611731,
          -226.02191492009757,
          -261.0478270395253
         ]
        },
        {
         "marker": {
          "color": "green",
          "symbol": "x"
         },
         "mode": "markers",
         "name": "ML_RR",
         "type": "scatter",
         "x": [
          -2.9388223082554052,
          -2.7693307828316764,
          -2.5998392574079476,
          -2.430347731984219,
          -2.26085620656049,
          -2.091364681136761,
          -1.9218731557130324,
          -1.7523816302893036,
          -1.5828901048655748,
          -1.413398579441846,
          -1.2439070540181172,
          -1.0744155285943884,
          -0.9049240031706596,
          -0.7354324777469308,
          -0.565940952323202,
          -0.39644942689947316,
          -0.22695790147574435,
          -0.057466376052015544,
          0.11202514937171326,
          0.28151667479544207,
          0.4510082002191709,
          0.6204997256428997,
          0.7899912510666285,
          0.9594827764903573,
          1.128974301914086,
          1.2984658273378145,
          1.4679573527615437,
          1.637448878185273,
          1.8069404036090013,
          1.9764319290327297,
          2.145923454456459,
          2.315414979880188,
          2.4849065053039165,
          2.654398030727645,
          2.823889556151374,
          2.9933810815751034,
          3.1628726069988318,
          3.33236413242256,
          3.5018556578462894,
          3.6713471832700186,
          3.840838708693747,
          4.010330234117475,
          4.179821759541205,
          4.349313284964934,
          4.518804810388662,
          4.688296335812391,
          4.85778786123612,
          5.027279386659849,
          5.196770912083577,
          5.366262437507306,
          5.535753962931034,
          5.705245488354764,
          5.874737013778493,
          6.044228539202221,
          6.213720064625951,
          6.3832115900496795,
          6.552703115473408,
          6.722194640897136,
          6.891686166320865,
          7.061177691744595
         ],
         "y": [
          -279.88150818405774,
          -247.82887920521395,
          -245.66494278623986,
          -193.68028372608222,
          -215.37530527801408,
          -215.0057785422785,
          -170.69753879854323,
          -172.24224767787942,
          -149.11977405439015,
          -153.26584295862764,
          -114.69023934883734,
          -130.7995364052685,
          -118.4993068320076,
          -109.46614253647252,
          -101.72810731337418,
          -84.6083796632421,
          -84.03009697604138,
          -1230.9983270468829,
          -76.39772542332535,
          -59.74796988116382,
          -56.89699753698377,
          -45.667656417627214,
          -50.89829844953657,
          -44.042200436549734,
          -43.08489025794473,
          -37.93939987929335,
          -37.05402683497876,
          -36.12004482062885,
          -35.763206554042526,
          -34.4882892050122,
          -32.92404570697755,
          -35.03352841988035,
          -35.789883363229784,
          -37.676420210470994,
          -133.85786918416176,
          -43.451653295704666,
          -43.256437540527564,
          -51.75635317104592,
          -45.05874650981541,
          -62.83591248216912,
          -64.74762322142011,
          -73.71621018482354,
          -78.92060446078291,
          -83.85530019374697,
          -89.53497613641393,
          -102.99051105837984,
          -108.41236622333909,
          -115.52642702047274,
          -130.4252441943812,
          -140.81555319440443,
          -153.8467295440099,
          -148.46876182669263,
          -182.08539199005847,
          -185.65215104372547,
          -206.58146256304266,
          -208.0601030515307,
          -239.89831042884785,
          -246.34899959489272,
          -251.97471987447014,
          -268.0743355626909
         ]
        },
        {
         "marker": {
          "color": "yellow",
          "symbol": "x"
         },
         "mode": "markers",
         "name": "SUMO",
         "type": "scatter",
         "x": [
          -2.9388223082554052,
          -2.7693307828316764,
          -2.5998392574079476,
          -2.430347731984219,
          -2.26085620656049,
          -2.091364681136761,
          -1.9218731557130324,
          -1.7523816302893036,
          -1.5828901048655748,
          -1.413398579441846,
          -1.2439070540181172,
          -1.0744155285943884,
          -0.9049240031706596,
          -0.7354324777469308,
          -0.565940952323202,
          -0.39644942689947316,
          -0.22695790147574435,
          -0.057466376052015544,
          0.11202514937171326,
          0.28151667479544207,
          0.4510082002191709,
          0.6204997256428997,
          0.7899912510666285,
          0.9594827764903573,
          1.128974301914086,
          1.2984658273378145,
          1.4679573527615437,
          1.637448878185273,
          1.8069404036090013,
          1.9764319290327297,
          2.145923454456459,
          2.315414979880188,
          2.4849065053039165,
          2.654398030727645,
          2.823889556151374,
          2.9933810815751034,
          3.1628726069988318,
          3.33236413242256,
          3.5018556578462894,
          3.6713471832700186,
          3.840838708693747,
          4.010330234117475,
          4.179821759541205,
          4.349313284964934,
          4.518804810388662,
          4.688296335812391,
          4.85778786123612,
          5.027279386659849,
          5.196770912083577,
          5.366262437507306,
          5.535753962931034,
          5.705245488354764,
          5.874737013778493,
          6.044228539202221,
          6.213720064625951,
          6.3832115900496795,
          6.552703115473408,
          6.722194640897136,
          6.891686166320865,
          7.061177691744595
         ],
         "y": [
          -279.2592160316281,
          -253.80514784113953,
          -248.4592123599784,
          -230.48436866814788,
          -223.551314378753,
          -198.74462151717518,
          -187.06164464888795,
          -178.01852706557642,
          -161.81741898950747,
          -149.80306344519315,
          -139.47670880048526,
          -128.36356064524765,
          -119.2620582425579,
          -110.84561103201294,
          -99.96377372285512,
          -93.64218514213516,
          -83.66129189499308,
          -80.93773408512318,
          -70.43821587779257,
          -64.81521323304734,
          -58.47576576561086,
          -54.26626205622287,
          -49.32779947060299,
          -44.565354650073544,
          -41.63553831315841,
          -39.7684632797858,
          -38.15917838430213,
          -35.519958757939,
          -35.19076079588653,
          -34.593091919284156,
          -34.645945313380984,
          -34.44380603277151,
          -35.30297953621227,
          -38.35337141992907,
          -39.5750687420001,
          -43.596119073213636,
          -47.53894804556318,
          -50.10020535834123,
          -53.47201091320694,
          -60.41933776351575,
          -63.19051779261626,
          -69.30754774230975,
          -75.33054006488037,
          -85.36572972837993,
          -96.62367440306802,
          -101.87551670237103,
          -113.95954911606427,
          -115.8211649632225,
          -137.00506929846367,
          -145.6946628931965,
          -149.2290594458706,
          -166.60999146049883,
          -177.99345582776053,
          -186.6367235457954,
          -203.87952270284285,
          -218.43384777811426,
          -233.12592590620363,
          -247.29987663796229,
          -265.7448093163545,
          -274.35504520235486
         ]
        }
       ],
       "layout": {
        "grid": {
         "columns": 1,
         "rows": 1
        },
        "legend": {
         "font": {
          "size": 10
         }
        },
        "shapes": [
         {
          "line": {
           "color": "black",
           "dash": "dash"
          },
          "name": "Theta=2.0611776917445948",
          "type": "line",
          "x0": 2.0611776917445948,
          "x1": 2.0611776917445948,
          "y0": -300,
          "y1": 500
         }
        ],
        "showlegend": true,
        "template": {
         "data": {
          "bar": [
           {
            "error_x": {
             "color": "#2a3f5f"
            },
            "error_y": {
             "color": "#2a3f5f"
            },
            "marker": {
             "line": {
              "color": "#E5ECF6",
              "width": 0.5
             },
             "pattern": {
              "fillmode": "overlay",
              "size": 10,
              "solidity": 0.2
             }
            },
            "type": "bar"
           }
          ],
          "barpolar": [
           {
            "marker": {
             "line": {
              "color": "#E5ECF6",
              "width": 0.5
             },
             "pattern": {
              "fillmode": "overlay",
              "size": 10,
              "solidity": 0.2
             }
            },
            "type": "barpolar"
           }
          ],
          "carpet": [
           {
            "aaxis": {
             "endlinecolor": "#2a3f5f",
             "gridcolor": "white",
             "linecolor": "white",
             "minorgridcolor": "white",
             "startlinecolor": "#2a3f5f"
            },
            "baxis": {
             "endlinecolor": "#2a3f5f",
             "gridcolor": "white",
             "linecolor": "white",
             "minorgridcolor": "white",
             "startlinecolor": "#2a3f5f"
            },
            "type": "carpet"
           }
          ],
          "choropleth": [
           {
            "colorbar": {
             "outlinewidth": 0,
             "ticks": ""
            },
            "type": "choropleth"
           }
          ],
          "contour": [
           {
            "colorbar": {
             "outlinewidth": 0,
             "ticks": ""
            },
            "colorscale": [
             [
              0,
              "#0d0887"
             ],
             [
              0.1111111111111111,
              "#46039f"
             ],
             [
              0.2222222222222222,
              "#7201a8"
             ],
             [
              0.3333333333333333,
              "#9c179e"
             ],
             [
              0.4444444444444444,
              "#bd3786"
             ],
             [
              0.5555555555555556,
              "#d8576b"
             ],
             [
              0.6666666666666666,
              "#ed7953"
             ],
             [
              0.7777777777777778,
              "#fb9f3a"
             ],
             [
              0.8888888888888888,
              "#fdca26"
             ],
             [
              1,
              "#f0f921"
             ]
            ],
            "type": "contour"
           }
          ],
          "contourcarpet": [
           {
            "colorbar": {
             "outlinewidth": 0,
             "ticks": ""
            },
            "type": "contourcarpet"
           }
          ],
          "heatmap": [
           {
            "colorbar": {
             "outlinewidth": 0,
             "ticks": ""
            },
            "colorscale": [
             [
              0,
              "#0d0887"
             ],
             [
              0.1111111111111111,
              "#46039f"
             ],
             [
              0.2222222222222222,
              "#7201a8"
             ],
             [
              0.3333333333333333,
              "#9c179e"
             ],
             [
              0.4444444444444444,
              "#bd3786"
             ],
             [
              0.5555555555555556,
              "#d8576b"
             ],
             [
              0.6666666666666666,
              "#ed7953"
             ],
             [
              0.7777777777777778,
              "#fb9f3a"
             ],
             [
              0.8888888888888888,
              "#fdca26"
             ],
             [
              1,
              "#f0f921"
             ]
            ],
            "type": "heatmap"
           }
          ],
          "heatmapgl": [
           {
            "colorbar": {
             "outlinewidth": 0,
             "ticks": ""
            },
            "colorscale": [
             [
              0,
              "#0d0887"
             ],
             [
              0.1111111111111111,
              "#46039f"
             ],
             [
              0.2222222222222222,
              "#7201a8"
             ],
             [
              0.3333333333333333,
              "#9c179e"
             ],
             [
              0.4444444444444444,
              "#bd3786"
             ],
             [
              0.5555555555555556,
              "#d8576b"
             ],
             [
              0.6666666666666666,
              "#ed7953"
             ],
             [
              0.7777777777777778,
              "#fb9f3a"
             ],
             [
              0.8888888888888888,
              "#fdca26"
             ],
             [
              1,
              "#f0f921"
             ]
            ],
            "type": "heatmapgl"
           }
          ],
          "histogram": [
           {
            "marker": {
             "pattern": {
              "fillmode": "overlay",
              "size": 10,
              "solidity": 0.2
             }
            },
            "type": "histogram"
           }
          ],
          "histogram2d": [
           {
            "colorbar": {
             "outlinewidth": 0,
             "ticks": ""
            },
            "colorscale": [
             [
              0,
              "#0d0887"
             ],
             [
              0.1111111111111111,
              "#46039f"
             ],
             [
              0.2222222222222222,
              "#7201a8"
             ],
             [
              0.3333333333333333,
              "#9c179e"
             ],
             [
              0.4444444444444444,
              "#bd3786"
             ],
             [
              0.5555555555555556,
              "#d8576b"
             ],
             [
              0.6666666666666666,
              "#ed7953"
             ],
             [
              0.7777777777777778,
              "#fb9f3a"
             ],
             [
              0.8888888888888888,
              "#fdca26"
             ],
             [
              1,
              "#f0f921"
             ]
            ],
            "type": "histogram2d"
           }
          ],
          "histogram2dcontour": [
           {
            "colorbar": {
             "outlinewidth": 0,
             "ticks": ""
            },
            "colorscale": [
             [
              0,
              "#0d0887"
             ],
             [
              0.1111111111111111,
              "#46039f"
             ],
             [
              0.2222222222222222,
              "#7201a8"
             ],
             [
              0.3333333333333333,
              "#9c179e"
             ],
             [
              0.4444444444444444,
              "#bd3786"
             ],
             [
              0.5555555555555556,
              "#d8576b"
             ],
             [
              0.6666666666666666,
              "#ed7953"
             ],
             [
              0.7777777777777778,
              "#fb9f3a"
             ],
             [
              0.8888888888888888,
              "#fdca26"
             ],
             [
              1,
              "#f0f921"
             ]
            ],
            "type": "histogram2dcontour"
           }
          ],
          "mesh3d": [
           {
            "colorbar": {
             "outlinewidth": 0,
             "ticks": ""
            },
            "type": "mesh3d"
           }
          ],
          "parcoords": [
           {
            "line": {
             "colorbar": {
              "outlinewidth": 0,
              "ticks": ""
             }
            },
            "type": "parcoords"
           }
          ],
          "pie": [
           {
            "automargin": true,
            "type": "pie"
           }
          ],
          "scatter": [
           {
            "fillpattern": {
             "fillmode": "overlay",
             "size": 10,
             "solidity": 0.2
            },
            "type": "scatter"
           }
          ],
          "scatter3d": [
           {
            "line": {
             "colorbar": {
              "outlinewidth": 0,
              "ticks": ""
             }
            },
            "marker": {
             "colorbar": {
              "outlinewidth": 0,
              "ticks": ""
             }
            },
            "type": "scatter3d"
           }
          ],
          "scattercarpet": [
           {
            "marker": {
             "colorbar": {
              "outlinewidth": 0,
              "ticks": ""
             }
            },
            "type": "scattercarpet"
           }
          ],
          "scattergeo": [
           {
            "marker": {
             "colorbar": {
              "outlinewidth": 0,
              "ticks": ""
             }
            },
            "type": "scattergeo"
           }
          ],
          "scattergl": [
           {
            "marker": {
             "colorbar": {
              "outlinewidth": 0,
              "ticks": ""
             }
            },
            "type": "scattergl"
           }
          ],
          "scattermapbox": [
           {
            "marker": {
             "colorbar": {
              "outlinewidth": 0,
              "ticks": ""
             }
            },
            "type": "scattermapbox"
           }
          ],
          "scatterpolar": [
           {
            "marker": {
             "colorbar": {
              "outlinewidth": 0,
              "ticks": ""
             }
            },
            "type": "scatterpolar"
           }
          ],
          "scatterpolargl": [
           {
            "marker": {
             "colorbar": {
              "outlinewidth": 0,
              "ticks": ""
             }
            },
            "type": "scatterpolargl"
           }
          ],
          "scatterternary": [
           {
            "marker": {
             "colorbar": {
              "outlinewidth": 0,
              "ticks": ""
             }
            },
            "type": "scatterternary"
           }
          ],
          "surface": [
           {
            "colorbar": {
             "outlinewidth": 0,
             "ticks": ""
            },
            "colorscale": [
             [
              0,
              "#0d0887"
             ],
             [
              0.1111111111111111,
              "#46039f"
             ],
             [
              0.2222222222222222,
              "#7201a8"
             ],
             [
              0.3333333333333333,
              "#9c179e"
             ],
             [
              0.4444444444444444,
              "#bd3786"
             ],
             [
              0.5555555555555556,
              "#d8576b"
             ],
             [
              0.6666666666666666,
              "#ed7953"
             ],
             [
              0.7777777777777778,
              "#fb9f3a"
             ],
             [
              0.8888888888888888,
              "#fdca26"
             ],
             [
              1,
              "#f0f921"
             ]
            ],
            "type": "surface"
           }
          ],
          "table": [
           {
            "cells": {
             "fill": {
              "color": "#EBF0F8"
             },
             "line": {
              "color": "white"
             }
            },
            "header": {
             "fill": {
              "color": "#C8D4E3"
             },
             "line": {
              "color": "white"
             }
            },
            "type": "table"
           }
          ]
         },
         "layout": {
          "annotationdefaults": {
           "arrowcolor": "#2a3f5f",
           "arrowhead": 0,
           "arrowwidth": 1
          },
          "autotypenumbers": "strict",
          "coloraxis": {
           "colorbar": {
            "outlinewidth": 0,
            "ticks": ""
           }
          },
          "colorscale": {
           "diverging": [
            [
             0,
             "#8e0152"
            ],
            [
             0.1,
             "#c51b7d"
            ],
            [
             0.2,
             "#de77ae"
            ],
            [
             0.3,
             "#f1b6da"
            ],
            [
             0.4,
             "#fde0ef"
            ],
            [
             0.5,
             "#f7f7f7"
            ],
            [
             0.6,
             "#e6f5d0"
            ],
            [
             0.7,
             "#b8e186"
            ],
            [
             0.8,
             "#7fbc41"
            ],
            [
             0.9,
             "#4d9221"
            ],
            [
             1,
             "#276419"
            ]
           ],
           "sequential": [
            [
             0,
             "#0d0887"
            ],
            [
             0.1111111111111111,
             "#46039f"
            ],
            [
             0.2222222222222222,
             "#7201a8"
            ],
            [
             0.3333333333333333,
             "#9c179e"
            ],
            [
             0.4444444444444444,
             "#bd3786"
            ],
            [
             0.5555555555555556,
             "#d8576b"
            ],
            [
             0.6666666666666666,
             "#ed7953"
            ],
            [
             0.7777777777777778,
             "#fb9f3a"
            ],
            [
             0.8888888888888888,
             "#fdca26"
            ],
            [
             1,
             "#f0f921"
            ]
           ],
           "sequentialminus": [
            [
             0,
             "#0d0887"
            ],
            [
             0.1111111111111111,
             "#46039f"
            ],
            [
             0.2222222222222222,
             "#7201a8"
            ],
            [
             0.3333333333333333,
             "#9c179e"
            ],
            [
             0.4444444444444444,
             "#bd3786"
            ],
            [
             0.5555555555555556,
             "#d8576b"
            ],
            [
             0.6666666666666666,
             "#ed7953"
            ],
            [
             0.7777777777777778,
             "#fb9f3a"
            ],
            [
             0.8888888888888888,
             "#fdca26"
            ],
            [
             1,
             "#f0f921"
            ]
           ]
          },
          "colorway": [
           "#636efa",
           "#EF553B",
           "#00cc96",
           "#ab63fa",
           "#FFA15A",
           "#19d3f3",
           "#FF6692",
           "#B6E880",
           "#FF97FF",
           "#FECB52"
          ],
          "font": {
           "color": "#2a3f5f"
          },
          "geo": {
           "bgcolor": "white",
           "lakecolor": "white",
           "landcolor": "#E5ECF6",
           "showlakes": true,
           "showland": true,
           "subunitcolor": "white"
          },
          "hoverlabel": {
           "align": "left"
          },
          "hovermode": "closest",
          "mapbox": {
           "style": "light"
          },
          "paper_bgcolor": "white",
          "plot_bgcolor": "#E5ECF6",
          "polar": {
           "angularaxis": {
            "gridcolor": "white",
            "linecolor": "white",
            "ticks": ""
           },
           "bgcolor": "#E5ECF6",
           "radialaxis": {
            "gridcolor": "white",
            "linecolor": "white",
            "ticks": ""
           }
          },
          "scene": {
           "xaxis": {
            "backgroundcolor": "#E5ECF6",
            "gridcolor": "white",
            "gridwidth": 2,
            "linecolor": "white",
            "showbackground": true,
            "ticks": "",
            "zerolinecolor": "white"
           },
           "yaxis": {
            "backgroundcolor": "#E5ECF6",
            "gridcolor": "white",
            "gridwidth": 2,
            "linecolor": "white",
            "showbackground": true,
            "ticks": "",
            "zerolinecolor": "white"
           },
           "zaxis": {
            "backgroundcolor": "#E5ECF6",
            "gridcolor": "white",
            "gridwidth": 2,
            "linecolor": "white",
            "showbackground": true,
            "ticks": "",
            "zerolinecolor": "white"
           }
          },
          "shapedefaults": {
           "line": {
            "color": "#2a3f5f"
           }
          },
          "ternary": {
           "aaxis": {
            "gridcolor": "white",
            "linecolor": "white",
            "ticks": ""
           },
           "baxis": {
            "gridcolor": "white",
            "linecolor": "white",
            "ticks": ""
           },
           "bgcolor": "#E5ECF6",
           "caxis": {
            "gridcolor": "white",
            "linecolor": "white",
            "ticks": ""
           }
          },
          "title": {
           "x": 0.05
          },
          "xaxis": {
           "automargin": true,
           "gridcolor": "white",
           "linecolor": "white",
           "ticks": "",
           "title": {
            "standoff": 15
           },
           "zerolinecolor": "white",
           "zerolinewidth": 2
          },
          "yaxis": {
           "automargin": true,
           "gridcolor": "white",
           "linecolor": "white",
           "ticks": "",
           "title": {
            "standoff": 15
           },
           "zerolinecolor": "white",
           "zerolinewidth": 2
          }
         }
        },
        "title": {
         "text": "Estimation de la likelihood"
        },
        "xaxis": {
         "tickfont": {
          "size": 12
         },
         "title": {
          "text": "Theta"
         }
        },
        "yaxis": {
         "range": [
          -300,
          500
         ],
         "tickfont": {
          "size": 12
         },
         "title": {
          "text": "Likelihood"
         }
        }
       }
      }
     },
     "metadata": {},
     "output_type": "display_data"
    }
   ],
   "source": [
    "Code.plot_likelihood(r, x, noised_A, noised_b, theta_true, n_simulations, \"all\")"
   ]
  },
  {
   "cell_type": "markdown",
   "metadata": {},
   "source": [
    "On fait de même pour le gradient : "
   ]
  },
  {
   "cell_type": "code",
   "execution_count": null,
   "metadata": {},
   "outputs": [
    {
     "data": {
      "application/vnd.plotly.v1+json": {
       "config": {
        "plotlyServerURL": "https://plot.ly"
       },
       "data": [
        {
         "line": {
          "color": "red"
         },
         "mode": "lines",
         "name": "True Gradient",
         "type": "scatter",
         "x": [
          -5.51670171554442,
          -5.347210190120691,
          -5.177718664696962,
          -5.008227139273233,
          -4.838735613849504,
          -4.669244088425776,
          -4.499752563002047,
          -4.3302610375783175,
          -4.160769512154589,
          -3.9912779867308603,
          -3.8217864613071315,
          -3.6522949358834027,
          -3.482803410459674,
          -3.313311885035945,
          -3.1438203596122163,
          -2.9743288341884875,
          -2.8048373087647587,
          -2.63534578334103,
          -2.465854257917301,
          -2.2963627324935723,
          -2.1268712070698435,
          -1.9573796816461146,
          -1.7878881562223858,
          -1.618396630798657,
          -1.4489051053749282,
          -1.2794135799511999,
          -1.1099220545274706,
          -0.9404305291037414,
          -0.770939003680013,
          -0.6014474782562846,
          -0.4319559528325554,
          -0.26246442740882614,
          -0.09297290198509778,
          0.07651862343863058,
          0.24601014886235983,
          0.4155016742860891,
          0.5849931997098174,
          0.7544847251335458,
          0.9239762505572751,
          1.0934677759810043,
          1.2629593014047327,
          1.432450826828461,
          1.6019423522521903,
          1.7714338776759195,
          1.940925403099648,
          2.1104169285233763,
          2.2799084539471055,
          2.4493999793708348,
          2.618891504794563,
          2.7883830302182915,
          2.95787455564202,
          3.12736608106575,
          3.2968576064894783,
          3.4663491319132067,
          3.635840657336937,
          3.805332182760665,
          3.9748237081843936,
          4.144315233608122,
          4.31380675903185,
          4.48329828445558
         ],
         "y": [
          -2.4941979396625067,
          -2.4094521769506425,
          -2.324706414238778,
          -2.2399606515269133,
          -2.155214888815049,
          -2.070469126103185,
          -1.98572336339132,
          -1.9009776006794554,
          -1.8162318379675912,
          -1.7314860752557268,
          -1.6467403125438624,
          -1.561994549831998,
          -1.4772487871201336,
          -1.3925030244082692,
          -1.3077572616964048,
          -1.2230114989845404,
          -1.138265736272676,
          -1.0535199735608116,
          -0.9687742108489472,
          -0.8840284481370828,
          -0.7992826854252184,
          -0.714536922713354,
          -0.6297911600014896,
          -0.5450453972896252,
          -0.46029963457776085,
          -0.37555387186589667,
          -0.29080810915403205,
          -0.20606234644216742,
          -0.12131658373030324,
          -0.03657082101843906,
          0.048174941693425566,
          0.1329207044052902,
          0.21766646711715437,
          0.30241222982901855,
          0.3871579925408832,
          0.4719037552527478,
          0.556649517964612,
          0.6413952806764762,
          0.7261410433883408,
          0.8108868061002055,
          0.8956325688120697,
          0.9803783315239338,
          1.0651240942357985,
          1.149869856947663,
          1.2346156196595273,
          1.3193613823713914,
          1.404107145083256,
          1.4888529077951207,
          1.5735986705069849,
          1.658344433218849,
          1.7430901959307132,
          1.8278359586425783,
          1.9125817213544425,
          1.9973274840663067,
          2.0820732467781715,
          2.1668190094900357,
          2.2515647722019,
          2.336310534913764,
          2.4210562976256282,
          2.5058020603374933
         ]
        },
        {
         "marker": {
          "color": "purple",
          "symbol": "x"
         },
         "mode": "markers",
         "name": "all",
         "type": "scatter",
         "x": [
          -5.51670171554442,
          -5.347210190120691,
          -5.177718664696962,
          -5.008227139273233,
          -4.838735613849504,
          -4.669244088425776,
          -4.499752563002047,
          -4.3302610375783175,
          -4.160769512154589,
          -3.9912779867308603,
          -3.8217864613071315,
          -3.6522949358834027,
          -3.482803410459674,
          -3.313311885035945,
          -3.1438203596122163,
          -2.9743288341884875,
          -2.8048373087647587,
          -2.63534578334103,
          -2.465854257917301,
          -2.2963627324935723,
          -2.1268712070698435,
          -1.9573796816461146,
          -1.7878881562223858,
          -1.618396630798657,
          -1.4489051053749282,
          -1.2794135799511999,
          -1.1099220545274706,
          -0.9404305291037414,
          -0.770939003680013,
          -0.6014474782562846,
          -0.4319559528325554,
          -0.26246442740882614,
          -0.09297290198509778,
          0.07651862343863058,
          0.24601014886235983,
          0.4155016742860891,
          0.5849931997098174,
          0.7544847251335458,
          0.9239762505572751,
          1.0934677759810043,
          1.2629593014047327,
          1.432450826828461,
          1.6019423522521903,
          1.7714338776759195,
          1.940925403099648,
          2.1104169285233763,
          2.2799084539471055,
          2.4493999793708348,
          2.618891504794563,
          2.7883830302182915,
          2.95787455564202,
          3.12736608106575,
          3.2968576064894783,
          3.4663491319132067,
          3.635840657336937,
          3.805332182760665,
          3.9748237081843936,
          4.144315233608122,
          4.31380675903185,
          4.48329828445558
         ],
         "y": [
          -13.267747129406386,
          -0.862678361968932,
          -6.182814390104852,
          18.718099842766364,
          5.4822534400682486,
          -27.525488728492803,
          5.397732406295319,
          11.191524122463647,
          21.85590334235323,
          10.965967549987155,
          -17.432201705819892,
          -25.264828167055683,
          -10.2636932939171,
          32.53459196960776,
          -1.1214799526795787,
          -21.40588637295221,
          3.7025086257565505,
          2.3962556717743837,
          23.251638882244094,
          -9.138641898283538,
          -10.3557219200908,
          55.2023247925124,
          -3.653710406024558,
          -48.027263414650946,
          -2.59842884148577,
          -5.8993463926785665,
          -4.823139496002554,
          259.92887968134613,
          1.988047919426677,
          -261.2870125176377,
          -9.479408805176405,
          -1.7128578636862386,
          4.250012016111924,
          14.123270753063196,
          43.538709651925586,
          -8.558338194010062,
          -46.9584957673129,
          -0.3348691215069266,
          1.0308484037714152,
          62.113393813866196,
          -2.076366248631288,
          -60.9483018328163,
          12.10724170136534,
          14.934673235133545,
          -3.6823490574396374,
          -6.53412154530794,
          -2.52124534202396,
          -4.78536282210851,
          -0.6994478983978496,
          -8.695199537998121,
          -7.18963160140207,
          18.080034252308224,
          13.089905251942412,
          -5.997994373049721,
          5.3073035136043245,
          2.219198816053151,
          -5.180528549914868,
          -12.70553469074116,
          -1.1059999139028065,
          12.638159467796301
         ]
        },
        {
         "marker": {
          "color": "orange",
          "symbol": "x"
         },
         "mode": "markers",
         "name": "all",
         "type": "scatter",
         "x": [
          -5.51670171554442,
          -5.347210190120691,
          -5.177718664696962,
          -5.008227139273233,
          -4.838735613849504,
          -4.669244088425776,
          -4.499752563002047,
          -4.3302610375783175,
          -4.160769512154589,
          -3.9912779867308603,
          -3.8217864613071315,
          -3.6522949358834027,
          -3.482803410459674,
          -3.313311885035945,
          -3.1438203596122163,
          -2.9743288341884875,
          -2.8048373087647587,
          -2.63534578334103,
          -2.465854257917301,
          -2.2963627324935723,
          -2.1268712070698435,
          -1.9573796816461146,
          -1.7878881562223858,
          -1.618396630798657,
          -1.4489051053749282,
          -1.2794135799511999,
          -1.1099220545274706,
          -0.9404305291037414,
          -0.770939003680013,
          -0.6014474782562846,
          -0.4319559528325554,
          -0.26246442740882614,
          -0.09297290198509778,
          0.07651862343863058,
          0.24601014886235983,
          0.4155016742860891,
          0.5849931997098174,
          0.7544847251335458,
          0.9239762505572751,
          1.0934677759810043,
          1.2629593014047327,
          1.432450826828461,
          1.6019423522521903,
          1.7714338776759195,
          1.940925403099648,
          2.1104169285233763,
          2.2799084539471055,
          2.4493999793708348,
          2.618891504794563,
          2.7883830302182915,
          2.95787455564202,
          3.12736608106575,
          3.2968576064894783,
          3.4663491319132067,
          3.635840657336937,
          3.805332182760665,
          3.9748237081843936,
          4.144315233608122,
          4.31380675903185,
          4.48329828445558
         ],
         "y": [
          76.94366681954274,
          59.122802701836775,
          -20.7107258882872,
          -43.23265663631127,
          -11.76840120309231,
          -14.38794030378547,
          -12.222211283482679,
          120.06249251036971,
          0.3797215878925897,
          -123.05955296506744,
          -4.214560429840361,
          5.35102819779604,
          1168.9542678350033,
          -13.426438347505098,
          -1096.6153780558072,
          6.612563519812113,
          -70.66302102518486,
          34.55301406427354,
          27.077160507842308,
          -35.6541126223042,
          -20.881154022373153,
          -3.394918912589759,
          -10.24802160344467,
          2.9011713984591694,
          153.19965133755187,
          -2.0285745643617474,
          -134.66830398871392,
          19.14939244334667,
          -12.399965687062235,
          -10.717792460120705,
          205.43613798188073,
          -0.22314467782406666,
          -195.7274577620945,
          8.906144421729792,
          -9.093775822310292,
          14.327887705781023,
          59.20672401423084,
          -33.93679463737999,
          -63.62277897690307,
          3.973555973106997,
          -8.550372768058907,
          17.173491513986463,
          33.165498935031195,
          9.752593547174158,
          -6.086867709318952,
          10.142231492513773,
          14.208178341331703,
          -27.01120496232393,
          -31.336142594972117,
          4.015632239789554,
          12.18984862655121,
          -14.449426603139685,
          8.709523285839452,
          -1.1767686875239747,
          -14.572708836928058,
          185.18913601580442,
          81.86371120165794,
          -178.18414094843632,
          -78.04530837841796,
          2.1708612223711463
         ]
        },
        {
         "marker": {
          "color": "green",
          "symbol": "x"
         },
         "mode": "markers",
         "name": "all",
         "type": "scatter",
         "x": [
          -5.51670171554442,
          -5.347210190120691,
          -5.177718664696962,
          -5.008227139273233,
          -4.838735613849504,
          -4.669244088425776,
          -4.499752563002047,
          -4.3302610375783175,
          -4.160769512154589,
          -3.9912779867308603,
          -3.8217864613071315,
          -3.6522949358834027,
          -3.482803410459674,
          -3.313311885035945,
          -3.1438203596122163,
          -2.9743288341884875,
          -2.8048373087647587,
          -2.63534578334103,
          -2.465854257917301,
          -2.2963627324935723,
          -2.1268712070698435,
          -1.9573796816461146,
          -1.7878881562223858,
          -1.618396630798657,
          -1.4489051053749282,
          -1.2794135799511999,
          -1.1099220545274706,
          -0.9404305291037414,
          -0.770939003680013,
          -0.6014474782562846,
          -0.4319559528325554,
          -0.26246442740882614,
          -0.09297290198509778,
          0.07651862343863058,
          0.24601014886235983,
          0.4155016742860891,
          0.5849931997098174,
          0.7544847251335458,
          0.9239762505572751,
          1.0934677759810043,
          1.2629593014047327,
          1.432450826828461,
          1.6019423522521903,
          1.7714338776759195,
          1.940925403099648,
          2.1104169285233763,
          2.2799084539471055,
          2.4493999793708348,
          2.618891504794563,
          2.7883830302182915,
          2.95787455564202,
          3.12736608106575,
          3.2968576064894783,
          3.4663491319132067,
          3.635840657336937,
          3.805332182760665,
          3.9748237081843936,
          4.144315233608122,
          4.31380675903185,
          4.48329828445558
         ],
         "y": [
          -5.319494007176127,
          -9.012044827581349,
          -2.65179508302235,
          -1.2766818512840246,
          0.8436766655472923,
          12.07135639740298,
          -6.210201982031975,
          58.69923486963245,
          2.867860845930295,
          -70.22494645171022,
          3.24983473884177,
          -1.0446907655205848,
          -6.735046431028394,
          -0.20142183732400554,
          28.586141522744825,
          -2.1049008062826147,
          -28.592609555532007,
          10.786192969465503,
          11.82995910726595,
          -9.282034216603023,
          -6.338237819876213,
          215.76454077997022,
          30.727748054298644,
          -215.515882034906,
          -35.403902237571714,
          6.062284749681311,
          18.2696514752233,
          -10.871613058777143,
          -17.618452634282562,
          2.4614319420077777,
          0.43036320761183333,
          1.064133051715345,
          0.27462131423700953,
          12.117803952778829,
          14.829960188279799,
          250.26028830491265,
          -10.696670430676306,
          -262.7959706854483,
          24.858308189042404,
          5.364460561938955,
          -32.28750079827438,
          13.97563994870076,
          48.76539077830469,
          -0.8954022793909928,
          -40.888941502005096,
          10.85467177050566,
          -5.273813647079265,
          -26.793810362149202,
          -1.3209912930598762,
          0.733329384034505,
          3.241386014281062,
          -2.3809137259767397,
          -6.115751231832974,
          -2.8972364675234417,
          26.963341275667688,
          7.493718352732685,
          -20.57961847545232,
          8.125988486396125,
          0.7908032017089681,
          -14.763519395453734
         ]
        },
        {
         "marker": {
          "color": "yellow",
          "symbol": "x"
         },
         "mode": "markers",
         "name": "all",
         "type": "scatter",
         "x": [
          -5.51670171554442,
          -5.347210190120691,
          -5.177718664696962,
          -5.008227139273233,
          -4.838735613849504,
          -4.669244088425776,
          -4.499752563002047,
          -4.3302610375783175,
          -4.160769512154589,
          -3.9912779867308603,
          -3.8217864613071315,
          -3.6522949358834027,
          -3.482803410459674,
          -3.313311885035945,
          -3.1438203596122163,
          -2.9743288341884875,
          -2.8048373087647587,
          -2.63534578334103,
          -2.465854257917301,
          -2.2963627324935723,
          -2.1268712070698435,
          -1.9573796816461146,
          -1.7878881562223858,
          -1.618396630798657,
          -1.4489051053749282,
          -1.2794135799511999,
          -1.1099220545274706,
          -0.9404305291037414,
          -0.770939003680013,
          -0.6014474782562846,
          -0.4319559528325554,
          -0.26246442740882614,
          -0.09297290198509778,
          0.07651862343863058,
          0.24601014886235983,
          0.4155016742860891,
          0.5849931997098174,
          0.7544847251335458,
          0.9239762505572751,
          1.0934677759810043,
          1.2629593014047327,
          1.432450826828461,
          1.6019423522521903,
          1.7714338776759195,
          1.940925403099648,
          2.1104169285233763,
          2.2799084539471055,
          2.4493999793708348,
          2.618891504794563,
          2.7883830302182915,
          2.95787455564202,
          3.12736608106575,
          3.2968576064894783,
          3.4663491319132067,
          3.635840657336937,
          3.805332182760665,
          3.9748237081843936,
          4.144315233608122,
          4.31380675903185,
          4.48329828445558
         ],
         "y": [
          0.3743953254603152,
          -0.2762283817551321,
          -0.12700503900491356,
          0.3265558527575365,
          -0.5737926036225929,
          -0.2235746504979943,
          0.5832662720027031,
          0.42996954373091967,
          -0.8552255346653936,
          -0.5795294459912412,
          0.48996823041518667,
          0.49177419616815143,
          -0.3922585129979552,
          -0.29310375555505175,
          0.2491883393133918,
          -0.2831141408993574,
          0.3728110812585044,
          -0.12353416194576994,
          -0.6026974508648237,
          0.04935408467497382,
          0.5586555355458103,
          0.22717302461235533,
          -0.004786931979737119,
          -0.4133497316653063,
          -0.04780378749791225,
          0.7054331903525366,
          0.08704274384187727,
          -0.2700957912082629,
          -1.2800390974438614,
          -0.3761761378467554,
          0.7904258623675702,
          -0.009684098312646938,
          0.0766019167683396,
          -0.11990675014241958,
          0.9331164369702378,
          0.7966640726453136,
          -0.7255612134916731,
          0.01340038539083821,
          0.199659229145567,
          -0.6766362743196339,
          -0.6912740342882131,
          0.3319459323305267,
          0.312205481200337,
          0.11673782154639412,
          -0.1549461524911635,
          -0.7846547511850872,
          0.8172493851521523,
          -0.03215468188949444,
          0.03457433811769306,
          0.38066594066684445,
          -0.3117620408366122,
          0.5294106962055025,
          -0.19489648419597927,
          0.28371967742795334,
          -0.3870334786793279,
          -0.6688256732245037,
          0.6732688702876715,
          -0.3628360959158101,
          -0.36602694095695654,
          0.9214443718893398
         ]
        }
       ],
       "layout": {
        "legend": {
         "font": {
          "size": 12
         },
         "traceorder": "normal",
         "x": 0,
         "y": 1
        },
        "shapes": [
         {
          "line": {
           "color": "black",
           "dash": "dash",
           "width": 2
          },
          "name": "theta=-0.5167017155444199",
          "type": "line",
          "x0": -0.5167017155444199,
          "x1": -0.5167017155444199,
          "y0": -1096.6153780558072,
          "y1": 1168.9542678350033
         }
        ],
        "showlegend": true,
        "template": {
         "data": {
          "bar": [
           {
            "error_x": {
             "color": "#2a3f5f"
            },
            "error_y": {
             "color": "#2a3f5f"
            },
            "marker": {
             "line": {
              "color": "#E5ECF6",
              "width": 0.5
             },
             "pattern": {
              "fillmode": "overlay",
              "size": 10,
              "solidity": 0.2
             }
            },
            "type": "bar"
           }
          ],
          "barpolar": [
           {
            "marker": {
             "line": {
              "color": "#E5ECF6",
              "width": 0.5
             },
             "pattern": {
              "fillmode": "overlay",
              "size": 10,
              "solidity": 0.2
             }
            },
            "type": "barpolar"
           }
          ],
          "carpet": [
           {
            "aaxis": {
             "endlinecolor": "#2a3f5f",
             "gridcolor": "white",
             "linecolor": "white",
             "minorgridcolor": "white",
             "startlinecolor": "#2a3f5f"
            },
            "baxis": {
             "endlinecolor": "#2a3f5f",
             "gridcolor": "white",
             "linecolor": "white",
             "minorgridcolor": "white",
             "startlinecolor": "#2a3f5f"
            },
            "type": "carpet"
           }
          ],
          "choropleth": [
           {
            "colorbar": {
             "outlinewidth": 0,
             "ticks": ""
            },
            "type": "choropleth"
           }
          ],
          "contour": [
           {
            "colorbar": {
             "outlinewidth": 0,
             "ticks": ""
            },
            "colorscale": [
             [
              0,
              "#0d0887"
             ],
             [
              0.1111111111111111,
              "#46039f"
             ],
             [
              0.2222222222222222,
              "#7201a8"
             ],
             [
              0.3333333333333333,
              "#9c179e"
             ],
             [
              0.4444444444444444,
              "#bd3786"
             ],
             [
              0.5555555555555556,
              "#d8576b"
             ],
             [
              0.6666666666666666,
              "#ed7953"
             ],
             [
              0.7777777777777778,
              "#fb9f3a"
             ],
             [
              0.8888888888888888,
              "#fdca26"
             ],
             [
              1,
              "#f0f921"
             ]
            ],
            "type": "contour"
           }
          ],
          "contourcarpet": [
           {
            "colorbar": {
             "outlinewidth": 0,
             "ticks": ""
            },
            "type": "contourcarpet"
           }
          ],
          "heatmap": [
           {
            "colorbar": {
             "outlinewidth": 0,
             "ticks": ""
            },
            "colorscale": [
             [
              0,
              "#0d0887"
             ],
             [
              0.1111111111111111,
              "#46039f"
             ],
             [
              0.2222222222222222,
              "#7201a8"
             ],
             [
              0.3333333333333333,
              "#9c179e"
             ],
             [
              0.4444444444444444,
              "#bd3786"
             ],
             [
              0.5555555555555556,
              "#d8576b"
             ],
             [
              0.6666666666666666,
              "#ed7953"
             ],
             [
              0.7777777777777778,
              "#fb9f3a"
             ],
             [
              0.8888888888888888,
              "#fdca26"
             ],
             [
              1,
              "#f0f921"
             ]
            ],
            "type": "heatmap"
           }
          ],
          "heatmapgl": [
           {
            "colorbar": {
             "outlinewidth": 0,
             "ticks": ""
            },
            "colorscale": [
             [
              0,
              "#0d0887"
             ],
             [
              0.1111111111111111,
              "#46039f"
             ],
             [
              0.2222222222222222,
              "#7201a8"
             ],
             [
              0.3333333333333333,
              "#9c179e"
             ],
             [
              0.4444444444444444,
              "#bd3786"
             ],
             [
              0.5555555555555556,
              "#d8576b"
             ],
             [
              0.6666666666666666,
              "#ed7953"
             ],
             [
              0.7777777777777778,
              "#fb9f3a"
             ],
             [
              0.8888888888888888,
              "#fdca26"
             ],
             [
              1,
              "#f0f921"
             ]
            ],
            "type": "heatmapgl"
           }
          ],
          "histogram": [
           {
            "marker": {
             "pattern": {
              "fillmode": "overlay",
              "size": 10,
              "solidity": 0.2
             }
            },
            "type": "histogram"
           }
          ],
          "histogram2d": [
           {
            "colorbar": {
             "outlinewidth": 0,
             "ticks": ""
            },
            "colorscale": [
             [
              0,
              "#0d0887"
             ],
             [
              0.1111111111111111,
              "#46039f"
             ],
             [
              0.2222222222222222,
              "#7201a8"
             ],
             [
              0.3333333333333333,
              "#9c179e"
             ],
             [
              0.4444444444444444,
              "#bd3786"
             ],
             [
              0.5555555555555556,
              "#d8576b"
             ],
             [
              0.6666666666666666,
              "#ed7953"
             ],
             [
              0.7777777777777778,
              "#fb9f3a"
             ],
             [
              0.8888888888888888,
              "#fdca26"
             ],
             [
              1,
              "#f0f921"
             ]
            ],
            "type": "histogram2d"
           }
          ],
          "histogram2dcontour": [
           {
            "colorbar": {
             "outlinewidth": 0,
             "ticks": ""
            },
            "colorscale": [
             [
              0,
              "#0d0887"
             ],
             [
              0.1111111111111111,
              "#46039f"
             ],
             [
              0.2222222222222222,
              "#7201a8"
             ],
             [
              0.3333333333333333,
              "#9c179e"
             ],
             [
              0.4444444444444444,
              "#bd3786"
             ],
             [
              0.5555555555555556,
              "#d8576b"
             ],
             [
              0.6666666666666666,
              "#ed7953"
             ],
             [
              0.7777777777777778,
              "#fb9f3a"
             ],
             [
              0.8888888888888888,
              "#fdca26"
             ],
             [
              1,
              "#f0f921"
             ]
            ],
            "type": "histogram2dcontour"
           }
          ],
          "mesh3d": [
           {
            "colorbar": {
             "outlinewidth": 0,
             "ticks": ""
            },
            "type": "mesh3d"
           }
          ],
          "parcoords": [
           {
            "line": {
             "colorbar": {
              "outlinewidth": 0,
              "ticks": ""
             }
            },
            "type": "parcoords"
           }
          ],
          "pie": [
           {
            "automargin": true,
            "type": "pie"
           }
          ],
          "scatter": [
           {
            "fillpattern": {
             "fillmode": "overlay",
             "size": 10,
             "solidity": 0.2
            },
            "type": "scatter"
           }
          ],
          "scatter3d": [
           {
            "line": {
             "colorbar": {
              "outlinewidth": 0,
              "ticks": ""
             }
            },
            "marker": {
             "colorbar": {
              "outlinewidth": 0,
              "ticks": ""
             }
            },
            "type": "scatter3d"
           }
          ],
          "scattercarpet": [
           {
            "marker": {
             "colorbar": {
              "outlinewidth": 0,
              "ticks": ""
             }
            },
            "type": "scattercarpet"
           }
          ],
          "scattergeo": [
           {
            "marker": {
             "colorbar": {
              "outlinewidth": 0,
              "ticks": ""
             }
            },
            "type": "scattergeo"
           }
          ],
          "scattergl": [
           {
            "marker": {
             "colorbar": {
              "outlinewidth": 0,
              "ticks": ""
             }
            },
            "type": "scattergl"
           }
          ],
          "scattermapbox": [
           {
            "marker": {
             "colorbar": {
              "outlinewidth": 0,
              "ticks": ""
             }
            },
            "type": "scattermapbox"
           }
          ],
          "scatterpolar": [
           {
            "marker": {
             "colorbar": {
              "outlinewidth": 0,
              "ticks": ""
             }
            },
            "type": "scatterpolar"
           }
          ],
          "scatterpolargl": [
           {
            "marker": {
             "colorbar": {
              "outlinewidth": 0,
              "ticks": ""
             }
            },
            "type": "scatterpolargl"
           }
          ],
          "scatterternary": [
           {
            "marker": {
             "colorbar": {
              "outlinewidth": 0,
              "ticks": ""
             }
            },
            "type": "scatterternary"
           }
          ],
          "surface": [
           {
            "colorbar": {
             "outlinewidth": 0,
             "ticks": ""
            },
            "colorscale": [
             [
              0,
              "#0d0887"
             ],
             [
              0.1111111111111111,
              "#46039f"
             ],
             [
              0.2222222222222222,
              "#7201a8"
             ],
             [
              0.3333333333333333,
              "#9c179e"
             ],
             [
              0.4444444444444444,
              "#bd3786"
             ],
             [
              0.5555555555555556,
              "#d8576b"
             ],
             [
              0.6666666666666666,
              "#ed7953"
             ],
             [
              0.7777777777777778,
              "#fb9f3a"
             ],
             [
              0.8888888888888888,
              "#fdca26"
             ],
             [
              1,
              "#f0f921"
             ]
            ],
            "type": "surface"
           }
          ],
          "table": [
           {
            "cells": {
             "fill": {
              "color": "#EBF0F8"
             },
             "line": {
              "color": "white"
             }
            },
            "header": {
             "fill": {
              "color": "#C8D4E3"
             },
             "line": {
              "color": "white"
             }
            },
            "type": "table"
           }
          ]
         },
         "layout": {
          "annotationdefaults": {
           "arrowcolor": "#2a3f5f",
           "arrowhead": 0,
           "arrowwidth": 1
          },
          "autotypenumbers": "strict",
          "coloraxis": {
           "colorbar": {
            "outlinewidth": 0,
            "ticks": ""
           }
          },
          "colorscale": {
           "diverging": [
            [
             0,
             "#8e0152"
            ],
            [
             0.1,
             "#c51b7d"
            ],
            [
             0.2,
             "#de77ae"
            ],
            [
             0.3,
             "#f1b6da"
            ],
            [
             0.4,
             "#fde0ef"
            ],
            [
             0.5,
             "#f7f7f7"
            ],
            [
             0.6,
             "#e6f5d0"
            ],
            [
             0.7,
             "#b8e186"
            ],
            [
             0.8,
             "#7fbc41"
            ],
            [
             0.9,
             "#4d9221"
            ],
            [
             1,
             "#276419"
            ]
           ],
           "sequential": [
            [
             0,
             "#0d0887"
            ],
            [
             0.1111111111111111,
             "#46039f"
            ],
            [
             0.2222222222222222,
             "#7201a8"
            ],
            [
             0.3333333333333333,
             "#9c179e"
            ],
            [
             0.4444444444444444,
             "#bd3786"
            ],
            [
             0.5555555555555556,
             "#d8576b"
            ],
            [
             0.6666666666666666,
             "#ed7953"
            ],
            [
             0.7777777777777778,
             "#fb9f3a"
            ],
            [
             0.8888888888888888,
             "#fdca26"
            ],
            [
             1,
             "#f0f921"
            ]
           ],
           "sequentialminus": [
            [
             0,
             "#0d0887"
            ],
            [
             0.1111111111111111,
             "#46039f"
            ],
            [
             0.2222222222222222,
             "#7201a8"
            ],
            [
             0.3333333333333333,
             "#9c179e"
            ],
            [
             0.4444444444444444,
             "#bd3786"
            ],
            [
             0.5555555555555556,
             "#d8576b"
            ],
            [
             0.6666666666666666,
             "#ed7953"
            ],
            [
             0.7777777777777778,
             "#fb9f3a"
            ],
            [
             0.8888888888888888,
             "#fdca26"
            ],
            [
             1,
             "#f0f921"
            ]
           ]
          },
          "colorway": [
           "#636efa",
           "#EF553B",
           "#00cc96",
           "#ab63fa",
           "#FFA15A",
           "#19d3f3",
           "#FF6692",
           "#B6E880",
           "#FF97FF",
           "#FECB52"
          ],
          "font": {
           "color": "#2a3f5f"
          },
          "geo": {
           "bgcolor": "white",
           "lakecolor": "white",
           "landcolor": "#E5ECF6",
           "showlakes": true,
           "showland": true,
           "subunitcolor": "white"
          },
          "hoverlabel": {
           "align": "left"
          },
          "hovermode": "closest",
          "mapbox": {
           "style": "light"
          },
          "paper_bgcolor": "white",
          "plot_bgcolor": "#E5ECF6",
          "polar": {
           "angularaxis": {
            "gridcolor": "white",
            "linecolor": "white",
            "ticks": ""
           },
           "bgcolor": "#E5ECF6",
           "radialaxis": {
            "gridcolor": "white",
            "linecolor": "white",
            "ticks": ""
           }
          },
          "scene": {
           "xaxis": {
            "backgroundcolor": "#E5ECF6",
            "gridcolor": "white",
            "gridwidth": 2,
            "linecolor": "white",
            "showbackground": true,
            "ticks": "",
            "zerolinecolor": "white"
           },
           "yaxis": {
            "backgroundcolor": "#E5ECF6",
            "gridcolor": "white",
            "gridwidth": 2,
            "linecolor": "white",
            "showbackground": true,
            "ticks": "",
            "zerolinecolor": "white"
           },
           "zaxis": {
            "backgroundcolor": "#E5ECF6",
            "gridcolor": "white",
            "gridwidth": 2,
            "linecolor": "white",
            "showbackground": true,
            "ticks": "",
            "zerolinecolor": "white"
           }
          },
          "shapedefaults": {
           "line": {
            "color": "#2a3f5f"
           }
          },
          "ternary": {
           "aaxis": {
            "gridcolor": "white",
            "linecolor": "white",
            "ticks": ""
           },
           "baxis": {
            "gridcolor": "white",
            "linecolor": "white",
            "ticks": ""
           },
           "bgcolor": "#E5ECF6",
           "caxis": {
            "gridcolor": "white",
            "linecolor": "white",
            "ticks": ""
           }
          },
          "title": {
           "x": 0.05
          },
          "xaxis": {
           "automargin": true,
           "gridcolor": "white",
           "linecolor": "white",
           "ticks": "",
           "title": {
            "standoff": 15
           },
           "zerolinecolor": "white",
           "zerolinewidth": 2
          },
          "yaxis": {
           "automargin": true,
           "gridcolor": "white",
           "linecolor": "white",
           "ticks": "",
           "title": {
            "standoff": 15
           },
           "zerolinecolor": "white",
           "zerolinewidth": 2
          }
         }
        },
        "title": {
         "text": "Comparaison des estimateurs du gradient"
        },
        "xaxis": {
         "title": {
          "text": "Theta"
         }
        },
        "yaxis": {
         "title": {
          "text": "Gradient"
         }
        }
       }
      }
     },
     "metadata": {},
     "output_type": "display_data"
    }
   ],
   "source": [
    "Code.plot_gradient(r, x, noised_A, noised_b, theta_true, n_simulations, 'all')"
   ]
  },
  {
   "cell_type": "markdown",
   "metadata": {},
   "source": [
    "## <span style=\"color:green\">  **Partie 2. Analyse du Biais et de la Variance des estimateurs**  </span>\n",
    "\n",
    "Dans cette partie, nous allons comparer les différents estimateurs de la vraisemblance et du gradient en termes de Biais et de Variance (Figure 2 dans la Section de 9 de [l'article](https://proceedings.mlr.press/v130/shi21d.html)).\n",
    "\n",
    "Le biais d'un estimateur de la vraisemblance $ \\ell({\\theta})$ est donné par : ${\\displaystyle {\\text{Biais}}({\\hat \\ell({\\theta })})\\equiv \\mathbb {E} [{\\hat \\ell ({\\theta }})]-\\ell(\\theta) }$.\n",
    "\n",
    "La variance d'un estimateur de la vraisemblance $ \\ell({\\theta})$ est donné par : $ \\text{Var}(\\ell(\\hat{\\theta})) = \\mathbb{E}\\left[(\\ell(\\hat{\\theta}) - \\mathbb{E}[\\ell(\\hat{\\theta})])^2 \\right]$\n",
    "\n",
    "Traçons le Biais au carré de chacun des estimateurs en fonctions de l'espérance du coût computationnel ?? "
   ]
  },
  {
   "cell_type": "code",
   "execution_count": 11,
   "metadata": {},
   "outputs": [
    {
     "name": "stderr",
     "output_type": "stream",
     "text": [
      "Progression: 20it [02:26,  7.30s/it]                      \n"
     ]
    },
    {
     "data": {
      "application/vnd.plotly.v1+json": {
       "config": {
        "plotlyServerURL": "https://plot.ly"
       },
       "data": [
        {
         "line": {
          "color": "green"
         },
         "mode": "lines",
         "name": "SUMO",
         "type": "scatter",
         "x": [
          1,
          1.1111111111111112,
          1.25,
          1.4285714285714286,
          1.6666666666666667
         ],
         "y": [
          51.04052007791078,
          58.09838572703219,
          50.10640806628937,
          48.69992661134545,
          46.605479030693
         ]
        },
        {
         "line": {
          "color": "purple"
         },
         "mode": "lines",
         "name": "ML_SS",
         "type": "scatter",
         "x": [
          1,
          1.1111111111111112,
          1.25,
          1.4285714285714286,
          1.6666666666666667
         ],
         "y": [
          48.93785591770501,
          48.03370650992571,
          47.027397748630634,
          47.42198257108236,
          47.22912350124227
         ]
        },
        {
         "line": {
          "color": "orange"
         },
         "mode": "lines",
         "name": "ML_RR",
         "type": "scatter",
         "x": [
          1,
          1.1111111111111112,
          1.25,
          1.4285714285714286,
          1.6666666666666667
         ],
         "y": [
          45.11634630114345,
          43.71614259974278,
          42.2886253156372,
          41.30884807810768,
          42.232769200062265
         ]
        },
        {
         "line": {
          "color": "yellow"
         },
         "mode": "lines",
         "name": "IWAE",
         "type": "scatter",
         "x": [
          1,
          1.1111111111111112,
          1.25,
          1.4285714285714286,
          1.6666666666666667
         ],
         "y": [
          50.89342833282813,
          50.79397470336256,
          50.516041987600055,
          50.392929866440824,
          51.30899357101628
         ]
        }
       ],
       "layout": {
        "legend": {
         "font": {
          "size": 12
         },
         "traceorder": "normal",
         "x": 0,
         "y": 1
        },
        "showlegend": true,
        "template": {
         "data": {
          "bar": [
           {
            "error_x": {
             "color": "#2a3f5f"
            },
            "error_y": {
             "color": "#2a3f5f"
            },
            "marker": {
             "line": {
              "color": "#E5ECF6",
              "width": 0.5
             },
             "pattern": {
              "fillmode": "overlay",
              "size": 10,
              "solidity": 0.2
             }
            },
            "type": "bar"
           }
          ],
          "barpolar": [
           {
            "marker": {
             "line": {
              "color": "#E5ECF6",
              "width": 0.5
             },
             "pattern": {
              "fillmode": "overlay",
              "size": 10,
              "solidity": 0.2
             }
            },
            "type": "barpolar"
           }
          ],
          "carpet": [
           {
            "aaxis": {
             "endlinecolor": "#2a3f5f",
             "gridcolor": "white",
             "linecolor": "white",
             "minorgridcolor": "white",
             "startlinecolor": "#2a3f5f"
            },
            "baxis": {
             "endlinecolor": "#2a3f5f",
             "gridcolor": "white",
             "linecolor": "white",
             "minorgridcolor": "white",
             "startlinecolor": "#2a3f5f"
            },
            "type": "carpet"
           }
          ],
          "choropleth": [
           {
            "colorbar": {
             "outlinewidth": 0,
             "ticks": ""
            },
            "type": "choropleth"
           }
          ],
          "contour": [
           {
            "colorbar": {
             "outlinewidth": 0,
             "ticks": ""
            },
            "colorscale": [
             [
              0,
              "#0d0887"
             ],
             [
              0.1111111111111111,
              "#46039f"
             ],
             [
              0.2222222222222222,
              "#7201a8"
             ],
             [
              0.3333333333333333,
              "#9c179e"
             ],
             [
              0.4444444444444444,
              "#bd3786"
             ],
             [
              0.5555555555555556,
              "#d8576b"
             ],
             [
              0.6666666666666666,
              "#ed7953"
             ],
             [
              0.7777777777777778,
              "#fb9f3a"
             ],
             [
              0.8888888888888888,
              "#fdca26"
             ],
             [
              1,
              "#f0f921"
             ]
            ],
            "type": "contour"
           }
          ],
          "contourcarpet": [
           {
            "colorbar": {
             "outlinewidth": 0,
             "ticks": ""
            },
            "type": "contourcarpet"
           }
          ],
          "heatmap": [
           {
            "colorbar": {
             "outlinewidth": 0,
             "ticks": ""
            },
            "colorscale": [
             [
              0,
              "#0d0887"
             ],
             [
              0.1111111111111111,
              "#46039f"
             ],
             [
              0.2222222222222222,
              "#7201a8"
             ],
             [
              0.3333333333333333,
              "#9c179e"
             ],
             [
              0.4444444444444444,
              "#bd3786"
             ],
             [
              0.5555555555555556,
              "#d8576b"
             ],
             [
              0.6666666666666666,
              "#ed7953"
             ],
             [
              0.7777777777777778,
              "#fb9f3a"
             ],
             [
              0.8888888888888888,
              "#fdca26"
             ],
             [
              1,
              "#f0f921"
             ]
            ],
            "type": "heatmap"
           }
          ],
          "heatmapgl": [
           {
            "colorbar": {
             "outlinewidth": 0,
             "ticks": ""
            },
            "colorscale": [
             [
              0,
              "#0d0887"
             ],
             [
              0.1111111111111111,
              "#46039f"
             ],
             [
              0.2222222222222222,
              "#7201a8"
             ],
             [
              0.3333333333333333,
              "#9c179e"
             ],
             [
              0.4444444444444444,
              "#bd3786"
             ],
             [
              0.5555555555555556,
              "#d8576b"
             ],
             [
              0.6666666666666666,
              "#ed7953"
             ],
             [
              0.7777777777777778,
              "#fb9f3a"
             ],
             [
              0.8888888888888888,
              "#fdca26"
             ],
             [
              1,
              "#f0f921"
             ]
            ],
            "type": "heatmapgl"
           }
          ],
          "histogram": [
           {
            "marker": {
             "pattern": {
              "fillmode": "overlay",
              "size": 10,
              "solidity": 0.2
             }
            },
            "type": "histogram"
           }
          ],
          "histogram2d": [
           {
            "colorbar": {
             "outlinewidth": 0,
             "ticks": ""
            },
            "colorscale": [
             [
              0,
              "#0d0887"
             ],
             [
              0.1111111111111111,
              "#46039f"
             ],
             [
              0.2222222222222222,
              "#7201a8"
             ],
             [
              0.3333333333333333,
              "#9c179e"
             ],
             [
              0.4444444444444444,
              "#bd3786"
             ],
             [
              0.5555555555555556,
              "#d8576b"
             ],
             [
              0.6666666666666666,
              "#ed7953"
             ],
             [
              0.7777777777777778,
              "#fb9f3a"
             ],
             [
              0.8888888888888888,
              "#fdca26"
             ],
             [
              1,
              "#f0f921"
             ]
            ],
            "type": "histogram2d"
           }
          ],
          "histogram2dcontour": [
           {
            "colorbar": {
             "outlinewidth": 0,
             "ticks": ""
            },
            "colorscale": [
             [
              0,
              "#0d0887"
             ],
             [
              0.1111111111111111,
              "#46039f"
             ],
             [
              0.2222222222222222,
              "#7201a8"
             ],
             [
              0.3333333333333333,
              "#9c179e"
             ],
             [
              0.4444444444444444,
              "#bd3786"
             ],
             [
              0.5555555555555556,
              "#d8576b"
             ],
             [
              0.6666666666666666,
              "#ed7953"
             ],
             [
              0.7777777777777778,
              "#fb9f3a"
             ],
             [
              0.8888888888888888,
              "#fdca26"
             ],
             [
              1,
              "#f0f921"
             ]
            ],
            "type": "histogram2dcontour"
           }
          ],
          "mesh3d": [
           {
            "colorbar": {
             "outlinewidth": 0,
             "ticks": ""
            },
            "type": "mesh3d"
           }
          ],
          "parcoords": [
           {
            "line": {
             "colorbar": {
              "outlinewidth": 0,
              "ticks": ""
             }
            },
            "type": "parcoords"
           }
          ],
          "pie": [
           {
            "automargin": true,
            "type": "pie"
           }
          ],
          "scatter": [
           {
            "fillpattern": {
             "fillmode": "overlay",
             "size": 10,
             "solidity": 0.2
            },
            "type": "scatter"
           }
          ],
          "scatter3d": [
           {
            "line": {
             "colorbar": {
              "outlinewidth": 0,
              "ticks": ""
             }
            },
            "marker": {
             "colorbar": {
              "outlinewidth": 0,
              "ticks": ""
             }
            },
            "type": "scatter3d"
           }
          ],
          "scattercarpet": [
           {
            "marker": {
             "colorbar": {
              "outlinewidth": 0,
              "ticks": ""
             }
            },
            "type": "scattercarpet"
           }
          ],
          "scattergeo": [
           {
            "marker": {
             "colorbar": {
              "outlinewidth": 0,
              "ticks": ""
             }
            },
            "type": "scattergeo"
           }
          ],
          "scattergl": [
           {
            "marker": {
             "colorbar": {
              "outlinewidth": 0,
              "ticks": ""
             }
            },
            "type": "scattergl"
           }
          ],
          "scattermapbox": [
           {
            "marker": {
             "colorbar": {
              "outlinewidth": 0,
              "ticks": ""
             }
            },
            "type": "scattermapbox"
           }
          ],
          "scatterpolar": [
           {
            "marker": {
             "colorbar": {
              "outlinewidth": 0,
              "ticks": ""
             }
            },
            "type": "scatterpolar"
           }
          ],
          "scatterpolargl": [
           {
            "marker": {
             "colorbar": {
              "outlinewidth": 0,
              "ticks": ""
             }
            },
            "type": "scatterpolargl"
           }
          ],
          "scatterternary": [
           {
            "marker": {
             "colorbar": {
              "outlinewidth": 0,
              "ticks": ""
             }
            },
            "type": "scatterternary"
           }
          ],
          "surface": [
           {
            "colorbar": {
             "outlinewidth": 0,
             "ticks": ""
            },
            "colorscale": [
             [
              0,
              "#0d0887"
             ],
             [
              0.1111111111111111,
              "#46039f"
             ],
             [
              0.2222222222222222,
              "#7201a8"
             ],
             [
              0.3333333333333333,
              "#9c179e"
             ],
             [
              0.4444444444444444,
              "#bd3786"
             ],
             [
              0.5555555555555556,
              "#d8576b"
             ],
             [
              0.6666666666666666,
              "#ed7953"
             ],
             [
              0.7777777777777778,
              "#fb9f3a"
             ],
             [
              0.8888888888888888,
              "#fdca26"
             ],
             [
              1,
              "#f0f921"
             ]
            ],
            "type": "surface"
           }
          ],
          "table": [
           {
            "cells": {
             "fill": {
              "color": "#EBF0F8"
             },
             "line": {
              "color": "white"
             }
            },
            "header": {
             "fill": {
              "color": "#C8D4E3"
             },
             "line": {
              "color": "white"
             }
            },
            "type": "table"
           }
          ]
         },
         "layout": {
          "annotationdefaults": {
           "arrowcolor": "#2a3f5f",
           "arrowhead": 0,
           "arrowwidth": 1
          },
          "autotypenumbers": "strict",
          "coloraxis": {
           "colorbar": {
            "outlinewidth": 0,
            "ticks": ""
           }
          },
          "colorscale": {
           "diverging": [
            [
             0,
             "#8e0152"
            ],
            [
             0.1,
             "#c51b7d"
            ],
            [
             0.2,
             "#de77ae"
            ],
            [
             0.3,
             "#f1b6da"
            ],
            [
             0.4,
             "#fde0ef"
            ],
            [
             0.5,
             "#f7f7f7"
            ],
            [
             0.6,
             "#e6f5d0"
            ],
            [
             0.7,
             "#b8e186"
            ],
            [
             0.8,
             "#7fbc41"
            ],
            [
             0.9,
             "#4d9221"
            ],
            [
             1,
             "#276419"
            ]
           ],
           "sequential": [
            [
             0,
             "#0d0887"
            ],
            [
             0.1111111111111111,
             "#46039f"
            ],
            [
             0.2222222222222222,
             "#7201a8"
            ],
            [
             0.3333333333333333,
             "#9c179e"
            ],
            [
             0.4444444444444444,
             "#bd3786"
            ],
            [
             0.5555555555555556,
             "#d8576b"
            ],
            [
             0.6666666666666666,
             "#ed7953"
            ],
            [
             0.7777777777777778,
             "#fb9f3a"
            ],
            [
             0.8888888888888888,
             "#fdca26"
            ],
            [
             1,
             "#f0f921"
            ]
           ],
           "sequentialminus": [
            [
             0,
             "#0d0887"
            ],
            [
             0.1111111111111111,
             "#46039f"
            ],
            [
             0.2222222222222222,
             "#7201a8"
            ],
            [
             0.3333333333333333,
             "#9c179e"
            ],
            [
             0.4444444444444444,
             "#bd3786"
            ],
            [
             0.5555555555555556,
             "#d8576b"
            ],
            [
             0.6666666666666666,
             "#ed7953"
            ],
            [
             0.7777777777777778,
             "#fb9f3a"
            ],
            [
             0.8888888888888888,
             "#fdca26"
            ],
            [
             1,
             "#f0f921"
            ]
           ]
          },
          "colorway": [
           "#636efa",
           "#EF553B",
           "#00cc96",
           "#ab63fa",
           "#FFA15A",
           "#19d3f3",
           "#FF6692",
           "#B6E880",
           "#FF97FF",
           "#FECB52"
          ],
          "font": {
           "color": "#2a3f5f"
          },
          "geo": {
           "bgcolor": "white",
           "lakecolor": "white",
           "landcolor": "#E5ECF6",
           "showlakes": true,
           "showland": true,
           "subunitcolor": "white"
          },
          "hoverlabel": {
           "align": "left"
          },
          "hovermode": "closest",
          "mapbox": {
           "style": "light"
          },
          "paper_bgcolor": "white",
          "plot_bgcolor": "#E5ECF6",
          "polar": {
           "angularaxis": {
            "gridcolor": "white",
            "linecolor": "white",
            "ticks": ""
           },
           "bgcolor": "#E5ECF6",
           "radialaxis": {
            "gridcolor": "white",
            "linecolor": "white",
            "ticks": ""
           }
          },
          "scene": {
           "xaxis": {
            "backgroundcolor": "#E5ECF6",
            "gridcolor": "white",
            "gridwidth": 2,
            "linecolor": "white",
            "showbackground": true,
            "ticks": "",
            "zerolinecolor": "white"
           },
           "yaxis": {
            "backgroundcolor": "#E5ECF6",
            "gridcolor": "white",
            "gridwidth": 2,
            "linecolor": "white",
            "showbackground": true,
            "ticks": "",
            "zerolinecolor": "white"
           },
           "zaxis": {
            "backgroundcolor": "#E5ECF6",
            "gridcolor": "white",
            "gridwidth": 2,
            "linecolor": "white",
            "showbackground": true,
            "ticks": "",
            "zerolinecolor": "white"
           }
          },
          "shapedefaults": {
           "line": {
            "color": "#2a3f5f"
           }
          },
          "ternary": {
           "aaxis": {
            "gridcolor": "white",
            "linecolor": "white",
            "ticks": ""
           },
           "baxis": {
            "gridcolor": "white",
            "linecolor": "white",
            "ticks": ""
           },
           "bgcolor": "#E5ECF6",
           "caxis": {
            "gridcolor": "white",
            "linecolor": "white",
            "ticks": ""
           }
          },
          "title": {
           "x": 0.05
          },
          "xaxis": {
           "automargin": true,
           "gridcolor": "white",
           "linecolor": "white",
           "ticks": "",
           "title": {
            "standoff": 15
           },
           "zerolinecolor": "white",
           "zerolinewidth": 2
          },
          "yaxis": {
           "automargin": true,
           "gridcolor": "white",
           "linecolor": "white",
           "ticks": "",
           "title": {
            "standoff": 15
           },
           "zerolinecolor": "white",
           "zerolinewidth": 2
          }
         }
        },
        "title": {
         "text": "Comparaison du biais des estimateurs de la vraisemblance en fonction de la complexité computationnelle"
        },
        "xaxis": {
         "title": {
          "text": "r"
         }
        },
        "yaxis": {
         "title": {
          "text": "Biais de l'estimateur"
         }
        }
       }
      }
     },
     "metadata": {},
     "output_type": "display_data"
    }
   ],
   "source": [
    "Code.plot_bias_likelihood(x, theta_true, noised_A, noised_b, 0.6, 1, 1000, 5)"
   ]
  },
  {
   "cell_type": "code",
   "execution_count": 7,
   "metadata": {},
   "outputs": [
    {
     "name": "stderr",
     "output_type": "stream",
     "text": [
      "Progression: 20it [02:30,  7.53s/it]                      \n"
     ]
    },
    {
     "data": {
      "application/vnd.plotly.v1+json": {
       "config": {
        "plotlyServerURL": "https://plot.ly"
       },
       "data": [
        {
         "line": {
          "color": "green"
         },
         "mode": "lines",
         "name": "SUMO",
         "type": "scatter",
         "x": [
          1,
          1.1111111111111112,
          1.25,
          1.4285714285714286,
          1.6666666666666667
         ],
         "y": [
          50.94159806667523,
          52.992829879249534,
          56.46411933746326,
          47.46559498010378,
          44.50483603346632
         ]
        },
        {
         "line": {
          "color": "purple"
         },
         "mode": "lines",
         "name": "ML_SS",
         "type": "scatter",
         "x": [
          1,
          1.1111111111111112,
          1.25,
          1.4285714285714286,
          1.6666666666666667
         ],
         "y": [
          48.98836338986247,
          46.74778503306235,
          46.92785762971239,
          46.67735224980414,
          46.67889801830749
         ]
        },
        {
         "line": {
          "color": "orange"
         },
         "mode": "lines",
         "name": "ML_RR",
         "type": "scatter",
         "x": [
          1,
          1.1111111111111112,
          1.25,
          1.4285714285714286,
          1.6666666666666667
         ],
         "y": [
          45.24221653341461,
          43.578560160713984,
          41.66860891259234,
          42.678573860685916,
          41.74481942334146
         ]
        },
        {
         "line": {
          "color": "yellow"
         },
         "mode": "lines",
         "name": "IWAE",
         "type": "scatter",
         "x": [
          1,
          1.1111111111111112,
          1.25,
          1.4285714285714286,
          1.6666666666666667
         ],
         "y": [
          51.103389394489554,
          50.45324446529433,
          50.70070805325958,
          50.9952599403336,
          50.66588285318541
         ]
        }
       ],
       "layout": {
        "legend": {
         "font": {
          "size": 12
         },
         "traceorder": "normal",
         "x": 0,
         "y": 1
        },
        "showlegend": true,
        "template": {
         "data": {
          "bar": [
           {
            "error_x": {
             "color": "#2a3f5f"
            },
            "error_y": {
             "color": "#2a3f5f"
            },
            "marker": {
             "line": {
              "color": "#E5ECF6",
              "width": 0.5
             },
             "pattern": {
              "fillmode": "overlay",
              "size": 10,
              "solidity": 0.2
             }
            },
            "type": "bar"
           }
          ],
          "barpolar": [
           {
            "marker": {
             "line": {
              "color": "#E5ECF6",
              "width": 0.5
             },
             "pattern": {
              "fillmode": "overlay",
              "size": 10,
              "solidity": 0.2
             }
            },
            "type": "barpolar"
           }
          ],
          "carpet": [
           {
            "aaxis": {
             "endlinecolor": "#2a3f5f",
             "gridcolor": "white",
             "linecolor": "white",
             "minorgridcolor": "white",
             "startlinecolor": "#2a3f5f"
            },
            "baxis": {
             "endlinecolor": "#2a3f5f",
             "gridcolor": "white",
             "linecolor": "white",
             "minorgridcolor": "white",
             "startlinecolor": "#2a3f5f"
            },
            "type": "carpet"
           }
          ],
          "choropleth": [
           {
            "colorbar": {
             "outlinewidth": 0,
             "ticks": ""
            },
            "type": "choropleth"
           }
          ],
          "contour": [
           {
            "colorbar": {
             "outlinewidth": 0,
             "ticks": ""
            },
            "colorscale": [
             [
              0,
              "#0d0887"
             ],
             [
              0.1111111111111111,
              "#46039f"
             ],
             [
              0.2222222222222222,
              "#7201a8"
             ],
             [
              0.3333333333333333,
              "#9c179e"
             ],
             [
              0.4444444444444444,
              "#bd3786"
             ],
             [
              0.5555555555555556,
              "#d8576b"
             ],
             [
              0.6666666666666666,
              "#ed7953"
             ],
             [
              0.7777777777777778,
              "#fb9f3a"
             ],
             [
              0.8888888888888888,
              "#fdca26"
             ],
             [
              1,
              "#f0f921"
             ]
            ],
            "type": "contour"
           }
          ],
          "contourcarpet": [
           {
            "colorbar": {
             "outlinewidth": 0,
             "ticks": ""
            },
            "type": "contourcarpet"
           }
          ],
          "heatmap": [
           {
            "colorbar": {
             "outlinewidth": 0,
             "ticks": ""
            },
            "colorscale": [
             [
              0,
              "#0d0887"
             ],
             [
              0.1111111111111111,
              "#46039f"
             ],
             [
              0.2222222222222222,
              "#7201a8"
             ],
             [
              0.3333333333333333,
              "#9c179e"
             ],
             [
              0.4444444444444444,
              "#bd3786"
             ],
             [
              0.5555555555555556,
              "#d8576b"
             ],
             [
              0.6666666666666666,
              "#ed7953"
             ],
             [
              0.7777777777777778,
              "#fb9f3a"
             ],
             [
              0.8888888888888888,
              "#fdca26"
             ],
             [
              1,
              "#f0f921"
             ]
            ],
            "type": "heatmap"
           }
          ],
          "heatmapgl": [
           {
            "colorbar": {
             "outlinewidth": 0,
             "ticks": ""
            },
            "colorscale": [
             [
              0,
              "#0d0887"
             ],
             [
              0.1111111111111111,
              "#46039f"
             ],
             [
              0.2222222222222222,
              "#7201a8"
             ],
             [
              0.3333333333333333,
              "#9c179e"
             ],
             [
              0.4444444444444444,
              "#bd3786"
             ],
             [
              0.5555555555555556,
              "#d8576b"
             ],
             [
              0.6666666666666666,
              "#ed7953"
             ],
             [
              0.7777777777777778,
              "#fb9f3a"
             ],
             [
              0.8888888888888888,
              "#fdca26"
             ],
             [
              1,
              "#f0f921"
             ]
            ],
            "type": "heatmapgl"
           }
          ],
          "histogram": [
           {
            "marker": {
             "pattern": {
              "fillmode": "overlay",
              "size": 10,
              "solidity": 0.2
             }
            },
            "type": "histogram"
           }
          ],
          "histogram2d": [
           {
            "colorbar": {
             "outlinewidth": 0,
             "ticks": ""
            },
            "colorscale": [
             [
              0,
              "#0d0887"
             ],
             [
              0.1111111111111111,
              "#46039f"
             ],
             [
              0.2222222222222222,
              "#7201a8"
             ],
             [
              0.3333333333333333,
              "#9c179e"
             ],
             [
              0.4444444444444444,
              "#bd3786"
             ],
             [
              0.5555555555555556,
              "#d8576b"
             ],
             [
              0.6666666666666666,
              "#ed7953"
             ],
             [
              0.7777777777777778,
              "#fb9f3a"
             ],
             [
              0.8888888888888888,
              "#fdca26"
             ],
             [
              1,
              "#f0f921"
             ]
            ],
            "type": "histogram2d"
           }
          ],
          "histogram2dcontour": [
           {
            "colorbar": {
             "outlinewidth": 0,
             "ticks": ""
            },
            "colorscale": [
             [
              0,
              "#0d0887"
             ],
             [
              0.1111111111111111,
              "#46039f"
             ],
             [
              0.2222222222222222,
              "#7201a8"
             ],
             [
              0.3333333333333333,
              "#9c179e"
             ],
             [
              0.4444444444444444,
              "#bd3786"
             ],
             [
              0.5555555555555556,
              "#d8576b"
             ],
             [
              0.6666666666666666,
              "#ed7953"
             ],
             [
              0.7777777777777778,
              "#fb9f3a"
             ],
             [
              0.8888888888888888,
              "#fdca26"
             ],
             [
              1,
              "#f0f921"
             ]
            ],
            "type": "histogram2dcontour"
           }
          ],
          "mesh3d": [
           {
            "colorbar": {
             "outlinewidth": 0,
             "ticks": ""
            },
            "type": "mesh3d"
           }
          ],
          "parcoords": [
           {
            "line": {
             "colorbar": {
              "outlinewidth": 0,
              "ticks": ""
             }
            },
            "type": "parcoords"
           }
          ],
          "pie": [
           {
            "automargin": true,
            "type": "pie"
           }
          ],
          "scatter": [
           {
            "fillpattern": {
             "fillmode": "overlay",
             "size": 10,
             "solidity": 0.2
            },
            "type": "scatter"
           }
          ],
          "scatter3d": [
           {
            "line": {
             "colorbar": {
              "outlinewidth": 0,
              "ticks": ""
             }
            },
            "marker": {
             "colorbar": {
              "outlinewidth": 0,
              "ticks": ""
             }
            },
            "type": "scatter3d"
           }
          ],
          "scattercarpet": [
           {
            "marker": {
             "colorbar": {
              "outlinewidth": 0,
              "ticks": ""
             }
            },
            "type": "scattercarpet"
           }
          ],
          "scattergeo": [
           {
            "marker": {
             "colorbar": {
              "outlinewidth": 0,
              "ticks": ""
             }
            },
            "type": "scattergeo"
           }
          ],
          "scattergl": [
           {
            "marker": {
             "colorbar": {
              "outlinewidth": 0,
              "ticks": ""
             }
            },
            "type": "scattergl"
           }
          ],
          "scattermapbox": [
           {
            "marker": {
             "colorbar": {
              "outlinewidth": 0,
              "ticks": ""
             }
            },
            "type": "scattermapbox"
           }
          ],
          "scatterpolar": [
           {
            "marker": {
             "colorbar": {
              "outlinewidth": 0,
              "ticks": ""
             }
            },
            "type": "scatterpolar"
           }
          ],
          "scatterpolargl": [
           {
            "marker": {
             "colorbar": {
              "outlinewidth": 0,
              "ticks": ""
             }
            },
            "type": "scatterpolargl"
           }
          ],
          "scatterternary": [
           {
            "marker": {
             "colorbar": {
              "outlinewidth": 0,
              "ticks": ""
             }
            },
            "type": "scatterternary"
           }
          ],
          "surface": [
           {
            "colorbar": {
             "outlinewidth": 0,
             "ticks": ""
            },
            "colorscale": [
             [
              0,
              "#0d0887"
             ],
             [
              0.1111111111111111,
              "#46039f"
             ],
             [
              0.2222222222222222,
              "#7201a8"
             ],
             [
              0.3333333333333333,
              "#9c179e"
             ],
             [
              0.4444444444444444,
              "#bd3786"
             ],
             [
              0.5555555555555556,
              "#d8576b"
             ],
             [
              0.6666666666666666,
              "#ed7953"
             ],
             [
              0.7777777777777778,
              "#fb9f3a"
             ],
             [
              0.8888888888888888,
              "#fdca26"
             ],
             [
              1,
              "#f0f921"
             ]
            ],
            "type": "surface"
           }
          ],
          "table": [
           {
            "cells": {
             "fill": {
              "color": "#EBF0F8"
             },
             "line": {
              "color": "white"
             }
            },
            "header": {
             "fill": {
              "color": "#C8D4E3"
             },
             "line": {
              "color": "white"
             }
            },
            "type": "table"
           }
          ]
         },
         "layout": {
          "annotationdefaults": {
           "arrowcolor": "#2a3f5f",
           "arrowhead": 0,
           "arrowwidth": 1
          },
          "autotypenumbers": "strict",
          "coloraxis": {
           "colorbar": {
            "outlinewidth": 0,
            "ticks": ""
           }
          },
          "colorscale": {
           "diverging": [
            [
             0,
             "#8e0152"
            ],
            [
             0.1,
             "#c51b7d"
            ],
            [
             0.2,
             "#de77ae"
            ],
            [
             0.3,
             "#f1b6da"
            ],
            [
             0.4,
             "#fde0ef"
            ],
            [
             0.5,
             "#f7f7f7"
            ],
            [
             0.6,
             "#e6f5d0"
            ],
            [
             0.7,
             "#b8e186"
            ],
            [
             0.8,
             "#7fbc41"
            ],
            [
             0.9,
             "#4d9221"
            ],
            [
             1,
             "#276419"
            ]
           ],
           "sequential": [
            [
             0,
             "#0d0887"
            ],
            [
             0.1111111111111111,
             "#46039f"
            ],
            [
             0.2222222222222222,
             "#7201a8"
            ],
            [
             0.3333333333333333,
             "#9c179e"
            ],
            [
             0.4444444444444444,
             "#bd3786"
            ],
            [
             0.5555555555555556,
             "#d8576b"
            ],
            [
             0.6666666666666666,
             "#ed7953"
            ],
            [
             0.7777777777777778,
             "#fb9f3a"
            ],
            [
             0.8888888888888888,
             "#fdca26"
            ],
            [
             1,
             "#f0f921"
            ]
           ],
           "sequentialminus": [
            [
             0,
             "#0d0887"
            ],
            [
             0.1111111111111111,
             "#46039f"
            ],
            [
             0.2222222222222222,
             "#7201a8"
            ],
            [
             0.3333333333333333,
             "#9c179e"
            ],
            [
             0.4444444444444444,
             "#bd3786"
            ],
            [
             0.5555555555555556,
             "#d8576b"
            ],
            [
             0.6666666666666666,
             "#ed7953"
            ],
            [
             0.7777777777777778,
             "#fb9f3a"
            ],
            [
             0.8888888888888888,
             "#fdca26"
            ],
            [
             1,
             "#f0f921"
            ]
           ]
          },
          "colorway": [
           "#636efa",
           "#EF553B",
           "#00cc96",
           "#ab63fa",
           "#FFA15A",
           "#19d3f3",
           "#FF6692",
           "#B6E880",
           "#FF97FF",
           "#FECB52"
          ],
          "font": {
           "color": "#2a3f5f"
          },
          "geo": {
           "bgcolor": "white",
           "lakecolor": "white",
           "landcolor": "#E5ECF6",
           "showlakes": true,
           "showland": true,
           "subunitcolor": "white"
          },
          "hoverlabel": {
           "align": "left"
          },
          "hovermode": "closest",
          "mapbox": {
           "style": "light"
          },
          "paper_bgcolor": "white",
          "plot_bgcolor": "#E5ECF6",
          "polar": {
           "angularaxis": {
            "gridcolor": "white",
            "linecolor": "white",
            "ticks": ""
           },
           "bgcolor": "#E5ECF6",
           "radialaxis": {
            "gridcolor": "white",
            "linecolor": "white",
            "ticks": ""
           }
          },
          "scene": {
           "xaxis": {
            "backgroundcolor": "#E5ECF6",
            "gridcolor": "white",
            "gridwidth": 2,
            "linecolor": "white",
            "showbackground": true,
            "ticks": "",
            "zerolinecolor": "white"
           },
           "yaxis": {
            "backgroundcolor": "#E5ECF6",
            "gridcolor": "white",
            "gridwidth": 2,
            "linecolor": "white",
            "showbackground": true,
            "ticks": "",
            "zerolinecolor": "white"
           },
           "zaxis": {
            "backgroundcolor": "#E5ECF6",
            "gridcolor": "white",
            "gridwidth": 2,
            "linecolor": "white",
            "showbackground": true,
            "ticks": "",
            "zerolinecolor": "white"
           }
          },
          "shapedefaults": {
           "line": {
            "color": "#2a3f5f"
           }
          },
          "ternary": {
           "aaxis": {
            "gridcolor": "white",
            "linecolor": "white",
            "ticks": ""
           },
           "baxis": {
            "gridcolor": "white",
            "linecolor": "white",
            "ticks": ""
           },
           "bgcolor": "#E5ECF6",
           "caxis": {
            "gridcolor": "white",
            "linecolor": "white",
            "ticks": ""
           }
          },
          "title": {
           "x": 0.05
          },
          "xaxis": {
           "automargin": true,
           "gridcolor": "white",
           "linecolor": "white",
           "ticks": "",
           "title": {
            "standoff": 15
           },
           "zerolinecolor": "white",
           "zerolinewidth": 2
          },
          "yaxis": {
           "automargin": true,
           "gridcolor": "white",
           "linecolor": "white",
           "ticks": "",
           "title": {
            "standoff": 15
           },
           "zerolinecolor": "white",
           "zerolinewidth": 2
          }
         }
        },
        "title": {
         "text": "Comparaison du biais des estimateurs de la vraisemblance en fonction de la complexité computationnelle"
        },
        "xaxis": {
         "title": {
          "text": "r"
         }
        },
        "yaxis": {
         "title": {
          "text": "Biais de l'estimateur"
         }
        }
       }
      }
     },
     "metadata": {},
     "output_type": "display_data"
    }
   ],
   "source": [
    "Code.plot_bias_likelihood(x, theta_true, noised_A, noised_b, 0.6, 1, 1000, 5)"
   ]
  },
  {
   "cell_type": "code",
   "execution_count": 8,
   "metadata": {},
   "outputs": [
    {
     "name": "stderr",
     "output_type": "stream",
     "text": [
      "Progression: 40it [05:33,  8.34s/it]                        \n"
     ]
    },
    {
     "data": {
      "application/vnd.plotly.v1+json": {
       "config": {
        "plotlyServerURL": "https://plot.ly"
       },
       "data": [
        {
         "line": {
          "color": "green"
         },
         "mode": "lines",
         "name": "SUMO",
         "type": "scatter",
         "x": [
          1,
          1.0465116279069766,
          1.0975609756097562,
          1.1538461538461537,
          1.2162162162162162,
          1.2857142857142856,
          1.3636363636363635,
          1.4516129032258065,
          1.5517241379310347,
          1.6666666666666667
         ],
         "y": [
          50.62870989179812,
          46.98542178956464,
          48.40743947205756,
          49.17499114117219,
          48.72895962780189,
          50.825204101828504,
          46.05242296004273,
          35.20369146684344,
          40.885033546924234,
          39.35161280146033
         ]
        },
        {
         "line": {
          "color": "purple"
         },
         "mode": "lines",
         "name": "ML_SS",
         "type": "scatter",
         "x": [
          1,
          1.0465116279069766,
          1.0975609756097562,
          1.1538461538461537,
          1.2162162162162162,
          1.2857142857142856,
          1.3636363636363635,
          1.4516129032258065,
          1.5517241379310347,
          1.6666666666666667
         ],
         "y": [
          48.97342115165394,
          47.0182811942147,
          47.393836132816084,
          47.34837714552185,
          46.94487709937237,
          46.851761395575636,
          46.90685351157513,
          46.76403494678386,
          46.83871620089697,
          47.2474758650369
         ]
        },
        {
         "line": {
          "color": "orange"
         },
         "mode": "lines",
         "name": "ML_RR",
         "type": "scatter",
         "x": [
          1,
          1.0465116279069766,
          1.0975609756097562,
          1.1538461538461537,
          1.2162162162162162,
          1.2857142857142856,
          1.3636363636363635,
          1.4516129032258065,
          1.5517241379310347,
          1.6666666666666667
         ],
         "y": [
          44.852525687958334,
          42.51670538042647,
          43.636308238661975,
          43.205017688872026,
          41.31133151519521,
          42.81195618380067,
          42.83514029666059,
          41.17090032912282,
          42.04318012231616,
          41.29942814488188
         ]
        },
        {
         "line": {
          "color": "yellow"
         },
         "mode": "lines",
         "name": "IWAE",
         "type": "scatter",
         "x": [
          1,
          1.0465116279069766,
          1.0975609756097562,
          1.1538461538461537,
          1.2162162162162162,
          1.2857142857142856,
          1.3636363636363635,
          1.4516129032258065,
          1.5517241379310347,
          1.6666666666666667
         ],
         "y": [
          49.927406907101805,
          51.80971194126884,
          50.49849276264949,
          51.29310477003803,
          51.22706277706856,
          51.32937562949874,
          50.63180364852647,
          50.71795796866924,
          50.45429872391379,
          50.507691855674004
         ]
        }
       ],
       "layout": {
        "legend": {
         "font": {
          "size": 12
         },
         "traceorder": "normal",
         "x": 0,
         "y": 1
        },
        "showlegend": true,
        "template": {
         "data": {
          "bar": [
           {
            "error_x": {
             "color": "#2a3f5f"
            },
            "error_y": {
             "color": "#2a3f5f"
            },
            "marker": {
             "line": {
              "color": "#E5ECF6",
              "width": 0.5
             },
             "pattern": {
              "fillmode": "overlay",
              "size": 10,
              "solidity": 0.2
             }
            },
            "type": "bar"
           }
          ],
          "barpolar": [
           {
            "marker": {
             "line": {
              "color": "#E5ECF6",
              "width": 0.5
             },
             "pattern": {
              "fillmode": "overlay",
              "size": 10,
              "solidity": 0.2
             }
            },
            "type": "barpolar"
           }
          ],
          "carpet": [
           {
            "aaxis": {
             "endlinecolor": "#2a3f5f",
             "gridcolor": "white",
             "linecolor": "white",
             "minorgridcolor": "white",
             "startlinecolor": "#2a3f5f"
            },
            "baxis": {
             "endlinecolor": "#2a3f5f",
             "gridcolor": "white",
             "linecolor": "white",
             "minorgridcolor": "white",
             "startlinecolor": "#2a3f5f"
            },
            "type": "carpet"
           }
          ],
          "choropleth": [
           {
            "colorbar": {
             "outlinewidth": 0,
             "ticks": ""
            },
            "type": "choropleth"
           }
          ],
          "contour": [
           {
            "colorbar": {
             "outlinewidth": 0,
             "ticks": ""
            },
            "colorscale": [
             [
              0,
              "#0d0887"
             ],
             [
              0.1111111111111111,
              "#46039f"
             ],
             [
              0.2222222222222222,
              "#7201a8"
             ],
             [
              0.3333333333333333,
              "#9c179e"
             ],
             [
              0.4444444444444444,
              "#bd3786"
             ],
             [
              0.5555555555555556,
              "#d8576b"
             ],
             [
              0.6666666666666666,
              "#ed7953"
             ],
             [
              0.7777777777777778,
              "#fb9f3a"
             ],
             [
              0.8888888888888888,
              "#fdca26"
             ],
             [
              1,
              "#f0f921"
             ]
            ],
            "type": "contour"
           }
          ],
          "contourcarpet": [
           {
            "colorbar": {
             "outlinewidth": 0,
             "ticks": ""
            },
            "type": "contourcarpet"
           }
          ],
          "heatmap": [
           {
            "colorbar": {
             "outlinewidth": 0,
             "ticks": ""
            },
            "colorscale": [
             [
              0,
              "#0d0887"
             ],
             [
              0.1111111111111111,
              "#46039f"
             ],
             [
              0.2222222222222222,
              "#7201a8"
             ],
             [
              0.3333333333333333,
              "#9c179e"
             ],
             [
              0.4444444444444444,
              "#bd3786"
             ],
             [
              0.5555555555555556,
              "#d8576b"
             ],
             [
              0.6666666666666666,
              "#ed7953"
             ],
             [
              0.7777777777777778,
              "#fb9f3a"
             ],
             [
              0.8888888888888888,
              "#fdca26"
             ],
             [
              1,
              "#f0f921"
             ]
            ],
            "type": "heatmap"
           }
          ],
          "heatmapgl": [
           {
            "colorbar": {
             "outlinewidth": 0,
             "ticks": ""
            },
            "colorscale": [
             [
              0,
              "#0d0887"
             ],
             [
              0.1111111111111111,
              "#46039f"
             ],
             [
              0.2222222222222222,
              "#7201a8"
             ],
             [
              0.3333333333333333,
              "#9c179e"
             ],
             [
              0.4444444444444444,
              "#bd3786"
             ],
             [
              0.5555555555555556,
              "#d8576b"
             ],
             [
              0.6666666666666666,
              "#ed7953"
             ],
             [
              0.7777777777777778,
              "#fb9f3a"
             ],
             [
              0.8888888888888888,
              "#fdca26"
             ],
             [
              1,
              "#f0f921"
             ]
            ],
            "type": "heatmapgl"
           }
          ],
          "histogram": [
           {
            "marker": {
             "pattern": {
              "fillmode": "overlay",
              "size": 10,
              "solidity": 0.2
             }
            },
            "type": "histogram"
           }
          ],
          "histogram2d": [
           {
            "colorbar": {
             "outlinewidth": 0,
             "ticks": ""
            },
            "colorscale": [
             [
              0,
              "#0d0887"
             ],
             [
              0.1111111111111111,
              "#46039f"
             ],
             [
              0.2222222222222222,
              "#7201a8"
             ],
             [
              0.3333333333333333,
              "#9c179e"
             ],
             [
              0.4444444444444444,
              "#bd3786"
             ],
             [
              0.5555555555555556,
              "#d8576b"
             ],
             [
              0.6666666666666666,
              "#ed7953"
             ],
             [
              0.7777777777777778,
              "#fb9f3a"
             ],
             [
              0.8888888888888888,
              "#fdca26"
             ],
             [
              1,
              "#f0f921"
             ]
            ],
            "type": "histogram2d"
           }
          ],
          "histogram2dcontour": [
           {
            "colorbar": {
             "outlinewidth": 0,
             "ticks": ""
            },
            "colorscale": [
             [
              0,
              "#0d0887"
             ],
             [
              0.1111111111111111,
              "#46039f"
             ],
             [
              0.2222222222222222,
              "#7201a8"
             ],
             [
              0.3333333333333333,
              "#9c179e"
             ],
             [
              0.4444444444444444,
              "#bd3786"
             ],
             [
              0.5555555555555556,
              "#d8576b"
             ],
             [
              0.6666666666666666,
              "#ed7953"
             ],
             [
              0.7777777777777778,
              "#fb9f3a"
             ],
             [
              0.8888888888888888,
              "#fdca26"
             ],
             [
              1,
              "#f0f921"
             ]
            ],
            "type": "histogram2dcontour"
           }
          ],
          "mesh3d": [
           {
            "colorbar": {
             "outlinewidth": 0,
             "ticks": ""
            },
            "type": "mesh3d"
           }
          ],
          "parcoords": [
           {
            "line": {
             "colorbar": {
              "outlinewidth": 0,
              "ticks": ""
             }
            },
            "type": "parcoords"
           }
          ],
          "pie": [
           {
            "automargin": true,
            "type": "pie"
           }
          ],
          "scatter": [
           {
            "fillpattern": {
             "fillmode": "overlay",
             "size": 10,
             "solidity": 0.2
            },
            "type": "scatter"
           }
          ],
          "scatter3d": [
           {
            "line": {
             "colorbar": {
              "outlinewidth": 0,
              "ticks": ""
             }
            },
            "marker": {
             "colorbar": {
              "outlinewidth": 0,
              "ticks": ""
             }
            },
            "type": "scatter3d"
           }
          ],
          "scattercarpet": [
           {
            "marker": {
             "colorbar": {
              "outlinewidth": 0,
              "ticks": ""
             }
            },
            "type": "scattercarpet"
           }
          ],
          "scattergeo": [
           {
            "marker": {
             "colorbar": {
              "outlinewidth": 0,
              "ticks": ""
             }
            },
            "type": "scattergeo"
           }
          ],
          "scattergl": [
           {
            "marker": {
             "colorbar": {
              "outlinewidth": 0,
              "ticks": ""
             }
            },
            "type": "scattergl"
           }
          ],
          "scattermapbox": [
           {
            "marker": {
             "colorbar": {
              "outlinewidth": 0,
              "ticks": ""
             }
            },
            "type": "scattermapbox"
           }
          ],
          "scatterpolar": [
           {
            "marker": {
             "colorbar": {
              "outlinewidth": 0,
              "ticks": ""
             }
            },
            "type": "scatterpolar"
           }
          ],
          "scatterpolargl": [
           {
            "marker": {
             "colorbar": {
              "outlinewidth": 0,
              "ticks": ""
             }
            },
            "type": "scatterpolargl"
           }
          ],
          "scatterternary": [
           {
            "marker": {
             "colorbar": {
              "outlinewidth": 0,
              "ticks": ""
             }
            },
            "type": "scatterternary"
           }
          ],
          "surface": [
           {
            "colorbar": {
             "outlinewidth": 0,
             "ticks": ""
            },
            "colorscale": [
             [
              0,
              "#0d0887"
             ],
             [
              0.1111111111111111,
              "#46039f"
             ],
             [
              0.2222222222222222,
              "#7201a8"
             ],
             [
              0.3333333333333333,
              "#9c179e"
             ],
             [
              0.4444444444444444,
              "#bd3786"
             ],
             [
              0.5555555555555556,
              "#d8576b"
             ],
             [
              0.6666666666666666,
              "#ed7953"
             ],
             [
              0.7777777777777778,
              "#fb9f3a"
             ],
             [
              0.8888888888888888,
              "#fdca26"
             ],
             [
              1,
              "#f0f921"
             ]
            ],
            "type": "surface"
           }
          ],
          "table": [
           {
            "cells": {
             "fill": {
              "color": "#EBF0F8"
             },
             "line": {
              "color": "white"
             }
            },
            "header": {
             "fill": {
              "color": "#C8D4E3"
             },
             "line": {
              "color": "white"
             }
            },
            "type": "table"
           }
          ]
         },
         "layout": {
          "annotationdefaults": {
           "arrowcolor": "#2a3f5f",
           "arrowhead": 0,
           "arrowwidth": 1
          },
          "autotypenumbers": "strict",
          "coloraxis": {
           "colorbar": {
            "outlinewidth": 0,
            "ticks": ""
           }
          },
          "colorscale": {
           "diverging": [
            [
             0,
             "#8e0152"
            ],
            [
             0.1,
             "#c51b7d"
            ],
            [
             0.2,
             "#de77ae"
            ],
            [
             0.3,
             "#f1b6da"
            ],
            [
             0.4,
             "#fde0ef"
            ],
            [
             0.5,
             "#f7f7f7"
            ],
            [
             0.6,
             "#e6f5d0"
            ],
            [
             0.7,
             "#b8e186"
            ],
            [
             0.8,
             "#7fbc41"
            ],
            [
             0.9,
             "#4d9221"
            ],
            [
             1,
             "#276419"
            ]
           ],
           "sequential": [
            [
             0,
             "#0d0887"
            ],
            [
             0.1111111111111111,
             "#46039f"
            ],
            [
             0.2222222222222222,
             "#7201a8"
            ],
            [
             0.3333333333333333,
             "#9c179e"
            ],
            [
             0.4444444444444444,
             "#bd3786"
            ],
            [
             0.5555555555555556,
             "#d8576b"
            ],
            [
             0.6666666666666666,
             "#ed7953"
            ],
            [
             0.7777777777777778,
             "#fb9f3a"
            ],
            [
             0.8888888888888888,
             "#fdca26"
            ],
            [
             1,
             "#f0f921"
            ]
           ],
           "sequentialminus": [
            [
             0,
             "#0d0887"
            ],
            [
             0.1111111111111111,
             "#46039f"
            ],
            [
             0.2222222222222222,
             "#7201a8"
            ],
            [
             0.3333333333333333,
             "#9c179e"
            ],
            [
             0.4444444444444444,
             "#bd3786"
            ],
            [
             0.5555555555555556,
             "#d8576b"
            ],
            [
             0.6666666666666666,
             "#ed7953"
            ],
            [
             0.7777777777777778,
             "#fb9f3a"
            ],
            [
             0.8888888888888888,
             "#fdca26"
            ],
            [
             1,
             "#f0f921"
            ]
           ]
          },
          "colorway": [
           "#636efa",
           "#EF553B",
           "#00cc96",
           "#ab63fa",
           "#FFA15A",
           "#19d3f3",
           "#FF6692",
           "#B6E880",
           "#FF97FF",
           "#FECB52"
          ],
          "font": {
           "color": "#2a3f5f"
          },
          "geo": {
           "bgcolor": "white",
           "lakecolor": "white",
           "landcolor": "#E5ECF6",
           "showlakes": true,
           "showland": true,
           "subunitcolor": "white"
          },
          "hoverlabel": {
           "align": "left"
          },
          "hovermode": "closest",
          "mapbox": {
           "style": "light"
          },
          "paper_bgcolor": "white",
          "plot_bgcolor": "#E5ECF6",
          "polar": {
           "angularaxis": {
            "gridcolor": "white",
            "linecolor": "white",
            "ticks": ""
           },
           "bgcolor": "#E5ECF6",
           "radialaxis": {
            "gridcolor": "white",
            "linecolor": "white",
            "ticks": ""
           }
          },
          "scene": {
           "xaxis": {
            "backgroundcolor": "#E5ECF6",
            "gridcolor": "white",
            "gridwidth": 2,
            "linecolor": "white",
            "showbackground": true,
            "ticks": "",
            "zerolinecolor": "white"
           },
           "yaxis": {
            "backgroundcolor": "#E5ECF6",
            "gridcolor": "white",
            "gridwidth": 2,
            "linecolor": "white",
            "showbackground": true,
            "ticks": "",
            "zerolinecolor": "white"
           },
           "zaxis": {
            "backgroundcolor": "#E5ECF6",
            "gridcolor": "white",
            "gridwidth": 2,
            "linecolor": "white",
            "showbackground": true,
            "ticks": "",
            "zerolinecolor": "white"
           }
          },
          "shapedefaults": {
           "line": {
            "color": "#2a3f5f"
           }
          },
          "ternary": {
           "aaxis": {
            "gridcolor": "white",
            "linecolor": "white",
            "ticks": ""
           },
           "baxis": {
            "gridcolor": "white",
            "linecolor": "white",
            "ticks": ""
           },
           "bgcolor": "#E5ECF6",
           "caxis": {
            "gridcolor": "white",
            "linecolor": "white",
            "ticks": ""
           }
          },
          "title": {
           "x": 0.05
          },
          "xaxis": {
           "automargin": true,
           "gridcolor": "white",
           "linecolor": "white",
           "ticks": "",
           "title": {
            "standoff": 15
           },
           "zerolinecolor": "white",
           "zerolinewidth": 2
          },
          "yaxis": {
           "automargin": true,
           "gridcolor": "white",
           "linecolor": "white",
           "ticks": "",
           "title": {
            "standoff": 15
           },
           "zerolinecolor": "white",
           "zerolinewidth": 2
          }
         }
        },
        "title": {
         "text": "Comparaison du biais des estimateurs de la vraisemblance en fonction de la complexité computationnelle"
        },
        "xaxis": {
         "title": {
          "text": "r"
         }
        },
        "yaxis": {
         "title": {
          "text": "Biais de l'estimateur"
         }
        }
       }
      }
     },
     "metadata": {},
     "output_type": "display_data"
    }
   ],
   "source": [
    "Code.plot_bias_likelihood(x, theta_true, noised_A, noised_b, 0.6, 1, 1000, 10)"
   ]
  },
  {
   "cell_type": "code",
   "execution_count": 7,
   "metadata": {},
   "outputs": [
    {
     "name": "stderr",
     "output_type": "stream",
     "text": [
      "Progression:   0%|          | 0/40 [00:00<?, ?it/s]"
     ]
    },
    {
     "name": "stdout",
     "output_type": "stream",
     "text": [
      " \n",
      " Étape : 1 / 10 \n",
      "\n"
     ]
    },
    {
     "name": "stderr",
     "output_type": "stream",
     "text": [
      "Progression:   0%|          | 0/100 [00:00<?, ?it/s]"
     ]
    },
    {
     "name": "stderr",
     "output_type": "stream",
     "text": [
      "Progression: 100%|██████████| 100/100 [00:02<00:00, 48.40it/s]\n",
      "Progression: 100%|██████████| 100/100 [00:02<00:00, 48.73it/s]\n",
      "Progression: 100%|██████████| 100/100 [00:02<00:00, 48.60it/s]\n",
      "Progression: 100%|██████████| 100/100 [00:01<00:00, 70.24it/s]\n",
      "Progression:  10%|█         | 4/40 [00:07<01:05,  1.81s/it]"
     ]
    },
    {
     "name": "stdout",
     "output_type": "stream",
     "text": [
      " \n",
      " Étape : 2 / 10 \n",
      "\n"
     ]
    },
    {
     "name": "stderr",
     "output_type": "stream",
     "text": [
      "Progression: 100%|██████████| 100/100 [00:01<00:00, 54.36it/s]\n",
      "Progression: 100%|██████████| 100/100 [00:02<00:00, 38.12it/s]\n",
      "Progression: 100%|██████████| 100/100 [00:02<00:00, 38.15it/s]\n",
      "Progression: 100%|██████████| 100/100 [00:01<00:00, 62.07it/s]\n",
      "Progression:  20%|██        | 8/40 [00:16<01:05,  2.06s/it]"
     ]
    },
    {
     "name": "stdout",
     "output_type": "stream",
     "text": [
      " \n",
      " Étape : 3 / 10 \n",
      "\n"
     ]
    },
    {
     "name": "stderr",
     "output_type": "stream",
     "text": [
      "Progression: 100%|██████████| 100/100 [00:01<00:00, 51.40it/s]\n",
      "Progression: 100%|██████████| 100/100 [00:03<00:00, 28.65it/s]\n",
      "Progression: 100%|██████████| 100/100 [00:03<00:00, 28.68it/s]\n",
      "Progression: 100%|██████████| 100/100 [00:01<00:00, 61.59it/s]\n",
      "Progression:  30%|███       | 12/40 [00:26<01:08,  2.44s/it]"
     ]
    },
    {
     "name": "stdout",
     "output_type": "stream",
     "text": [
      " \n",
      " Étape : 4 / 10 \n",
      "\n"
     ]
    },
    {
     "name": "stderr",
     "output_type": "stream",
     "text": [
      "Progression: 100%|██████████| 100/100 [00:02<00:00, 48.31it/s]\n",
      "Progression: 100%|██████████| 100/100 [00:05<00:00, 19.51it/s]\n",
      "Progression: 100%|██████████| 100/100 [00:05<00:00, 19.59it/s]\n",
      "Progression: 100%|██████████| 100/100 [00:01<00:00, 56.34it/s]\n",
      "Progression:  40%|████      | 16/40 [00:40<01:15,  3.16s/it]"
     ]
    },
    {
     "name": "stdout",
     "output_type": "stream",
     "text": [
      " \n",
      " Étape : 5 / 10 \n",
      "\n"
     ]
    },
    {
     "name": "stderr",
     "output_type": "stream",
     "text": [
      "Progression: 100%|██████████| 100/100 [00:02<00:00, 38.31it/s]\n",
      "Progression: 100%|██████████| 100/100 [00:08<00:00, 11.80it/s]\n",
      "Progression: 100%|██████████| 100/100 [00:08<00:00, 12.09it/s]\n",
      "Progression: 100%|██████████| 100/100 [00:01<00:00, 54.76it/s]\n",
      "Progression:  50%|█████     | 20/40 [01:02<01:31,  4.56s/it]"
     ]
    },
    {
     "name": "stdout",
     "output_type": "stream",
     "text": [
      " \n",
      " Étape : 6 / 10 \n",
      "\n"
     ]
    },
    {
     "name": "stderr",
     "output_type": "stream",
     "text": [
      "Progression: 100%|██████████| 100/100 [00:02<00:00, 36.14it/s]\n",
      "Progression: 100%|██████████| 100/100 [00:13<00:00,  7.53it/s]\n",
      "Progression: 100%|██████████| 100/100 [00:13<00:00,  7.50it/s]\n",
      "Progression: 100%|██████████| 100/100 [00:01<00:00, 56.26it/s]\n",
      "Progression:  60%|██████    | 24/40 [01:33<01:46,  6.67s/it]"
     ]
    },
    {
     "name": "stdout",
     "output_type": "stream",
     "text": [
      " \n",
      " Étape : 7 / 10 \n",
      "\n"
     ]
    },
    {
     "name": "stderr",
     "output_type": "stream",
     "text": [
      "Progression: 100%|██████████| 100/100 [00:02<00:00, 37.53it/s]\n",
      "Progression: 100%|██████████| 100/100 [00:24<00:00,  4.14it/s]\n",
      "Progression: 100%|██████████| 100/100 [00:30<00:00,  3.26it/s]\n",
      "Progression: 100%|██████████| 100/100 [00:01<00:00, 56.59it/s]\n",
      "Progression:  70%|███████   | 28/40 [02:32<02:28, 12.40s/it]"
     ]
    },
    {
     "name": "stdout",
     "output_type": "stream",
     "text": [
      " \n",
      " Étape : 8 / 10 \n",
      "\n"
     ]
    },
    {
     "name": "stderr",
     "output_type": "stream",
     "text": [
      "Progression: 100%|██████████| 100/100 [00:02<00:00, 38.19it/s]\n",
      "Progression: 100%|██████████| 100/100 [00:43<00:00,  2.27it/s]\n",
      "Progression: 100%|██████████| 100/100 [00:43<00:00,  2.29it/s]\n",
      "Progression: 100%|██████████| 100/100 [00:02<00:00, 46.39it/s]\n",
      "Progression:  80%|████████  | 32/40 [04:05<02:36, 19.53s/it]"
     ]
    },
    {
     "name": "stdout",
     "output_type": "stream",
     "text": [
      " \n",
      " Étape : 9 / 10 \n",
      "\n"
     ]
    },
    {
     "name": "stderr",
     "output_type": "stream",
     "text": [
      "Progression: 100%|██████████| 100/100 [00:02<00:00, 39.27it/s]\n",
      "Progression: 100%|██████████| 100/100 [01:27<00:00,  1.15it/s]\n",
      "Progression: 100%|██████████| 100/100 [01:31<00:00,  1.09it/s]\n",
      "Progression: 100%|██████████| 100/100 [00:01<00:00, 51.04it/s]\n",
      "Progression:  90%|█████████ | 36/40 [07:08<02:30, 37.63s/it]"
     ]
    },
    {
     "name": "stdout",
     "output_type": "stream",
     "text": [
      " \n",
      " Étape : 10 / 10 \n",
      "\n"
     ]
    },
    {
     "name": "stderr",
     "output_type": "stream",
     "text": [
      "Progression: 100%|██████████| 100/100 [00:02<00:00, 43.60it/s]\n",
      "Progression: 100%|██████████| 100/100 [02:57<00:00,  1.78s/it]\n",
      "Progression: 100%|██████████| 100/100 [02:51<00:00,  1.72s/it]\n",
      "Progression: 100%|██████████| 100/100 [00:02<00:00, 43.58it/s]\n",
      "Progression: 100%|██████████| 40/40 [13:02<00:00, 19.56s/it] \n"
     ]
    },
    {
     "data": {
      "application/vnd.plotly.v1+json": {
       "config": {
        "plotlyServerURL": "https://plot.ly"
       },
       "data": [
        {
         "line": {
          "color": "green"
         },
         "mode": "lines",
         "name": "SUMO",
         "type": "scatter",
         "x": [
          1,
          2,
          3,
          4,
          5,
          6,
          7,
          8,
          9,
          10
         ],
         "y": [
          50.85842616402661,
          46.99960825755102,
          43.77217789763521,
          38.705712264444244,
          32.63816124927298,
          12.488028045464588,
          0.9267667913011004,
          46.79615764481329,
          369.51108560076773,
          177.92572058116184
         ]
        },
        {
         "line": {
          "color": "purple"
         },
         "mode": "lines",
         "name": "ML_SS",
         "type": "scatter",
         "x": [
          1,
          2,
          3,
          4,
          5,
          6,
          7,
          8,
          9,
          10
         ],
         "y": [
          46.60255204226787,
          45.18934587515567,
          46.24144684607242,
          44.086054048073095,
          43.21676715339184,
          41.42299487809644,
          41.38927966858993,
          39.60908992013854,
          35.52924886624759,
          26.43268338145722
         ]
        },
        {
         "line": {
          "color": "orange"
         },
         "mode": "lines",
         "name": "ML_RR",
         "type": "scatter",
         "x": [
          1,
          2,
          3,
          4,
          5,
          6,
          7,
          8,
          9,
          10
         ],
         "y": [
          44.617697614605426,
          42.69621235219595,
          38.87126325965841,
          35.66191465427001,
          29.05667629902423,
          27.487529618515513,
          15.030437201905535,
          13.595203509753071,
          8.875405103715792,
          3.177868603069335
         ]
        },
        {
         "line": {
          "color": "yellow"
         },
         "mode": "lines",
         "name": "IWAE",
         "type": "scatter",
         "x": [
          1,
          2,
          3,
          4,
          5,
          6,
          7,
          8,
          9,
          10
         ],
         "y": [
          51.66386388658502,
          48.58481837829306,
          45.704380029825515,
          44.55982683839832,
          44.98537664933396,
          45.40445883649611,
          44.56009977051872,
          43.67011666363545,
          43.00638348435077,
          43.6051710466149
         ]
        }
       ],
       "layout": {
        "legend": {
         "font": {
          "size": 12
         },
         "traceorder": "normal",
         "x": 0,
         "y": 1
        },
        "showlegend": true,
        "template": {
         "data": {
          "bar": [
           {
            "error_x": {
             "color": "#2a3f5f"
            },
            "error_y": {
             "color": "#2a3f5f"
            },
            "marker": {
             "line": {
              "color": "#E5ECF6",
              "width": 0.5
             },
             "pattern": {
              "fillmode": "overlay",
              "size": 10,
              "solidity": 0.2
             }
            },
            "type": "bar"
           }
          ],
          "barpolar": [
           {
            "marker": {
             "line": {
              "color": "#E5ECF6",
              "width": 0.5
             },
             "pattern": {
              "fillmode": "overlay",
              "size": 10,
              "solidity": 0.2
             }
            },
            "type": "barpolar"
           }
          ],
          "carpet": [
           {
            "aaxis": {
             "endlinecolor": "#2a3f5f",
             "gridcolor": "white",
             "linecolor": "white",
             "minorgridcolor": "white",
             "startlinecolor": "#2a3f5f"
            },
            "baxis": {
             "endlinecolor": "#2a3f5f",
             "gridcolor": "white",
             "linecolor": "white",
             "minorgridcolor": "white",
             "startlinecolor": "#2a3f5f"
            },
            "type": "carpet"
           }
          ],
          "choropleth": [
           {
            "colorbar": {
             "outlinewidth": 0,
             "ticks": ""
            },
            "type": "choropleth"
           }
          ],
          "contour": [
           {
            "colorbar": {
             "outlinewidth": 0,
             "ticks": ""
            },
            "colorscale": [
             [
              0,
              "#0d0887"
             ],
             [
              0.1111111111111111,
              "#46039f"
             ],
             [
              0.2222222222222222,
              "#7201a8"
             ],
             [
              0.3333333333333333,
              "#9c179e"
             ],
             [
              0.4444444444444444,
              "#bd3786"
             ],
             [
              0.5555555555555556,
              "#d8576b"
             ],
             [
              0.6666666666666666,
              "#ed7953"
             ],
             [
              0.7777777777777778,
              "#fb9f3a"
             ],
             [
              0.8888888888888888,
              "#fdca26"
             ],
             [
              1,
              "#f0f921"
             ]
            ],
            "type": "contour"
           }
          ],
          "contourcarpet": [
           {
            "colorbar": {
             "outlinewidth": 0,
             "ticks": ""
            },
            "type": "contourcarpet"
           }
          ],
          "heatmap": [
           {
            "colorbar": {
             "outlinewidth": 0,
             "ticks": ""
            },
            "colorscale": [
             [
              0,
              "#0d0887"
             ],
             [
              0.1111111111111111,
              "#46039f"
             ],
             [
              0.2222222222222222,
              "#7201a8"
             ],
             [
              0.3333333333333333,
              "#9c179e"
             ],
             [
              0.4444444444444444,
              "#bd3786"
             ],
             [
              0.5555555555555556,
              "#d8576b"
             ],
             [
              0.6666666666666666,
              "#ed7953"
             ],
             [
              0.7777777777777778,
              "#fb9f3a"
             ],
             [
              0.8888888888888888,
              "#fdca26"
             ],
             [
              1,
              "#f0f921"
             ]
            ],
            "type": "heatmap"
           }
          ],
          "heatmapgl": [
           {
            "colorbar": {
             "outlinewidth": 0,
             "ticks": ""
            },
            "colorscale": [
             [
              0,
              "#0d0887"
             ],
             [
              0.1111111111111111,
              "#46039f"
             ],
             [
              0.2222222222222222,
              "#7201a8"
             ],
             [
              0.3333333333333333,
              "#9c179e"
             ],
             [
              0.4444444444444444,
              "#bd3786"
             ],
             [
              0.5555555555555556,
              "#d8576b"
             ],
             [
              0.6666666666666666,
              "#ed7953"
             ],
             [
              0.7777777777777778,
              "#fb9f3a"
             ],
             [
              0.8888888888888888,
              "#fdca26"
             ],
             [
              1,
              "#f0f921"
             ]
            ],
            "type": "heatmapgl"
           }
          ],
          "histogram": [
           {
            "marker": {
             "pattern": {
              "fillmode": "overlay",
              "size": 10,
              "solidity": 0.2
             }
            },
            "type": "histogram"
           }
          ],
          "histogram2d": [
           {
            "colorbar": {
             "outlinewidth": 0,
             "ticks": ""
            },
            "colorscale": [
             [
              0,
              "#0d0887"
             ],
             [
              0.1111111111111111,
              "#46039f"
             ],
             [
              0.2222222222222222,
              "#7201a8"
             ],
             [
              0.3333333333333333,
              "#9c179e"
             ],
             [
              0.4444444444444444,
              "#bd3786"
             ],
             [
              0.5555555555555556,
              "#d8576b"
             ],
             [
              0.6666666666666666,
              "#ed7953"
             ],
             [
              0.7777777777777778,
              "#fb9f3a"
             ],
             [
              0.8888888888888888,
              "#fdca26"
             ],
             [
              1,
              "#f0f921"
             ]
            ],
            "type": "histogram2d"
           }
          ],
          "histogram2dcontour": [
           {
            "colorbar": {
             "outlinewidth": 0,
             "ticks": ""
            },
            "colorscale": [
             [
              0,
              "#0d0887"
             ],
             [
              0.1111111111111111,
              "#46039f"
             ],
             [
              0.2222222222222222,
              "#7201a8"
             ],
             [
              0.3333333333333333,
              "#9c179e"
             ],
             [
              0.4444444444444444,
              "#bd3786"
             ],
             [
              0.5555555555555556,
              "#d8576b"
             ],
             [
              0.6666666666666666,
              "#ed7953"
             ],
             [
              0.7777777777777778,
              "#fb9f3a"
             ],
             [
              0.8888888888888888,
              "#fdca26"
             ],
             [
              1,
              "#f0f921"
             ]
            ],
            "type": "histogram2dcontour"
           }
          ],
          "mesh3d": [
           {
            "colorbar": {
             "outlinewidth": 0,
             "ticks": ""
            },
            "type": "mesh3d"
           }
          ],
          "parcoords": [
           {
            "line": {
             "colorbar": {
              "outlinewidth": 0,
              "ticks": ""
             }
            },
            "type": "parcoords"
           }
          ],
          "pie": [
           {
            "automargin": true,
            "type": "pie"
           }
          ],
          "scatter": [
           {
            "fillpattern": {
             "fillmode": "overlay",
             "size": 10,
             "solidity": 0.2
            },
            "type": "scatter"
           }
          ],
          "scatter3d": [
           {
            "line": {
             "colorbar": {
              "outlinewidth": 0,
              "ticks": ""
             }
            },
            "marker": {
             "colorbar": {
              "outlinewidth": 0,
              "ticks": ""
             }
            },
            "type": "scatter3d"
           }
          ],
          "scattercarpet": [
           {
            "marker": {
             "colorbar": {
              "outlinewidth": 0,
              "ticks": ""
             }
            },
            "type": "scattercarpet"
           }
          ],
          "scattergeo": [
           {
            "marker": {
             "colorbar": {
              "outlinewidth": 0,
              "ticks": ""
             }
            },
            "type": "scattergeo"
           }
          ],
          "scattergl": [
           {
            "marker": {
             "colorbar": {
              "outlinewidth": 0,
              "ticks": ""
             }
            },
            "type": "scattergl"
           }
          ],
          "scattermapbox": [
           {
            "marker": {
             "colorbar": {
              "outlinewidth": 0,
              "ticks": ""
             }
            },
            "type": "scattermapbox"
           }
          ],
          "scatterpolar": [
           {
            "marker": {
             "colorbar": {
              "outlinewidth": 0,
              "ticks": ""
             }
            },
            "type": "scatterpolar"
           }
          ],
          "scatterpolargl": [
           {
            "marker": {
             "colorbar": {
              "outlinewidth": 0,
              "ticks": ""
             }
            },
            "type": "scatterpolargl"
           }
          ],
          "scatterternary": [
           {
            "marker": {
             "colorbar": {
              "outlinewidth": 0,
              "ticks": ""
             }
            },
            "type": "scatterternary"
           }
          ],
          "surface": [
           {
            "colorbar": {
             "outlinewidth": 0,
             "ticks": ""
            },
            "colorscale": [
             [
              0,
              "#0d0887"
             ],
             [
              0.1111111111111111,
              "#46039f"
             ],
             [
              0.2222222222222222,
              "#7201a8"
             ],
             [
              0.3333333333333333,
              "#9c179e"
             ],
             [
              0.4444444444444444,
              "#bd3786"
             ],
             [
              0.5555555555555556,
              "#d8576b"
             ],
             [
              0.6666666666666666,
              "#ed7953"
             ],
             [
              0.7777777777777778,
              "#fb9f3a"
             ],
             [
              0.8888888888888888,
              "#fdca26"
             ],
             [
              1,
              "#f0f921"
             ]
            ],
            "type": "surface"
           }
          ],
          "table": [
           {
            "cells": {
             "fill": {
              "color": "#EBF0F8"
             },
             "line": {
              "color": "white"
             }
            },
            "header": {
             "fill": {
              "color": "#C8D4E3"
             },
             "line": {
              "color": "white"
             }
            },
            "type": "table"
           }
          ]
         },
         "layout": {
          "annotationdefaults": {
           "arrowcolor": "#2a3f5f",
           "arrowhead": 0,
           "arrowwidth": 1
          },
          "autotypenumbers": "strict",
          "coloraxis": {
           "colorbar": {
            "outlinewidth": 0,
            "ticks": ""
           }
          },
          "colorscale": {
           "diverging": [
            [
             0,
             "#8e0152"
            ],
            [
             0.1,
             "#c51b7d"
            ],
            [
             0.2,
             "#de77ae"
            ],
            [
             0.3,
             "#f1b6da"
            ],
            [
             0.4,
             "#fde0ef"
            ],
            [
             0.5,
             "#f7f7f7"
            ],
            [
             0.6,
             "#e6f5d0"
            ],
            [
             0.7,
             "#b8e186"
            ],
            [
             0.8,
             "#7fbc41"
            ],
            [
             0.9,
             "#4d9221"
            ],
            [
             1,
             "#276419"
            ]
           ],
           "sequential": [
            [
             0,
             "#0d0887"
            ],
            [
             0.1111111111111111,
             "#46039f"
            ],
            [
             0.2222222222222222,
             "#7201a8"
            ],
            [
             0.3333333333333333,
             "#9c179e"
            ],
            [
             0.4444444444444444,
             "#bd3786"
            ],
            [
             0.5555555555555556,
             "#d8576b"
            ],
            [
             0.6666666666666666,
             "#ed7953"
            ],
            [
             0.7777777777777778,
             "#fb9f3a"
            ],
            [
             0.8888888888888888,
             "#fdca26"
            ],
            [
             1,
             "#f0f921"
            ]
           ],
           "sequentialminus": [
            [
             0,
             "#0d0887"
            ],
            [
             0.1111111111111111,
             "#46039f"
            ],
            [
             0.2222222222222222,
             "#7201a8"
            ],
            [
             0.3333333333333333,
             "#9c179e"
            ],
            [
             0.4444444444444444,
             "#bd3786"
            ],
            [
             0.5555555555555556,
             "#d8576b"
            ],
            [
             0.6666666666666666,
             "#ed7953"
            ],
            [
             0.7777777777777778,
             "#fb9f3a"
            ],
            [
             0.8888888888888888,
             "#fdca26"
            ],
            [
             1,
             "#f0f921"
            ]
           ]
          },
          "colorway": [
           "#636efa",
           "#EF553B",
           "#00cc96",
           "#ab63fa",
           "#FFA15A",
           "#19d3f3",
           "#FF6692",
           "#B6E880",
           "#FF97FF",
           "#FECB52"
          ],
          "font": {
           "color": "#2a3f5f"
          },
          "geo": {
           "bgcolor": "white",
           "lakecolor": "white",
           "landcolor": "#E5ECF6",
           "showlakes": true,
           "showland": true,
           "subunitcolor": "white"
          },
          "hoverlabel": {
           "align": "left"
          },
          "hovermode": "closest",
          "mapbox": {
           "style": "light"
          },
          "paper_bgcolor": "white",
          "plot_bgcolor": "#E5ECF6",
          "polar": {
           "angularaxis": {
            "gridcolor": "white",
            "linecolor": "white",
            "ticks": ""
           },
           "bgcolor": "#E5ECF6",
           "radialaxis": {
            "gridcolor": "white",
            "linecolor": "white",
            "ticks": ""
           }
          },
          "scene": {
           "xaxis": {
            "backgroundcolor": "#E5ECF6",
            "gridcolor": "white",
            "gridwidth": 2,
            "linecolor": "white",
            "showbackground": true,
            "ticks": "",
            "zerolinecolor": "white"
           },
           "yaxis": {
            "backgroundcolor": "#E5ECF6",
            "gridcolor": "white",
            "gridwidth": 2,
            "linecolor": "white",
            "showbackground": true,
            "ticks": "",
            "zerolinecolor": "white"
           },
           "zaxis": {
            "backgroundcolor": "#E5ECF6",
            "gridcolor": "white",
            "gridwidth": 2,
            "linecolor": "white",
            "showbackground": true,
            "ticks": "",
            "zerolinecolor": "white"
           }
          },
          "shapedefaults": {
           "line": {
            "color": "#2a3f5f"
           }
          },
          "ternary": {
           "aaxis": {
            "gridcolor": "white",
            "linecolor": "white",
            "ticks": ""
           },
           "baxis": {
            "gridcolor": "white",
            "linecolor": "white",
            "ticks": ""
           },
           "bgcolor": "#E5ECF6",
           "caxis": {
            "gridcolor": "white",
            "linecolor": "white",
            "ticks": ""
           }
          },
          "title": {
           "x": 0.05
          },
          "xaxis": {
           "automargin": true,
           "gridcolor": "white",
           "linecolor": "white",
           "ticks": "",
           "title": {
            "standoff": 15
           },
           "zerolinecolor": "white",
           "zerolinewidth": 2
          },
          "yaxis": {
           "automargin": true,
           "gridcolor": "white",
           "linecolor": "white",
           "ticks": "",
           "title": {
            "standoff": 15
           },
           "zerolinecolor": "white",
           "zerolinewidth": 2
          }
         }
        },
        "title": {
         "text": "Comparaison du biais des estimateurs de la vraisemblance en fonction de la complexité computationnelle"
        },
        "xaxis": {
         "title": {
          "text": "Expected Computational Cost"
         }
        },
        "yaxis": {
         "title": {
          "text": "Biais de l'estimateur"
         }
        }
       }
      }
     },
     "metadata": {},
     "output_type": "display_data"
    }
   ],
   "source": [
    "Code.plot_bias_likelihood(x, theta_true, noised_A, noised_b, 10, 100)"
   ]
  },
  {
   "cell_type": "markdown",
   "metadata": {},
   "source": [
    "Brouillon avec les simus : "
   ]
  },
  {
   "cell_type": "code",
   "execution_count": 22,
   "metadata": {},
   "outputs": [],
   "source": [
    "#Même fonction en faisant varier le nombre de simus :\n",
    "\n",
    "import plotly.graph_objects as go\n",
    "\n",
    "def plot_bias_likelihood(r, x, theta_true, noised_A, noised_b, n_simulations_min, n_simulations_max, plot_type = 'bias', k_IWAE = 5): \n",
    "\n",
    "    step = 5\n",
    "    simus = np.arange(n_simulations_min, n_simulations_max, step) #Ici on fait varier le nombre de simulations\n",
    "\n",
    "    #Calcul de la vraisemblance vraie\n",
    "    param_true = Code.true_likelihood(x, theta_true)\n",
    "\n",
    "    if plot_type == 'bias' :\n",
    "\n",
    "        bias = [], [], [], [] \n",
    "\n",
    "        for n_simus in simus:\n",
    "\n",
    "            n_simus = int(n_simus)\n",
    "\n",
    "            log_SUMO, log_ML_SS, log_ML_RR, log_IWAE = [], [], [], []\n",
    "\n",
    "            for i in range(10): #On pourra intégrer le nombre de répétitions aux paramètres si besoin -> moyenne des estimateurs à chaque pas\n",
    "\n",
    "                log_SUMO.append(Code.log_likelihood_SUMO(r, theta_true, x, noised_A, noised_b, n_simus))\n",
    "\n",
    "                log_ML_SS.append(Code.log_likelihood_ML_SS(r, theta_true, x, noised_A, noised_b, n_simus))\n",
    "\n",
    "                log_ML_RR.append(Code.log_likelihood_ML_RR(r, theta_true, x, noised_A, noised_b, n_simus))\n",
    "\n",
    "                log_IWAE.append(Code.log_likelihood_IWAE(theta_true, x, noised_A, noised_b, k_IWAE, n_simus))\n",
    "\n",
    "            bias[0].append((np.mean(log_SUMO) - param_true)**2)\n",
    "\n",
    "            bias[1].append((np.mean(log_ML_SS) - param_true)**2)\n",
    "\n",
    "            bias[2].append((np.mean(log_ML_RR) - param_true)**2) \n",
    "\n",
    "            bias[3].append((np.mean(log_IWAE) - param_true)**2)\n",
    "\n",
    "        # Créer la figure\n",
    "        fig = go.Figure()\n",
    "\n",
    "        # Ajouter les courbes des biais\n",
    "        fig.add_trace(go.Scatter(x=simus, y=bias[0], mode='lines', name='SUMO', line=dict(color='green')))\n",
    "        fig.add_trace(go.Scatter(x=simus, y=bias[1], mode='lines', name='ML_SS', line=dict(color='purple')))\n",
    "        fig.add_trace(go.Scatter(x=simus, y=bias[2], mode='lines', name='ML_RR', line=dict(color='orange')))\n",
    "        fig.add_trace(go.Scatter(x=simus, y=bias[3], mode='lines', name='IWAE', line=dict(color='yellow')))\n",
    "\n",
    "        #fig.add_shape(type='line', x0=theta_true, x1=theta_true, y0=min(min(true_gradient_values), min(estimated_grad)), y1=max(max(true_gradient_values), max(estimated_grad)), \n",
    "                    #line=dict(color='black', width=2, dash='dash'), name=f'theta={theta_true}')\n",
    "\n",
    "        # Mise en forme de la figure\n",
    "        fig.update_layout(\n",
    "            xaxis=dict(title='Nombre de simulations'),\n",
    "            yaxis=dict(title=\"Biais de l'estimateur\"),\n",
    "            title=f'Comparaison du biais des estimateurs de la vraisemblance en fonction du nombre de simulations',\n",
    "            legend=dict(x=0, y=1, traceorder='normal', font=dict(size=12)),\n",
    "            showlegend=True\n",
    "        )\n",
    "\n",
    "        # Affichage de la figure\n",
    "        fig.show()\n",
    "\n",
    "    elif plot_type == 'variance' : #Pas d'actualité on répare d'abord le biais\n",
    "                \n",
    "        variance = [], [], [], []\n",
    "\n",
    "        for n_simus in range(len(simus)):\n",
    "\n",
    "            n_simus = int(n_simus)\n",
    "\n",
    "            log_SUMO, log_ML_SS, log_ML_RR, log_IWAE = [], [], [], []\n",
    "\n",
    "            for i in range(10): #On pourra intégrer le nombre de répétitions aux paramètres si besoin\n",
    "\n",
    "                log_SUMO.append(log_likelihood_SUMO(r, theta_true, x, noised_A, noised_b, n_simus))\n",
    "\n",
    "                log_ML_SS.append(log_likelihood_ML_SS(r, theta_true, x, noised_A, noised_b, n_simus))\n",
    "\n",
    "                log_ML_RR.append(log_likelihood_ML_RR(r, theta_true, x, noised_A, noised_b, n_simus))\n",
    "\n",
    "                log_IWAE.append(log_likelihood_IWAE(theta_true, x, noised_A, noised_b, k_IWAE, n_simus))\n",
    "                \n",
    "            variance[0].append(np.std(log_SUMO) / np.sqrt(10))\n",
    "\n",
    "            variance[1].append(np.std(log_ML_SS) / np.sqrt(10))\n",
    "\n",
    "            variance[2].append(np.std(log_ML_RR) / np.sqrt(10))\n",
    "\n",
    "            variance[3].append(np.std(log_IWAE) / np.sqrt(10))\n",
    "\n",
    "        # Créer la figure\n",
    "        fig = go.Figure()\n",
    "\n",
    "        # Ajouter les courbes des biais\n",
    "        fig.add_trace(go.Scatter(x=simus, y=variance[0], mode='lines', name='SUMO', line=dict(color='green')))\n",
    "        fig.add_trace(go.Scatter(x=simus, y=variance[1], mode='lines', name='ML_SS', line=dict(color='purple')))\n",
    "        fig.add_trace(go.Scatter(x=simus, y=variance[2], mode='lines', name='ML_RR', line=dict(color='orange')))\n",
    "        fig.add_trace(go.Scatter(x=simus, y=variance[3], mode='lines', name='IWAE', line=dict(color='yellow')))\n",
    "\n",
    "        #fig.add_shape(type='line', x0=theta_true, x1=theta_true, y0=min(min(true_gradient_values), min(estimated_grad)), y1=max(max(true_gradient_values), max(estimated_grad)), \n",
    "                    #line=dict(color='black', width=2, dash='dash'), name=f'theta={theta_true}')\n",
    "\n",
    "        # Mise en forme de la figure\n",
    "        fig.update_layout(\n",
    "            xaxis=dict(title='Nombre de simulations'),\n",
    "            yaxis=dict(title=\"Variance de l'estimateur\"),\n",
    "            title=f'Comparaison de la variance des estimateurs de la vraisemblance en fonction du nombre de simulations',\n",
    "            legend=dict(x=0, y=1, traceorder='normal', font=dict(size=12)),\n",
    "            showlegend=True\n",
    "        )\n",
    "\n",
    "        # Affichage de la figure\n",
    "        fig.show()\n",
    "    \n",
    "    return\n"
   ]
  },
  {
   "cell_type": "code",
   "execution_count": 24,
   "metadata": {},
   "outputs": [
    {
     "data": {
      "application/vnd.plotly.v1+json": {
       "config": {
        "plotlyServerURL": "https://plot.ly"
       },
       "data": [
        {
         "line": {
          "color": "green"
         },
         "mode": "lines",
         "name": "SUMO",
         "type": "scatter",
         "x": [
          1,
          6,
          11,
          16,
          21,
          26,
          31,
          36,
          41,
          46,
          51,
          56,
          61,
          66,
          71,
          76,
          81,
          86,
          91,
          96
         ],
         "y": [
          50.682805471600986,
          51.51366275159216,
          47.418111019135154,
          48.569661753028946,
          51.34155165413159,
          42.382285908472824,
          46.75357943434274,
          44.39168327188111,
          44.95214558407944,
          48.190693022704934,
          20.08165247009815,
          55.120860206971265,
          63.563422022248794,
          49.15560297415821,
          49.08830329772066,
          52.59908737987818,
          53.356439889742035,
          46.768369433676305,
          48.911696778066165,
          40.6988105420343
         ]
        },
        {
         "line": {
          "color": "purple"
         },
         "mode": "lines",
         "name": "ML_SS",
         "type": "scatter",
         "x": [
          1,
          6,
          11,
          16,
          21,
          26,
          31,
          36,
          41,
          46,
          51,
          56,
          61,
          66,
          71,
          76,
          81,
          86,
          91,
          96
         ],
         "y": [
          47.298375642553786,
          46.917430344837186,
          46.79556898833751,
          48.13772436905665,
          47.09460731041785,
          46.72377954924479,
          47.10812591015867,
          46.6486100393844,
          46.71359516312491,
          47.165109070173145,
          46.737741742759496,
          46.81726741215516,
          46.94679106318221,
          47.434014084918005,
          47.089511582186816,
          46.8313624050527,
          47.19573224417035,
          46.799274267845036,
          47.15314570582775,
          46.91675461893453
         ]
        },
        {
         "line": {
          "color": "orange"
         },
         "mode": "lines",
         "name": "ML_RR",
         "type": "scatter",
         "x": [
          1,
          6,
          11,
          16,
          21,
          26,
          31,
          36,
          41,
          46,
          51,
          56,
          61,
          66,
          71,
          76,
          81,
          86,
          91,
          96
         ],
         "y": [
          40.630593637777615,
          41.481880358239174,
          42.09201915414766,
          42.33629726399331,
          41.61512911798956,
          41.172271620783505,
          41.393438378681985,
          40.6007312320586,
          41.09291455353015,
          41.41365287403462,
          41.4634759395602,
          41.78888058196652,
          41.167411636703115,
          42.02387711095535,
          41.58257083683664,
          42.002880835940154,
          41.78999712769895,
          42.272739692080485,
          41.33689303979265,
          42.26126757844467
         ]
        },
        {
         "line": {
          "color": "yellow"
         },
         "mode": "lines",
         "name": "IWAE",
         "type": "scatter",
         "x": [
          1,
          6,
          11,
          16,
          21,
          26,
          31,
          36,
          41,
          46,
          51,
          56,
          61,
          66,
          71,
          76,
          81,
          86,
          91,
          96
         ],
         "y": [
          46.774070898235095,
          44.663928117104525,
          44.701995140326,
          45.34820523524162,
          44.1150619439071,
          45.12762164250039,
          44.97161204257677,
          44.558890466802566,
          44.849379322525095,
          44.962802021277774,
          44.543026069409294,
          45.19144968626303,
          44.54492324860482,
          44.800363685962495,
          44.682487467358975,
          44.76118548620385,
          45.08475888532428,
          44.738913358324275,
          44.58774072154027,
          44.82142818973659
         ]
        }
       ],
       "layout": {
        "legend": {
         "font": {
          "size": 12
         },
         "traceorder": "normal",
         "x": 0,
         "y": 1
        },
        "showlegend": true,
        "template": {
         "data": {
          "bar": [
           {
            "error_x": {
             "color": "#2a3f5f"
            },
            "error_y": {
             "color": "#2a3f5f"
            },
            "marker": {
             "line": {
              "color": "#E5ECF6",
              "width": 0.5
             },
             "pattern": {
              "fillmode": "overlay",
              "size": 10,
              "solidity": 0.2
             }
            },
            "type": "bar"
           }
          ],
          "barpolar": [
           {
            "marker": {
             "line": {
              "color": "#E5ECF6",
              "width": 0.5
             },
             "pattern": {
              "fillmode": "overlay",
              "size": 10,
              "solidity": 0.2
             }
            },
            "type": "barpolar"
           }
          ],
          "carpet": [
           {
            "aaxis": {
             "endlinecolor": "#2a3f5f",
             "gridcolor": "white",
             "linecolor": "white",
             "minorgridcolor": "white",
             "startlinecolor": "#2a3f5f"
            },
            "baxis": {
             "endlinecolor": "#2a3f5f",
             "gridcolor": "white",
             "linecolor": "white",
             "minorgridcolor": "white",
             "startlinecolor": "#2a3f5f"
            },
            "type": "carpet"
           }
          ],
          "choropleth": [
           {
            "colorbar": {
             "outlinewidth": 0,
             "ticks": ""
            },
            "type": "choropleth"
           }
          ],
          "contour": [
           {
            "colorbar": {
             "outlinewidth": 0,
             "ticks": ""
            },
            "colorscale": [
             [
              0,
              "#0d0887"
             ],
             [
              0.1111111111111111,
              "#46039f"
             ],
             [
              0.2222222222222222,
              "#7201a8"
             ],
             [
              0.3333333333333333,
              "#9c179e"
             ],
             [
              0.4444444444444444,
              "#bd3786"
             ],
             [
              0.5555555555555556,
              "#d8576b"
             ],
             [
              0.6666666666666666,
              "#ed7953"
             ],
             [
              0.7777777777777778,
              "#fb9f3a"
             ],
             [
              0.8888888888888888,
              "#fdca26"
             ],
             [
              1,
              "#f0f921"
             ]
            ],
            "type": "contour"
           }
          ],
          "contourcarpet": [
           {
            "colorbar": {
             "outlinewidth": 0,
             "ticks": ""
            },
            "type": "contourcarpet"
           }
          ],
          "heatmap": [
           {
            "colorbar": {
             "outlinewidth": 0,
             "ticks": ""
            },
            "colorscale": [
             [
              0,
              "#0d0887"
             ],
             [
              0.1111111111111111,
              "#46039f"
             ],
             [
              0.2222222222222222,
              "#7201a8"
             ],
             [
              0.3333333333333333,
              "#9c179e"
             ],
             [
              0.4444444444444444,
              "#bd3786"
             ],
             [
              0.5555555555555556,
              "#d8576b"
             ],
             [
              0.6666666666666666,
              "#ed7953"
             ],
             [
              0.7777777777777778,
              "#fb9f3a"
             ],
             [
              0.8888888888888888,
              "#fdca26"
             ],
             [
              1,
              "#f0f921"
             ]
            ],
            "type": "heatmap"
           }
          ],
          "heatmapgl": [
           {
            "colorbar": {
             "outlinewidth": 0,
             "ticks": ""
            },
            "colorscale": [
             [
              0,
              "#0d0887"
             ],
             [
              0.1111111111111111,
              "#46039f"
             ],
             [
              0.2222222222222222,
              "#7201a8"
             ],
             [
              0.3333333333333333,
              "#9c179e"
             ],
             [
              0.4444444444444444,
              "#bd3786"
             ],
             [
              0.5555555555555556,
              "#d8576b"
             ],
             [
              0.6666666666666666,
              "#ed7953"
             ],
             [
              0.7777777777777778,
              "#fb9f3a"
             ],
             [
              0.8888888888888888,
              "#fdca26"
             ],
             [
              1,
              "#f0f921"
             ]
            ],
            "type": "heatmapgl"
           }
          ],
          "histogram": [
           {
            "marker": {
             "pattern": {
              "fillmode": "overlay",
              "size": 10,
              "solidity": 0.2
             }
            },
            "type": "histogram"
           }
          ],
          "histogram2d": [
           {
            "colorbar": {
             "outlinewidth": 0,
             "ticks": ""
            },
            "colorscale": [
             [
              0,
              "#0d0887"
             ],
             [
              0.1111111111111111,
              "#46039f"
             ],
             [
              0.2222222222222222,
              "#7201a8"
             ],
             [
              0.3333333333333333,
              "#9c179e"
             ],
             [
              0.4444444444444444,
              "#bd3786"
             ],
             [
              0.5555555555555556,
              "#d8576b"
             ],
             [
              0.6666666666666666,
              "#ed7953"
             ],
             [
              0.7777777777777778,
              "#fb9f3a"
             ],
             [
              0.8888888888888888,
              "#fdca26"
             ],
             [
              1,
              "#f0f921"
             ]
            ],
            "type": "histogram2d"
           }
          ],
          "histogram2dcontour": [
           {
            "colorbar": {
             "outlinewidth": 0,
             "ticks": ""
            },
            "colorscale": [
             [
              0,
              "#0d0887"
             ],
             [
              0.1111111111111111,
              "#46039f"
             ],
             [
              0.2222222222222222,
              "#7201a8"
             ],
             [
              0.3333333333333333,
              "#9c179e"
             ],
             [
              0.4444444444444444,
              "#bd3786"
             ],
             [
              0.5555555555555556,
              "#d8576b"
             ],
             [
              0.6666666666666666,
              "#ed7953"
             ],
             [
              0.7777777777777778,
              "#fb9f3a"
             ],
             [
              0.8888888888888888,
              "#fdca26"
             ],
             [
              1,
              "#f0f921"
             ]
            ],
            "type": "histogram2dcontour"
           }
          ],
          "mesh3d": [
           {
            "colorbar": {
             "outlinewidth": 0,
             "ticks": ""
            },
            "type": "mesh3d"
           }
          ],
          "parcoords": [
           {
            "line": {
             "colorbar": {
              "outlinewidth": 0,
              "ticks": ""
             }
            },
            "type": "parcoords"
           }
          ],
          "pie": [
           {
            "automargin": true,
            "type": "pie"
           }
          ],
          "scatter": [
           {
            "fillpattern": {
             "fillmode": "overlay",
             "size": 10,
             "solidity": 0.2
            },
            "type": "scatter"
           }
          ],
          "scatter3d": [
           {
            "line": {
             "colorbar": {
              "outlinewidth": 0,
              "ticks": ""
             }
            },
            "marker": {
             "colorbar": {
              "outlinewidth": 0,
              "ticks": ""
             }
            },
            "type": "scatter3d"
           }
          ],
          "scattercarpet": [
           {
            "marker": {
             "colorbar": {
              "outlinewidth": 0,
              "ticks": ""
             }
            },
            "type": "scattercarpet"
           }
          ],
          "scattergeo": [
           {
            "marker": {
             "colorbar": {
              "outlinewidth": 0,
              "ticks": ""
             }
            },
            "type": "scattergeo"
           }
          ],
          "scattergl": [
           {
            "marker": {
             "colorbar": {
              "outlinewidth": 0,
              "ticks": ""
             }
            },
            "type": "scattergl"
           }
          ],
          "scattermapbox": [
           {
            "marker": {
             "colorbar": {
              "outlinewidth": 0,
              "ticks": ""
             }
            },
            "type": "scattermapbox"
           }
          ],
          "scatterpolar": [
           {
            "marker": {
             "colorbar": {
              "outlinewidth": 0,
              "ticks": ""
             }
            },
            "type": "scatterpolar"
           }
          ],
          "scatterpolargl": [
           {
            "marker": {
             "colorbar": {
              "outlinewidth": 0,
              "ticks": ""
             }
            },
            "type": "scatterpolargl"
           }
          ],
          "scatterternary": [
           {
            "marker": {
             "colorbar": {
              "outlinewidth": 0,
              "ticks": ""
             }
            },
            "type": "scatterternary"
           }
          ],
          "surface": [
           {
            "colorbar": {
             "outlinewidth": 0,
             "ticks": ""
            },
            "colorscale": [
             [
              0,
              "#0d0887"
             ],
             [
              0.1111111111111111,
              "#46039f"
             ],
             [
              0.2222222222222222,
              "#7201a8"
             ],
             [
              0.3333333333333333,
              "#9c179e"
             ],
             [
              0.4444444444444444,
              "#bd3786"
             ],
             [
              0.5555555555555556,
              "#d8576b"
             ],
             [
              0.6666666666666666,
              "#ed7953"
             ],
             [
              0.7777777777777778,
              "#fb9f3a"
             ],
             [
              0.8888888888888888,
              "#fdca26"
             ],
             [
              1,
              "#f0f921"
             ]
            ],
            "type": "surface"
           }
          ],
          "table": [
           {
            "cells": {
             "fill": {
              "color": "#EBF0F8"
             },
             "line": {
              "color": "white"
             }
            },
            "header": {
             "fill": {
              "color": "#C8D4E3"
             },
             "line": {
              "color": "white"
             }
            },
            "type": "table"
           }
          ]
         },
         "layout": {
          "annotationdefaults": {
           "arrowcolor": "#2a3f5f",
           "arrowhead": 0,
           "arrowwidth": 1
          },
          "autotypenumbers": "strict",
          "coloraxis": {
           "colorbar": {
            "outlinewidth": 0,
            "ticks": ""
           }
          },
          "colorscale": {
           "diverging": [
            [
             0,
             "#8e0152"
            ],
            [
             0.1,
             "#c51b7d"
            ],
            [
             0.2,
             "#de77ae"
            ],
            [
             0.3,
             "#f1b6da"
            ],
            [
             0.4,
             "#fde0ef"
            ],
            [
             0.5,
             "#f7f7f7"
            ],
            [
             0.6,
             "#e6f5d0"
            ],
            [
             0.7,
             "#b8e186"
            ],
            [
             0.8,
             "#7fbc41"
            ],
            [
             0.9,
             "#4d9221"
            ],
            [
             1,
             "#276419"
            ]
           ],
           "sequential": [
            [
             0,
             "#0d0887"
            ],
            [
             0.1111111111111111,
             "#46039f"
            ],
            [
             0.2222222222222222,
             "#7201a8"
            ],
            [
             0.3333333333333333,
             "#9c179e"
            ],
            [
             0.4444444444444444,
             "#bd3786"
            ],
            [
             0.5555555555555556,
             "#d8576b"
            ],
            [
             0.6666666666666666,
             "#ed7953"
            ],
            [
             0.7777777777777778,
             "#fb9f3a"
            ],
            [
             0.8888888888888888,
             "#fdca26"
            ],
            [
             1,
             "#f0f921"
            ]
           ],
           "sequentialminus": [
            [
             0,
             "#0d0887"
            ],
            [
             0.1111111111111111,
             "#46039f"
            ],
            [
             0.2222222222222222,
             "#7201a8"
            ],
            [
             0.3333333333333333,
             "#9c179e"
            ],
            [
             0.4444444444444444,
             "#bd3786"
            ],
            [
             0.5555555555555556,
             "#d8576b"
            ],
            [
             0.6666666666666666,
             "#ed7953"
            ],
            [
             0.7777777777777778,
             "#fb9f3a"
            ],
            [
             0.8888888888888888,
             "#fdca26"
            ],
            [
             1,
             "#f0f921"
            ]
           ]
          },
          "colorway": [
           "#636efa",
           "#EF553B",
           "#00cc96",
           "#ab63fa",
           "#FFA15A",
           "#19d3f3",
           "#FF6692",
           "#B6E880",
           "#FF97FF",
           "#FECB52"
          ],
          "font": {
           "color": "#2a3f5f"
          },
          "geo": {
           "bgcolor": "white",
           "lakecolor": "white",
           "landcolor": "#E5ECF6",
           "showlakes": true,
           "showland": true,
           "subunitcolor": "white"
          },
          "hoverlabel": {
           "align": "left"
          },
          "hovermode": "closest",
          "mapbox": {
           "style": "light"
          },
          "paper_bgcolor": "white",
          "plot_bgcolor": "#E5ECF6",
          "polar": {
           "angularaxis": {
            "gridcolor": "white",
            "linecolor": "white",
            "ticks": ""
           },
           "bgcolor": "#E5ECF6",
           "radialaxis": {
            "gridcolor": "white",
            "linecolor": "white",
            "ticks": ""
           }
          },
          "scene": {
           "xaxis": {
            "backgroundcolor": "#E5ECF6",
            "gridcolor": "white",
            "gridwidth": 2,
            "linecolor": "white",
            "showbackground": true,
            "ticks": "",
            "zerolinecolor": "white"
           },
           "yaxis": {
            "backgroundcolor": "#E5ECF6",
            "gridcolor": "white",
            "gridwidth": 2,
            "linecolor": "white",
            "showbackground": true,
            "ticks": "",
            "zerolinecolor": "white"
           },
           "zaxis": {
            "backgroundcolor": "#E5ECF6",
            "gridcolor": "white",
            "gridwidth": 2,
            "linecolor": "white",
            "showbackground": true,
            "ticks": "",
            "zerolinecolor": "white"
           }
          },
          "shapedefaults": {
           "line": {
            "color": "#2a3f5f"
           }
          },
          "ternary": {
           "aaxis": {
            "gridcolor": "white",
            "linecolor": "white",
            "ticks": ""
           },
           "baxis": {
            "gridcolor": "white",
            "linecolor": "white",
            "ticks": ""
           },
           "bgcolor": "#E5ECF6",
           "caxis": {
            "gridcolor": "white",
            "linecolor": "white",
            "ticks": ""
           }
          },
          "title": {
           "x": 0.05
          },
          "xaxis": {
           "automargin": true,
           "gridcolor": "white",
           "linecolor": "white",
           "ticks": "",
           "title": {
            "standoff": 15
           },
           "zerolinecolor": "white",
           "zerolinewidth": 2
          },
          "yaxis": {
           "automargin": true,
           "gridcolor": "white",
           "linecolor": "white",
           "ticks": "",
           "title": {
            "standoff": 15
           },
           "zerolinecolor": "white",
           "zerolinewidth": 2
          }
         }
        },
        "title": {
         "text": "Comparaison du biais des estimateurs de la vraisemblance en fonction du nombre de simulations"
        },
        "xaxis": {
         "title": {
          "text": "Nombre de simulations"
         }
        },
        "yaxis": {
         "title": {
          "text": "Biais de l'estimateur"
         }
        }
       }
      }
     },
     "metadata": {},
     "output_type": "display_data"
    }
   ],
   "source": [
    "plot_bias_likelihood(r, x, theta_true, noised_A, noised_b, 1, 100)"
   ]
  }
 ],
 "metadata": {
  "kernelspec": {
   "display_name": "Python 3",
   "language": "python",
   "name": "python3"
  },
  "language_info": {
   "codemirror_mode": {
    "name": "ipython",
    "version": 3
   },
   "file_extension": ".py",
   "mimetype": "text/x-python",
   "name": "python",
   "nbconvert_exporter": "python",
   "pygments_lexer": "ipython3",
   "version": "3.11.5"
  },
  "orig_nbformat": 4
 },
 "nbformat": 4,
 "nbformat_minor": 2
}
