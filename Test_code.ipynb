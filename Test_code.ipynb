{
 "cells": [
  {
   "cell_type": "markdown",
   "metadata": {},
   "source": [
    "# <span style=\"color:red\">  **SIMULATIONS ET MÉTHODES DE MONTE CARLO**  </span>"
   ]
  },
  {
   "cell_type": "code",
   "execution_count": 1,
   "metadata": {},
   "outputs": [],
   "source": [
    "import numpy as np \n",
    "from scipy.stats import multivariate_normal\n",
    "import Estimateurs\n",
    "import Code\n",
    "import MLMC_Code\n",
    "import matplotlib.pyplot as plt\n",
    "from tqdm import tqdm"
   ]
  },
  {
   "cell_type": "markdown",
   "metadata": {},
   "source": [
    "<span style=\"color:blue\">  **NOTATIONS**  </span> : on se donne un ensemble de données $\\boldsymbol{x} = \\{x^{(i)}\\}_{i=1}^n$ composé de $n$ échantillons i.i.d. d'une variable continue ou discrète $x$ à valeurs dans un espace d'observations $\\boldsymbol{\\mathcal{X}}$ (ainsi $\\boldsymbol{x} \\in \\boldsymbol{\\mathcal{X}}$). Nous supposons que les données sont générées par un processus aléatoire impliquant une variable aléatoire continue non observée $\\boldsymbol{z} = \\{z^{(i)}\\}_{i=1}^n$ à valeur dans un espace d'observations $\\boldsymbol{\\mathcal{Z}}$ (ainsi $\\boldsymbol{z} \\in \\boldsymbol{\\mathcal{Z}}$). Le processus se compose de deux étapes :\n",
    "\n",
    "\n",
    "1. La valeur $z^{(i)}$ est générée à partir d'une distribution a priori $p_{\\theta^*}(z)$ ;\n",
    "2. Une valeur $x^{(i)}$ est générée à partir d'une distribution conditionnelle $p_{\\theta^*}(x|z)$.\n",
    "\n",
    "\n",
    "Nous supposons que la distribution a priori $p_{\\theta^*}(\\boldsymbol{z})$ et la vraisemblance $p_{\\theta^*}(\\boldsymbol{x}|\\boldsymbol{z})$ proviennent de familles paramétriques de distributions $p_{\\theta}(\\boldsymbol{z})$ et $p_{\\theta}(\\boldsymbol{x}|\\boldsymbol{z})$ et on note $\\Theta \\subset \\mathbb{R}^d$ l'espace des paramètres. On connait ainsi l'expression de ces deux distributions. En revanche une grande partie de ce processus nous est cachée : les véritables paramètres $\\theta^*$ ainsi que les valeurs des $\\textbf{variables latentes}$ $z^{(i)}$ nous sont inconnus. \n",
    "\n",
    "Connaissant l'expression de la distribution a priori $p_{\\theta^*}(\\boldsymbol{z})$ et la vraisemblance $p_{\\theta^*}(\\boldsymbol{x}|\\boldsymbol{z})$ pour tout $\\theta \\in \\Theta$, on peut définir la densité jointe $p_{\\theta}(\\boldsymbol{x}, \\boldsymbol{z})$ sur $\\boldsymbol{\\mathcal{X}} \\times \\boldsymbol{\\mathcal{Z}}$ par : \n",
    "\n",
    "$$\n",
    "p_{\\theta}(\\boldsymbol{x}, \\boldsymbol{z}) = p_{\\theta}(\\boldsymbol{x}|\\boldsymbol{z}) p_{\\theta}(\\boldsymbol{z})\n",
    "$$"
   ]
  },
  {
   "cell_type": "markdown",
   "metadata": {},
   "source": [
    "<span style=\"color:blue\">  **OBJECTIF**  </span> : on cherche à déterminer la vraie valeur du paramètre (ici $\\theta^*$) ainsi que les valeurs des variables latentes. \n",
    "\n",
    "Une approche classique pour apprendre $\\boldsymbol{\\theta}$ est de choisir, si celle-ci existe, la valeur de ce paramètre qui maximise la log-vraisemblance marginale de l’ ́echantillon définie par :\n",
    "\n",
    "$$\n",
    "\\ell(\\boldsymbol{\\theta}) = \\log p_{\\boldsymbol{\\theta}}(\\boldsymbol{x}) = \\log \\int_{\\boldsymbol{\\mathcal{Z}}} p_{\\boldsymbol{\\theta}}(\\boldsymbol{x}, \\boldsymbol{z}) d\\boldsymbol{z}\n",
    "$$"
   ]
  },
  {
   "cell_type": "markdown",
   "metadata": {},
   "source": [
    "<span style=\"color:blue\">  **PROBLÈME**  </span> : l'intégrale donnée en ci-dessus est intractable (nous ne pouvons donc pas évaluer ou différencier la vraisemblance marginale)."
   ]
  },
  {
   "cell_type": "markdown",
   "metadata": {},
   "source": [
    "<span style=\"color:blue\">  **SOLUTION**  </span> : dans le but de résoudre les problèmes ci-dessus, introduisons un **modèle de reconnaissance** (paramétrique) {$ q_{\\phi}(\\boldsymbol{z}|\\boldsymbol{x}) : \\phi \\in \\Phi$} avec $\\Phi \\subset \\mathbb{R}^d$. Pour tout $\\phi$, $q_{\\phi}(\\boldsymbol{z}|\\boldsymbol{x})$ est choisi comme une approximation de la véritable postérieure intractable $p_{\\theta}(\\boldsymbol{z}|\\boldsymbol{x})$. L'idée est donc de proposer une valeur de l'a posteriori (faire une hypothèse) et d'introduire une méthode pour apprendre les paramètres du **modèle de reconnaissance** $\\phi$ conjointement avec les paramètres du **modèle génératif** $\\theta$."
   ]
  },
  {
   "cell_type": "markdown",
   "metadata": {},
   "source": [
    "## <span style=\"color:green\">  **Partie 0. Définition du cadre gaussien pour la génération des données**  </span>"
   ]
  },
  {
   "cell_type": "markdown",
   "metadata": {},
   "source": [
    "(Application numérique inspirée de [Rainforth et al. (2018)](https://arxiv.org/pdf/1802.04537.pdf))\n",
    "\n",
    "- Le **modèle génératif** est donné par $p_{\\theta}(\\boldsymbol{x}, \\boldsymbol{z}) = \\mathcal{N}(\\boldsymbol{z}|\\theta, I) \\mathcal{N}(\\boldsymbol{x}|\\boldsymbol{z}, I)$, où $\\boldsymbol{x}$ et $\\boldsymbol{z} \\in \\mathbb{R}^{20}$, de sorte que $p_{\\theta}(\\boldsymbol{x}) = \\mathcal{N}(\\boldsymbol{x}|\\theta, 2I)$ et $p_{\\theta}(\\boldsymbol{z}|\\boldsymbol{x}) = \\mathcal{N}\\left( \\frac{\\theta + x}{2}, \\frac{1}{2}I \\right)$. \n",
    "\n",
    "- La **distribution de l'encodeur** (le modèle de reconnaissance) est $q_{\\phi}(z|x) = \\mathcal{N}\\left(\\boldsymbol{z}|A\\boldsymbol{x} + b, \\frac{2}{3}I \\right)$, où $\\phi = (A, b)$.\n",
    "\n",
    "- Nous considérons des perturbations aléatoires des paramètres près de la valeur optimale par une distribution gaussienne de moyenne nulle et d'écart-type $0.01$.\n",
    "\n",
    "**Dans ce cas, on peut analytiquement calculer la vraie log-vraisemblance du modèle pour quantifier le biais et la variance de tous les estimateurs**.\n",
    "\n",
    "Puisque $q_{\\phi}(z|x) = \\mathcal{N}\\left(\\boldsymbol{z}|A\\boldsymbol{x} + b, \\frac{2}{3}I \\right)$ est censé être une approximation de la véritable loi a posteriori donnée par $p_{\\boldsymbol{\\theta}}(\\boldsymbol{z} | \\boldsymbol{x}) = \\mathcal{N}\\left( \\frac{\\theta + x}{2}, \\frac{1}{2}I \\right)$"
   ]
  },
  {
   "cell_type": "markdown",
   "metadata": {},
   "source": [
    "#### <span style=\"color:orange\"> 0.1. **Génération du vrai $\\theta$**  </span>"
   ]
  },
  {
   "cell_type": "markdown",
   "metadata": {},
   "source": [
    "On commence par tirer le $\\theta$* ($\\in \\mathbb{R}$) qui sera le paramètre que l'on cherchera à estimer par la suite. \n",
    "\n",
    "A la manière de la génération des données dans [Rainforth et al. (2018)](https://arxiv.org/pdf/1802.04537.pdf) : $\\theta^* \\sim \\mathcal{N}(0, 1)$"
   ]
  },
  {
   "cell_type": "code",
   "execution_count": 2,
   "metadata": {},
   "outputs": [
    {
     "name": "stdout",
     "output_type": "stream",
     "text": [
      "La valeur de theta à estimer est 0.7\n"
     ]
    }
   ],
   "source": [
    "#theta_true = np.random.multivariate_normal(np.zeros(20), np.identity(20))\n",
    "theta_true = np.random.normal(0, 1)\n",
    "print(f\"La valeur de theta à estimer est {int(theta_true*100)/100}\")"
   ]
  },
  {
   "cell_type": "markdown",
   "metadata": {},
   "source": [
    "#### <span style=\"color:orange\"> 0.2. **Génération de notre vecteur d'observation $\\boldsymbol{x} \\in \\mathbb{R}^{20}$**  </span>"
   ]
  },
  {
   "cell_type": "markdown",
   "metadata": {},
   "source": [
    "L'idée est désormais de tirer une observation $\\boldsymbol{x} \\in \\mathbb{R}^{20}$, chose que l'on peut faire puisque toutes les distributions nous sont données. \n"
   ]
  },
  {
   "cell_type": "code",
   "execution_count": 3,
   "metadata": {},
   "outputs": [
    {
     "name": "stdout",
     "output_type": "stream",
     "text": [
      "L'échantillon x observé est :\n",
      " \n",
      " x = [-1.51852894 -0.356169    2.88868827 -0.20184285  0.5678245   1.22913215\n",
      "  0.72933333  2.03380098  1.76795385 -0.43976427  0.44929072 -1.68603894\n",
      "  1.90017252  2.64755166  0.03267035 -1.09694916  0.1525564  -1.81811579\n",
      "  2.00637701  1.80549698] \n",
      " \n",
      " et on vérifique bien sa taille est celle voulue : (20,)\n"
     ]
    }
   ],
   "source": [
    "## On se donne notre échantillon x\n",
    "\n",
    "x, _ = Estimateurs.joint_probability(theta_true)\n",
    "\n",
    "print(f\"L'échantillon x observé est :\\n \\n x = {x} \\n \\n et on vérifique bien sa taille est celle voulue : {x.shape}\")"
   ]
  },
  {
   "cell_type": "markdown",
   "metadata": {},
   "source": [
    "#### <span style=\"color:orange\"> 0.3. **Génération de la vraie log-vraisemblance et du vrai gradient associé à $\\theta_{\\text{true}}$ et à notre observation $\\boldsymbol{x}$**  </span>"
   ]
  },
  {
   "cell_type": "code",
   "execution_count": 4,
   "metadata": {},
   "outputs": [
    {
     "name": "stdout",
     "output_type": "stream",
     "text": [
      "La valeur associée à la log-vraisemblance de l'échantillon x pour theta_true est : -28.828986766028756 \n",
      " \n",
      "La valeur associée au gradient de l'échantillon x pour theta_true est : \n",
      "\n",
      " 0.07465752966378036 \n",
      " \n"
     ]
    }
   ],
   "source": [
    "true_likelihood = Code.true_likelihood(x, theta_true)\n",
    "true_gradient = Code.true_grad(x, theta_true)\n",
    "\n",
    "print(f\"La valeur associée à la log-vraisemblance de l'échantillon x pour theta_true est : {true_likelihood} \\n \")\n",
    "print(f\"La valeur associée au gradient de l'échantillon x pour theta_true est : \\n\\n {true_gradient} \\n \")"
   ]
  },
  {
   "cell_type": "markdown",
   "metadata": {},
   "source": [
    "#### <span style=\"color:orange\"> 0.4. **Génération des paramètres de l'encodeur $A \\in \\mathbb{R}^{20\\times 20}$ et $b \\in \\mathbb{R}^{20}$**  </span>"
   ]
  },
  {
   "cell_type": "markdown",
   "metadata": {},
   "source": [
    "Il est maintenant question de tirer notre encodeur tel que : $q_{\\phi}(z|x) = \\mathcal{N}\\left(\\boldsymbol{z}|A\\boldsymbol{x} + b, \\frac{2}{3}I \\right)$, où $\\phi = (A, b)$. **Le problème qui se pose est donc celui du choix de $A$ et de $b$**. Dans l'article [Rainforth et al. (2018)](https://arxiv.org/pdf/1802.04537.pdf), il nous est indiqué : \n",
    "\n",
    "*\"Following [Rainforth et al. (2018)](https://arxiv.org/pdf/1802.04537.pdf), we consider random perturbations of the parameters near the optimal value by a zero-mean Gaussian with standard deviation 0.01\"*\n",
    "\n",
    "Ainsi, étant donné une observation $\\boldsymbol{x}$,  le choix parfait pour $\\phi$ serait $\\phi^* = (A^*, b^*)$ où $A^* = \\frac{1}{2}\\boldsymbol{I}_{20} \\in \\mathbb{R}^{20 \\times 20}$ et $b^* = [\\frac{\\theta^*}{2}, ..., \\frac{\\theta^*}{2}]^T \\in \\mathbb{R}^{20} $. Suivant l'indication dans l'article, nous nous plaçons dans un cas où on aurait réussi à inférer de manière convenable la loi $p_{\\theta}(\\boldsymbol{z}|\\boldsymbol{x}) = \\mathcal{N}\\left( \\frac{\\theta + x}{2}, \\frac{1}{2}I \\right)$, mais pas parfaitement. Ainsi,  on introduit de la même façon que dans l'article [[Rainforth et al. (2018)](https://arxiv.org/pdf/1802.04537.pdf) une perturbation autour de la valeur optimale du paramètre $\\phi$. Cette perturbation se caractérise par le fait chaque dimension de chaque paramètre a été décalée de manière aléatoire par rapport à sa valeur optimale en utilisant une gaussienne centrée en zéro avec un écart-type de 0,01.\n"
   ]
  },
  {
   "cell_type": "code",
   "execution_count": 5,
   "metadata": {},
   "outputs": [
    {
     "name": "stdout",
     "output_type": "stream",
     "text": [
      "On vérifie que les tailles de A, b et x coincident :\n",
      " \n",
      " taille A : (20, 20) \n",
      " taille b : (20,) \n",
      " taille x : (20,)\n"
     ]
    }
   ],
   "source": [
    "dim = 20 \n",
    "\n",
    "## On calcule les valeurs optimales de A et de b\n",
    "A = 0.5 * np.eye(dim)\n",
    "b = 0.5 * theta_true * np.ones(dim)\n",
    "\n",
    "## On calcule les valeurs perturbées de A et de b, qui sont FIXÉES dans la suite\n",
    "noised_A, noised_b = Code.noised_params(A, b)\n",
    "\n",
    "print(f\"On vérifie que les tailles de A, b et x coincident :\\n \\n taille A : {A.shape} \\n taille b : {b.shape} \\n taille x : {x.shape}\")"
   ]
  },
  {
   "cell_type": "markdown",
   "metadata": {},
   "source": [
    "## <span style=\"color:green\">  **Partie 1. Comparaison des estimateurs de la vraisemblance du modèle**  </span>\n",
    "\n",
    "### <span style=\"color:orange\">  **1.1 Les estimateurs RR (Roulette Russe) et SS (Single Sample)**  </span>\n",
    "\n",
    "On rappelle rapidement la manière dont sont définis les estimateurs RR et SS, utilisés plus tard pour construire SUMO, ML-SS et ML-RR.  \n",
    "Désignons une quantité d'intérêt par $I_\\infty = \\log p_\\theta(\\boldsymbol{x})$. Supposons que $I_\\infty$ puisse être écrite comme\n",
    "\n",
    "$$\n",
    "I_\\infty = \\mathbb{E}[I_0] + \\sum_{k=0}^\\infty \\mathbb{E}[\\Delta_k] \n",
    "$$\n",
    "\n",
    "pour les variables aléatoires $I_0$ et $(\\Delta_k)_{k\\geq0}$. Nous pouvons estimer $I_\\infty$ de manière non biaisée via les estimateurs suivants ss ou rr :\n",
    "\n",
    "$$\n",
    "ss = I_0 + \\frac{\\Delta_K}{p(K)}, \\quad rr = I_0 + \\sum_{k=0}^K \\frac{\\Delta_k}{\\mathbb{P}(K \\geq k)}\n",
    "$$\n",
    "\n",
    "où $K \\sim Geom(r)$.\n",
    "\n",
    "Pour chacun de ces estimateurs, nous allons suivre la méthodologie du Monte Carlo multiniveau (voir cet [article](https://web.stanford.edu/~glynn/papers/2015/BlanchetG15.html)) qui repose sur un schéma alternatif astucieux pour construire $\\Delta_k$, qui peut garantir la construction d'estimateurs non biaisés de $\\ell(\\boldsymbol{\\theta})$ qui admettent une variance finie et peuvent être calculés en un temps attendu fini.\n",
    "\n",
    "Nous désignons par $\\boldsymbol{z}^O_i$, $\\boldsymbol{z}^E_i$ deux séquences indépendantes d'échantillons i.i.d. de $q_\\phi$, où $O$, $E$ désignent respectivement impair (odd), pair (even), et $w^O_i$, $w^E_i$ les poids d'importance correspondants. Ensuite, nous définissons $I_0 = \\hat{\\ell}^{(1)}(\\boldsymbol{\\theta})$ et\n",
    "\n",
    "\\begin{align*}\n",
    "\\Delta^\\text{ML}_k = \\hat{\\ell}^{(2^{k+1})}_{O\\cup E}(\\boldsymbol{\\theta}) - \\frac{1}{2} \\left( \\hat{\\ell}^{(2^k)}_O (\\boldsymbol{\\theta}) + \\hat{\\ell}^{(2^k)}_E (\\boldsymbol{\\theta}) \\right),\n",
    "\\end{align*}\n",
    "\n",
    "où $\\hat{\\ell}^{(2^k)}_O (\\boldsymbol{\\theta}) = \\log \\left(\\frac{1}{2^k} \\sum_{i=1}^{2^k} w(z^{O}_i) \\right)$ est calculé en utilisant les échantillons impairs $\\{z^O_i\\}_{i=1}^{2^k}$, $\\hat{\\ell}^{(2^k)}_E (\\boldsymbol{\\theta}) = \\log \\left(\\frac{1}{2^k} \\sum_{i=1}^{2^k} w(z^{E}_i) \\right)$ en utilisant les échantillons pairs $\\{z^E_i\\}_{i=1}^{2^k}$, et $\\hat{\\ell}^{(2^{k+1})}_{O\\cup E} (\\boldsymbol{\\theta})$ en utilisant $\\{z^O_i\\}_{i=1}^{2^k} \\cup \\{z^E_i\\}_{i=1}^{2^k}$. Nous désignons les estimateurs SS/RR multiniveaux correspondants de $\\hat{\\ell}(\\boldsymbol{\\theta})$ comme $\\hat{\\ell}^\\text{ML-SS}(\\boldsymbol{\\theta})$ et $\\hat{\\ell}^\\text{ML-RR}(\\boldsymbol{\\theta})$, et collectivement comme $\\hat{\\ell}^\\text{ML}(\\boldsymbol{\\theta})$.\n",
    "\n",
    "Ainsi, \n",
    "\n",
    "$$\n",
    "\\hat{\\ell}^\\text{ML-SS}(\\boldsymbol{\\theta}) = I_0 + \\frac{\\Delta^{\\text{ML}}_\\mathcal{K}}{p(\\mathcal{K})}, \\quad \\hat{\\ell}^\\text{ML-RR}(\\boldsymbol{\\theta}) = I_0 + \\sum_{k=0}^{K} \\frac{\\Delta^{\\text{ML}}_k}{\\mathbb{P}(\\mathcal{K} \\geq k)},\n",
    "$$\n",
    "\n",
    "En abscisse, on considère un segment centré autour de $\\theta^*$, la vraie valeur du paramètre. Pour chaque point de ce segment, on calcule l'estimation réalisée par $\\hat{\\ell}^\\text{ML-SS}(\\boldsymbol{\\theta})$ ou $\\hat{\\ell}^\\text{ML-RR}(\\boldsymbol{\\theta})$ et on la trace sur les graphiques suivant. Le courbe en rouge représente la vraie fonction de vraisemblance, calculée analytiquement. \n",
    "\n",
    "#### <span style=\"color:red\">  **1.1.1 Estimateur ML-SS**  </span>\n",
    "\n",
    "On choisit arbitrairement un nombre de 15 simulations et de 60 points pour des questions de vitesse de calcul. "
   ]
  },
  {
   "cell_type": "code",
   "execution_count": 6,
   "metadata": {},
   "outputs": [],
   "source": [
    "n_simulations = 15 \n",
    "r = 0.6"
   ]
  },
  {
   "cell_type": "code",
   "execution_count": 7,
   "metadata": {},
   "outputs": [
    {
     "name": "stderr",
     "output_type": "stream",
     "text": [
      "  0%|          | 0/15 [00:00<?, ?it/s]"
     ]
    },
    {
     "name": "stderr",
     "output_type": "stream",
     "text": [
      "100%|██████████| 15/15 [00:01<00:00,  9.58it/s]\n",
      "100%|██████████| 15/15 [00:00<00:00, 59.57it/s]\n",
      "100%|██████████| 15/15 [00:00<00:00, 55.07it/s]\n",
      "100%|██████████| 15/15 [00:00<00:00, 56.51it/s]\n",
      "100%|██████████| 15/15 [00:00<00:00, 85.04it/s]\n",
      "100%|██████████| 15/15 [00:00<00:00, 49.22it/s]\n",
      "100%|██████████| 15/15 [00:00<00:00, 95.05it/s]\n",
      "100%|██████████| 15/15 [00:00<00:00, 36.29it/s]\n",
      "100%|██████████| 15/15 [00:00<00:00, 72.16it/s]\n",
      "100%|██████████| 15/15 [00:00<00:00, 47.95it/s]\n",
      "100%|██████████| 15/15 [00:00<00:00, 37.42it/s]\n",
      "100%|██████████| 15/15 [00:00<00:00, 52.80it/s]\n",
      "100%|██████████| 15/15 [00:00<00:00, 126.33it/s]\n",
      "100%|██████████| 15/15 [00:00<00:00, 119.38it/s]\n",
      "100%|██████████| 15/15 [00:00<00:00, 80.87it/s]\n",
      "100%|██████████| 15/15 [00:00<00:00, 82.21it/s]\n",
      "100%|██████████| 15/15 [00:00<00:00, 28.93it/s]\n",
      "100%|██████████| 15/15 [00:00<00:00, 35.56it/s]\n",
      "100%|██████████| 15/15 [00:00<00:00, 52.38it/s]\n",
      "100%|██████████| 15/15 [00:00<00:00, 110.87it/s]\n",
      "100%|██████████| 15/15 [00:00<00:00, 41.72it/s]\n",
      "100%|██████████| 15/15 [00:00<00:00, 128.03it/s]\n",
      "100%|██████████| 15/15 [00:00<00:00, 38.16it/s]\n",
      "100%|██████████| 15/15 [00:00<00:00, 88.24it/s]\n",
      "100%|██████████| 15/15 [00:00<00:00, 93.68it/s]\n",
      "100%|██████████| 15/15 [00:00<00:00, 89.81it/s]\n",
      "100%|██████████| 15/15 [00:00<00:00, 50.16it/s]\n",
      "100%|██████████| 15/15 [00:00<00:00, 179.98it/s]\n",
      "100%|██████████| 15/15 [00:00<00:00, 108.18it/s]\n",
      "100%|██████████| 15/15 [00:00<00:00, 158.65it/s]\n",
      "100%|██████████| 15/15 [00:00<00:00, 63.52it/s]\n",
      "100%|██████████| 15/15 [00:00<00:00, 67.53it/s]\n",
      "100%|██████████| 15/15 [00:00<00:00, 121.99it/s]\n",
      "100%|██████████| 15/15 [00:00<00:00, 126.55it/s]\n",
      "100%|██████████| 15/15 [00:00<00:00, 19.64it/s]\n",
      "100%|██████████| 15/15 [00:00<00:00, 102.11it/s]\n",
      "100%|██████████| 15/15 [00:00<00:00, 124.00it/s]\n",
      "100%|██████████| 15/15 [00:00<00:00, 169.41it/s]\n",
      "100%|██████████| 15/15 [00:00<00:00, 64.02it/s]\n",
      "100%|██████████| 15/15 [00:00<00:00, 26.55it/s]\n",
      "100%|██████████| 15/15 [00:00<00:00, 127.73it/s]\n",
      "100%|██████████| 15/15 [00:00<00:00, 142.34it/s]\n",
      "100%|██████████| 15/15 [00:00<00:00, 112.72it/s]\n",
      "100%|██████████| 15/15 [00:00<00:00, 37.28it/s]\n",
      "100%|██████████| 15/15 [00:00<00:00, 79.34it/s]\n",
      "100%|██████████| 15/15 [00:00<00:00, 175.18it/s]\n",
      "100%|██████████| 15/15 [00:00<00:00, 108.23it/s]\n",
      "100%|██████████| 15/15 [00:00<00:00, 85.22it/s]\n",
      "100%|██████████| 15/15 [00:00<00:00, 103.56it/s]\n",
      "100%|██████████| 15/15 [00:00<00:00, 128.01it/s]\n",
      "100%|██████████| 15/15 [00:00<00:00, 111.59it/s]\n",
      "100%|██████████| 15/15 [00:00<00:00, 156.39it/s]\n",
      "100%|██████████| 15/15 [00:00<00:00, 150.10it/s]\n",
      "100%|██████████| 15/15 [00:00<00:00, 113.64it/s]\n",
      "100%|██████████| 15/15 [00:00<00:00, 59.40it/s]\n",
      "100%|██████████| 15/15 [00:00<00:00, 143.01it/s]\n",
      "100%|██████████| 15/15 [00:00<00:00, 33.14it/s]\n",
      "100%|██████████| 15/15 [00:00<00:00, 45.94it/s]\n",
      "100%|██████████| 15/15 [00:00<00:00, 47.12it/s]\n",
      "100%|██████████| 15/15 [00:00<00:00, 106.24it/s]\n",
      "60it [00:15,  3.88it/s]\n"
     ]
    },
    {
     "data": {
      "image/png": "[encoded data removed]",
      "text/plain": [
       "<Figure size 432x288 with 1 Axes>"
      ]
     },
     "metadata": {
      "needs_background": "light"
     },
     "output_type": "display_data"
    }
   ],
   "source": [
    "#Tout ça c'est plot_likelihood\n",
    "theta_min = theta_true - 5  # Limite inférieure de la plage\n",
    "theta_max = theta_true + 5 # Limite supérieure de la plage\n",
    "num_points = 60  # Nombre de points à générer\n",
    "theta_values = np.linspace(theta_min, theta_max, num_points)\n",
    "\n",
    "estimated_likelihood = []\n",
    "\n",
    "with tqdm(total=n_simulations) as pbar:\n",
    "\n",
    "    for theta in theta_values:\n",
    "\n",
    "        estimated_likelihood.append(Code.log_likelihood_ML_SS(r, theta, x, noised_A, noised_b, n_simulations))\n",
    "\n",
    "        pbar.update(1)\n",
    "\n",
    "true_likelihood_values = [Code.true_likelihood(x, theta) for theta in theta_values]\n",
    "\n",
    "plt.plot(theta_values, true_likelihood_values, color='r', label='True likelihood')  \n",
    "plt.scatter(theta_values, estimated_likelihood, color='purple', marker='x', label='ML_SS')\n",
    "plt.axvline(x=theta_true, color='black', linestyle='--', label='theta='+ str('{:.2f}'.format(theta_true)))\n",
    "plt.ylim([-300,500])\n",
    "plt.xlabel('Theta')\n",
    "plt.ylabel('Likelihood')\n",
    "plt.title('Estimation de la vraisemblance par ML-SS')\n",
    "plt.legend(loc='best')\n",
    "plt.show()"
   ]
  },
  {
   "cell_type": "code",
   "execution_count": 8,
   "metadata": {},
   "outputs": [
    {
     "name": "stderr",
     "output_type": "stream",
     "text": [
      "100%|██████████| 15/15 [00:00<00:00, 56.20it/s]\n",
      "100%|██████████| 15/15 [00:00<00:00, 129.36it/s]\n",
      "100%|██████████| 15/15 [00:00<00:00, 54.17it/s]\n",
      "100%|██████████| 15/15 [00:00<00:00, 117.89it/s]\n",
      "100%|██████████| 15/15 [00:00<00:00, 53.25it/s]\n",
      "100%|██████████| 15/15 [00:00<00:00, 26.12it/s]\n",
      "100%|██████████| 15/15 [00:00<00:00, 29.07it/s]\n",
      "100%|██████████| 15/15 [00:00<00:00, 106.98it/s]\n",
      "100%|██████████| 15/15 [00:00<00:00, 25.26it/s]\n",
      "100%|██████████| 15/15 [00:00<00:00, 58.17it/s]\n",
      "100%|██████████| 15/15 [00:00<00:00, 99.65it/s]\n",
      "100%|██████████| 15/15 [00:00<00:00, 47.98it/s]\n",
      "100%|██████████| 15/15 [00:00<00:00, 86.84it/s]\n",
      "100%|██████████| 15/15 [00:00<00:00, 104.28it/s]\n",
      "100%|██████████| 15/15 [00:00<00:00, 134.41it/s]\n",
      "100%|██████████| 15/15 [00:00<00:00, 46.12it/s]\n",
      "100%|██████████| 15/15 [00:00<00:00, 166.36it/s]\n",
      "100%|██████████| 15/15 [00:00<00:00, 65.42it/s]\n",
      "100%|██████████| 15/15 [00:00<00:00, 67.13it/s]\n",
      "100%|██████████| 15/15 [00:00<00:00, 151.58it/s]\n",
      "100%|██████████| 15/15 [00:00<00:00, 127.32it/s]\n",
      "100%|██████████| 15/15 [00:00<00:00, 130.95it/s]\n",
      "100%|██████████| 15/15 [00:00<00:00, 44.19it/s]\n",
      "100%|██████████| 15/15 [00:00<00:00, 101.94it/s]\n",
      "100%|██████████| 15/15 [00:00<00:00, 82.21it/s]\n",
      "100%|██████████| 15/15 [00:00<00:00, 23.59it/s]\n",
      "100%|██████████| 15/15 [00:00<00:00, 43.50it/s]\n",
      "100%|██████████| 15/15 [00:00<00:00, 50.46it/s]\n",
      "100%|██████████| 15/15 [00:00<00:00, 20.92it/s]\n",
      "100%|██████████| 15/15 [00:00<00:00, 38.91it/s]\n",
      "100%|██████████| 15/15 [00:00<00:00, 100.13it/s]\n",
      "100%|██████████| 15/15 [00:00<00:00, 52.99it/s]\n",
      "100%|██████████| 15/15 [00:00<00:00, 69.33it/s]\n",
      "100%|██████████| 15/15 [00:00<00:00, 153.40it/s]\n",
      "100%|██████████| 15/15 [00:00<00:00, 77.60it/s]\n",
      "100%|██████████| 15/15 [00:00<00:00, 56.45it/s]\n",
      "100%|██████████| 15/15 [00:00<00:00, 22.34it/s]\n",
      "100%|██████████| 15/15 [00:00<00:00, 65.03it/s]\n",
      "100%|██████████| 15/15 [00:00<00:00, 145.53it/s]\n",
      "100%|██████████| 15/15 [00:00<00:00, 122.58it/s]\n",
      "100%|██████████| 15/15 [00:00<00:00, 103.63it/s]\n",
      "100%|██████████| 15/15 [00:00<00:00, 89.50it/s] \n",
      "100%|██████████| 15/15 [00:00<00:00, 115.72it/s]\n",
      "100%|██████████| 15/15 [00:00<00:00, 121.49it/s]\n",
      "100%|██████████| 15/15 [00:00<00:00, 90.60it/s] \n",
      "100%|██████████| 15/15 [00:00<00:00, 94.03it/s]\n",
      "100%|██████████| 15/15 [00:00<00:00, 65.61it/s]\n",
      "100%|██████████| 15/15 [00:00<00:00, 82.22it/s]\n",
      "100%|██████████| 15/15 [00:00<00:00, 33.05it/s]\n",
      "100%|██████████| 15/15 [00:00<00:00, 34.33it/s]\n",
      "100%|██████████| 15/15 [00:00<00:00, 85.03it/s]\n",
      "100%|██████████| 15/15 [00:00<00:00, 33.06it/s] \n",
      "100%|██████████| 15/15 [00:00<00:00, 67.16it/s]\n",
      "100%|██████████| 15/15 [00:00<00:00, 98.39it/s]\n",
      "100%|██████████| 15/15 [00:00<00:00, 91.93it/s]\n",
      "100%|██████████| 15/15 [00:00<00:00, 68.78it/s]\n",
      "100%|██████████| 15/15 [00:00<00:00, 49.21it/s]\n",
      "100%|██████████| 15/15 [00:00<00:00, 53.89it/s]\n",
      "100%|██████████| 15/15 [00:00<00:00, 67.63it/s]\n",
      "100%|██████████| 15/15 [00:00<00:00, 67.92it/s]\n",
      "60it [00:15,  3.81it/s]\n"
     ]
    },
    {
     "data": {
      "image/png": "[encoded data removed]",
      "text/plain": [
       "<Figure size 432x288 with 1 Axes>"
      ]
     },
     "metadata": {
      "needs_background": "light"
     },
     "output_type": "display_data"
    }
   ],
   "source": [
    "#On remarque c'est beaucoup plus long en important depuis le .py \n",
    "Code.plot_likelihood(r, x, noised_A, noised_b, theta_true, n_simulations, \"ML_SS\")"
   ]
  },
  {
   "cell_type": "markdown",
   "metadata": {},
   "source": [
    "On va désormais s'intéresser à l'estimation de $\\nabla_{\\theta} l(\\theta)$ par notre estimateur ML-SS. L'objectif étant de voir à quel point cet estimateur nous permettra, par la suite, d'approximer $\\theta^*$ à l'aide d'une descente de gradient. \n",
    "\n",
    "De la même façon, "
   ]
  },
  {
   "cell_type": "code",
   "execution_count": 9,
   "metadata": {},
   "outputs": [
    {
     "name": "stderr",
     "output_type": "stream",
     "text": [
      "100%|██████████| 15/15 [00:00<00:00, 42.94it/s]\n",
      "100%|██████████| 15/15 [00:00<00:00, 128.69it/s]\n",
      "100%|██████████| 15/15 [00:00<00:00, 106.45it/s]\n",
      "100%|██████████| 15/15 [00:00<00:00, 107.55it/s]\n",
      "100%|██████████| 15/15 [00:00<00:00, 167.39it/s]\n",
      "100%|██████████| 15/15 [00:00<00:00, 120.60it/s]\n",
      "100%|██████████| 15/15 [00:00<00:00, 153.18it/s]\n",
      "100%|██████████| 15/15 [00:00<00:00, 62.03it/s]\n",
      "100%|██████████| 15/15 [00:00<00:00, 38.22it/s]\n",
      "100%|██████████| 15/15 [00:00<00:00, 48.71it/s]\n",
      "100%|██████████| 15/15 [00:00<00:00, 34.22it/s]\n",
      "100%|██████████| 15/15 [00:00<00:00, 100.65it/s]\n",
      "100%|██████████| 15/15 [00:00<00:00, 28.10it/s]\n",
      "100%|██████████| 15/15 [00:00<00:00, 22.86it/s]\n",
      "100%|██████████| 15/15 [00:00<00:00, 64.97it/s]\n",
      "100%|██████████| 15/15 [00:01<00:00, 12.61it/s]\n",
      "100%|██████████| 15/15 [00:00<00:00, 96.53it/s]\n",
      "100%|██████████| 15/15 [00:00<00:00, 82.63it/s]\n",
      "100%|██████████| 15/15 [00:00<00:00, 23.67it/s]\n",
      "100%|██████████| 15/15 [00:00<00:00, 110.01it/s]\n",
      "100%|██████████| 15/15 [00:00<00:00, 71.64it/s]\n",
      "100%|██████████| 15/15 [00:00<00:00, 83.94it/s]\n",
      "100%|██████████| 15/15 [00:00<00:00, 70.68it/s]\n",
      "100%|██████████| 15/15 [00:00<00:00, 43.49it/s]\n",
      "100%|██████████| 15/15 [00:00<00:00, 129.65it/s]\n",
      "100%|██████████| 15/15 [00:00<00:00, 88.36it/s] \n",
      "100%|██████████| 15/15 [00:00<00:00, 73.95it/s]\n",
      "100%|██████████| 15/15 [00:00<00:00, 71.19it/s] \n",
      "100%|██████████| 15/15 [00:00<00:00, 71.22it/s]\n",
      "100%|██████████| 15/15 [00:00<00:00, 81.09it/s]\n",
      "100%|██████████| 15/15 [00:00<00:00, 49.47it/s]\n",
      "100%|██████████| 15/15 [00:00<00:00, 92.61it/s]\n",
      "100%|██████████| 15/15 [00:00<00:00, 69.00it/s]\n",
      "100%|██████████| 15/15 [00:00<00:00, 64.82it/s]\n",
      "100%|██████████| 15/15 [00:00<00:00, 119.63it/s]\n",
      "100%|██████████| 15/15 [00:00<00:00, 62.48it/s]\n",
      "100%|██████████| 15/15 [00:00<00:00, 144.93it/s]\n",
      "100%|██████████| 15/15 [00:00<00:00, 97.71it/s]\n",
      "100%|██████████| 15/15 [00:00<00:00, 109.05it/s]\n",
      "100%|██████████| 15/15 [00:00<00:00, 108.58it/s]\n",
      "100%|██████████| 15/15 [00:00<00:00, 57.90it/s]\n",
      "100%|██████████| 15/15 [00:00<00:00, 56.12it/s]\n",
      "100%|██████████| 15/15 [00:00<00:00, 117.63it/s]\n",
      "100%|██████████| 15/15 [00:00<00:00, 40.75it/s]\n",
      "100%|██████████| 15/15 [00:00<00:00, 104.01it/s]\n",
      "100%|██████████| 15/15 [00:00<00:00, 55.34it/s]\n",
      "100%|██████████| 15/15 [00:00<00:00, 47.32it/s]\n",
      "100%|██████████| 15/15 [00:00<00:00, 30.98it/s]\n",
      "100%|██████████| 15/15 [00:00<00:00, 38.38it/s]\n",
      "100%|██████████| 15/15 [00:00<00:00, 139.82it/s]\n",
      "100%|██████████| 15/15 [00:00<00:00, 104.05it/s]\n",
      "100%|██████████| 15/15 [00:00<00:00, 32.81it/s]\n",
      "100%|██████████| 15/15 [00:00<00:00, 50.30it/s]\n",
      "100%|██████████| 15/15 [00:00<00:00, 88.04it/s]\n",
      "100%|██████████| 15/15 [00:00<00:00, 127.87it/s]\n",
      "100%|██████████| 15/15 [00:00<00:00, 130.52it/s]\n",
      "100%|██████████| 15/15 [00:00<00:00, 66.98it/s]\n",
      "100%|██████████| 15/15 [00:00<00:00, 119.61it/s]\n",
      "100%|██████████| 15/15 [00:00<00:00, 124.87it/s]\n",
      "100%|██████████| 15/15 [00:00<00:00, 69.63it/s]\n"
     ]
    },
    {
     "data": {
      "image/png": "[encoded data removed]",
      "text/plain": [
       "<Figure size 432x288 with 1 Axes>"
      ]
     },
     "metadata": {
      "needs_background": "light"
     },
     "output_type": "display_data"
    }
   ],
   "source": [
    "Code.plot_gradient(0.6, x, noised_A, noised_b, theta_true, 15, 'ML_SS')"
   ]
  },
  {
   "cell_type": "markdown",
   "metadata": {},
   "source": [
    "#### <span style=\"color:red\">  **1.1.2 Estimateur ML-RR**  </span>"
   ]
  },
  {
   "cell_type": "code",
   "execution_count": 10,
   "metadata": {},
   "outputs": [
    {
     "name": "stderr",
     "output_type": "stream",
     "text": [
      "100%|██████████| 15/15 [00:00<00:00, 28.81it/s]\n",
      "100%|██████████| 15/15 [00:00<00:00, 40.36it/s]\n",
      "100%|██████████| 15/15 [00:00<00:00, 46.78it/s]\n",
      "100%|██████████| 15/15 [00:00<00:00, 111.82it/s]\n",
      "100%|██████████| 15/15 [00:00<00:00, 62.30it/s]\n",
      "100%|██████████| 15/15 [00:00<00:00, 85.38it/s] \n",
      "100%|██████████| 15/15 [00:00<00:00, 109.82it/s]\n",
      "100%|██████████| 15/15 [00:00<00:00, 99.74it/s]\n",
      "100%|██████████| 15/15 [00:00<00:00, 61.47it/s]\n",
      "100%|██████████| 15/15 [00:00<00:00, 65.94it/s]\n",
      "100%|██████████| 15/15 [00:00<00:00, 75.75it/s]\n",
      "100%|██████████| 15/15 [00:00<00:00, 68.81it/s]\n",
      "100%|██████████| 15/15 [00:00<00:00, 112.04it/s]\n",
      "100%|██████████| 15/15 [00:00<00:00, 66.04it/s] \n",
      "100%|██████████| 15/15 [00:00<00:00, 50.46it/s]\n",
      "100%|██████████| 15/15 [00:00<00:00, 120.81it/s]\n",
      "100%|██████████| 15/15 [00:00<00:00, 87.74it/s]\n",
      "100%|██████████| 15/15 [00:00<00:00, 48.95it/s]\n",
      "100%|██████████| 15/15 [00:00<00:00, 74.55it/s]\n",
      "100%|██████████| 15/15 [00:00<00:00, 89.81it/s]\n",
      "100%|██████████| 15/15 [00:00<00:00, 85.69it/s]\n",
      "100%|██████████| 15/15 [00:00<00:00, 96.21it/s] \n",
      "100%|██████████| 15/15 [00:00<00:00, 104.83it/s]\n",
      "100%|██████████| 15/15 [00:00<00:00, 83.20it/s]\n",
      "100%|██████████| 15/15 [00:00<00:00, 62.14it/s]\n",
      "100%|██████████| 15/15 [00:00<00:00, 97.14it/s]\n",
      "100%|██████████| 15/15 [00:00<00:00, 21.20it/s]\n",
      "100%|██████████| 15/15 [00:00<00:00, 81.14it/s]\n",
      "100%|██████████| 15/15 [00:00<00:00, 100.75it/s]\n",
      "100%|██████████| 15/15 [00:00<00:00, 91.98it/s]\n",
      "100%|██████████| 15/15 [00:00<00:00, 82.85it/s]\n",
      "100%|██████████| 15/15 [00:00<00:00, 105.82it/s]\n",
      "100%|██████████| 15/15 [00:00<00:00, 58.34it/s]\n",
      "100%|██████████| 15/15 [00:00<00:00, 50.13it/s]\n",
      "100%|██████████| 15/15 [00:00<00:00, 30.86it/s]\n",
      "100%|██████████| 15/15 [00:00<00:00, 28.35it/s]\n",
      "100%|██████████| 15/15 [00:00<00:00, 78.29it/s]\n",
      "100%|██████████| 15/15 [00:00<00:00, 75.18it/s]\n",
      "100%|██████████| 15/15 [00:00<00:00, 20.05it/s]\n",
      "100%|██████████| 15/15 [00:00<00:00, 21.80it/s]\n",
      "100%|██████████| 15/15 [00:00<00:00, 103.61it/s]\n",
      "100%|██████████| 15/15 [00:00<00:00, 96.55it/s]\n",
      "100%|██████████| 15/15 [00:00<00:00, 132.88it/s]\n",
      "100%|██████████| 15/15 [00:00<00:00, 93.90it/s]\n",
      "100%|██████████| 15/15 [00:00<00:00, 93.15it/s]\n",
      "100%|██████████| 15/15 [00:00<00:00, 132.06it/s]\n",
      "100%|██████████| 15/15 [00:00<00:00, 78.57it/s]\n",
      "100%|██████████| 15/15 [00:00<00:00, 97.42it/s]\n",
      "100%|██████████| 15/15 [00:00<00:00, 31.47it/s]\n",
      "100%|██████████| 15/15 [00:00<00:00, 27.74it/s]\n",
      "100%|██████████| 15/15 [00:00<00:00, 49.20it/s]\n",
      "100%|██████████| 15/15 [00:00<00:00, 44.95it/s]\n",
      "100%|██████████| 15/15 [00:00<00:00, 37.28it/s]\n",
      "100%|██████████| 15/15 [00:01<00:00, 13.40it/s]\n",
      "100%|██████████| 15/15 [00:00<00:00, 23.72it/s]\n",
      "100%|██████████| 15/15 [00:00<00:00, 35.05it/s]\n",
      "100%|██████████| 15/15 [00:00<00:00, 26.83it/s]\n",
      "100%|██████████| 15/15 [00:01<00:00, 10.72it/s]\n",
      "100%|██████████| 15/15 [00:00<00:00, 31.47it/s]\n",
      "100%|██████████| 15/15 [00:00<00:00, 15.93it/s]\n",
      "60it [00:19,  3.02it/s]\n"
     ]
    },
    {
     "data": {
      "image/png": "[encoded data removed]",
      "text/plain": [
       "<Figure size 432x288 with 1 Axes>"
      ]
     },
     "metadata": {
      "needs_background": "light"
     },
     "output_type": "display_data"
    }
   ],
   "source": [
    "n_simulations = 15\n",
    "r = 0.6\n",
    "\n",
    "Code.plot_likelihood(r, x, noised_A, noised_b, theta_true, n_simulations, \"ML_RR\")"
   ]
  },
  {
   "cell_type": "code",
   "execution_count": 11,
   "metadata": {},
   "outputs": [
    {
     "name": "stderr",
     "output_type": "stream",
     "text": [
      "100%|██████████| 15/15 [00:01<00:00, 13.58it/s]\n",
      "100%|██████████| 15/15 [00:00<00:00, 59.33it/s]\n",
      "100%|██████████| 15/15 [00:00<00:00, 116.32it/s]\n",
      "100%|██████████| 15/15 [00:00<00:00, 125.81it/s]\n",
      "100%|██████████| 15/15 [00:00<00:00, 134.03it/s]\n",
      "100%|██████████| 15/15 [00:00<00:00, 122.77it/s]\n",
      "100%|██████████| 15/15 [00:00<00:00, 34.78it/s]\n",
      "100%|██████████| 15/15 [00:00<00:00, 25.36it/s]\n",
      "100%|██████████| 15/15 [00:01<00:00,  9.00it/s]\n",
      "100%|██████████| 15/15 [00:00<00:00, 46.22it/s]\n",
      "100%|██████████| 15/15 [00:00<00:00, 87.16it/s]\n",
      "100%|██████████| 15/15 [00:00<00:00, 56.58it/s]\n",
      "100%|██████████| 15/15 [00:00<00:00, 65.56it/s]\n",
      "100%|██████████| 15/15 [00:00<00:00, 50.89it/s]\n",
      "100%|██████████| 15/15 [00:00<00:00, 114.63it/s]\n",
      "100%|██████████| 15/15 [00:00<00:00, 103.06it/s]\n",
      "100%|██████████| 15/15 [00:00<00:00, 96.34it/s]\n",
      "100%|██████████| 15/15 [00:00<00:00, 76.27it/s] \n",
      "100%|██████████| 15/15 [00:00<00:00, 111.94it/s]\n",
      "100%|██████████| 15/15 [00:00<00:00, 115.78it/s]\n",
      "100%|██████████| 15/15 [00:00<00:00, 98.15it/s] \n",
      "100%|██████████| 15/15 [00:00<00:00, 79.50it/s]\n",
      "100%|██████████| 15/15 [00:00<00:00, 115.05it/s]\n",
      "100%|██████████| 15/15 [00:00<00:00, 84.25it/s]\n",
      "100%|██████████| 15/15 [00:00<00:00, 97.35it/s]\n",
      "100%|██████████| 15/15 [00:00<00:00, 76.10it/s]\n",
      "100%|██████████| 15/15 [00:00<00:00, 53.06it/s]\n",
      "100%|██████████| 15/15 [00:00<00:00, 90.13it/s]\n",
      "100%|██████████| 15/15 [00:00<00:00, 79.89it/s]\n",
      "100%|██████████| 15/15 [00:00<00:00, 51.75it/s] \n",
      "100%|██████████| 15/15 [00:00<00:00, 83.39it/s]\n",
      "100%|██████████| 15/15 [00:00<00:00, 88.35it/s]\n",
      "100%|██████████| 15/15 [00:00<00:00, 63.21it/s]\n",
      "100%|██████████| 15/15 [00:00<00:00, 109.18it/s]\n",
      "100%|██████████| 15/15 [00:00<00:00, 80.92it/s]\n",
      "100%|██████████| 15/15 [00:00<00:00, 29.35it/s]\n",
      "100%|██████████| 15/15 [00:00<00:00, 39.33it/s]\n",
      "100%|██████████| 15/15 [00:00<00:00, 53.26it/s]\n",
      "100%|██████████| 15/15 [00:10<00:00,  1.43it/s]\n",
      "100%|██████████| 15/15 [00:00<00:00, 27.03it/s]\n",
      "100%|██████████| 15/15 [00:00<00:00, 111.42it/s]\n",
      "100%|██████████| 15/15 [00:00<00:00, 82.93it/s]\n",
      "100%|██████████| 15/15 [00:00<00:00, 73.67it/s]\n",
      "100%|██████████| 15/15 [00:00<00:00, 54.02it/s]\n",
      "100%|██████████| 15/15 [00:00<00:00, 99.41it/s]\n",
      "100%|██████████| 15/15 [00:00<00:00, 95.00it/s]\n",
      "100%|██████████| 15/15 [00:00<00:00, 135.21it/s]\n",
      "100%|██████████| 15/15 [00:00<00:00, 52.58it/s]\n",
      "100%|██████████| 15/15 [00:00<00:00, 85.82it/s]\n",
      "100%|██████████| 15/15 [00:00<00:00, 59.39it/s]\n",
      "100%|██████████| 15/15 [00:00<00:00, 37.31it/s]\n",
      "100%|██████████| 15/15 [00:00<00:00, 87.34it/s] \n",
      "100%|██████████| 15/15 [00:00<00:00, 36.83it/s]\n",
      "100%|██████████| 15/15 [00:02<00:00,  5.61it/s]\n",
      "100%|██████████| 15/15 [00:00<00:00, 60.12it/s]\n",
      "100%|██████████| 15/15 [00:00<00:00, 87.46it/s]\n",
      "100%|██████████| 15/15 [00:00<00:00, 102.15it/s]\n",
      "100%|██████████| 15/15 [00:00<00:00, 38.18it/s]\n",
      "100%|██████████| 15/15 [00:00<00:00, 85.48it/s]\n",
      "100%|██████████| 15/15 [00:00<00:00, 65.87it/s]\n"
     ]
    },
    {
     "data": {
      "image/png": "[encoded data removed]",
      "text/plain": [
       "<Figure size 432x288 with 1 Axes>"
      ]
     },
     "metadata": {
      "needs_background": "light"
     },
     "output_type": "display_data"
    }
   ],
   "source": [
    "Code.plot_gradient(0.6, x, noised_A, noised_b, theta_true, 15, 'ML_RR')"
   ]
  },
  {
   "cell_type": "markdown",
   "metadata": {},
   "source": [
    "### <span style=\"color:orange\">  **1.2 L'estimateurs SUMO (Stochastically Unbiased Marginalization Objective (SUMO))**  </span>\n",
    "\n",
    "On pose \n",
    "\\begin{align*}\n",
    "\\Delta^{\\text{SUMO}}_k &:= \\hat{\\ell}^{(k+2)}(\\boldsymbol{\\theta}) - \\hat{\\ell}^{(k+1)}(\\boldsymbol{\\theta})\\\\\n",
    "&:= \\log \\left( \\frac{1}{k+2} \\sum_{i=1}^{k+2} w(\\boldsymbol{z}_i) \\right) - \\log \\left( \\frac{1}{k+1} \\sum_{i=1}^{k+1} w(\\boldsymbol{z}_i) \\right),\n",
    "\\end{align*}\n",
    "\n",
    "où on rappelle que $w(\\boldsymbol{z}) := \\frac{p_{\\boldsymbol{\\theta}}(\\boldsymbol{x}, \\boldsymbol{z})}{q_{\\phi}(\\boldsymbol{z}|\\boldsymbol{x})}$.\n",
    "\n",
    "On applique l'estimateur $RR$ pour construire notre estimateur, que nous appelons $\\textbf{SUMO}$ (Stochastically Unbiased Marginalization Objective) qui correspond précisément à l'estimateur de la roulette russe pour $\\Delta^{\\text{SUMO}}_k$. Ainsi, \n",
    "$$\n",
    "\\hat{\\ell}^{\\text{SUMO}}(\\boldsymbol{\\theta}) := I_0 + \\sum^K_{k=0} \\frac{\\Delta^{\\text{SUMO}}_k}{P(\\mathcal{K} \\geq k)}\n",
    "$$\n",
    "    \n",
    "où $\\mathcal{K} \\sim p(\\cdot)$ une distrubtion de support dans $\\mathbb{N}$"
   ]
  },
  {
   "cell_type": "code",
   "execution_count": 12,
   "metadata": {},
   "outputs": [
    {
     "name": "stderr",
     "output_type": "stream",
     "text": [
      "100%|██████████| 15/15 [00:00<00:00, 31.22it/s]\n",
      "100%|██████████| 15/15 [00:00<00:00, 15.35it/s]\n",
      "100%|██████████| 15/15 [00:00<00:00, 48.21it/s]\n",
      "100%|██████████| 15/15 [00:00<00:00, 34.95it/s]\n",
      "100%|██████████| 15/15 [00:00<00:00, 48.90it/s]\n",
      "100%|██████████| 15/15 [00:00<00:00, 35.83it/s]\n",
      "100%|██████████| 15/15 [00:00<00:00, 50.44it/s]\n",
      "100%|██████████| 15/15 [00:01<00:00,  7.73it/s]\n",
      "100%|██████████| 15/15 [00:00<00:00, 88.46it/s]\n",
      "100%|██████████| 15/15 [00:00<00:00, 63.58it/s]\n",
      "100%|██████████| 15/15 [00:00<00:00, 31.25it/s]\n",
      "100%|██████████| 15/15 [00:00<00:00, 29.58it/s]\n",
      "100%|██████████| 15/15 [00:01<00:00,  7.88it/s]\n",
      "100%|██████████| 15/15 [00:00<00:00, 65.01it/s]\n",
      "100%|██████████| 15/15 [00:00<00:00, 30.94it/s]\n",
      "100%|██████████| 15/15 [00:00<00:00, 45.38it/s]\n",
      "100%|██████████| 15/15 [00:00<00:00, 32.15it/s]\n",
      "100%|██████████| 15/15 [00:00<00:00, 59.78it/s]\n",
      "100%|██████████| 15/15 [00:00<00:00, 63.72it/s]\n",
      "100%|██████████| 15/15 [00:00<00:00, 44.80it/s]\n",
      "100%|██████████| 15/15 [00:00<00:00, 44.51it/s]\n",
      "100%|██████████| 15/15 [00:00<00:00, 60.57it/s]\n",
      "100%|██████████| 15/15 [00:00<00:00, 47.33it/s]\n",
      "100%|██████████| 15/15 [00:00<00:00, 28.69it/s]\n",
      "100%|██████████| 15/15 [00:00<00:00, 76.67it/s]\n",
      "100%|██████████| 15/15 [00:00<00:00, 48.26it/s]\n",
      "100%|██████████| 15/15 [00:00<00:00, 65.19it/s]\n",
      "100%|██████████| 15/15 [00:00<00:00, 53.07it/s]\n",
      "100%|██████████| 15/15 [00:00<00:00, 96.11it/s]\n",
      "100%|██████████| 15/15 [00:00<00:00, 71.01it/s]\n",
      "100%|██████████| 15/15 [00:00<00:00, 62.77it/s]\n",
      "100%|██████████| 15/15 [00:00<00:00, 20.10it/s]\n",
      "100%|██████████| 15/15 [00:00<00:00, 24.10it/s]\n",
      "100%|██████████| 15/15 [00:00<00:00, 19.49it/s]\n",
      "100%|██████████| 15/15 [00:00<00:00, 47.98it/s]\n",
      "100%|██████████| 15/15 [00:01<00:00, 13.96it/s]\n",
      "100%|██████████| 15/15 [00:00<00:00, 81.44it/s]\n",
      "100%|██████████| 15/15 [00:00<00:00, 17.33it/s]\n",
      "100%|██████████| 15/15 [00:00<00:00, 56.49it/s]\n",
      "100%|██████████| 15/15 [00:00<00:00, 48.86it/s]\n",
      "100%|██████████| 15/15 [00:00<00:00, 48.63it/s]\n",
      "100%|██████████| 15/15 [00:00<00:00, 31.52it/s]\n",
      "100%|██████████| 15/15 [00:00<00:00, 84.29it/s]\n",
      "100%|██████████| 15/15 [00:00<00:00, 20.94it/s]\n",
      "100%|██████████| 15/15 [00:00<00:00, 23.56it/s]\n",
      "100%|██████████| 15/15 [00:00<00:00, 19.27it/s]\n",
      "100%|██████████| 15/15 [00:00<00:00, 19.83it/s]\n",
      "100%|██████████| 15/15 [00:00<00:00, 31.91it/s]\n",
      "100%|██████████| 15/15 [00:00<00:00, 27.35it/s]\n",
      "100%|██████████| 15/15 [00:00<00:00, 60.49it/s]\n",
      "100%|██████████| 15/15 [00:00<00:00, 27.07it/s]\n",
      "100%|██████████| 15/15 [00:00<00:00, 56.84it/s]\n",
      "100%|██████████| 15/15 [00:00<00:00, 47.94it/s]\n",
      "100%|██████████| 15/15 [00:00<00:00, 37.94it/s]\n",
      "100%|██████████| 15/15 [00:00<00:00, 53.51it/s]\n",
      "100%|██████████| 15/15 [00:00<00:00, 23.66it/s]\n",
      "100%|██████████| 15/15 [00:00<00:00, 40.85it/s]\n",
      "100%|██████████| 15/15 [00:05<00:00,  2.84it/s]\n",
      "100%|██████████| 15/15 [00:00<00:00, 39.14it/s]\n",
      "100%|██████████| 15/15 [00:00<00:00, 32.89it/s]\n",
      "60it [00:33,  1.79it/s]\n"
     ]
    },
    {
     "data": {
      "image/png": "[encoded data removed]",
      "text/plain": [
       "<Figure size 432x288 with 1 Axes>"
      ]
     },
     "metadata": {
      "needs_background": "light"
     },
     "output_type": "display_data"
    }
   ],
   "source": [
    "n_simulations = 15 \n",
    "r = 0.6\n",
    "\n",
    "Code.plot_likelihood(r, x, noised_A, noised_b, theta_true, n_simulations, \"SUMO\")"
   ]
  },
  {
   "cell_type": "code",
   "execution_count": 13,
   "metadata": {},
   "outputs": [
    {
     "name": "stderr",
     "output_type": "stream",
     "text": [
      "100%|██████████| 15/15 [00:00<00:00, 37.92it/s]\n",
      "100%|██████████| 15/15 [00:00<00:00, 65.55it/s]\n",
      "100%|██████████| 15/15 [00:00<00:00, 62.74it/s]\n",
      "100%|██████████| 15/15 [00:00<00:00, 79.70it/s]\n",
      "100%|██████████| 15/15 [00:00<00:00, 71.36it/s]\n",
      "100%|██████████| 15/15 [00:00<00:00, 61.68it/s]\n",
      "100%|██████████| 15/15 [00:00<00:00, 29.29it/s]\n",
      "100%|██████████| 15/15 [00:00<00:00, 61.50it/s]\n",
      "100%|██████████| 15/15 [00:00<00:00, 69.88it/s]\n",
      "100%|██████████| 15/15 [00:00<00:00, 35.36it/s]\n",
      "100%|██████████| 15/15 [00:00<00:00, 29.13it/s]\n",
      "100%|██████████| 15/15 [00:00<00:00, 33.46it/s]\n",
      "100%|██████████| 15/15 [00:00<00:00, 18.22it/s]\n",
      "100%|██████████| 15/15 [00:00<00:00, 15.97it/s]\n",
      "100%|██████████| 15/15 [00:00<00:00, 48.55it/s]\n",
      "100%|██████████| 15/15 [00:00<00:00, 62.78it/s]\n",
      "100%|██████████| 15/15 [00:00<00:00, 50.32it/s]\n",
      "100%|██████████| 15/15 [00:00<00:00, 26.16it/s]\n",
      "100%|██████████| 15/15 [00:00<00:00, 40.59it/s]\n",
      "100%|██████████| 15/15 [00:00<00:00, 21.00it/s]\n",
      "100%|██████████| 15/15 [00:01<00:00, 12.17it/s]\n",
      "100%|██████████| 15/15 [00:00<00:00, 25.13it/s]\n",
      "100%|██████████| 15/15 [00:00<00:00, 41.96it/s]\n",
      "100%|██████████| 15/15 [00:00<00:00, 39.12it/s]\n",
      "100%|██████████| 15/15 [00:00<00:00, 24.43it/s]\n",
      "100%|██████████| 15/15 [00:00<00:00, 39.06it/s]\n",
      "100%|██████████| 15/15 [00:01<00:00, 14.99it/s]\n",
      "100%|██████████| 15/15 [00:00<00:00, 49.63it/s]\n",
      "100%|██████████| 15/15 [00:00<00:00, 44.93it/s]\n",
      "100%|██████████| 15/15 [00:00<00:00, 40.23it/s]\n",
      "100%|██████████| 15/15 [00:00<00:00, 40.45it/s]\n",
      "100%|██████████| 15/15 [00:00<00:00, 20.13it/s]\n",
      "100%|██████████| 15/15 [00:00<00:00, 36.01it/s]\n",
      "100%|██████████| 15/15 [00:00<00:00, 21.57it/s]\n",
      "100%|██████████| 15/15 [00:00<00:00, 44.14it/s]\n",
      "100%|██████████| 15/15 [00:00<00:00, 20.41it/s]\n",
      "100%|██████████| 15/15 [00:00<00:00, 37.51it/s]\n",
      "100%|██████████| 15/15 [00:00<00:00, 50.12it/s]\n",
      "100%|██████████| 15/15 [00:00<00:00, 39.76it/s]\n",
      "100%|██████████| 15/15 [00:00<00:00, 29.43it/s]\n",
      "100%|██████████| 15/15 [00:00<00:00, 47.56it/s]\n",
      "100%|██████████| 15/15 [00:00<00:00, 28.75it/s]\n",
      "100%|██████████| 15/15 [00:00<00:00, 46.42it/s]\n",
      "100%|██████████| 15/15 [00:00<00:00, 47.07it/s]\n",
      "100%|██████████| 15/15 [00:00<00:00, 53.07it/s]\n",
      "100%|██████████| 15/15 [00:00<00:00, 56.33it/s]\n",
      "100%|██████████| 15/15 [00:00<00:00, 38.27it/s]\n",
      "100%|██████████| 15/15 [00:00<00:00, 36.30it/s]\n",
      "100%|██████████| 15/15 [00:01<00:00, 14.00it/s]\n",
      "100%|██████████| 15/15 [00:00<00:00, 31.85it/s]\n",
      "100%|██████████| 15/15 [00:00<00:00, 15.60it/s]\n",
      "100%|██████████| 15/15 [00:00<00:00, 52.67it/s]\n",
      "100%|██████████| 15/15 [00:00<00:00, 41.61it/s]\n",
      "100%|██████████| 15/15 [00:00<00:00, 71.03it/s]\n",
      "100%|██████████| 15/15 [00:00<00:00, 42.00it/s]\n",
      "100%|██████████| 15/15 [00:00<00:00, 68.87it/s]\n",
      "100%|██████████| 15/15 [00:00<00:00, 33.91it/s]\n",
      "100%|██████████| 15/15 [00:00<00:00, 25.01it/s]\n",
      "100%|██████████| 15/15 [00:00<00:00, 28.73it/s]\n",
      "100%|██████████| 15/15 [00:00<00:00, 50.19it/s]\n"
     ]
    },
    {
     "data": {
      "image/png": "[encoded data removed]",
      "text/plain": [
       "<Figure size 432x288 with 1 Axes>"
      ]
     },
     "metadata": {
      "needs_background": "light"
     },
     "output_type": "display_data"
    }
   ],
   "source": [
    "Code.plot_gradient(0.6, x, noised_A, noised_b, theta_true, 15, 'SUMO')"
   ]
  },
  {
   "cell_type": "markdown",
   "metadata": {},
   "source": [
    "### <span style=\"color:orange\">  **1.3 L'estimateurs IWAE (Autoencoder Pondéré par l'Importance)**  </span>\n",
    "\n",
    "Voir l'article séminal sur l'IAWE [ici](https://arxiv.org/pdf/1509.00519.pdf).\n",
    "\n",
    "L'IWAE utilise cette architecture avec à la fois un **réseau génératif** (paramètre $\\boldsymbol{\\theta}$) et un **réseau de reconnaissance** (paramètre $\\phi$). **La différence est qu'il est entraîné à maximiser une autre borne inférieure** sur $\\log p_{\\boldsymbol{\\theta}}(\\boldsymbol{x})$. En particulier, nous utilisons la borne inférieure suivante, correspondant à l'estimation de pondération d'importance à $k$ échantillons de la log-vraisemblance :\n",
    "\n",
    "\\begin{align*}\n",
    "\\ell_{\\text{IAWE}}^{(k)}(\\boldsymbol{\\theta}, \\phi) &= \\mathbb{E}_{\\boldsymbol{z}_1,\\dots,\\boldsymbol{z}_k \\underset{i.i.d}{\\sim} q_{\\phi}(\\boldsymbol{z}|\\boldsymbol{x})}\\left[\\log \\frac{1}{k} \\sum_{i=1}^{k} \\frac{p_{\\boldsymbol{\\theta}}(\\boldsymbol{x}, \\boldsymbol{z}_i)}{q_{\\phi}(\\boldsymbol{z}_i | \\boldsymbol{x})}\\right ]\n",
    "\\end{align*}\n",
    "\n",
    "Ici, $\\boldsymbol{z}_1, \\dots, \\boldsymbol{z}_k$ sont échantillonnés indépendamment du modèle de reconnaissance. Le terme à l'intérieur de la somme correspond aux poids d'importance non normalisés pour la distribution conjointe, que nous noterons $w_i = \\frac{p(\\boldsymbol{x}, \\boldsymbol{z}_i)}{q_{\\phi}(\\boldsymbol{z}_i | \\boldsymbol{x})}$. \n",
    "\n",
    "L'optimisation de $\\ell_{\\text{IAWE}}^{(k)}(\\boldsymbol{\\theta}, \\phi)$ est effectuée conjointement en $\\boldsymbol{\\theta}$ et $\\phi$. \n",
    "\n",
    "Il existe deux propriétés de l'IWAE qui nous permettront de le modifier pour produire un estimateur non biaisé :\n",
    "1. Il est consistant, i.e. lorsque le nombre d'échantillons $k$ augmente, l'espérance de $\\ell_{\\text{IAWE}}^{(k)}(\\boldsymbol{\\theta}, \\phi)$ converge vers $\\log p_{\\boldsymbol{\\theta}}(\\boldsymbol{x})$ : \n",
    "$$\n",
    "\\log p_{\\boldsymbol{\\theta}}(\\boldsymbol{x}) = \\lim_{k \\rightarrow +\\infty} \\mathbb{E}[\\ell_{\\text{IAWE}}^{(k)}(\\boldsymbol{\\theta}, \\phi)]\n",
    "$$\n",
    "\n",
    "2. Il est également croissant en espérance : \n",
    "$$\n",
    "\\mathbb{E}[\\ell_{\\text{IAWE}}^{(k+1)}(\\boldsymbol{\\theta}, \\phi)] \\geq \\mathbb{E}[\\ell_{\\text{IAWE}}^{(k)}(\\boldsymbol{\\theta}, \\phi)]\n",
    "$$ \n",
    "\n",
    "De la même façon que pour les estimateurs précédents, on trace les estimations de l'IWAE sur une plage autour de $\\theta^*$"
   ]
  },
  {
   "cell_type": "code",
   "execution_count": 14,
   "metadata": {},
   "outputs": [
    {
     "name": "stderr",
     "output_type": "stream",
     "text": [
      "100%|██████████| 15/15 [00:00<00:00, 329.45it/s]\n",
      "100%|██████████| 15/15 [00:00<00:00, 160.56it/s]\n",
      "100%|██████████| 15/15 [00:00<00:00, 220.06it/s]\n",
      "100%|██████████| 15/15 [00:00<00:00, 327.32it/s]\n",
      "100%|██████████| 15/15 [00:00<00:00, 291.66it/s]\n",
      "100%|██████████| 15/15 [00:00<00:00, 432.16it/s]\n",
      "100%|██████████| 15/15 [00:00<00:00, 215.47it/s]\n",
      "100%|██████████| 15/15 [00:00<00:00, 412.81it/s]\n",
      "100%|██████████| 15/15 [00:00<00:00, 221.34it/s]\n",
      "100%|██████████| 15/15 [00:00<00:00, 433.95it/s]\n",
      "100%|██████████| 15/15 [00:00<00:00, 334.01it/s]\n",
      "100%|██████████| 15/15 [00:00<00:00, 448.60it/s]\n",
      "100%|██████████| 15/15 [00:00<00:00, 262.18it/s]\n",
      "100%|██████████| 15/15 [00:00<00:00, 485.07it/s]\n",
      "100%|██████████| 15/15 [00:00<00:00, 447.93it/s]\n",
      "100%|██████████| 15/15 [00:00<00:00, 52.10it/s]\n",
      "100%|██████████| 15/15 [00:00<00:00, 438.62it/s]\n",
      "100%|██████████| 15/15 [00:00<00:00, 319.24it/s]\n",
      "100%|██████████| 15/15 [00:00<00:00, 240.21it/s]\n",
      "100%|██████████| 15/15 [00:00<00:00, 259.74it/s]\n",
      "100%|██████████| 15/15 [00:00<00:00, 186.50it/s]\n",
      "100%|██████████| 15/15 [00:00<00:00, 161.37it/s]\n",
      "100%|██████████| 15/15 [00:00<00:00, 151.37it/s]\n",
      "100%|██████████| 15/15 [00:00<00:00, 221.45it/s]\n",
      "100%|██████████| 15/15 [00:00<00:00, 173.39it/s]\n",
      "100%|██████████| 15/15 [00:00<00:00, 155.07it/s]\n",
      "100%|██████████| 15/15 [00:00<00:00, 254.25it/s]\n",
      "100%|██████████| 15/15 [00:00<00:00, 361.90it/s]\n",
      "100%|██████████| 15/15 [00:00<00:00, 461.58it/s]\n",
      "100%|██████████| 15/15 [00:00<00:00, 467.94it/s]\n",
      "100%|██████████| 15/15 [00:00<00:00, 278.99it/s]\n",
      "100%|██████████| 15/15 [00:00<00:00, 359.31it/s]\n",
      "100%|██████████| 15/15 [00:00<00:00, 252.19it/s]\n",
      "100%|██████████| 15/15 [00:00<00:00, 339.47it/s]\n",
      "100%|██████████| 15/15 [00:00<00:00, 440.12it/s]\n",
      "100%|██████████| 15/15 [00:00<00:00, 48.50it/s]\n",
      "100%|██████████| 15/15 [00:00<00:00, 239.18it/s]\n",
      "100%|██████████| 15/15 [00:00<00:00, 361.23it/s]\n",
      "100%|██████████| 15/15 [00:00<00:00, 348.61it/s]\n",
      "100%|██████████| 15/15 [00:00<00:00, 373.01it/s]\n",
      "100%|██████████| 15/15 [00:00<00:00, 321.01it/s]\n",
      "100%|██████████| 15/15 [00:00<00:00, 401.51it/s]\n",
      "100%|██████████| 15/15 [00:00<00:00, 295.08it/s]\n",
      "100%|██████████| 15/15 [00:00<00:00, 413.85it/s]\n",
      "100%|██████████| 15/15 [00:00<00:00, 384.86it/s]\n",
      "100%|██████████| 15/15 [00:00<00:00, 472.83it/s]\n",
      "100%|██████████| 15/15 [00:00<00:00, 502.30it/s]\n",
      "100%|██████████| 15/15 [00:00<00:00, 126.87it/s]\n",
      "100%|██████████| 15/15 [00:00<00:00, 225.88it/s]\n",
      "100%|██████████| 15/15 [00:00<00:00, 184.88it/s]\n",
      "100%|██████████| 15/15 [00:00<00:00, 345.22it/s]\n",
      "100%|██████████| 15/15 [00:00<00:00, 254.75it/s]\n",
      "100%|██████████| 15/15 [00:00<00:00, 87.10it/s]\n",
      "100%|██████████| 15/15 [00:00<00:00, 323.79it/s]\n",
      "100%|██████████| 15/15 [00:00<00:00, 393.78it/s]\n",
      "100%|██████████| 15/15 [00:00<00:00, 315.83it/s]\n",
      "100%|██████████| 15/15 [00:00<00:00, 49.85it/s]\n",
      "100%|██████████| 15/15 [00:00<00:00, 269.82it/s]\n",
      "100%|██████████| 15/15 [00:00<00:00, 482.27it/s]\n",
      "100%|██████████| 15/15 [00:00<00:00, 403.49it/s]\n",
      "60it [00:04, 13.29it/s]\n"
     ]
    },
    {
     "data": {
      "image/png": "[encoded data removed]",
      "text/plain": [
       "<Figure size 432x288 with 1 Axes>"
      ]
     },
     "metadata": {
      "needs_background": "light"
     },
     "output_type": "display_data"
    }
   ],
   "source": [
    "n_simulations = 15 \n",
    "r = 0.6\n",
    "\n",
    "Code.plot_likelihood(r, x, noised_A, noised_b, theta_true, n_simulations, \"IWAE\")"
   ]
  },
  {
   "cell_type": "code",
   "execution_count": 15,
   "metadata": {},
   "outputs": [
    {
     "name": "stderr",
     "output_type": "stream",
     "text": [
      "100%|██████████| 15/15 [00:00<00:00, 155.58it/s]\n",
      "100%|██████████| 15/15 [00:00<00:00, 202.94it/s]\n",
      "100%|██████████| 15/15 [00:00<00:00, 519.86it/s]\n",
      "100%|██████████| 15/15 [00:00<00:00, 178.90it/s]\n",
      "100%|██████████| 15/15 [00:00<00:00, 308.60it/s]\n",
      "100%|██████████| 15/15 [00:00<00:00, 99.17it/s]\n",
      "100%|██████████| 15/15 [00:00<00:00, 381.39it/s]\n",
      "100%|██████████| 15/15 [00:00<00:00, 479.94it/s]\n",
      "100%|██████████| 15/15 [00:00<00:00, 365.02it/s]\n",
      "100%|██████████| 15/15 [00:00<00:00, 417.73it/s]\n",
      "100%|██████████| 15/15 [00:00<00:00, 487.85it/s]\n",
      "100%|██████████| 15/15 [00:00<00:00, 460.38it/s]\n",
      "100%|██████████| 15/15 [00:00<00:00, 352.58it/s]\n",
      "100%|██████████| 15/15 [00:00<00:00, 524.59it/s]\n",
      "100%|██████████| 15/15 [00:00<00:00, 406.54it/s]\n",
      "100%|██████████| 15/15 [00:00<00:00, 475.84it/s]\n",
      "100%|██████████| 15/15 [00:00<00:00, 469.69it/s]\n",
      "100%|██████████| 15/15 [00:00<00:00, 400.15it/s]\n",
      "100%|██████████| 15/15 [00:00<00:00, 281.55it/s]\n",
      "100%|██████████| 15/15 [00:00<00:00, 439.66it/s]\n",
      "100%|██████████| 15/15 [00:00<00:00, 485.39it/s]\n",
      "100%|██████████| 15/15 [00:00<00:00, 527.69it/s]\n",
      "100%|██████████| 15/15 [00:00<00:00, 322.89it/s]\n",
      "100%|██████████| 15/15 [00:00<00:00, 439.10it/s]\n",
      "100%|██████████| 15/15 [00:00<00:00, 152.39it/s]\n",
      "100%|██████████| 15/15 [00:00<00:00, 492.53it/s]\n",
      "100%|██████████| 15/15 [00:00<00:00, 235.35it/s]\n",
      "100%|██████████| 15/15 [00:00<00:00, 134.47it/s]\n",
      "100%|██████████| 15/15 [00:00<00:00, 108.53it/s]\n",
      "100%|██████████| 15/15 [00:00<00:00, 602.46it/s]\n",
      "100%|██████████| 15/15 [00:00<00:00, 380.90it/s]\n",
      "100%|██████████| 15/15 [00:00<00:00, 467.70it/s]\n",
      "100%|██████████| 15/15 [00:00<00:00, 233.04it/s]\n",
      "100%|██████████| 15/15 [00:00<00:00, 265.96it/s]\n",
      "100%|██████████| 15/15 [00:00<00:00, 532.43it/s]\n",
      "100%|██████████| 15/15 [00:00<00:00, 518.03it/s]\n",
      "100%|██████████| 15/15 [00:00<00:00, 473.78it/s]\n",
      "100%|██████████| 15/15 [00:00<00:00, 443.75it/s]\n",
      "100%|██████████| 15/15 [00:00<00:00, 506.31it/s]\n",
      "100%|██████████| 15/15 [00:00<00:00, 527.13it/s]\n",
      "100%|██████████| 15/15 [00:00<00:00, 483.68it/s]\n",
      "100%|██████████| 15/15 [00:00<00:00, 510.19it/s]\n",
      "100%|██████████| 15/15 [00:00<00:00, 413.96it/s]\n",
      "100%|██████████| 15/15 [00:00<00:00, 380.39it/s]\n",
      "100%|██████████| 15/15 [00:00<00:00, 442.95it/s]\n",
      "100%|██████████| 15/15 [00:00<00:00, 457.11it/s]\n",
      "100%|██████████| 15/15 [00:00<00:00, 395.41it/s]\n",
      "100%|██████████| 15/15 [00:00<00:00, 403.96it/s]\n",
      "100%|██████████| 15/15 [00:00<00:00, 293.61it/s]\n",
      "100%|██████████| 15/15 [00:00<00:00, 223.92it/s]\n",
      "100%|██████████| 15/15 [00:00<00:00, 283.71it/s]\n",
      "100%|██████████| 15/15 [00:00<00:00, 59.30it/s]\n",
      "100%|██████████| 15/15 [00:00<00:00, 308.04it/s]\n",
      "100%|██████████| 15/15 [00:00<00:00, 155.15it/s]\n",
      "100%|██████████| 15/15 [00:00<00:00, 352.33it/s]\n",
      "100%|██████████| 15/15 [00:00<00:00, 367.78it/s]\n",
      "100%|██████████| 15/15 [00:00<00:00, 72.74it/s]\n",
      "100%|██████████| 15/15 [00:00<00:00, 242.24it/s]\n",
      "100%|██████████| 15/15 [00:00<00:00, 319.19it/s]\n",
      "100%|██████████| 15/15 [00:00<00:00, 458.10it/s]\n"
     ]
    },
    {
     "data": {
      "image/png": "[encoded data removed]",
      "text/plain": [
       "<Figure size 432x288 with 1 Axes>"
      ]
     },
     "metadata": {
      "needs_background": "light"
     },
     "output_type": "display_data"
    }
   ],
   "source": [
    "Code.plot_gradient(0.6, x, noised_A, noised_b, theta_true, 15, 'IWAE')"
   ]
  },
  {
   "cell_type": "markdown",
   "metadata": {},
   "source": [
    "### <span style=\"color:orange\">  **1.4 Comparaison entre les différents estimateurs**  </span>\n",
    "\n",
    "Dans cette partie, nous allons comparer les estimateurs sur un même graphique. "
   ]
  },
  {
   "cell_type": "code",
   "execution_count": 16,
   "metadata": {},
   "outputs": [
    {
     "name": "stderr",
     "output_type": "stream",
     "text": [
      "100%|██████████| 15/15 [00:00<00:00, 60.54it/s]\n",
      "100%|██████████| 15/15 [00:00<00:00, 61.39it/s]\n",
      "100%|██████████| 15/15 [00:00<00:00, 21.25it/s]\n",
      "100%|██████████| 15/15 [00:00<00:00, 295.03it/s]\n",
      "100%|██████████| 15/15 [00:00<00:00, 69.52it/s]\n",
      "100%|██████████| 15/15 [00:00<00:00, 68.91it/s]\n",
      "100%|██████████| 15/15 [00:00<00:00, 16.50it/s]\n",
      "100%|██████████| 15/15 [00:00<00:00, 248.84it/s]\n",
      "100%|██████████| 15/15 [00:00<00:00, 84.92it/s]\n",
      "100%|██████████| 15/15 [00:00<00:00, 133.52it/s]\n",
      "100%|██████████| 15/15 [00:00<00:00, 33.01it/s]\n",
      "100%|██████████| 15/15 [00:00<00:00, 290.11it/s]\n",
      "100%|██████████| 15/15 [00:00<00:00, 122.38it/s]\n",
      "100%|██████████| 15/15 [00:00<00:00, 130.87it/s]\n",
      "100%|██████████| 15/15 [00:00<00:00, 49.47it/s]\n",
      "100%|██████████| 15/15 [00:00<00:00, 446.89it/s]\n",
      "100%|██████████| 15/15 [00:00<00:00, 65.68it/s]\n",
      "100%|██████████| 15/15 [00:00<00:00, 50.55it/s]\n",
      "100%|██████████| 15/15 [00:00<00:00, 19.32it/s]\n",
      "100%|██████████| 15/15 [00:00<00:00, 355.31it/s]\n",
      "100%|██████████| 15/15 [00:00<00:00, 66.22it/s] \n",
      "100%|██████████| 15/15 [00:00<00:00, 131.63it/s]\n",
      "100%|██████████| 15/15 [00:00<00:00, 39.90it/s]\n",
      "100%|██████████| 15/15 [00:00<00:00, 372.58it/s]\n",
      "100%|██████████| 15/15 [00:00<00:00, 101.26it/s]\n",
      "100%|██████████| 15/15 [00:00<00:00, 97.69it/s] \n",
      "100%|██████████| 15/15 [00:00<00:00, 51.63it/s]\n",
      "100%|██████████| 15/15 [00:00<00:00, 471.21it/s]\n",
      "100%|██████████| 15/15 [00:00<00:00, 81.65it/s]\n",
      "100%|██████████| 15/15 [00:00<00:00, 97.94it/s]\n",
      "100%|██████████| 15/15 [00:00<00:00, 27.63it/s]\n",
      "100%|██████████| 15/15 [00:00<00:00, 107.09it/s]\n",
      "100%|██████████| 15/15 [00:00<00:00, 100.40it/s]\n",
      "100%|██████████| 15/15 [00:00<00:00, 57.07it/s]\n",
      "100%|██████████| 15/15 [00:00<00:00, 66.25it/s]\n",
      "100%|██████████| 15/15 [00:00<00:00, 260.58it/s]\n",
      "100%|██████████| 15/15 [00:00<00:00, 49.54it/s]\n",
      "100%|██████████| 15/15 [00:00<00:00, 94.65it/s]\n",
      "100%|██████████| 15/15 [00:00<00:00, 54.12it/s]\n",
      "100%|██████████| 15/15 [00:00<00:00, 296.74it/s]\n",
      "100%|██████████| 15/15 [00:00<00:00, 72.55it/s]\n",
      "100%|██████████| 15/15 [00:00<00:00, 109.21it/s]\n",
      "100%|██████████| 15/15 [00:00<00:00, 26.66it/s]\n",
      "100%|██████████| 15/15 [00:00<00:00, 398.09it/s]\n",
      "100%|██████████| 15/15 [00:00<00:00, 91.28it/s] \n",
      "100%|██████████| 15/15 [00:00<00:00, 53.85it/s]\n",
      "100%|██████████| 15/15 [00:00<00:00, 48.67it/s]\n",
      "100%|██████████| 15/15 [00:00<00:00, 280.94it/s]\n",
      "100%|██████████| 15/15 [00:00<00:00, 62.87it/s]\n",
      "100%|██████████| 15/15 [00:00<00:00, 75.88it/s]\n",
      "100%|██████████| 15/15 [00:00<00:00, 65.51it/s]\n",
      "100%|██████████| 15/15 [00:00<00:00, 280.48it/s]\n",
      "100%|██████████| 15/15 [00:00<00:00, 50.08it/s]\n",
      "100%|██████████| 15/15 [00:00<00:00, 21.09it/s]\n",
      "100%|██████████| 15/15 [00:00<00:00, 26.75it/s]\n",
      "100%|██████████| 15/15 [00:00<00:00, 367.42it/s]\n",
      "100%|██████████| 15/15 [00:00<00:00, 109.78it/s]\n",
      "100%|██████████| 15/15 [00:00<00:00, 38.08it/s]\n",
      "100%|██████████| 15/15 [00:01<00:00,  7.75it/s]\n",
      "100%|██████████| 15/15 [00:00<00:00, 312.54it/s]\n",
      "100%|██████████| 15/15 [00:00<00:00, 48.42it/s]\n",
      "100%|██████████| 15/15 [00:00<00:00, 25.34it/s]\n",
      "100%|██████████| 15/15 [00:01<00:00, 10.11it/s]\n",
      "100%|██████████| 15/15 [00:00<00:00, 270.42it/s]\n",
      "100%|██████████| 15/15 [00:00<00:00, 61.39it/s]\n",
      "100%|██████████| 15/15 [00:00<00:00, 71.78it/s]\n",
      "100%|██████████| 15/15 [00:00<00:00, 41.54it/s]\n",
      "100%|██████████| 15/15 [00:00<00:00, 266.36it/s]\n",
      "100%|██████████| 15/15 [00:00<00:00, 41.54it/s]\n",
      "100%|██████████| 15/15 [00:00<00:00, 26.41it/s]\n",
      "100%|██████████| 15/15 [00:00<00:00, 50.86it/s]\n",
      "100%|██████████| 15/15 [00:00<00:00, 253.82it/s]\n",
      "100%|██████████| 15/15 [00:00<00:00, 107.53it/s]\n",
      "100%|██████████| 15/15 [00:00<00:00, 96.36it/s] \n",
      "100%|██████████| 15/15 [00:00<00:00, 27.27it/s]\n",
      "100%|██████████| 15/15 [00:00<00:00, 119.97it/s]\n",
      "100%|██████████| 15/15 [00:00<00:00, 75.21it/s]\n",
      "100%|██████████| 15/15 [00:00<00:00, 89.52it/s]\n",
      "100%|██████████| 15/15 [00:00<00:00, 37.52it/s]\n",
      "100%|██████████| 15/15 [00:00<00:00, 156.18it/s]\n",
      "100%|██████████| 15/15 [00:00<00:00, 69.84it/s]\n",
      "100%|██████████| 15/15 [00:00<00:00, 86.47it/s] \n",
      "100%|██████████| 15/15 [00:00<00:00, 38.47it/s]\n",
      "100%|██████████| 15/15 [00:00<00:00, 454.31it/s]\n",
      "100%|██████████| 15/15 [00:00<00:00, 60.81it/s]\n",
      "100%|██████████| 15/15 [00:00<00:00, 88.44it/s]\n",
      "100%|██████████| 15/15 [00:00<00:00, 47.49it/s]\n",
      "100%|██████████| 15/15 [00:00<00:00, 322.43it/s]\n",
      "100%|██████████| 15/15 [00:00<00:00, 69.46it/s]\n",
      "100%|██████████| 15/15 [00:00<00:00, 62.36it/s]\n",
      "100%|██████████| 15/15 [00:00<00:00, 25.96it/s]\n",
      "100%|██████████| 15/15 [00:00<00:00, 331.31it/s]\n",
      "100%|██████████| 15/15 [00:00<00:00, 47.35it/s]\n",
      "100%|██████████| 15/15 [00:00<00:00, 42.88it/s]\n",
      "100%|██████████| 15/15 [00:00<00:00, 38.47it/s]\n",
      "100%|██████████| 15/15 [00:00<00:00, 285.76it/s]\n",
      "100%|██████████| 15/15 [00:00<00:00, 106.29it/s]\n",
      "100%|██████████| 15/15 [00:00<00:00, 67.60it/s] \n",
      "100%|██████████| 15/15 [00:00<00:00, 62.18it/s]\n",
      "100%|██████████| 15/15 [00:00<00:00, 247.19it/s]\n",
      "100%|██████████| 15/15 [00:00<00:00, 57.26it/s]\n",
      "100%|██████████| 15/15 [00:00<00:00, 68.57it/s]\n",
      "100%|██████████| 15/15 [00:00<00:00, 17.65it/s]\n",
      "100%|██████████| 15/15 [00:00<00:00, 340.24it/s]\n",
      "100%|██████████| 15/15 [00:00<00:00, 60.02it/s]\n",
      "100%|██████████| 15/15 [00:00<00:00, 75.79it/s]\n",
      "100%|██████████| 15/15 [00:00<00:00, 51.16it/s]\n",
      "100%|██████████| 15/15 [00:00<00:00, 200.62it/s]\n",
      "100%|██████████| 15/15 [00:00<00:00, 64.79it/s]\n",
      "100%|██████████| 15/15 [00:00<00:00, 43.70it/s]\n",
      "100%|██████████| 15/15 [00:00<00:00, 60.96it/s]\n",
      "100%|██████████| 15/15 [00:00<00:00, 248.76it/s]\n",
      "100%|██████████| 15/15 [00:00<00:00, 25.57it/s]\n",
      "100%|██████████| 15/15 [00:00<00:00, 84.87it/s]\n",
      "100%|██████████| 15/15 [00:00<00:00, 18.82it/s]\n",
      "100%|██████████| 15/15 [00:00<00:00, 404.74it/s]\n",
      "100%|██████████| 15/15 [00:00<00:00, 46.59it/s]\n",
      "100%|██████████| 15/15 [00:00<00:00, 71.53it/s]\n",
      "100%|██████████| 15/15 [00:00<00:00, 45.93it/s]\n",
      "100%|██████████| 15/15 [00:00<00:00, 359.22it/s]\n",
      "100%|██████████| 15/15 [00:00<00:00, 81.48it/s] \n",
      "100%|██████████| 15/15 [00:00<00:00, 98.72it/s] \n",
      "100%|██████████| 15/15 [00:00<00:00, 38.35it/s]\n",
      "100%|██████████| 15/15 [00:00<00:00, 83.13it/s]\n",
      "100%|██████████| 15/15 [00:00<00:00, 48.10it/s]\n",
      "100%|██████████| 15/15 [00:00<00:00, 25.33it/s]\n",
      "100%|██████████| 15/15 [00:00<00:00, 36.16it/s]\n",
      "100%|██████████| 15/15 [00:00<00:00, 303.09it/s]\n",
      "100%|██████████| 15/15 [00:00<00:00, 79.31it/s]\n",
      "100%|██████████| 15/15 [00:00<00:00, 33.03it/s]\n",
      "100%|██████████| 15/15 [00:00<00:00, 18.10it/s]\n",
      "100%|██████████| 15/15 [00:00<00:00, 303.69it/s]\n",
      "100%|██████████| 15/15 [00:00<00:00, 77.28it/s]\n",
      "100%|██████████| 15/15 [00:00<00:00, 99.91it/s] \n",
      "100%|██████████| 15/15 [00:01<00:00, 10.49it/s]\n",
      "100%|██████████| 15/15 [00:00<00:00, 355.64it/s]\n",
      "100%|██████████| 15/15 [00:00<00:00, 76.71it/s]\n",
      "100%|██████████| 15/15 [00:00<00:00, 62.89it/s]\n",
      "100%|██████████| 15/15 [00:00<00:00, 16.78it/s]\n",
      "100%|██████████| 15/15 [00:00<00:00, 290.51it/s]\n",
      "100%|██████████| 15/15 [00:00<00:00, 40.78it/s]\n",
      "100%|██████████| 15/15 [00:00<00:00, 83.49it/s]\n",
      "100%|██████████| 15/15 [00:00<00:00, 57.73it/s]\n",
      "100%|██████████| 15/15 [00:00<00:00, 229.26it/s]\n",
      "100%|██████████| 15/15 [00:00<00:00, 72.35it/s]\n",
      "100%|██████████| 15/15 [00:00<00:00, 84.30it/s]\n",
      "100%|██████████| 15/15 [00:00<00:00, 27.55it/s]\n",
      "100%|██████████| 15/15 [00:00<00:00, 352.96it/s]\n",
      "100%|██████████| 15/15 [00:00<00:00, 110.41it/s]\n",
      "100%|██████████| 15/15 [00:00<00:00, 89.98it/s]\n",
      "100%|██████████| 15/15 [00:00<00:00, 39.81it/s]\n",
      "100%|██████████| 15/15 [00:00<00:00, 282.28it/s]\n",
      "100%|██████████| 15/15 [00:00<00:00, 24.61it/s]\n",
      "100%|██████████| 15/15 [00:00<00:00, 27.69it/s]\n",
      "100%|██████████| 15/15 [00:01<00:00, 11.57it/s]\n",
      "100%|██████████| 15/15 [00:00<00:00, 232.30it/s]\n",
      "100%|██████████| 15/15 [00:00<00:00, 36.20it/s]\n",
      "100%|██████████| 15/15 [00:00<00:00, 34.04it/s]\n",
      "100%|██████████| 15/15 [00:00<00:00, 38.90it/s]\n",
      "100%|██████████| 15/15 [00:00<00:00, 348.67it/s]\n",
      "100%|██████████| 15/15 [00:00<00:00, 89.73it/s]\n",
      "100%|██████████| 15/15 [00:00<00:00, 57.62it/s]\n",
      "100%|██████████| 15/15 [00:00<00:00, 33.34it/s]\n",
      "100%|██████████| 15/15 [00:00<00:00, 394.99it/s]\n",
      "100%|██████████| 15/15 [00:00<00:00, 55.93it/s]\n",
      "100%|██████████| 15/15 [00:00<00:00, 42.88it/s]\n",
      "100%|██████████| 15/15 [00:00<00:00, 18.57it/s]\n",
      "100%|██████████| 15/15 [00:00<00:00, 371.66it/s]\n",
      "100%|██████████| 15/15 [00:00<00:00, 73.97it/s]\n",
      "100%|██████████| 15/15 [00:00<00:00, 55.82it/s]\n",
      "100%|██████████| 15/15 [00:00<00:00, 26.69it/s]\n",
      "100%|██████████| 15/15 [00:00<00:00, 412.64it/s]\n",
      "100%|██████████| 15/15 [00:00<00:00, 66.86it/s]\n",
      "100%|██████████| 15/15 [00:00<00:00, 83.59it/s]\n",
      "100%|██████████| 15/15 [00:00<00:00, 32.87it/s]\n",
      "100%|██████████| 15/15 [00:00<00:00, 292.65it/s]\n",
      "100%|██████████| 15/15 [00:00<00:00, 34.81it/s]\n",
      "100%|██████████| 15/15 [00:00<00:00, 112.45it/s]\n",
      "100%|██████████| 15/15 [00:00<00:00, 28.63it/s]\n",
      "100%|██████████| 15/15 [00:00<00:00, 330.14it/s]\n",
      "100%|██████████| 15/15 [00:00<00:00, 68.72it/s]\n",
      "100%|██████████| 15/15 [00:00<00:00, 88.99it/s]\n",
      "100%|██████████| 15/15 [00:00<00:00, 23.15it/s]\n",
      "100%|██████████| 15/15 [00:00<00:00, 386.56it/s]\n",
      "100%|██████████| 15/15 [00:00<00:00, 89.75it/s]\n",
      "100%|██████████| 15/15 [00:00<00:00, 50.51it/s]\n",
      "100%|██████████| 15/15 [00:00<00:00, 27.18it/s]\n",
      "100%|██████████| 15/15 [00:00<00:00, 400.10it/s]\n",
      "100%|██████████| 15/15 [00:00<00:00, 128.12it/s]\n",
      "100%|██████████| 15/15 [00:00<00:00, 48.64it/s]\n",
      "100%|██████████| 15/15 [00:00<00:00, 25.74it/s]\n",
      "100%|██████████| 15/15 [00:00<00:00, 157.76it/s]\n",
      "100%|██████████| 15/15 [00:00<00:00, 85.47it/s] \n",
      "100%|██████████| 15/15 [00:00<00:00, 88.34it/s]\n",
      "100%|██████████| 15/15 [00:00<00:00, 39.85it/s]\n",
      "100%|██████████| 15/15 [00:00<00:00, 109.57it/s]\n",
      "100%|██████████| 15/15 [00:00<00:00, 38.83it/s]\n",
      "100%|██████████| 15/15 [00:00<00:00, 72.94it/s]\n",
      "100%|██████████| 15/15 [00:00<00:00, 17.55it/s]\n",
      "100%|██████████| 15/15 [00:00<00:00, 356.76it/s]\n",
      "100%|██████████| 15/15 [00:00<00:00, 47.36it/s]\n",
      "100%|██████████| 15/15 [00:00<00:00, 88.26it/s]\n",
      "100%|██████████| 15/15 [00:00<00:00, 37.11it/s]\n",
      "100%|██████████| 15/15 [00:00<00:00, 331.42it/s]\n",
      "100%|██████████| 15/15 [00:00<00:00, 56.23it/s]\n",
      "100%|██████████| 15/15 [00:00<00:00, 76.48it/s]\n",
      "100%|██████████| 15/15 [00:00<00:00, 23.73it/s]\n",
      "100%|██████████| 15/15 [00:00<00:00, 322.20it/s]\n",
      "100%|██████████| 15/15 [00:00<00:00, 18.50it/s]\n",
      "100%|██████████| 15/15 [00:00<00:00, 37.52it/s]\n",
      "100%|██████████| 15/15 [00:00<00:00, 27.11it/s]\n",
      "100%|██████████| 15/15 [00:00<00:00, 106.87it/s]\n",
      "100%|██████████| 15/15 [00:00<00:00, 36.05it/s]\n",
      "100%|██████████| 15/15 [00:00<00:00, 36.13it/s]\n",
      "100%|██████████| 15/15 [00:00<00:00, 24.92it/s]\n",
      "100%|██████████| 15/15 [00:00<00:00, 91.51it/s]\n",
      "100%|██████████| 15/15 [00:00<00:00, 39.66it/s]\n",
      "100%|██████████| 15/15 [00:00<00:00, 23.41it/s]\n",
      "100%|██████████| 15/15 [00:00<00:00, 31.64it/s]\n",
      "100%|██████████| 15/15 [00:00<00:00, 225.76it/s]\n",
      "100%|██████████| 15/15 [00:00<00:00, 36.32it/s]\n",
      "100%|██████████| 15/15 [00:00<00:00, 18.01it/s]\n",
      "100%|██████████| 15/15 [00:00<00:00, 21.49it/s]\n",
      "100%|██████████| 15/15 [00:00<00:00, 247.61it/s]\n",
      "100%|██████████| 15/15 [00:00<00:00, 60.61it/s]\n",
      "100%|██████████| 15/15 [00:00<00:00, 25.93it/s]\n",
      "100%|██████████| 15/15 [00:01<00:00, 14.50it/s]\n",
      "100%|██████████| 15/15 [00:00<00:00, 94.11it/s]\n",
      "100%|██████████| 15/15 [00:00<00:00, 17.90it/s]\n",
      "100%|██████████| 15/15 [00:00<00:00, 21.50it/s]\n",
      "100%|██████████| 15/15 [00:00<00:00, 28.38it/s]\n",
      "100%|██████████| 15/15 [00:00<00:00, 363.78it/s]\n",
      "100%|██████████| 15/15 [00:00<00:00, 28.75it/s]\n",
      "100%|██████████| 15/15 [00:00<00:00, 109.10it/s]\n",
      "100%|██████████| 15/15 [00:00<00:00, 50.00it/s]\n",
      "100%|██████████| 15/15 [00:00<00:00, 300.98it/s]\n",
      "100%|██████████| 15/15 [00:00<00:00, 76.01it/s]\n",
      "100%|██████████| 15/15 [00:00<00:00, 57.15it/s]\n",
      "100%|██████████| 15/15 [00:00<00:00, 16.59it/s]\n",
      "100%|██████████| 15/15 [00:00<00:00, 114.61it/s]\n",
      "60it [01:14,  1.61s/it]"
     ]
    },
    {
     "data": {
      "image/png": "[encoded data removed]",
      "text/plain": [
       "<Figure size 432x288 with 1 Axes>"
      ]
     },
     "metadata": {
      "needs_background": "light"
     },
     "output_type": "display_data"
    },
    {
     "name": "stderr",
     "output_type": "stream",
     "text": [
      "60it [01:15,  1.25s/it]\n"
     ]
    }
   ],
   "source": [
    "Code.plot_likelihood(r, x, noised_A, noised_b, theta_true, n_simulations, \"all\")"
   ]
  },
  {
   "cell_type": "markdown",
   "metadata": {},
   "source": [
    "On fait de même pour le gradient : "
   ]
  },
  {
   "cell_type": "code",
   "execution_count": null,
   "metadata": {},
   "outputs": [],
   "source": []
  }
 ],
 "metadata": {
  "kernelspec": {
   "display_name": "Python 3",
   "language": "python",
   "name": "python3"
  },
  "language_info": {
   "codemirror_mode": {
    "name": "ipython",
    "version": 3
   },
   "file_extension": ".py",
   "mimetype": "text/x-python",
   "name": "python",
   "nbconvert_exporter": "python",
   "pygments_lexer": "ipython3",
   "version": "3.9.7"
  },
  "orig_nbformat": 4
 },
 "nbformat": 4,
 "nbformat_minor": 2
}
