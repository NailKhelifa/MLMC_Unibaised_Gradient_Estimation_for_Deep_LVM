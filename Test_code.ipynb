{
 "cells": [
  {
   "cell_type": "code",
   "execution_count": 1,
   "metadata": {},
   "outputs": [],
   "source": [
    "import numpy as np \n",
    "from scipy.stats import multivariate_normal\n",
    "import Estimateurs\n",
    "import matplotlib.pyplot as plt"
   ]
  },
  {
   "cell_type": "markdown",
   "metadata": {},
   "source": [
    "On commence par tirer le $\\theta$* ($\\in \\mathbb{R}$) qui sera le paramètre que l'on cherchera à estimer par la suite. \n",
    "\n",
    "A la manière de la génération des données dans l'article Rainforth et al. (2018) : $\\theta^* \\sim \\mathcal{N}(0, 1)$"
   ]
  },
  {
   "cell_type": "code",
   "execution_count": 2,
   "metadata": {},
   "outputs": [
    {
     "name": "stdout",
     "output_type": "stream",
     "text": [
      "La valeur de theta à estimer est -0.96\n"
     ]
    }
   ],
   "source": [
    "#theta_true = np.random.multivariate_normal(np.zeros(20), np.identity(20))\n",
    "theta_true = np.random.normal(0, 1)\n",
    "print(f\"La valeur de theta à estimer est {int(theta_true*100)/100}\")"
   ]
  },
  {
   "cell_type": "markdown",
   "metadata": {},
   "source": [
    "Désormais, on va tirer un échantillon $((Z_i, X_i))_i \\stackrel{iid}{\\sim} \\mathcal{N}(\\boldsymbol{z}|\\theta, \\boldsymbol{I}) * \\mathcal{N}(\\boldsymbol{x}|\\boldsymbol{z}, \\boldsymbol{I})$. \n"
   ]
  },
  {
   "cell_type": "code",
   "execution_count": 3,
   "metadata": {},
   "outputs": [
    {
     "name": "stdout",
     "output_type": "stream",
     "text": [
      "L'échantillon x observé est :\n",
      " \n",
      " x = [ 0.57641724 -1.09551386 -3.46697142 -1.3795736  -0.03648156 -3.25666113\n",
      "  1.72447154 -3.34735442 -3.40679451 -3.49667283 -1.2359001   0.10545825\n",
      " -0.48943695  0.35242827 -1.12844157 -5.14903316 -3.32364158 -0.19998838\n",
      " -3.17064319 -1.315961  ] \n",
      " \n",
      " et sa taille est (20,)\n"
     ]
    }
   ],
   "source": [
    "## On se donne notre échantillon x\n",
    "\n",
    "x, _ = Estimateurs.joint_probability(theta_true)\n",
    "\n",
    "print(f\"L'échantillon x observé est :\\n \\n x = {x} \\n \\n et sa taille est {x.shape}\")"
   ]
  },
  {
   "cell_type": "markdown",
   "metadata": {},
   "source": [
    "Ceci nous suffit pour tester notre classe Estimateurs dont le code se trouve dans le fichier Estimateurs.py"
   ]
  },
  {
   "cell_type": "code",
   "execution_count": 4,
   "metadata": {},
   "outputs": [],
   "source": [
    "estimateur = Estimateurs.Estimateurs(x, theta_true, 0.6)"
   ]
  },
  {
   "cell_type": "code",
   "execution_count": 5,
   "metadata": {},
   "outputs": [
    {
     "name": "stdout",
     "output_type": "stream",
     "text": [
      "Step: 0.0%\n",
      "Step: 3.3%\n",
      "Step: 6.7%\n",
      "Step: 10.0%\n",
      "Step: 13.3%\n",
      "Step: 16.7%\n",
      "Step: 20.0%\n",
      "Step: 23.3%\n",
      "Step: 26.7%\n",
      "Step: 30.0%\n",
      "Step: 33.3%\n",
      "Step: 36.7%\n",
      "Step: 40.0%\n",
      "Step: 43.3%\n",
      "Step: 46.7%\n",
      "Step: 50.0%\n",
      "Step: 53.3%\n",
      "Step: 56.7%\n",
      "Step: 60.0%\n",
      "Step: 63.3%\n",
      "Step: 66.7%\n",
      "Step: 70.0%\n",
      "Step: 73.3%\n",
      "Step: 76.7%\n",
      "Step: 80.0%\n",
      "Step: 83.3%\n",
      "Step: 86.7%\n",
      "Step: 90.0%\n",
      "Step: 93.3%\n",
      "Step: 96.7%\n"
     ]
    }
   ],
   "source": [
    "x = estimateur.grad_ML_RR(theta_star=theta_true, n_simulations=1)"
   ]
  },
  {
   "cell_type": "code",
   "execution_count": 6,
   "metadata": {},
   "outputs": [
    {
     "ename": "TypeError",
     "evalue": "Estimateurs.log_likelihood_SUMO() missing 1 required positional argument: 'n_simulations'",
     "output_type": "error",
     "traceback": [
      "\u001b[0;31m---------------------------------------------------------------------------\u001b[0m",
      "\u001b[0;31mTypeError\u001b[0m                                 Traceback (most recent call last)",
      "\u001b[1;32m/Users/khelifanail/MLMC_Unibaised_Gradient_Estimation_for_Deep_LVM/Test_code.ipynb Cell 9\u001b[0m line \u001b[0;36m1\n\u001b[0;32m----> <a href='vscode-notebook-cell:/Users/khelifanail/MLMC_Unibaised_Gradient_Estimation_for_Deep_LVM/Test_code.ipynb#X11sZmlsZQ%3D%3D?line=0'>1</a>\u001b[0m estimateur\u001b[39m.\u001b[39;49mplot_likelihood(theta_true, \u001b[39m1\u001b[39;49m, \u001b[39m'\u001b[39;49m\u001b[39mSUMO\u001b[39;49m\u001b[39m'\u001b[39;49m)\n",
      "File \u001b[0;32m~/MLMC_Unibaised_Gradient_Estimation_for_Deep_LVM/Estimateurs.py:416\u001b[0m, in \u001b[0;36mEstimateurs.plot_likelihood\u001b[0;34m(self, theta_true, n_simulations, estimateur)\u001b[0m\n\u001b[1;32m    414\u001b[0m     \u001b[39mfor\u001b[39;00m theta \u001b[39min\u001b[39;00m theta_values:\n\u001b[1;32m    415\u001b[0m         estimateur \u001b[39m=\u001b[39m Estimateurs(\u001b[39mself\u001b[39m\u001b[39m.\u001b[39mx, theta, \u001b[39mself\u001b[39m\u001b[39m.\u001b[39mr)\n\u001b[0;32m--> 416\u001b[0m         estimated_likelihood\u001b[39m.\u001b[39mappend(Estimateurs\u001b[39m.\u001b[39;49mlog_likelihood_SUMO(n_simulations)[\u001b[39m1\u001b[39m])\n\u001b[1;32m    418\u001b[0m \u001b[39melif\u001b[39;00m estimateur \u001b[39m==\u001b[39m \u001b[39m'\u001b[39m\u001b[39mML_RR\u001b[39m\u001b[39m'\u001b[39m:\n\u001b[1;32m    420\u001b[0m     estimated_likelihood \u001b[39m=\u001b[39m []\n",
      "\u001b[0;31mTypeError\u001b[0m: Estimateurs.log_likelihood_SUMO() missing 1 required positional argument: 'n_simulations'"
     ]
    }
   ],
   "source": [
    "estimateur.plot_likelihood(theta_true, 1, 'SUMO')"
   ]
  },
  {
   "cell_type": "code",
   "execution_count": null,
   "metadata": {},
   "outputs": [],
   "source": []
  }
 ],
 "metadata": {
  "kernelspec": {
   "display_name": "Python 3",
   "language": "python",
   "name": "python3"
  },
  "language_info": {
   "codemirror_mode": {
    "name": "ipython",
    "version": 3
   },
   "file_extension": ".py",
   "mimetype": "text/x-python",
   "name": "python",
   "nbconvert_exporter": "python",
   "pygments_lexer": "ipython3",
   "version": "3.11.5"
  },
  "orig_nbformat": 4
 },
 "nbformat": 4,
 "nbformat_minor": 2
}
