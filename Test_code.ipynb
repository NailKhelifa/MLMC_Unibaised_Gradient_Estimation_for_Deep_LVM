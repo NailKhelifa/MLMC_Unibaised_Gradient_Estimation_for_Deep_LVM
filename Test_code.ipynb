{
 "cells": [
  {
   "cell_type": "markdown",
   "metadata": {},
   "source": [
    "# <span style=\"color:red\">  **SIMULATIONS ET MÉTHODES DE MONTE CARLO**  </span>"
   ]
  },
  {
   "cell_type": "code",
   "execution_count": 1,
   "metadata": {},
   "outputs": [],
   "source": [
    "import numpy as np \n",
    "from scipy.stats import multivariate_normal\n",
    "import Estimateurs\n",
    "import Code\n",
    "import matplotlib.pyplot as plt\n",
    "from tqdm import tqdm\n",
    "import time"
   ]
  },
  {
   "cell_type": "markdown",
   "metadata": {},
   "source": [
    "## Sommaire\n",
    "\n",
    "- [Partie 0. Définition du cadre gaussien pour la génération des données](#partie-0-définition-du-cadre-gaussien-pour-la-génération-des-données)\n",
    "  - [0.1. Génération du vrai $\\theta$](#01-génération-du-vrai-theta)\n",
    "  \n",
    "  - [0.2. Génération de notre vecteur d'observation $\\boldsymbol{x} \\in \\mathbb{R}^{20}$](#02-génération-de-notre-vecteur-dobservation-boldsymbolx-in-mathbbr20)\n",
    "\n",
    "  - [0.3. Génération de la vraie log-vraisemblance et du vrai gradient associé à $\\theta_{\\text{true}}$ et à notre observation $\\boldsymbol{x}$](#03-génération-de-la-vraie-log-vraisemblance-et-du-vrai-gradient-associé-à-thetatru-et-à-notre-observation-boldsymbolx)\n",
    "\n",
    "  - [0.4. Génération des paramètres de l'encodeur $A \\in \\mathbb{R}^{20\\times 20}$ et $b \\in \\mathbb{R}^{20}$](#04-génération-des-paramètres-de-lencodeur-a-in-mathbbr2020-et-b-in-mathbbr20)\n",
    "\n",
    "- [Partie 1. Comparaison des estimateurs de la vraisemblance du modèle](#partie-1-comparaison-des-estimateurs-de-la-vraisemblance-du-modèle)\n",
    "\n",
    "  - [1.1 Les estimateurs RR (Roulette Russe) et SS (Single Sample)](#11-les-estimateurs-rr-roulette-russe-et-ss-single-sample)\n",
    "\n",
    "    - [1.1.1 Estimateur ML-SS](#111-estimateur-ml-ss)\n",
    "\n",
    "    - [1.1.2 Estimateur ML-RR](#112-estimateur-ml-rr)\n",
    "    \n",
    "  - [1.2 L'estimateurs SUMO (Stochastically Unbiased Marginalization Objective (SUMO))](#12-lestimateurs-sumo-stochastically-unbiased-marginalization-objective-sumo)\n",
    "\n",
    "  - [1.3 L'estimateurs IWAE (Autoencoder Pondéré par l'Importance)](#13-lestimateurs-iwae-autoencoder-pondéré-par-limportance)\n",
    "  \n",
    "  - [1.4 Comparaison entre les différents estimateurs](#14-comparaison-entre-les-différents-estimateurs)"
   ]
  },
  {
   "cell_type": "markdown",
   "metadata": {},
   "source": [
    "<span style=\"color:blue\">  **NOTATIONS**  </span> : on se donne un ensemble de données $\\boldsymbol{x} = \\{x^{(i)}\\}_{i=1}^n$ composé de $n$ échantillons i.i.d. d'une variable continue ou discrète $x$ à valeurs dans un espace d'observations $\\boldsymbol{\\mathcal{X}}$ (ainsi $\\boldsymbol{x} \\in \\boldsymbol{\\mathcal{X}}$). Nous supposons que les données sont générées par un processus aléatoire impliquant une variable aléatoire continue non observée $\\boldsymbol{z} = \\{z^{(i)}\\}_{i=1}^n$ à valeur dans un espace d'observations $\\boldsymbol{\\mathcal{Z}}$ (ainsi $\\boldsymbol{z} \\in \\boldsymbol{\\mathcal{Z}}$). Le processus se compose de deux étapes :\n",
    "\n",
    "\n",
    "1. La valeur $z^{(i)}$ est générée à partir d'une distribution a priori $p_{\\theta^*}(z)$ ;\n",
    "2. Une valeur $x^{(i)}$ est générée à partir d'une distribution conditionnelle $p_{\\theta^*}(x|z)$.\n",
    "\n",
    "\n",
    "Nous supposons que la distribution a priori $p_{\\theta^*}(\\boldsymbol{z})$ et la vraisemblance $p_{\\theta^*}(\\boldsymbol{x}|\\boldsymbol{z})$ proviennent de familles paramétriques de distributions $p_{\\theta}(\\boldsymbol{z})$ et $p_{\\theta}(\\boldsymbol{x}|\\boldsymbol{z})$ et on note $\\Theta \\subset \\mathbb{R}^d$ l'espace des paramètres. On connait ainsi l'expression de ces deux distributions. En revanche une grande partie de ce processus nous est cachée : les véritables paramètres $\\theta^*$ ainsi que les valeurs des $\\textbf{variables latentes}$ $z^{(i)}$ nous sont inconnus. \n",
    "\n",
    "Connaissant l'expression de la distribution a priori $p_{\\theta^*}(\\boldsymbol{z})$ et la vraisemblance $p_{\\theta^*}(\\boldsymbol{x}|\\boldsymbol{z})$ pour tout $\\theta \\in \\Theta$, on peut définir la densité jointe $p_{\\theta}(\\boldsymbol{x}, \\boldsymbol{z})$ sur $\\boldsymbol{\\mathcal{X}} \\times \\boldsymbol{\\mathcal{Z}}$ par : \n",
    "\n",
    "$$\n",
    "p_{\\theta}(\\boldsymbol{x}, \\boldsymbol{z}) = p_{\\theta}(\\boldsymbol{x}|\\boldsymbol{z}) p_{\\theta}(\\boldsymbol{z})\n",
    "$$"
   ]
  },
  {
   "cell_type": "markdown",
   "metadata": {},
   "source": [
    "<span style=\"color:blue\">  **OBJECTIF**  </span> : on cherche à déterminer la vraie valeur du paramètre (ici $\\theta^*$) ainsi que les valeurs des variables latentes. \n",
    "\n",
    "Une approche classique pour apprendre $\\boldsymbol{\\theta}$ est de choisir, si celle-ci existe, la valeur de ce paramètre qui maximise la log-vraisemblance marginale de l’ ́echantillon définie par :\n",
    "\n",
    "$$\n",
    "\\ell(\\boldsymbol{\\theta}) = \\log p_{\\boldsymbol{\\theta}}(\\boldsymbol{x}) = \\log \\int_{\\boldsymbol{\\mathcal{Z}}} p_{\\boldsymbol{\\theta}}(\\boldsymbol{x}, \\boldsymbol{z}) d\\boldsymbol{z}\n",
    "$$"
   ]
  },
  {
   "cell_type": "markdown",
   "metadata": {},
   "source": [
    "<span style=\"color:blue\">  **PROBLÈME**  </span> : l'intégrale donnée en ci-dessus est intractable (nous ne pouvons donc pas évaluer ou différencier la vraisemblance marginale)."
   ]
  },
  {
   "cell_type": "markdown",
   "metadata": {},
   "source": [
    "<span style=\"color:blue\">  **SOLUTION**  </span> : dans le but de résoudre les problèmes ci-dessus, introduisons un **modèle de reconnaissance** (paramétrique) {$ q_{\\phi}(\\boldsymbol{z}|\\boldsymbol{x}) : \\phi \\in \\Phi$} avec $\\Phi \\subset \\mathbb{R}^d$. Pour tout $\\phi$, $q_{\\phi}(\\boldsymbol{z}|\\boldsymbol{x})$ est choisi comme une approximation de la véritable postérieure intractable $p_{\\theta}(\\boldsymbol{z}|\\boldsymbol{x})$. L'idée est donc de proposer une valeur de l'a posteriori (faire une hypothèse) et d'introduire une méthode pour apprendre les paramètres du **modèle de reconnaissance** $\\phi$ conjointement avec les paramètres du **modèle génératif** $\\theta$."
   ]
  },
  {
   "cell_type": "markdown",
   "metadata": {},
   "source": [
    "## <span style=\"color:green\">  **Partie 0. Définition du cadre gaussien pour la génération des données**  </span>"
   ]
  },
  {
   "cell_type": "markdown",
   "metadata": {},
   "source": [
    "(Application numérique inspirée de [Rainforth et al. (2018)](https://arxiv.org/pdf/1802.04537.pdf))\n",
    "\n",
    "- Le **modèle génératif** est donné par $p_{\\theta}(\\boldsymbol{x}, \\boldsymbol{z}) = \\mathcal{N}(\\boldsymbol{z}|\\theta, I) \\mathcal{N}(\\boldsymbol{x}|\\boldsymbol{z}, I)$, où $\\boldsymbol{x}$ et $\\boldsymbol{z} \\in \\mathbb{R}^{20}$, de sorte que $p_{\\theta}(\\boldsymbol{x}) = \\mathcal{N}(\\boldsymbol{x}|\\theta, 2I)$ et $p_{\\theta}(\\boldsymbol{z}|\\boldsymbol{x}) = \\mathcal{N}\\left( \\frac{\\theta + x}{2}, \\frac{1}{2}I \\right)$. \n",
    "\n",
    "- La **distribution de l'encodeur** (le modèle de reconnaissance) est $q_{\\phi}(z|x) = \\mathcal{N}\\left(\\boldsymbol{z}|A\\boldsymbol{x} + b, \\frac{2}{3}I \\right)$, où $\\phi = (A, b)$.\n",
    "\n",
    "- Nous considérons des perturbations aléatoires des paramètres près de la valeur optimale par une distribution gaussienne de moyenne nulle et d'écart-type $0.01$.\n",
    "\n",
    "**Dans ce cas, on peut analytiquement calculer la vraie log-vraisemblance du modèle pour quantifier le biais et la variance de tous les estimateurs**.\n",
    "\n",
    "Puisque $q_{\\phi}(z|x) = \\mathcal{N}\\left(\\boldsymbol{z}|A\\boldsymbol{x} + b, \\frac{2}{3}I \\right)$ est censé être une approximation de la véritable loi a posteriori donnée par $p_{\\boldsymbol{\\theta}}(\\boldsymbol{z} | \\boldsymbol{x}) = \\mathcal{N}\\left( \\frac{\\theta + x}{2}, \\frac{1}{2}I \\right)$"
   ]
  },
  {
   "cell_type": "markdown",
   "metadata": {},
   "source": [
    "### <span style=\"color:orange\"> 0.1. **Génération du vrai $\\theta$**  </span>"
   ]
  },
  {
   "cell_type": "markdown",
   "metadata": {},
   "source": [
    "On commence par tirer le $\\theta$* ($\\in \\mathbb{R}$) qui sera le paramètre que l'on cherchera à estimer par la suite. \n",
    "\n",
    "A la manière de la génération des données dans [Rainforth et al. (2018)](https://arxiv.org/pdf/1802.04537.pdf) : $\\theta^* \\sim \\mathcal{N}(0, 1)$"
   ]
  },
  {
   "cell_type": "code",
   "execution_count": 2,
   "metadata": {},
   "outputs": [
    {
     "name": "stdout",
     "output_type": "stream",
     "text": [
      "La valeur de theta à estimer est -0.1\n"
     ]
    }
   ],
   "source": [
    "#theta_true = np.random.multivariate_normal(np.zeros(20), np.identity(20))\n",
    "theta_true = np.random.normal(0, 1)\n",
    "print(f\"La valeur de theta à estimer est {int(theta_true*100)/100}\")"
   ]
  },
  {
   "cell_type": "markdown",
   "metadata": {},
   "source": [
    "### <span style=\"color:orange\"> 0.2. **Génération de notre vecteur d'observation $\\boldsymbol{x} \\in \\mathbb{R}^{20}$**  </span>"
   ]
  },
  {
   "cell_type": "markdown",
   "metadata": {},
   "source": [
    "L'idée est désormais de tirer une observation $\\boldsymbol{x} \\in \\mathbb{R}^{20}$, chose que l'on peut faire puisque toutes les distributions nous sont données. \n"
   ]
  },
  {
   "cell_type": "code",
   "execution_count": 3,
   "metadata": {},
   "outputs": [
    {
     "name": "stdout",
     "output_type": "stream",
     "text": [
      "L'échantillon x observé est :\n",
      " \n",
      " x = [ 0.93032165 -1.3864958  -0.49609159 -0.59923839  0.67635233 -0.19196914\n",
      " -2.44615198  0.35971269 -0.81572827 -1.9606855   0.94808008 -0.45121445\n",
      "  0.37615408 -1.06671356  2.04261417 -0.5865706  -0.87926426  0.25784348\n",
      " -1.18908164  2.50485368] \n",
      " \n",
      " et on vérifique bien sa taille est celle voulue : (20,)\n"
     ]
    }
   ],
   "source": [
    "## On se donne notre échantillon x\n",
    "\n",
    "x, _ = Estimateurs.joint_probability(theta_true)\n",
    "\n",
    "print(f\"L'échantillon x observé est :\\n \\n x = {x} \\n \\n et on vérifique bien sa taille est celle voulue : {x.shape}\")"
   ]
  },
  {
   "cell_type": "markdown",
   "metadata": {},
   "source": [
    "### <span style=\"color:orange\"> 0.3. **Génération de la vraie log-vraisemblance et du vrai gradient associé à $\\theta_{\\text{true}}$ et à notre observation $\\boldsymbol{x}$**  </span>"
   ]
  },
  {
   "cell_type": "markdown",
   "metadata": {},
   "source": [
    "On rappelle que l'on nous a donné que $p_{\\theta}(\\boldsymbol{x}) = \\mathcal{N}(\\boldsymbol{x}|\\theta, 2I)$ pour tout $\\boldsymbol{x} \\in \\mathbb{R}^{20}$, ainsi, on peut explicitement calculer la log-vraisemblance et du vrai gradient de $p_{\\theta}$ par rapport à $\\theta$. On a :\n",
    "\n",
    "\\begin{align*}\n",
    "\\ell (\\theta) = \\log p_{\\theta}(\\boldsymbol{x}) = \\log (\\mathcal{N}(\\boldsymbol{x}|\\theta, 2I)) &= \\log \\left ( \\frac{1}{\\sqrt{(2\\pi)^{20} \\det(2I)}} \\exp \\left\\{-\\frac{1}{2} (x-\\theta\\bm{1}_{20})^T (2I)^{-1} (x-\\theta\\bm{1}_{20}) \\right\\} \\right )\\\\\n",
    "&= \\log \\left ( \\frac{1}{(2\\pi)^{10} 2^{10}} \\exp \\left\\{-\\frac{1}{4} (x-\\theta\\bm{1}_{20})^T (x-\\theta\\bm{1}_{20}) \\right\\} \\right )\\\\\n",
    "&= - 10 \\log (4\\pi) -\\frac{1}{4} (x-\\theta\\bm{1}_{20})^T (x-\\theta\\bm{1}_{20})\\\\\n",
    "&= - 10 \\log (4\\pi) -\\frac{1}{4} \\| x - \\theta \\mathbf{1}_{20} \\|^2\\\\\n",
    "&= - 10 \\log (4\\pi) -\\frac{1}{4} \\sum_{i=1}^{20} (x_i - \\theta)^2\n",
    "\n",
    "\\end{align*}\n",
    "\n",
    "Et, alors \n",
    "\n",
    "\\begin{align*}\n",
    "\\nabla_{\\theta}\\ell (\\theta) = \\ell '(\\theta) &= \\frac{1}{2} \\sum_{i=1}^{20} (x_i - \\theta)\\\\\n",
    "&= \\frac{1}{2} \\sum_{i=1}^{20}x_i - 10 \\theta \\\\\n",
    "&= 10 \\frac{1}{20} \\sum_{i=1}^{20}x_i - 10 \\theta \\\\\n",
    "&= 10 (\\bar{x}_{20} - \\theta)\n",
    "\\end{align*}"
   ]
  },
  {
   "cell_type": "code",
   "execution_count": 4,
   "metadata": {},
   "outputs": [
    {
     "name": "stdout",
     "output_type": "stream",
     "text": [
      "La valeur associée à la log-vraisemblance de l'échantillon x pour theta_true est : -26.056678655977112 \n",
      " \n",
      "La valeur associée au gradient de l'échantillon x pour theta_true est : \n",
      "\n",
      " -0.9450099098956506 \n",
      " \n"
     ]
    }
   ],
   "source": [
    "true_likelihood = Code.true_likelihood(x, theta_true)\n",
    "true_gradient = Code.true_grad(x, theta_true)\n",
    "\n",
    "print(f\"La valeur associée à la log-vraisemblance de l'échantillon x pour theta_true est : {true_likelihood} \\n \")\n",
    "print(f\"La valeur associée au gradient de l'échantillon x pour theta_true est : \\n\\n {true_gradient} \\n \")"
   ]
  },
  {
   "cell_type": "markdown",
   "metadata": {},
   "source": [
    "### <span style=\"color:orange\"> 0.4. **Génération des paramètres de l'encodeur $A \\in \\mathbb{R}^{20\\times 20}$ et $b \\in \\mathbb{R}^{20}$**  </span>"
   ]
  },
  {
   "cell_type": "markdown",
   "metadata": {},
   "source": [
    "Il est maintenant question de tirer notre encodeur tel que : $q_{\\phi}(z|x) = \\mathcal{N}\\left(\\boldsymbol{z}|A\\boldsymbol{x} + b, \\frac{2}{3}I \\right)$, où $\\phi = (A, b)$. **Le problème qui se pose est donc celui du choix de $A$ et de $b$**. Dans l'article [Rainforth et al. (2018)](https://arxiv.org/pdf/1802.04537.pdf), il nous est indiqué : \n",
    "\n",
    "*\"Following [Rainforth et al. (2018)](https://arxiv.org/pdf/1802.04537.pdf), we consider random perturbations of the parameters near the optimal value by a zero-mean Gaussian with standard deviation 0.01\"*\n",
    "\n",
    "Ainsi, étant donné une observation $\\boldsymbol{x}$,  le choix parfait pour $\\phi$ serait $\\phi^* = (A^*, b^*)$ où $A^* = \\frac{1}{2}\\boldsymbol{I}_{20} \\in \\mathbb{R}^{20 \\times 20}$ et $b^* = [\\frac{\\theta^*}{2}, ..., \\frac{\\theta^*}{2}]^T \\in \\mathbb{R}^{20} $. Suivant l'indication dans l'article, nous nous plaçons dans un cas où on aurait réussi à inférer de manière convenable la loi $p_{\\theta}(\\boldsymbol{z}|\\boldsymbol{x}) = \\mathcal{N}\\left( \\frac{\\theta + x}{2}, \\frac{1}{2}I \\right)$, mais pas parfaitement. Ainsi,  on introduit de la même façon que dans l'article [[Rainforth et al. (2018)](https://arxiv.org/pdf/1802.04537.pdf) une perturbation autour de la valeur optimale du paramètre $\\phi$. Cette perturbation se caractérise par le fait chaque dimension de chaque paramètre a été décalée de manière aléatoire par rapport à sa valeur optimale en utilisant une gaussienne centrée en zéro avec un écart-type de 0,01.\n"
   ]
  },
  {
   "cell_type": "code",
   "execution_count": 5,
   "metadata": {},
   "outputs": [
    {
     "name": "stdout",
     "output_type": "stream",
     "text": [
      "On vérifie que les tailles de A, b et x coincident :\n",
      " \n",
      " taille A : (20, 20) \n",
      " taille b : (20,) \n",
      " taille x : (20,)\n"
     ]
    }
   ],
   "source": [
    "dim = 20 \n",
    "\n",
    "## On calcule les valeurs optimales de A et de b\n",
    "A = 0.5 * np.eye(dim)\n",
    "b = 0.5 * theta_true * np.ones(dim)\n",
    "\n",
    "## On calcule les valeurs perturbées de A et de b, qui sont FIXÉES dans la suite\n",
    "noised_A, noised_b = Code.noised_params(A, b)\n",
    "\n",
    "print(f\"On vérifie que les tailles de A, b et x coincident :\\n \\n taille A : {A.shape} \\n taille b : {b.shape} \\n taille x : {x.shape}\")"
   ]
  },
  {
   "cell_type": "markdown",
   "metadata": {},
   "source": [
    "## <span style=\"color:green\">  **Partie 1. Comparaison des estimateurs de la vraisemblance du modèle**  </span>\n",
    "\n",
    "### <span style=\"color:orange\">  **1.1 Les estimateurs RR (Roulette Russe) et SS (Single Sample)**  </span>\n",
    "\n",
    "On rappelle rapidement la manière dont sont définis les estimateurs RR et SS, utilisés plus tard pour construire SUMO, ML-SS et ML-RR.  \n",
    "Désignons une quantité d'intérêt par $I_\\infty = \\log p_\\theta(\\boldsymbol{x})$. Supposons que $I_\\infty$ puisse être écrite comme\n",
    "\n",
    "$$\n",
    "I_\\infty = \\mathbb{E}[I_0] + \\sum_{k=0}^\\infty \\mathbb{E}[\\Delta_k] \n",
    "$$\n",
    "\n",
    "pour les variables aléatoires $I_0$ et $(\\Delta_k)_{k\\geq0}$. Nous pouvons estimer $I_\\infty$ de manière non biaisée via les estimateurs suivants ss ou rr :\n",
    "\n",
    "$$\n",
    "ss = I_0 + \\frac{\\Delta_K}{p(K)}, \\quad rr = I_0 + \\sum_{k=0}^K \\frac{\\Delta_k}{\\mathbb{P}(K \\geq k)}\n",
    "$$\n",
    "\n",
    "où $K \\sim Geom(r)$.\n",
    "\n",
    "Pour chacun de ces estimateurs, nous allons suivre la méthodologie du Monte Carlo multiniveau (voir cet [article](https://web.stanford.edu/~glynn/papers/2015/BlanchetG15.html)) qui repose sur un schéma alternatif astucieux pour construire $\\Delta_k$, qui peut garantir la construction d'estimateurs non biaisés de $\\ell(\\boldsymbol{\\theta})$ qui admettent une variance finie et peuvent être calculés en un temps attendu fini.\n",
    "\n",
    "Nous désignons par $\\boldsymbol{z}^O_i$, $\\boldsymbol{z}^E_i$ deux séquences indépendantes d'échantillons i.i.d. de $q_\\phi$, où $O$, $E$ désignent respectivement impair (odd), pair (even), et $w^O_i$, $w^E_i$ les poids d'importance correspondants. Ensuite, nous définissons $I_0 = \\hat{\\ell}^{(1)}(\\boldsymbol{\\theta})$ et\n",
    "\n",
    "\\begin{align*}\n",
    "\\Delta^\\text{ML}_k = \\hat{\\ell}^{(2^{k+1})}_{O\\cup E}(\\boldsymbol{\\theta}) - \\frac{1}{2} \\left( \\hat{\\ell}^{(2^k)}_O (\\boldsymbol{\\theta}) + \\hat{\\ell}^{(2^k)}_E (\\boldsymbol{\\theta}) \\right),\n",
    "\\end{align*}\n",
    "\n",
    "où $\\hat{\\ell}^{(2^k)}_O (\\boldsymbol{\\theta}) = \\log \\left(\\frac{1}{2^k} \\sum_{i=1}^{2^k} w(z^{O}_i) \\right)$ est calculé en utilisant les échantillons impairs $\\{z^O_i\\}_{i=1}^{2^k}$, $\\hat{\\ell}^{(2^k)}_E (\\boldsymbol{\\theta}) = \\log \\left(\\frac{1}{2^k} \\sum_{i=1}^{2^k} w(z^{E}_i) \\right)$ en utilisant les échantillons pairs $\\{z^E_i\\}_{i=1}^{2^k}$, et $\\hat{\\ell}^{(2^{k+1})}_{O\\cup E} (\\boldsymbol{\\theta})$ en utilisant $\\{z^O_i\\}_{i=1}^{2^k} \\cup \\{z^E_i\\}_{i=1}^{2^k}$. Nous désignons les estimateurs SS/RR multiniveaux correspondants de $\\hat{\\ell}(\\boldsymbol{\\theta})$ comme $\\hat{\\ell}^\\text{ML-SS}(\\boldsymbol{\\theta})$ et $\\hat{\\ell}^\\text{ML-RR}(\\boldsymbol{\\theta})$, et collectivement comme $\\hat{\\ell}^\\text{ML}(\\boldsymbol{\\theta})$.\n",
    "\n",
    "Ainsi, \n",
    "\n",
    "$$\n",
    "\\hat{\\ell}^\\text{ML-SS}(\\boldsymbol{\\theta}) = I_0 + \\frac{\\Delta^{\\text{ML}}_\\mathcal{K}}{p(\\mathcal{K})}, \\quad \\hat{\\ell}^\\text{ML-RR}(\\boldsymbol{\\theta}) = I_0 + \\sum_{k=0}^{K} \\frac{\\Delta^{\\text{ML}}_k}{\\mathbb{P}(\\mathcal{K} \\geq k)},\n",
    "$$\n",
    "\n",
    "En abscisse, on considère un segment centré autour de $\\theta^*$, la vraie valeur du paramètre. Pour chaque point de ce segment, on calcule l'estimation réalisée par $\\hat{\\ell}^\\text{ML-SS}(\\boldsymbol{\\theta})$ ou $\\hat{\\ell}^\\text{ML-RR}(\\boldsymbol{\\theta})$ et on la trace sur les graphiques suivant. Le courbe en rouge représente la vraie fonction de vraisemblance, calculée analytiquement. \n",
    "\n",
    "#### <span style=\"color:red\">  **1.1.1 Estimateur ML-SS**  </span>\n",
    "\n",
    "On choisit arbitrairement un nombre de 15 simulations et de 60 points pour des questions de vitesse de calcul. "
   ]
  },
  {
   "cell_type": "code",
   "execution_count": 6,
   "metadata": {},
   "outputs": [],
   "source": [
    "n_simulations = 15 \n",
    "num_runs = 10\n",
    "r = 0.6\n",
    "k_IWAE = 5"
   ]
  },
  {
   "cell_type": "code",
   "execution_count": 7,
   "metadata": {},
   "outputs": [
    {
     "name": "stderr",
     "output_type": "stream",
     "text": [
      "Progression:   0%|          | 0/30 [00:00<?, ?it/s]"
     ]
    },
    {
     "name": "stderr",
     "output_type": "stream",
     "text": [
      "Progression: 100%|██████████| 30/30 [00:25<00:00,  1.19it/s]\n"
     ]
    },
    {
     "data": {
      "image/png": "[encoded data removed]",
      "text/plain": [
       "<Figure size 1500x800 with 1 Axes>"
      ]
     },
     "metadata": {},
     "output_type": "display_data"
    }
   ],
   "source": [
    "Code.plot_errors_likelihood(r, theta_true, x, noised_A, noised_b, n_simulations,  5, 'ML_SS')"
   ]
  },
  {
   "cell_type": "markdown",
   "metadata": {},
   "source": [
    "On va désormais s'intéresser à l'estimation de $\\nabla_{\\theta} l(\\theta)$ par notre estimateur ML-SS. L'objectif étant de voir à quel point cet estimateur nous permettra, par la suite, d'approximer $\\theta^*$ à l'aide d'une descente de gradient. \n",
    "\n",
    "De la même façon, "
   ]
  },
  {
   "cell_type": "code",
   "execution_count": 8,
   "metadata": {},
   "outputs": [
    {
     "name": "stderr",
     "output_type": "stream",
     "text": [
      "/Users/khelifanail/MLMC_Unibaised_Gradient_Estimation_for_Deep_LVM/Code.py:219: RuntimeWarning: divide by zero encountered in log\n",
      "  I_0 = np.mean([np.log(weights_array)])\n",
      "/Users/khelifanail/MLMC_Unibaised_Gradient_Estimation_for_Deep_LVM/Code.py:221: RuntimeWarning: divide by zero encountered in log\n",
      "  l_odd = np.log(np.mean(np.exp(np.log(weights_array_odd))))\n",
      "/Users/khelifanail/MLMC_Unibaised_Gradient_Estimation_for_Deep_LVM/Code.py:222: RuntimeWarning: divide by zero encountered in log\n",
      "  l_even = np.log(np.mean(np.exp(np.log(weights_array_even))))\n",
      "/Users/khelifanail/MLMC_Unibaised_Gradient_Estimation_for_Deep_LVM/Code.py:223: RuntimeWarning: divide by zero encountered in log\n",
      "  l_odd_and_even = np.log(np.mean(np.exp(np.log(weights_array))))\n"
     ]
    },
    {
     "data": {
      "application/vnd.plotly.v1+json": {
       "config": {
        "plotlyServerURL": "https://plot.ly"
       },
       "data": [
        {
         "line": {
          "color": "red"
         },
         "mode": "lines",
         "name": "True Gradient",
         "type": "scatter",
         "x": [
          -3.978696530418527,
          -3.774614897765466,
          -3.5705332651124047,
          -3.366451632459343,
          -3.162369999806282,
          -2.958288367153221,
          -2.7542067345001597,
          -2.5501251018470983,
          -2.3460434691940373,
          -2.1419618365409763,
          -1.9378802038879148,
          -1.7337985712348534,
          -1.5297169385817924,
          -1.3256353059287314,
          -1.12155367327567,
          -0.9174720406226085,
          -0.7133904079695474,
          -0.5093087753164864,
          -0.305227142663425,
          -0.10114551001036354,
          0.10293612264269747,
          0.3070177552957585,
          0.5110993879488204,
          0.7151810206018814,
          0.9192626532549424,
          1.1233442859080034,
          1.3274259185610644,
          1.5315075512141263,
          1.7355891838671873,
          1.9396708165202483,
          2.14375244917331,
          2.347834081826371,
          2.551915714479432,
          2.7559973471324932,
          2.9600789797855542,
          3.164160612438616,
          3.368242245091677,
          3.572323877744738,
          3.7764055103978,
          3.980487143050861,
          4.184568775703922,
          4.388650408356983,
          4.592732041010044,
          4.796813673663105,
          5.000895306316168,
          5.204976938969229,
          5.40905857162229,
          5.613140204275351,
          5.817221836928412,
          6.021303469581473
         ],
         "y": [
          55.30842106263597,
          53.267604736105355,
          51.22678840957475,
          49.185972083044135,
          47.14515575651353,
          45.104339429982915,
          43.0635231034523,
          41.02270677692168,
          38.98189045039108,
          36.94107412386047,
          34.90025779732985,
          32.85944147079923,
          30.818625144268626,
          28.777808817738016,
          26.736992491207403,
          24.696176164676785,
          22.655359838146175,
          20.614543511615565,
          18.57372718508495,
          16.532910858554338,
          14.492094532023728,
          12.451278205493118,
          10.410461878962497,
          8.369645552431887,
          6.328829225901278,
          4.288012899370668,
          2.247196572840058,
          0.20638024630943885,
          -1.8344360802211712,
          -3.8752524067517813,
          -5.9160687332824,
          -7.95688505981301,
          -9.997701386343621,
          -12.038517712874231,
          -14.079334039404841,
          -16.12015036593546,
          -18.16096669246607,
          -20.20178301899668,
          -22.2425993455273,
          -24.28341567205791,
          -26.32423199858852,
          -28.36504832511913,
          -30.40586465164974,
          -32.446680978180346,
          -34.48749730471098,
          -36.52831363124159,
          -38.5691299577722,
          -40.60994628430281,
          -42.650762610833425,
          -44.69157893736403
         ]
        },
        {
         "marker": {
          "color": "purple",
          "symbol": "x"
         },
         "mode": "markers",
         "name": "ML_SS",
         "type": "scatter",
         "x": [
          -3.978696530418527,
          -3.774614897765466,
          -3.5705332651124047,
          -3.366451632459343,
          -3.162369999806282,
          -2.958288367153221,
          -2.7542067345001597,
          -2.5501251018470983,
          -2.3460434691940373,
          -2.1419618365409763,
          -1.9378802038879148,
          -1.7337985712348534,
          -1.5297169385817924,
          -1.3256353059287314,
          -1.12155367327567,
          -0.9174720406226085,
          -0.7133904079695474,
          -0.5093087753164864,
          -0.305227142663425,
          -0.10114551001036354,
          0.10293612264269747,
          0.3070177552957585,
          0.5110993879488204,
          0.7151810206018814,
          0.9192626532549424,
          1.1233442859080034,
          1.3274259185610644,
          1.5315075512141263,
          1.7355891838671873,
          1.9396708165202483,
          2.14375244917331,
          2.347834081826371,
          2.551915714479432,
          2.7559973471324932,
          2.9600789797855542,
          3.164160612438616,
          3.368242245091677,
          3.572323877744738,
          3.7764055103978,
          3.980487143050861,
          4.184568775703922,
          4.388650408356983,
          4.592732041010044,
          4.796813673663105,
          5.000895306316168,
          5.204976938969229,
          5.40905857162229,
          5.613140204275351,
          5.817221836928412,
          6.021303469581473
         ],
         "y": [
          -11.591991369594325,
          -0.9223124564832119,
          30.504897122047367,
          27.565071093385058,
          18.17793399859599,
          22.258190148238924,
          19.099163510479727,
          35.736969256032026,
          76.26433687617899,
          24.050069345827822,
          -30.90464551257363,
          4.276885311132233,
          14.482931117757559,
          18.34492554487896,
          11.870106113405669,
          10.677597717343417,
          8.160137173953295,
          6.746861964584113,
          21.18387585119103,
          2.09597791232925,
          -9.532955050024867,
          6.351330736590118,
          4.0396420789305765,
          -6.3292498222696345,
          -5.114889239579849,
          -0.41194907401774117,
          -4.5434312929311815,
          31.205274460517202,
          -9.214182772784888,
          -51.89149489518222,
          -11.208198608063384,
          -15.584745588023068,
          -19.40499586448732,
          -12.620114027635893,
          -20.43821067728902,
          21.82693902238443,
          18.757648446175182,
          -63.794653682852505,
          -60.69798067105627,
          -12.826715143389919,
          11.25884485648055,
          -41.37846722814115,
          -64.94639785269959,
          165.83377967997623,
          -37.80547001759612,
          -214.4206229269627,
          -42.985594667729146,
          -75.0678293754153,
          null,
          null
         ]
        }
       ],
       "layout": {
        "legend": {
         "font": {
          "size": 12
         },
         "traceorder": "normal",
         "x": 0,
         "y": 1
        },
        "shapes": [
         {
          "line": {
           "color": "black",
           "dash": "dash",
           "width": 2
          },
          "name": "theta=1.021303469581473",
          "type": "line",
          "x0": 1.021303469581473,
          "x1": 1.021303469581473,
          "y0": null,
          "y1": 165.83377967997623
         }
        ],
        "showlegend": true,
        "template": {
         "data": {
          "bar": [
           {
            "error_x": {
             "color": "#2a3f5f"
            },
            "error_y": {
             "color": "#2a3f5f"
            },
            "marker": {
             "line": {
              "color": "#E5ECF6",
              "width": 0.5
             },
             "pattern": {
              "fillmode": "overlay",
              "size": 10,
              "solidity": 0.2
             }
            },
            "type": "bar"
           }
          ],
          "barpolar": [
           {
            "marker": {
             "line": {
              "color": "#E5ECF6",
              "width": 0.5
             },
             "pattern": {
              "fillmode": "overlay",
              "size": 10,
              "solidity": 0.2
             }
            },
            "type": "barpolar"
           }
          ],
          "carpet": [
           {
            "aaxis": {
             "endlinecolor": "#2a3f5f",
             "gridcolor": "white",
             "linecolor": "white",
             "minorgridcolor": "white",
             "startlinecolor": "#2a3f5f"
            },
            "baxis": {
             "endlinecolor": "#2a3f5f",
             "gridcolor": "white",
             "linecolor": "white",
             "minorgridcolor": "white",
             "startlinecolor": "#2a3f5f"
            },
            "type": "carpet"
           }
          ],
          "choropleth": [
           {
            "colorbar": {
             "outlinewidth": 0,
             "ticks": ""
            },
            "type": "choropleth"
           }
          ],
          "contour": [
           {
            "colorbar": {
             "outlinewidth": 0,
             "ticks": ""
            },
            "colorscale": [
             [
              0,
              "#0d0887"
             ],
             [
              0.1111111111111111,
              "#46039f"
             ],
             [
              0.2222222222222222,
              "#7201a8"
             ],
             [
              0.3333333333333333,
              "#9c179e"
             ],
             [
              0.4444444444444444,
              "#bd3786"
             ],
             [
              0.5555555555555556,
              "#d8576b"
             ],
             [
              0.6666666666666666,
              "#ed7953"
             ],
             [
              0.7777777777777778,
              "#fb9f3a"
             ],
             [
              0.8888888888888888,
              "#fdca26"
             ],
             [
              1,
              "#f0f921"
             ]
            ],
            "type": "contour"
           }
          ],
          "contourcarpet": [
           {
            "colorbar": {
             "outlinewidth": 0,
             "ticks": ""
            },
            "type": "contourcarpet"
           }
          ],
          "heatmap": [
           {
            "colorbar": {
             "outlinewidth": 0,
             "ticks": ""
            },
            "colorscale": [
             [
              0,
              "#0d0887"
             ],
             [
              0.1111111111111111,
              "#46039f"
             ],
             [
              0.2222222222222222,
              "#7201a8"
             ],
             [
              0.3333333333333333,
              "#9c179e"
             ],
             [
              0.4444444444444444,
              "#bd3786"
             ],
             [
              0.5555555555555556,
              "#d8576b"
             ],
             [
              0.6666666666666666,
              "#ed7953"
             ],
             [
              0.7777777777777778,
              "#fb9f3a"
             ],
             [
              0.8888888888888888,
              "#fdca26"
             ],
             [
              1,
              "#f0f921"
             ]
            ],
            "type": "heatmap"
           }
          ],
          "heatmapgl": [
           {
            "colorbar": {
             "outlinewidth": 0,
             "ticks": ""
            },
            "colorscale": [
             [
              0,
              "#0d0887"
             ],
             [
              0.1111111111111111,
              "#46039f"
             ],
             [
              0.2222222222222222,
              "#7201a8"
             ],
             [
              0.3333333333333333,
              "#9c179e"
             ],
             [
              0.4444444444444444,
              "#bd3786"
             ],
             [
              0.5555555555555556,
              "#d8576b"
             ],
             [
              0.6666666666666666,
              "#ed7953"
             ],
             [
              0.7777777777777778,
              "#fb9f3a"
             ],
             [
              0.8888888888888888,
              "#fdca26"
             ],
             [
              1,
              "#f0f921"
             ]
            ],
            "type": "heatmapgl"
           }
          ],
          "histogram": [
           {
            "marker": {
             "pattern": {
              "fillmode": "overlay",
              "size": 10,
              "solidity": 0.2
             }
            },
            "type": "histogram"
           }
          ],
          "histogram2d": [
           {
            "colorbar": {
             "outlinewidth": 0,
             "ticks": ""
            },
            "colorscale": [
             [
              0,
              "#0d0887"
             ],
             [
              0.1111111111111111,
              "#46039f"
             ],
             [
              0.2222222222222222,
              "#7201a8"
             ],
             [
              0.3333333333333333,
              "#9c179e"
             ],
             [
              0.4444444444444444,
              "#bd3786"
             ],
             [
              0.5555555555555556,
              "#d8576b"
             ],
             [
              0.6666666666666666,
              "#ed7953"
             ],
             [
              0.7777777777777778,
              "#fb9f3a"
             ],
             [
              0.8888888888888888,
              "#fdca26"
             ],
             [
              1,
              "#f0f921"
             ]
            ],
            "type": "histogram2d"
           }
          ],
          "histogram2dcontour": [
           {
            "colorbar": {
             "outlinewidth": 0,
             "ticks": ""
            },
            "colorscale": [
             [
              0,
              "#0d0887"
             ],
             [
              0.1111111111111111,
              "#46039f"
             ],
             [
              0.2222222222222222,
              "#7201a8"
             ],
             [
              0.3333333333333333,
              "#9c179e"
             ],
             [
              0.4444444444444444,
              "#bd3786"
             ],
             [
              0.5555555555555556,
              "#d8576b"
             ],
             [
              0.6666666666666666,
              "#ed7953"
             ],
             [
              0.7777777777777778,
              "#fb9f3a"
             ],
             [
              0.8888888888888888,
              "#fdca26"
             ],
             [
              1,
              "#f0f921"
             ]
            ],
            "type": "histogram2dcontour"
           }
          ],
          "mesh3d": [
           {
            "colorbar": {
             "outlinewidth": 0,
             "ticks": ""
            },
            "type": "mesh3d"
           }
          ],
          "parcoords": [
           {
            "line": {
             "colorbar": {
              "outlinewidth": 0,
              "ticks": ""
             }
            },
            "type": "parcoords"
           }
          ],
          "pie": [
           {
            "automargin": true,
            "type": "pie"
           }
          ],
          "scatter": [
           {
            "fillpattern": {
             "fillmode": "overlay",
             "size": 10,
             "solidity": 0.2
            },
            "type": "scatter"
           }
          ],
          "scatter3d": [
           {
            "line": {
             "colorbar": {
              "outlinewidth": 0,
              "ticks": ""
             }
            },
            "marker": {
             "colorbar": {
              "outlinewidth": 0,
              "ticks": ""
             }
            },
            "type": "scatter3d"
           }
          ],
          "scattercarpet": [
           {
            "marker": {
             "colorbar": {
              "outlinewidth": 0,
              "ticks": ""
             }
            },
            "type": "scattercarpet"
           }
          ],
          "scattergeo": [
           {
            "marker": {
             "colorbar": {
              "outlinewidth": 0,
              "ticks": ""
             }
            },
            "type": "scattergeo"
           }
          ],
          "scattergl": [
           {
            "marker": {
             "colorbar": {
              "outlinewidth": 0,
              "ticks": ""
             }
            },
            "type": "scattergl"
           }
          ],
          "scattermapbox": [
           {
            "marker": {
             "colorbar": {
              "outlinewidth": 0,
              "ticks": ""
             }
            },
            "type": "scattermapbox"
           }
          ],
          "scatterpolar": [
           {
            "marker": {
             "colorbar": {
              "outlinewidth": 0,
              "ticks": ""
             }
            },
            "type": "scatterpolar"
           }
          ],
          "scatterpolargl": [
           {
            "marker": {
             "colorbar": {
              "outlinewidth": 0,
              "ticks": ""
             }
            },
            "type": "scatterpolargl"
           }
          ],
          "scatterternary": [
           {
            "marker": {
             "colorbar": {
              "outlinewidth": 0,
              "ticks": ""
             }
            },
            "type": "scatterternary"
           }
          ],
          "surface": [
           {
            "colorbar": {
             "outlinewidth": 0,
             "ticks": ""
            },
            "colorscale": [
             [
              0,
              "#0d0887"
             ],
             [
              0.1111111111111111,
              "#46039f"
             ],
             [
              0.2222222222222222,
              "#7201a8"
             ],
             [
              0.3333333333333333,
              "#9c179e"
             ],
             [
              0.4444444444444444,
              "#bd3786"
             ],
             [
              0.5555555555555556,
              "#d8576b"
             ],
             [
              0.6666666666666666,
              "#ed7953"
             ],
             [
              0.7777777777777778,
              "#fb9f3a"
             ],
             [
              0.8888888888888888,
              "#fdca26"
             ],
             [
              1,
              "#f0f921"
             ]
            ],
            "type": "surface"
           }
          ],
          "table": [
           {
            "cells": {
             "fill": {
              "color": "#EBF0F8"
             },
             "line": {
              "color": "white"
             }
            },
            "header": {
             "fill": {
              "color": "#C8D4E3"
             },
             "line": {
              "color": "white"
             }
            },
            "type": "table"
           }
          ]
         },
         "layout": {
          "annotationdefaults": {
           "arrowcolor": "#2a3f5f",
           "arrowhead": 0,
           "arrowwidth": 1
          },
          "autotypenumbers": "strict",
          "coloraxis": {
           "colorbar": {
            "outlinewidth": 0,
            "ticks": ""
           }
          },
          "colorscale": {
           "diverging": [
            [
             0,
             "#8e0152"
            ],
            [
             0.1,
             "#c51b7d"
            ],
            [
             0.2,
             "#de77ae"
            ],
            [
             0.3,
             "#f1b6da"
            ],
            [
             0.4,
             "#fde0ef"
            ],
            [
             0.5,
             "#f7f7f7"
            ],
            [
             0.6,
             "#e6f5d0"
            ],
            [
             0.7,
             "#b8e186"
            ],
            [
             0.8,
             "#7fbc41"
            ],
            [
             0.9,
             "#4d9221"
            ],
            [
             1,
             "#276419"
            ]
           ],
           "sequential": [
            [
             0,
             "#0d0887"
            ],
            [
             0.1111111111111111,
             "#46039f"
            ],
            [
             0.2222222222222222,
             "#7201a8"
            ],
            [
             0.3333333333333333,
             "#9c179e"
            ],
            [
             0.4444444444444444,
             "#bd3786"
            ],
            [
             0.5555555555555556,
             "#d8576b"
            ],
            [
             0.6666666666666666,
             "#ed7953"
            ],
            [
             0.7777777777777778,
             "#fb9f3a"
            ],
            [
             0.8888888888888888,
             "#fdca26"
            ],
            [
             1,
             "#f0f921"
            ]
           ],
           "sequentialminus": [
            [
             0,
             "#0d0887"
            ],
            [
             0.1111111111111111,
             "#46039f"
            ],
            [
             0.2222222222222222,
             "#7201a8"
            ],
            [
             0.3333333333333333,
             "#9c179e"
            ],
            [
             0.4444444444444444,
             "#bd3786"
            ],
            [
             0.5555555555555556,
             "#d8576b"
            ],
            [
             0.6666666666666666,
             "#ed7953"
            ],
            [
             0.7777777777777778,
             "#fb9f3a"
            ],
            [
             0.8888888888888888,
             "#fdca26"
            ],
            [
             1,
             "#f0f921"
            ]
           ]
          },
          "colorway": [
           "#636efa",
           "#EF553B",
           "#00cc96",
           "#ab63fa",
           "#FFA15A",
           "#19d3f3",
           "#FF6692",
           "#B6E880",
           "#FF97FF",
           "#FECB52"
          ],
          "font": {
           "color": "#2a3f5f"
          },
          "geo": {
           "bgcolor": "white",
           "lakecolor": "white",
           "landcolor": "#E5ECF6",
           "showlakes": true,
           "showland": true,
           "subunitcolor": "white"
          },
          "hoverlabel": {
           "align": "left"
          },
          "hovermode": "closest",
          "mapbox": {
           "style": "light"
          },
          "paper_bgcolor": "white",
          "plot_bgcolor": "#E5ECF6",
          "polar": {
           "angularaxis": {
            "gridcolor": "white",
            "linecolor": "white",
            "ticks": ""
           },
           "bgcolor": "#E5ECF6",
           "radialaxis": {
            "gridcolor": "white",
            "linecolor": "white",
            "ticks": ""
           }
          },
          "scene": {
           "xaxis": {
            "backgroundcolor": "#E5ECF6",
            "gridcolor": "white",
            "gridwidth": 2,
            "linecolor": "white",
            "showbackground": true,
            "ticks": "",
            "zerolinecolor": "white"
           },
           "yaxis": {
            "backgroundcolor": "#E5ECF6",
            "gridcolor": "white",
            "gridwidth": 2,
            "linecolor": "white",
            "showbackground": true,
            "ticks": "",
            "zerolinecolor": "white"
           },
           "zaxis": {
            "backgroundcolor": "#E5ECF6",
            "gridcolor": "white",
            "gridwidth": 2,
            "linecolor": "white",
            "showbackground": true,
            "ticks": "",
            "zerolinecolor": "white"
           }
          },
          "shapedefaults": {
           "line": {
            "color": "#2a3f5f"
           }
          },
          "ternary": {
           "aaxis": {
            "gridcolor": "white",
            "linecolor": "white",
            "ticks": ""
           },
           "baxis": {
            "gridcolor": "white",
            "linecolor": "white",
            "ticks": ""
           },
           "bgcolor": "#E5ECF6",
           "caxis": {
            "gridcolor": "white",
            "linecolor": "white",
            "ticks": ""
           }
          },
          "title": {
           "x": 0.05
          },
          "xaxis": {
           "automargin": true,
           "gridcolor": "white",
           "linecolor": "white",
           "ticks": "",
           "title": {
            "standoff": 15
           },
           "zerolinecolor": "white",
           "zerolinewidth": 2
          },
          "yaxis": {
           "automargin": true,
           "gridcolor": "white",
           "linecolor": "white",
           "ticks": "",
           "title": {
            "standoff": 15
           },
           "zerolinecolor": "white",
           "zerolinewidth": 2
          }
         }
        },
        "title": {
         "text": "Estimation du gradient par ML_SS"
        },
        "xaxis": {
         "title": {
          "text": "Theta"
         }
        },
        "yaxis": {
         "title": {
          "text": "Gradient"
         }
        }
       }
      }
     },
     "metadata": {},
     "output_type": "display_data"
    }
   ],
   "source": [
    "Code.plot_gradient(r, x, noised_A, noised_b, theta_true, n_simulations, 'ML_SS', k_IWAE)"
   ]
  },
  {
   "cell_type": "code",
   "execution_count": 9,
   "metadata": {},
   "outputs": [
    {
     "name": "stderr",
     "output_type": "stream",
     "text": [
      "Progression:   0%|          | 0/50 [00:00<?, ?it/s]/Users/khelifanail/MLMC_Unibaised_Gradient_Estimation_for_Deep_LVM/Code.py:219: RuntimeWarning:\n",
      "\n",
      "divide by zero encountered in log\n",
      "\n",
      "/Users/khelifanail/MLMC_Unibaised_Gradient_Estimation_for_Deep_LVM/Code.py:221: RuntimeWarning:\n",
      "\n",
      "divide by zero encountered in log\n",
      "\n",
      "/Users/khelifanail/MLMC_Unibaised_Gradient_Estimation_for_Deep_LVM/Code.py:222: RuntimeWarning:\n",
      "\n",
      "divide by zero encountered in log\n",
      "\n",
      "/Users/khelifanail/MLMC_Unibaised_Gradient_Estimation_for_Deep_LVM/Code.py:223: RuntimeWarning:\n",
      "\n",
      "divide by zero encountered in log\n",
      "\n",
      "/Users/khelifanail/MLMC_Unibaised_Gradient_Estimation_for_Deep_LVM/Code.py:226: RuntimeWarning:\n",
      "\n",
      "invalid value encountered in scalar subtract\n",
      "\n",
      "/Users/khelifanail/MLMC_Unibaised_Gradient_Estimation_for_Deep_LVM/Code.py:230: RuntimeWarning:\n",
      "\n",
      "invalid value encountered in scalar add\n",
      "\n",
      "Progression:   8%|▊         | 4/50 [02:42<31:13, 40.73s/it]"
     ]
    },
    {
     "ename": "KeyboardInterrupt",
     "evalue": "",
     "output_type": "error",
     "traceback": [
      "\u001b[0;31m---------------------------------------------------------------------------\u001b[0m",
      "\u001b[0;31mKeyboardInterrupt\u001b[0m                         Traceback (most recent call last)",
      "\u001b[1;32m/Users/khelifanail/MLMC_Unibaised_Gradient_Estimation_for_Deep_LVM/Test_code.ipynb Cell 27\u001b[0m line \u001b[0;36m1\n\u001b[1;32m     <a href='vscode-notebook-cell:/Users/khelifanail/MLMC_Unibaised_Gradient_Estimation_for_Deep_LVM/Test_code.ipynb#X35sZmlsZQ%3D%3D?line=16'>17</a>\u001b[0m grad \u001b[39m=\u001b[39m []\n\u001b[1;32m     <a href='vscode-notebook-cell:/Users/khelifanail/MLMC_Unibaised_Gradient_Estimation_for_Deep_LVM/Test_code.ipynb#X35sZmlsZQ%3D%3D?line=17'>18</a>\u001b[0m \u001b[39mfor\u001b[39;00m _ \u001b[39min\u001b[39;00m \u001b[39mrange\u001b[39m(n_runs):\n\u001b[0;32m---> <a href='vscode-notebook-cell:/Users/khelifanail/MLMC_Unibaised_Gradient_Estimation_for_Deep_LVM/Test_code.ipynb#X35sZmlsZQ%3D%3D?line=18'>19</a>\u001b[0m     grad\u001b[39m.\u001b[39mappend(Code\u001b[39m.\u001b[39;49mgrad_ML_SS(r, x, noised_A, noised_b, theta, n_simulations))\n\u001b[1;32m     <a href='vscode-notebook-cell:/Users/khelifanail/MLMC_Unibaised_Gradient_Estimation_for_Deep_LVM/Test_code.ipynb#X35sZmlsZQ%3D%3D?line=19'>20</a>\u001b[0m estimated_grad\u001b[39m.\u001b[39mappend(grad)\n\u001b[1;32m     <a href='vscode-notebook-cell:/Users/khelifanail/MLMC_Unibaised_Gradient_Estimation_for_Deep_LVM/Test_code.ipynb#X35sZmlsZQ%3D%3D?line=20'>21</a>\u001b[0m time\u001b[39m.\u001b[39msleep(\u001b[39m0.01\u001b[39m)\n",
      "File \u001b[0;32m~/MLMC_Unibaised_Gradient_Estimation_for_Deep_LVM/Code.py:584\u001b[0m, in \u001b[0;36mgrad_ML_SS\u001b[0;34m(r, x, noised_A, noised_b, theta_true, n_simulations)\u001b[0m\n\u001b[1;32m    581\u001b[0m theta_values \u001b[39m=\u001b[39m np\u001b[39m.\u001b[39mlinspace(theta_min, theta_max, num_points)\n\u001b[1;32m    583\u001b[0m \u001b[39m## on caclue les valeurs de ML_SS sur cette plage de valeurs\u001b[39;00m\n\u001b[0;32m--> 584\u001b[0m ML_SS_values \u001b[39m=\u001b[39m [log_likelihood_ML_SS(r, x, noised_A, noised_b, theta, n_simulations) \u001b[39mfor\u001b[39;49;00m theta \u001b[39min\u001b[39;49;00m theta_values]\n\u001b[1;32m    586\u001b[0m gradient_ML_SS \u001b[39m=\u001b[39m np\u001b[39m.\u001b[39mgradient(ML_SS_values)\n\u001b[1;32m    588\u001b[0m \u001b[39mreturn\u001b[39;00m gradient_ML_SS\n",
      "File \u001b[0;32m~/MLMC_Unibaised_Gradient_Estimation_for_Deep_LVM/Code.py:584\u001b[0m, in \u001b[0;36m<listcomp>\u001b[0;34m(.0)\u001b[0m\n\u001b[1;32m    581\u001b[0m theta_values \u001b[39m=\u001b[39m np\u001b[39m.\u001b[39mlinspace(theta_min, theta_max, num_points)\n\u001b[1;32m    583\u001b[0m \u001b[39m## on caclue les valeurs de ML_SS sur cette plage de valeurs\u001b[39;00m\n\u001b[0;32m--> 584\u001b[0m ML_SS_values \u001b[39m=\u001b[39m [log_likelihood_ML_SS(r, x, noised_A, noised_b, theta, n_simulations) \u001b[39mfor\u001b[39;00m theta \u001b[39min\u001b[39;00m theta_values]\n\u001b[1;32m    586\u001b[0m gradient_ML_SS \u001b[39m=\u001b[39m np\u001b[39m.\u001b[39mgradient(ML_SS_values)\n\u001b[1;32m    588\u001b[0m \u001b[39mreturn\u001b[39;00m gradient_ML_SS\n",
      "File \u001b[0;32m~/MLMC_Unibaised_Gradient_Estimation_for_Deep_LVM/Code.py:215\u001b[0m, in \u001b[0;36mlog_likelihood_ML_SS\u001b[0;34m(r, theta, x, noised_A, noised_b, n_simulations)\u001b[0m\n\u001b[1;32m    212\u001b[0m weights_array \u001b[39m=\u001b[39m weights(x, z_sample_theta, theta, noised_A, noised_b)\n\u001b[1;32m    214\u001b[0m weights_array_odd \u001b[39m=\u001b[39m weights(x, z_sample_odd_theta, theta, noised_A, noised_b)\n\u001b[0;32m--> 215\u001b[0m weights_array_even \u001b[39m=\u001b[39m weights(x, z_sample_even_theta, theta, noised_A, noised_b)\n\u001b[1;32m    216\u001b[0m \u001b[39m#weights_array_odd = np.log(z_sample_odd_theta) # impairs\u001b[39;00m\n\u001b[1;32m    217\u001b[0m \u001b[39m#weights_array_even = np.log(z_sample_even_theta) # pairs\u001b[39;00m\n\u001b[1;32m    219\u001b[0m I_0 \u001b[39m=\u001b[39m np\u001b[39m.\u001b[39mmean([np\u001b[39m.\u001b[39mlog(weights_array)])\n",
      "File \u001b[0;32m~/MLMC_Unibaised_Gradient_Estimation_for_Deep_LVM/Code.py:130\u001b[0m, in \u001b[0;36mweights\u001b[0;34m(x, z_sample, theta, A, b)\u001b[0m\n\u001b[1;32m    126\u001b[0m \u001b[39mfor\u001b[39;00m z \u001b[39min\u001b[39;00m z_sample:\n\u001b[1;32m    127\u001b[0m \n\u001b[1;32m    128\u001b[0m     \u001b[39m# Probability densities\u001b[39;00m\n\u001b[1;32m    129\u001b[0m     q_phi_z_given_x_density \u001b[39m=\u001b[39m multivariate_normal\u001b[39m.\u001b[39mpdf(z, mean\u001b[39m=\u001b[39mAX_b, cov\u001b[39m=\u001b[39m(\u001b[39m2\u001b[39m\u001b[39m/\u001b[39m\u001b[39m3\u001b[39m)\u001b[39m*\u001b[39mI)\n\u001b[0;32m--> 130\u001b[0m     p_theta_xz \u001b[39m=\u001b[39m multivariate_normal\u001b[39m.\u001b[39;49mpdf(z, mean\u001b[39m=\u001b[39;49mtheta_mean, cov\u001b[39m=\u001b[39;49mI)\u001b[39m*\u001b[39mmultivariate_normal\u001b[39m.\u001b[39mpdf(x, mean\u001b[39m=\u001b[39mz, cov\u001b[39m=\u001b[39mI)\n\u001b[1;32m    132\u001b[0m     weights\u001b[39m.\u001b[39mappend(p_theta_xz \u001b[39m/\u001b[39m q_phi_z_given_x_density)\n\u001b[1;32m    134\u001b[0m \u001b[39mreturn\u001b[39;00m weights\n",
      "File \u001b[0;32m/usr/local/lib/python3.11/site-packages/scipy/stats/_multivariate.py:585\u001b[0m, in \u001b[0;36mmultivariate_normal_gen.pdf\u001b[0;34m(self, x, mean, cov, allow_singular)\u001b[0m\n\u001b[1;32m    566\u001b[0m \u001b[39mdef\u001b[39;00m \u001b[39mpdf\u001b[39m(\u001b[39mself\u001b[39m, x, mean\u001b[39m=\u001b[39m\u001b[39mNone\u001b[39;00m, cov\u001b[39m=\u001b[39m\u001b[39m1\u001b[39m, allow_singular\u001b[39m=\u001b[39m\u001b[39mFalse\u001b[39;00m):\n\u001b[1;32m    567\u001b[0m \u001b[39m    \u001b[39m\u001b[39m\"\"\"Multivariate normal probability density function.\u001b[39;00m\n\u001b[1;32m    568\u001b[0m \n\u001b[1;32m    569\u001b[0m \u001b[39m    Parameters\u001b[39;00m\n\u001b[0;32m   (...)\u001b[0m\n\u001b[1;32m    583\u001b[0m \n\u001b[1;32m    584\u001b[0m \u001b[39m    \"\"\"\u001b[39;00m\n\u001b[0;32m--> 585\u001b[0m     params \u001b[39m=\u001b[39m \u001b[39mself\u001b[39;49m\u001b[39m.\u001b[39;49m_process_parameters(mean, cov, allow_singular)\n\u001b[1;32m    586\u001b[0m     dim, mean, cov_object \u001b[39m=\u001b[39m params\n\u001b[1;32m    587\u001b[0m     x \u001b[39m=\u001b[39m \u001b[39mself\u001b[39m\u001b[39m.\u001b[39m_process_quantiles(x, dim)\n",
      "File \u001b[0;32m/usr/local/lib/python3.11/site-packages/scipy/stats/_multivariate.py:422\u001b[0m, in \u001b[0;36mmultivariate_normal_gen._process_parameters\u001b[0;34m(self, mean, cov, allow_singular)\u001b[0m\n\u001b[1;32m    415\u001b[0m dim, mean, cov \u001b[39m=\u001b[39m \u001b[39mself\u001b[39m\u001b[39m.\u001b[39m_process_parameters_psd(\u001b[39mNone\u001b[39;00m, mean, cov)\n\u001b[1;32m    416\u001b[0m \u001b[39m# After input validation, some methods then processed the arrays\u001b[39;00m\n\u001b[1;32m    417\u001b[0m \u001b[39m# with a `_PSD` object and used that to perform computation.\u001b[39;00m\n\u001b[1;32m    418\u001b[0m \u001b[39m# To avoid branching statements in each method depending on whether\u001b[39;00m\n\u001b[1;32m    419\u001b[0m \u001b[39m# `cov` is an array or `Covariance` object, we always process the\u001b[39;00m\n\u001b[1;32m    420\u001b[0m \u001b[39m# array with `_PSD`, and then use wrapper that satisfies the\u001b[39;00m\n\u001b[1;32m    421\u001b[0m \u001b[39m# `Covariance` interface, `CovViaPSD`.\u001b[39;00m\n\u001b[0;32m--> 422\u001b[0m psd \u001b[39m=\u001b[39m _PSD(cov, allow_singular\u001b[39m=\u001b[39;49mallow_singular)\n\u001b[1;32m    423\u001b[0m cov_object \u001b[39m=\u001b[39m _covariance\u001b[39m.\u001b[39mCovViaPSD(psd)\n\u001b[1;32m    424\u001b[0m \u001b[39mreturn\u001b[39;00m dim, mean, cov_object\n",
      "File \u001b[0;32m/usr/local/lib/python3.11/site-packages/scipy/stats/_multivariate.py:167\u001b[0m, in \u001b[0;36m_PSD.__init__\u001b[0;34m(self, M, cond, rcond, lower, check_finite, allow_singular)\u001b[0m\n\u001b[1;32m    162\u001b[0m \u001b[39mself\u001b[39m\u001b[39m.\u001b[39m_M \u001b[39m=\u001b[39m np\u001b[39m.\u001b[39masarray(M)\n\u001b[1;32m    164\u001b[0m \u001b[39m# Compute the symmetric eigendecomposition.\u001b[39;00m\n\u001b[1;32m    165\u001b[0m \u001b[39m# Note that eigh takes care of array conversion, chkfinite,\u001b[39;00m\n\u001b[1;32m    166\u001b[0m \u001b[39m# and assertion that the matrix is square.\u001b[39;00m\n\u001b[0;32m--> 167\u001b[0m s, u \u001b[39m=\u001b[39m scipy\u001b[39m.\u001b[39;49mlinalg\u001b[39m.\u001b[39;49meigh(M, lower\u001b[39m=\u001b[39;49mlower, check_finite\u001b[39m=\u001b[39;49mcheck_finite)\n\u001b[1;32m    169\u001b[0m eps \u001b[39m=\u001b[39m _eigvalsh_to_eps(s, cond, rcond)\n\u001b[1;32m    170\u001b[0m \u001b[39mif\u001b[39;00m np\u001b[39m.\u001b[39mmin(s) \u001b[39m<\u001b[39m \u001b[39m-\u001b[39meps:\n",
      "File \u001b[0;32m/usr/local/lib/python3.11/site-packages/scipy/linalg/_decomp.py:552\u001b[0m, in \u001b[0;36meigh\u001b[0;34m(a, b, lower, eigvals_only, overwrite_a, overwrite_b, turbo, eigvals, type, check_finite, subset_by_index, subset_by_value, driver)\u001b[0m\n\u001b[1;32m    549\u001b[0m \u001b[39mif\u001b[39;00m driver \u001b[39m==\u001b[39m \u001b[39m'\u001b[39m\u001b[39mevd\u001b[39m\u001b[39m'\u001b[39m:\n\u001b[1;32m    550\u001b[0m     clw_args\u001b[39m.\u001b[39mupdate({\u001b[39m'\u001b[39m\u001b[39mcompute_v\u001b[39m\u001b[39m'\u001b[39m: \u001b[39m0\u001b[39m \u001b[39mif\u001b[39;00m _job \u001b[39m==\u001b[39m \u001b[39m\"\u001b[39m\u001b[39mN\u001b[39m\u001b[39m\"\u001b[39m \u001b[39melse\u001b[39;00m \u001b[39m1\u001b[39m})\n\u001b[0;32m--> 552\u001b[0m lw \u001b[39m=\u001b[39m _compute_lwork(drvlw, \u001b[39m*\u001b[39;49m\u001b[39m*\u001b[39;49mclw_args)\n\u001b[1;32m    553\u001b[0m \u001b[39m# Multiple lwork vars\u001b[39;00m\n\u001b[1;32m    554\u001b[0m \u001b[39mif\u001b[39;00m \u001b[39misinstance\u001b[39m(lw, \u001b[39mtuple\u001b[39m):\n",
      "File \u001b[0;32m/usr/local/lib/python3.11/site-packages/scipy/linalg/lapack.py:1010\u001b[0m, in \u001b[0;36m_compute_lwork\u001b[0;34m(routine, *args, **kwargs)\u001b[0m\n\u001b[1;32m   1008\u001b[0m     \u001b[39mreturn\u001b[39;00m _check_work_float(ret[\u001b[39m0\u001b[39m]\u001b[39m.\u001b[39mreal, dtype, int_dtype)\n\u001b[1;32m   1009\u001b[0m \u001b[39melse\u001b[39;00m:\n\u001b[0;32m-> 1010\u001b[0m     \u001b[39mreturn\u001b[39;00m \u001b[39mtuple\u001b[39m(_check_work_float(x\u001b[39m.\u001b[39mreal, dtype, int_dtype)\n\u001b[1;32m   1011\u001b[0m                  \u001b[39mfor\u001b[39;00m x \u001b[39min\u001b[39;00m ret[:\u001b[39m-\u001b[39m\u001b[39m1\u001b[39m])\n",
      "File \u001b[0;32m/usr/local/lib/python3.11/site-packages/scipy/linalg/lapack.py:1010\u001b[0m, in \u001b[0;36m<genexpr>\u001b[0;34m(.0)\u001b[0m\n\u001b[1;32m   1008\u001b[0m     \u001b[39mreturn\u001b[39;00m _check_work_float(ret[\u001b[39m0\u001b[39m]\u001b[39m.\u001b[39mreal, dtype, int_dtype)\n\u001b[1;32m   1009\u001b[0m \u001b[39melse\u001b[39;00m:\n\u001b[0;32m-> 1010\u001b[0m     \u001b[39mreturn\u001b[39;00m \u001b[39mtuple\u001b[39m(_check_work_float(x\u001b[39m.\u001b[39mreal, dtype, int_dtype)\n\u001b[1;32m   1011\u001b[0m                  \u001b[39mfor\u001b[39;00m x \u001b[39min\u001b[39;00m ret[:\u001b[39m-\u001b[39m\u001b[39m1\u001b[39m])\n",
      "\u001b[0;31mKeyboardInterrupt\u001b[0m: "
     ]
    }
   ],
   "source": [
    "theta_min = theta_true - 5\n",
    "theta_max = theta_true + 5\n",
    "step = 0.2\n",
    "num_points = int((theta_max - theta_min) / step)\n",
    "theta_values = np.linspace(theta_min, theta_max, num_points)\n",
    "methode = 'ML_SS'\n",
    "\n",
    "n_runs = 5\n",
    "\n",
    "true_gradient_values = [Code.true_grad(x, theta) for theta in theta_values]\n",
    "\n",
    "estimated_grad = []\n",
    "\n",
    "# Calcul des vraisemblances estimées et stockage des résultats pour chaque exécution\n",
    "progress_bar = tqdm(total=len(theta_values), desc='Progression', position=0)\n",
    "for theta in theta_values:\n",
    "    grad = []\n",
    "    for _ in range(n_runs):\n",
    "        grad.append(Code.grad_ML_SS(r, x, noised_A, noised_b, theta, n_simulations))\n",
    "    estimated_grad.append(grad)\n",
    "    time.sleep(0.01)\n",
    "    progress_bar.update(1)\n",
    "progress_bar.close()\n",
    "\n",
    "# Création de la figure\n",
    "plt.figure(figsize=(15, 8))\n",
    "\n",
    "# Tracé de la vraisemblance réelle\n",
    "plt.plot(theta_values, true_gradient_values, color='blue', label='Gradient réel')\n",
    "\n",
    "# Tracé de la vraisemblance estimée\n",
    "plt.scatter(theta_values, [np.median(x) for x in estimated_grad], color='red', label='Estimation moyenne')\n",
    "\n",
    "# Ajout des boxplots\n",
    "plt.boxplot(estimated_grad, positions=theta_values, widths=0.1, showfliers=False, patch_artist=True, notch=False, showmeans=True, boxprops=dict(facecolor='orange'))\n",
    "\n",
    "# Ligne verticale pour la valeur de theta_true vrai\n",
    "plt.axvline(x=theta_true, color='black', linestyle='--', label=f'Theta={theta_true}')\n",
    "\n",
    "# Mise en forme de la figure\n",
    "plt.title(f'Estimation du gradient par {methode} avec incertitude pour {n_runs} répétitions')\n",
    "plt.xlabel('Theta')\n",
    "plt.ylabel('Gradient')\n",
    "plt.legend()\n",
    "plt.grid(True)\n",
    "plt.xticks(np.arange(min(theta_values), max(theta_values)+1, 2))\n",
    "\n",
    "\n",
    "# Affichage de la figure\n",
    "plt.show()"
   ]
  },
  {
   "cell_type": "markdown",
   "metadata": {},
   "source": [
    "#### <span style=\"color:red\">  **1.1.2 Estimateur ML-RR**  </span>"
   ]
  },
  {
   "cell_type": "code",
   "execution_count": 10,
   "metadata": {},
   "outputs": [
    {
     "name": "stderr",
     "output_type": "stream",
     "text": [
      "Progression: 100%|██████████| 30/30 [00:21<00:00,  1.38it/s]\n"
     ]
    },
    {
     "data": {
      "image/png": "[encoded data removed]",
      "text/plain": [
       "<Figure size 1500x800 with 1 Axes>"
      ]
     },
     "metadata": {},
     "output_type": "display_data"
    }
   ],
   "source": [
    "n_simulations = 15\n",
    "r = 0.6\n",
    "\n",
    "Code.plot_errors_likelihood(r, theta_true, x, noised_A, noised_b, n_simulations,  5, 'ML_RR')"
   ]
  },
  {
   "cell_type": "code",
   "execution_count": 11,
   "metadata": {},
   "outputs": [
    {
     "name": "stderr",
     "output_type": "stream",
     "text": [
      "/Users/khelifanail/MLMC_Unibaised_Gradient_Estimation_for_Deep_LVM/Code.py:254: RuntimeWarning:\n",
      "\n",
      "divide by zero encountered in log\n",
      "\n",
      "/Users/khelifanail/MLMC_Unibaised_Gradient_Estimation_for_Deep_LVM/Code.py:258: RuntimeWarning:\n",
      "\n",
      "divide by zero encountered in log\n",
      "\n",
      "/Users/khelifanail/MLMC_Unibaised_Gradient_Estimation_for_Deep_LVM/Code.py:256: RuntimeWarning:\n",
      "\n",
      "divide by zero encountered in log\n",
      "\n",
      "/Users/khelifanail/MLMC_Unibaised_Gradient_Estimation_for_Deep_LVM/Code.py:257: RuntimeWarning:\n",
      "\n",
      "divide by zero encountered in log\n",
      "\n",
      "/Users/khelifanail/MLMC_Unibaised_Gradient_Estimation_for_Deep_LVM/Code.py:266: RuntimeWarning:\n",
      "\n",
      "invalid value encountered in scalar add\n",
      "\n"
     ]
    },
    {
     "data": {
      "application/vnd.plotly.v1+json": {
       "config": {
        "plotlyServerURL": "https://plot.ly"
       },
       "data": [
        {
         "line": {
          "color": "red"
         },
         "mode": "lines",
         "name": "True Gradient",
         "type": "scatter",
         "x": [
          -3.978696530418527,
          -3.774614897765466,
          -3.5705332651124047,
          -3.366451632459343,
          -3.162369999806282,
          -2.958288367153221,
          -2.7542067345001597,
          -2.5501251018470983,
          -2.3460434691940373,
          -2.1419618365409763,
          -1.9378802038879148,
          -1.7337985712348534,
          -1.5297169385817924,
          -1.3256353059287314,
          -1.12155367327567,
          -0.9174720406226085,
          -0.7133904079695474,
          -0.5093087753164864,
          -0.305227142663425,
          -0.10114551001036354,
          0.10293612264269747,
          0.3070177552957585,
          0.5110993879488204,
          0.7151810206018814,
          0.9192626532549424,
          1.1233442859080034,
          1.3274259185610644,
          1.5315075512141263,
          1.7355891838671873,
          1.9396708165202483,
          2.14375244917331,
          2.347834081826371,
          2.551915714479432,
          2.7559973471324932,
          2.9600789797855542,
          3.164160612438616,
          3.368242245091677,
          3.572323877744738,
          3.7764055103978,
          3.980487143050861,
          4.184568775703922,
          4.388650408356983,
          4.592732041010044,
          4.796813673663105,
          5.000895306316168,
          5.204976938969229,
          5.40905857162229,
          5.613140204275351,
          5.817221836928412,
          6.021303469581473
         ],
         "y": [
          55.30842106263597,
          53.267604736105355,
          51.22678840957475,
          49.185972083044135,
          47.14515575651353,
          45.104339429982915,
          43.0635231034523,
          41.02270677692168,
          38.98189045039108,
          36.94107412386047,
          34.90025779732985,
          32.85944147079923,
          30.818625144268626,
          28.777808817738016,
          26.736992491207403,
          24.696176164676785,
          22.655359838146175,
          20.614543511615565,
          18.57372718508495,
          16.532910858554338,
          14.492094532023728,
          12.451278205493118,
          10.410461878962497,
          8.369645552431887,
          6.328829225901278,
          4.288012899370668,
          2.247196572840058,
          0.20638024630943885,
          -1.8344360802211712,
          -3.8752524067517813,
          -5.9160687332824,
          -7.95688505981301,
          -9.997701386343621,
          -12.038517712874231,
          -14.079334039404841,
          -16.12015036593546,
          -18.16096669246607,
          -20.20178301899668,
          -22.2425993455273,
          -24.28341567205791,
          -26.32423199858852,
          -28.36504832511913,
          -30.40586465164974,
          -32.446680978180346,
          -34.48749730471098,
          -36.52831363124159,
          -38.5691299577722,
          -40.60994628430281,
          -42.650762610833425,
          -44.69157893736403
         ]
        },
        {
         "marker": {
          "color": "purple",
          "symbol": "x"
         },
         "mode": "markers",
         "name": "ML_RR",
         "type": "scatter",
         "x": [
          -3.978696530418527,
          -3.774614897765466,
          -3.5705332651124047,
          -3.366451632459343,
          -3.162369999806282,
          -2.958288367153221,
          -2.7542067345001597,
          -2.5501251018470983,
          -2.3460434691940373,
          -2.1419618365409763,
          -1.9378802038879148,
          -1.7337985712348534,
          -1.5297169385817924,
          -1.3256353059287314,
          -1.12155367327567,
          -0.9174720406226085,
          -0.7133904079695474,
          -0.5093087753164864,
          -0.305227142663425,
          -0.10114551001036354,
          0.10293612264269747,
          0.3070177552957585,
          0.5110993879488204,
          0.7151810206018814,
          0.9192626532549424,
          1.1233442859080034,
          1.3274259185610644,
          1.5315075512141263,
          1.7355891838671873,
          1.9396708165202483,
          2.14375244917331,
          2.347834081826371,
          2.551915714479432,
          2.7559973471324932,
          2.9600789797855542,
          3.164160612438616,
          3.368242245091677,
          3.572323877744738,
          3.7764055103978,
          3.980487143050861,
          4.184568775703922,
          4.388650408356983,
          4.592732041010044,
          4.796813673663105,
          5.000895306316168,
          5.204976938969229,
          5.40905857162229,
          5.613140204275351,
          5.817221836928412,
          6.021303469581473
         ],
         "y": [
          37.04184744838767,
          64.16971341199883,
          29.666301293716543,
          37.76349837216168,
          612.13372593296,
          1.2781195880974536,
          -558.6816747888254,
          113.56411932211304,
          38.066922827844024,
          -77.85211119231131,
          25.33233806288233,
          83.14732359971913,
          -6.831705361731011,
          -55.84770581492059,
          15.986122511318946,
          9.5770977243914,
          13.915620438166112,
          4.608991110559188,
          42.20525093466459,
          6.725960643666568,
          -47.16673716302761,
          -2.660557344942138,
          0.5766232012328665,
          -2.0612069232208547,
          -0.6061739818161591,
          -1.8910875543279921,
          9.089195631945959,
          2.874772310687561,
          -18.53887189766418,
          -13.685660642642308,
          -11.46358449805198,
          -16.28802253023332,
          -3.672472643200436,
          -18.140556905553808,
          -35.31426808379124,
          -15.734350772165769,
          -1.2896508815441337,
          -5.268392559295492,
          -16.607872377913992,
          -47.1254603001409,
          12.490684840304652,
          2.0776099816335147,
          -52.254061199723125,
          -32.93300457655437,
          -76.92987170557598,
          -35.92005653518831,
          -34.97280526972531,
          -40.71562216601143,
          null,
          null
         ]
        }
       ],
       "layout": {
        "legend": {
         "font": {
          "size": 12
         },
         "traceorder": "normal",
         "x": 0,
         "y": 1
        },
        "shapes": [
         {
          "line": {
           "color": "black",
           "dash": "dash",
           "width": 2
          },
          "name": "theta=1.021303469581473",
          "type": "line",
          "x0": 1.021303469581473,
          "x1": 1.021303469581473,
          "y0": -558.6816747888254,
          "y1": 612.13372593296
         }
        ],
        "showlegend": true,
        "template": {
         "data": {
          "bar": [
           {
            "error_x": {
             "color": "#2a3f5f"
            },
            "error_y": {
             "color": "#2a3f5f"
            },
            "marker": {
             "line": {
              "color": "#E5ECF6",
              "width": 0.5
             },
             "pattern": {
              "fillmode": "overlay",
              "size": 10,
              "solidity": 0.2
             }
            },
            "type": "bar"
           }
          ],
          "barpolar": [
           {
            "marker": {
             "line": {
              "color": "#E5ECF6",
              "width": 0.5
             },
             "pattern": {
              "fillmode": "overlay",
              "size": 10,
              "solidity": 0.2
             }
            },
            "type": "barpolar"
           }
          ],
          "carpet": [
           {
            "aaxis": {
             "endlinecolor": "#2a3f5f",
             "gridcolor": "white",
             "linecolor": "white",
             "minorgridcolor": "white",
             "startlinecolor": "#2a3f5f"
            },
            "baxis": {
             "endlinecolor": "#2a3f5f",
             "gridcolor": "white",
             "linecolor": "white",
             "minorgridcolor": "white",
             "startlinecolor": "#2a3f5f"
            },
            "type": "carpet"
           }
          ],
          "choropleth": [
           {
            "colorbar": {
             "outlinewidth": 0,
             "ticks": ""
            },
            "type": "choropleth"
           }
          ],
          "contour": [
           {
            "colorbar": {
             "outlinewidth": 0,
             "ticks": ""
            },
            "colorscale": [
             [
              0,
              "#0d0887"
             ],
             [
              0.1111111111111111,
              "#46039f"
             ],
             [
              0.2222222222222222,
              "#7201a8"
             ],
             [
              0.3333333333333333,
              "#9c179e"
             ],
             [
              0.4444444444444444,
              "#bd3786"
             ],
             [
              0.5555555555555556,
              "#d8576b"
             ],
             [
              0.6666666666666666,
              "#ed7953"
             ],
             [
              0.7777777777777778,
              "#fb9f3a"
             ],
             [
              0.8888888888888888,
              "#fdca26"
             ],
             [
              1,
              "#f0f921"
             ]
            ],
            "type": "contour"
           }
          ],
          "contourcarpet": [
           {
            "colorbar": {
             "outlinewidth": 0,
             "ticks": ""
            },
            "type": "contourcarpet"
           }
          ],
          "heatmap": [
           {
            "colorbar": {
             "outlinewidth": 0,
             "ticks": ""
            },
            "colorscale": [
             [
              0,
              "#0d0887"
             ],
             [
              0.1111111111111111,
              "#46039f"
             ],
             [
              0.2222222222222222,
              "#7201a8"
             ],
             [
              0.3333333333333333,
              "#9c179e"
             ],
             [
              0.4444444444444444,
              "#bd3786"
             ],
             [
              0.5555555555555556,
              "#d8576b"
             ],
             [
              0.6666666666666666,
              "#ed7953"
             ],
             [
              0.7777777777777778,
              "#fb9f3a"
             ],
             [
              0.8888888888888888,
              "#fdca26"
             ],
             [
              1,
              "#f0f921"
             ]
            ],
            "type": "heatmap"
           }
          ],
          "heatmapgl": [
           {
            "colorbar": {
             "outlinewidth": 0,
             "ticks": ""
            },
            "colorscale": [
             [
              0,
              "#0d0887"
             ],
             [
              0.1111111111111111,
              "#46039f"
             ],
             [
              0.2222222222222222,
              "#7201a8"
             ],
             [
              0.3333333333333333,
              "#9c179e"
             ],
             [
              0.4444444444444444,
              "#bd3786"
             ],
             [
              0.5555555555555556,
              "#d8576b"
             ],
             [
              0.6666666666666666,
              "#ed7953"
             ],
             [
              0.7777777777777778,
              "#fb9f3a"
             ],
             [
              0.8888888888888888,
              "#fdca26"
             ],
             [
              1,
              "#f0f921"
             ]
            ],
            "type": "heatmapgl"
           }
          ],
          "histogram": [
           {
            "marker": {
             "pattern": {
              "fillmode": "overlay",
              "size": 10,
              "solidity": 0.2
             }
            },
            "type": "histogram"
           }
          ],
          "histogram2d": [
           {
            "colorbar": {
             "outlinewidth": 0,
             "ticks": ""
            },
            "colorscale": [
             [
              0,
              "#0d0887"
             ],
             [
              0.1111111111111111,
              "#46039f"
             ],
             [
              0.2222222222222222,
              "#7201a8"
             ],
             [
              0.3333333333333333,
              "#9c179e"
             ],
             [
              0.4444444444444444,
              "#bd3786"
             ],
             [
              0.5555555555555556,
              "#d8576b"
             ],
             [
              0.6666666666666666,
              "#ed7953"
             ],
             [
              0.7777777777777778,
              "#fb9f3a"
             ],
             [
              0.8888888888888888,
              "#fdca26"
             ],
             [
              1,
              "#f0f921"
             ]
            ],
            "type": "histogram2d"
           }
          ],
          "histogram2dcontour": [
           {
            "colorbar": {
             "outlinewidth": 0,
             "ticks": ""
            },
            "colorscale": [
             [
              0,
              "#0d0887"
             ],
             [
              0.1111111111111111,
              "#46039f"
             ],
             [
              0.2222222222222222,
              "#7201a8"
             ],
             [
              0.3333333333333333,
              "#9c179e"
             ],
             [
              0.4444444444444444,
              "#bd3786"
             ],
             [
              0.5555555555555556,
              "#d8576b"
             ],
             [
              0.6666666666666666,
              "#ed7953"
             ],
             [
              0.7777777777777778,
              "#fb9f3a"
             ],
             [
              0.8888888888888888,
              "#fdca26"
             ],
             [
              1,
              "#f0f921"
             ]
            ],
            "type": "histogram2dcontour"
           }
          ],
          "mesh3d": [
           {
            "colorbar": {
             "outlinewidth": 0,
             "ticks": ""
            },
            "type": "mesh3d"
           }
          ],
          "parcoords": [
           {
            "line": {
             "colorbar": {
              "outlinewidth": 0,
              "ticks": ""
             }
            },
            "type": "parcoords"
           }
          ],
          "pie": [
           {
            "automargin": true,
            "type": "pie"
           }
          ],
          "scatter": [
           {
            "fillpattern": {
             "fillmode": "overlay",
             "size": 10,
             "solidity": 0.2
            },
            "type": "scatter"
           }
          ],
          "scatter3d": [
           {
            "line": {
             "colorbar": {
              "outlinewidth": 0,
              "ticks": ""
             }
            },
            "marker": {
             "colorbar": {
              "outlinewidth": 0,
              "ticks": ""
             }
            },
            "type": "scatter3d"
           }
          ],
          "scattercarpet": [
           {
            "marker": {
             "colorbar": {
              "outlinewidth": 0,
              "ticks": ""
             }
            },
            "type": "scattercarpet"
           }
          ],
          "scattergeo": [
           {
            "marker": {
             "colorbar": {
              "outlinewidth": 0,
              "ticks": ""
             }
            },
            "type": "scattergeo"
           }
          ],
          "scattergl": [
           {
            "marker": {
             "colorbar": {
              "outlinewidth": 0,
              "ticks": ""
             }
            },
            "type": "scattergl"
           }
          ],
          "scattermapbox": [
           {
            "marker": {
             "colorbar": {
              "outlinewidth": 0,
              "ticks": ""
             }
            },
            "type": "scattermapbox"
           }
          ],
          "scatterpolar": [
           {
            "marker": {
             "colorbar": {
              "outlinewidth": 0,
              "ticks": ""
             }
            },
            "type": "scatterpolar"
           }
          ],
          "scatterpolargl": [
           {
            "marker": {
             "colorbar": {
              "outlinewidth": 0,
              "ticks": ""
             }
            },
            "type": "scatterpolargl"
           }
          ],
          "scatterternary": [
           {
            "marker": {
             "colorbar": {
              "outlinewidth": 0,
              "ticks": ""
             }
            },
            "type": "scatterternary"
           }
          ],
          "surface": [
           {
            "colorbar": {
             "outlinewidth": 0,
             "ticks": ""
            },
            "colorscale": [
             [
              0,
              "#0d0887"
             ],
             [
              0.1111111111111111,
              "#46039f"
             ],
             [
              0.2222222222222222,
              "#7201a8"
             ],
             [
              0.3333333333333333,
              "#9c179e"
             ],
             [
              0.4444444444444444,
              "#bd3786"
             ],
             [
              0.5555555555555556,
              "#d8576b"
             ],
             [
              0.6666666666666666,
              "#ed7953"
             ],
             [
              0.7777777777777778,
              "#fb9f3a"
             ],
             [
              0.8888888888888888,
              "#fdca26"
             ],
             [
              1,
              "#f0f921"
             ]
            ],
            "type": "surface"
           }
          ],
          "table": [
           {
            "cells": {
             "fill": {
              "color": "#EBF0F8"
             },
             "line": {
              "color": "white"
             }
            },
            "header": {
             "fill": {
              "color": "#C8D4E3"
             },
             "line": {
              "color": "white"
             }
            },
            "type": "table"
           }
          ]
         },
         "layout": {
          "annotationdefaults": {
           "arrowcolor": "#2a3f5f",
           "arrowhead": 0,
           "arrowwidth": 1
          },
          "autotypenumbers": "strict",
          "coloraxis": {
           "colorbar": {
            "outlinewidth": 0,
            "ticks": ""
           }
          },
          "colorscale": {
           "diverging": [
            [
             0,
             "#8e0152"
            ],
            [
             0.1,
             "#c51b7d"
            ],
            [
             0.2,
             "#de77ae"
            ],
            [
             0.3,
             "#f1b6da"
            ],
            [
             0.4,
             "#fde0ef"
            ],
            [
             0.5,
             "#f7f7f7"
            ],
            [
             0.6,
             "#e6f5d0"
            ],
            [
             0.7,
             "#b8e186"
            ],
            [
             0.8,
             "#7fbc41"
            ],
            [
             0.9,
             "#4d9221"
            ],
            [
             1,
             "#276419"
            ]
           ],
           "sequential": [
            [
             0,
             "#0d0887"
            ],
            [
             0.1111111111111111,
             "#46039f"
            ],
            [
             0.2222222222222222,
             "#7201a8"
            ],
            [
             0.3333333333333333,
             "#9c179e"
            ],
            [
             0.4444444444444444,
             "#bd3786"
            ],
            [
             0.5555555555555556,
             "#d8576b"
            ],
            [
             0.6666666666666666,
             "#ed7953"
            ],
            [
             0.7777777777777778,
             "#fb9f3a"
            ],
            [
             0.8888888888888888,
             "#fdca26"
            ],
            [
             1,
             "#f0f921"
            ]
           ],
           "sequentialminus": [
            [
             0,
             "#0d0887"
            ],
            [
             0.1111111111111111,
             "#46039f"
            ],
            [
             0.2222222222222222,
             "#7201a8"
            ],
            [
             0.3333333333333333,
             "#9c179e"
            ],
            [
             0.4444444444444444,
             "#bd3786"
            ],
            [
             0.5555555555555556,
             "#d8576b"
            ],
            [
             0.6666666666666666,
             "#ed7953"
            ],
            [
             0.7777777777777778,
             "#fb9f3a"
            ],
            [
             0.8888888888888888,
             "#fdca26"
            ],
            [
             1,
             "#f0f921"
            ]
           ]
          },
          "colorway": [
           "#636efa",
           "#EF553B",
           "#00cc96",
           "#ab63fa",
           "#FFA15A",
           "#19d3f3",
           "#FF6692",
           "#B6E880",
           "#FF97FF",
           "#FECB52"
          ],
          "font": {
           "color": "#2a3f5f"
          },
          "geo": {
           "bgcolor": "white",
           "lakecolor": "white",
           "landcolor": "#E5ECF6",
           "showlakes": true,
           "showland": true,
           "subunitcolor": "white"
          },
          "hoverlabel": {
           "align": "left"
          },
          "hovermode": "closest",
          "mapbox": {
           "style": "light"
          },
          "paper_bgcolor": "white",
          "plot_bgcolor": "#E5ECF6",
          "polar": {
           "angularaxis": {
            "gridcolor": "white",
            "linecolor": "white",
            "ticks": ""
           },
           "bgcolor": "#E5ECF6",
           "radialaxis": {
            "gridcolor": "white",
            "linecolor": "white",
            "ticks": ""
           }
          },
          "scene": {
           "xaxis": {
            "backgroundcolor": "#E5ECF6",
            "gridcolor": "white",
            "gridwidth": 2,
            "linecolor": "white",
            "showbackground": true,
            "ticks": "",
            "zerolinecolor": "white"
           },
           "yaxis": {
            "backgroundcolor": "#E5ECF6",
            "gridcolor": "white",
            "gridwidth": 2,
            "linecolor": "white",
            "showbackground": true,
            "ticks": "",
            "zerolinecolor": "white"
           },
           "zaxis": {
            "backgroundcolor": "#E5ECF6",
            "gridcolor": "white",
            "gridwidth": 2,
            "linecolor": "white",
            "showbackground": true,
            "ticks": "",
            "zerolinecolor": "white"
           }
          },
          "shapedefaults": {
           "line": {
            "color": "#2a3f5f"
           }
          },
          "ternary": {
           "aaxis": {
            "gridcolor": "white",
            "linecolor": "white",
            "ticks": ""
           },
           "baxis": {
            "gridcolor": "white",
            "linecolor": "white",
            "ticks": ""
           },
           "bgcolor": "#E5ECF6",
           "caxis": {
            "gridcolor": "white",
            "linecolor": "white",
            "ticks": ""
           }
          },
          "title": {
           "x": 0.05
          },
          "xaxis": {
           "automargin": true,
           "gridcolor": "white",
           "linecolor": "white",
           "ticks": "",
           "title": {
            "standoff": 15
           },
           "zerolinecolor": "white",
           "zerolinewidth": 2
          },
          "yaxis": {
           "automargin": true,
           "gridcolor": "white",
           "linecolor": "white",
           "ticks": "",
           "title": {
            "standoff": 15
           },
           "zerolinecolor": "white",
           "zerolinewidth": 2
          }
         }
        },
        "title": {
         "text": "Estimation du gradient par ML_RR"
        },
        "xaxis": {
         "title": {
          "text": "Theta"
         }
        },
        "yaxis": {
         "title": {
          "text": "Gradient"
         }
        }
       }
      }
     },
     "metadata": {},
     "output_type": "display_data"
    }
   ],
   "source": [
    "Code.plot_gradient(0.6, x, noised_A, noised_b, theta_true, 15, \"ML_RR\")"
   ]
  },
  {
   "cell_type": "markdown",
   "metadata": {},
   "source": [
    "### <span style=\"color:orange\">  **1.2 L'estimateurs SUMO (Stochastically Unbiased Marginalization Objective (SUMO))**  </span>\n",
    "\n",
    "On pose \n",
    "\\begin{align*}\n",
    "\\Delta^{\\text{SUMO}}_k &:= \\hat{\\ell}^{(k+2)}(\\boldsymbol{\\theta}) - \\hat{\\ell}^{(k+1)}(\\boldsymbol{\\theta})\\\\\n",
    "&:= \\log \\left( \\frac{1}{k+2} \\sum_{i=1}^{k+2} w(\\boldsymbol{z}_i) \\right) - \\log \\left( \\frac{1}{k+1} \\sum_{i=1}^{k+1} w(\\boldsymbol{z}_i) \\right),\n",
    "\\end{align*}\n",
    "\n",
    "où on rappelle que $w(\\boldsymbol{z}) := \\frac{p_{\\boldsymbol{\\theta}}(\\boldsymbol{x}, \\boldsymbol{z})}{q_{\\phi}(\\boldsymbol{z}|\\boldsymbol{x})}$.\n",
    "\n",
    "On applique l'estimateur $RR$ pour construire notre estimateur, que nous appelons $\\textbf{SUMO}$ (Stochastically Unbiased Marginalization Objective) qui correspond précisément à l'estimateur de la roulette russe pour $\\Delta^{\\text{SUMO}}_k$. Ainsi, \n",
    "$$\n",
    "\\hat{\\ell}^{\\text{SUMO}}(\\boldsymbol{\\theta}) := I_0 + \\sum^K_{k=0} \\frac{\\Delta^{\\text{SUMO}}_k}{P(\\mathcal{K} \\geq k)}\n",
    "$$\n",
    "    \n",
    "où $\\mathcal{K} \\sim p(\\cdot)$ une distrubtion de support dans $\\mathbb{N}$"
   ]
  },
  {
   "cell_type": "code",
   "execution_count": 12,
   "metadata": {},
   "outputs": [
    {
     "name": "stderr",
     "output_type": "stream",
     "text": [
      "Progression: 100%|██████████| 30/30 [00:44<00:00,  1.49s/it]\n"
     ]
    },
    {
     "data": {
      "image/png": "[encoded data removed]",
      "text/plain": [
       "<Figure size 1500x800 with 1 Axes>"
      ]
     },
     "metadata": {},
     "output_type": "display_data"
    }
   ],
   "source": [
    "n_simulations = 15 \n",
    "r = 0.6\n",
    "\n",
    "Code.plot_errors_likelihood(r, theta_true, x, noised_A, noised_b, n_simulations,  5, 'SUMO')"
   ]
  },
  {
   "cell_type": "code",
   "execution_count": 13,
   "metadata": {},
   "outputs": [
    {
     "name": "stderr",
     "output_type": "stream",
     "text": [
      "/Users/khelifanail/MLMC_Unibaised_Gradient_Estimation_for_Deep_LVM/Code.py:185: RuntimeWarning:\n",
      "\n",
      "divide by zero encountered in log\n",
      "\n",
      "/Users/khelifanail/MLMC_Unibaised_Gradient_Estimation_for_Deep_LVM/Code.py:188: RuntimeWarning:\n",
      "\n",
      "divide by zero encountered in log\n",
      "\n",
      "/Users/khelifanail/MLMC_Unibaised_Gradient_Estimation_for_Deep_LVM/Code.py:193: RuntimeWarning:\n",
      "\n",
      "invalid value encountered in scalar add\n",
      "\n"
     ]
    },
    {
     "data": {
      "application/vnd.plotly.v1+json": {
       "config": {
        "plotlyServerURL": "https://plot.ly"
       },
       "data": [
        {
         "line": {
          "color": "red"
         },
         "mode": "lines",
         "name": "True Gradient",
         "type": "scatter",
         "x": [
          -3.978696530418527,
          -3.774614897765466,
          -3.5705332651124047,
          -3.366451632459343,
          -3.162369999806282,
          -2.958288367153221,
          -2.7542067345001597,
          -2.5501251018470983,
          -2.3460434691940373,
          -2.1419618365409763,
          -1.9378802038879148,
          -1.7337985712348534,
          -1.5297169385817924,
          -1.3256353059287314,
          -1.12155367327567,
          -0.9174720406226085,
          -0.7133904079695474,
          -0.5093087753164864,
          -0.305227142663425,
          -0.10114551001036354,
          0.10293612264269747,
          0.3070177552957585,
          0.5110993879488204,
          0.7151810206018814,
          0.9192626532549424,
          1.1233442859080034,
          1.3274259185610644,
          1.5315075512141263,
          1.7355891838671873,
          1.9396708165202483,
          2.14375244917331,
          2.347834081826371,
          2.551915714479432,
          2.7559973471324932,
          2.9600789797855542,
          3.164160612438616,
          3.368242245091677,
          3.572323877744738,
          3.7764055103978,
          3.980487143050861,
          4.184568775703922,
          4.388650408356983,
          4.592732041010044,
          4.796813673663105,
          5.000895306316168,
          5.204976938969229,
          5.40905857162229,
          5.613140204275351,
          5.817221836928412,
          6.021303469581473
         ],
         "y": [
          55.30842106263597,
          53.267604736105355,
          51.22678840957475,
          49.185972083044135,
          47.14515575651353,
          45.104339429982915,
          43.0635231034523,
          41.02270677692168,
          38.98189045039108,
          36.94107412386047,
          34.90025779732985,
          32.85944147079923,
          30.818625144268626,
          28.777808817738016,
          26.736992491207403,
          24.696176164676785,
          22.655359838146175,
          20.614543511615565,
          18.57372718508495,
          16.532910858554338,
          14.492094532023728,
          12.451278205493118,
          10.410461878962497,
          8.369645552431887,
          6.328829225901278,
          4.288012899370668,
          2.247196572840058,
          0.20638024630943885,
          -1.8344360802211712,
          -3.8752524067517813,
          -5.9160687332824,
          -7.95688505981301,
          -9.997701386343621,
          -12.038517712874231,
          -14.079334039404841,
          -16.12015036593546,
          -18.16096669246607,
          -20.20178301899668,
          -22.2425993455273,
          -24.28341567205791,
          -26.32423199858852,
          -28.36504832511913,
          -30.40586465164974,
          -32.446680978180346,
          -34.48749730471098,
          -36.52831363124159,
          -38.5691299577722,
          -40.60994628430281,
          -42.650762610833425,
          -44.69157893736403
         ]
        },
        {
         "marker": {
          "color": "purple",
          "symbol": "x"
         },
         "mode": "markers",
         "name": "SUMO",
         "type": "scatter",
         "x": [
          -3.978696530418527,
          -3.774614897765466,
          -3.5705332651124047,
          -3.366451632459343,
          -3.162369999806282,
          -2.958288367153221,
          -2.7542067345001597,
          -2.5501251018470983,
          -2.3460434691940373,
          -2.1419618365409763,
          -1.9378802038879148,
          -1.7337985712348534,
          -1.5297169385817924,
          -1.3256353059287314,
          -1.12155367327567,
          -0.9174720406226085,
          -0.7133904079695474,
          -0.5093087753164864,
          -0.305227142663425,
          -0.10114551001036354,
          0.10293612264269747,
          0.3070177552957585,
          0.5110993879488204,
          0.7151810206018814,
          0.9192626532549424,
          1.1233442859080034,
          1.3274259185610644,
          1.5315075512141263,
          1.7355891838671873,
          1.9396708165202483,
          2.14375244917331,
          2.347834081826371,
          2.551915714479432,
          2.7559973471324932,
          2.9600789797855542,
          3.164160612438616,
          3.368242245091677,
          3.572323877744738,
          3.7764055103978,
          3.980487143050861,
          4.184568775703922,
          4.388650408356983,
          4.592732041010044,
          4.796813673663105,
          5.000895306316168,
          5.204976938969229,
          5.40905857162229,
          5.613140204275351,
          5.817221836928412,
          6.021303469581473
         ],
         "y": [
          38.75634093347219,
          41.66309870894679,
          29.648702789992853,
          32.29437053355855,
          53.96658122560282,
          22.509061911491983,
          24.632780124184094,
          64.68561009342761,
          4.986010817897764,
          -11.069058821206369,
          33.67289095335218,
          8.787647477495241,
          7.419401508882764,
          16.19773505848724,
          7.404068613205823,
          10.48536520094622,
          11.030626125244488,
          13.846938774081323,
          5.459785788049125,
          0.8123715988158651,
          3.1496167529774652,
          2.024541583997518,
          1.6713964448103233,
          -0.1360545563542317,
          1.6696005336970927,
          -5.051446391334039,
          -15.539612121453946,
          -8.810025760666115,
          -3.1451581792595604,
          -10.775864383433387,
          -15.809892098438503,
          -14.04354715667143,
          -7.8832386814003,
          12.257622477736042,
          -27.621049172135855,
          -33.941321220138526,
          -17.846616252198544,
          -35.96816065276593,
          -32.063220777657946,
          -14.613488014564965,
          -30.324403155137873,
          -43.136952551039684,
          -30.23072463321995,
          3.8990550293084993,
          -32.8210717148516,
          -77.98249042237532,
          30.09416761403739,
          null,
          null,
          null
         ]
        }
       ],
       "layout": {
        "legend": {
         "font": {
          "size": 12
         },
         "traceorder": "normal",
         "x": 0,
         "y": 1
        },
        "shapes": [
         {
          "line": {
           "color": "black",
           "dash": "dash",
           "width": 2
          },
          "name": "theta=1.021303469581473",
          "type": "line",
          "x0": 1.021303469581473,
          "x1": 1.021303469581473,
          "y0": null,
          "y1": 64.68561009342761
         }
        ],
        "showlegend": true,
        "template": {
         "data": {
          "bar": [
           {
            "error_x": {
             "color": "#2a3f5f"
            },
            "error_y": {
             "color": "#2a3f5f"
            },
            "marker": {
             "line": {
              "color": "#E5ECF6",
              "width": 0.5
             },
             "pattern": {
              "fillmode": "overlay",
              "size": 10,
              "solidity": 0.2
             }
            },
            "type": "bar"
           }
          ],
          "barpolar": [
           {
            "marker": {
             "line": {
              "color": "#E5ECF6",
              "width": 0.5
             },
             "pattern": {
              "fillmode": "overlay",
              "size": 10,
              "solidity": 0.2
             }
            },
            "type": "barpolar"
           }
          ],
          "carpet": [
           {
            "aaxis": {
             "endlinecolor": "#2a3f5f",
             "gridcolor": "white",
             "linecolor": "white",
             "minorgridcolor": "white",
             "startlinecolor": "#2a3f5f"
            },
            "baxis": {
             "endlinecolor": "#2a3f5f",
             "gridcolor": "white",
             "linecolor": "white",
             "minorgridcolor": "white",
             "startlinecolor": "#2a3f5f"
            },
            "type": "carpet"
           }
          ],
          "choropleth": [
           {
            "colorbar": {
             "outlinewidth": 0,
             "ticks": ""
            },
            "type": "choropleth"
           }
          ],
          "contour": [
           {
            "colorbar": {
             "outlinewidth": 0,
             "ticks": ""
            },
            "colorscale": [
             [
              0,
              "#0d0887"
             ],
             [
              0.1111111111111111,
              "#46039f"
             ],
             [
              0.2222222222222222,
              "#7201a8"
             ],
             [
              0.3333333333333333,
              "#9c179e"
             ],
             [
              0.4444444444444444,
              "#bd3786"
             ],
             [
              0.5555555555555556,
              "#d8576b"
             ],
             [
              0.6666666666666666,
              "#ed7953"
             ],
             [
              0.7777777777777778,
              "#fb9f3a"
             ],
             [
              0.8888888888888888,
              "#fdca26"
             ],
             [
              1,
              "#f0f921"
             ]
            ],
            "type": "contour"
           }
          ],
          "contourcarpet": [
           {
            "colorbar": {
             "outlinewidth": 0,
             "ticks": ""
            },
            "type": "contourcarpet"
           }
          ],
          "heatmap": [
           {
            "colorbar": {
             "outlinewidth": 0,
             "ticks": ""
            },
            "colorscale": [
             [
              0,
              "#0d0887"
             ],
             [
              0.1111111111111111,
              "#46039f"
             ],
             [
              0.2222222222222222,
              "#7201a8"
             ],
             [
              0.3333333333333333,
              "#9c179e"
             ],
             [
              0.4444444444444444,
              "#bd3786"
             ],
             [
              0.5555555555555556,
              "#d8576b"
             ],
             [
              0.6666666666666666,
              "#ed7953"
             ],
             [
              0.7777777777777778,
              "#fb9f3a"
             ],
             [
              0.8888888888888888,
              "#fdca26"
             ],
             [
              1,
              "#f0f921"
             ]
            ],
            "type": "heatmap"
           }
          ],
          "heatmapgl": [
           {
            "colorbar": {
             "outlinewidth": 0,
             "ticks": ""
            },
            "colorscale": [
             [
              0,
              "#0d0887"
             ],
             [
              0.1111111111111111,
              "#46039f"
             ],
             [
              0.2222222222222222,
              "#7201a8"
             ],
             [
              0.3333333333333333,
              "#9c179e"
             ],
             [
              0.4444444444444444,
              "#bd3786"
             ],
             [
              0.5555555555555556,
              "#d8576b"
             ],
             [
              0.6666666666666666,
              "#ed7953"
             ],
             [
              0.7777777777777778,
              "#fb9f3a"
             ],
             [
              0.8888888888888888,
              "#fdca26"
             ],
             [
              1,
              "#f0f921"
             ]
            ],
            "type": "heatmapgl"
           }
          ],
          "histogram": [
           {
            "marker": {
             "pattern": {
              "fillmode": "overlay",
              "size": 10,
              "solidity": 0.2
             }
            },
            "type": "histogram"
           }
          ],
          "histogram2d": [
           {
            "colorbar": {
             "outlinewidth": 0,
             "ticks": ""
            },
            "colorscale": [
             [
              0,
              "#0d0887"
             ],
             [
              0.1111111111111111,
              "#46039f"
             ],
             [
              0.2222222222222222,
              "#7201a8"
             ],
             [
              0.3333333333333333,
              "#9c179e"
             ],
             [
              0.4444444444444444,
              "#bd3786"
             ],
             [
              0.5555555555555556,
              "#d8576b"
             ],
             [
              0.6666666666666666,
              "#ed7953"
             ],
             [
              0.7777777777777778,
              "#fb9f3a"
             ],
             [
              0.8888888888888888,
              "#fdca26"
             ],
             [
              1,
              "#f0f921"
             ]
            ],
            "type": "histogram2d"
           }
          ],
          "histogram2dcontour": [
           {
            "colorbar": {
             "outlinewidth": 0,
             "ticks": ""
            },
            "colorscale": [
             [
              0,
              "#0d0887"
             ],
             [
              0.1111111111111111,
              "#46039f"
             ],
             [
              0.2222222222222222,
              "#7201a8"
             ],
             [
              0.3333333333333333,
              "#9c179e"
             ],
             [
              0.4444444444444444,
              "#bd3786"
             ],
             [
              0.5555555555555556,
              "#d8576b"
             ],
             [
              0.6666666666666666,
              "#ed7953"
             ],
             [
              0.7777777777777778,
              "#fb9f3a"
             ],
             [
              0.8888888888888888,
              "#fdca26"
             ],
             [
              1,
              "#f0f921"
             ]
            ],
            "type": "histogram2dcontour"
           }
          ],
          "mesh3d": [
           {
            "colorbar": {
             "outlinewidth": 0,
             "ticks": ""
            },
            "type": "mesh3d"
           }
          ],
          "parcoords": [
           {
            "line": {
             "colorbar": {
              "outlinewidth": 0,
              "ticks": ""
             }
            },
            "type": "parcoords"
           }
          ],
          "pie": [
           {
            "automargin": true,
            "type": "pie"
           }
          ],
          "scatter": [
           {
            "fillpattern": {
             "fillmode": "overlay",
             "size": 10,
             "solidity": 0.2
            },
            "type": "scatter"
           }
          ],
          "scatter3d": [
           {
            "line": {
             "colorbar": {
              "outlinewidth": 0,
              "ticks": ""
             }
            },
            "marker": {
             "colorbar": {
              "outlinewidth": 0,
              "ticks": ""
             }
            },
            "type": "scatter3d"
           }
          ],
          "scattercarpet": [
           {
            "marker": {
             "colorbar": {
              "outlinewidth": 0,
              "ticks": ""
             }
            },
            "type": "scattercarpet"
           }
          ],
          "scattergeo": [
           {
            "marker": {
             "colorbar": {
              "outlinewidth": 0,
              "ticks": ""
             }
            },
            "type": "scattergeo"
           }
          ],
          "scattergl": [
           {
            "marker": {
             "colorbar": {
              "outlinewidth": 0,
              "ticks": ""
             }
            },
            "type": "scattergl"
           }
          ],
          "scattermapbox": [
           {
            "marker": {
             "colorbar": {
              "outlinewidth": 0,
              "ticks": ""
             }
            },
            "type": "scattermapbox"
           }
          ],
          "scatterpolar": [
           {
            "marker": {
             "colorbar": {
              "outlinewidth": 0,
              "ticks": ""
             }
            },
            "type": "scatterpolar"
           }
          ],
          "scatterpolargl": [
           {
            "marker": {
             "colorbar": {
              "outlinewidth": 0,
              "ticks": ""
             }
            },
            "type": "scatterpolargl"
           }
          ],
          "scatterternary": [
           {
            "marker": {
             "colorbar": {
              "outlinewidth": 0,
              "ticks": ""
             }
            },
            "type": "scatterternary"
           }
          ],
          "surface": [
           {
            "colorbar": {
             "outlinewidth": 0,
             "ticks": ""
            },
            "colorscale": [
             [
              0,
              "#0d0887"
             ],
             [
              0.1111111111111111,
              "#46039f"
             ],
             [
              0.2222222222222222,
              "#7201a8"
             ],
             [
              0.3333333333333333,
              "#9c179e"
             ],
             [
              0.4444444444444444,
              "#bd3786"
             ],
             [
              0.5555555555555556,
              "#d8576b"
             ],
             [
              0.6666666666666666,
              "#ed7953"
             ],
             [
              0.7777777777777778,
              "#fb9f3a"
             ],
             [
              0.8888888888888888,
              "#fdca26"
             ],
             [
              1,
              "#f0f921"
             ]
            ],
            "type": "surface"
           }
          ],
          "table": [
           {
            "cells": {
             "fill": {
              "color": "#EBF0F8"
             },
             "line": {
              "color": "white"
             }
            },
            "header": {
             "fill": {
              "color": "#C8D4E3"
             },
             "line": {
              "color": "white"
             }
            },
            "type": "table"
           }
          ]
         },
         "layout": {
          "annotationdefaults": {
           "arrowcolor": "#2a3f5f",
           "arrowhead": 0,
           "arrowwidth": 1
          },
          "autotypenumbers": "strict",
          "coloraxis": {
           "colorbar": {
            "outlinewidth": 0,
            "ticks": ""
           }
          },
          "colorscale": {
           "diverging": [
            [
             0,
             "#8e0152"
            ],
            [
             0.1,
             "#c51b7d"
            ],
            [
             0.2,
             "#de77ae"
            ],
            [
             0.3,
             "#f1b6da"
            ],
            [
             0.4,
             "#fde0ef"
            ],
            [
             0.5,
             "#f7f7f7"
            ],
            [
             0.6,
             "#e6f5d0"
            ],
            [
             0.7,
             "#b8e186"
            ],
            [
             0.8,
             "#7fbc41"
            ],
            [
             0.9,
             "#4d9221"
            ],
            [
             1,
             "#276419"
            ]
           ],
           "sequential": [
            [
             0,
             "#0d0887"
            ],
            [
             0.1111111111111111,
             "#46039f"
            ],
            [
             0.2222222222222222,
             "#7201a8"
            ],
            [
             0.3333333333333333,
             "#9c179e"
            ],
            [
             0.4444444444444444,
             "#bd3786"
            ],
            [
             0.5555555555555556,
             "#d8576b"
            ],
            [
             0.6666666666666666,
             "#ed7953"
            ],
            [
             0.7777777777777778,
             "#fb9f3a"
            ],
            [
             0.8888888888888888,
             "#fdca26"
            ],
            [
             1,
             "#f0f921"
            ]
           ],
           "sequentialminus": [
            [
             0,
             "#0d0887"
            ],
            [
             0.1111111111111111,
             "#46039f"
            ],
            [
             0.2222222222222222,
             "#7201a8"
            ],
            [
             0.3333333333333333,
             "#9c179e"
            ],
            [
             0.4444444444444444,
             "#bd3786"
            ],
            [
             0.5555555555555556,
             "#d8576b"
            ],
            [
             0.6666666666666666,
             "#ed7953"
            ],
            [
             0.7777777777777778,
             "#fb9f3a"
            ],
            [
             0.8888888888888888,
             "#fdca26"
            ],
            [
             1,
             "#f0f921"
            ]
           ]
          },
          "colorway": [
           "#636efa",
           "#EF553B",
           "#00cc96",
           "#ab63fa",
           "#FFA15A",
           "#19d3f3",
           "#FF6692",
           "#B6E880",
           "#FF97FF",
           "#FECB52"
          ],
          "font": {
           "color": "#2a3f5f"
          },
          "geo": {
           "bgcolor": "white",
           "lakecolor": "white",
           "landcolor": "#E5ECF6",
           "showlakes": true,
           "showland": true,
           "subunitcolor": "white"
          },
          "hoverlabel": {
           "align": "left"
          },
          "hovermode": "closest",
          "mapbox": {
           "style": "light"
          },
          "paper_bgcolor": "white",
          "plot_bgcolor": "#E5ECF6",
          "polar": {
           "angularaxis": {
            "gridcolor": "white",
            "linecolor": "white",
            "ticks": ""
           },
           "bgcolor": "#E5ECF6",
           "radialaxis": {
            "gridcolor": "white",
            "linecolor": "white",
            "ticks": ""
           }
          },
          "scene": {
           "xaxis": {
            "backgroundcolor": "#E5ECF6",
            "gridcolor": "white",
            "gridwidth": 2,
            "linecolor": "white",
            "showbackground": true,
            "ticks": "",
            "zerolinecolor": "white"
           },
           "yaxis": {
            "backgroundcolor": "#E5ECF6",
            "gridcolor": "white",
            "gridwidth": 2,
            "linecolor": "white",
            "showbackground": true,
            "ticks": "",
            "zerolinecolor": "white"
           },
           "zaxis": {
            "backgroundcolor": "#E5ECF6",
            "gridcolor": "white",
            "gridwidth": 2,
            "linecolor": "white",
            "showbackground": true,
            "ticks": "",
            "zerolinecolor": "white"
           }
          },
          "shapedefaults": {
           "line": {
            "color": "#2a3f5f"
           }
          },
          "ternary": {
           "aaxis": {
            "gridcolor": "white",
            "linecolor": "white",
            "ticks": ""
           },
           "baxis": {
            "gridcolor": "white",
            "linecolor": "white",
            "ticks": ""
           },
           "bgcolor": "#E5ECF6",
           "caxis": {
            "gridcolor": "white",
            "linecolor": "white",
            "ticks": ""
           }
          },
          "title": {
           "x": 0.05
          },
          "xaxis": {
           "automargin": true,
           "gridcolor": "white",
           "linecolor": "white",
           "ticks": "",
           "title": {
            "standoff": 15
           },
           "zerolinecolor": "white",
           "zerolinewidth": 2
          },
          "yaxis": {
           "automargin": true,
           "gridcolor": "white",
           "linecolor": "white",
           "ticks": "",
           "title": {
            "standoff": 15
           },
           "zerolinecolor": "white",
           "zerolinewidth": 2
          }
         }
        },
        "title": {
         "text": "Estimation du gradient par SUMO"
        },
        "xaxis": {
         "title": {
          "text": "Theta"
         }
        },
        "yaxis": {
         "title": {
          "text": "Gradient"
         }
        }
       }
      }
     },
     "metadata": {},
     "output_type": "display_data"
    }
   ],
   "source": [
    "Code.plot_gradient(0.6, x, noised_A, noised_b, theta_true, 15, 'SUMO')"
   ]
  },
  {
   "cell_type": "markdown",
   "metadata": {},
   "source": [
    "### <span style=\"color:orange\">  **1.3 L'estimateurs IWAE (Autoencoder Pondéré par l'Importance)**  </span>\n",
    "\n",
    "Voir l'article séminal sur l'IWAE [ici](https://arxiv.org/pdf/1509.00519.pdf).\n",
    "\n",
    "L'IWAE utilise cette architecture avec à la fois un **réseau génératif** (paramètre $\\boldsymbol{\\theta}$) et un **réseau de reconnaissance** (paramètre $\\phi$). **La différence est qu'il est entraîné à maximiser une autre borne inférieure** sur $\\log p_{\\boldsymbol{\\theta}}(\\boldsymbol{x})$. En particulier, nous utilisons la borne inférieure suivante, correspondant à l'estimation de pondération d'importance à $k$ échantillons de la log-vraisemblance :\n",
    "\n",
    "\\begin{align*}\n",
    "\\ell_{\\text{IWAE}}^{(k)}(\\boldsymbol{\\theta}, \\phi) &= \\mathbb{E}_{\\boldsymbol{z}_1,\\dots,\\boldsymbol{z}_k \\underset{i.i.d}{\\sim} q_{\\phi}(\\boldsymbol{z}|\\boldsymbol{x})}\\left[\\log \\frac{1}{k} \\sum_{i=1}^{k} \\frac{p_{\\boldsymbol{\\theta}}(\\boldsymbol{x}, \\boldsymbol{z}_i)}{q_{\\phi}(\\boldsymbol{z}_i | \\boldsymbol{x})}\\right ]\n",
    "\\end{align*}\n",
    "\n",
    "Ici, $\\boldsymbol{z}_1, \\dots, \\boldsymbol{z}_k$ sont échantillonnés indépendamment du modèle de reconnaissance. Le terme à l'intérieur de la somme correspond aux poids d'importance non normalisés pour la distribution conjointe, que nous noterons $w_i = \\frac{p(\\boldsymbol{x}, \\boldsymbol{z}_i)}{q_{\\phi}(\\boldsymbol{z}_i | \\boldsymbol{x})}$. \n",
    "\n",
    "L'optimisation de $\\ell_{\\text{IWAE}}^{(k)}(\\boldsymbol{\\theta}, \\phi)$ est effectuée conjointement en $\\boldsymbol{\\theta}$ et $\\phi$. \n",
    "\n",
    "Il existe deux propriétés de l'IWAE qui nous permettront de le modifier pour produire un estimateur non biaisé :\n",
    "1. Il est consistant, i.e. lorsque le nombre d'échantillons $k$ augmente, l'espérance de $\\ell_{\\text{IWAE}}^{(k)}(\\boldsymbol{\\theta}, \\phi)$ converge vers $\\log p_{\\boldsymbol{\\theta}}(\\boldsymbol{x})$ : \n",
    "$$\n",
    "\\log p_{\\boldsymbol{\\theta}}(\\boldsymbol{x}) = \\lim_{k \\rightarrow +\\infty} \\mathbb{E}[\\ell_{\\text{IWAE}}^{(k)}(\\boldsymbol{\\theta}, \\phi)]\n",
    "$$\n",
    "\n",
    "2. Il est également croissant en espérance : \n",
    "$$\n",
    "\\mathbb{E}[\\ell_{\\text{IWAE}}^{(k+1)}(\\boldsymbol{\\theta}, \\phi)] \\geq \\mathbb{E}[\\ell_{\\text{IWAE}}^{(k)}(\\boldsymbol{\\theta}, \\phi)]\n",
    "$$ \n",
    "\n",
    "De la même façon que pour les estimateurs précédents, on trace les estimations de l'IWAE sur une plage autour de $\\theta^*$"
   ]
  },
  {
   "cell_type": "code",
   "execution_count": 16,
   "metadata": {},
   "outputs": [
    {
     "name": "stderr",
     "output_type": "stream",
     "text": [
      "Progression: 100%|██████████| 30/30 [00:08<00:00,  3.65it/s]\n"
     ]
    },
    {
     "data": {
      "image/png": "[encoded data removed]",
      "text/plain": [
       "<Figure size 1500x800 with 1 Axes>"
      ]
     },
     "metadata": {},
     "output_type": "display_data"
    }
   ],
   "source": [
    "n_simulations = 15 \n",
    "k_IWAE = 20\n",
    "r = 0.6\n",
    "\n",
    "Code.plot_errors_likelihood(r, theta_true, x, noised_A, noised_b, n_simulations,  5, 'IWAE')"
   ]
  },
  {
   "cell_type": "markdown",
   "metadata": {},
   "source": [
    "Fixons k_IWAE = 5 et comparons les résultats : "
   ]
  },
  {
   "cell_type": "code",
   "execution_count": 7,
   "metadata": {},
   "outputs": [
    {
     "data": {
      "application/vnd.plotly.v1+json": {
       "config": {
        "plotlyServerURL": "https://plot.ly"
       },
       "data": [
        {
         "line": {
          "color": "red"
         },
         "mode": "lines",
         "name": "True Gradient",
         "type": "scatter",
         "x": [
          -5.104162660010817,
          -4.900081027357756,
          -4.695999394704694,
          -4.491917762051633,
          -4.287836129398572,
          -4.083754496745511,
          -3.87967286409245,
          -3.6755912314393884,
          -3.4715095987863274,
          -3.2674279661332664,
          -3.063346333480205,
          -2.8592647008271435,
          -2.6551830681740825,
          -2.4511014355210214,
          -2.24701980286796,
          -2.0429381702148985,
          -1.8388565375618375,
          -1.6347749049087765,
          -1.430693272255715,
          -1.2266116396026536,
          -1.0225300069495926,
          -0.8184483742965316,
          -0.6143667416434697,
          -0.4102851089904087,
          -0.2062034763373477,
          -0.002121843684286695,
          0.2019597889687743,
          0.4060414216218362,
          0.6101230542748972,
          0.8142046869279582,
          1.0182863195810201,
          1.2223679522340811,
          1.4264495848871421,
          1.6305312175402031,
          1.8346128501932641,
          2.038694482846326,
          2.242776115499387,
          2.446857748152448,
          2.65093938080551,
          2.855021013458571,
          3.059102646111632,
          3.263184278764693,
          3.467265911417754,
          3.671347544070815,
          3.8754291767238778,
          4.079510809376939,
          4.28359244203,
          4.487674074683061,
          4.691755707336122,
          4.895837339989183
         ],
         "y": [
          49.05499009010435,
          47.01417376357374,
          44.97335743704312,
          42.93254111051251,
          40.8917247839819,
          38.85090845745129,
          36.81009213092067,
          34.76927580439006,
          32.72845947785945,
          30.687643151328842,
          28.646826824798225,
          26.60601049826761,
          24.565194171737,
          22.52437784520639,
          20.483561518675778,
          18.44274519214516,
          16.40192886561455,
          14.361112539083942,
          12.320296212553327,
          10.279479886022713,
          8.238663559492103,
          6.197847232961493,
          4.157030906430874,
          2.116214579900264,
          0.075398253369654,
          -1.965418073160956,
          -4.006234399691566,
          -6.047050726222185,
          -8.087867052752795,
          -10.128683379283405,
          -12.169499705814024,
          -14.210316032344634,
          -16.251132358875246,
          -18.291948685405856,
          -20.332765011936466,
          -22.373581338467083,
          -24.414397664997693,
          -26.455213991528304,
          -28.49603031805892,
          -30.53684664458953,
          -32.57766297112014,
          -34.61847929765075,
          -36.65929562418136,
          -38.70011195071197,
          -40.7409282772426,
          -42.78174460377321,
          -44.82256093030382,
          -46.86337725683443,
          -48.90419358336504,
          -50.94500990989565
         ]
        },
        {
         "marker": {
          "color": "purple",
          "symbol": "x"
         },
         "mode": "markers",
         "name": "IWAE",
         "type": "scatter",
         "x": [
          -5.104162660010817,
          -4.900081027357756,
          -4.695999394704694,
          -4.491917762051633,
          -4.287836129398572,
          -4.083754496745511,
          -3.87967286409245,
          -3.6755912314393884,
          -3.4715095987863274,
          -3.2674279661332664,
          -3.063346333480205,
          -2.8592647008271435,
          -2.6551830681740825,
          -2.4511014355210214,
          -2.24701980286796,
          -2.0429381702148985,
          -1.8388565375618375,
          -1.6347749049087765,
          -1.430693272255715,
          -1.2266116396026536,
          -1.0225300069495926,
          -0.8184483742965316,
          -0.6143667416434697,
          -0.4102851089904087,
          -0.2062034763373477,
          -0.002121843684286695,
          0.2019597889687743,
          0.4060414216218362,
          0.6101230542748972,
          0.8142046869279582,
          1.0182863195810201,
          1.2223679522340811,
          1.4264495848871421,
          1.6305312175402031,
          1.8346128501932641,
          2.038694482846326,
          2.242776115499387,
          2.446857748152448,
          2.65093938080551,
          2.855021013458571,
          3.059102646111632,
          3.263184278764693,
          3.467265911417754,
          3.671347544070815,
          3.8754291767238778,
          4.079510809376939,
          4.28359244203,
          4.487674074683061,
          4.691755707336122,
          4.895837339989183
         ],
         "y": [
          18.74064029674841,
          21.444147358436425,
          19.878643165714564,
          13.926026489586121,
          15.284868771575248,
          16.484797046501598,
          13.146698882290792,
          13.53517147288936,
          13.739647600910857,
          11.191198551574743,
          9.44169757364272,
          10.82879689996767,
          10.598331592051466,
          7.5068753353830076,
          7.609158196256118,
          7.040935623883758,
          6.786416065404612,
          4.859792352634088,
          3.4739928404903146,
          4.362707941604032,
          2.51220351163607,
          1.8774476670802969,
          1.5612909552551528,
          0.3104921431581644,
          0.08146235189097695,
          -0.35160485401598507,
          -0.9686102553468068,
          -1.8636450008787797,
          -3.0652129839985918,
          -2.3111570558404857,
          -3.4598166988221237,
          -5.092150970598087,
          -5.221180790844404,
          -7.407590270747875,
          -8.026716467458275,
          -8.152255270241561,
          -7.269415188014229,
          -9.684965788461696,
          -13.080001216803595,
          -10.625695039962501,
          -10.832648208049761,
          -16.457780651061874,
          -14.34230454172797,
          -13.238373743547413,
          -16.64441269149205,
          -17.34051998685767,
          -15.705947522626417,
          -18.369322714207968,
          -18.90572374418757,
          -13.021172380312123
         ]
        }
       ],
       "layout": {
        "legend": {
         "font": {
          "size": 12
         },
         "traceorder": "normal",
         "x": 0,
         "y": 1
        },
        "shapes": [
         {
          "line": {
           "color": "black",
           "dash": "dash",
           "width": 2
          },
          "name": "theta=-0.10416266001081724",
          "type": "line",
          "x0": -0.10416266001081724,
          "x1": -0.10416266001081724,
          "y0": -50.94500990989565,
          "y1": 49.05499009010435
         }
        ],
        "showlegend": true,
        "template": {
         "data": {
          "bar": [
           {
            "error_x": {
             "color": "#2a3f5f"
            },
            "error_y": {
             "color": "#2a3f5f"
            },
            "marker": {
             "line": {
              "color": "#E5ECF6",
              "width": 0.5
             },
             "pattern": {
              "fillmode": "overlay",
              "size": 10,
              "solidity": 0.2
             }
            },
            "type": "bar"
           }
          ],
          "barpolar": [
           {
            "marker": {
             "line": {
              "color": "#E5ECF6",
              "width": 0.5
             },
             "pattern": {
              "fillmode": "overlay",
              "size": 10,
              "solidity": 0.2
             }
            },
            "type": "barpolar"
           }
          ],
          "carpet": [
           {
            "aaxis": {
             "endlinecolor": "#2a3f5f",
             "gridcolor": "white",
             "linecolor": "white",
             "minorgridcolor": "white",
             "startlinecolor": "#2a3f5f"
            },
            "baxis": {
             "endlinecolor": "#2a3f5f",
             "gridcolor": "white",
             "linecolor": "white",
             "minorgridcolor": "white",
             "startlinecolor": "#2a3f5f"
            },
            "type": "carpet"
           }
          ],
          "choropleth": [
           {
            "colorbar": {
             "outlinewidth": 0,
             "ticks": ""
            },
            "type": "choropleth"
           }
          ],
          "contour": [
           {
            "colorbar": {
             "outlinewidth": 0,
             "ticks": ""
            },
            "colorscale": [
             [
              0,
              "#0d0887"
             ],
             [
              0.1111111111111111,
              "#46039f"
             ],
             [
              0.2222222222222222,
              "#7201a8"
             ],
             [
              0.3333333333333333,
              "#9c179e"
             ],
             [
              0.4444444444444444,
              "#bd3786"
             ],
             [
              0.5555555555555556,
              "#d8576b"
             ],
             [
              0.6666666666666666,
              "#ed7953"
             ],
             [
              0.7777777777777778,
              "#fb9f3a"
             ],
             [
              0.8888888888888888,
              "#fdca26"
             ],
             [
              1,
              "#f0f921"
             ]
            ],
            "type": "contour"
           }
          ],
          "contourcarpet": [
           {
            "colorbar": {
             "outlinewidth": 0,
             "ticks": ""
            },
            "type": "contourcarpet"
           }
          ],
          "heatmap": [
           {
            "colorbar": {
             "outlinewidth": 0,
             "ticks": ""
            },
            "colorscale": [
             [
              0,
              "#0d0887"
             ],
             [
              0.1111111111111111,
              "#46039f"
             ],
             [
              0.2222222222222222,
              "#7201a8"
             ],
             [
              0.3333333333333333,
              "#9c179e"
             ],
             [
              0.4444444444444444,
              "#bd3786"
             ],
             [
              0.5555555555555556,
              "#d8576b"
             ],
             [
              0.6666666666666666,
              "#ed7953"
             ],
             [
              0.7777777777777778,
              "#fb9f3a"
             ],
             [
              0.8888888888888888,
              "#fdca26"
             ],
             [
              1,
              "#f0f921"
             ]
            ],
            "type": "heatmap"
           }
          ],
          "heatmapgl": [
           {
            "colorbar": {
             "outlinewidth": 0,
             "ticks": ""
            },
            "colorscale": [
             [
              0,
              "#0d0887"
             ],
             [
              0.1111111111111111,
              "#46039f"
             ],
             [
              0.2222222222222222,
              "#7201a8"
             ],
             [
              0.3333333333333333,
              "#9c179e"
             ],
             [
              0.4444444444444444,
              "#bd3786"
             ],
             [
              0.5555555555555556,
              "#d8576b"
             ],
             [
              0.6666666666666666,
              "#ed7953"
             ],
             [
              0.7777777777777778,
              "#fb9f3a"
             ],
             [
              0.8888888888888888,
              "#fdca26"
             ],
             [
              1,
              "#f0f921"
             ]
            ],
            "type": "heatmapgl"
           }
          ],
          "histogram": [
           {
            "marker": {
             "pattern": {
              "fillmode": "overlay",
              "size": 10,
              "solidity": 0.2
             }
            },
            "type": "histogram"
           }
          ],
          "histogram2d": [
           {
            "colorbar": {
             "outlinewidth": 0,
             "ticks": ""
            },
            "colorscale": [
             [
              0,
              "#0d0887"
             ],
             [
              0.1111111111111111,
              "#46039f"
             ],
             [
              0.2222222222222222,
              "#7201a8"
             ],
             [
              0.3333333333333333,
              "#9c179e"
             ],
             [
              0.4444444444444444,
              "#bd3786"
             ],
             [
              0.5555555555555556,
              "#d8576b"
             ],
             [
              0.6666666666666666,
              "#ed7953"
             ],
             [
              0.7777777777777778,
              "#fb9f3a"
             ],
             [
              0.8888888888888888,
              "#fdca26"
             ],
             [
              1,
              "#f0f921"
             ]
            ],
            "type": "histogram2d"
           }
          ],
          "histogram2dcontour": [
           {
            "colorbar": {
             "outlinewidth": 0,
             "ticks": ""
            },
            "colorscale": [
             [
              0,
              "#0d0887"
             ],
             [
              0.1111111111111111,
              "#46039f"
             ],
             [
              0.2222222222222222,
              "#7201a8"
             ],
             [
              0.3333333333333333,
              "#9c179e"
             ],
             [
              0.4444444444444444,
              "#bd3786"
             ],
             [
              0.5555555555555556,
              "#d8576b"
             ],
             [
              0.6666666666666666,
              "#ed7953"
             ],
             [
              0.7777777777777778,
              "#fb9f3a"
             ],
             [
              0.8888888888888888,
              "#fdca26"
             ],
             [
              1,
              "#f0f921"
             ]
            ],
            "type": "histogram2dcontour"
           }
          ],
          "mesh3d": [
           {
            "colorbar": {
             "outlinewidth": 0,
             "ticks": ""
            },
            "type": "mesh3d"
           }
          ],
          "parcoords": [
           {
            "line": {
             "colorbar": {
              "outlinewidth": 0,
              "ticks": ""
             }
            },
            "type": "parcoords"
           }
          ],
          "pie": [
           {
            "automargin": true,
            "type": "pie"
           }
          ],
          "scatter": [
           {
            "fillpattern": {
             "fillmode": "overlay",
             "size": 10,
             "solidity": 0.2
            },
            "type": "scatter"
           }
          ],
          "scatter3d": [
           {
            "line": {
             "colorbar": {
              "outlinewidth": 0,
              "ticks": ""
             }
            },
            "marker": {
             "colorbar": {
              "outlinewidth": 0,
              "ticks": ""
             }
            },
            "type": "scatter3d"
           }
          ],
          "scattercarpet": [
           {
            "marker": {
             "colorbar": {
              "outlinewidth": 0,
              "ticks": ""
             }
            },
            "type": "scattercarpet"
           }
          ],
          "scattergeo": [
           {
            "marker": {
             "colorbar": {
              "outlinewidth": 0,
              "ticks": ""
             }
            },
            "type": "scattergeo"
           }
          ],
          "scattergl": [
           {
            "marker": {
             "colorbar": {
              "outlinewidth": 0,
              "ticks": ""
             }
            },
            "type": "scattergl"
           }
          ],
          "scattermapbox": [
           {
            "marker": {
             "colorbar": {
              "outlinewidth": 0,
              "ticks": ""
             }
            },
            "type": "scattermapbox"
           }
          ],
          "scatterpolar": [
           {
            "marker": {
             "colorbar": {
              "outlinewidth": 0,
              "ticks": ""
             }
            },
            "type": "scatterpolar"
           }
          ],
          "scatterpolargl": [
           {
            "marker": {
             "colorbar": {
              "outlinewidth": 0,
              "ticks": ""
             }
            },
            "type": "scatterpolargl"
           }
          ],
          "scatterternary": [
           {
            "marker": {
             "colorbar": {
              "outlinewidth": 0,
              "ticks": ""
             }
            },
            "type": "scatterternary"
           }
          ],
          "surface": [
           {
            "colorbar": {
             "outlinewidth": 0,
             "ticks": ""
            },
            "colorscale": [
             [
              0,
              "#0d0887"
             ],
             [
              0.1111111111111111,
              "#46039f"
             ],
             [
              0.2222222222222222,
              "#7201a8"
             ],
             [
              0.3333333333333333,
              "#9c179e"
             ],
             [
              0.4444444444444444,
              "#bd3786"
             ],
             [
              0.5555555555555556,
              "#d8576b"
             ],
             [
              0.6666666666666666,
              "#ed7953"
             ],
             [
              0.7777777777777778,
              "#fb9f3a"
             ],
             [
              0.8888888888888888,
              "#fdca26"
             ],
             [
              1,
              "#f0f921"
             ]
            ],
            "type": "surface"
           }
          ],
          "table": [
           {
            "cells": {
             "fill": {
              "color": "#EBF0F8"
             },
             "line": {
              "color": "white"
             }
            },
            "header": {
             "fill": {
              "color": "#C8D4E3"
             },
             "line": {
              "color": "white"
             }
            },
            "type": "table"
           }
          ]
         },
         "layout": {
          "annotationdefaults": {
           "arrowcolor": "#2a3f5f",
           "arrowhead": 0,
           "arrowwidth": 1
          },
          "autotypenumbers": "strict",
          "coloraxis": {
           "colorbar": {
            "outlinewidth": 0,
            "ticks": ""
           }
          },
          "colorscale": {
           "diverging": [
            [
             0,
             "#8e0152"
            ],
            [
             0.1,
             "#c51b7d"
            ],
            [
             0.2,
             "#de77ae"
            ],
            [
             0.3,
             "#f1b6da"
            ],
            [
             0.4,
             "#fde0ef"
            ],
            [
             0.5,
             "#f7f7f7"
            ],
            [
             0.6,
             "#e6f5d0"
            ],
            [
             0.7,
             "#b8e186"
            ],
            [
             0.8,
             "#7fbc41"
            ],
            [
             0.9,
             "#4d9221"
            ],
            [
             1,
             "#276419"
            ]
           ],
           "sequential": [
            [
             0,
             "#0d0887"
            ],
            [
             0.1111111111111111,
             "#46039f"
            ],
            [
             0.2222222222222222,
             "#7201a8"
            ],
            [
             0.3333333333333333,
             "#9c179e"
            ],
            [
             0.4444444444444444,
             "#bd3786"
            ],
            [
             0.5555555555555556,
             "#d8576b"
            ],
            [
             0.6666666666666666,
             "#ed7953"
            ],
            [
             0.7777777777777778,
             "#fb9f3a"
            ],
            [
             0.8888888888888888,
             "#fdca26"
            ],
            [
             1,
             "#f0f921"
            ]
           ],
           "sequentialminus": [
            [
             0,
             "#0d0887"
            ],
            [
             0.1111111111111111,
             "#46039f"
            ],
            [
             0.2222222222222222,
             "#7201a8"
            ],
            [
             0.3333333333333333,
             "#9c179e"
            ],
            [
             0.4444444444444444,
             "#bd3786"
            ],
            [
             0.5555555555555556,
             "#d8576b"
            ],
            [
             0.6666666666666666,
             "#ed7953"
            ],
            [
             0.7777777777777778,
             "#fb9f3a"
            ],
            [
             0.8888888888888888,
             "#fdca26"
            ],
            [
             1,
             "#f0f921"
            ]
           ]
          },
          "colorway": [
           "#636efa",
           "#EF553B",
           "#00cc96",
           "#ab63fa",
           "#FFA15A",
           "#19d3f3",
           "#FF6692",
           "#B6E880",
           "#FF97FF",
           "#FECB52"
          ],
          "font": {
           "color": "#2a3f5f"
          },
          "geo": {
           "bgcolor": "white",
           "lakecolor": "white",
           "landcolor": "#E5ECF6",
           "showlakes": true,
           "showland": true,
           "subunitcolor": "white"
          },
          "hoverlabel": {
           "align": "left"
          },
          "hovermode": "closest",
          "mapbox": {
           "style": "light"
          },
          "paper_bgcolor": "white",
          "plot_bgcolor": "#E5ECF6",
          "polar": {
           "angularaxis": {
            "gridcolor": "white",
            "linecolor": "white",
            "ticks": ""
           },
           "bgcolor": "#E5ECF6",
           "radialaxis": {
            "gridcolor": "white",
            "linecolor": "white",
            "ticks": ""
           }
          },
          "scene": {
           "xaxis": {
            "backgroundcolor": "#E5ECF6",
            "gridcolor": "white",
            "gridwidth": 2,
            "linecolor": "white",
            "showbackground": true,
            "ticks": "",
            "zerolinecolor": "white"
           },
           "yaxis": {
            "backgroundcolor": "#E5ECF6",
            "gridcolor": "white",
            "gridwidth": 2,
            "linecolor": "white",
            "showbackground": true,
            "ticks": "",
            "zerolinecolor": "white"
           },
           "zaxis": {
            "backgroundcolor": "#E5ECF6",
            "gridcolor": "white",
            "gridwidth": 2,
            "linecolor": "white",
            "showbackground": true,
            "ticks": "",
            "zerolinecolor": "white"
           }
          },
          "shapedefaults": {
           "line": {
            "color": "#2a3f5f"
           }
          },
          "ternary": {
           "aaxis": {
            "gridcolor": "white",
            "linecolor": "white",
            "ticks": ""
           },
           "baxis": {
            "gridcolor": "white",
            "linecolor": "white",
            "ticks": ""
           },
           "bgcolor": "#E5ECF6",
           "caxis": {
            "gridcolor": "white",
            "linecolor": "white",
            "ticks": ""
           }
          },
          "title": {
           "x": 0.05
          },
          "xaxis": {
           "automargin": true,
           "gridcolor": "white",
           "linecolor": "white",
           "ticks": "",
           "title": {
            "standoff": 15
           },
           "zerolinecolor": "white",
           "zerolinewidth": 2
          },
          "yaxis": {
           "automargin": true,
           "gridcolor": "white",
           "linecolor": "white",
           "ticks": "",
           "title": {
            "standoff": 15
           },
           "zerolinecolor": "white",
           "zerolinewidth": 2
          }
         }
        },
        "title": {
         "text": "Estimation du gradient par IWAE"
        },
        "xaxis": {
         "title": {
          "text": "Theta"
         }
        },
        "yaxis": {
         "title": {
          "text": "Gradient"
         }
        }
       }
      }
     },
     "metadata": {},
     "output_type": "display_data"
    }
   ],
   "source": [
    "Code.plot_gradient(r, x, noised_A, noised_b, theta_true, n_simulations, 'IWAE')"
   ]
  },
  {
   "cell_type": "markdown",
   "metadata": {},
   "source": [
    "### <span style=\"color:orange\">  **1.4 Comparaison entre les différents estimateurs**  </span>\n",
    "\n",
    "Dans cette partie, nous allons comparer les estimateurs sur un même graphique. "
   ]
  },
  {
   "cell_type": "code",
   "execution_count": null,
   "metadata": {},
   "outputs": [
    {
     "name": "stderr",
     "output_type": "stream",
     "text": [
      "Progression: 100%|██████████| 60/60 [02:06<00:00,  2.11s/it]\n"
     ]
    },
    {
     "data": {
      "application/vnd.plotly.v1+json": {
       "config": {
        "plotlyServerURL": "https://plot.ly"
       },
       "data": [
        {
         "line": {
          "color": "red"
         },
         "mode": "lines",
         "name": "True likelihood",
         "type": "scatter",
         "x": [
          -2.9388223082554052,
          -2.7693307828316764,
          -2.5998392574079476,
          -2.430347731984219,
          -2.26085620656049,
          -2.091364681136761,
          -1.9218731557130324,
          -1.7523816302893036,
          -1.5828901048655748,
          -1.413398579441846,
          -1.2439070540181172,
          -1.0744155285943884,
          -0.9049240031706596,
          -0.7354324777469308,
          -0.565940952323202,
          -0.39644942689947316,
          -0.22695790147574435,
          -0.057466376052015544,
          0.11202514937171326,
          0.28151667479544207,
          0.4510082002191709,
          0.6204997256428997,
          0.7899912510666285,
          0.9594827764903573,
          1.128974301914086,
          1.2984658273378145,
          1.4679573527615437,
          1.637448878185273,
          1.8069404036090013,
          1.9764319290327297,
          2.145923454456459,
          2.315414979880188,
          2.4849065053039165,
          2.654398030727645,
          2.823889556151374,
          2.9933810815751034,
          3.1628726069988318,
          3.33236413242256,
          3.5018556578462894,
          3.6713471832700186,
          3.840838708693747,
          4.010330234117475,
          4.179821759541205,
          4.349313284964934,
          4.518804810388662,
          4.688296335812391,
          4.85778786123612,
          5.027279386659849,
          5.196770912083577,
          5.366262437507306,
          5.535753962931034,
          5.705245488354764,
          5.874737013778493,
          6.044228539202221,
          6.213720064625951,
          6.3832115900496795,
          6.552703115473408,
          6.722194640897136,
          6.891686166320865,
          7.061177691744595
         ],
         "y": [
          -152.99269754297242,
          -144.63895362400115,
          -136.57248347693448,
          -128.79328710177245,
          -121.30136449851506,
          -114.09671566716226,
          -107.17934060771411,
          -100.54923932017059,
          -94.20641180453167,
          -88.15085806079739,
          -82.38257808896776,
          -76.90157188904271,
          -71.70783946102232,
          -66.80138080490653,
          -62.182195920695364,
          -57.85028480838884,
          -53.80564746798694,
          -50.048283899489654,
          -46.57819410289701,
          -43.39537807820897,
          -40.49983582542556,
          -37.89156734454679,
          -35.57057263557264,
          -33.536851698503106,
          -31.790404533338204,
          -30.33123114007793,
          -29.159331518722272,
          -28.27470566927124,
          -27.677353591724835,
          -27.36727528608306,
          -27.344470752345906,
          -27.608939990513377,
          -28.160683000585475,
          -28.999699782562192,
          -30.125990336443543,
          -31.539554662229516,
          -33.24039275992011,
          -35.228504629515335,
          -37.50389027101518,
          -40.06654968441966,
          -42.91648286972875,
          -46.05368982694247,
          -49.478170556060824,
          -53.189925057083805,
          -57.18895333001139,
          -61.4752553748436,
          -66.04883119158046,
          -70.90968078022195,
          -76.05780414076803,
          -81.49320127321874,
          -87.21587217757407,
          -93.2258168538341,
          -99.52303530199869,
          -106.10752752206788,
          -112.97929351404179,
          -120.13833327792025,
          -127.5846468137033,
          -135.31823412139101,
          -143.33909520098337,
          -151.6472300524804
         ]
        },
        {
         "marker": {
          "color": "purple",
          "symbol": "x"
         },
         "mode": "markers",
         "name": "IWAE",
         "type": "scatter",
         "x": [
          -2.9388223082554052,
          -2.7693307828316764,
          -2.5998392574079476,
          -2.430347731984219,
          -2.26085620656049,
          -2.091364681136761,
          -1.9218731557130324,
          -1.7523816302893036,
          -1.5828901048655748,
          -1.413398579441846,
          -1.2439070540181172,
          -1.0744155285943884,
          -0.9049240031706596,
          -0.7354324777469308,
          -0.565940952323202,
          -0.39644942689947316,
          -0.22695790147574435,
          -0.057466376052015544,
          0.11202514937171326,
          0.28151667479544207,
          0.4510082002191709,
          0.6204997256428997,
          0.7899912510666285,
          0.9594827764903573,
          1.128974301914086,
          1.2984658273378145,
          1.4679573527615437,
          1.637448878185273,
          1.8069404036090013,
          1.9764319290327297,
          2.145923454456459,
          2.315414979880188,
          2.4849065053039165,
          2.654398030727645,
          2.823889556151374,
          2.9933810815751034,
          3.1628726069988318,
          3.33236413242256,
          3.5018556578462894,
          3.6713471832700186,
          3.840838708693747,
          4.010330234117475,
          4.179821759541205,
          4.349313284964934,
          4.518804810388662,
          4.688296335812391,
          4.85778786123612,
          5.027279386659849,
          5.196770912083577,
          5.366262437507306,
          5.535753962931034,
          5.705245488354764,
          5.874737013778493,
          6.044228539202221,
          6.213720064625951,
          6.3832115900496795,
          6.552703115473408,
          6.722194640897136,
          6.891686166320865,
          7.061177691744595
         ],
         "y": [
          -260.2862477438511,
          -249.25308382460662,
          -232.12633656938962,
          -217.55756297209197,
          -182.9546950457394,
          -169.7131270675972,
          -136.98152127565385,
          -171.65802980642093,
          -146.26058655865558,
          -147.16589582854888,
          -97.69936860043822,
          -122.85149023134582,
          -15.01527564582078,
          -101.41736910459025,
          -66.91932189069112,
          -32.30662494455979,
          -74.0410946335605,
          -74.43312214321432,
          -58.8109063944339,
          -58.163906734948384,
          -52.930708296665266,
          -30.0676339337092,
          -46.85194209874294,
          -42.23152011476024,
          -37.72394944439823,
          -38.85681792879663,
          -36.986158470209396,
          -35.59727560307759,
          -34.71524223918108,
          -34.377283289621985,
          -34.20227509095696,
          -34.35490797343885,
          -35.27334854962125,
          -37.141537824434366,
          -38.06497119639184,
          -40.18985504143286,
          -42.2164829080931,
          -46.92837272485297,
          -52.452297359422964,
          -54.53352417080831,
          -52.49300001288308,
          -46.93137669799221,
          -70.81586528100166,
          -75.04834557888785,
          -84.2460763833822,
          -69.47561344520543,
          -104.87669813192942,
          -111.90539364689158,
          -102.27969828099917,
          -127.18298569984076,
          -147.68349695306284,
          -148.54851091232192,
          -162.8415087521799,
          -169.11212901364186,
          -191.3946569802408,
          -205.6805870887021,
          -225.09298772363567,
          -209.42158086477153,
          -253.0168976694892,
          -228.08441836359816
         ]
        },
        {
         "marker": {
          "color": "orange",
          "symbol": "x"
         },
         "mode": "markers",
         "name": "ML_SS",
         "type": "scatter",
         "x": [
          -2.9388223082554052,
          -2.7693307828316764,
          -2.5998392574079476,
          -2.430347731984219,
          -2.26085620656049,
          -2.091364681136761,
          -1.9218731557130324,
          -1.7523816302893036,
          -1.5828901048655748,
          -1.413398579441846,
          -1.2439070540181172,
          -1.0744155285943884,
          -0.9049240031706596,
          -0.7354324777469308,
          -0.565940952323202,
          -0.39644942689947316,
          -0.22695790147574435,
          -0.057466376052015544,
          0.11202514937171326,
          0.28151667479544207,
          0.4510082002191709,
          0.6204997256428997,
          0.7899912510666285,
          0.9594827764903573,
          1.128974301914086,
          1.2984658273378145,
          1.4679573527615437,
          1.637448878185273,
          1.8069404036090013,
          1.9764319290327297,
          2.145923454456459,
          2.315414979880188,
          2.4849065053039165,
          2.654398030727645,
          2.823889556151374,
          2.9933810815751034,
          3.1628726069988318,
          3.33236413242256,
          3.5018556578462894,
          3.6713471832700186,
          3.840838708693747,
          4.010330234117475,
          4.179821759541205,
          4.349313284964934,
          4.518804810388662,
          4.688296335812391,
          4.85778786123612,
          5.027279386659849,
          5.196770912083577,
          5.366262437507306,
          5.535753962931034,
          5.705245488354764,
          5.874737013778493,
          6.044228539202221,
          6.213720064625951,
          6.3832115900496795,
          6.552703115473408,
          6.722194640897136,
          6.891686166320865,
          7.061177691744595
         ],
         "y": [
          -250.39924243285608,
          -177.83172269541046,
          -221.1869702070674,
          -194.24028138768128,
          -205.1435932621012,
          -150.7358806908505,
          -151.87256546407386,
          -151.8135195977764,
          -90.9778319125921,
          -106.21412833877746,
          -109.54851402039853,
          -48.681925214147,
          14.675346102052517,
          -71.9257842527498,
          -89.59003947113982,
          -82.41923669948129,
          -65.23882064746061,
          -64.03302455302655,
          -57.73176014601399,
          -53.56402100660201,
          -48.531373290116306,
          -44.08389430571197,
          -40.25882698888829,
          -38.39968420839997,
          -36.851172893259914,
          -36.68902430186118,
          -35.74570636663084,
          -35.06348954254329,
          -34.36989946828617,
          -33.53503586596499,
          -34.10620282150409,
          -33.73257830272039,
          -33.13924830335271,
          -34.29561570695089,
          -34.06223703408389,
          -39.21319067701437,
          -40.7720419229224,
          -42.648187051260685,
          -47.54357181083491,
          -52.51343642750762,
          -34.45959398284549,
          -56.81363547180188,
          -65.1205415816822,
          -70.46624992026919,
          -70.84515018621282,
          -72.18583224950572,
          -91.01130763466072,
          87.55953855665759,
          -112.66723339409378,
          -120.8729635306893,
          -134.62207154740105,
          -145.07779528773563,
          -151.56564541857432,
          -168.34101477384993,
          -149.2498577561369,
          -156.60258348728365,
          -185.07329403673097,
          12832.611669611731,
          -226.02191492009757,
          -261.0478270395253
         ]
        },
        {
         "marker": {
          "color": "green",
          "symbol": "x"
         },
         "mode": "markers",
         "name": "ML_RR",
         "type": "scatter",
         "x": [
          -2.9388223082554052,
          -2.7693307828316764,
          -2.5998392574079476,
          -2.430347731984219,
          -2.26085620656049,
          -2.091364681136761,
          -1.9218731557130324,
          -1.7523816302893036,
          -1.5828901048655748,
          -1.413398579441846,
          -1.2439070540181172,
          -1.0744155285943884,
          -0.9049240031706596,
          -0.7354324777469308,
          -0.565940952323202,
          -0.39644942689947316,
          -0.22695790147574435,
          -0.057466376052015544,
          0.11202514937171326,
          0.28151667479544207,
          0.4510082002191709,
          0.6204997256428997,
          0.7899912510666285,
          0.9594827764903573,
          1.128974301914086,
          1.2984658273378145,
          1.4679573527615437,
          1.637448878185273,
          1.8069404036090013,
          1.9764319290327297,
          2.145923454456459,
          2.315414979880188,
          2.4849065053039165,
          2.654398030727645,
          2.823889556151374,
          2.9933810815751034,
          3.1628726069988318,
          3.33236413242256,
          3.5018556578462894,
          3.6713471832700186,
          3.840838708693747,
          4.010330234117475,
          4.179821759541205,
          4.349313284964934,
          4.518804810388662,
          4.688296335812391,
          4.85778786123612,
          5.027279386659849,
          5.196770912083577,
          5.366262437507306,
          5.535753962931034,
          5.705245488354764,
          5.874737013778493,
          6.044228539202221,
          6.213720064625951,
          6.3832115900496795,
          6.552703115473408,
          6.722194640897136,
          6.891686166320865,
          7.061177691744595
         ],
         "y": [
          -279.88150818405774,
          -247.82887920521395,
          -245.66494278623986,
          -193.68028372608222,
          -215.37530527801408,
          -215.0057785422785,
          -170.69753879854323,
          -172.24224767787942,
          -149.11977405439015,
          -153.26584295862764,
          -114.69023934883734,
          -130.7995364052685,
          -118.4993068320076,
          -109.46614253647252,
          -101.72810731337418,
          -84.6083796632421,
          -84.03009697604138,
          -1230.9983270468829,
          -76.39772542332535,
          -59.74796988116382,
          -56.89699753698377,
          -45.667656417627214,
          -50.89829844953657,
          -44.042200436549734,
          -43.08489025794473,
          -37.93939987929335,
          -37.05402683497876,
          -36.12004482062885,
          -35.763206554042526,
          -34.4882892050122,
          -32.92404570697755,
          -35.03352841988035,
          -35.789883363229784,
          -37.676420210470994,
          -133.85786918416176,
          -43.451653295704666,
          -43.256437540527564,
          -51.75635317104592,
          -45.05874650981541,
          -62.83591248216912,
          -64.74762322142011,
          -73.71621018482354,
          -78.92060446078291,
          -83.85530019374697,
          -89.53497613641393,
          -102.99051105837984,
          -108.41236622333909,
          -115.52642702047274,
          -130.4252441943812,
          -140.81555319440443,
          -153.8467295440099,
          -148.46876182669263,
          -182.08539199005847,
          -185.65215104372547,
          -206.58146256304266,
          -208.0601030515307,
          -239.89831042884785,
          -246.34899959489272,
          -251.97471987447014,
          -268.0743355626909
         ]
        },
        {
         "marker": {
          "color": "yellow",
          "symbol": "x"
         },
         "mode": "markers",
         "name": "SUMO",
         "type": "scatter",
         "x": [
          -2.9388223082554052,
          -2.7693307828316764,
          -2.5998392574079476,
          -2.430347731984219,
          -2.26085620656049,
          -2.091364681136761,
          -1.9218731557130324,
          -1.7523816302893036,
          -1.5828901048655748,
          -1.413398579441846,
          -1.2439070540181172,
          -1.0744155285943884,
          -0.9049240031706596,
          -0.7354324777469308,
          -0.565940952323202,
          -0.39644942689947316,
          -0.22695790147574435,
          -0.057466376052015544,
          0.11202514937171326,
          0.28151667479544207,
          0.4510082002191709,
          0.6204997256428997,
          0.7899912510666285,
          0.9594827764903573,
          1.128974301914086,
          1.2984658273378145,
          1.4679573527615437,
          1.637448878185273,
          1.8069404036090013,
          1.9764319290327297,
          2.145923454456459,
          2.315414979880188,
          2.4849065053039165,
          2.654398030727645,
          2.823889556151374,
          2.9933810815751034,
          3.1628726069988318,
          3.33236413242256,
          3.5018556578462894,
          3.6713471832700186,
          3.840838708693747,
          4.010330234117475,
          4.179821759541205,
          4.349313284964934,
          4.518804810388662,
          4.688296335812391,
          4.85778786123612,
          5.027279386659849,
          5.196770912083577,
          5.366262437507306,
          5.535753962931034,
          5.705245488354764,
          5.874737013778493,
          6.044228539202221,
          6.213720064625951,
          6.3832115900496795,
          6.552703115473408,
          6.722194640897136,
          6.891686166320865,
          7.061177691744595
         ],
         "y": [
          -279.2592160316281,
          -253.80514784113953,
          -248.4592123599784,
          -230.48436866814788,
          -223.551314378753,
          -198.74462151717518,
          -187.06164464888795,
          -178.01852706557642,
          -161.81741898950747,
          -149.80306344519315,
          -139.47670880048526,
          -128.36356064524765,
          -119.2620582425579,
          -110.84561103201294,
          -99.96377372285512,
          -93.64218514213516,
          -83.66129189499308,
          -80.93773408512318,
          -70.43821587779257,
          -64.81521323304734,
          -58.47576576561086,
          -54.26626205622287,
          -49.32779947060299,
          -44.565354650073544,
          -41.63553831315841,
          -39.7684632797858,
          -38.15917838430213,
          -35.519958757939,
          -35.19076079588653,
          -34.593091919284156,
          -34.645945313380984,
          -34.44380603277151,
          -35.30297953621227,
          -38.35337141992907,
          -39.5750687420001,
          -43.596119073213636,
          -47.53894804556318,
          -50.10020535834123,
          -53.47201091320694,
          -60.41933776351575,
          -63.19051779261626,
          -69.30754774230975,
          -75.33054006488037,
          -85.36572972837993,
          -96.62367440306802,
          -101.87551670237103,
          -113.95954911606427,
          -115.8211649632225,
          -137.00506929846367,
          -145.6946628931965,
          -149.2290594458706,
          -166.60999146049883,
          -177.99345582776053,
          -186.6367235457954,
          -203.87952270284285,
          -218.43384777811426,
          -233.12592590620363,
          -247.29987663796229,
          -265.7448093163545,
          -274.35504520235486
         ]
        }
       ],
       "layout": {
        "grid": {
         "columns": 1,
         "rows": 1
        },
        "legend": {
         "font": {
          "size": 10
         }
        },
        "shapes": [
         {
          "line": {
           "color": "black",
           "dash": "dash"
          },
          "name": "Theta=2.0611776917445948",
          "type": "line",
          "x0": 2.0611776917445948,
          "x1": 2.0611776917445948,
          "y0": -300,
          "y1": 500
         }
        ],
        "showlegend": true,
        "template": {
         "data": {
          "bar": [
           {
            "error_x": {
             "color": "#2a3f5f"
            },
            "error_y": {
             "color": "#2a3f5f"
            },
            "marker": {
             "line": {
              "color": "#E5ECF6",
              "width": 0.5
             },
             "pattern": {
              "fillmode": "overlay",
              "size": 10,
              "solidity": 0.2
             }
            },
            "type": "bar"
           }
          ],
          "barpolar": [
           {
            "marker": {
             "line": {
              "color": "#E5ECF6",
              "width": 0.5
             },
             "pattern": {
              "fillmode": "overlay",
              "size": 10,
              "solidity": 0.2
             }
            },
            "type": "barpolar"
           }
          ],
          "carpet": [
           {
            "aaxis": {
             "endlinecolor": "#2a3f5f",
             "gridcolor": "white",
             "linecolor": "white",
             "minorgridcolor": "white",
             "startlinecolor": "#2a3f5f"
            },
            "baxis": {
             "endlinecolor": "#2a3f5f",
             "gridcolor": "white",
             "linecolor": "white",
             "minorgridcolor": "white",
             "startlinecolor": "#2a3f5f"
            },
            "type": "carpet"
           }
          ],
          "choropleth": [
           {
            "colorbar": {
             "outlinewidth": 0,
             "ticks": ""
            },
            "type": "choropleth"
           }
          ],
          "contour": [
           {
            "colorbar": {
             "outlinewidth": 0,
             "ticks": ""
            },
            "colorscale": [
             [
              0,
              "#0d0887"
             ],
             [
              0.1111111111111111,
              "#46039f"
             ],
             [
              0.2222222222222222,
              "#7201a8"
             ],
             [
              0.3333333333333333,
              "#9c179e"
             ],
             [
              0.4444444444444444,
              "#bd3786"
             ],
             [
              0.5555555555555556,
              "#d8576b"
             ],
             [
              0.6666666666666666,
              "#ed7953"
             ],
             [
              0.7777777777777778,
              "#fb9f3a"
             ],
             [
              0.8888888888888888,
              "#fdca26"
             ],
             [
              1,
              "#f0f921"
             ]
            ],
            "type": "contour"
           }
          ],
          "contourcarpet": [
           {
            "colorbar": {
             "outlinewidth": 0,
             "ticks": ""
            },
            "type": "contourcarpet"
           }
          ],
          "heatmap": [
           {
            "colorbar": {
             "outlinewidth": 0,
             "ticks": ""
            },
            "colorscale": [
             [
              0,
              "#0d0887"
             ],
             [
              0.1111111111111111,
              "#46039f"
             ],
             [
              0.2222222222222222,
              "#7201a8"
             ],
             [
              0.3333333333333333,
              "#9c179e"
             ],
             [
              0.4444444444444444,
              "#bd3786"
             ],
             [
              0.5555555555555556,
              "#d8576b"
             ],
             [
              0.6666666666666666,
              "#ed7953"
             ],
             [
              0.7777777777777778,
              "#fb9f3a"
             ],
             [
              0.8888888888888888,
              "#fdca26"
             ],
             [
              1,
              "#f0f921"
             ]
            ],
            "type": "heatmap"
           }
          ],
          "heatmapgl": [
           {
            "colorbar": {
             "outlinewidth": 0,
             "ticks": ""
            },
            "colorscale": [
             [
              0,
              "#0d0887"
             ],
             [
              0.1111111111111111,
              "#46039f"
             ],
             [
              0.2222222222222222,
              "#7201a8"
             ],
             [
              0.3333333333333333,
              "#9c179e"
             ],
             [
              0.4444444444444444,
              "#bd3786"
             ],
             [
              0.5555555555555556,
              "#d8576b"
             ],
             [
              0.6666666666666666,
              "#ed7953"
             ],
             [
              0.7777777777777778,
              "#fb9f3a"
             ],
             [
              0.8888888888888888,
              "#fdca26"
             ],
             [
              1,
              "#f0f921"
             ]
            ],
            "type": "heatmapgl"
           }
          ],
          "histogram": [
           {
            "marker": {
             "pattern": {
              "fillmode": "overlay",
              "size": 10,
              "solidity": 0.2
             }
            },
            "type": "histogram"
           }
          ],
          "histogram2d": [
           {
            "colorbar": {
             "outlinewidth": 0,
             "ticks": ""
            },
            "colorscale": [
             [
              0,
              "#0d0887"
             ],
             [
              0.1111111111111111,
              "#46039f"
             ],
             [
              0.2222222222222222,
              "#7201a8"
             ],
             [
              0.3333333333333333,
              "#9c179e"
             ],
             [
              0.4444444444444444,
              "#bd3786"
             ],
             [
              0.5555555555555556,
              "#d8576b"
             ],
             [
              0.6666666666666666,
              "#ed7953"
             ],
             [
              0.7777777777777778,
              "#fb9f3a"
             ],
             [
              0.8888888888888888,
              "#fdca26"
             ],
             [
              1,
              "#f0f921"
             ]
            ],
            "type": "histogram2d"
           }
          ],
          "histogram2dcontour": [
           {
            "colorbar": {
             "outlinewidth": 0,
             "ticks": ""
            },
            "colorscale": [
             [
              0,
              "#0d0887"
             ],
             [
              0.1111111111111111,
              "#46039f"
             ],
             [
              0.2222222222222222,
              "#7201a8"
             ],
             [
              0.3333333333333333,
              "#9c179e"
             ],
             [
              0.4444444444444444,
              "#bd3786"
             ],
             [
              0.5555555555555556,
              "#d8576b"
             ],
             [
              0.6666666666666666,
              "#ed7953"
             ],
             [
              0.7777777777777778,
              "#fb9f3a"
             ],
             [
              0.8888888888888888,
              "#fdca26"
             ],
             [
              1,
              "#f0f921"
             ]
            ],
            "type": "histogram2dcontour"
           }
          ],
          "mesh3d": [
           {
            "colorbar": {
             "outlinewidth": 0,
             "ticks": ""
            },
            "type": "mesh3d"
           }
          ],
          "parcoords": [
           {
            "line": {
             "colorbar": {
              "outlinewidth": 0,
              "ticks": ""
             }
            },
            "type": "parcoords"
           }
          ],
          "pie": [
           {
            "automargin": true,
            "type": "pie"
           }
          ],
          "scatter": [
           {
            "fillpattern": {
             "fillmode": "overlay",
             "size": 10,
             "solidity": 0.2
            },
            "type": "scatter"
           }
          ],
          "scatter3d": [
           {
            "line": {
             "colorbar": {
              "outlinewidth": 0,
              "ticks": ""
             }
            },
            "marker": {
             "colorbar": {
              "outlinewidth": 0,
              "ticks": ""
             }
            },
            "type": "scatter3d"
           }
          ],
          "scattercarpet": [
           {
            "marker": {
             "colorbar": {
              "outlinewidth": 0,
              "ticks": ""
             }
            },
            "type": "scattercarpet"
           }
          ],
          "scattergeo": [
           {
            "marker": {
             "colorbar": {
              "outlinewidth": 0,
              "ticks": ""
             }
            },
            "type": "scattergeo"
           }
          ],
          "scattergl": [
           {
            "marker": {
             "colorbar": {
              "outlinewidth": 0,
              "ticks": ""
             }
            },
            "type": "scattergl"
           }
          ],
          "scattermapbox": [
           {
            "marker": {
             "colorbar": {
              "outlinewidth": 0,
              "ticks": ""
             }
            },
            "type": "scattermapbox"
           }
          ],
          "scatterpolar": [
           {
            "marker": {
             "colorbar": {
              "outlinewidth": 0,
              "ticks": ""
             }
            },
            "type": "scatterpolar"
           }
          ],
          "scatterpolargl": [
           {
            "marker": {
             "colorbar": {
              "outlinewidth": 0,
              "ticks": ""
             }
            },
            "type": "scatterpolargl"
           }
          ],
          "scatterternary": [
           {
            "marker": {
             "colorbar": {
              "outlinewidth": 0,
              "ticks": ""
             }
            },
            "type": "scatterternary"
           }
          ],
          "surface": [
           {
            "colorbar": {
             "outlinewidth": 0,
             "ticks": ""
            },
            "colorscale": [
             [
              0,
              "#0d0887"
             ],
             [
              0.1111111111111111,
              "#46039f"
             ],
             [
              0.2222222222222222,
              "#7201a8"
             ],
             [
              0.3333333333333333,
              "#9c179e"
             ],
             [
              0.4444444444444444,
              "#bd3786"
             ],
             [
              0.5555555555555556,
              "#d8576b"
             ],
             [
              0.6666666666666666,
              "#ed7953"
             ],
             [
              0.7777777777777778,
              "#fb9f3a"
             ],
             [
              0.8888888888888888,
              "#fdca26"
             ],
             [
              1,
              "#f0f921"
             ]
            ],
            "type": "surface"
           }
          ],
          "table": [
           {
            "cells": {
             "fill": {
              "color": "#EBF0F8"
             },
             "line": {
              "color": "white"
             }
            },
            "header": {
             "fill": {
              "color": "#C8D4E3"
             },
             "line": {
              "color": "white"
             }
            },
            "type": "table"
           }
          ]
         },
         "layout": {
          "annotationdefaults": {
           "arrowcolor": "#2a3f5f",
           "arrowhead": 0,
           "arrowwidth": 1
          },
          "autotypenumbers": "strict",
          "coloraxis": {
           "colorbar": {
            "outlinewidth": 0,
            "ticks": ""
           }
          },
          "colorscale": {
           "diverging": [
            [
             0,
             "#8e0152"
            ],
            [
             0.1,
             "#c51b7d"
            ],
            [
             0.2,
             "#de77ae"
            ],
            [
             0.3,
             "#f1b6da"
            ],
            [
             0.4,
             "#fde0ef"
            ],
            [
             0.5,
             "#f7f7f7"
            ],
            [
             0.6,
             "#e6f5d0"
            ],
            [
             0.7,
             "#b8e186"
            ],
            [
             0.8,
             "#7fbc41"
            ],
            [
             0.9,
             "#4d9221"
            ],
            [
             1,
             "#276419"
            ]
           ],
           "sequential": [
            [
             0,
             "#0d0887"
            ],
            [
             0.1111111111111111,
             "#46039f"
            ],
            [
             0.2222222222222222,
             "#7201a8"
            ],
            [
             0.3333333333333333,
             "#9c179e"
            ],
            [
             0.4444444444444444,
             "#bd3786"
            ],
            [
             0.5555555555555556,
             "#d8576b"
            ],
            [
             0.6666666666666666,
             "#ed7953"
            ],
            [
             0.7777777777777778,
             "#fb9f3a"
            ],
            [
             0.8888888888888888,
             "#fdca26"
            ],
            [
             1,
             "#f0f921"
            ]
           ],
           "sequentialminus": [
            [
             0,
             "#0d0887"
            ],
            [
             0.1111111111111111,
             "#46039f"
            ],
            [
             0.2222222222222222,
             "#7201a8"
            ],
            [
             0.3333333333333333,
             "#9c179e"
            ],
            [
             0.4444444444444444,
             "#bd3786"
            ],
            [
             0.5555555555555556,
             "#d8576b"
            ],
            [
             0.6666666666666666,
             "#ed7953"
            ],
            [
             0.7777777777777778,
             "#fb9f3a"
            ],
            [
             0.8888888888888888,
             "#fdca26"
            ],
            [
             1,
             "#f0f921"
            ]
           ]
          },
          "colorway": [
           "#636efa",
           "#EF553B",
           "#00cc96",
           "#ab63fa",
           "#FFA15A",
           "#19d3f3",
           "#FF6692",
           "#B6E880",
           "#FF97FF",
           "#FECB52"
          ],
          "font": {
           "color": "#2a3f5f"
          },
          "geo": {
           "bgcolor": "white",
           "lakecolor": "white",
           "landcolor": "#E5ECF6",
           "showlakes": true,
           "showland": true,
           "subunitcolor": "white"
          },
          "hoverlabel": {
           "align": "left"
          },
          "hovermode": "closest",
          "mapbox": {
           "style": "light"
          },
          "paper_bgcolor": "white",
          "plot_bgcolor": "#E5ECF6",
          "polar": {
           "angularaxis": {
            "gridcolor": "white",
            "linecolor": "white",
            "ticks": ""
           },
           "bgcolor": "#E5ECF6",
           "radialaxis": {
            "gridcolor": "white",
            "linecolor": "white",
            "ticks": ""
           }
          },
          "scene": {
           "xaxis": {
            "backgroundcolor": "#E5ECF6",
            "gridcolor": "white",
            "gridwidth": 2,
            "linecolor": "white",
            "showbackground": true,
            "ticks": "",
            "zerolinecolor": "white"
           },
           "yaxis": {
            "backgroundcolor": "#E5ECF6",
            "gridcolor": "white",
            "gridwidth": 2,
            "linecolor": "white",
            "showbackground": true,
            "ticks": "",
            "zerolinecolor": "white"
           },
           "zaxis": {
            "backgroundcolor": "#E5ECF6",
            "gridcolor": "white",
            "gridwidth": 2,
            "linecolor": "white",
            "showbackground": true,
            "ticks": "",
            "zerolinecolor": "white"
           }
          },
          "shapedefaults": {
           "line": {
            "color": "#2a3f5f"
           }
          },
          "ternary": {
           "aaxis": {
            "gridcolor": "white",
            "linecolor": "white",
            "ticks": ""
           },
           "baxis": {
            "gridcolor": "white",
            "linecolor": "white",
            "ticks": ""
           },
           "bgcolor": "#E5ECF6",
           "caxis": {
            "gridcolor": "white",
            "linecolor": "white",
            "ticks": ""
           }
          },
          "title": {
           "x": 0.05
          },
          "xaxis": {
           "automargin": true,
           "gridcolor": "white",
           "linecolor": "white",
           "ticks": "",
           "title": {
            "standoff": 15
           },
           "zerolinecolor": "white",
           "zerolinewidth": 2
          },
          "yaxis": {
           "automargin": true,
           "gridcolor": "white",
           "linecolor": "white",
           "ticks": "",
           "title": {
            "standoff": 15
           },
           "zerolinecolor": "white",
           "zerolinewidth": 2
          }
         }
        },
        "title": {
         "text": "Estimation de la likelihood"
        },
        "xaxis": {
         "tickfont": {
          "size": 12
         },
         "title": {
          "text": "Theta"
         }
        },
        "yaxis": {
         "range": [
          -300,
          500
         ],
         "tickfont": {
          "size": 12
         },
         "title": {
          "text": "Likelihood"
         }
        }
       }
      }
     },
     "metadata": {},
     "output_type": "display_data"
    }
   ],
   "source": [
    "Code.plot_likelihood(r, x, noised_A, noised_b, theta_true, n_simulations, \"all\")"
   ]
  },
  {
   "cell_type": "markdown",
   "metadata": {},
   "source": [
    "On fait de même pour le gradient : "
   ]
  },
  {
   "cell_type": "code",
   "execution_count": null,
   "metadata": {},
   "outputs": [
    {
     "data": {
      "application/vnd.plotly.v1+json": {
       "config": {
        "plotlyServerURL": "https://plot.ly"
       },
       "data": [
        {
         "line": {
          "color": "red"
         },
         "mode": "lines",
         "name": "True Gradient",
         "type": "scatter",
         "x": [
          -5.51670171554442,
          -5.347210190120691,
          -5.177718664696962,
          -5.008227139273233,
          -4.838735613849504,
          -4.669244088425776,
          -4.499752563002047,
          -4.3302610375783175,
          -4.160769512154589,
          -3.9912779867308603,
          -3.8217864613071315,
          -3.6522949358834027,
          -3.482803410459674,
          -3.313311885035945,
          -3.1438203596122163,
          -2.9743288341884875,
          -2.8048373087647587,
          -2.63534578334103,
          -2.465854257917301,
          -2.2963627324935723,
          -2.1268712070698435,
          -1.9573796816461146,
          -1.7878881562223858,
          -1.618396630798657,
          -1.4489051053749282,
          -1.2794135799511999,
          -1.1099220545274706,
          -0.9404305291037414,
          -0.770939003680013,
          -0.6014474782562846,
          -0.4319559528325554,
          -0.26246442740882614,
          -0.09297290198509778,
          0.07651862343863058,
          0.24601014886235983,
          0.4155016742860891,
          0.5849931997098174,
          0.7544847251335458,
          0.9239762505572751,
          1.0934677759810043,
          1.2629593014047327,
          1.432450826828461,
          1.6019423522521903,
          1.7714338776759195,
          1.940925403099648,
          2.1104169285233763,
          2.2799084539471055,
          2.4493999793708348,
          2.618891504794563,
          2.7883830302182915,
          2.95787455564202,
          3.12736608106575,
          3.2968576064894783,
          3.4663491319132067,
          3.635840657336937,
          3.805332182760665,
          3.9748237081843936,
          4.144315233608122,
          4.31380675903185,
          4.48329828445558
         ],
         "y": [
          -2.4941979396625067,
          -2.4094521769506425,
          -2.324706414238778,
          -2.2399606515269133,
          -2.155214888815049,
          -2.070469126103185,
          -1.98572336339132,
          -1.9009776006794554,
          -1.8162318379675912,
          -1.7314860752557268,
          -1.6467403125438624,
          -1.561994549831998,
          -1.4772487871201336,
          -1.3925030244082692,
          -1.3077572616964048,
          -1.2230114989845404,
          -1.138265736272676,
          -1.0535199735608116,
          -0.9687742108489472,
          -0.8840284481370828,
          -0.7992826854252184,
          -0.714536922713354,
          -0.6297911600014896,
          -0.5450453972896252,
          -0.46029963457776085,
          -0.37555387186589667,
          -0.29080810915403205,
          -0.20606234644216742,
          -0.12131658373030324,
          -0.03657082101843906,
          0.048174941693425566,
          0.1329207044052902,
          0.21766646711715437,
          0.30241222982901855,
          0.3871579925408832,
          0.4719037552527478,
          0.556649517964612,
          0.6413952806764762,
          0.7261410433883408,
          0.8108868061002055,
          0.8956325688120697,
          0.9803783315239338,
          1.0651240942357985,
          1.149869856947663,
          1.2346156196595273,
          1.3193613823713914,
          1.404107145083256,
          1.4888529077951207,
          1.5735986705069849,
          1.658344433218849,
          1.7430901959307132,
          1.8278359586425783,
          1.9125817213544425,
          1.9973274840663067,
          2.0820732467781715,
          2.1668190094900357,
          2.2515647722019,
          2.336310534913764,
          2.4210562976256282,
          2.5058020603374933
         ]
        },
        {
         "marker": {
          "color": "purple",
          "symbol": "x"
         },
         "mode": "markers",
         "name": "all",
         "type": "scatter",
         "x": [
          -5.51670171554442,
          -5.347210190120691,
          -5.177718664696962,
          -5.008227139273233,
          -4.838735613849504,
          -4.669244088425776,
          -4.499752563002047,
          -4.3302610375783175,
          -4.160769512154589,
          -3.9912779867308603,
          -3.8217864613071315,
          -3.6522949358834027,
          -3.482803410459674,
          -3.313311885035945,
          -3.1438203596122163,
          -2.9743288341884875,
          -2.8048373087647587,
          -2.63534578334103,
          -2.465854257917301,
          -2.2963627324935723,
          -2.1268712070698435,
          -1.9573796816461146,
          -1.7878881562223858,
          -1.618396630798657,
          -1.4489051053749282,
          -1.2794135799511999,
          -1.1099220545274706,
          -0.9404305291037414,
          -0.770939003680013,
          -0.6014474782562846,
          -0.4319559528325554,
          -0.26246442740882614,
          -0.09297290198509778,
          0.07651862343863058,
          0.24601014886235983,
          0.4155016742860891,
          0.5849931997098174,
          0.7544847251335458,
          0.9239762505572751,
          1.0934677759810043,
          1.2629593014047327,
          1.432450826828461,
          1.6019423522521903,
          1.7714338776759195,
          1.940925403099648,
          2.1104169285233763,
          2.2799084539471055,
          2.4493999793708348,
          2.618891504794563,
          2.7883830302182915,
          2.95787455564202,
          3.12736608106575,
          3.2968576064894783,
          3.4663491319132067,
          3.635840657336937,
          3.805332182760665,
          3.9748237081843936,
          4.144315233608122,
          4.31380675903185,
          4.48329828445558
         ],
         "y": [
          -13.267747129406386,
          -0.862678361968932,
          -6.182814390104852,
          18.718099842766364,
          5.4822534400682486,
          -27.525488728492803,
          5.397732406295319,
          11.191524122463647,
          21.85590334235323,
          10.965967549987155,
          -17.432201705819892,
          -25.264828167055683,
          -10.2636932939171,
          32.53459196960776,
          -1.1214799526795787,
          -21.40588637295221,
          3.7025086257565505,
          2.3962556717743837,
          23.251638882244094,
          -9.138641898283538,
          -10.3557219200908,
          55.2023247925124,
          -3.653710406024558,
          -48.027263414650946,
          -2.59842884148577,
          -5.8993463926785665,
          -4.823139496002554,
          259.92887968134613,
          1.988047919426677,
          -261.2870125176377,
          -9.479408805176405,
          -1.7128578636862386,
          4.250012016111924,
          14.123270753063196,
          43.538709651925586,
          -8.558338194010062,
          -46.9584957673129,
          -0.3348691215069266,
          1.0308484037714152,
          62.113393813866196,
          -2.076366248631288,
          -60.9483018328163,
          12.10724170136534,
          14.934673235133545,
          -3.6823490574396374,
          -6.53412154530794,
          -2.52124534202396,
          -4.78536282210851,
          -0.6994478983978496,
          -8.695199537998121,
          -7.18963160140207,
          18.080034252308224,
          13.089905251942412,
          -5.997994373049721,
          5.3073035136043245,
          2.219198816053151,
          -5.180528549914868,
          -12.70553469074116,
          -1.1059999139028065,
          12.638159467796301
         ]
        },
        {
         "marker": {
          "color": "orange",
          "symbol": "x"
         },
         "mode": "markers",
         "name": "all",
         "type": "scatter",
         "x": [
          -5.51670171554442,
          -5.347210190120691,
          -5.177718664696962,
          -5.008227139273233,
          -4.838735613849504,
          -4.669244088425776,
          -4.499752563002047,
          -4.3302610375783175,
          -4.160769512154589,
          -3.9912779867308603,
          -3.8217864613071315,
          -3.6522949358834027,
          -3.482803410459674,
          -3.313311885035945,
          -3.1438203596122163,
          -2.9743288341884875,
          -2.8048373087647587,
          -2.63534578334103,
          -2.465854257917301,
          -2.2963627324935723,
          -2.1268712070698435,
          -1.9573796816461146,
          -1.7878881562223858,
          -1.618396630798657,
          -1.4489051053749282,
          -1.2794135799511999,
          -1.1099220545274706,
          -0.9404305291037414,
          -0.770939003680013,
          -0.6014474782562846,
          -0.4319559528325554,
          -0.26246442740882614,
          -0.09297290198509778,
          0.07651862343863058,
          0.24601014886235983,
          0.4155016742860891,
          0.5849931997098174,
          0.7544847251335458,
          0.9239762505572751,
          1.0934677759810043,
          1.2629593014047327,
          1.432450826828461,
          1.6019423522521903,
          1.7714338776759195,
          1.940925403099648,
          2.1104169285233763,
          2.2799084539471055,
          2.4493999793708348,
          2.618891504794563,
          2.7883830302182915,
          2.95787455564202,
          3.12736608106575,
          3.2968576064894783,
          3.4663491319132067,
          3.635840657336937,
          3.805332182760665,
          3.9748237081843936,
          4.144315233608122,
          4.31380675903185,
          4.48329828445558
         ],
         "y": [
          76.94366681954274,
          59.122802701836775,
          -20.7107258882872,
          -43.23265663631127,
          -11.76840120309231,
          -14.38794030378547,
          -12.222211283482679,
          120.06249251036971,
          0.3797215878925897,
          -123.05955296506744,
          -4.214560429840361,
          5.35102819779604,
          1168.9542678350033,
          -13.426438347505098,
          -1096.6153780558072,
          6.612563519812113,
          -70.66302102518486,
          34.55301406427354,
          27.077160507842308,
          -35.6541126223042,
          -20.881154022373153,
          -3.394918912589759,
          -10.24802160344467,
          2.9011713984591694,
          153.19965133755187,
          -2.0285745643617474,
          -134.66830398871392,
          19.14939244334667,
          -12.399965687062235,
          -10.717792460120705,
          205.43613798188073,
          -0.22314467782406666,
          -195.7274577620945,
          8.906144421729792,
          -9.093775822310292,
          14.327887705781023,
          59.20672401423084,
          -33.93679463737999,
          -63.62277897690307,
          3.973555973106997,
          -8.550372768058907,
          17.173491513986463,
          33.165498935031195,
          9.752593547174158,
          -6.086867709318952,
          10.142231492513773,
          14.208178341331703,
          -27.01120496232393,
          -31.336142594972117,
          4.015632239789554,
          12.18984862655121,
          -14.449426603139685,
          8.709523285839452,
          -1.1767686875239747,
          -14.572708836928058,
          185.18913601580442,
          81.86371120165794,
          -178.18414094843632,
          -78.04530837841796,
          2.1708612223711463
         ]
        },
        {
         "marker": {
          "color": "green",
          "symbol": "x"
         },
         "mode": "markers",
         "name": "all",
         "type": "scatter",
         "x": [
          -5.51670171554442,
          -5.347210190120691,
          -5.177718664696962,
          -5.008227139273233,
          -4.838735613849504,
          -4.669244088425776,
          -4.499752563002047,
          -4.3302610375783175,
          -4.160769512154589,
          -3.9912779867308603,
          -3.8217864613071315,
          -3.6522949358834027,
          -3.482803410459674,
          -3.313311885035945,
          -3.1438203596122163,
          -2.9743288341884875,
          -2.8048373087647587,
          -2.63534578334103,
          -2.465854257917301,
          -2.2963627324935723,
          -2.1268712070698435,
          -1.9573796816461146,
          -1.7878881562223858,
          -1.618396630798657,
          -1.4489051053749282,
          -1.2794135799511999,
          -1.1099220545274706,
          -0.9404305291037414,
          -0.770939003680013,
          -0.6014474782562846,
          -0.4319559528325554,
          -0.26246442740882614,
          -0.09297290198509778,
          0.07651862343863058,
          0.24601014886235983,
          0.4155016742860891,
          0.5849931997098174,
          0.7544847251335458,
          0.9239762505572751,
          1.0934677759810043,
          1.2629593014047327,
          1.432450826828461,
          1.6019423522521903,
          1.7714338776759195,
          1.940925403099648,
          2.1104169285233763,
          2.2799084539471055,
          2.4493999793708348,
          2.618891504794563,
          2.7883830302182915,
          2.95787455564202,
          3.12736608106575,
          3.2968576064894783,
          3.4663491319132067,
          3.635840657336937,
          3.805332182760665,
          3.9748237081843936,
          4.144315233608122,
          4.31380675903185,
          4.48329828445558
         ],
         "y": [
          -5.319494007176127,
          -9.012044827581349,
          -2.65179508302235,
          -1.2766818512840246,
          0.8436766655472923,
          12.07135639740298,
          -6.210201982031975,
          58.69923486963245,
          2.867860845930295,
          -70.22494645171022,
          3.24983473884177,
          -1.0446907655205848,
          -6.735046431028394,
          -0.20142183732400554,
          28.586141522744825,
          -2.1049008062826147,
          -28.592609555532007,
          10.786192969465503,
          11.82995910726595,
          -9.282034216603023,
          -6.338237819876213,
          215.76454077997022,
          30.727748054298644,
          -215.515882034906,
          -35.403902237571714,
          6.062284749681311,
          18.2696514752233,
          -10.871613058777143,
          -17.618452634282562,
          2.4614319420077777,
          0.43036320761183333,
          1.064133051715345,
          0.27462131423700953,
          12.117803952778829,
          14.829960188279799,
          250.26028830491265,
          -10.696670430676306,
          -262.7959706854483,
          24.858308189042404,
          5.364460561938955,
          -32.28750079827438,
          13.97563994870076,
          48.76539077830469,
          -0.8954022793909928,
          -40.888941502005096,
          10.85467177050566,
          -5.273813647079265,
          -26.793810362149202,
          -1.3209912930598762,
          0.733329384034505,
          3.241386014281062,
          -2.3809137259767397,
          -6.115751231832974,
          -2.8972364675234417,
          26.963341275667688,
          7.493718352732685,
          -20.57961847545232,
          8.125988486396125,
          0.7908032017089681,
          -14.763519395453734
         ]
        },
        {
         "marker": {
          "color": "yellow",
          "symbol": "x"
         },
         "mode": "markers",
         "name": "all",
         "type": "scatter",
         "x": [
          -5.51670171554442,
          -5.347210190120691,
          -5.177718664696962,
          -5.008227139273233,
          -4.838735613849504,
          -4.669244088425776,
          -4.499752563002047,
          -4.3302610375783175,
          -4.160769512154589,
          -3.9912779867308603,
          -3.8217864613071315,
          -3.6522949358834027,
          -3.482803410459674,
          -3.313311885035945,
          -3.1438203596122163,
          -2.9743288341884875,
          -2.8048373087647587,
          -2.63534578334103,
          -2.465854257917301,
          -2.2963627324935723,
          -2.1268712070698435,
          -1.9573796816461146,
          -1.7878881562223858,
          -1.618396630798657,
          -1.4489051053749282,
          -1.2794135799511999,
          -1.1099220545274706,
          -0.9404305291037414,
          -0.770939003680013,
          -0.6014474782562846,
          -0.4319559528325554,
          -0.26246442740882614,
          -0.09297290198509778,
          0.07651862343863058,
          0.24601014886235983,
          0.4155016742860891,
          0.5849931997098174,
          0.7544847251335458,
          0.9239762505572751,
          1.0934677759810043,
          1.2629593014047327,
          1.432450826828461,
          1.6019423522521903,
          1.7714338776759195,
          1.940925403099648,
          2.1104169285233763,
          2.2799084539471055,
          2.4493999793708348,
          2.618891504794563,
          2.7883830302182915,
          2.95787455564202,
          3.12736608106575,
          3.2968576064894783,
          3.4663491319132067,
          3.635840657336937,
          3.805332182760665,
          3.9748237081843936,
          4.144315233608122,
          4.31380675903185,
          4.48329828445558
         ],
         "y": [
          0.3743953254603152,
          -0.2762283817551321,
          -0.12700503900491356,
          0.3265558527575365,
          -0.5737926036225929,
          -0.2235746504979943,
          0.5832662720027031,
          0.42996954373091967,
          -0.8552255346653936,
          -0.5795294459912412,
          0.48996823041518667,
          0.49177419616815143,
          -0.3922585129979552,
          -0.29310375555505175,
          0.2491883393133918,
          -0.2831141408993574,
          0.3728110812585044,
          -0.12353416194576994,
          -0.6026974508648237,
          0.04935408467497382,
          0.5586555355458103,
          0.22717302461235533,
          -0.004786931979737119,
          -0.4133497316653063,
          -0.04780378749791225,
          0.7054331903525366,
          0.08704274384187727,
          -0.2700957912082629,
          -1.2800390974438614,
          -0.3761761378467554,
          0.7904258623675702,
          -0.009684098312646938,
          0.0766019167683396,
          -0.11990675014241958,
          0.9331164369702378,
          0.7966640726453136,
          -0.7255612134916731,
          0.01340038539083821,
          0.199659229145567,
          -0.6766362743196339,
          -0.6912740342882131,
          0.3319459323305267,
          0.312205481200337,
          0.11673782154639412,
          -0.1549461524911635,
          -0.7846547511850872,
          0.8172493851521523,
          -0.03215468188949444,
          0.03457433811769306,
          0.38066594066684445,
          -0.3117620408366122,
          0.5294106962055025,
          -0.19489648419597927,
          0.28371967742795334,
          -0.3870334786793279,
          -0.6688256732245037,
          0.6732688702876715,
          -0.3628360959158101,
          -0.36602694095695654,
          0.9214443718893398
         ]
        }
       ],
       "layout": {
        "legend": {
         "font": {
          "size": 12
         },
         "traceorder": "normal",
         "x": 0,
         "y": 1
        },
        "shapes": [
         {
          "line": {
           "color": "black",
           "dash": "dash",
           "width": 2
          },
          "name": "theta=-0.5167017155444199",
          "type": "line",
          "x0": -0.5167017155444199,
          "x1": -0.5167017155444199,
          "y0": -1096.6153780558072,
          "y1": 1168.9542678350033
         }
        ],
        "showlegend": true,
        "template": {
         "data": {
          "bar": [
           {
            "error_x": {
             "color": "#2a3f5f"
            },
            "error_y": {
             "color": "#2a3f5f"
            },
            "marker": {
             "line": {
              "color": "#E5ECF6",
              "width": 0.5
             },
             "pattern": {
              "fillmode": "overlay",
              "size": 10,
              "solidity": 0.2
             }
            },
            "type": "bar"
           }
          ],
          "barpolar": [
           {
            "marker": {
             "line": {
              "color": "#E5ECF6",
              "width": 0.5
             },
             "pattern": {
              "fillmode": "overlay",
              "size": 10,
              "solidity": 0.2
             }
            },
            "type": "barpolar"
           }
          ],
          "carpet": [
           {
            "aaxis": {
             "endlinecolor": "#2a3f5f",
             "gridcolor": "white",
             "linecolor": "white",
             "minorgridcolor": "white",
             "startlinecolor": "#2a3f5f"
            },
            "baxis": {
             "endlinecolor": "#2a3f5f",
             "gridcolor": "white",
             "linecolor": "white",
             "minorgridcolor": "white",
             "startlinecolor": "#2a3f5f"
            },
            "type": "carpet"
           }
          ],
          "choropleth": [
           {
            "colorbar": {
             "outlinewidth": 0,
             "ticks": ""
            },
            "type": "choropleth"
           }
          ],
          "contour": [
           {
            "colorbar": {
             "outlinewidth": 0,
             "ticks": ""
            },
            "colorscale": [
             [
              0,
              "#0d0887"
             ],
             [
              0.1111111111111111,
              "#46039f"
             ],
             [
              0.2222222222222222,
              "#7201a8"
             ],
             [
              0.3333333333333333,
              "#9c179e"
             ],
             [
              0.4444444444444444,
              "#bd3786"
             ],
             [
              0.5555555555555556,
              "#d8576b"
             ],
             [
              0.6666666666666666,
              "#ed7953"
             ],
             [
              0.7777777777777778,
              "#fb9f3a"
             ],
             [
              0.8888888888888888,
              "#fdca26"
             ],
             [
              1,
              "#f0f921"
             ]
            ],
            "type": "contour"
           }
          ],
          "contourcarpet": [
           {
            "colorbar": {
             "outlinewidth": 0,
             "ticks": ""
            },
            "type": "contourcarpet"
           }
          ],
          "heatmap": [
           {
            "colorbar": {
             "outlinewidth": 0,
             "ticks": ""
            },
            "colorscale": [
             [
              0,
              "#0d0887"
             ],
             [
              0.1111111111111111,
              "#46039f"
             ],
             [
              0.2222222222222222,
              "#7201a8"
             ],
             [
              0.3333333333333333,
              "#9c179e"
             ],
             [
              0.4444444444444444,
              "#bd3786"
             ],
             [
              0.5555555555555556,
              "#d8576b"
             ],
             [
              0.6666666666666666,
              "#ed7953"
             ],
             [
              0.7777777777777778,
              "#fb9f3a"
             ],
             [
              0.8888888888888888,
              "#fdca26"
             ],
             [
              1,
              "#f0f921"
             ]
            ],
            "type": "heatmap"
           }
          ],
          "heatmapgl": [
           {
            "colorbar": {
             "outlinewidth": 0,
             "ticks": ""
            },
            "colorscale": [
             [
              0,
              "#0d0887"
             ],
             [
              0.1111111111111111,
              "#46039f"
             ],
             [
              0.2222222222222222,
              "#7201a8"
             ],
             [
              0.3333333333333333,
              "#9c179e"
             ],
             [
              0.4444444444444444,
              "#bd3786"
             ],
             [
              0.5555555555555556,
              "#d8576b"
             ],
             [
              0.6666666666666666,
              "#ed7953"
             ],
             [
              0.7777777777777778,
              "#fb9f3a"
             ],
             [
              0.8888888888888888,
              "#fdca26"
             ],
             [
              1,
              "#f0f921"
             ]
            ],
            "type": "heatmapgl"
           }
          ],
          "histogram": [
           {
            "marker": {
             "pattern": {
              "fillmode": "overlay",
              "size": 10,
              "solidity": 0.2
             }
            },
            "type": "histogram"
           }
          ],
          "histogram2d": [
           {
            "colorbar": {
             "outlinewidth": 0,
             "ticks": ""
            },
            "colorscale": [
             [
              0,
              "#0d0887"
             ],
             [
              0.1111111111111111,
              "#46039f"
             ],
             [
              0.2222222222222222,
              "#7201a8"
             ],
             [
              0.3333333333333333,
              "#9c179e"
             ],
             [
              0.4444444444444444,
              "#bd3786"
             ],
             [
              0.5555555555555556,
              "#d8576b"
             ],
             [
              0.6666666666666666,
              "#ed7953"
             ],
             [
              0.7777777777777778,
              "#fb9f3a"
             ],
             [
              0.8888888888888888,
              "#fdca26"
             ],
             [
              1,
              "#f0f921"
             ]
            ],
            "type": "histogram2d"
           }
          ],
          "histogram2dcontour": [
           {
            "colorbar": {
             "outlinewidth": 0,
             "ticks": ""
            },
            "colorscale": [
             [
              0,
              "#0d0887"
             ],
             [
              0.1111111111111111,
              "#46039f"
             ],
             [
              0.2222222222222222,
              "#7201a8"
             ],
             [
              0.3333333333333333,
              "#9c179e"
             ],
             [
              0.4444444444444444,
              "#bd3786"
             ],
             [
              0.5555555555555556,
              "#d8576b"
             ],
             [
              0.6666666666666666,
              "#ed7953"
             ],
             [
              0.7777777777777778,
              "#fb9f3a"
             ],
             [
              0.8888888888888888,
              "#fdca26"
             ],
             [
              1,
              "#f0f921"
             ]
            ],
            "type": "histogram2dcontour"
           }
          ],
          "mesh3d": [
           {
            "colorbar": {
             "outlinewidth": 0,
             "ticks": ""
            },
            "type": "mesh3d"
           }
          ],
          "parcoords": [
           {
            "line": {
             "colorbar": {
              "outlinewidth": 0,
              "ticks": ""
             }
            },
            "type": "parcoords"
           }
          ],
          "pie": [
           {
            "automargin": true,
            "type": "pie"
           }
          ],
          "scatter": [
           {
            "fillpattern": {
             "fillmode": "overlay",
             "size": 10,
             "solidity": 0.2
            },
            "type": "scatter"
           }
          ],
          "scatter3d": [
           {
            "line": {
             "colorbar": {
              "outlinewidth": 0,
              "ticks": ""
             }
            },
            "marker": {
             "colorbar": {
              "outlinewidth": 0,
              "ticks": ""
             }
            },
            "type": "scatter3d"
           }
          ],
          "scattercarpet": [
           {
            "marker": {
             "colorbar": {
              "outlinewidth": 0,
              "ticks": ""
             }
            },
            "type": "scattercarpet"
           }
          ],
          "scattergeo": [
           {
            "marker": {
             "colorbar": {
              "outlinewidth": 0,
              "ticks": ""
             }
            },
            "type": "scattergeo"
           }
          ],
          "scattergl": [
           {
            "marker": {
             "colorbar": {
              "outlinewidth": 0,
              "ticks": ""
             }
            },
            "type": "scattergl"
           }
          ],
          "scattermapbox": [
           {
            "marker": {
             "colorbar": {
              "outlinewidth": 0,
              "ticks": ""
             }
            },
            "type": "scattermapbox"
           }
          ],
          "scatterpolar": [
           {
            "marker": {
             "colorbar": {
              "outlinewidth": 0,
              "ticks": ""
             }
            },
            "type": "scatterpolar"
           }
          ],
          "scatterpolargl": [
           {
            "marker": {
             "colorbar": {
              "outlinewidth": 0,
              "ticks": ""
             }
            },
            "type": "scatterpolargl"
           }
          ],
          "scatterternary": [
           {
            "marker": {
             "colorbar": {
              "outlinewidth": 0,
              "ticks": ""
             }
            },
            "type": "scatterternary"
           }
          ],
          "surface": [
           {
            "colorbar": {
             "outlinewidth": 0,
             "ticks": ""
            },
            "colorscale": [
             [
              0,
              "#0d0887"
             ],
             [
              0.1111111111111111,
              "#46039f"
             ],
             [
              0.2222222222222222,
              "#7201a8"
             ],
             [
              0.3333333333333333,
              "#9c179e"
             ],
             [
              0.4444444444444444,
              "#bd3786"
             ],
             [
              0.5555555555555556,
              "#d8576b"
             ],
             [
              0.6666666666666666,
              "#ed7953"
             ],
             [
              0.7777777777777778,
              "#fb9f3a"
             ],
             [
              0.8888888888888888,
              "#fdca26"
             ],
             [
              1,
              "#f0f921"
             ]
            ],
            "type": "surface"
           }
          ],
          "table": [
           {
            "cells": {
             "fill": {
              "color": "#EBF0F8"
             },
             "line": {
              "color": "white"
             }
            },
            "header": {
             "fill": {
              "color": "#C8D4E3"
             },
             "line": {
              "color": "white"
             }
            },
            "type": "table"
           }
          ]
         },
         "layout": {
          "annotationdefaults": {
           "arrowcolor": "#2a3f5f",
           "arrowhead": 0,
           "arrowwidth": 1
          },
          "autotypenumbers": "strict",
          "coloraxis": {
           "colorbar": {
            "outlinewidth": 0,
            "ticks": ""
           }
          },
          "colorscale": {
           "diverging": [
            [
             0,
             "#8e0152"
            ],
            [
             0.1,
             "#c51b7d"
            ],
            [
             0.2,
             "#de77ae"
            ],
            [
             0.3,
             "#f1b6da"
            ],
            [
             0.4,
             "#fde0ef"
            ],
            [
             0.5,
             "#f7f7f7"
            ],
            [
             0.6,
             "#e6f5d0"
            ],
            [
             0.7,
             "#b8e186"
            ],
            [
             0.8,
             "#7fbc41"
            ],
            [
             0.9,
             "#4d9221"
            ],
            [
             1,
             "#276419"
            ]
           ],
           "sequential": [
            [
             0,
             "#0d0887"
            ],
            [
             0.1111111111111111,
             "#46039f"
            ],
            [
             0.2222222222222222,
             "#7201a8"
            ],
            [
             0.3333333333333333,
             "#9c179e"
            ],
            [
             0.4444444444444444,
             "#bd3786"
            ],
            [
             0.5555555555555556,
             "#d8576b"
            ],
            [
             0.6666666666666666,
             "#ed7953"
            ],
            [
             0.7777777777777778,
             "#fb9f3a"
            ],
            [
             0.8888888888888888,
             "#fdca26"
            ],
            [
             1,
             "#f0f921"
            ]
           ],
           "sequentialminus": [
            [
             0,
             "#0d0887"
            ],
            [
             0.1111111111111111,
             "#46039f"
            ],
            [
             0.2222222222222222,
             "#7201a8"
            ],
            [
             0.3333333333333333,
             "#9c179e"
            ],
            [
             0.4444444444444444,
             "#bd3786"
            ],
            [
             0.5555555555555556,
             "#d8576b"
            ],
            [
             0.6666666666666666,
             "#ed7953"
            ],
            [
             0.7777777777777778,
             "#fb9f3a"
            ],
            [
             0.8888888888888888,
             "#fdca26"
            ],
            [
             1,
             "#f0f921"
            ]
           ]
          },
          "colorway": [
           "#636efa",
           "#EF553B",
           "#00cc96",
           "#ab63fa",
           "#FFA15A",
           "#19d3f3",
           "#FF6692",
           "#B6E880",
           "#FF97FF",
           "#FECB52"
          ],
          "font": {
           "color": "#2a3f5f"
          },
          "geo": {
           "bgcolor": "white",
           "lakecolor": "white",
           "landcolor": "#E5ECF6",
           "showlakes": true,
           "showland": true,
           "subunitcolor": "white"
          },
          "hoverlabel": {
           "align": "left"
          },
          "hovermode": "closest",
          "mapbox": {
           "style": "light"
          },
          "paper_bgcolor": "white",
          "plot_bgcolor": "#E5ECF6",
          "polar": {
           "angularaxis": {
            "gridcolor": "white",
            "linecolor": "white",
            "ticks": ""
           },
           "bgcolor": "#E5ECF6",
           "radialaxis": {
            "gridcolor": "white",
            "linecolor": "white",
            "ticks": ""
           }
          },
          "scene": {
           "xaxis": {
            "backgroundcolor": "#E5ECF6",
            "gridcolor": "white",
            "gridwidth": 2,
            "linecolor": "white",
            "showbackground": true,
            "ticks": "",
            "zerolinecolor": "white"
           },
           "yaxis": {
            "backgroundcolor": "#E5ECF6",
            "gridcolor": "white",
            "gridwidth": 2,
            "linecolor": "white",
            "showbackground": true,
            "ticks": "",
            "zerolinecolor": "white"
           },
           "zaxis": {
            "backgroundcolor": "#E5ECF6",
            "gridcolor": "white",
            "gridwidth": 2,
            "linecolor": "white",
            "showbackground": true,
            "ticks": "",
            "zerolinecolor": "white"
           }
          },
          "shapedefaults": {
           "line": {
            "color": "#2a3f5f"
           }
          },
          "ternary": {
           "aaxis": {
            "gridcolor": "white",
            "linecolor": "white",
            "ticks": ""
           },
           "baxis": {
            "gridcolor": "white",
            "linecolor": "white",
            "ticks": ""
           },
           "bgcolor": "#E5ECF6",
           "caxis": {
            "gridcolor": "white",
            "linecolor": "white",
            "ticks": ""
           }
          },
          "title": {
           "x": 0.05
          },
          "xaxis": {
           "automargin": true,
           "gridcolor": "white",
           "linecolor": "white",
           "ticks": "",
           "title": {
            "standoff": 15
           },
           "zerolinecolor": "white",
           "zerolinewidth": 2
          },
          "yaxis": {
           "automargin": true,
           "gridcolor": "white",
           "linecolor": "white",
           "ticks": "",
           "title": {
            "standoff": 15
           },
           "zerolinecolor": "white",
           "zerolinewidth": 2
          }
         }
        },
        "title": {
         "text": "Comparaison des estimateurs du gradient"
        },
        "xaxis": {
         "title": {
          "text": "Theta"
         }
        },
        "yaxis": {
         "title": {
          "text": "Gradient"
         }
        }
       }
      }
     },
     "metadata": {},
     "output_type": "display_data"
    }
   ],
   "source": [
    "Code.plot_gradient(r, x, noised_A, noised_b, theta_true, n_simulations, 'all')"
   ]
  },
  {
   "cell_type": "markdown",
   "metadata": {},
   "source": [
    "## <span style=\"color:green\">  **Partie 2. Analyse du Biais et de la Variance des estimateurs**  </span>\n",
    "\n",
    "Dans cette partie, nous allons comparer les différents estimateurs de la vraisemblance et du gradient en termes de Biais et de Variance (Figure 2 dans la Section de 9 de [l'article](https://proceedings.mlr.press/v130/shi21d.html)).\n",
    "\n",
    "Le biais d'un estimateur de la vraisemblance $ \\ell({\\theta})$ est donné par : ${\\displaystyle {\\text{Biais}}({\\hat {\\theta }}) := \\| \\mathbb {E} [\\ell({\\hat {\\theta }})]-\\ell(\\theta) \\| ^ 2 }$.\n",
    "\n",
    "La variance d'un estimateur de la vraisemblance $ \\ell({\\theta})$ est donné par : $ \\text{Var}(\\ell(\\hat{\\theta})) = \\mathbb{E}\\left[(\\ell(\\hat{\\theta}) - \\mathbb{E}[\\ell(\\hat{\\theta})])^2 \\right]$\n",
    "\n",
    "Traçons le Biais au carré de chacun des estimateurs en fonctions de l'espérance du coût computationnel ?? "
   ]
  },
  {
   "cell_type": "code",
   "execution_count": 21,
   "metadata": {},
   "outputs": [
    {
     "data": {
      "application/vnd.plotly.v1+json": {
       "config": {
        "plotlyServerURL": "https://plot.ly"
       },
       "data": [
        {
         "line": {
          "color": "green"
         },
         "mode": "lines",
         "name": "SUMO",
         "type": "scatter",
         "x": [
          0.2,
          0.24210526315789474,
          0.28421052631578947,
          0.3263157894736842,
          0.368421052631579,
          0.4105263157894737,
          0.45263157894736844,
          0.49473684210526314,
          0.5368421052631579,
          0.5789473684210527,
          0.6210526315789473,
          0.6631578947368422,
          0.7052631578947368,
          0.7473684210526317,
          0.7894736842105263,
          0.831578947368421,
          0.8736842105263158,
          0.9157894736842105,
          0.9578947368421054,
          1
         ],
         "y": [
          56.25231804622708,
          69.24104550705853,
          54.31295054409872,
          51.659197088556276,
          45.290383935400875,
          40.05974049418385,
          73.61928524937879,
          37.84467582482625,
          48.97733975994358,
          33.52147103574674,
          49.91456201402674,
          51.672099629993184,
          51.67684948519009,
          49.41360154466975,
          46.49991867690027,
          50.70899681260152,
          60.50968786986249,
          49.91001240388276,
          51.43380182831086,
          46.30497404923626
         ]
        },
        {
         "line": {
          "color": "purple"
         },
         "mode": "lines",
         "name": "ML_SS",
         "type": "scatter",
         "x": [
          0.2,
          0.24210526315789474,
          0.28421052631578947,
          0.3263157894736842,
          0.368421052631579,
          0.4105263157894737,
          0.45263157894736844,
          0.49473684210526314,
          0.5368421052631579,
          0.5789473684210527,
          0.6210526315789473,
          0.6631578947368422,
          0.7052631578947368,
          0.7473684210526317,
          0.7894736842105263,
          0.831578947368421,
          0.8736842105263158,
          0.9157894736842105,
          0.9578947368421054,
          1
         ],
         "y": [
          52.22197314677247,
          52.305142353375444,
          49.21605471253864,
          47.3241616868694,
          37.90327097601292,
          42.192177836118525,
          48.61414223590239,
          47.754606830123734,
          45.00434588945052,
          40.121035712076136,
          45.96901019655873,
          47.502535991212206,
          47.770401079997164,
          45.580949819206865,
          41.13680207013419,
          46.79938380152141,
          43.71982856599427,
          42.894984340027534,
          46.22662184580478,
          40.76792024935298
         ]
        },
        {
         "line": {
          "color": "orange"
         },
         "mode": "lines",
         "name": "ML_RR",
         "type": "scatter",
         "x": [
          0.2,
          0.24210526315789474,
          0.28421052631578947,
          0.3263157894736842,
          0.368421052631579,
          0.4105263157894737,
          0.45263157894736844,
          0.49473684210526314,
          0.5368421052631579,
          0.5789473684210527,
          0.6210526315789473,
          0.6631578947368422,
          0.7052631578947368,
          0.7473684210526317,
          0.7894736842105263,
          0.831578947368421,
          0.8736842105263158,
          0.9157894736842105,
          0.9578947368421054,
          1
         ],
         "y": [
          28.170092995375388,
          44.24028992592329,
          41.62594236573825,
          40.683369696399886,
          45.32162366010093,
          52.53520191303953,
          35.62754024473485,
          43.02691842178645,
          47.545863761756166,
          44.388381455636065,
          44.50751139450464,
          33.4072299402591,
          30.953762621539354,
          48.091249772213246,
          41.494262876250296,
          41.03777311874202,
          42.112423127629555,
          43.03054311918539,
          54.4674968677035,
          50.78234960746811
         ]
        },
        {
         "line": {
          "color": "yellow"
         },
         "mode": "lines",
         "name": "IWAE",
         "type": "scatter",
         "x": [
          0.2,
          0.24210526315789474,
          0.28421052631578947,
          0.3263157894736842,
          0.368421052631579,
          0.4105263157894737,
          0.45263157894736844,
          0.49473684210526314,
          0.5368421052631579,
          0.5789473684210527,
          0.6210526315789473,
          0.6631578947368422,
          0.7052631578947368,
          0.7473684210526317,
          0.7894736842105263,
          0.831578947368421,
          0.8736842105263158,
          0.9157894736842105,
          0.9578947368421054,
          1
         ],
         "y": [
          42.534146555778186,
          39.10116884917149,
          44.675485672866664,
          41.25171631588666,
          50.69265276638835,
          50.18240154818477,
          52.66013587479059,
          38.82610841590105,
          40.9569200388208,
          84.17879546060396,
          62.14823358856412,
          51.65060229299099,
          63.55791377598836,
          66.64493074352414,
          41.21695792547673,
          47.78530360367383,
          61.77573813754698,
          61.074850378341665,
          59.527980317663314,
          61.551452188650195
         ]
        }
       ],
       "layout": {
        "legend": {
         "font": {
          "size": 12
         },
         "traceorder": "normal",
         "x": 0,
         "y": 1
        },
        "showlegend": true,
        "template": {
         "data": {
          "bar": [
           {
            "error_x": {
             "color": "#2a3f5f"
            },
            "error_y": {
             "color": "#2a3f5f"
            },
            "marker": {
             "line": {
              "color": "#E5ECF6",
              "width": 0.5
             },
             "pattern": {
              "fillmode": "overlay",
              "size": 10,
              "solidity": 0.2
             }
            },
            "type": "bar"
           }
          ],
          "barpolar": [
           {
            "marker": {
             "line": {
              "color": "#E5ECF6",
              "width": 0.5
             },
             "pattern": {
              "fillmode": "overlay",
              "size": 10,
              "solidity": 0.2
             }
            },
            "type": "barpolar"
           }
          ],
          "carpet": [
           {
            "aaxis": {
             "endlinecolor": "#2a3f5f",
             "gridcolor": "white",
             "linecolor": "white",
             "minorgridcolor": "white",
             "startlinecolor": "#2a3f5f"
            },
            "baxis": {
             "endlinecolor": "#2a3f5f",
             "gridcolor": "white",
             "linecolor": "white",
             "minorgridcolor": "white",
             "startlinecolor": "#2a3f5f"
            },
            "type": "carpet"
           }
          ],
          "choropleth": [
           {
            "colorbar": {
             "outlinewidth": 0,
             "ticks": ""
            },
            "type": "choropleth"
           }
          ],
          "contour": [
           {
            "colorbar": {
             "outlinewidth": 0,
             "ticks": ""
            },
            "colorscale": [
             [
              0,
              "#0d0887"
             ],
             [
              0.1111111111111111,
              "#46039f"
             ],
             [
              0.2222222222222222,
              "#7201a8"
             ],
             [
              0.3333333333333333,
              "#9c179e"
             ],
             [
              0.4444444444444444,
              "#bd3786"
             ],
             [
              0.5555555555555556,
              "#d8576b"
             ],
             [
              0.6666666666666666,
              "#ed7953"
             ],
             [
              0.7777777777777778,
              "#fb9f3a"
             ],
             [
              0.8888888888888888,
              "#fdca26"
             ],
             [
              1,
              "#f0f921"
             ]
            ],
            "type": "contour"
           }
          ],
          "contourcarpet": [
           {
            "colorbar": {
             "outlinewidth": 0,
             "ticks": ""
            },
            "type": "contourcarpet"
           }
          ],
          "heatmap": [
           {
            "colorbar": {
             "outlinewidth": 0,
             "ticks": ""
            },
            "colorscale": [
             [
              0,
              "#0d0887"
             ],
             [
              0.1111111111111111,
              "#46039f"
             ],
             [
              0.2222222222222222,
              "#7201a8"
             ],
             [
              0.3333333333333333,
              "#9c179e"
             ],
             [
              0.4444444444444444,
              "#bd3786"
             ],
             [
              0.5555555555555556,
              "#d8576b"
             ],
             [
              0.6666666666666666,
              "#ed7953"
             ],
             [
              0.7777777777777778,
              "#fb9f3a"
             ],
             [
              0.8888888888888888,
              "#fdca26"
             ],
             [
              1,
              "#f0f921"
             ]
            ],
            "type": "heatmap"
           }
          ],
          "heatmapgl": [
           {
            "colorbar": {
             "outlinewidth": 0,
             "ticks": ""
            },
            "colorscale": [
             [
              0,
              "#0d0887"
             ],
             [
              0.1111111111111111,
              "#46039f"
             ],
             [
              0.2222222222222222,
              "#7201a8"
             ],
             [
              0.3333333333333333,
              "#9c179e"
             ],
             [
              0.4444444444444444,
              "#bd3786"
             ],
             [
              0.5555555555555556,
              "#d8576b"
             ],
             [
              0.6666666666666666,
              "#ed7953"
             ],
             [
              0.7777777777777778,
              "#fb9f3a"
             ],
             [
              0.8888888888888888,
              "#fdca26"
             ],
             [
              1,
              "#f0f921"
             ]
            ],
            "type": "heatmapgl"
           }
          ],
          "histogram": [
           {
            "marker": {
             "pattern": {
              "fillmode": "overlay",
              "size": 10,
              "solidity": 0.2
             }
            },
            "type": "histogram"
           }
          ],
          "histogram2d": [
           {
            "colorbar": {
             "outlinewidth": 0,
             "ticks": ""
            },
            "colorscale": [
             [
              0,
              "#0d0887"
             ],
             [
              0.1111111111111111,
              "#46039f"
             ],
             [
              0.2222222222222222,
              "#7201a8"
             ],
             [
              0.3333333333333333,
              "#9c179e"
             ],
             [
              0.4444444444444444,
              "#bd3786"
             ],
             [
              0.5555555555555556,
              "#d8576b"
             ],
             [
              0.6666666666666666,
              "#ed7953"
             ],
             [
              0.7777777777777778,
              "#fb9f3a"
             ],
             [
              0.8888888888888888,
              "#fdca26"
             ],
             [
              1,
              "#f0f921"
             ]
            ],
            "type": "histogram2d"
           }
          ],
          "histogram2dcontour": [
           {
            "colorbar": {
             "outlinewidth": 0,
             "ticks": ""
            },
            "colorscale": [
             [
              0,
              "#0d0887"
             ],
             [
              0.1111111111111111,
              "#46039f"
             ],
             [
              0.2222222222222222,
              "#7201a8"
             ],
             [
              0.3333333333333333,
              "#9c179e"
             ],
             [
              0.4444444444444444,
              "#bd3786"
             ],
             [
              0.5555555555555556,
              "#d8576b"
             ],
             [
              0.6666666666666666,
              "#ed7953"
             ],
             [
              0.7777777777777778,
              "#fb9f3a"
             ],
             [
              0.8888888888888888,
              "#fdca26"
             ],
             [
              1,
              "#f0f921"
             ]
            ],
            "type": "histogram2dcontour"
           }
          ],
          "mesh3d": [
           {
            "colorbar": {
             "outlinewidth": 0,
             "ticks": ""
            },
            "type": "mesh3d"
           }
          ],
          "parcoords": [
           {
            "line": {
             "colorbar": {
              "outlinewidth": 0,
              "ticks": ""
             }
            },
            "type": "parcoords"
           }
          ],
          "pie": [
           {
            "automargin": true,
            "type": "pie"
           }
          ],
          "scatter": [
           {
            "fillpattern": {
             "fillmode": "overlay",
             "size": 10,
             "solidity": 0.2
            },
            "type": "scatter"
           }
          ],
          "scatter3d": [
           {
            "line": {
             "colorbar": {
              "outlinewidth": 0,
              "ticks": ""
             }
            },
            "marker": {
             "colorbar": {
              "outlinewidth": 0,
              "ticks": ""
             }
            },
            "type": "scatter3d"
           }
          ],
          "scattercarpet": [
           {
            "marker": {
             "colorbar": {
              "outlinewidth": 0,
              "ticks": ""
             }
            },
            "type": "scattercarpet"
           }
          ],
          "scattergeo": [
           {
            "marker": {
             "colorbar": {
              "outlinewidth": 0,
              "ticks": ""
             }
            },
            "type": "scattergeo"
           }
          ],
          "scattergl": [
           {
            "marker": {
             "colorbar": {
              "outlinewidth": 0,
              "ticks": ""
             }
            },
            "type": "scattergl"
           }
          ],
          "scattermapbox": [
           {
            "marker": {
             "colorbar": {
              "outlinewidth": 0,
              "ticks": ""
             }
            },
            "type": "scattermapbox"
           }
          ],
          "scatterpolar": [
           {
            "marker": {
             "colorbar": {
              "outlinewidth": 0,
              "ticks": ""
             }
            },
            "type": "scatterpolar"
           }
          ],
          "scatterpolargl": [
           {
            "marker": {
             "colorbar": {
              "outlinewidth": 0,
              "ticks": ""
             }
            },
            "type": "scatterpolargl"
           }
          ],
          "scatterternary": [
           {
            "marker": {
             "colorbar": {
              "outlinewidth": 0,
              "ticks": ""
             }
            },
            "type": "scatterternary"
           }
          ],
          "surface": [
           {
            "colorbar": {
             "outlinewidth": 0,
             "ticks": ""
            },
            "colorscale": [
             [
              0,
              "#0d0887"
             ],
             [
              0.1111111111111111,
              "#46039f"
             ],
             [
              0.2222222222222222,
              "#7201a8"
             ],
             [
              0.3333333333333333,
              "#9c179e"
             ],
             [
              0.4444444444444444,
              "#bd3786"
             ],
             [
              0.5555555555555556,
              "#d8576b"
             ],
             [
              0.6666666666666666,
              "#ed7953"
             ],
             [
              0.7777777777777778,
              "#fb9f3a"
             ],
             [
              0.8888888888888888,
              "#fdca26"
             ],
             [
              1,
              "#f0f921"
             ]
            ],
            "type": "surface"
           }
          ],
          "table": [
           {
            "cells": {
             "fill": {
              "color": "#EBF0F8"
             },
             "line": {
              "color": "white"
             }
            },
            "header": {
             "fill": {
              "color": "#C8D4E3"
             },
             "line": {
              "color": "white"
             }
            },
            "type": "table"
           }
          ]
         },
         "layout": {
          "annotationdefaults": {
           "arrowcolor": "#2a3f5f",
           "arrowhead": 0,
           "arrowwidth": 1
          },
          "autotypenumbers": "strict",
          "coloraxis": {
           "colorbar": {
            "outlinewidth": 0,
            "ticks": ""
           }
          },
          "colorscale": {
           "diverging": [
            [
             0,
             "#8e0152"
            ],
            [
             0.1,
             "#c51b7d"
            ],
            [
             0.2,
             "#de77ae"
            ],
            [
             0.3,
             "#f1b6da"
            ],
            [
             0.4,
             "#fde0ef"
            ],
            [
             0.5,
             "#f7f7f7"
            ],
            [
             0.6,
             "#e6f5d0"
            ],
            [
             0.7,
             "#b8e186"
            ],
            [
             0.8,
             "#7fbc41"
            ],
            [
             0.9,
             "#4d9221"
            ],
            [
             1,
             "#276419"
            ]
           ],
           "sequential": [
            [
             0,
             "#0d0887"
            ],
            [
             0.1111111111111111,
             "#46039f"
            ],
            [
             0.2222222222222222,
             "#7201a8"
            ],
            [
             0.3333333333333333,
             "#9c179e"
            ],
            [
             0.4444444444444444,
             "#bd3786"
            ],
            [
             0.5555555555555556,
             "#d8576b"
            ],
            [
             0.6666666666666666,
             "#ed7953"
            ],
            [
             0.7777777777777778,
             "#fb9f3a"
            ],
            [
             0.8888888888888888,
             "#fdca26"
            ],
            [
             1,
             "#f0f921"
            ]
           ],
           "sequentialminus": [
            [
             0,
             "#0d0887"
            ],
            [
             0.1111111111111111,
             "#46039f"
            ],
            [
             0.2222222222222222,
             "#7201a8"
            ],
            [
             0.3333333333333333,
             "#9c179e"
            ],
            [
             0.4444444444444444,
             "#bd3786"
            ],
            [
             0.5555555555555556,
             "#d8576b"
            ],
            [
             0.6666666666666666,
             "#ed7953"
            ],
            [
             0.7777777777777778,
             "#fb9f3a"
            ],
            [
             0.8888888888888888,
             "#fdca26"
            ],
            [
             1,
             "#f0f921"
            ]
           ]
          },
          "colorway": [
           "#636efa",
           "#EF553B",
           "#00cc96",
           "#ab63fa",
           "#FFA15A",
           "#19d3f3",
           "#FF6692",
           "#B6E880",
           "#FF97FF",
           "#FECB52"
          ],
          "font": {
           "color": "#2a3f5f"
          },
          "geo": {
           "bgcolor": "white",
           "lakecolor": "white",
           "landcolor": "#E5ECF6",
           "showlakes": true,
           "showland": true,
           "subunitcolor": "white"
          },
          "hoverlabel": {
           "align": "left"
          },
          "hovermode": "closest",
          "mapbox": {
           "style": "light"
          },
          "paper_bgcolor": "white",
          "plot_bgcolor": "#E5ECF6",
          "polar": {
           "angularaxis": {
            "gridcolor": "white",
            "linecolor": "white",
            "ticks": ""
           },
           "bgcolor": "#E5ECF6",
           "radialaxis": {
            "gridcolor": "white",
            "linecolor": "white",
            "ticks": ""
           }
          },
          "scene": {
           "xaxis": {
            "backgroundcolor": "#E5ECF6",
            "gridcolor": "white",
            "gridwidth": 2,
            "linecolor": "white",
            "showbackground": true,
            "ticks": "",
            "zerolinecolor": "white"
           },
           "yaxis": {
            "backgroundcolor": "#E5ECF6",
            "gridcolor": "white",
            "gridwidth": 2,
            "linecolor": "white",
            "showbackground": true,
            "ticks": "",
            "zerolinecolor": "white"
           },
           "zaxis": {
            "backgroundcolor": "#E5ECF6",
            "gridcolor": "white",
            "gridwidth": 2,
            "linecolor": "white",
            "showbackground": true,
            "ticks": "",
            "zerolinecolor": "white"
           }
          },
          "shapedefaults": {
           "line": {
            "color": "#2a3f5f"
           }
          },
          "ternary": {
           "aaxis": {
            "gridcolor": "white",
            "linecolor": "white",
            "ticks": ""
           },
           "baxis": {
            "gridcolor": "white",
            "linecolor": "white",
            "ticks": ""
           },
           "bgcolor": "#E5ECF6",
           "caxis": {
            "gridcolor": "white",
            "linecolor": "white",
            "ticks": ""
           }
          },
          "title": {
           "x": 0.05
          },
          "xaxis": {
           "automargin": true,
           "gridcolor": "white",
           "linecolor": "white",
           "ticks": "",
           "title": {
            "standoff": 15
           },
           "zerolinecolor": "white",
           "zerolinewidth": 2
          },
          "yaxis": {
           "automargin": true,
           "gridcolor": "white",
           "linecolor": "white",
           "ticks": "",
           "title": {
            "standoff": 15
           },
           "zerolinecolor": "white",
           "zerolinewidth": 2
          }
         }
        },
        "title": {
         "text": "Comparaison du biais des estimateurs de la vraisemblance en fonction du nombre de simulations"
        },
        "xaxis": {
         "title": {
          "text": "Nombre de simulations"
         }
        },
        "yaxis": {
         "title": {
          "text": "Biais de l'estimateur"
         }
        }
       }
      }
     },
     "metadata": {},
     "output_type": "display_data"
    }
   ],
   "source": [
    "Code.plot_bias_variance_likelihood(r, x, theta_true, noised_A, noised_b, 1/5, 1, 2)"
   ]
  },
  {
   "cell_type": "code",
   "execution_count": 16,
   "metadata": {},
   "outputs": [
    {
     "name": "stderr",
     "output_type": "stream",
     "text": [
      "/opt/anaconda3/lib/python3.9/site-packages/numpy/core/fromnumeric.py:3474: RuntimeWarning:\n",
      "\n",
      "Mean of empty slice.\n",
      "\n",
      "/opt/anaconda3/lib/python3.9/site-packages/numpy/core/_methods.py:189: RuntimeWarning:\n",
      "\n",
      "invalid value encountered in double_scalars\n",
      "\n"
     ]
    },
    {
     "data": {
      "application/vnd.plotly.v1+json": {
       "config": {
        "plotlyServerURL": "https://plot.ly"
       },
       "data": [
        {
         "line": {
          "color": "green"
         },
         "mode": "lines",
         "name": "SUMO",
         "type": "scatter",
         "x": [
          6,
          11,
          16,
          21,
          26,
          31,
          36,
          41,
          46,
          51,
          56,
          61,
          66,
          71,
          76,
          81,
          86,
          91,
          96
         ],
         "y": [
          null,
          0,
          0,
          0,
          0,
          0,
          0,
          0,
          0,
          0,
          0,
          0,
          0,
          0,
          0,
          0,
          0,
          0,
          0
         ]
        },
        {
         "line": {
          "color": "purple"
         },
         "mode": "lines",
         "name": "ML_SS",
         "type": "scatter",
         "x": [
          6,
          11,
          16,
          21,
          26,
          31,
          36,
          41,
          46,
          51,
          56,
          61,
          66,
          71,
          76,
          81,
          86,
          91,
          96
         ],
         "y": [
          null,
          0,
          0,
          0,
          0,
          0,
          0,
          0,
          0,
          0,
          0,
          0,
          0,
          0,
          0,
          0,
          0,
          0,
          0
         ]
        },
        {
         "line": {
          "color": "orange"
         },
         "mode": "lines",
         "name": "ML_RR",
         "type": "scatter",
         "x": [
          6,
          11,
          16,
          21,
          26,
          31,
          36,
          41,
          46,
          51,
          56,
          61,
          66,
          71,
          76,
          81,
          86,
          91,
          96
         ],
         "y": [
          null,
          0,
          0,
          0,
          0,
          0,
          0,
          0,
          0,
          0,
          0,
          0,
          0,
          0,
          0,
          0,
          0,
          0,
          0
         ]
        },
        {
         "line": {
          "color": "yellow"
         },
         "mode": "lines",
         "name": "IWAE",
         "type": "scatter",
         "x": [
          6,
          11,
          16,
          21,
          26,
          31,
          36,
          41,
          46,
          51,
          56,
          61,
          66,
          71,
          76,
          81,
          86,
          91,
          96
         ],
         "y": [
          null,
          0,
          0,
          0,
          0,
          0,
          0,
          0,
          0,
          0,
          0,
          0,
          0,
          0,
          0,
          0,
          0,
          0,
          0
         ]
        }
       ],
       "layout": {
        "legend": {
         "font": {
          "size": 12
         },
         "traceorder": "normal",
         "x": 0,
         "y": 1
        },
        "showlegend": true,
        "template": {
         "data": {
          "bar": [
           {
            "error_x": {
             "color": "#2a3f5f"
            },
            "error_y": {
             "color": "#2a3f5f"
            },
            "marker": {
             "line": {
              "color": "#E5ECF6",
              "width": 0.5
             },
             "pattern": {
              "fillmode": "overlay",
              "size": 10,
              "solidity": 0.2
             }
            },
            "type": "bar"
           }
          ],
          "barpolar": [
           {
            "marker": {
             "line": {
              "color": "#E5ECF6",
              "width": 0.5
             },
             "pattern": {
              "fillmode": "overlay",
              "size": 10,
              "solidity": 0.2
             }
            },
            "type": "barpolar"
           }
          ],
          "carpet": [
           {
            "aaxis": {
             "endlinecolor": "#2a3f5f",
             "gridcolor": "white",
             "linecolor": "white",
             "minorgridcolor": "white",
             "startlinecolor": "#2a3f5f"
            },
            "baxis": {
             "endlinecolor": "#2a3f5f",
             "gridcolor": "white",
             "linecolor": "white",
             "minorgridcolor": "white",
             "startlinecolor": "#2a3f5f"
            },
            "type": "carpet"
           }
          ],
          "choropleth": [
           {
            "colorbar": {
             "outlinewidth": 0,
             "ticks": ""
            },
            "type": "choropleth"
           }
          ],
          "contour": [
           {
            "colorbar": {
             "outlinewidth": 0,
             "ticks": ""
            },
            "colorscale": [
             [
              0,
              "#0d0887"
             ],
             [
              0.1111111111111111,
              "#46039f"
             ],
             [
              0.2222222222222222,
              "#7201a8"
             ],
             [
              0.3333333333333333,
              "#9c179e"
             ],
             [
              0.4444444444444444,
              "#bd3786"
             ],
             [
              0.5555555555555556,
              "#d8576b"
             ],
             [
              0.6666666666666666,
              "#ed7953"
             ],
             [
              0.7777777777777778,
              "#fb9f3a"
             ],
             [
              0.8888888888888888,
              "#fdca26"
             ],
             [
              1,
              "#f0f921"
             ]
            ],
            "type": "contour"
           }
          ],
          "contourcarpet": [
           {
            "colorbar": {
             "outlinewidth": 0,
             "ticks": ""
            },
            "type": "contourcarpet"
           }
          ],
          "heatmap": [
           {
            "colorbar": {
             "outlinewidth": 0,
             "ticks": ""
            },
            "colorscale": [
             [
              0,
              "#0d0887"
             ],
             [
              0.1111111111111111,
              "#46039f"
             ],
             [
              0.2222222222222222,
              "#7201a8"
             ],
             [
              0.3333333333333333,
              "#9c179e"
             ],
             [
              0.4444444444444444,
              "#bd3786"
             ],
             [
              0.5555555555555556,
              "#d8576b"
             ],
             [
              0.6666666666666666,
              "#ed7953"
             ],
             [
              0.7777777777777778,
              "#fb9f3a"
             ],
             [
              0.8888888888888888,
              "#fdca26"
             ],
             [
              1,
              "#f0f921"
             ]
            ],
            "type": "heatmap"
           }
          ],
          "heatmapgl": [
           {
            "colorbar": {
             "outlinewidth": 0,
             "ticks": ""
            },
            "colorscale": [
             [
              0,
              "#0d0887"
             ],
             [
              0.1111111111111111,
              "#46039f"
             ],
             [
              0.2222222222222222,
              "#7201a8"
             ],
             [
              0.3333333333333333,
              "#9c179e"
             ],
             [
              0.4444444444444444,
              "#bd3786"
             ],
             [
              0.5555555555555556,
              "#d8576b"
             ],
             [
              0.6666666666666666,
              "#ed7953"
             ],
             [
              0.7777777777777778,
              "#fb9f3a"
             ],
             [
              0.8888888888888888,
              "#fdca26"
             ],
             [
              1,
              "#f0f921"
             ]
            ],
            "type": "heatmapgl"
           }
          ],
          "histogram": [
           {
            "marker": {
             "pattern": {
              "fillmode": "overlay",
              "size": 10,
              "solidity": 0.2
             }
            },
            "type": "histogram"
           }
          ],
          "histogram2d": [
           {
            "colorbar": {
             "outlinewidth": 0,
             "ticks": ""
            },
            "colorscale": [
             [
              0,
              "#0d0887"
             ],
             [
              0.1111111111111111,
              "#46039f"
             ],
             [
              0.2222222222222222,
              "#7201a8"
             ],
             [
              0.3333333333333333,
              "#9c179e"
             ],
             [
              0.4444444444444444,
              "#bd3786"
             ],
             [
              0.5555555555555556,
              "#d8576b"
             ],
             [
              0.6666666666666666,
              "#ed7953"
             ],
             [
              0.7777777777777778,
              "#fb9f3a"
             ],
             [
              0.8888888888888888,
              "#fdca26"
             ],
             [
              1,
              "#f0f921"
             ]
            ],
            "type": "histogram2d"
           }
          ],
          "histogram2dcontour": [
           {
            "colorbar": {
             "outlinewidth": 0,
             "ticks": ""
            },
            "colorscale": [
             [
              0,
              "#0d0887"
             ],
             [
              0.1111111111111111,
              "#46039f"
             ],
             [
              0.2222222222222222,
              "#7201a8"
             ],
             [
              0.3333333333333333,
              "#9c179e"
             ],
             [
              0.4444444444444444,
              "#bd3786"
             ],
             [
              0.5555555555555556,
              "#d8576b"
             ],
             [
              0.6666666666666666,
              "#ed7953"
             ],
             [
              0.7777777777777778,
              "#fb9f3a"
             ],
             [
              0.8888888888888888,
              "#fdca26"
             ],
             [
              1,
              "#f0f921"
             ]
            ],
            "type": "histogram2dcontour"
           }
          ],
          "mesh3d": [
           {
            "colorbar": {
             "outlinewidth": 0,
             "ticks": ""
            },
            "type": "mesh3d"
           }
          ],
          "parcoords": [
           {
            "line": {
             "colorbar": {
              "outlinewidth": 0,
              "ticks": ""
             }
            },
            "type": "parcoords"
           }
          ],
          "pie": [
           {
            "automargin": true,
            "type": "pie"
           }
          ],
          "scatter": [
           {
            "fillpattern": {
             "fillmode": "overlay",
             "size": 10,
             "solidity": 0.2
            },
            "type": "scatter"
           }
          ],
          "scatter3d": [
           {
            "line": {
             "colorbar": {
              "outlinewidth": 0,
              "ticks": ""
             }
            },
            "marker": {
             "colorbar": {
              "outlinewidth": 0,
              "ticks": ""
             }
            },
            "type": "scatter3d"
           }
          ],
          "scattercarpet": [
           {
            "marker": {
             "colorbar": {
              "outlinewidth": 0,
              "ticks": ""
             }
            },
            "type": "scattercarpet"
           }
          ],
          "scattergeo": [
           {
            "marker": {
             "colorbar": {
              "outlinewidth": 0,
              "ticks": ""
             }
            },
            "type": "scattergeo"
           }
          ],
          "scattergl": [
           {
            "marker": {
             "colorbar": {
              "outlinewidth": 0,
              "ticks": ""
             }
            },
            "type": "scattergl"
           }
          ],
          "scattermapbox": [
           {
            "marker": {
             "colorbar": {
              "outlinewidth": 0,
              "ticks": ""
             }
            },
            "type": "scattermapbox"
           }
          ],
          "scatterpolar": [
           {
            "marker": {
             "colorbar": {
              "outlinewidth": 0,
              "ticks": ""
             }
            },
            "type": "scatterpolar"
           }
          ],
          "scatterpolargl": [
           {
            "marker": {
             "colorbar": {
              "outlinewidth": 0,
              "ticks": ""
             }
            },
            "type": "scatterpolargl"
           }
          ],
          "scatterternary": [
           {
            "marker": {
             "colorbar": {
              "outlinewidth": 0,
              "ticks": ""
             }
            },
            "type": "scatterternary"
           }
          ],
          "surface": [
           {
            "colorbar": {
             "outlinewidth": 0,
             "ticks": ""
            },
            "colorscale": [
             [
              0,
              "#0d0887"
             ],
             [
              0.1111111111111111,
              "#46039f"
             ],
             [
              0.2222222222222222,
              "#7201a8"
             ],
             [
              0.3333333333333333,
              "#9c179e"
             ],
             [
              0.4444444444444444,
              "#bd3786"
             ],
             [
              0.5555555555555556,
              "#d8576b"
             ],
             [
              0.6666666666666666,
              "#ed7953"
             ],
             [
              0.7777777777777778,
              "#fb9f3a"
             ],
             [
              0.8888888888888888,
              "#fdca26"
             ],
             [
              1,
              "#f0f921"
             ]
            ],
            "type": "surface"
           }
          ],
          "table": [
           {
            "cells": {
             "fill": {
              "color": "#EBF0F8"
             },
             "line": {
              "color": "white"
             }
            },
            "header": {
             "fill": {
              "color": "#C8D4E3"
             },
             "line": {
              "color": "white"
             }
            },
            "type": "table"
           }
          ]
         },
         "layout": {
          "annotationdefaults": {
           "arrowcolor": "#2a3f5f",
           "arrowhead": 0,
           "arrowwidth": 1
          },
          "autotypenumbers": "strict",
          "coloraxis": {
           "colorbar": {
            "outlinewidth": 0,
            "ticks": ""
           }
          },
          "colorscale": {
           "diverging": [
            [
             0,
             "#8e0152"
            ],
            [
             0.1,
             "#c51b7d"
            ],
            [
             0.2,
             "#de77ae"
            ],
            [
             0.3,
             "#f1b6da"
            ],
            [
             0.4,
             "#fde0ef"
            ],
            [
             0.5,
             "#f7f7f7"
            ],
            [
             0.6,
             "#e6f5d0"
            ],
            [
             0.7,
             "#b8e186"
            ],
            [
             0.8,
             "#7fbc41"
            ],
            [
             0.9,
             "#4d9221"
            ],
            [
             1,
             "#276419"
            ]
           ],
           "sequential": [
            [
             0,
             "#0d0887"
            ],
            [
             0.1111111111111111,
             "#46039f"
            ],
            [
             0.2222222222222222,
             "#7201a8"
            ],
            [
             0.3333333333333333,
             "#9c179e"
            ],
            [
             0.4444444444444444,
             "#bd3786"
            ],
            [
             0.5555555555555556,
             "#d8576b"
            ],
            [
             0.6666666666666666,
             "#ed7953"
            ],
            [
             0.7777777777777778,
             "#fb9f3a"
            ],
            [
             0.8888888888888888,
             "#fdca26"
            ],
            [
             1,
             "#f0f921"
            ]
           ],
           "sequentialminus": [
            [
             0,
             "#0d0887"
            ],
            [
             0.1111111111111111,
             "#46039f"
            ],
            [
             0.2222222222222222,
             "#7201a8"
            ],
            [
             0.3333333333333333,
             "#9c179e"
            ],
            [
             0.4444444444444444,
             "#bd3786"
            ],
            [
             0.5555555555555556,
             "#d8576b"
            ],
            [
             0.6666666666666666,
             "#ed7953"
            ],
            [
             0.7777777777777778,
             "#fb9f3a"
            ],
            [
             0.8888888888888888,
             "#fdca26"
            ],
            [
             1,
             "#f0f921"
            ]
           ]
          },
          "colorway": [
           "#636efa",
           "#EF553B",
           "#00cc96",
           "#ab63fa",
           "#FFA15A",
           "#19d3f3",
           "#FF6692",
           "#B6E880",
           "#FF97FF",
           "#FECB52"
          ],
          "font": {
           "color": "#2a3f5f"
          },
          "geo": {
           "bgcolor": "white",
           "lakecolor": "white",
           "landcolor": "#E5ECF6",
           "showlakes": true,
           "showland": true,
           "subunitcolor": "white"
          },
          "hoverlabel": {
           "align": "left"
          },
          "hovermode": "closest",
          "mapbox": {
           "style": "light"
          },
          "paper_bgcolor": "white",
          "plot_bgcolor": "#E5ECF6",
          "polar": {
           "angularaxis": {
            "gridcolor": "white",
            "linecolor": "white",
            "ticks": ""
           },
           "bgcolor": "#E5ECF6",
           "radialaxis": {
            "gridcolor": "white",
            "linecolor": "white",
            "ticks": ""
           }
          },
          "scene": {
           "xaxis": {
            "backgroundcolor": "#E5ECF6",
            "gridcolor": "white",
            "gridwidth": 2,
            "linecolor": "white",
            "showbackground": true,
            "ticks": "",
            "zerolinecolor": "white"
           },
           "yaxis": {
            "backgroundcolor": "#E5ECF6",
            "gridcolor": "white",
            "gridwidth": 2,
            "linecolor": "white",
            "showbackground": true,
            "ticks": "",
            "zerolinecolor": "white"
           },
           "zaxis": {
            "backgroundcolor": "#E5ECF6",
            "gridcolor": "white",
            "gridwidth": 2,
            "linecolor": "white",
            "showbackground": true,
            "ticks": "",
            "zerolinecolor": "white"
           }
          },
          "shapedefaults": {
           "line": {
            "color": "#2a3f5f"
           }
          },
          "ternary": {
           "aaxis": {
            "gridcolor": "white",
            "linecolor": "white",
            "ticks": ""
           },
           "baxis": {
            "gridcolor": "white",
            "linecolor": "white",
            "ticks": ""
           },
           "bgcolor": "#E5ECF6",
           "caxis": {
            "gridcolor": "white",
            "linecolor": "white",
            "ticks": ""
           }
          },
          "title": {
           "x": 0.05
          },
          "xaxis": {
           "automargin": true,
           "gridcolor": "white",
           "linecolor": "white",
           "ticks": "",
           "title": {
            "standoff": 15
           },
           "zerolinecolor": "white",
           "zerolinewidth": 2
          },
          "yaxis": {
           "automargin": true,
           "gridcolor": "white",
           "linecolor": "white",
           "ticks": "",
           "title": {
            "standoff": 15
           },
           "zerolinecolor": "white",
           "zerolinewidth": 2
          }
         }
        },
        "title": {
         "text": "Comparaison de la variance des estimateurs de la vraisemblance en fonction du nombre de simulations"
        },
        "xaxis": {
         "title": {
          "text": "Nombre de simulations"
         }
        },
        "yaxis": {
         "title": {
          "text": "Variance de l'estimateur"
         }
        }
       }
      }
     },
     "metadata": {},
     "output_type": "display_data"
    }
   ],
   "source": [
    "Code.plot_bias_likelihood(r, x, theta_true, noised_A, noised_b, 6, 100, 'variance')"
   ]
  },
  {
   "cell_type": "code",
   "execution_count": 18,
   "metadata": {},
   "outputs": [],
   "source": [
    "#Même fonction en faisant varier le nombre de simus :\n",
    "\n",
    "import plotly.graph_objects as go\n",
    "\n",
    "def plot_bias_likelihood(r, x, theta_true, noised_A, noised_b, n_simulations_min, n_simulations_max, plot_type = 'bias', k_IWAE = 5): \n",
    "\n",
    "    step = 5\n",
    "    simus = np.arange(n_simulations_min, n_simulations_max, step) #Ici on fait varier le nombre de simulations\n",
    "\n",
    "    #Calcul de la vraisemblance vraie\n",
    "    param_true = Code.true_likelihood(x, theta_true)\n",
    "\n",
    "    if plot_type == 'bias' :\n",
    "\n",
    "        bias = [], [], [], [] \n",
    "\n",
    "        for n_simus in simus:\n",
    "\n",
    "            n_simus = int(n_simus)\n",
    "\n",
    "            log_SUMO, log_ML_SS, log_ML_RR, log_IWAE = [], [], [], []\n",
    "\n",
    "            for i in range(1): #On pourra intégrer le nombre de répétitions aux paramètres si besoin -> moyenne des estimateurs à chaque pas\n",
    "\n",
    "                log_SUMO.append(Code.log_likelihood_SUMO(r, theta_true, x, noised_A, noised_b, n_simus))\n",
    "\n",
    "                log_ML_SS.append(Code.log_likelihood_ML_SS(r, theta_true, x, noised_A, noised_b, n_simus))\n",
    "\n",
    "                log_ML_RR.append(Code.log_likelihood_ML_RR(r, theta_true, x, noised_A, noised_b, n_simus))\n",
    "\n",
    "                log_IWAE.append(Code.log_likelihood_IWAE(theta_true, x, noised_A, noised_b, k_IWAE, n_simus))\n",
    "\n",
    "            bias[0].append((np.mean(log_SUMO) - param_true)**2)\n",
    "\n",
    "            bias[1].append((np.mean(log_ML_SS) - param_true)**2)\n",
    "\n",
    "            bias[2].append((np.mean(log_ML_RR) - param_true)**2) \n",
    "\n",
    "            bias[3].append((np.mean(log_IWAE) - param_true)**2)\n",
    "\n",
    "        # Créer la figure\n",
    "        fig = go.Figure()\n",
    "\n",
    "        # Ajouter les courbes des biais\n",
    "        fig.add_trace(go.Scatter(x=simus, y=bias[0], mode='lines', name='SUMO', line=dict(color='green')))\n",
    "        fig.add_trace(go.Scatter(x=simus, y=bias[1], mode='lines', name='ML_SS', line=dict(color='purple')))\n",
    "        fig.add_trace(go.Scatter(x=simus, y=bias[2], mode='lines', name='ML_RR', line=dict(color='orange')))\n",
    "        fig.add_trace(go.Scatter(x=simus, y=bias[3], mode='lines', name='IWAE', line=dict(color='yellow')))\n",
    "\n",
    "        #fig.add_shape(type='line', x0=theta_true, x1=theta_true, y0=min(min(true_gradient_values), min(estimated_grad)), y1=max(max(true_gradient_values), max(estimated_grad)), \n",
    "                    #line=dict(color='black', width=2, dash='dash'), name=f'theta={theta_true}')\n",
    "\n",
    "        # Mise en forme de la figure\n",
    "        fig.update_layout(\n",
    "            xaxis=dict(title='Nombre de simulations'),\n",
    "            yaxis=dict(title=\"Biais de l'estimateur\"),\n",
    "            title=f'Comparaison du biais des estimateurs de la vraisemblance en fonction du nombre de simulations',\n",
    "            legend=dict(x=0, y=1, traceorder='normal', font=dict(size=12)),\n",
    "            showlegend=True\n",
    "        )\n",
    "\n",
    "        # Affichage de la figure\n",
    "        fig.show()\n",
    "\n",
    "    elif plot_type == 'variance' : #Pas d'actualité on répare d'abord le biais\n",
    "                \n",
    "        variance = [], [], [], []\n",
    "\n",
    "        for n_simus in range(len(simus)):\n",
    "\n",
    "            n_simus = int(n_simus)\n",
    "\n",
    "            log_SUMO, log_ML_SS, log_ML_RR, log_IWAE = [], [], [], []\n",
    "\n",
    "            for i in range(10): #On pourra intégrer le nombre de répétitions aux paramètres si besoin\n",
    "\n",
    "                log_SUMO.append(log_likelihood_SUMO(r, theta_true, x, noised_A, noised_b, n_simus))\n",
    "\n",
    "                log_ML_SS.append(log_likelihood_ML_SS(r, theta_true, x, noised_A, noised_b, n_simus))\n",
    "\n",
    "                log_ML_RR.append(log_likelihood_ML_RR(r, theta_true, x, noised_A, noised_b, n_simus))\n",
    "\n",
    "                log_IWAE.append(log_likelihood_IWAE(theta_true, x, noised_A, noised_b, k_IWAE, n_simus))\n",
    "                \n",
    "            variance[0].append(np.std(log_SUMO) / np.sqrt(10))\n",
    "\n",
    "            variance[1].append(np.std(log_ML_SS) / np.sqrt(10))\n",
    "\n",
    "            variance[2].append(np.std(log_ML_RR) / np.sqrt(10))\n",
    "\n",
    "            variance[3].append(np.std(log_IWAE) / np.sqrt(10))\n",
    "\n",
    "        # Créer la figure\n",
    "        fig = go.Figure()\n",
    "\n",
    "        # Ajouter les courbes des biais\n",
    "        fig.add_trace(go.Scatter(x=simus, y=variance[0], mode='lines', name='SUMO', line=dict(color='green')))\n",
    "        fig.add_trace(go.Scatter(x=simus, y=variance[1], mode='lines', name='ML_SS', line=dict(color='purple')))\n",
    "        fig.add_trace(go.Scatter(x=simus, y=variance[2], mode='lines', name='ML_RR', line=dict(color='orange')))\n",
    "        fig.add_trace(go.Scatter(x=simus, y=variance[3], mode='lines', name='IWAE', line=dict(color='yellow')))\n",
    "\n",
    "        #fig.add_shape(type='line', x0=theta_true, x1=theta_true, y0=min(min(true_gradient_values), min(estimated_grad)), y1=max(max(true_gradient_values), max(estimated_grad)), \n",
    "                    #line=dict(color='black', width=2, dash='dash'), name=f'theta={theta_true}')\n",
    "\n",
    "        # Mise en forme de la figure\n",
    "        fig.update_layout(\n",
    "            xaxis=dict(title='Nombre de simulations'),\n",
    "            yaxis=dict(title=\"Variance de l'estimateur\"),\n",
    "            title=f'Comparaison de la variance des estimateurs de la vraisemblance en fonction du nombre de simulations',\n",
    "            legend=dict(x=0, y=1, traceorder='normal', font=dict(size=12)),\n",
    "            showlegend=True\n",
    "        )\n",
    "\n",
    "        # Affichage de la figure\n",
    "        fig.show()\n",
    "    \n",
    "    return\n"
   ]
  },
  {
   "cell_type": "code",
   "execution_count": 19,
   "metadata": {},
   "outputs": [
    {
     "data": {
      "application/vnd.plotly.v1+json": {
       "config": {
        "plotlyServerURL": "https://plot.ly"
       },
       "data": [
        {
         "line": {
          "color": "green"
         },
         "mode": "lines",
         "name": "SUMO",
         "type": "scatter",
         "x": [
          1,
          6,
          11,
          16,
          21,
          26,
          31,
          36,
          41,
          46,
          51,
          56,
          61,
          66,
          71,
          76,
          81,
          86,
          91,
          96
         ],
         "y": [
          48.09312399580058,
          49.17071017701638,
          65.36553072125055,
          50.32740428209829,
          52.50752397364338,
          44.46381416078923,
          35.8133647712091,
          49.02020729300094,
          47.579436166817786,
          52.5574307289341,
          66.59101927734078,
          49.40245485389003,
          47.828122051801735,
          18.53960260344156,
          50.27202996746821,
          47.841316402427665,
          51.32476121532121,
          49.81180401049008,
          44.72042935674518,
          50.933065053164164
         ]
        },
        {
         "line": {
          "color": "purple"
         },
         "mode": "lines",
         "name": "ML_SS",
         "type": "scatter",
         "x": [
          1,
          6,
          11,
          16,
          21,
          26,
          31,
          36,
          41,
          46,
          51,
          56,
          61,
          66,
          71,
          76,
          81,
          86,
          91,
          96
         ],
         "y": [
          58.66718113713237,
          50.11920225262891,
          45.97946183156901,
          46.03990274683968,
          47.7453181873985,
          49.36459380322017,
          45.74497690147822,
          47.39243793081913,
          44.90625857335545,
          47.30082627101123,
          46.61681280547525,
          49.18474778994057,
          46.62365211173836,
          47.76250005327446,
          45.538501263086964,
          47.97051120163777,
          47.60660104864368,
          46.355849948408036,
          46.53885781368809,
          47.014305628234965
         ]
        },
        {
         "line": {
          "color": "orange"
         },
         "mode": "lines",
         "name": "ML_RR",
         "type": "scatter",
         "x": [
          1,
          6,
          11,
          16,
          21,
          26,
          31,
          36,
          41,
          46,
          51,
          56,
          61,
          66,
          71,
          76,
          81,
          86,
          91,
          96
         ],
         "y": [
          39.235044971333274,
          45.44698716938851,
          44.57232220468975,
          46.37154381224955,
          43.35776675979721,
          42.53106438669784,
          42.12899644468893,
          40.21355871023668,
          44.24425022138557,
          43.97519096989289,
          43.36791904959523,
          42.615384635579225,
          41.85390802282854,
          43.255599788015175,
          41.414810517839356,
          43.78122252933751,
          40.41082080476625,
          39.37362112325487,
          39.65875910584291,
          43.28249395056303
         ]
        },
        {
         "line": {
          "color": "yellow"
         },
         "mode": "lines",
         "name": "IWAE",
         "type": "scatter",
         "x": [
          1,
          6,
          11,
          16,
          21,
          26,
          31,
          36,
          41,
          46,
          51,
          56,
          61,
          66,
          71,
          76,
          81,
          86,
          91,
          96
         ],
         "y": [
          55.79701951095155,
          46.051948716442375,
          45.85311330490653,
          47.50902380123875,
          44.0291047967087,
          43.92395468630931,
          45.07350535544406,
          43.95675586036485,
          45.4801608634802,
          44.86172320855675,
          42.823441608760774,
          45.25292331570992,
          44.89023984390677,
          46.00257863862722,
          43.15280571078244,
          45.78492959749746,
          44.93098575011179,
          43.47121392750236,
          43.71864980663073,
          45.75785603921115
         ]
        }
       ],
       "layout": {
        "legend": {
         "font": {
          "size": 12
         },
         "traceorder": "normal",
         "x": 0,
         "y": 1
        },
        "showlegend": true,
        "template": {
         "data": {
          "bar": [
           {
            "error_x": {
             "color": "#2a3f5f"
            },
            "error_y": {
             "color": "#2a3f5f"
            },
            "marker": {
             "line": {
              "color": "#E5ECF6",
              "width": 0.5
             },
             "pattern": {
              "fillmode": "overlay",
              "size": 10,
              "solidity": 0.2
             }
            },
            "type": "bar"
           }
          ],
          "barpolar": [
           {
            "marker": {
             "line": {
              "color": "#E5ECF6",
              "width": 0.5
             },
             "pattern": {
              "fillmode": "overlay",
              "size": 10,
              "solidity": 0.2
             }
            },
            "type": "barpolar"
           }
          ],
          "carpet": [
           {
            "aaxis": {
             "endlinecolor": "#2a3f5f",
             "gridcolor": "white",
             "linecolor": "white",
             "minorgridcolor": "white",
             "startlinecolor": "#2a3f5f"
            },
            "baxis": {
             "endlinecolor": "#2a3f5f",
             "gridcolor": "white",
             "linecolor": "white",
             "minorgridcolor": "white",
             "startlinecolor": "#2a3f5f"
            },
            "type": "carpet"
           }
          ],
          "choropleth": [
           {
            "colorbar": {
             "outlinewidth": 0,
             "ticks": ""
            },
            "type": "choropleth"
           }
          ],
          "contour": [
           {
            "colorbar": {
             "outlinewidth": 0,
             "ticks": ""
            },
            "colorscale": [
             [
              0,
              "#0d0887"
             ],
             [
              0.1111111111111111,
              "#46039f"
             ],
             [
              0.2222222222222222,
              "#7201a8"
             ],
             [
              0.3333333333333333,
              "#9c179e"
             ],
             [
              0.4444444444444444,
              "#bd3786"
             ],
             [
              0.5555555555555556,
              "#d8576b"
             ],
             [
              0.6666666666666666,
              "#ed7953"
             ],
             [
              0.7777777777777778,
              "#fb9f3a"
             ],
             [
              0.8888888888888888,
              "#fdca26"
             ],
             [
              1,
              "#f0f921"
             ]
            ],
            "type": "contour"
           }
          ],
          "contourcarpet": [
           {
            "colorbar": {
             "outlinewidth": 0,
             "ticks": ""
            },
            "type": "contourcarpet"
           }
          ],
          "heatmap": [
           {
            "colorbar": {
             "outlinewidth": 0,
             "ticks": ""
            },
            "colorscale": [
             [
              0,
              "#0d0887"
             ],
             [
              0.1111111111111111,
              "#46039f"
             ],
             [
              0.2222222222222222,
              "#7201a8"
             ],
             [
              0.3333333333333333,
              "#9c179e"
             ],
             [
              0.4444444444444444,
              "#bd3786"
             ],
             [
              0.5555555555555556,
              "#d8576b"
             ],
             [
              0.6666666666666666,
              "#ed7953"
             ],
             [
              0.7777777777777778,
              "#fb9f3a"
             ],
             [
              0.8888888888888888,
              "#fdca26"
             ],
             [
              1,
              "#f0f921"
             ]
            ],
            "type": "heatmap"
           }
          ],
          "heatmapgl": [
           {
            "colorbar": {
             "outlinewidth": 0,
             "ticks": ""
            },
            "colorscale": [
             [
              0,
              "#0d0887"
             ],
             [
              0.1111111111111111,
              "#46039f"
             ],
             [
              0.2222222222222222,
              "#7201a8"
             ],
             [
              0.3333333333333333,
              "#9c179e"
             ],
             [
              0.4444444444444444,
              "#bd3786"
             ],
             [
              0.5555555555555556,
              "#d8576b"
             ],
             [
              0.6666666666666666,
              "#ed7953"
             ],
             [
              0.7777777777777778,
              "#fb9f3a"
             ],
             [
              0.8888888888888888,
              "#fdca26"
             ],
             [
              1,
              "#f0f921"
             ]
            ],
            "type": "heatmapgl"
           }
          ],
          "histogram": [
           {
            "marker": {
             "pattern": {
              "fillmode": "overlay",
              "size": 10,
              "solidity": 0.2
             }
            },
            "type": "histogram"
           }
          ],
          "histogram2d": [
           {
            "colorbar": {
             "outlinewidth": 0,
             "ticks": ""
            },
            "colorscale": [
             [
              0,
              "#0d0887"
             ],
             [
              0.1111111111111111,
              "#46039f"
             ],
             [
              0.2222222222222222,
              "#7201a8"
             ],
             [
              0.3333333333333333,
              "#9c179e"
             ],
             [
              0.4444444444444444,
              "#bd3786"
             ],
             [
              0.5555555555555556,
              "#d8576b"
             ],
             [
              0.6666666666666666,
              "#ed7953"
             ],
             [
              0.7777777777777778,
              "#fb9f3a"
             ],
             [
              0.8888888888888888,
              "#fdca26"
             ],
             [
              1,
              "#f0f921"
             ]
            ],
            "type": "histogram2d"
           }
          ],
          "histogram2dcontour": [
           {
            "colorbar": {
             "outlinewidth": 0,
             "ticks": ""
            },
            "colorscale": [
             [
              0,
              "#0d0887"
             ],
             [
              0.1111111111111111,
              "#46039f"
             ],
             [
              0.2222222222222222,
              "#7201a8"
             ],
             [
              0.3333333333333333,
              "#9c179e"
             ],
             [
              0.4444444444444444,
              "#bd3786"
             ],
             [
              0.5555555555555556,
              "#d8576b"
             ],
             [
              0.6666666666666666,
              "#ed7953"
             ],
             [
              0.7777777777777778,
              "#fb9f3a"
             ],
             [
              0.8888888888888888,
              "#fdca26"
             ],
             [
              1,
              "#f0f921"
             ]
            ],
            "type": "histogram2dcontour"
           }
          ],
          "mesh3d": [
           {
            "colorbar": {
             "outlinewidth": 0,
             "ticks": ""
            },
            "type": "mesh3d"
           }
          ],
          "parcoords": [
           {
            "line": {
             "colorbar": {
              "outlinewidth": 0,
              "ticks": ""
             }
            },
            "type": "parcoords"
           }
          ],
          "pie": [
           {
            "automargin": true,
            "type": "pie"
           }
          ],
          "scatter": [
           {
            "fillpattern": {
             "fillmode": "overlay",
             "size": 10,
             "solidity": 0.2
            },
            "type": "scatter"
           }
          ],
          "scatter3d": [
           {
            "line": {
             "colorbar": {
              "outlinewidth": 0,
              "ticks": ""
             }
            },
            "marker": {
             "colorbar": {
              "outlinewidth": 0,
              "ticks": ""
             }
            },
            "type": "scatter3d"
           }
          ],
          "scattercarpet": [
           {
            "marker": {
             "colorbar": {
              "outlinewidth": 0,
              "ticks": ""
             }
            },
            "type": "scattercarpet"
           }
          ],
          "scattergeo": [
           {
            "marker": {
             "colorbar": {
              "outlinewidth": 0,
              "ticks": ""
             }
            },
            "type": "scattergeo"
           }
          ],
          "scattergl": [
           {
            "marker": {
             "colorbar": {
              "outlinewidth": 0,
              "ticks": ""
             }
            },
            "type": "scattergl"
           }
          ],
          "scattermapbox": [
           {
            "marker": {
             "colorbar": {
              "outlinewidth": 0,
              "ticks": ""
             }
            },
            "type": "scattermapbox"
           }
          ],
          "scatterpolar": [
           {
            "marker": {
             "colorbar": {
              "outlinewidth": 0,
              "ticks": ""
             }
            },
            "type": "scatterpolar"
           }
          ],
          "scatterpolargl": [
           {
            "marker": {
             "colorbar": {
              "outlinewidth": 0,
              "ticks": ""
             }
            },
            "type": "scatterpolargl"
           }
          ],
          "scatterternary": [
           {
            "marker": {
             "colorbar": {
              "outlinewidth": 0,
              "ticks": ""
             }
            },
            "type": "scatterternary"
           }
          ],
          "surface": [
           {
            "colorbar": {
             "outlinewidth": 0,
             "ticks": ""
            },
            "colorscale": [
             [
              0,
              "#0d0887"
             ],
             [
              0.1111111111111111,
              "#46039f"
             ],
             [
              0.2222222222222222,
              "#7201a8"
             ],
             [
              0.3333333333333333,
              "#9c179e"
             ],
             [
              0.4444444444444444,
              "#bd3786"
             ],
             [
              0.5555555555555556,
              "#d8576b"
             ],
             [
              0.6666666666666666,
              "#ed7953"
             ],
             [
              0.7777777777777778,
              "#fb9f3a"
             ],
             [
              0.8888888888888888,
              "#fdca26"
             ],
             [
              1,
              "#f0f921"
             ]
            ],
            "type": "surface"
           }
          ],
          "table": [
           {
            "cells": {
             "fill": {
              "color": "#EBF0F8"
             },
             "line": {
              "color": "white"
             }
            },
            "header": {
             "fill": {
              "color": "#C8D4E3"
             },
             "line": {
              "color": "white"
             }
            },
            "type": "table"
           }
          ]
         },
         "layout": {
          "annotationdefaults": {
           "arrowcolor": "#2a3f5f",
           "arrowhead": 0,
           "arrowwidth": 1
          },
          "autotypenumbers": "strict",
          "coloraxis": {
           "colorbar": {
            "outlinewidth": 0,
            "ticks": ""
           }
          },
          "colorscale": {
           "diverging": [
            [
             0,
             "#8e0152"
            ],
            [
             0.1,
             "#c51b7d"
            ],
            [
             0.2,
             "#de77ae"
            ],
            [
             0.3,
             "#f1b6da"
            ],
            [
             0.4,
             "#fde0ef"
            ],
            [
             0.5,
             "#f7f7f7"
            ],
            [
             0.6,
             "#e6f5d0"
            ],
            [
             0.7,
             "#b8e186"
            ],
            [
             0.8,
             "#7fbc41"
            ],
            [
             0.9,
             "#4d9221"
            ],
            [
             1,
             "#276419"
            ]
           ],
           "sequential": [
            [
             0,
             "#0d0887"
            ],
            [
             0.1111111111111111,
             "#46039f"
            ],
            [
             0.2222222222222222,
             "#7201a8"
            ],
            [
             0.3333333333333333,
             "#9c179e"
            ],
            [
             0.4444444444444444,
             "#bd3786"
            ],
            [
             0.5555555555555556,
             "#d8576b"
            ],
            [
             0.6666666666666666,
             "#ed7953"
            ],
            [
             0.7777777777777778,
             "#fb9f3a"
            ],
            [
             0.8888888888888888,
             "#fdca26"
            ],
            [
             1,
             "#f0f921"
            ]
           ],
           "sequentialminus": [
            [
             0,
             "#0d0887"
            ],
            [
             0.1111111111111111,
             "#46039f"
            ],
            [
             0.2222222222222222,
             "#7201a8"
            ],
            [
             0.3333333333333333,
             "#9c179e"
            ],
            [
             0.4444444444444444,
             "#bd3786"
            ],
            [
             0.5555555555555556,
             "#d8576b"
            ],
            [
             0.6666666666666666,
             "#ed7953"
            ],
            [
             0.7777777777777778,
             "#fb9f3a"
            ],
            [
             0.8888888888888888,
             "#fdca26"
            ],
            [
             1,
             "#f0f921"
            ]
           ]
          },
          "colorway": [
           "#636efa",
           "#EF553B",
           "#00cc96",
           "#ab63fa",
           "#FFA15A",
           "#19d3f3",
           "#FF6692",
           "#B6E880",
           "#FF97FF",
           "#FECB52"
          ],
          "font": {
           "color": "#2a3f5f"
          },
          "geo": {
           "bgcolor": "white",
           "lakecolor": "white",
           "landcolor": "#E5ECF6",
           "showlakes": true,
           "showland": true,
           "subunitcolor": "white"
          },
          "hoverlabel": {
           "align": "left"
          },
          "hovermode": "closest",
          "mapbox": {
           "style": "light"
          },
          "paper_bgcolor": "white",
          "plot_bgcolor": "#E5ECF6",
          "polar": {
           "angularaxis": {
            "gridcolor": "white",
            "linecolor": "white",
            "ticks": ""
           },
           "bgcolor": "#E5ECF6",
           "radialaxis": {
            "gridcolor": "white",
            "linecolor": "white",
            "ticks": ""
           }
          },
          "scene": {
           "xaxis": {
            "backgroundcolor": "#E5ECF6",
            "gridcolor": "white",
            "gridwidth": 2,
            "linecolor": "white",
            "showbackground": true,
            "ticks": "",
            "zerolinecolor": "white"
           },
           "yaxis": {
            "backgroundcolor": "#E5ECF6",
            "gridcolor": "white",
            "gridwidth": 2,
            "linecolor": "white",
            "showbackground": true,
            "ticks": "",
            "zerolinecolor": "white"
           },
           "zaxis": {
            "backgroundcolor": "#E5ECF6",
            "gridcolor": "white",
            "gridwidth": 2,
            "linecolor": "white",
            "showbackground": true,
            "ticks": "",
            "zerolinecolor": "white"
           }
          },
          "shapedefaults": {
           "line": {
            "color": "#2a3f5f"
           }
          },
          "ternary": {
           "aaxis": {
            "gridcolor": "white",
            "linecolor": "white",
            "ticks": ""
           },
           "baxis": {
            "gridcolor": "white",
            "linecolor": "white",
            "ticks": ""
           },
           "bgcolor": "#E5ECF6",
           "caxis": {
            "gridcolor": "white",
            "linecolor": "white",
            "ticks": ""
           }
          },
          "title": {
           "x": 0.05
          },
          "xaxis": {
           "automargin": true,
           "gridcolor": "white",
           "linecolor": "white",
           "ticks": "",
           "title": {
            "standoff": 15
           },
           "zerolinecolor": "white",
           "zerolinewidth": 2
          },
          "yaxis": {
           "automargin": true,
           "gridcolor": "white",
           "linecolor": "white",
           "ticks": "",
           "title": {
            "standoff": 15
           },
           "zerolinecolor": "white",
           "zerolinewidth": 2
          }
         }
        },
        "title": {
         "text": "Comparaison du biais des estimateurs de la vraisemblance en fonction du nombre de simulations"
        },
        "xaxis": {
         "title": {
          "text": "Nombre de simulations"
         }
        },
        "yaxis": {
         "title": {
          "text": "Biais de l'estimateur"
         }
        }
       }
      }
     },
     "metadata": {},
     "output_type": "display_data"
    }
   ],
   "source": [
    "plot_bias_likelihood(r, x, theta_true, noised_A, noised_b, 1, 100)"
   ]
  }
 ],
 "metadata": {
  "kernelspec": {
   "display_name": "Python 3",
   "language": "python",
   "name": "python3"
  },
  "language_info": {
   "codemirror_mode": {
    "name": "ipython",
    "version": 3
   },
   "file_extension": ".py",
   "mimetype": "text/x-python",
   "name": "python",
   "nbconvert_exporter": "python",
   "pygments_lexer": "ipython3",
   "version": "3.11.5"
  },
  "orig_nbformat": 4
 },
 "nbformat": 4,
 "nbformat_minor": 2
}
