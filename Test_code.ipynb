{
 "cells": [
  {
   "cell_type": "markdown",
   "metadata": {},
   "source": [
    "# <span style=\"color:red\">  **SIMULATIONS ET MÉTHODES DE MONTE CARLO**  </span>"
   ]
  },
  {
   "cell_type": "code",
   "execution_count": 2,
   "metadata": {},
   "outputs": [],
   "source": [
    "import numpy as np \n",
    "from scipy.stats import multivariate_normal\n",
    "import Estimateurs\n",
    "import Code\n",
    "import matplotlib.pyplot as plt\n",
    "from tqdm import tqdm\n",
    "import time"
   ]
  },
  {
   "cell_type": "markdown",
   "metadata": {},
   "source": [
    "## Sommaire\n",
    "\n",
    "- [Partie 0. Définition du cadre gaussien pour la génération des données](#partie-0-définition-du-cadre-gaussien-pour-la-génération-des-données)\n",
    "  - [0.1. Génération du vrai $\\theta$](#01-génération-du-vrai-theta)\n",
    "  \n",
    "  - [0.2. Génération de notre vecteur d'observation $\\boldsymbol{x} \\in \\mathbb{R}^{20}$](#02-génération-de-notre-vecteur-dobservation-boldsymbolx-in-mathbbr20)\n",
    "\n",
    "  - [0.3. Génération de la vraie log-vraisemblance et du vrai gradient associé à $\\theta_{\\text{true}}$ et à notre observation $\\boldsymbol{x}$](#03-génération-de-la-vraie-log-vraisemblance-et-du-vrai-gradient-associé-à-thetatru-et-à-notre-observation-boldsymbolx)\n",
    "\n",
    "  - [0.4. Génération des paramètres de l'encodeur $A \\in \\mathbb{R}^{20\\times 20}$ et $b \\in \\mathbb{R}^{20}$](#04-génération-des-paramètres-de-lencodeur-a-in-mathbbr2020-et-b-in-mathbbr20)\n",
    "\n",
    "- [Partie 1. Comparaison des estimateurs de la vraisemblance du modèle](#partie-1-comparaison-des-estimateurs-de-la-vraisemblance-du-modèle)\n",
    "\n",
    "  - [1.1 Les estimateurs RR (Roulette Russe) et SS (Single Sample)](#11-les-estimateurs-rr-roulette-russe-et-ss-single-sample)\n",
    "\n",
    "    - [1.1.1 Estimateur ML-SS](#111-estimateur-ml-ss)\n",
    "\n",
    "    - [1.1.2 Estimateur ML-RR](#112-estimateur-ml-rr)\n",
    "    \n",
    "  - [1.2 L'estimateurs SUMO (Stochastically Unbiased Marginalization Objective (SUMO))](#12-lestimateurs-sumo-stochastically-unbiased-marginalization-objective-sumo)\n",
    "\n",
    "  - [1.3 L'estimateurs IWAE (Autoencoder Pondéré par l'Importance)](#13-lestimateurs-iwae-autoencoder-pondéré-par-limportance)\n",
    "  \n",
    "  - [1.4 Comparaison entre les différents estimateurs](#14-comparaison-entre-les-différents-estimateurs)"
   ]
  },
  {
   "cell_type": "markdown",
   "metadata": {},
   "source": [
    "<span style=\"color:blue\">  **NOTATIONS**  </span> : on se donne un ensemble de données $\\boldsymbol{x} = \\{x^{(i)}\\}_{i=1}^n$ composé de $n$ échantillons i.i.d. d'une variable continue ou discrète $x$ à valeurs dans un espace d'observations $\\boldsymbol{\\mathcal{X}}$ (ainsi $\\boldsymbol{x} \\in \\boldsymbol{\\mathcal{X}}$). Nous supposons que les données sont générées par un processus aléatoire impliquant une variable aléatoire continue non observée $\\boldsymbol{z} = \\{z^{(i)}\\}_{i=1}^n$ à valeur dans un espace d'observations $\\boldsymbol{\\mathcal{Z}}$ (ainsi $\\boldsymbol{z} \\in \\boldsymbol{\\mathcal{Z}}$). Le processus se compose de deux étapes :\n",
    "\n",
    "\n",
    "1. La valeur $z^{(i)}$ est générée à partir d'une distribution a priori $p_{\\theta^*}(z)$ ;\n",
    "2. Une valeur $x^{(i)}$ est générée à partir d'une distribution conditionnelle $p_{\\theta^*}(x|z)$.\n",
    "\n",
    "\n",
    "Nous supposons que la distribution a priori $p_{\\theta^*}(\\boldsymbol{z})$ et la vraisemblance $p_{\\theta^*}(\\boldsymbol{x}|\\boldsymbol{z})$ proviennent de familles paramétriques de distributions $p_{\\theta}(\\boldsymbol{z})$ et $p_{\\theta}(\\boldsymbol{x}|\\boldsymbol{z})$ et on note $\\Theta \\subset \\mathbb{R}^d$ l'espace des paramètres. On connait ainsi l'expression de ces deux distributions. En revanche une grande partie de ce processus nous est cachée : les véritables paramètres $\\theta^*$ ainsi que les valeurs des $\\textbf{variables latentes}$ $z^{(i)}$ nous sont inconnus. \n",
    "\n",
    "Connaissant l'expression de la distribution a priori $p_{\\theta^*}(\\boldsymbol{z})$ et la vraisemblance $p_{\\theta^*}(\\boldsymbol{x}|\\boldsymbol{z})$ pour tout $\\theta \\in \\Theta$, on peut définir la densité jointe $p_{\\theta}(\\boldsymbol{x}, \\boldsymbol{z})$ sur $\\boldsymbol{\\mathcal{X}} \\times \\boldsymbol{\\mathcal{Z}}$ par : \n",
    "\n",
    "$$\n",
    "p_{\\theta}(\\boldsymbol{x}, \\boldsymbol{z}) = p_{\\theta}(\\boldsymbol{x}|\\boldsymbol{z}) p_{\\theta}(\\boldsymbol{z})\n",
    "$$"
   ]
  },
  {
   "cell_type": "markdown",
   "metadata": {},
   "source": [
    "<span style=\"color:blue\">  **OBJECTIF**  </span> : on cherche à déterminer la vraie valeur du paramètre (ici $\\theta^*$) ainsi que les valeurs des variables latentes. \n",
    "\n",
    "Une approche classique pour apprendre $\\boldsymbol{\\theta}$ est de choisir, si celle-ci existe, la valeur de ce paramètre qui maximise la log-vraisemblance marginale de l’ ́echantillon définie par :\n",
    "\n",
    "$$\n",
    "\\ell(\\boldsymbol{\\theta}) = \\log p_{\\boldsymbol{\\theta}}(\\boldsymbol{x}) = \\log \\int_{\\boldsymbol{\\mathcal{Z}}} p_{\\boldsymbol{\\theta}}(\\boldsymbol{x}, \\boldsymbol{z}) d\\boldsymbol{z}\n",
    "$$"
   ]
  },
  {
   "cell_type": "markdown",
   "metadata": {},
   "source": [
    "<span style=\"color:blue\">  **PROBLÈME**  </span> : l'intégrale donnée en ci-dessus est intractable (nous ne pouvons donc pas évaluer ou différencier la vraisemblance marginale)."
   ]
  },
  {
   "cell_type": "markdown",
   "metadata": {},
   "source": [
    "<span style=\"color:blue\">  **SOLUTION**  </span> : dans le but de résoudre les problèmes ci-dessus, introduisons un **modèle de reconnaissance** (paramétrique) {$ q_{\\phi}(\\boldsymbol{z}|\\boldsymbol{x}) : \\phi \\in \\Phi$} avec $\\Phi \\subset \\mathbb{R}^d$. Pour tout $\\phi$, $q_{\\phi}(\\boldsymbol{z}|\\boldsymbol{x})$ est choisi comme une approximation de la véritable postérieure intractable $p_{\\theta}(\\boldsymbol{z}|\\boldsymbol{x})$. L'idée est donc de proposer une valeur de l'a posteriori (faire une hypothèse) et d'introduire une méthode pour apprendre les paramètres du **modèle de reconnaissance** $\\phi$ conjointement avec les paramètres du **modèle génératif** $\\theta$."
   ]
  },
  {
   "cell_type": "markdown",
   "metadata": {},
   "source": [
    "## <span style=\"color:green\">  **Partie 0. Définition du cadre gaussien pour la génération des données**  </span>"
   ]
  },
  {
   "cell_type": "markdown",
   "metadata": {},
   "source": [
    "(Application numérique inspirée de [Rainforth et al. (2018)](https://arxiv.org/pdf/1802.04537.pdf))\n",
    "\n",
    "- Le **modèle génératif** est donné par $p_{\\theta}(\\boldsymbol{x}, \\boldsymbol{z}) = \\mathcal{N}(\\boldsymbol{z}|\\theta, I) \\mathcal{N}(\\boldsymbol{x}|\\boldsymbol{z}, I)$, où $\\boldsymbol{x}$ et $\\boldsymbol{z} \\in \\mathbb{R}^{20}$, de sorte que $p_{\\theta}(\\boldsymbol{x}) = \\mathcal{N}(\\boldsymbol{x}|\\theta, 2I)$ et $p_{\\theta}(\\boldsymbol{z}|\\boldsymbol{x}) = \\mathcal{N}\\left( \\frac{\\theta + x}{2}, \\frac{1}{2}I \\right)$. \n",
    "\n",
    "- La **distribution de l'encodeur** (le modèle de reconnaissance) est $q_{\\phi}(z|x) = \\mathcal{N}\\left(\\boldsymbol{z}|A\\boldsymbol{x} + b, \\frac{2}{3}I \\right)$, où $\\phi = (A, b)$.\n",
    "\n",
    "- Nous considérons des perturbations aléatoires des paramètres près de la valeur optimale par une distribution gaussienne de moyenne nulle et d'écart-type $0.01$.\n",
    "\n",
    "**Dans ce cas, on peut analytiquement calculer la vraie log-vraisemblance du modèle pour quantifier le biais et la variance de tous les estimateurs**.\n",
    "\n",
    "Puisque $q_{\\phi}(z|x) = \\mathcal{N}\\left(\\boldsymbol{z}|A\\boldsymbol{x} + b, \\frac{2}{3}I \\right)$ est censé être une approximation de la véritable loi a posteriori donnée par $p_{\\boldsymbol{\\theta}}(\\boldsymbol{z} | \\boldsymbol{x}) = \\mathcal{N}\\left( \\frac{\\theta + x}{2}, \\frac{1}{2}I \\right)$"
   ]
  },
  {
   "cell_type": "markdown",
   "metadata": {},
   "source": [
    "### <span style=\"color:orange\"> 0.1. **Génération du vrai $\\theta$**  </span>"
   ]
  },
  {
   "cell_type": "markdown",
   "metadata": {},
   "source": [
    "On commence par tirer le $\\theta$* ($\\in \\mathbb{R}$) qui sera le paramètre que l'on cherchera à estimer par la suite. \n",
    "\n",
    "A la manière de la génération des données dans [Rainforth et al. (2018)](https://arxiv.org/pdf/1802.04537.pdf) : $\\theta^* \\sim \\mathcal{N}(0, 1)$"
   ]
  },
  {
   "cell_type": "code",
   "execution_count": 3,
   "metadata": {},
   "outputs": [
    {
     "name": "stdout",
     "output_type": "stream",
     "text": [
      "La valeur de theta à estimer est -0.16\n"
     ]
    }
   ],
   "source": [
    "#theta_true = np.random.multivariate_normal(np.zeros(20), np.identity(20))\n",
    "theta_true = np.random.normal(0, 1)\n",
    "print(f\"La valeur de theta à estimer est {int(theta_true*100)/100}\")"
   ]
  },
  {
   "cell_type": "markdown",
   "metadata": {},
   "source": [
    "### <span style=\"color:orange\"> 0.2. **Génération de notre vecteur d'observation $\\boldsymbol{x} \\in \\mathbb{R}^{20}$**  </span>"
   ]
  },
  {
   "cell_type": "markdown",
   "metadata": {},
   "source": [
    "L'idée est désormais de tirer une observation $\\boldsymbol{x} \\in \\mathbb{R}^{20}$, chose que l'on peut faire puisque toutes les distributions nous sont données. \n"
   ]
  },
  {
   "cell_type": "code",
   "execution_count": 4,
   "metadata": {},
   "outputs": [
    {
     "name": "stdout",
     "output_type": "stream",
     "text": [
      "L'échantillon x observé est :\n",
      " \n",
      " x = [ 0.13921284  1.34626525 -0.73589885  0.32438918  0.32154416  1.66711587\n",
      " -0.56060381  1.61502192 -0.3952886  -1.12393078 -0.36719444 -0.58308142\n",
      " -1.44134648 -0.49482562  2.75889714  0.09539222 -1.49566681  0.06088058\n",
      " -0.15381115  0.36178464] \n",
      " \n",
      " et on vérifique bien sa taille est celle voulue : (20,)\n"
     ]
    }
   ],
   "source": [
    "## On se donne notre échantillon x\n",
    "\n",
    "x, _ = Estimateurs.joint_probability(theta_true)\n",
    "\n",
    "print(f\"L'échantillon x observé est :\\n \\n x = {x} \\n \\n et on vérifique bien sa taille est celle voulue : {x.shape}\")"
   ]
  },
  {
   "cell_type": "markdown",
   "metadata": {},
   "source": [
    "### <span style=\"color:orange\"> 0.3. **Génération de la vraie log-vraisemblance et du vrai gradient associé à $\\theta_{\\text{true}}$ et à notre observation $\\boldsymbol{x}$**  </span>"
   ]
  },
  {
   "cell_type": "markdown",
   "metadata": {},
   "source": [
    "On rappelle que l'on nous a donné que $p_{\\theta}(\\boldsymbol{x}) = \\mathcal{N}(\\boldsymbol{x}|\\theta, 2I)$ pour tout $\\boldsymbol{x} \\in \\mathbb{R}^{20}$, ainsi, on peut explicitement calculer la log-vraisemblance et du vrai gradient de $p_{\\theta}$ par rapport à $\\theta$. On a :\n",
    "\n",
    "\\begin{align*}\n",
    "\\ell (\\theta) = \\log p_{\\theta}(\\boldsymbol{x}) = \\log (\\mathcal{N}(\\boldsymbol{x}|\\theta, 2I)) &= \\log \\left ( \\frac{1}{\\sqrt{(2\\pi)^{20} \\det(2I)}} \\exp \\left\\{-\\frac{1}{2} (x-\\theta\\bm{1}_{20})^T (2I)^{-1} (x-\\theta\\bm{1}_{20}) \\right\\} \\right )\\\\\n",
    "&= \\log \\left ( \\frac{1}{(2\\pi)^{10} 2^{10}} \\exp \\left\\{-\\frac{1}{4} (x-\\theta\\bm{1}_{20})^T (x-\\theta\\bm{1}_{20}) \\right\\} \\right )\\\\\n",
    "&= - 10 \\log (4\\pi) -\\frac{1}{4} (x-\\theta\\bm{1}_{20})^T (x-\\theta\\bm{1}_{20})\\\\\n",
    "&= - 10 \\log (4\\pi) -\\frac{1}{4} \\| x - \\theta \\mathbf{1}_{20} \\|^2\\\\\n",
    "&= - 10 \\log (4\\pi) -\\frac{1}{4} \\sum_{i=1}^{20} (x_i - \\theta)^2\n",
    "\n",
    "\\end{align*}\n",
    "\n",
    "Et, alors \n",
    "\n",
    "\\begin{align*}\n",
    "\\nabla_{\\theta}\\ell (\\theta) = \\ell '(\\theta) &= \\frac{1}{2} \\sum_{i=1}^{20} (x_i - \\theta)\\\\\n",
    "&= \\frac{1}{2} \\sum_{i=1}^{20}x_i - 10 \\theta \\\\\n",
    "&= 10 \\frac{1}{20} \\sum_{i=1}^{20}x_i - 10 \\theta \\\\\n",
    "&= 10 (\\bar{x}_{20} - \\theta)\n",
    "\\end{align*}"
   ]
  },
  {
   "cell_type": "code",
   "execution_count": 5,
   "metadata": {},
   "outputs": [
    {
     "name": "stdout",
     "output_type": "stream",
     "text": [
      "La valeur associée à la log-vraisemblance de l'échantillon x pour theta_true est : -24.590513834589864 \n",
      " \n",
      "La valeur associée au gradient de l'échantillon x pour theta_true est : \n",
      "\n",
      " 2.273735795847384 \n",
      " \n"
     ]
    }
   ],
   "source": [
    "true_likelihood = Code.true_likelihood(x, theta_true)\n",
    "true_gradient = Code.true_grad(x, theta_true)\n",
    "\n",
    "print(f\"La valeur associée à la log-vraisemblance de l'échantillon x pour theta_true est : {true_likelihood} \\n \")\n",
    "print(f\"La valeur associée au gradient de l'échantillon x pour theta_true est : \\n\\n {true_gradient} \\n \")"
   ]
  },
  {
   "cell_type": "markdown",
   "metadata": {},
   "source": [
    "### <span style=\"color:orange\"> 0.4. **Génération des paramètres de l'encodeur $A \\in \\mathbb{R}^{20\\times 20}$ et $b \\in \\mathbb{R}^{20}$**  </span>"
   ]
  },
  {
   "cell_type": "markdown",
   "metadata": {},
   "source": [
    "Il est maintenant question de tirer notre encodeur tel que : $q_{\\phi}(z|x) = \\mathcal{N}\\left(\\boldsymbol{z}|A\\boldsymbol{x} + b, \\frac{2}{3}I \\right)$, où $\\phi = (A, b)$. **Le problème qui se pose est donc celui du choix de $A$ et de $b$**. Dans l'article [Rainforth et al. (2018)](https://arxiv.org/pdf/1802.04537.pdf), il nous est indiqué : \n",
    "\n",
    "*\"Following [Rainforth et al. (2018)](https://arxiv.org/pdf/1802.04537.pdf), we consider random perturbations of the parameters near the optimal value by a zero-mean Gaussian with standard deviation 0.01\"*\n",
    "\n",
    "Ainsi, étant donné une observation $\\boldsymbol{x}$,  le choix parfait pour $\\phi$ serait $\\phi^* = (A^*, b^*)$ où $A^* = \\frac{1}{2}\\boldsymbol{I}_{20} \\in \\mathbb{R}^{20 \\times 20}$ et $b^* = [\\frac{\\theta^*}{2}, ..., \\frac{\\theta^*}{2}]^T \\in \\mathbb{R}^{20} $. Suivant l'indication dans l'article, nous nous plaçons dans un cas où on aurait réussi à inférer de manière convenable la loi $p_{\\theta}(\\boldsymbol{z}|\\boldsymbol{x}) = \\mathcal{N}\\left( \\frac{\\theta + x}{2}, \\frac{1}{2}I \\right)$, mais pas parfaitement. Ainsi,  on introduit de la même façon que dans l'article [[Rainforth et al. (2018)](https://arxiv.org/pdf/1802.04537.pdf) une perturbation autour de la valeur optimale du paramètre $\\phi$. Cette perturbation se caractérise par le fait chaque dimension de chaque paramètre a été décalée de manière aléatoire par rapport à sa valeur optimale en utilisant une gaussienne centrée en zéro avec un écart-type de 0,01.\n"
   ]
  },
  {
   "cell_type": "code",
   "execution_count": 6,
   "metadata": {},
   "outputs": [
    {
     "name": "stdout",
     "output_type": "stream",
     "text": [
      "On vérifie que les tailles de A, b et x coincident :\n",
      " \n",
      " taille A : (20, 20) \n",
      " taille b : (20,) \n",
      " taille x : (20,)\n"
     ]
    }
   ],
   "source": [
    "dim = 20 \n",
    "\n",
    "## On calcule les valeurs optimales de A et de b\n",
    "A = 0.5 * np.eye(dim)\n",
    "b = 0.5 * theta_true * np.ones(dim)\n",
    "\n",
    "## On calcule les valeurs perturbées de A et de b, qui sont FIXÉES dans la suite\n",
    "noised_A, noised_b = Code.noised_params(A, b)\n",
    "\n",
    "print(f\"On vérifie que les tailles de A, b et x coincident :\\n \\n taille A : {A.shape} \\n taille b : {b.shape} \\n taille x : {x.shape}\")"
   ]
  },
  {
   "cell_type": "markdown",
   "metadata": {},
   "source": [
    "## <span style=\"color:green\">  **Partie 1. Comparaison des estimateurs de la vraisemblance du modèle**  </span>\n",
    "\n",
    "### <span style=\"color:orange\">  **1.1 Les estimateurs RR (Roulette Russe) et SS (Single Sample)**  </span>\n",
    "\n",
    "On rappelle rapidement la manière dont sont définis les estimateurs RR et SS, utilisés plus tard pour construire SUMO, ML-SS et ML-RR.  \n",
    "Désignons une quantité d'intérêt par $I_\\infty = \\log p_\\theta(\\boldsymbol{x})$. Supposons que $I_\\infty$ puisse être écrite comme\n",
    "\n",
    "$$\n",
    "I_\\infty = \\mathbb{E}[I_0] + \\sum_{k=0}^\\infty \\mathbb{E}[\\Delta_k] \n",
    "$$\n",
    "\n",
    "pour les variables aléatoires $I_0$ et $(\\Delta_k)_{k\\geq0}$. Nous pouvons estimer $I_\\infty$ de manière non biaisée via les estimateurs suivants ss ou rr :\n",
    "\n",
    "$$\n",
    "ss = I_0 + \\frac{\\Delta_K}{p(K)}, \\quad rr = I_0 + \\sum_{k=0}^K \\frac{\\Delta_k}{\\mathbb{P}(K \\geq k)}\n",
    "$$\n",
    "\n",
    "où $K \\sim Geom(r)$.\n",
    "\n",
    "Pour chacun de ces estimateurs, nous allons suivre la méthodologie du Monte Carlo multiniveau (voir cet [article](https://web.stanford.edu/~glynn/papers/2015/BlanchetG15.html)) qui repose sur un schéma alternatif astucieux pour construire $\\Delta_k$, qui peut garantir la construction d'estimateurs non biaisés de $\\ell(\\boldsymbol{\\theta})$ qui admettent une variance finie et peuvent être calculés en un temps attendu fini.\n",
    "\n",
    "Nous désignons par $\\boldsymbol{z}^O_i$, $\\boldsymbol{z}^E_i$ deux séquences indépendantes d'échantillons i.i.d. de $q_\\phi$, où $O$, $E$ désignent respectivement impair (odd), pair (even), et $w^O_i$, $w^E_i$ les poids d'importance correspondants. Ensuite, nous définissons $I_0 = \\hat{\\ell}^{(1)}(\\boldsymbol{\\theta})$ et\n",
    "\n",
    "\\begin{align*}\n",
    "\\Delta^\\text{ML}_k = \\hat{\\ell}^{(2^{k+1})}_{O\\cup E}(\\boldsymbol{\\theta}) - \\frac{1}{2} \\left( \\hat{\\ell}^{(2^k)}_O (\\boldsymbol{\\theta}) + \\hat{\\ell}^{(2^k)}_E (\\boldsymbol{\\theta}) \\right),\n",
    "\\end{align*}\n",
    "\n",
    "où $\\hat{\\ell}^{(2^k)}_O (\\boldsymbol{\\theta}) = \\log \\left(\\frac{1}{2^k} \\sum_{i=1}^{2^k} w(z^{O}_i) \\right)$ est calculé en utilisant les échantillons impairs $\\{z^O_i\\}_{i=1}^{2^k}$, $\\hat{\\ell}^{(2^k)}_E (\\boldsymbol{\\theta}) = \\log \\left(\\frac{1}{2^k} \\sum_{i=1}^{2^k} w(z^{E}_i) \\right)$ en utilisant les échantillons pairs $\\{z^E_i\\}_{i=1}^{2^k}$, et $\\hat{\\ell}^{(2^{k+1})}_{O\\cup E} (\\boldsymbol{\\theta})$ en utilisant $\\{z^O_i\\}_{i=1}^{2^k} \\cup \\{z^E_i\\}_{i=1}^{2^k}$. Nous désignons les estimateurs SS/RR multiniveaux correspondants de $\\hat{\\ell}(\\boldsymbol{\\theta})$ comme $\\hat{\\ell}^\\text{ML-SS}(\\boldsymbol{\\theta})$ et $\\hat{\\ell}^\\text{ML-RR}(\\boldsymbol{\\theta})$, et collectivement comme $\\hat{\\ell}^\\text{ML}(\\boldsymbol{\\theta})$.\n",
    "\n",
    "Ainsi, \n",
    "\n",
    "$$\n",
    "\\hat{\\ell}^\\text{ML-SS}(\\boldsymbol{\\theta}) = I_0 + \\frac{\\Delta^{\\text{ML}}_\\mathcal{K}}{p(\\mathcal{K})}, \\quad \\hat{\\ell}^\\text{ML-RR}(\\boldsymbol{\\theta}) = I_0 + \\sum_{k=0}^{K} \\frac{\\Delta^{\\text{ML}}_k}{\\mathbb{P}(\\mathcal{K} \\geq k)},\n",
    "$$\n",
    "\n",
    "En abscisse, on considère un segment centré autour de $\\theta^*$, la vraie valeur du paramètre. Pour chaque point de ce segment, on calcule l'estimation réalisée par $\\hat{\\ell}^\\text{ML-SS}(\\boldsymbol{\\theta})$ ou $\\hat{\\ell}^\\text{ML-RR}(\\boldsymbol{\\theta})$ et on la trace sur les graphiques suivant. Le courbe en rouge représente la vraie fonction de vraisemblance, calculée analytiquement. \n",
    "\n",
    "#### <span style=\"color:red\">  **1.1.1 Estimateur ML-SS**  </span>\n",
    "\n",
    "On choisit arbitrairement un nombre de 15 simulations et de 60 points pour des questions de vitesse de calcul. "
   ]
  },
  {
   "cell_type": "code",
   "execution_count": 7,
   "metadata": {},
   "outputs": [],
   "source": [
    "n_simulations = 15 \n",
    "num_runs = 10\n",
    "r = 0.6\n",
    "k_IWAE = 5"
   ]
  },
  {
   "cell_type": "code",
   "execution_count": 8,
   "metadata": {},
   "outputs": [
    {
     "name": "stderr",
     "output_type": "stream",
     "text": [
      "Progression:   0%|          | 0/30 [00:00<?, ?it/s]"
     ]
    },
    {
     "name": "stderr",
     "output_type": "stream",
     "text": [
      "Progression: 100%|██████████| 30/30 [00:25<00:00,  1.20it/s]\n"
     ]
    },
    {
     "data": {
      "image/png": "[encoded data removed]",
      "text/plain": [
       "<Figure size 1500x800 with 1 Axes>"
      ]
     },
     "metadata": {},
     "output_type": "display_data"
    }
   ],
   "source": [
    "Code.plot_errors_likelihood(r, theta_true, x, noised_A, noised_b, n_simulations,  5, 'ML_SS')"
   ]
  },
  {
   "cell_type": "markdown",
   "metadata": {},
   "source": [
    "On va désormais s'intéresser à l'estimation de $\\nabla_{\\theta} l(\\theta)$ par notre estimateur ML-SS. L'objectif étant de voir à quel point cet estimateur nous permettra, par la suite, d'approximer $\\theta^*$ à l'aide d'une descente de gradient. \n",
    "\n",
    "De la même façon, "
   ]
  },
  {
   "cell_type": "code",
   "execution_count": 7,
   "metadata": {},
   "outputs": [
    {
     "name": "stderr",
     "output_type": "stream",
     "text": [
      "/Users/khelifanail/MLMC_Unibaised_Gradient_Estimation_for_Deep_LVM/Code.py:210: RuntimeWarning: divide by zero encountered in log\n",
      "  I_0 = np.mean([np.log(weights_array)])\n",
      "/Users/khelifanail/MLMC_Unibaised_Gradient_Estimation_for_Deep_LVM/Code.py:212: RuntimeWarning: divide by zero encountered in log\n",
      "  l_odd = np.log(np.mean(np.exp(np.log(weights_array_odd))))\n",
      "/Users/khelifanail/MLMC_Unibaised_Gradient_Estimation_for_Deep_LVM/Code.py:214: RuntimeWarning: divide by zero encountered in log\n",
      "  l_odd_and_even = np.log(np.mean(np.exp(np.log(weights_array))))\n",
      "/Users/khelifanail/MLMC_Unibaised_Gradient_Estimation_for_Deep_LVM/Code.py:213: RuntimeWarning: divide by zero encountered in log\n",
      "  l_even = np.log(np.mean(np.exp(np.log(weights_array_even))))\n",
      "/usr/local/lib/python3.11/site-packages/numpy/lib/function_base.py:1259: RuntimeWarning: invalid value encountered in scalar subtract\n",
      "  out[tuple(slice1)] = (f[tuple(slice2)] - f[tuple(slice3)]) / dx_0\n"
     ]
    },
    {
     "data": {
      "application/vnd.plotly.v1+json": {
       "config": {
        "plotlyServerURL": "https://plot.ly"
       },
       "data": [
        {
         "line": {
          "color": "red"
         },
         "mode": "lines",
         "name": "True Gradient",
         "type": "scatter",
         "x": [
          -5.867568792316974,
          -5.663487159663913,
          -5.459405527010851,
          -5.25532389435779,
          -5.051242261704729,
          -4.847160629051668,
          -4.643078996398607,
          -4.438997363745545,
          -4.234915731092484,
          -4.030834098439423,
          -3.826752465786362,
          -3.6226708331333004,
          -3.4185892004802394,
          -3.2145075678271784,
          -3.010425935174117,
          -2.8063443025210555,
          -2.6022626698679945,
          -2.3981810372149335,
          -2.194099404561872,
          -1.9900177719088106,
          -1.7859361392557496,
          -1.5818545066026886,
          -1.3777728739496267,
          -1.1736912412965657,
          -0.9696096086435047,
          -0.7655279759904436,
          -0.5614463433373826,
          -0.35736471068432074,
          -0.15328307803125973,
          0.05079855462180127,
          0.25488018727486317,
          0.4589618199279242,
          0.6630434525809852,
          0.8671250852340462,
          1.0712067178871072,
          1.275288350540169,
          1.47936998319323,
          1.683451615846291,
          1.887533248499353,
          2.091614881152414,
          2.295696513805475,
          2.499778146458536,
          2.703859779111597,
          2.907941411764658,
          3.112023044417721,
          3.316104677070782,
          3.520186309723843,
          3.724267942376904,
          3.928349575029965,
          4.132431207683026
         ],
         "y": [
          49.01483361063924,
          46.97401728410863,
          44.933200957578016,
          42.892384631047406,
          40.851568304516796,
          38.810751977986186,
          36.769935651455576,
          34.72911932492495,
          32.68830299839435,
          30.647486671863735,
          28.606670345333114,
          26.565854018802504,
          24.525037692271894,
          22.484221365741284,
          20.443405039210667,
          18.402588712680053,
          16.361772386149443,
          14.320956059618835,
          12.28013973308822,
          10.239323406557606,
          8.198507080026996,
          6.157690753496386,
          4.116874426965767,
          2.0760581004351564,
          0.0352417739045463,
          -2.0055745526260638,
          -4.046390879156673,
          -6.087207205687292,
          -8.128023532217902,
          -10.168839858748512,
          -12.209656185279131,
          -14.250472511809742,
          -16.291288838340353,
          -18.332105164870963,
          -20.37292149140157,
          -22.413737817932187,
          -24.454554144462797,
          -26.495370470993407,
          -28.536186797524028,
          -30.577003124054638,
          -32.617819450585245,
          -34.65863577711586,
          -36.699452103646465,
          -38.74026843017708,
          -40.781084756707706,
          -42.821901083238316,
          -44.862717409768926,
          -46.903533736299536,
          -48.944350062830146,
          -50.98516638936076
         ]
        },
        {
         "marker": {
          "color": "purple",
          "symbol": "x"
         },
         "mode": "markers",
         "name": "ML_SS",
         "type": "scatter",
         "x": [
          -5.867568792316974,
          -5.663487159663913,
          -5.459405527010851,
          -5.25532389435779,
          -5.051242261704729,
          -4.847160629051668,
          -4.643078996398607,
          -4.438997363745545,
          -4.234915731092484,
          -4.030834098439423,
          -3.826752465786362,
          -3.6226708331333004,
          -3.4185892004802394,
          -3.2145075678271784,
          -3.010425935174117,
          -2.8063443025210555,
          -2.6022626698679945,
          -2.3981810372149335,
          -2.194099404561872,
          -1.9900177719088106,
          -1.7859361392557496,
          -1.5818545066026886,
          -1.3777728739496267,
          -1.1736912412965657,
          -0.9696096086435047,
          -0.7655279759904436,
          -0.5614463433373826,
          -0.35736471068432074,
          -0.15328307803125973,
          0.05079855462180127,
          0.25488018727486317,
          0.4589618199279242,
          0.6630434525809852,
          0.8671250852340462,
          1.0712067178871072,
          1.275288350540169,
          1.47936998319323,
          1.683451615846291,
          1.887533248499353,
          2.091614881152414,
          2.295696513805475,
          2.499778146458536,
          2.703859779111597,
          2.907941411764658,
          3.112023044417721,
          3.316104677070782,
          3.520186309723843,
          3.724267942376904,
          3.928349575029965,
          4.132431207683026
         ],
         "y": [
          null,
          null,
          null,
          17.058605875847093,
          -10.773744014254959,
          177.06791389473602,
          35.173271874191386,
          -116.37410934720397,
          25.125098540250292,
          16.84885080911016,
          34.52507560376419,
          22.205815229354897,
          19.809665776030386,
          37.442945594012755,
          204.52460444439345,
          19.631919279165047,
          -166.44645857688062,
          16.50965274456471,
          14.217765742445302,
          5.161749927920297,
          19.31108915857571,
          9.339727964073433,
          10.118916263202873,
          7.052922255262292,
          -4.891509909092466,
          1.2701807181479374,
          5.576262534079149,
          3.6814513436965974,
          -3.999014334575879,
          -4.363286654850043,
          -3.515114527375573,
          2.009425446838705,
          -3.957212055895031,
          -15.466203698054255,
          -10.000867078673913,
          -4.311668446123299,
          -5.720789531961152,
          -6.811940838197771,
          -13.417159052370437,
          -31.570566679227944,
          -25.38375741529928,
          22.234706463294245,
          -19.62541772131317,
          -70.5278803542118,
          -29.138977034608956,
          -19.06959930809137,
          -39.740385147716125,
          -31.504895843463117,
          0.48081561265274786,
          12.638758124287676
         ]
        }
       ],
       "layout": {
        "legend": {
         "font": {
          "size": 12
         },
         "traceorder": "normal",
         "x": 0,
         "y": 1
        },
        "shapes": [
         {
          "line": {
           "color": "black",
           "dash": "dash",
           "width": 2
          },
          "name": "theta=-0.8675687923169744",
          "type": "line",
          "x0": -0.8675687923169744,
          "x1": -0.8675687923169744,
          "y0": -50.98516638936076,
          "y1": 49.01483361063924
         }
        ],
        "showlegend": true,
        "template": {
         "data": {
          "bar": [
           {
            "error_x": {
             "color": "#2a3f5f"
            },
            "error_y": {
             "color": "#2a3f5f"
            },
            "marker": {
             "line": {
              "color": "#E5ECF6",
              "width": 0.5
             },
             "pattern": {
              "fillmode": "overlay",
              "size": 10,
              "solidity": 0.2
             }
            },
            "type": "bar"
           }
          ],
          "barpolar": [
           {
            "marker": {
             "line": {
              "color": "#E5ECF6",
              "width": 0.5
             },
             "pattern": {
              "fillmode": "overlay",
              "size": 10,
              "solidity": 0.2
             }
            },
            "type": "barpolar"
           }
          ],
          "carpet": [
           {
            "aaxis": {
             "endlinecolor": "#2a3f5f",
             "gridcolor": "white",
             "linecolor": "white",
             "minorgridcolor": "white",
             "startlinecolor": "#2a3f5f"
            },
            "baxis": {
             "endlinecolor": "#2a3f5f",
             "gridcolor": "white",
             "linecolor": "white",
             "minorgridcolor": "white",
             "startlinecolor": "#2a3f5f"
            },
            "type": "carpet"
           }
          ],
          "choropleth": [
           {
            "colorbar": {
             "outlinewidth": 0,
             "ticks": ""
            },
            "type": "choropleth"
           }
          ],
          "contour": [
           {
            "colorbar": {
             "outlinewidth": 0,
             "ticks": ""
            },
            "colorscale": [
             [
              0,
              "#0d0887"
             ],
             [
              0.1111111111111111,
              "#46039f"
             ],
             [
              0.2222222222222222,
              "#7201a8"
             ],
             [
              0.3333333333333333,
              "#9c179e"
             ],
             [
              0.4444444444444444,
              "#bd3786"
             ],
             [
              0.5555555555555556,
              "#d8576b"
             ],
             [
              0.6666666666666666,
              "#ed7953"
             ],
             [
              0.7777777777777778,
              "#fb9f3a"
             ],
             [
              0.8888888888888888,
              "#fdca26"
             ],
             [
              1,
              "#f0f921"
             ]
            ],
            "type": "contour"
           }
          ],
          "contourcarpet": [
           {
            "colorbar": {
             "outlinewidth": 0,
             "ticks": ""
            },
            "type": "contourcarpet"
           }
          ],
          "heatmap": [
           {
            "colorbar": {
             "outlinewidth": 0,
             "ticks": ""
            },
            "colorscale": [
             [
              0,
              "#0d0887"
             ],
             [
              0.1111111111111111,
              "#46039f"
             ],
             [
              0.2222222222222222,
              "#7201a8"
             ],
             [
              0.3333333333333333,
              "#9c179e"
             ],
             [
              0.4444444444444444,
              "#bd3786"
             ],
             [
              0.5555555555555556,
              "#d8576b"
             ],
             [
              0.6666666666666666,
              "#ed7953"
             ],
             [
              0.7777777777777778,
              "#fb9f3a"
             ],
             [
              0.8888888888888888,
              "#fdca26"
             ],
             [
              1,
              "#f0f921"
             ]
            ],
            "type": "heatmap"
           }
          ],
          "heatmapgl": [
           {
            "colorbar": {
             "outlinewidth": 0,
             "ticks": ""
            },
            "colorscale": [
             [
              0,
              "#0d0887"
             ],
             [
              0.1111111111111111,
              "#46039f"
             ],
             [
              0.2222222222222222,
              "#7201a8"
             ],
             [
              0.3333333333333333,
              "#9c179e"
             ],
             [
              0.4444444444444444,
              "#bd3786"
             ],
             [
              0.5555555555555556,
              "#d8576b"
             ],
             [
              0.6666666666666666,
              "#ed7953"
             ],
             [
              0.7777777777777778,
              "#fb9f3a"
             ],
             [
              0.8888888888888888,
              "#fdca26"
             ],
             [
              1,
              "#f0f921"
             ]
            ],
            "type": "heatmapgl"
           }
          ],
          "histogram": [
           {
            "marker": {
             "pattern": {
              "fillmode": "overlay",
              "size": 10,
              "solidity": 0.2
             }
            },
            "type": "histogram"
           }
          ],
          "histogram2d": [
           {
            "colorbar": {
             "outlinewidth": 0,
             "ticks": ""
            },
            "colorscale": [
             [
              0,
              "#0d0887"
             ],
             [
              0.1111111111111111,
              "#46039f"
             ],
             [
              0.2222222222222222,
              "#7201a8"
             ],
             [
              0.3333333333333333,
              "#9c179e"
             ],
             [
              0.4444444444444444,
              "#bd3786"
             ],
             [
              0.5555555555555556,
              "#d8576b"
             ],
             [
              0.6666666666666666,
              "#ed7953"
             ],
             [
              0.7777777777777778,
              "#fb9f3a"
             ],
             [
              0.8888888888888888,
              "#fdca26"
             ],
             [
              1,
              "#f0f921"
             ]
            ],
            "type": "histogram2d"
           }
          ],
          "histogram2dcontour": [
           {
            "colorbar": {
             "outlinewidth": 0,
             "ticks": ""
            },
            "colorscale": [
             [
              0,
              "#0d0887"
             ],
             [
              0.1111111111111111,
              "#46039f"
             ],
             [
              0.2222222222222222,
              "#7201a8"
             ],
             [
              0.3333333333333333,
              "#9c179e"
             ],
             [
              0.4444444444444444,
              "#bd3786"
             ],
             [
              0.5555555555555556,
              "#d8576b"
             ],
             [
              0.6666666666666666,
              "#ed7953"
             ],
             [
              0.7777777777777778,
              "#fb9f3a"
             ],
             [
              0.8888888888888888,
              "#fdca26"
             ],
             [
              1,
              "#f0f921"
             ]
            ],
            "type": "histogram2dcontour"
           }
          ],
          "mesh3d": [
           {
            "colorbar": {
             "outlinewidth": 0,
             "ticks": ""
            },
            "type": "mesh3d"
           }
          ],
          "parcoords": [
           {
            "line": {
             "colorbar": {
              "outlinewidth": 0,
              "ticks": ""
             }
            },
            "type": "parcoords"
           }
          ],
          "pie": [
           {
            "automargin": true,
            "type": "pie"
           }
          ],
          "scatter": [
           {
            "fillpattern": {
             "fillmode": "overlay",
             "size": 10,
             "solidity": 0.2
            },
            "type": "scatter"
           }
          ],
          "scatter3d": [
           {
            "line": {
             "colorbar": {
              "outlinewidth": 0,
              "ticks": ""
             }
            },
            "marker": {
             "colorbar": {
              "outlinewidth": 0,
              "ticks": ""
             }
            },
            "type": "scatter3d"
           }
          ],
          "scattercarpet": [
           {
            "marker": {
             "colorbar": {
              "outlinewidth": 0,
              "ticks": ""
             }
            },
            "type": "scattercarpet"
           }
          ],
          "scattergeo": [
           {
            "marker": {
             "colorbar": {
              "outlinewidth": 0,
              "ticks": ""
             }
            },
            "type": "scattergeo"
           }
          ],
          "scattergl": [
           {
            "marker": {
             "colorbar": {
              "outlinewidth": 0,
              "ticks": ""
             }
            },
            "type": "scattergl"
           }
          ],
          "scattermapbox": [
           {
            "marker": {
             "colorbar": {
              "outlinewidth": 0,
              "ticks": ""
             }
            },
            "type": "scattermapbox"
           }
          ],
          "scatterpolar": [
           {
            "marker": {
             "colorbar": {
              "outlinewidth": 0,
              "ticks": ""
             }
            },
            "type": "scatterpolar"
           }
          ],
          "scatterpolargl": [
           {
            "marker": {
             "colorbar": {
              "outlinewidth": 0,
              "ticks": ""
             }
            },
            "type": "scatterpolargl"
           }
          ],
          "scatterternary": [
           {
            "marker": {
             "colorbar": {
              "outlinewidth": 0,
              "ticks": ""
             }
            },
            "type": "scatterternary"
           }
          ],
          "surface": [
           {
            "colorbar": {
             "outlinewidth": 0,
             "ticks": ""
            },
            "colorscale": [
             [
              0,
              "#0d0887"
             ],
             [
              0.1111111111111111,
              "#46039f"
             ],
             [
              0.2222222222222222,
              "#7201a8"
             ],
             [
              0.3333333333333333,
              "#9c179e"
             ],
             [
              0.4444444444444444,
              "#bd3786"
             ],
             [
              0.5555555555555556,
              "#d8576b"
             ],
             [
              0.6666666666666666,
              "#ed7953"
             ],
             [
              0.7777777777777778,
              "#fb9f3a"
             ],
             [
              0.8888888888888888,
              "#fdca26"
             ],
             [
              1,
              "#f0f921"
             ]
            ],
            "type": "surface"
           }
          ],
          "table": [
           {
            "cells": {
             "fill": {
              "color": "#EBF0F8"
             },
             "line": {
              "color": "white"
             }
            },
            "header": {
             "fill": {
              "color": "#C8D4E3"
             },
             "line": {
              "color": "white"
             }
            },
            "type": "table"
           }
          ]
         },
         "layout": {
          "annotationdefaults": {
           "arrowcolor": "#2a3f5f",
           "arrowhead": 0,
           "arrowwidth": 1
          },
          "autotypenumbers": "strict",
          "coloraxis": {
           "colorbar": {
            "outlinewidth": 0,
            "ticks": ""
           }
          },
          "colorscale": {
           "diverging": [
            [
             0,
             "#8e0152"
            ],
            [
             0.1,
             "#c51b7d"
            ],
            [
             0.2,
             "#de77ae"
            ],
            [
             0.3,
             "#f1b6da"
            ],
            [
             0.4,
             "#fde0ef"
            ],
            [
             0.5,
             "#f7f7f7"
            ],
            [
             0.6,
             "#e6f5d0"
            ],
            [
             0.7,
             "#b8e186"
            ],
            [
             0.8,
             "#7fbc41"
            ],
            [
             0.9,
             "#4d9221"
            ],
            [
             1,
             "#276419"
            ]
           ],
           "sequential": [
            [
             0,
             "#0d0887"
            ],
            [
             0.1111111111111111,
             "#46039f"
            ],
            [
             0.2222222222222222,
             "#7201a8"
            ],
            [
             0.3333333333333333,
             "#9c179e"
            ],
            [
             0.4444444444444444,
             "#bd3786"
            ],
            [
             0.5555555555555556,
             "#d8576b"
            ],
            [
             0.6666666666666666,
             "#ed7953"
            ],
            [
             0.7777777777777778,
             "#fb9f3a"
            ],
            [
             0.8888888888888888,
             "#fdca26"
            ],
            [
             1,
             "#f0f921"
            ]
           ],
           "sequentialminus": [
            [
             0,
             "#0d0887"
            ],
            [
             0.1111111111111111,
             "#46039f"
            ],
            [
             0.2222222222222222,
             "#7201a8"
            ],
            [
             0.3333333333333333,
             "#9c179e"
            ],
            [
             0.4444444444444444,
             "#bd3786"
            ],
            [
             0.5555555555555556,
             "#d8576b"
            ],
            [
             0.6666666666666666,
             "#ed7953"
            ],
            [
             0.7777777777777778,
             "#fb9f3a"
            ],
            [
             0.8888888888888888,
             "#fdca26"
            ],
            [
             1,
             "#f0f921"
            ]
           ]
          },
          "colorway": [
           "#636efa",
           "#EF553B",
           "#00cc96",
           "#ab63fa",
           "#FFA15A",
           "#19d3f3",
           "#FF6692",
           "#B6E880",
           "#FF97FF",
           "#FECB52"
          ],
          "font": {
           "color": "#2a3f5f"
          },
          "geo": {
           "bgcolor": "white",
           "lakecolor": "white",
           "landcolor": "#E5ECF6",
           "showlakes": true,
           "showland": true,
           "subunitcolor": "white"
          },
          "hoverlabel": {
           "align": "left"
          },
          "hovermode": "closest",
          "mapbox": {
           "style": "light"
          },
          "paper_bgcolor": "white",
          "plot_bgcolor": "#E5ECF6",
          "polar": {
           "angularaxis": {
            "gridcolor": "white",
            "linecolor": "white",
            "ticks": ""
           },
           "bgcolor": "#E5ECF6",
           "radialaxis": {
            "gridcolor": "white",
            "linecolor": "white",
            "ticks": ""
           }
          },
          "scene": {
           "xaxis": {
            "backgroundcolor": "#E5ECF6",
            "gridcolor": "white",
            "gridwidth": 2,
            "linecolor": "white",
            "showbackground": true,
            "ticks": "",
            "zerolinecolor": "white"
           },
           "yaxis": {
            "backgroundcolor": "#E5ECF6",
            "gridcolor": "white",
            "gridwidth": 2,
            "linecolor": "white",
            "showbackground": true,
            "ticks": "",
            "zerolinecolor": "white"
           },
           "zaxis": {
            "backgroundcolor": "#E5ECF6",
            "gridcolor": "white",
            "gridwidth": 2,
            "linecolor": "white",
            "showbackground": true,
            "ticks": "",
            "zerolinecolor": "white"
           }
          },
          "shapedefaults": {
           "line": {
            "color": "#2a3f5f"
           }
          },
          "ternary": {
           "aaxis": {
            "gridcolor": "white",
            "linecolor": "white",
            "ticks": ""
           },
           "baxis": {
            "gridcolor": "white",
            "linecolor": "white",
            "ticks": ""
           },
           "bgcolor": "#E5ECF6",
           "caxis": {
            "gridcolor": "white",
            "linecolor": "white",
            "ticks": ""
           }
          },
          "title": {
           "x": 0.05
          },
          "xaxis": {
           "automargin": true,
           "gridcolor": "white",
           "linecolor": "white",
           "ticks": "",
           "title": {
            "standoff": 15
           },
           "zerolinecolor": "white",
           "zerolinewidth": 2
          },
          "yaxis": {
           "automargin": true,
           "gridcolor": "white",
           "linecolor": "white",
           "ticks": "",
           "title": {
            "standoff": 15
           },
           "zerolinecolor": "white",
           "zerolinewidth": 2
          }
         }
        },
        "title": {
         "text": "Estimation du gradient par ML_SS"
        },
        "xaxis": {
         "title": {
          "text": "Theta"
         }
        },
        "yaxis": {
         "title": {
          "text": "Gradient"
         }
        }
       }
      }
     },
     "metadata": {},
     "output_type": "display_data"
    }
   ],
   "source": [
    "Code.plot_gradient(r, x, noised_A, noised_b, theta_true, n_simulations, 'ML_SS', k_IWAE)"
   ]
  },
  {
   "cell_type": "code",
   "execution_count": 10,
   "metadata": {},
   "outputs": [
    {
     "name": "stderr",
     "output_type": "stream",
     "text": [
      "Progression:   0%|          | 0/50 [00:08<?, ?it/s]\n",
      "/Users/khelifanail/MLMC_Unibaised_Gradient_Estimation_for_Deep_LVM/Code.py:221: RuntimeWarning: invalid value encountered in scalar add\n",
      "  SS.append(I_0 + (Delta_theta_K/(((1-r)**(K-1))*r)))\n",
      "Progression:  14%|█▍        | 7/50 [04:22<26:00, 36.29s/it]/usr/local/lib/python3.11/site-packages/numpy/lib/function_base.py:1238: RuntimeWarning: invalid value encountered in subtract\n",
      "  out[tuple(slice1)] = (f[tuple(slice4)] - f[tuple(slice2)]) / (2. * ax_dx)\n",
      "Progression:  48%|████▊     | 24/50 [15:31<15:23, 35.53s/it]/usr/local/lib/python3.11/site-packages/numpy/lib/function_base.py:1259: RuntimeWarning: invalid value encountered in scalar subtract\n",
      "  out[tuple(slice1)] = (f[tuple(slice2)] - f[tuple(slice3)]) / dx_0\n",
      "Progression:  60%|██████    | 30/50 [19:11<12:07, 36.37s/it]/usr/local/lib/python3.11/site-packages/numpy/lib/function_base.py:1266: RuntimeWarning: invalid value encountered in scalar subtract\n",
      "  out[tuple(slice1)] = (f[tuple(slice2)] - f[tuple(slice3)]) / dx_n\n",
      "Progression: 100%|██████████| 50/50 [33:15<00:00, 39.91s/it]\n"
     ]
    },
    {
     "ename": "ValueError",
     "evalue": "X must have 2 or fewer dimensions",
     "output_type": "error",
     "traceback": [
      "\u001b[0;31m---------------------------------------------------------------------------\u001b[0m",
      "\u001b[0;31mValueError\u001b[0m                                Traceback (most recent call last)",
      "\u001b[1;32m/Users/khelifanail/MLMC_Unibaised_Gradient_Estimation_for_Deep_LVM/Test_code.ipynb Cell 27\u001b[0m line \u001b[0;36m3\n\u001b[1;32m     <a href='vscode-notebook-cell:/Users/khelifanail/MLMC_Unibaised_Gradient_Estimation_for_Deep_LVM/Test_code.ipynb#X36sZmlsZQ%3D%3D?line=31'>32</a>\u001b[0m plt\u001b[39m.\u001b[39mscatter(theta_values, [np\u001b[39m.\u001b[39mmedian(x) \u001b[39mfor\u001b[39;00m x \u001b[39min\u001b[39;00m estimated_grad], color\u001b[39m=\u001b[39m\u001b[39m'\u001b[39m\u001b[39mred\u001b[39m\u001b[39m'\u001b[39m, label\u001b[39m=\u001b[39m\u001b[39m'\u001b[39m\u001b[39mEstimation moyenne\u001b[39m\u001b[39m'\u001b[39m)\n\u001b[1;32m     <a href='vscode-notebook-cell:/Users/khelifanail/MLMC_Unibaised_Gradient_Estimation_for_Deep_LVM/Test_code.ipynb#X36sZmlsZQ%3D%3D?line=33'>34</a>\u001b[0m \u001b[39m# Ajout des boxplots\u001b[39;00m\n\u001b[0;32m---> <a href='vscode-notebook-cell:/Users/khelifanail/MLMC_Unibaised_Gradient_Estimation_for_Deep_LVM/Test_code.ipynb#X36sZmlsZQ%3D%3D?line=34'>35</a>\u001b[0m plt\u001b[39m.\u001b[39;49mboxplot(estimated_grad, positions\u001b[39m=\u001b[39;49mtheta_values, widths\u001b[39m=\u001b[39;49m\u001b[39m0.1\u001b[39;49m, showfliers\u001b[39m=\u001b[39;49m\u001b[39mFalse\u001b[39;49;00m, patch_artist\u001b[39m=\u001b[39;49m\u001b[39mTrue\u001b[39;49;00m, notch\u001b[39m=\u001b[39;49m\u001b[39mFalse\u001b[39;49;00m, showmeans\u001b[39m=\u001b[39;49m\u001b[39mTrue\u001b[39;49;00m, boxprops\u001b[39m=\u001b[39;49m\u001b[39mdict\u001b[39;49m(facecolor\u001b[39m=\u001b[39;49m\u001b[39m'\u001b[39;49m\u001b[39morange\u001b[39;49m\u001b[39m'\u001b[39;49m))\n\u001b[1;32m     <a href='vscode-notebook-cell:/Users/khelifanail/MLMC_Unibaised_Gradient_Estimation_for_Deep_LVM/Test_code.ipynb#X36sZmlsZQ%3D%3D?line=36'>37</a>\u001b[0m \u001b[39m# Ligne verticale pour la valeur de theta_true vrai\u001b[39;00m\n\u001b[1;32m     <a href='vscode-notebook-cell:/Users/khelifanail/MLMC_Unibaised_Gradient_Estimation_for_Deep_LVM/Test_code.ipynb#X36sZmlsZQ%3D%3D?line=37'>38</a>\u001b[0m plt\u001b[39m.\u001b[39maxvline(x\u001b[39m=\u001b[39mtheta_true, color\u001b[39m=\u001b[39m\u001b[39m'\u001b[39m\u001b[39mblack\u001b[39m\u001b[39m'\u001b[39m, linestyle\u001b[39m=\u001b[39m\u001b[39m'\u001b[39m\u001b[39m--\u001b[39m\u001b[39m'\u001b[39m, label\u001b[39m=\u001b[39m\u001b[39mf\u001b[39m\u001b[39m'\u001b[39m\u001b[39mTheta=\u001b[39m\u001b[39m{\u001b[39;00mtheta_true\u001b[39m}\u001b[39;00m\u001b[39m'\u001b[39m)\n",
      "File \u001b[0;32m/usr/local/lib/python3.11/site-packages/matplotlib/pyplot.py:2836\u001b[0m, in \u001b[0;36mboxplot\u001b[0;34m(x, notch, sym, vert, whis, positions, widths, patch_artist, bootstrap, usermedians, conf_intervals, meanline, showmeans, showcaps, showbox, showfliers, boxprops, labels, flierprops, medianprops, meanprops, capprops, whiskerprops, manage_ticks, autorange, zorder, capwidths, data)\u001b[0m\n\u001b[1;32m   2804\u001b[0m \u001b[39m@_copy_docstring_and_deprecators\u001b[39m(Axes\u001b[39m.\u001b[39mboxplot)\n\u001b[1;32m   2805\u001b[0m \u001b[39mdef\u001b[39;00m \u001b[39mboxplot\u001b[39m(\n\u001b[1;32m   2806\u001b[0m     x: ArrayLike \u001b[39m|\u001b[39m Sequence[ArrayLike],\n\u001b[0;32m   (...)\u001b[0m\n\u001b[1;32m   2834\u001b[0m     data\u001b[39m=\u001b[39m\u001b[39mNone\u001b[39;00m,\n\u001b[1;32m   2835\u001b[0m ) \u001b[39m-\u001b[39m\u001b[39m>\u001b[39m \u001b[39mdict\u001b[39m[\u001b[39mstr\u001b[39m, Any]:\n\u001b[0;32m-> 2836\u001b[0m     \u001b[39mreturn\u001b[39;00m gca()\u001b[39m.\u001b[39;49mboxplot(\n\u001b[1;32m   2837\u001b[0m         x,\n\u001b[1;32m   2838\u001b[0m         notch\u001b[39m=\u001b[39;49mnotch,\n\u001b[1;32m   2839\u001b[0m         sym\u001b[39m=\u001b[39;49msym,\n\u001b[1;32m   2840\u001b[0m         vert\u001b[39m=\u001b[39;49mvert,\n\u001b[1;32m   2841\u001b[0m         whis\u001b[39m=\u001b[39;49mwhis,\n\u001b[1;32m   2842\u001b[0m         positions\u001b[39m=\u001b[39;49mpositions,\n\u001b[1;32m   2843\u001b[0m         widths\u001b[39m=\u001b[39;49mwidths,\n\u001b[1;32m   2844\u001b[0m         patch_artist\u001b[39m=\u001b[39;49mpatch_artist,\n\u001b[1;32m   2845\u001b[0m         bootstrap\u001b[39m=\u001b[39;49mbootstrap,\n\u001b[1;32m   2846\u001b[0m         usermedians\u001b[39m=\u001b[39;49musermedians,\n\u001b[1;32m   2847\u001b[0m         conf_intervals\u001b[39m=\u001b[39;49mconf_intervals,\n\u001b[1;32m   2848\u001b[0m         meanline\u001b[39m=\u001b[39;49mmeanline,\n\u001b[1;32m   2849\u001b[0m         showmeans\u001b[39m=\u001b[39;49mshowmeans,\n\u001b[1;32m   2850\u001b[0m         showcaps\u001b[39m=\u001b[39;49mshowcaps,\n\u001b[1;32m   2851\u001b[0m         showbox\u001b[39m=\u001b[39;49mshowbox,\n\u001b[1;32m   2852\u001b[0m         showfliers\u001b[39m=\u001b[39;49mshowfliers,\n\u001b[1;32m   2853\u001b[0m         boxprops\u001b[39m=\u001b[39;49mboxprops,\n\u001b[1;32m   2854\u001b[0m         labels\u001b[39m=\u001b[39;49mlabels,\n\u001b[1;32m   2855\u001b[0m         flierprops\u001b[39m=\u001b[39;49mflierprops,\n\u001b[1;32m   2856\u001b[0m         medianprops\u001b[39m=\u001b[39;49mmedianprops,\n\u001b[1;32m   2857\u001b[0m         meanprops\u001b[39m=\u001b[39;49mmeanprops,\n\u001b[1;32m   2858\u001b[0m         capprops\u001b[39m=\u001b[39;49mcapprops,\n\u001b[1;32m   2859\u001b[0m         whiskerprops\u001b[39m=\u001b[39;49mwhiskerprops,\n\u001b[1;32m   2860\u001b[0m         manage_ticks\u001b[39m=\u001b[39;49mmanage_ticks,\n\u001b[1;32m   2861\u001b[0m         autorange\u001b[39m=\u001b[39;49mautorange,\n\u001b[1;32m   2862\u001b[0m         zorder\u001b[39m=\u001b[39;49mzorder,\n\u001b[1;32m   2863\u001b[0m         capwidths\u001b[39m=\u001b[39;49mcapwidths,\n\u001b[1;32m   2864\u001b[0m         \u001b[39m*\u001b[39;49m\u001b[39m*\u001b[39;49m({\u001b[39m\"\u001b[39;49m\u001b[39mdata\u001b[39;49m\u001b[39m\"\u001b[39;49m: data} \u001b[39mif\u001b[39;49;00m data \u001b[39mis\u001b[39;49;00m \u001b[39mnot\u001b[39;49;00m \u001b[39mNone\u001b[39;49;00m \u001b[39melse\u001b[39;49;00m {}),\n\u001b[1;32m   2865\u001b[0m     )\n",
      "File \u001b[0;32m/usr/local/lib/python3.11/site-packages/matplotlib/__init__.py:1465\u001b[0m, in \u001b[0;36m_preprocess_data.<locals>.inner\u001b[0;34m(ax, data, *args, **kwargs)\u001b[0m\n\u001b[1;32m   1462\u001b[0m \u001b[39m@functools\u001b[39m\u001b[39m.\u001b[39mwraps(func)\n\u001b[1;32m   1463\u001b[0m \u001b[39mdef\u001b[39;00m \u001b[39minner\u001b[39m(ax, \u001b[39m*\u001b[39margs, data\u001b[39m=\u001b[39m\u001b[39mNone\u001b[39;00m, \u001b[39m*\u001b[39m\u001b[39m*\u001b[39mkwargs):\n\u001b[1;32m   1464\u001b[0m     \u001b[39mif\u001b[39;00m data \u001b[39mis\u001b[39;00m \u001b[39mNone\u001b[39;00m:\n\u001b[0;32m-> 1465\u001b[0m         \u001b[39mreturn\u001b[39;00m func(ax, \u001b[39m*\u001b[39;49m\u001b[39mmap\u001b[39;49m(sanitize_sequence, args), \u001b[39m*\u001b[39;49m\u001b[39m*\u001b[39;49mkwargs)\n\u001b[1;32m   1467\u001b[0m     bound \u001b[39m=\u001b[39m new_sig\u001b[39m.\u001b[39mbind(ax, \u001b[39m*\u001b[39margs, \u001b[39m*\u001b[39m\u001b[39m*\u001b[39mkwargs)\n\u001b[1;32m   1468\u001b[0m     auto_label \u001b[39m=\u001b[39m (bound\u001b[39m.\u001b[39marguments\u001b[39m.\u001b[39mget(label_namer)\n\u001b[1;32m   1469\u001b[0m                   \u001b[39mor\u001b[39;00m bound\u001b[39m.\u001b[39mkwargs\u001b[39m.\u001b[39mget(label_namer))\n",
      "File \u001b[0;32m/usr/local/lib/python3.11/site-packages/matplotlib/axes/_axes.py:3947\u001b[0m, in \u001b[0;36mAxes.boxplot\u001b[0;34m(self, x, notch, sym, vert, whis, positions, widths, patch_artist, bootstrap, usermedians, conf_intervals, meanline, showmeans, showcaps, showbox, showfliers, boxprops, labels, flierprops, medianprops, meanprops, capprops, whiskerprops, manage_ticks, autorange, zorder, capwidths)\u001b[0m\n\u001b[1;32m   3944\u001b[0m \u001b[39mif\u001b[39;00m bootstrap \u001b[39mis\u001b[39;00m \u001b[39mNone\u001b[39;00m:\n\u001b[1;32m   3945\u001b[0m     bootstrap \u001b[39m=\u001b[39m mpl\u001b[39m.\u001b[39mrcParams[\u001b[39m'\u001b[39m\u001b[39mboxplot.bootstrap\u001b[39m\u001b[39m'\u001b[39m]\n\u001b[0;32m-> 3947\u001b[0m bxpstats \u001b[39m=\u001b[39m cbook\u001b[39m.\u001b[39;49mboxplot_stats(x, whis\u001b[39m=\u001b[39;49mwhis, bootstrap\u001b[39m=\u001b[39;49mbootstrap,\n\u001b[1;32m   3948\u001b[0m                                labels\u001b[39m=\u001b[39;49mlabels, autorange\u001b[39m=\u001b[39;49mautorange)\n\u001b[1;32m   3949\u001b[0m \u001b[39mif\u001b[39;00m notch \u001b[39mis\u001b[39;00m \u001b[39mNone\u001b[39;00m:\n\u001b[1;32m   3950\u001b[0m     notch \u001b[39m=\u001b[39m mpl\u001b[39m.\u001b[39mrcParams[\u001b[39m'\u001b[39m\u001b[39mboxplot.notch\u001b[39m\u001b[39m'\u001b[39m]\n",
      "File \u001b[0;32m/usr/local/lib/python3.11/site-packages/matplotlib/cbook.py:1202\u001b[0m, in \u001b[0;36mboxplot_stats\u001b[0;34m(X, whis, bootstrap, labels, autorange)\u001b[0m\n\u001b[1;32m   1199\u001b[0m bxpstats \u001b[39m=\u001b[39m []\n\u001b[1;32m   1201\u001b[0m \u001b[39m# convert X to a list of lists\u001b[39;00m\n\u001b[0;32m-> 1202\u001b[0m X \u001b[39m=\u001b[39m _reshape_2D(X, \u001b[39m\"\u001b[39;49m\u001b[39mX\u001b[39;49m\u001b[39m\"\u001b[39;49m)\n\u001b[1;32m   1204\u001b[0m ncols \u001b[39m=\u001b[39m \u001b[39mlen\u001b[39m(X)\n\u001b[1;32m   1205\u001b[0m \u001b[39mif\u001b[39;00m labels \u001b[39mis\u001b[39;00m \u001b[39mNone\u001b[39;00m:\n",
      "File \u001b[0;32m/usr/local/lib/python3.11/site-packages/matplotlib/cbook.py:1412\u001b[0m, in \u001b[0;36m_reshape_2D\u001b[0;34m(X, name)\u001b[0m\n\u001b[1;32m   1410\u001b[0m     nd \u001b[39m=\u001b[39m np\u001b[39m.\u001b[39mndim(xi)\n\u001b[1;32m   1411\u001b[0m     \u001b[39mif\u001b[39;00m nd \u001b[39m>\u001b[39m \u001b[39m1\u001b[39m:\n\u001b[0;32m-> 1412\u001b[0m         \u001b[39mraise\u001b[39;00m \u001b[39mValueError\u001b[39;00m(\u001b[39mf\u001b[39m\u001b[39m'\u001b[39m\u001b[39m{\u001b[39;00mname\u001b[39m}\u001b[39;00m\u001b[39m must have 2 or fewer dimensions\u001b[39m\u001b[39m'\u001b[39m)\n\u001b[1;32m   1413\u001b[0m     result\u001b[39m.\u001b[39mappend(xi\u001b[39m.\u001b[39mreshape(\u001b[39m-\u001b[39m\u001b[39m1\u001b[39m))\n\u001b[1;32m   1415\u001b[0m \u001b[39mif\u001b[39;00m is_1d:\n\u001b[1;32m   1416\u001b[0m     \u001b[39m# 1D array of scalars: directly return it.\u001b[39;00m\n",
      "\u001b[0;31mValueError\u001b[0m: X must have 2 or fewer dimensions"
     ]
    },
    {
     "data": {
      "image/png": "[encoded data removed]",
      "text/plain": [
       "<Figure size 1500x800 with 1 Axes>"
      ]
     },
     "metadata": {},
     "output_type": "display_data"
    }
   ],
   "source": [
    "theta_min = theta_true - 5\n",
    "theta_max = theta_true + 5\n",
    "step = 0.2\n",
    "num_points = int((theta_max - theta_min) / step)\n",
    "theta_values = np.linspace(theta_min, theta_max, num_points)\n",
    "methode = 'ML_SS'\n",
    "\n",
    "n_runs = 5\n",
    "\n",
    "true_gradient_values = [Code.true_grad(x, theta) for theta in theta_values]\n",
    "\n",
    "estimated_grad = []\n",
    "\n",
    "# Calcul des vraisemblances estimées et stockage des résultats pour chaque exécution\n",
    "progress_bar = tqdm(total=len(theta_values), desc='Progression', position=0)\n",
    "for theta in theta_values:\n",
    "    grad = []\n",
    "    for _ in range(n_runs):\n",
    "        grad.append(Code.grad_ML_SS(r, x, noised_A, noised_b, theta, n_simulations))\n",
    "    estimated_grad.append(grad)\n",
    "    time.sleep(0.01)\n",
    "    progress_bar.update(1)\n",
    "progress_bar.close()\n",
    "\n",
    "# Création de la figure\n",
    "plt.figure(figsize=(15, 8))\n",
    "\n",
    "# Tracé de la vraisemblance réelle\n",
    "plt.plot(theta_values, true_gradient_values, color='blue', label='Gradient réel')\n",
    "\n",
    "# Tracé de la vraisemblance estimée\n",
    "plt.scatter(theta_values, [np.median(x) for x in estimated_grad], color='red', label='Estimation moyenne')\n",
    "\n",
    "# Ajout des boxplots\n",
    "plt.boxplot(estimated_grad, positions=theta_values, widths=0.1, showfliers=False, patch_artist=True, notch=False, showmeans=True, boxprops=dict(facecolor='orange'))\n",
    "\n",
    "# Ligne verticale pour la valeur de theta_true vrai\n",
    "plt.axvline(x=theta_true, color='black', linestyle='--', label=f'Theta={theta_true}')\n",
    "\n",
    "# Mise en forme de la figure\n",
    "plt.title(f'Estimation du gradient par {methode} avec incertitude pour {n_runs} répétitions')\n",
    "plt.xlabel('Theta')\n",
    "plt.ylabel('Gradient')\n",
    "plt.legend()\n",
    "plt.grid(True)\n",
    "plt.xticks(np.arange(min(theta_values), max(theta_values)+1, 2))\n",
    "\n",
    "\n",
    "# Affichage de la figure\n",
    "plt.show()"
   ]
  },
  {
   "cell_type": "markdown",
   "metadata": {},
   "source": [
    "#### <span style=\"color:red\">  **1.1.2 Estimateur ML-RR**  </span>"
   ]
  },
  {
   "cell_type": "code",
   "execution_count": 8,
   "metadata": {},
   "outputs": [
    {
     "name": "stderr",
     "output_type": "stream",
     "text": [
      "Progression:   0%|          | 0/30 [00:00<?, ?it/s]"
     ]
    },
    {
     "name": "stderr",
     "output_type": "stream",
     "text": [
      "Progression: 100%|██████████| 30/30 [00:20<00:00,  1.43it/s]\n"
     ]
    },
    {
     "data": {
      "image/png": "[encoded data removed]",
      "text/plain": [
       "<Figure size 1500x800 with 1 Axes>"
      ]
     },
     "metadata": {},
     "output_type": "display_data"
    }
   ],
   "source": [
    "n_simulations = 15\n",
    "r = 0.6\n",
    "\n",
    "Code.plot_errors_likelihood(r, theta_true, x, noised_A, noised_b, n_simulations,  5, 'ML_RR')"
   ]
  },
  {
   "cell_type": "code",
   "execution_count": 9,
   "metadata": {},
   "outputs": [
    {
     "data": {
      "application/vnd.plotly.v1+json": {
       "config": {
        "plotlyServerURL": "https://plot.ly"
       },
       "data": [
        {
         "line": {
          "color": "red"
         },
         "mode": "lines",
         "name": "True Gradient",
         "type": "scatter",
         "x": [
          -5.160430786451022,
          -4.956349153797961,
          -4.7522675211448995,
          -4.5481858884918385,
          -4.3441042558387775,
          -4.1400226231857165,
          -3.935940990532655,
          -3.7318593578795936,
          -3.5277777252265325,
          -3.3236960925734715,
          -3.11961445992041,
          -2.9155328272673486,
          -2.7114511946142876,
          -2.5073695619612266,
          -2.303287929308165,
          -2.0992062966551037,
          -1.8951246640020427,
          -1.6910430313489817,
          -1.4869613986959203,
          -1.2828797660428588,
          -1.0787981333897978,
          -0.8747165007367368,
          -0.6706348680836749,
          -0.4665532354306139,
          -0.2624716027775529,
          -0.058389970124491875,
          0.14569166252856913,
          0.349773295181631,
          0.553854927834692,
          0.757936560487753,
          0.9620181931408149,
          1.166099825793876,
          1.370181458446937,
          1.574263091099998,
          1.778344723753059,
          1.9824263564061209,
          2.186507989059182,
          2.390589621712243,
          2.5946712543653048,
          2.7987528870183658,
          3.002834519671427,
          3.206916152324488,
          3.410997784977549,
          3.61507941763061,
          3.8191610502836726,
          4.023242682936734,
          4.227324315589795,
          4.431405948242856,
          4.635487580895917,
          4.839569213548978
         ],
         "y": [
          52.27373579584739,
          50.232919469316776,
          48.19210314278615,
          46.15128681625555,
          44.11047048972493,
          42.06965416319433,
          40.028837836663705,
          37.988021510133095,
          35.947205183602485,
          33.906388857071875,
          31.86557253054126,
          29.824756204010647,
          27.783939877480037,
          25.743123550949427,
          23.702307224418814,
          21.6614908978882,
          19.620674571357586,
          17.579858244826976,
          15.53904191829636,
          13.498225591765747,
          11.457409265235137,
          9.416592938704527,
          7.375776612173909,
          5.334960285643299,
          3.294143959112688,
          1.253327632582078,
          -0.7874886939485319,
          -2.828305020479151,
          -4.869121347009761,
          -6.90993767354037,
          -8.95075400007099,
          -10.9915703266016,
          -13.03238665313221,
          -15.07320297966282,
          -17.11401930619343,
          -19.15483563272405,
          -21.195651959254658,
          -23.236468285785268,
          -25.27728461231589,
          -27.3181009388465,
          -29.35891726537711,
          -31.39973359190772,
          -33.44054991843833,
          -35.48136624496894,
          -37.52218257149956,
          -39.56299889803017,
          -41.60381522456078,
          -43.64463155109139,
          -45.685447877622,
          -47.72626420415261
         ]
        },
        {
         "marker": {
          "color": "purple",
          "symbol": "x"
         },
         "mode": "markers",
         "name": "ML_RR",
         "type": "scatter",
         "x": [
          -5.160430786451022,
          -4.956349153797961,
          -4.7522675211448995,
          -4.5481858884918385,
          -4.3441042558387775,
          -4.1400226231857165,
          -3.935940990532655,
          -3.7318593578795936,
          -3.5277777252265325,
          -3.3236960925734715,
          -3.11961445992041,
          -2.9155328272673486,
          -2.7114511946142876,
          -2.5073695619612266,
          -2.303287929308165,
          -2.0992062966551037,
          -1.8951246640020427,
          -1.6910430313489817,
          -1.4869613986959203,
          -1.2828797660428588,
          -1.0787981333897978,
          -0.8747165007367368,
          -0.6706348680836749,
          -0.4665532354306139,
          -0.2624716027775529,
          -0.058389970124491875,
          0.14569166252856913,
          0.349773295181631,
          0.553854927834692,
          0.757936560487753,
          0.9620181931408149,
          1.166099825793876,
          1.370181458446937,
          1.574263091099998,
          1.778344723753059,
          1.9824263564061209,
          2.186507989059182,
          2.390589621712243,
          2.5946712543653048,
          2.7987528870183658,
          3.002834519671427,
          3.206916152324488,
          3.410997784977549,
          3.61507941763061,
          3.8191610502836726,
          4.023242682936734,
          4.227324315589795,
          4.431405948242856,
          4.635487580895917,
          4.839569213548978
         ],
         "y": [
          61.11269962409153,
          25.881706085077496,
          26.2975788229694,
          113.21362607254726,
          129.8601639144804,
          -14.017555908903589,
          -70.77818058648606,
          -4.457448286739549,
          23.140293770715644,
          19.671986036121865,
          14.215219409942648,
          52.081334198298066,
          18.583803613757865,
          -11.894456062264325,
          11.487821092993748,
          11.819425290852607,
          19.19510979256735,
          18.97274257435672,
          8.801107802266007,
          11.100186357430829,
          6.747272506226526,
          -2.0210078691637605,
          9.485052100949133,
          4.4571710838184195,
          -3.7665884680628245,
          0.592562680520567,
          0.13727626599104426,
          -3.1362368529455456,
          -2.297149767442466,
          2.127762058353774,
          -1.4764896757873416,
          -4.637700780663522,
          -11.736226771870484,
          -10.929059404239041,
          -6.311042159648498,
          -11.992763620037529,
          -21.355066891434447,
          -17.09979656092574,
          -3.5080212268593485,
          34.3703746395243,
          50.539799261133574,
          49.314924502296236,
          -88.99569957504497,
          -148.22031770212521,
          -22.953484530206282,
          -6.872616607377779,
          -38.12121721642555,
          32.516860156335724,
          -14.924895419240869,
          -156.0378324052366
         ]
        }
       ],
       "layout": {
        "legend": {
         "font": {
          "size": 12
         },
         "traceorder": "normal",
         "x": 0,
         "y": 1
        },
        "shapes": [
         {
          "line": {
           "color": "black",
           "dash": "dash",
           "width": 2
          },
          "name": "theta=-0.1604307864510224",
          "type": "line",
          "x0": -0.1604307864510224,
          "x1": -0.1604307864510224,
          "y0": -156.0378324052366,
          "y1": 129.8601639144804
         }
        ],
        "showlegend": true,
        "template": {
         "data": {
          "bar": [
           {
            "error_x": {
             "color": "#2a3f5f"
            },
            "error_y": {
             "color": "#2a3f5f"
            },
            "marker": {
             "line": {
              "color": "#E5ECF6",
              "width": 0.5
             },
             "pattern": {
              "fillmode": "overlay",
              "size": 10,
              "solidity": 0.2
             }
            },
            "type": "bar"
           }
          ],
          "barpolar": [
           {
            "marker": {
             "line": {
              "color": "#E5ECF6",
              "width": 0.5
             },
             "pattern": {
              "fillmode": "overlay",
              "size": 10,
              "solidity": 0.2
             }
            },
            "type": "barpolar"
           }
          ],
          "carpet": [
           {
            "aaxis": {
             "endlinecolor": "#2a3f5f",
             "gridcolor": "white",
             "linecolor": "white",
             "minorgridcolor": "white",
             "startlinecolor": "#2a3f5f"
            },
            "baxis": {
             "endlinecolor": "#2a3f5f",
             "gridcolor": "white",
             "linecolor": "white",
             "minorgridcolor": "white",
             "startlinecolor": "#2a3f5f"
            },
            "type": "carpet"
           }
          ],
          "choropleth": [
           {
            "colorbar": {
             "outlinewidth": 0,
             "ticks": ""
            },
            "type": "choropleth"
           }
          ],
          "contour": [
           {
            "colorbar": {
             "outlinewidth": 0,
             "ticks": ""
            },
            "colorscale": [
             [
              0,
              "#0d0887"
             ],
             [
              0.1111111111111111,
              "#46039f"
             ],
             [
              0.2222222222222222,
              "#7201a8"
             ],
             [
              0.3333333333333333,
              "#9c179e"
             ],
             [
              0.4444444444444444,
              "#bd3786"
             ],
             [
              0.5555555555555556,
              "#d8576b"
             ],
             [
              0.6666666666666666,
              "#ed7953"
             ],
             [
              0.7777777777777778,
              "#fb9f3a"
             ],
             [
              0.8888888888888888,
              "#fdca26"
             ],
             [
              1,
              "#f0f921"
             ]
            ],
            "type": "contour"
           }
          ],
          "contourcarpet": [
           {
            "colorbar": {
             "outlinewidth": 0,
             "ticks": ""
            },
            "type": "contourcarpet"
           }
          ],
          "heatmap": [
           {
            "colorbar": {
             "outlinewidth": 0,
             "ticks": ""
            },
            "colorscale": [
             [
              0,
              "#0d0887"
             ],
             [
              0.1111111111111111,
              "#46039f"
             ],
             [
              0.2222222222222222,
              "#7201a8"
             ],
             [
              0.3333333333333333,
              "#9c179e"
             ],
             [
              0.4444444444444444,
              "#bd3786"
             ],
             [
              0.5555555555555556,
              "#d8576b"
             ],
             [
              0.6666666666666666,
              "#ed7953"
             ],
             [
              0.7777777777777778,
              "#fb9f3a"
             ],
             [
              0.8888888888888888,
              "#fdca26"
             ],
             [
              1,
              "#f0f921"
             ]
            ],
            "type": "heatmap"
           }
          ],
          "heatmapgl": [
           {
            "colorbar": {
             "outlinewidth": 0,
             "ticks": ""
            },
            "colorscale": [
             [
              0,
              "#0d0887"
             ],
             [
              0.1111111111111111,
              "#46039f"
             ],
             [
              0.2222222222222222,
              "#7201a8"
             ],
             [
              0.3333333333333333,
              "#9c179e"
             ],
             [
              0.4444444444444444,
              "#bd3786"
             ],
             [
              0.5555555555555556,
              "#d8576b"
             ],
             [
              0.6666666666666666,
              "#ed7953"
             ],
             [
              0.7777777777777778,
              "#fb9f3a"
             ],
             [
              0.8888888888888888,
              "#fdca26"
             ],
             [
              1,
              "#f0f921"
             ]
            ],
            "type": "heatmapgl"
           }
          ],
          "histogram": [
           {
            "marker": {
             "pattern": {
              "fillmode": "overlay",
              "size": 10,
              "solidity": 0.2
             }
            },
            "type": "histogram"
           }
          ],
          "histogram2d": [
           {
            "colorbar": {
             "outlinewidth": 0,
             "ticks": ""
            },
            "colorscale": [
             [
              0,
              "#0d0887"
             ],
             [
              0.1111111111111111,
              "#46039f"
             ],
             [
              0.2222222222222222,
              "#7201a8"
             ],
             [
              0.3333333333333333,
              "#9c179e"
             ],
             [
              0.4444444444444444,
              "#bd3786"
             ],
             [
              0.5555555555555556,
              "#d8576b"
             ],
             [
              0.6666666666666666,
              "#ed7953"
             ],
             [
              0.7777777777777778,
              "#fb9f3a"
             ],
             [
              0.8888888888888888,
              "#fdca26"
             ],
             [
              1,
              "#f0f921"
             ]
            ],
            "type": "histogram2d"
           }
          ],
          "histogram2dcontour": [
           {
            "colorbar": {
             "outlinewidth": 0,
             "ticks": ""
            },
            "colorscale": [
             [
              0,
              "#0d0887"
             ],
             [
              0.1111111111111111,
              "#46039f"
             ],
             [
              0.2222222222222222,
              "#7201a8"
             ],
             [
              0.3333333333333333,
              "#9c179e"
             ],
             [
              0.4444444444444444,
              "#bd3786"
             ],
             [
              0.5555555555555556,
              "#d8576b"
             ],
             [
              0.6666666666666666,
              "#ed7953"
             ],
             [
              0.7777777777777778,
              "#fb9f3a"
             ],
             [
              0.8888888888888888,
              "#fdca26"
             ],
             [
              1,
              "#f0f921"
             ]
            ],
            "type": "histogram2dcontour"
           }
          ],
          "mesh3d": [
           {
            "colorbar": {
             "outlinewidth": 0,
             "ticks": ""
            },
            "type": "mesh3d"
           }
          ],
          "parcoords": [
           {
            "line": {
             "colorbar": {
              "outlinewidth": 0,
              "ticks": ""
             }
            },
            "type": "parcoords"
           }
          ],
          "pie": [
           {
            "automargin": true,
            "type": "pie"
           }
          ],
          "scatter": [
           {
            "fillpattern": {
             "fillmode": "overlay",
             "size": 10,
             "solidity": 0.2
            },
            "type": "scatter"
           }
          ],
          "scatter3d": [
           {
            "line": {
             "colorbar": {
              "outlinewidth": 0,
              "ticks": ""
             }
            },
            "marker": {
             "colorbar": {
              "outlinewidth": 0,
              "ticks": ""
             }
            },
            "type": "scatter3d"
           }
          ],
          "scattercarpet": [
           {
            "marker": {
             "colorbar": {
              "outlinewidth": 0,
              "ticks": ""
             }
            },
            "type": "scattercarpet"
           }
          ],
          "scattergeo": [
           {
            "marker": {
             "colorbar": {
              "outlinewidth": 0,
              "ticks": ""
             }
            },
            "type": "scattergeo"
           }
          ],
          "scattergl": [
           {
            "marker": {
             "colorbar": {
              "outlinewidth": 0,
              "ticks": ""
             }
            },
            "type": "scattergl"
           }
          ],
          "scattermapbox": [
           {
            "marker": {
             "colorbar": {
              "outlinewidth": 0,
              "ticks": ""
             }
            },
            "type": "scattermapbox"
           }
          ],
          "scatterpolar": [
           {
            "marker": {
             "colorbar": {
              "outlinewidth": 0,
              "ticks": ""
             }
            },
            "type": "scatterpolar"
           }
          ],
          "scatterpolargl": [
           {
            "marker": {
             "colorbar": {
              "outlinewidth": 0,
              "ticks": ""
             }
            },
            "type": "scatterpolargl"
           }
          ],
          "scatterternary": [
           {
            "marker": {
             "colorbar": {
              "outlinewidth": 0,
              "ticks": ""
             }
            },
            "type": "scatterternary"
           }
          ],
          "surface": [
           {
            "colorbar": {
             "outlinewidth": 0,
             "ticks": ""
            },
            "colorscale": [
             [
              0,
              "#0d0887"
             ],
             [
              0.1111111111111111,
              "#46039f"
             ],
             [
              0.2222222222222222,
              "#7201a8"
             ],
             [
              0.3333333333333333,
              "#9c179e"
             ],
             [
              0.4444444444444444,
              "#bd3786"
             ],
             [
              0.5555555555555556,
              "#d8576b"
             ],
             [
              0.6666666666666666,
              "#ed7953"
             ],
             [
              0.7777777777777778,
              "#fb9f3a"
             ],
             [
              0.8888888888888888,
              "#fdca26"
             ],
             [
              1,
              "#f0f921"
             ]
            ],
            "type": "surface"
           }
          ],
          "table": [
           {
            "cells": {
             "fill": {
              "color": "#EBF0F8"
             },
             "line": {
              "color": "white"
             }
            },
            "header": {
             "fill": {
              "color": "#C8D4E3"
             },
             "line": {
              "color": "white"
             }
            },
            "type": "table"
           }
          ]
         },
         "layout": {
          "annotationdefaults": {
           "arrowcolor": "#2a3f5f",
           "arrowhead": 0,
           "arrowwidth": 1
          },
          "autotypenumbers": "strict",
          "coloraxis": {
           "colorbar": {
            "outlinewidth": 0,
            "ticks": ""
           }
          },
          "colorscale": {
           "diverging": [
            [
             0,
             "#8e0152"
            ],
            [
             0.1,
             "#c51b7d"
            ],
            [
             0.2,
             "#de77ae"
            ],
            [
             0.3,
             "#f1b6da"
            ],
            [
             0.4,
             "#fde0ef"
            ],
            [
             0.5,
             "#f7f7f7"
            ],
            [
             0.6,
             "#e6f5d0"
            ],
            [
             0.7,
             "#b8e186"
            ],
            [
             0.8,
             "#7fbc41"
            ],
            [
             0.9,
             "#4d9221"
            ],
            [
             1,
             "#276419"
            ]
           ],
           "sequential": [
            [
             0,
             "#0d0887"
            ],
            [
             0.1111111111111111,
             "#46039f"
            ],
            [
             0.2222222222222222,
             "#7201a8"
            ],
            [
             0.3333333333333333,
             "#9c179e"
            ],
            [
             0.4444444444444444,
             "#bd3786"
            ],
            [
             0.5555555555555556,
             "#d8576b"
            ],
            [
             0.6666666666666666,
             "#ed7953"
            ],
            [
             0.7777777777777778,
             "#fb9f3a"
            ],
            [
             0.8888888888888888,
             "#fdca26"
            ],
            [
             1,
             "#f0f921"
            ]
           ],
           "sequentialminus": [
            [
             0,
             "#0d0887"
            ],
            [
             0.1111111111111111,
             "#46039f"
            ],
            [
             0.2222222222222222,
             "#7201a8"
            ],
            [
             0.3333333333333333,
             "#9c179e"
            ],
            [
             0.4444444444444444,
             "#bd3786"
            ],
            [
             0.5555555555555556,
             "#d8576b"
            ],
            [
             0.6666666666666666,
             "#ed7953"
            ],
            [
             0.7777777777777778,
             "#fb9f3a"
            ],
            [
             0.8888888888888888,
             "#fdca26"
            ],
            [
             1,
             "#f0f921"
            ]
           ]
          },
          "colorway": [
           "#636efa",
           "#EF553B",
           "#00cc96",
           "#ab63fa",
           "#FFA15A",
           "#19d3f3",
           "#FF6692",
           "#B6E880",
           "#FF97FF",
           "#FECB52"
          ],
          "font": {
           "color": "#2a3f5f"
          },
          "geo": {
           "bgcolor": "white",
           "lakecolor": "white",
           "landcolor": "#E5ECF6",
           "showlakes": true,
           "showland": true,
           "subunitcolor": "white"
          },
          "hoverlabel": {
           "align": "left"
          },
          "hovermode": "closest",
          "mapbox": {
           "style": "light"
          },
          "paper_bgcolor": "white",
          "plot_bgcolor": "#E5ECF6",
          "polar": {
           "angularaxis": {
            "gridcolor": "white",
            "linecolor": "white",
            "ticks": ""
           },
           "bgcolor": "#E5ECF6",
           "radialaxis": {
            "gridcolor": "white",
            "linecolor": "white",
            "ticks": ""
           }
          },
          "scene": {
           "xaxis": {
            "backgroundcolor": "#E5ECF6",
            "gridcolor": "white",
            "gridwidth": 2,
            "linecolor": "white",
            "showbackground": true,
            "ticks": "",
            "zerolinecolor": "white"
           },
           "yaxis": {
            "backgroundcolor": "#E5ECF6",
            "gridcolor": "white",
            "gridwidth": 2,
            "linecolor": "white",
            "showbackground": true,
            "ticks": "",
            "zerolinecolor": "white"
           },
           "zaxis": {
            "backgroundcolor": "#E5ECF6",
            "gridcolor": "white",
            "gridwidth": 2,
            "linecolor": "white",
            "showbackground": true,
            "ticks": "",
            "zerolinecolor": "white"
           }
          },
          "shapedefaults": {
           "line": {
            "color": "#2a3f5f"
           }
          },
          "ternary": {
           "aaxis": {
            "gridcolor": "white",
            "linecolor": "white",
            "ticks": ""
           },
           "baxis": {
            "gridcolor": "white",
            "linecolor": "white",
            "ticks": ""
           },
           "bgcolor": "#E5ECF6",
           "caxis": {
            "gridcolor": "white",
            "linecolor": "white",
            "ticks": ""
           }
          },
          "title": {
           "x": 0.05
          },
          "xaxis": {
           "automargin": true,
           "gridcolor": "white",
           "linecolor": "white",
           "ticks": "",
           "title": {
            "standoff": 15
           },
           "zerolinecolor": "white",
           "zerolinewidth": 2
          },
          "yaxis": {
           "automargin": true,
           "gridcolor": "white",
           "linecolor": "white",
           "ticks": "",
           "title": {
            "standoff": 15
           },
           "zerolinecolor": "white",
           "zerolinewidth": 2
          }
         }
        },
        "title": {
         "text": "Estimation du gradient par ML_RR"
        },
        "xaxis": {
         "title": {
          "text": "Theta"
         }
        },
        "yaxis": {
         "title": {
          "text": "Gradient"
         }
        }
       }
      }
     },
     "metadata": {},
     "output_type": "display_data"
    }
   ],
   "source": [
    "Code.plot_gradient(0.6, x, noised_A, noised_b, theta_true, 15, \"ML_RR\")"
   ]
  },
  {
   "cell_type": "markdown",
   "metadata": {},
   "source": [
    "### <span style=\"color:orange\">  **1.2 L'estimateurs SUMO (Stochastically Unbiased Marginalization Objective (SUMO))**  </span>\n",
    "\n",
    "On pose \n",
    "\\begin{align*}\n",
    "\\Delta^{\\text{SUMO}}_k &:= \\hat{\\ell}^{(k+2)}(\\boldsymbol{\\theta}) - \\hat{\\ell}^{(k+1)}(\\boldsymbol{\\theta})\\\\\n",
    "&:= \\log \\left( \\frac{1}{k+2} \\sum_{i=1}^{k+2} w(\\boldsymbol{z}_i) \\right) - \\log \\left( \\frac{1}{k+1} \\sum_{i=1}^{k+1} w(\\boldsymbol{z}_i) \\right),\n",
    "\\end{align*}\n",
    "\n",
    "où on rappelle que $w(\\boldsymbol{z}) := \\frac{p_{\\boldsymbol{\\theta}}(\\boldsymbol{x}, \\boldsymbol{z})}{q_{\\phi}(\\boldsymbol{z}|\\boldsymbol{x})}$.\n",
    "\n",
    "On applique l'estimateur $RR$ pour construire notre estimateur, que nous appelons $\\textbf{SUMO}$ (Stochastically Unbiased Marginalization Objective) qui correspond précisément à l'estimateur de la roulette russe pour $\\Delta^{\\text{SUMO}}_k$. Ainsi, \n",
    "$$\n",
    "\\hat{\\ell}^{\\text{SUMO}}(\\boldsymbol{\\theta}) := I_0 + \\sum^K_{k=0} \\frac{\\Delta^{\\text{SUMO}}_k}{P(\\mathcal{K} \\geq k)}\n",
    "$$\n",
    "    \n",
    "où $\\mathcal{K} \\sim p(\\cdot)$ une distrubtion de support dans $\\mathbb{N}$"
   ]
  },
  {
   "cell_type": "code",
   "execution_count": 10,
   "metadata": {},
   "outputs": [
    {
     "name": "stderr",
     "output_type": "stream",
     "text": [
      "Progression: 100%|██████████| 30/30 [00:43<00:00,  1.45s/it]\n"
     ]
    },
    {
     "data": {
      "image/png": "[encoded data removed]",
      "text/plain": [
       "<Figure size 1500x800 with 1 Axes>"
      ]
     },
     "metadata": {},
     "output_type": "display_data"
    }
   ],
   "source": [
    "n_simulations = 15 \n",
    "r = 0.6\n",
    "\n",
    "Code.plot_errors_likelihood(r, theta_true, x, noised_A, noised_b, n_simulations,  5, 'SUMO')"
   ]
  },
  {
   "cell_type": "code",
   "execution_count": 11,
   "metadata": {},
   "outputs": [
    {
     "data": {
      "application/vnd.plotly.v1+json": {
       "config": {
        "plotlyServerURL": "https://plot.ly"
       },
       "data": [
        {
         "line": {
          "color": "red"
         },
         "mode": "lines",
         "name": "True Gradient",
         "type": "scatter",
         "x": [
          -5.160430786451022,
          -4.956349153797961,
          -4.7522675211448995,
          -4.5481858884918385,
          -4.3441042558387775,
          -4.1400226231857165,
          -3.935940990532655,
          -3.7318593578795936,
          -3.5277777252265325,
          -3.3236960925734715,
          -3.11961445992041,
          -2.9155328272673486,
          -2.7114511946142876,
          -2.5073695619612266,
          -2.303287929308165,
          -2.0992062966551037,
          -1.8951246640020427,
          -1.6910430313489817,
          -1.4869613986959203,
          -1.2828797660428588,
          -1.0787981333897978,
          -0.8747165007367368,
          -0.6706348680836749,
          -0.4665532354306139,
          -0.2624716027775529,
          -0.058389970124491875,
          0.14569166252856913,
          0.349773295181631,
          0.553854927834692,
          0.757936560487753,
          0.9620181931408149,
          1.166099825793876,
          1.370181458446937,
          1.574263091099998,
          1.778344723753059,
          1.9824263564061209,
          2.186507989059182,
          2.390589621712243,
          2.5946712543653048,
          2.7987528870183658,
          3.002834519671427,
          3.206916152324488,
          3.410997784977549,
          3.61507941763061,
          3.8191610502836726,
          4.023242682936734,
          4.227324315589795,
          4.431405948242856,
          4.635487580895917,
          4.839569213548978
         ],
         "y": [
          52.27373579584739,
          50.232919469316776,
          48.19210314278615,
          46.15128681625555,
          44.11047048972493,
          42.06965416319433,
          40.028837836663705,
          37.988021510133095,
          35.947205183602485,
          33.906388857071875,
          31.86557253054126,
          29.824756204010647,
          27.783939877480037,
          25.743123550949427,
          23.702307224418814,
          21.6614908978882,
          19.620674571357586,
          17.579858244826976,
          15.53904191829636,
          13.498225591765747,
          11.457409265235137,
          9.416592938704527,
          7.375776612173909,
          5.334960285643299,
          3.294143959112688,
          1.253327632582078,
          -0.7874886939485319,
          -2.828305020479151,
          -4.869121347009761,
          -6.90993767354037,
          -8.95075400007099,
          -10.9915703266016,
          -13.03238665313221,
          -15.07320297966282,
          -17.11401930619343,
          -19.15483563272405,
          -21.195651959254658,
          -23.236468285785268,
          -25.27728461231589,
          -27.3181009388465,
          -29.35891726537711,
          -31.39973359190772,
          -33.44054991843833,
          -35.48136624496894,
          -37.52218257149956,
          -39.56299889803017,
          -41.60381522456078,
          -43.64463155109139,
          -45.685447877622,
          -47.72626420415261
         ]
        },
        {
         "marker": {
          "color": "purple",
          "symbol": "x"
         },
         "mode": "markers",
         "name": "SUMO",
         "type": "scatter",
         "x": [
          -5.160430786451022,
          -4.956349153797961,
          -4.7522675211448995,
          -4.5481858884918385,
          -4.3441042558387775,
          -4.1400226231857165,
          -3.935940990532655,
          -3.7318593578795936,
          -3.5277777252265325,
          -3.3236960925734715,
          -3.11961445992041,
          -2.9155328272673486,
          -2.7114511946142876,
          -2.5073695619612266,
          -2.303287929308165,
          -2.0992062966551037,
          -1.8951246640020427,
          -1.6910430313489817,
          -1.4869613986959203,
          -1.2828797660428588,
          -1.0787981333897978,
          -0.8747165007367368,
          -0.6706348680836749,
          -0.4665532354306139,
          -0.2624716027775529,
          -0.058389970124491875,
          0.14569166252856913,
          0.349773295181631,
          0.553854927834692,
          0.757936560487753,
          0.9620181931408149,
          1.166099825793876,
          1.370181458446937,
          1.574263091099998,
          1.778344723753059,
          1.9824263564061209,
          2.186507989059182,
          2.390589621712243,
          2.5946712543653048,
          2.7987528870183658,
          3.002834519671427,
          3.206916152324488,
          3.410997784977549,
          3.61507941763061,
          3.8191610502836726,
          4.023242682936734,
          4.227324315589795,
          4.431405948242856,
          4.635487580895917,
          4.839569213548978
         ],
         "y": [
          45.14920417717724,
          38.96347536894845,
          36.93665126680844,
          85.70915907557901,
          50.29496766968302,
          -12.421158184499603,
          18.869704283298802,
          30.63135007276071,
          32.88889738795875,
          26.029221210462353,
          19.542271643169215,
          23.422522661817865,
          27.345133983936307,
          20.643037363763725,
          16.020106955688988,
          20.018057124320585,
          16.254834055753015,
          12.198536619490199,
          30.33987193305235,
          12.321799279602107,
          -6.454875750301699,
          7.391740987048632,
          3.339782718839924,
          4.116184607470736,
          5.650367600993757,
          2.7279540687457278,
          0.05754180113203944,
          -3.1713624481013163,
          -6.697099132914392,
          -0.9080391012896527,
          -7.2201319849281305,
          -10.646894429252121,
          -7.028501353249176,
          -7.720308069499069,
          -15.58999946383932,
          -19.144939912632992,
          -14.567790148806374,
          -20.953603594296567,
          -23.53308704269486,
          -17.605501516783093,
          -24.363000004524167,
          -32.47401041820193,
          -14.876870983632799,
          -24.926250704083458,
          -27.548951418727256,
          -14.49579635502468,
          -39.81557236900491,
          318.7648311550409,
          -48.21765106167109,
          -788.5376043735549
         ]
        }
       ],
       "layout": {
        "legend": {
         "font": {
          "size": 12
         },
         "traceorder": "normal",
         "x": 0,
         "y": 1
        },
        "shapes": [
         {
          "line": {
           "color": "black",
           "dash": "dash",
           "width": 2
          },
          "name": "theta=-0.1604307864510224",
          "type": "line",
          "x0": -0.1604307864510224,
          "x1": -0.1604307864510224,
          "y0": -788.5376043735549,
          "y1": 318.7648311550409
         }
        ],
        "showlegend": true,
        "template": {
         "data": {
          "bar": [
           {
            "error_x": {
             "color": "#2a3f5f"
            },
            "error_y": {
             "color": "#2a3f5f"
            },
            "marker": {
             "line": {
              "color": "#E5ECF6",
              "width": 0.5
             },
             "pattern": {
              "fillmode": "overlay",
              "size": 10,
              "solidity": 0.2
             }
            },
            "type": "bar"
           }
          ],
          "barpolar": [
           {
            "marker": {
             "line": {
              "color": "#E5ECF6",
              "width": 0.5
             },
             "pattern": {
              "fillmode": "overlay",
              "size": 10,
              "solidity": 0.2
             }
            },
            "type": "barpolar"
           }
          ],
          "carpet": [
           {
            "aaxis": {
             "endlinecolor": "#2a3f5f",
             "gridcolor": "white",
             "linecolor": "white",
             "minorgridcolor": "white",
             "startlinecolor": "#2a3f5f"
            },
            "baxis": {
             "endlinecolor": "#2a3f5f",
             "gridcolor": "white",
             "linecolor": "white",
             "minorgridcolor": "white",
             "startlinecolor": "#2a3f5f"
            },
            "type": "carpet"
           }
          ],
          "choropleth": [
           {
            "colorbar": {
             "outlinewidth": 0,
             "ticks": ""
            },
            "type": "choropleth"
           }
          ],
          "contour": [
           {
            "colorbar": {
             "outlinewidth": 0,
             "ticks": ""
            },
            "colorscale": [
             [
              0,
              "#0d0887"
             ],
             [
              0.1111111111111111,
              "#46039f"
             ],
             [
              0.2222222222222222,
              "#7201a8"
             ],
             [
              0.3333333333333333,
              "#9c179e"
             ],
             [
              0.4444444444444444,
              "#bd3786"
             ],
             [
              0.5555555555555556,
              "#d8576b"
             ],
             [
              0.6666666666666666,
              "#ed7953"
             ],
             [
              0.7777777777777778,
              "#fb9f3a"
             ],
             [
              0.8888888888888888,
              "#fdca26"
             ],
             [
              1,
              "#f0f921"
             ]
            ],
            "type": "contour"
           }
          ],
          "contourcarpet": [
           {
            "colorbar": {
             "outlinewidth": 0,
             "ticks": ""
            },
            "type": "contourcarpet"
           }
          ],
          "heatmap": [
           {
            "colorbar": {
             "outlinewidth": 0,
             "ticks": ""
            },
            "colorscale": [
             [
              0,
              "#0d0887"
             ],
             [
              0.1111111111111111,
              "#46039f"
             ],
             [
              0.2222222222222222,
              "#7201a8"
             ],
             [
              0.3333333333333333,
              "#9c179e"
             ],
             [
              0.4444444444444444,
              "#bd3786"
             ],
             [
              0.5555555555555556,
              "#d8576b"
             ],
             [
              0.6666666666666666,
              "#ed7953"
             ],
             [
              0.7777777777777778,
              "#fb9f3a"
             ],
             [
              0.8888888888888888,
              "#fdca26"
             ],
             [
              1,
              "#f0f921"
             ]
            ],
            "type": "heatmap"
           }
          ],
          "heatmapgl": [
           {
            "colorbar": {
             "outlinewidth": 0,
             "ticks": ""
            },
            "colorscale": [
             [
              0,
              "#0d0887"
             ],
             [
              0.1111111111111111,
              "#46039f"
             ],
             [
              0.2222222222222222,
              "#7201a8"
             ],
             [
              0.3333333333333333,
              "#9c179e"
             ],
             [
              0.4444444444444444,
              "#bd3786"
             ],
             [
              0.5555555555555556,
              "#d8576b"
             ],
             [
              0.6666666666666666,
              "#ed7953"
             ],
             [
              0.7777777777777778,
              "#fb9f3a"
             ],
             [
              0.8888888888888888,
              "#fdca26"
             ],
             [
              1,
              "#f0f921"
             ]
            ],
            "type": "heatmapgl"
           }
          ],
          "histogram": [
           {
            "marker": {
             "pattern": {
              "fillmode": "overlay",
              "size": 10,
              "solidity": 0.2
             }
            },
            "type": "histogram"
           }
          ],
          "histogram2d": [
           {
            "colorbar": {
             "outlinewidth": 0,
             "ticks": ""
            },
            "colorscale": [
             [
              0,
              "#0d0887"
             ],
             [
              0.1111111111111111,
              "#46039f"
             ],
             [
              0.2222222222222222,
              "#7201a8"
             ],
             [
              0.3333333333333333,
              "#9c179e"
             ],
             [
              0.4444444444444444,
              "#bd3786"
             ],
             [
              0.5555555555555556,
              "#d8576b"
             ],
             [
              0.6666666666666666,
              "#ed7953"
             ],
             [
              0.7777777777777778,
              "#fb9f3a"
             ],
             [
              0.8888888888888888,
              "#fdca26"
             ],
             [
              1,
              "#f0f921"
             ]
            ],
            "type": "histogram2d"
           }
          ],
          "histogram2dcontour": [
           {
            "colorbar": {
             "outlinewidth": 0,
             "ticks": ""
            },
            "colorscale": [
             [
              0,
              "#0d0887"
             ],
             [
              0.1111111111111111,
              "#46039f"
             ],
             [
              0.2222222222222222,
              "#7201a8"
             ],
             [
              0.3333333333333333,
              "#9c179e"
             ],
             [
              0.4444444444444444,
              "#bd3786"
             ],
             [
              0.5555555555555556,
              "#d8576b"
             ],
             [
              0.6666666666666666,
              "#ed7953"
             ],
             [
              0.7777777777777778,
              "#fb9f3a"
             ],
             [
              0.8888888888888888,
              "#fdca26"
             ],
             [
              1,
              "#f0f921"
             ]
            ],
            "type": "histogram2dcontour"
           }
          ],
          "mesh3d": [
           {
            "colorbar": {
             "outlinewidth": 0,
             "ticks": ""
            },
            "type": "mesh3d"
           }
          ],
          "parcoords": [
           {
            "line": {
             "colorbar": {
              "outlinewidth": 0,
              "ticks": ""
             }
            },
            "type": "parcoords"
           }
          ],
          "pie": [
           {
            "automargin": true,
            "type": "pie"
           }
          ],
          "scatter": [
           {
            "fillpattern": {
             "fillmode": "overlay",
             "size": 10,
             "solidity": 0.2
            },
            "type": "scatter"
           }
          ],
          "scatter3d": [
           {
            "line": {
             "colorbar": {
              "outlinewidth": 0,
              "ticks": ""
             }
            },
            "marker": {
             "colorbar": {
              "outlinewidth": 0,
              "ticks": ""
             }
            },
            "type": "scatter3d"
           }
          ],
          "scattercarpet": [
           {
            "marker": {
             "colorbar": {
              "outlinewidth": 0,
              "ticks": ""
             }
            },
            "type": "scattercarpet"
           }
          ],
          "scattergeo": [
           {
            "marker": {
             "colorbar": {
              "outlinewidth": 0,
              "ticks": ""
             }
            },
            "type": "scattergeo"
           }
          ],
          "scattergl": [
           {
            "marker": {
             "colorbar": {
              "outlinewidth": 0,
              "ticks": ""
             }
            },
            "type": "scattergl"
           }
          ],
          "scattermapbox": [
           {
            "marker": {
             "colorbar": {
              "outlinewidth": 0,
              "ticks": ""
             }
            },
            "type": "scattermapbox"
           }
          ],
          "scatterpolar": [
           {
            "marker": {
             "colorbar": {
              "outlinewidth": 0,
              "ticks": ""
             }
            },
            "type": "scatterpolar"
           }
          ],
          "scatterpolargl": [
           {
            "marker": {
             "colorbar": {
              "outlinewidth": 0,
              "ticks": ""
             }
            },
            "type": "scatterpolargl"
           }
          ],
          "scatterternary": [
           {
            "marker": {
             "colorbar": {
              "outlinewidth": 0,
              "ticks": ""
             }
            },
            "type": "scatterternary"
           }
          ],
          "surface": [
           {
            "colorbar": {
             "outlinewidth": 0,
             "ticks": ""
            },
            "colorscale": [
             [
              0,
              "#0d0887"
             ],
             [
              0.1111111111111111,
              "#46039f"
             ],
             [
              0.2222222222222222,
              "#7201a8"
             ],
             [
              0.3333333333333333,
              "#9c179e"
             ],
             [
              0.4444444444444444,
              "#bd3786"
             ],
             [
              0.5555555555555556,
              "#d8576b"
             ],
             [
              0.6666666666666666,
              "#ed7953"
             ],
             [
              0.7777777777777778,
              "#fb9f3a"
             ],
             [
              0.8888888888888888,
              "#fdca26"
             ],
             [
              1,
              "#f0f921"
             ]
            ],
            "type": "surface"
           }
          ],
          "table": [
           {
            "cells": {
             "fill": {
              "color": "#EBF0F8"
             },
             "line": {
              "color": "white"
             }
            },
            "header": {
             "fill": {
              "color": "#C8D4E3"
             },
             "line": {
              "color": "white"
             }
            },
            "type": "table"
           }
          ]
         },
         "layout": {
          "annotationdefaults": {
           "arrowcolor": "#2a3f5f",
           "arrowhead": 0,
           "arrowwidth": 1
          },
          "autotypenumbers": "strict",
          "coloraxis": {
           "colorbar": {
            "outlinewidth": 0,
            "ticks": ""
           }
          },
          "colorscale": {
           "diverging": [
            [
             0,
             "#8e0152"
            ],
            [
             0.1,
             "#c51b7d"
            ],
            [
             0.2,
             "#de77ae"
            ],
            [
             0.3,
             "#f1b6da"
            ],
            [
             0.4,
             "#fde0ef"
            ],
            [
             0.5,
             "#f7f7f7"
            ],
            [
             0.6,
             "#e6f5d0"
            ],
            [
             0.7,
             "#b8e186"
            ],
            [
             0.8,
             "#7fbc41"
            ],
            [
             0.9,
             "#4d9221"
            ],
            [
             1,
             "#276419"
            ]
           ],
           "sequential": [
            [
             0,
             "#0d0887"
            ],
            [
             0.1111111111111111,
             "#46039f"
            ],
            [
             0.2222222222222222,
             "#7201a8"
            ],
            [
             0.3333333333333333,
             "#9c179e"
            ],
            [
             0.4444444444444444,
             "#bd3786"
            ],
            [
             0.5555555555555556,
             "#d8576b"
            ],
            [
             0.6666666666666666,
             "#ed7953"
            ],
            [
             0.7777777777777778,
             "#fb9f3a"
            ],
            [
             0.8888888888888888,
             "#fdca26"
            ],
            [
             1,
             "#f0f921"
            ]
           ],
           "sequentialminus": [
            [
             0,
             "#0d0887"
            ],
            [
             0.1111111111111111,
             "#46039f"
            ],
            [
             0.2222222222222222,
             "#7201a8"
            ],
            [
             0.3333333333333333,
             "#9c179e"
            ],
            [
             0.4444444444444444,
             "#bd3786"
            ],
            [
             0.5555555555555556,
             "#d8576b"
            ],
            [
             0.6666666666666666,
             "#ed7953"
            ],
            [
             0.7777777777777778,
             "#fb9f3a"
            ],
            [
             0.8888888888888888,
             "#fdca26"
            ],
            [
             1,
             "#f0f921"
            ]
           ]
          },
          "colorway": [
           "#636efa",
           "#EF553B",
           "#00cc96",
           "#ab63fa",
           "#FFA15A",
           "#19d3f3",
           "#FF6692",
           "#B6E880",
           "#FF97FF",
           "#FECB52"
          ],
          "font": {
           "color": "#2a3f5f"
          },
          "geo": {
           "bgcolor": "white",
           "lakecolor": "white",
           "landcolor": "#E5ECF6",
           "showlakes": true,
           "showland": true,
           "subunitcolor": "white"
          },
          "hoverlabel": {
           "align": "left"
          },
          "hovermode": "closest",
          "mapbox": {
           "style": "light"
          },
          "paper_bgcolor": "white",
          "plot_bgcolor": "#E5ECF6",
          "polar": {
           "angularaxis": {
            "gridcolor": "white",
            "linecolor": "white",
            "ticks": ""
           },
           "bgcolor": "#E5ECF6",
           "radialaxis": {
            "gridcolor": "white",
            "linecolor": "white",
            "ticks": ""
           }
          },
          "scene": {
           "xaxis": {
            "backgroundcolor": "#E5ECF6",
            "gridcolor": "white",
            "gridwidth": 2,
            "linecolor": "white",
            "showbackground": true,
            "ticks": "",
            "zerolinecolor": "white"
           },
           "yaxis": {
            "backgroundcolor": "#E5ECF6",
            "gridcolor": "white",
            "gridwidth": 2,
            "linecolor": "white",
            "showbackground": true,
            "ticks": "",
            "zerolinecolor": "white"
           },
           "zaxis": {
            "backgroundcolor": "#E5ECF6",
            "gridcolor": "white",
            "gridwidth": 2,
            "linecolor": "white",
            "showbackground": true,
            "ticks": "",
            "zerolinecolor": "white"
           }
          },
          "shapedefaults": {
           "line": {
            "color": "#2a3f5f"
           }
          },
          "ternary": {
           "aaxis": {
            "gridcolor": "white",
            "linecolor": "white",
            "ticks": ""
           },
           "baxis": {
            "gridcolor": "white",
            "linecolor": "white",
            "ticks": ""
           },
           "bgcolor": "#E5ECF6",
           "caxis": {
            "gridcolor": "white",
            "linecolor": "white",
            "ticks": ""
           }
          },
          "title": {
           "x": 0.05
          },
          "xaxis": {
           "automargin": true,
           "gridcolor": "white",
           "linecolor": "white",
           "ticks": "",
           "title": {
            "standoff": 15
           },
           "zerolinecolor": "white",
           "zerolinewidth": 2
          },
          "yaxis": {
           "automargin": true,
           "gridcolor": "white",
           "linecolor": "white",
           "ticks": "",
           "title": {
            "standoff": 15
           },
           "zerolinecolor": "white",
           "zerolinewidth": 2
          }
         }
        },
        "title": {
         "text": "Estimation du gradient par SUMO"
        },
        "xaxis": {
         "title": {
          "text": "Theta"
         }
        },
        "yaxis": {
         "title": {
          "text": "Gradient"
         }
        }
       }
      }
     },
     "metadata": {},
     "output_type": "display_data"
    }
   ],
   "source": [
    "Code.plot_gradient(0.6, x, noised_A, noised_b, theta_true, 15, 'SUMO')"
   ]
  },
  {
   "cell_type": "markdown",
   "metadata": {},
   "source": [
    "### <span style=\"color:orange\">  **1.3 L'estimateurs IWAE (Autoencoder Pondéré par l'Importance)**  </span>\n",
    "\n",
    "Voir l'article séminal sur l'IWAE [ici](https://arxiv.org/pdf/1509.00519.pdf).\n",
    "\n",
    "L'IWAE utilise cette architecture avec à la fois un **réseau génératif** (paramètre $\\boldsymbol{\\theta}$) et un **réseau de reconnaissance** (paramètre $\\phi$). **La différence est qu'il est entraîné à maximiser une autre borne inférieure** sur $\\log p_{\\boldsymbol{\\theta}}(\\boldsymbol{x})$. En particulier, nous utilisons la borne inférieure suivante, correspondant à l'estimation de pondération d'importance à $k$ échantillons de la log-vraisemblance :\n",
    "\n",
    "\\begin{align*}\n",
    "\\ell_{\\text{IWAE}}^{(k)}(\\boldsymbol{\\theta}, \\phi) &= \\mathbb{E}_{\\boldsymbol{z}_1,\\dots,\\boldsymbol{z}_k \\underset{i.i.d}{\\sim} q_{\\phi}(\\boldsymbol{z}|\\boldsymbol{x})}\\left[\\log \\frac{1}{k} \\sum_{i=1}^{k} \\frac{p_{\\boldsymbol{\\theta}}(\\boldsymbol{x}, \\boldsymbol{z}_i)}{q_{\\phi}(\\boldsymbol{z}_i | \\boldsymbol{x})}\\right ]\n",
    "\\end{align*}\n",
    "\n",
    "Ici, $\\boldsymbol{z}_1, \\dots, \\boldsymbol{z}_k$ sont échantillonnés indépendamment du modèle de reconnaissance. Le terme à l'intérieur de la somme correspond aux poids d'importance non normalisés pour la distribution conjointe, que nous noterons $w_i = \\frac{p(\\boldsymbol{x}, \\boldsymbol{z}_i)}{q_{\\phi}(\\boldsymbol{z}_i | \\boldsymbol{x})}$. \n",
    "\n",
    "L'optimisation de $\\ell_{\\text{IWAE}}^{(k)}(\\boldsymbol{\\theta}, \\phi)$ est effectuée conjointement en $\\boldsymbol{\\theta}$ et $\\phi$. \n",
    "\n",
    "Il existe deux propriétés de l'IWAE qui nous permettront de le modifier pour produire un estimateur non biaisé :\n",
    "1. Il est consistant, i.e. lorsque le nombre d'échantillons $k$ augmente, l'espérance de $\\ell_{\\text{IWAE}}^{(k)}(\\boldsymbol{\\theta}, \\phi)$ converge vers $\\log p_{\\boldsymbol{\\theta}}(\\boldsymbol{x})$ : \n",
    "$$\n",
    "\\log p_{\\boldsymbol{\\theta}}(\\boldsymbol{x}) = \\lim_{k \\rightarrow +\\infty} \\mathbb{E}[\\ell_{\\text{IWAE}}^{(k)}(\\boldsymbol{\\theta}, \\phi)]\n",
    "$$\n",
    "\n",
    "2. Il est également croissant en espérance : \n",
    "$$\n",
    "\\mathbb{E}[\\ell_{\\text{IWAE}}^{(k+1)}(\\boldsymbol{\\theta}, \\phi)] \\geq \\mathbb{E}[\\ell_{\\text{IWAE}}^{(k)}(\\boldsymbol{\\theta}, \\phi)]\n",
    "$$ \n",
    "\n",
    "De la même façon que pour les estimateurs précédents, on trace les estimations de l'IWAE sur une plage autour de $\\theta^*$"
   ]
  },
  {
   "cell_type": "code",
   "execution_count": null,
   "metadata": {},
   "outputs": [
    {
     "name": "stderr",
     "output_type": "stream",
     "text": [
      "Progression:   0%|          | 0/60 [00:00<?, ?it/s]"
     ]
    },
    {
     "name": "stderr",
     "output_type": "stream",
     "text": [
      "Progression: 100%|██████████| 60/60 [00:13<00:00,  4.44it/s]\n"
     ]
    },
    {
     "data": {
      "application/vnd.plotly.v1+json": {
       "config": {
        "plotlyServerURL": "https://plot.ly"
       },
       "data": [
        {
         "line": {
          "color": "blue"
         },
         "mode": "lines",
         "name": "Vraisemblance réelle (avec theta_true)",
         "type": "scatter",
         "x": [
          -2.380576571893175,
          -2.2110850464694463,
          -2.0415935210457175,
          -1.8721019956219886,
          -1.7026104701982598,
          -1.533118944774531,
          -1.3636274193508022,
          -1.1941358939270734,
          -1.0246443685033446,
          -0.8551528430796158,
          -0.685661317655887,
          -0.5161697922321582,
          -0.3466782668084294,
          -0.17718674138470059,
          -0.00769521596097178,
          0.16179630946275703,
          0.33128783488648583,
          0.5007793603102146,
          0.6702708857339434,
          0.8397624111576723,
          1.009253936581401,
          1.1787454620051299,
          1.3482369874288587,
          1.5177285128525875,
          1.6872200382763163,
          1.8567115637000446,
          2.026203089123774,
          2.195694614547503,
          2.3651861399712315,
          2.53467766539496,
          2.704169190818689,
          2.8736607162424184,
          3.0431522416661467,
          3.212643767089875,
          3.3821352925136043,
          3.5516268179373336,
          3.721118343361062,
          3.8906098687847903,
          4.06010139420852,
          4.229592919632249,
          4.399084445055977,
          4.5685759704797055,
          4.738067495903435,
          4.907559021327164,
          5.077050546750892,
          5.246542072174621,
          5.41603359759835,
          5.585525123022079,
          5.755016648445808,
          5.924508173869536,
          6.093999699293264,
          6.2634912247169945,
          6.432982750140723,
          6.602474275564451,
          6.771965800988181,
          6.94145732641191,
          7.110948851835638,
          7.280440377259366,
          7.449931902683095,
          7.619423428106825
         ],
         "y": [
          -187.44065375300076,
          -178.1070271327654,
          -169.06067428443467,
          -160.30159520800856,
          -151.82978990348707,
          -143.64525837087018,
          -135.74800061015796,
          -128.13801662135035,
          -120.81530640444736,
          -113.77986995944899,
          -107.03170728635523,
          -100.57081838516615,
          -94.39720325588165,
          -88.51086189850176,
          -82.91179431302653,
          -77.60000049945592,
          -72.57548045778994,
          -67.83823418802857,
          -63.38826169017183,
          -59.22556296421972,
          -55.35013801017223,
          -51.761986828029364,
          -48.46110941779112,
          -45.447505779457515,
          -42.721175913028524,
          -40.282119818504164,
          -38.13033749588442,
          -36.26582894516931,
          -34.688594166358826,
          -33.39863315945296,
          -32.39594592445172,
          -31.680532461355106,
          -31.25239277016312,
          -31.11152685087576,
          -31.25793470349302,
          -31.69161632801491,
          -32.41257172444142,
          -33.420800892772554,
          -34.716303833008325,
          -36.29908054514871,
          -38.16913102919372,
          -40.32645528514335,
          -42.77105331299762,
          -45.50292511275653,
          -48.52207068442002,
          -51.82849002798815,
          -55.42218314346093,
          -59.303150030838324,
          -63.47139069012033,
          -67.92690512130696,
          -72.66969332439821,
          -77.69975529939414,
          -83.01709104629464,
          -88.62170056509977,
          -94.51358385580957,
          -100.69274091842397,
          -107.15917175294294,
          -113.91287635936656,
          -120.95385473769481,
          -128.28210688792777
         ]
        },
        {
         "marker": {
          "color": "red",
          "symbol": "cross"
         },
         "mode": "markers",
         "name": "IWAE",
         "type": "scatter",
         "x": [
          -2.380576571893175,
          -2.2110850464694463,
          -2.0415935210457175,
          -1.8721019956219886,
          -1.7026104701982598,
          -1.533118944774531,
          -1.3636274193508022,
          -1.1941358939270734,
          -1.0246443685033446,
          -0.8551528430796158,
          -0.685661317655887,
          -0.5161697922321582,
          -0.3466782668084294,
          -0.17718674138470059,
          -0.00769521596097178,
          0.16179630946275703,
          0.33128783488648583,
          0.5007793603102146,
          0.6702708857339434,
          0.8397624111576723,
          1.009253936581401,
          1.1787454620051299,
          1.3482369874288587,
          1.5177285128525875,
          1.6872200382763163,
          1.8567115637000446,
          2.026203089123774,
          2.195694614547503,
          2.3651861399712315,
          2.53467766539496,
          2.704169190818689,
          2.8736607162424184,
          3.0431522416661467,
          3.212643767089875,
          3.3821352925136043,
          3.5516268179373336,
          3.721118343361062,
          3.8906098687847903,
          4.06010139420852,
          4.229592919632249,
          4.399084445055977,
          4.5685759704797055,
          4.738067495903435,
          4.907559021327164,
          5.077050546750892,
          5.246542072174621,
          5.41603359759835,
          5.585525123022079,
          5.755016648445808,
          5.924508173869536,
          6.093999699293264,
          6.2634912247169945,
          6.432982750140723,
          6.602474275564451,
          6.771965800988181,
          6.94145732641191,
          7.110948851835638,
          7.280440377259366,
          7.449931902683095,
          7.619423428106825
         ],
         "y": [
          -281.95975363919035,
          -266.90543511475255,
          -248.99495108866645,
          -235.45285850744702,
          -219.94156811972047,
          -206.82657983264167,
          -193.74468873517816,
          -181.2762239922759,
          -170.86917843067297,
          -157.44641349783615,
          -148.0605402617003,
          -135.13917832542873,
          -125.24920019161972,
          -114.96865264473705,
          -105.95425339414837,
          -98.47974421055368,
          -91.77633283776429,
          -85.77045893086479,
          -77.46546031320376,
          -71.05288527049652,
          -66.64790064259655,
          -61.29792393111055,
          -57.28258013545932,
          -52.962715231817796,
          -50.23681295905521,
          -46.994429429050825,
          -45.00077262907565,
          -42.980178588982575,
          -41.28021025921149,
          -40.14991710714647,
          -39.259799185208514,
          -38.405706271259795,
          -38.45952683975897,
          -38.7281075106508,
          -38.52876578193357,
          -39.84249934385741,
          -41.745230815467785,
          -44.220379520168535,
          -46.6559350277761,
          -49.85816140552617,
          -54.37559300552927,
          -58.97456941003937,
          -64.83832482776097,
          -69.27559386036488,
          -74.9848558289418,
          -80.588794344967,
          -87.1009062510769,
          -96.60714195165689,
          -106.80664245286752,
          -113.88664988391933,
          -124.35039900381291,
          -134.2139459580022,
          -145.90517389403905,
          -155.48920482209732,
          -170.4301133286285,
          -182.08447237793663,
          -194.053860217484,
          -213.0845281975198,
          -221.07244489385832,
          -237.64831277152692
         ]
        }
       ],
       "layout": {
        "grid": {
         "columns": 1,
         "rows": 1
        },
        "legend": {
         "font": {
          "size": 10
         }
        },
        "shapes": [
         {
          "line": {
           "color": "black",
           "dash": "dash"
          },
          "name": "Theta=2.619423428106825",
          "type": "line",
          "x0": 2.619423428106825,
          "x1": 2.619423428106825,
          "y0": -300,
          "y1": 500
         }
        ],
        "showlegend": true,
        "template": {
         "data": {
          "bar": [
           {
            "error_x": {
             "color": "#2a3f5f"
            },
            "error_y": {
             "color": "#2a3f5f"
            },
            "marker": {
             "line": {
              "color": "#E5ECF6",
              "width": 0.5
             },
             "pattern": {
              "fillmode": "overlay",
              "size": 10,
              "solidity": 0.2
             }
            },
            "type": "bar"
           }
          ],
          "barpolar": [
           {
            "marker": {
             "line": {
              "color": "#E5ECF6",
              "width": 0.5
             },
             "pattern": {
              "fillmode": "overlay",
              "size": 10,
              "solidity": 0.2
             }
            },
            "type": "barpolar"
           }
          ],
          "carpet": [
           {
            "aaxis": {
             "endlinecolor": "#2a3f5f",
             "gridcolor": "white",
             "linecolor": "white",
             "minorgridcolor": "white",
             "startlinecolor": "#2a3f5f"
            },
            "baxis": {
             "endlinecolor": "#2a3f5f",
             "gridcolor": "white",
             "linecolor": "white",
             "minorgridcolor": "white",
             "startlinecolor": "#2a3f5f"
            },
            "type": "carpet"
           }
          ],
          "choropleth": [
           {
            "colorbar": {
             "outlinewidth": 0,
             "ticks": ""
            },
            "type": "choropleth"
           }
          ],
          "contour": [
           {
            "colorbar": {
             "outlinewidth": 0,
             "ticks": ""
            },
            "colorscale": [
             [
              0,
              "#0d0887"
             ],
             [
              0.1111111111111111,
              "#46039f"
             ],
             [
              0.2222222222222222,
              "#7201a8"
             ],
             [
              0.3333333333333333,
              "#9c179e"
             ],
             [
              0.4444444444444444,
              "#bd3786"
             ],
             [
              0.5555555555555556,
              "#d8576b"
             ],
             [
              0.6666666666666666,
              "#ed7953"
             ],
             [
              0.7777777777777778,
              "#fb9f3a"
             ],
             [
              0.8888888888888888,
              "#fdca26"
             ],
             [
              1,
              "#f0f921"
             ]
            ],
            "type": "contour"
           }
          ],
          "contourcarpet": [
           {
            "colorbar": {
             "outlinewidth": 0,
             "ticks": ""
            },
            "type": "contourcarpet"
           }
          ],
          "heatmap": [
           {
            "colorbar": {
             "outlinewidth": 0,
             "ticks": ""
            },
            "colorscale": [
             [
              0,
              "#0d0887"
             ],
             [
              0.1111111111111111,
              "#46039f"
             ],
             [
              0.2222222222222222,
              "#7201a8"
             ],
             [
              0.3333333333333333,
              "#9c179e"
             ],
             [
              0.4444444444444444,
              "#bd3786"
             ],
             [
              0.5555555555555556,
              "#d8576b"
             ],
             [
              0.6666666666666666,
              "#ed7953"
             ],
             [
              0.7777777777777778,
              "#fb9f3a"
             ],
             [
              0.8888888888888888,
              "#fdca26"
             ],
             [
              1,
              "#f0f921"
             ]
            ],
            "type": "heatmap"
           }
          ],
          "heatmapgl": [
           {
            "colorbar": {
             "outlinewidth": 0,
             "ticks": ""
            },
            "colorscale": [
             [
              0,
              "#0d0887"
             ],
             [
              0.1111111111111111,
              "#46039f"
             ],
             [
              0.2222222222222222,
              "#7201a8"
             ],
             [
              0.3333333333333333,
              "#9c179e"
             ],
             [
              0.4444444444444444,
              "#bd3786"
             ],
             [
              0.5555555555555556,
              "#d8576b"
             ],
             [
              0.6666666666666666,
              "#ed7953"
             ],
             [
              0.7777777777777778,
              "#fb9f3a"
             ],
             [
              0.8888888888888888,
              "#fdca26"
             ],
             [
              1,
              "#f0f921"
             ]
            ],
            "type": "heatmapgl"
           }
          ],
          "histogram": [
           {
            "marker": {
             "pattern": {
              "fillmode": "overlay",
              "size": 10,
              "solidity": 0.2
             }
            },
            "type": "histogram"
           }
          ],
          "histogram2d": [
           {
            "colorbar": {
             "outlinewidth": 0,
             "ticks": ""
            },
            "colorscale": [
             [
              0,
              "#0d0887"
             ],
             [
              0.1111111111111111,
              "#46039f"
             ],
             [
              0.2222222222222222,
              "#7201a8"
             ],
             [
              0.3333333333333333,
              "#9c179e"
             ],
             [
              0.4444444444444444,
              "#bd3786"
             ],
             [
              0.5555555555555556,
              "#d8576b"
             ],
             [
              0.6666666666666666,
              "#ed7953"
             ],
             [
              0.7777777777777778,
              "#fb9f3a"
             ],
             [
              0.8888888888888888,
              "#fdca26"
             ],
             [
              1,
              "#f0f921"
             ]
            ],
            "type": "histogram2d"
           }
          ],
          "histogram2dcontour": [
           {
            "colorbar": {
             "outlinewidth": 0,
             "ticks": ""
            },
            "colorscale": [
             [
              0,
              "#0d0887"
             ],
             [
              0.1111111111111111,
              "#46039f"
             ],
             [
              0.2222222222222222,
              "#7201a8"
             ],
             [
              0.3333333333333333,
              "#9c179e"
             ],
             [
              0.4444444444444444,
              "#bd3786"
             ],
             [
              0.5555555555555556,
              "#d8576b"
             ],
             [
              0.6666666666666666,
              "#ed7953"
             ],
             [
              0.7777777777777778,
              "#fb9f3a"
             ],
             [
              0.8888888888888888,
              "#fdca26"
             ],
             [
              1,
              "#f0f921"
             ]
            ],
            "type": "histogram2dcontour"
           }
          ],
          "mesh3d": [
           {
            "colorbar": {
             "outlinewidth": 0,
             "ticks": ""
            },
            "type": "mesh3d"
           }
          ],
          "parcoords": [
           {
            "line": {
             "colorbar": {
              "outlinewidth": 0,
              "ticks": ""
             }
            },
            "type": "parcoords"
           }
          ],
          "pie": [
           {
            "automargin": true,
            "type": "pie"
           }
          ],
          "scatter": [
           {
            "fillpattern": {
             "fillmode": "overlay",
             "size": 10,
             "solidity": 0.2
            },
            "type": "scatter"
           }
          ],
          "scatter3d": [
           {
            "line": {
             "colorbar": {
              "outlinewidth": 0,
              "ticks": ""
             }
            },
            "marker": {
             "colorbar": {
              "outlinewidth": 0,
              "ticks": ""
             }
            },
            "type": "scatter3d"
           }
          ],
          "scattercarpet": [
           {
            "marker": {
             "colorbar": {
              "outlinewidth": 0,
              "ticks": ""
             }
            },
            "type": "scattercarpet"
           }
          ],
          "scattergeo": [
           {
            "marker": {
             "colorbar": {
              "outlinewidth": 0,
              "ticks": ""
             }
            },
            "type": "scattergeo"
           }
          ],
          "scattergl": [
           {
            "marker": {
             "colorbar": {
              "outlinewidth": 0,
              "ticks": ""
             }
            },
            "type": "scattergl"
           }
          ],
          "scattermapbox": [
           {
            "marker": {
             "colorbar": {
              "outlinewidth": 0,
              "ticks": ""
             }
            },
            "type": "scattermapbox"
           }
          ],
          "scatterpolar": [
           {
            "marker": {
             "colorbar": {
              "outlinewidth": 0,
              "ticks": ""
             }
            },
            "type": "scatterpolar"
           }
          ],
          "scatterpolargl": [
           {
            "marker": {
             "colorbar": {
              "outlinewidth": 0,
              "ticks": ""
             }
            },
            "type": "scatterpolargl"
           }
          ],
          "scatterternary": [
           {
            "marker": {
             "colorbar": {
              "outlinewidth": 0,
              "ticks": ""
             }
            },
            "type": "scatterternary"
           }
          ],
          "surface": [
           {
            "colorbar": {
             "outlinewidth": 0,
             "ticks": ""
            },
            "colorscale": [
             [
              0,
              "#0d0887"
             ],
             [
              0.1111111111111111,
              "#46039f"
             ],
             [
              0.2222222222222222,
              "#7201a8"
             ],
             [
              0.3333333333333333,
              "#9c179e"
             ],
             [
              0.4444444444444444,
              "#bd3786"
             ],
             [
              0.5555555555555556,
              "#d8576b"
             ],
             [
              0.6666666666666666,
              "#ed7953"
             ],
             [
              0.7777777777777778,
              "#fb9f3a"
             ],
             [
              0.8888888888888888,
              "#fdca26"
             ],
             [
              1,
              "#f0f921"
             ]
            ],
            "type": "surface"
           }
          ],
          "table": [
           {
            "cells": {
             "fill": {
              "color": "#EBF0F8"
             },
             "line": {
              "color": "white"
             }
            },
            "header": {
             "fill": {
              "color": "#C8D4E3"
             },
             "line": {
              "color": "white"
             }
            },
            "type": "table"
           }
          ]
         },
         "layout": {
          "annotationdefaults": {
           "arrowcolor": "#2a3f5f",
           "arrowhead": 0,
           "arrowwidth": 1
          },
          "autotypenumbers": "strict",
          "coloraxis": {
           "colorbar": {
            "outlinewidth": 0,
            "ticks": ""
           }
          },
          "colorscale": {
           "diverging": [
            [
             0,
             "#8e0152"
            ],
            [
             0.1,
             "#c51b7d"
            ],
            [
             0.2,
             "#de77ae"
            ],
            [
             0.3,
             "#f1b6da"
            ],
            [
             0.4,
             "#fde0ef"
            ],
            [
             0.5,
             "#f7f7f7"
            ],
            [
             0.6,
             "#e6f5d0"
            ],
            [
             0.7,
             "#b8e186"
            ],
            [
             0.8,
             "#7fbc41"
            ],
            [
             0.9,
             "#4d9221"
            ],
            [
             1,
             "#276419"
            ]
           ],
           "sequential": [
            [
             0,
             "#0d0887"
            ],
            [
             0.1111111111111111,
             "#46039f"
            ],
            [
             0.2222222222222222,
             "#7201a8"
            ],
            [
             0.3333333333333333,
             "#9c179e"
            ],
            [
             0.4444444444444444,
             "#bd3786"
            ],
            [
             0.5555555555555556,
             "#d8576b"
            ],
            [
             0.6666666666666666,
             "#ed7953"
            ],
            [
             0.7777777777777778,
             "#fb9f3a"
            ],
            [
             0.8888888888888888,
             "#fdca26"
            ],
            [
             1,
             "#f0f921"
            ]
           ],
           "sequentialminus": [
            [
             0,
             "#0d0887"
            ],
            [
             0.1111111111111111,
             "#46039f"
            ],
            [
             0.2222222222222222,
             "#7201a8"
            ],
            [
             0.3333333333333333,
             "#9c179e"
            ],
            [
             0.4444444444444444,
             "#bd3786"
            ],
            [
             0.5555555555555556,
             "#d8576b"
            ],
            [
             0.6666666666666666,
             "#ed7953"
            ],
            [
             0.7777777777777778,
             "#fb9f3a"
            ],
            [
             0.8888888888888888,
             "#fdca26"
            ],
            [
             1,
             "#f0f921"
            ]
           ]
          },
          "colorway": [
           "#636efa",
           "#EF553B",
           "#00cc96",
           "#ab63fa",
           "#FFA15A",
           "#19d3f3",
           "#FF6692",
           "#B6E880",
           "#FF97FF",
           "#FECB52"
          ],
          "font": {
           "color": "#2a3f5f"
          },
          "geo": {
           "bgcolor": "white",
           "lakecolor": "white",
           "landcolor": "#E5ECF6",
           "showlakes": true,
           "showland": true,
           "subunitcolor": "white"
          },
          "hoverlabel": {
           "align": "left"
          },
          "hovermode": "closest",
          "mapbox": {
           "style": "light"
          },
          "paper_bgcolor": "white",
          "plot_bgcolor": "#E5ECF6",
          "polar": {
           "angularaxis": {
            "gridcolor": "white",
            "linecolor": "white",
            "ticks": ""
           },
           "bgcolor": "#E5ECF6",
           "radialaxis": {
            "gridcolor": "white",
            "linecolor": "white",
            "ticks": ""
           }
          },
          "scene": {
           "xaxis": {
            "backgroundcolor": "#E5ECF6",
            "gridcolor": "white",
            "gridwidth": 2,
            "linecolor": "white",
            "showbackground": true,
            "ticks": "",
            "zerolinecolor": "white"
           },
           "yaxis": {
            "backgroundcolor": "#E5ECF6",
            "gridcolor": "white",
            "gridwidth": 2,
            "linecolor": "white",
            "showbackground": true,
            "ticks": "",
            "zerolinecolor": "white"
           },
           "zaxis": {
            "backgroundcolor": "#E5ECF6",
            "gridcolor": "white",
            "gridwidth": 2,
            "linecolor": "white",
            "showbackground": true,
            "ticks": "",
            "zerolinecolor": "white"
           }
          },
          "shapedefaults": {
           "line": {
            "color": "#2a3f5f"
           }
          },
          "ternary": {
           "aaxis": {
            "gridcolor": "white",
            "linecolor": "white",
            "ticks": ""
           },
           "baxis": {
            "gridcolor": "white",
            "linecolor": "white",
            "ticks": ""
           },
           "bgcolor": "#E5ECF6",
           "caxis": {
            "gridcolor": "white",
            "linecolor": "white",
            "ticks": ""
           }
          },
          "title": {
           "x": 0.05
          },
          "xaxis": {
           "automargin": true,
           "gridcolor": "white",
           "linecolor": "white",
           "ticks": "",
           "title": {
            "standoff": 15
           },
           "zerolinecolor": "white",
           "zerolinewidth": 2
          },
          "yaxis": {
           "automargin": true,
           "gridcolor": "white",
           "linecolor": "white",
           "ticks": "",
           "title": {
            "standoff": 15
           },
           "zerolinecolor": "white",
           "zerolinewidth": 2
          }
         }
        },
        "title": {
         "text": "Estimation de la vraisemblance par IWAE"
        },
        "xaxis": {
         "tickfont": {
          "size": 12
         },
         "title": {
          "text": "Theta"
         }
        },
        "yaxis": {
         "range": [
          -300,
          500
         ],
         "tickfont": {
          "size": 12
         },
         "title": {
          "text": "Vraisemblance"
         }
        }
       }
      }
     },
     "metadata": {},
     "output_type": "display_data"
    }
   ],
   "source": [
    "n_simulations = 15 \n",
    "k_IWAE = 20\n",
    "r = 0.6\n",
    "\n",
    "Code.plot_likelihood(r, x, noised_A, noised_b, theta_true,  n_simulations, k_IWAE, \"IWAE\")"
   ]
  },
  {
   "cell_type": "markdown",
   "metadata": {},
   "source": [
    "Fixons k_IWAE = 5 et comparons les résultats : "
   ]
  },
  {
   "cell_type": "code",
   "execution_count": null,
   "metadata": {},
   "outputs": [
    {
     "name": "stderr",
     "output_type": "stream",
     "text": [
      "Progression:   0%|          | 0/60 [00:00<?, ?it/s]"
     ]
    },
    {
     "name": "stderr",
     "output_type": "stream",
     "text": [
      "Progression: 100%|██████████| 60/60 [00:05<00:00, 11.55it/s]\n"
     ]
    },
    {
     "data": {
      "application/vnd.plotly.v1+json": {
       "config": {
        "plotlyServerURL": "https://plot.ly"
       },
       "data": [
        {
         "line": {
          "color": "blue"
         },
         "mode": "lines",
         "name": "Vraisemblance réelle (avec theta_true)",
         "type": "scatter",
         "x": [
          -4.072023752313933,
          -3.902532226890204,
          -3.733040701466475,
          -3.5635491760427462,
          -3.3940576506190174,
          -3.2245661251952886,
          -3.05507459977156,
          -2.885583074347831,
          -2.716091548924102,
          -2.5466000235003734,
          -2.3771084980766446,
          -2.207616972652916,
          -2.038125447229187,
          -1.8686339218054582,
          -1.6991423963817294,
          -1.5296508709580006,
          -1.3601593455342718,
          -1.190667820110543,
          -1.0211762946868141,
          -0.8516847692630853,
          -0.6821932438393565,
          -0.5127017184156277,
          -0.3432101929918989,
          -0.17371866756817012,
          -0.004227142144441309,
          0.16526438327928705,
          0.3347559087030163,
          0.5042474341267456,
          0.6737389595504739,
          0.8432304849742023,
          1.0127220103979315,
          1.1822135358216608,
          1.3517050612453891,
          1.5211965866691175,
          1.6906881120928468,
          1.860179637516576,
          2.0296711629403044,
          2.1991626883640327,
          2.368654213787762,
          2.5381457392114912,
          2.7076372646352196,
          2.877128790058948,
          3.046620315482677,
          3.2161118409064064,
          3.385603366330135,
          3.555094891753863,
          3.7245864171775924,
          3.8940779426013217,
          4.06356946802505,
          4.233060993448778,
          4.402552518872507,
          4.572044044296237,
          4.741535569719965,
          4.911027095143694,
          5.080518620567424,
          5.250010145991152,
          5.4195016714148805,
          5.588993196838609,
          5.758484722262337,
          5.927976247686067
         ],
         "y": [
          -143.4098169220608,
          -135.31116025258203,
          -127.49977735500788,
          -119.97566822933837,
          -112.7388328755735,
          -105.78927129371321,
          -99.1269834837576,
          -92.75196944570656,
          -86.66422917956018,
          -80.86376268531842,
          -75.35056996298127,
          -70.12465101254877,
          -65.18600583402086,
          -60.534634427397606,
          -56.17053679267897,
          -52.09371292986496,
          -48.30416283895558,
          -44.80188651995081,
          -41.586883972850664,
          -38.65915519765515,
          -36.018700194364264,
          -33.665518962978005,
          -31.599611503496362,
          -29.820977815919353,
          -28.329617900246966,
          -27.1255317564792,
          -26.208719384616064,
          -25.57918078465755,
          -25.236915956603664,
          -25.1819249004544,
          -25.414207616209765,
          -25.933764103869756,
          -26.740594363434365,
          -27.8346983949036,
          -29.216076198277463,
          -30.884727773555962,
          -32.84065312073907,
          -35.083852239826804,
          -37.614325130819175,
          -40.43207179371617,
          -43.53709222851777,
          -46.929386435224,
          -50.60895441383487,
          -54.57579616435038,
          -58.82991168677048,
          -63.37130098109521,
          -68.19996404732458,
          -73.31590088545859,
          -78.71911149549719,
          -84.40959587744041,
          -90.38735403128825,
          -96.6523859570408,
          -103.20469165469788,
          -110.04427112425962,
          -117.17112436572604,
          -124.585251379097,
          -132.2866521643726,
          -140.27532672155283,
          -148.55127505063766,
          -157.1144971516272
         ]
        },
        {
         "marker": {
          "color": "red",
          "symbol": "cross"
         },
         "mode": "markers",
         "name": "IWAE",
         "type": "scatter",
         "x": [
          -4.072023752313933,
          -3.902532226890204,
          -3.733040701466475,
          -3.5635491760427462,
          -3.3940576506190174,
          -3.2245661251952886,
          -3.05507459977156,
          -2.885583074347831,
          -2.716091548924102,
          -2.5466000235003734,
          -2.3771084980766446,
          -2.207616972652916,
          -2.038125447229187,
          -1.8686339218054582,
          -1.6991423963817294,
          -1.5296508709580006,
          -1.3601593455342718,
          -1.190667820110543,
          -1.0211762946868141,
          -0.8516847692630853,
          -0.6821932438393565,
          -0.5127017184156277,
          -0.3432101929918989,
          -0.17371866756817012,
          -0.004227142144441309,
          0.16526438327928705,
          0.3347559087030163,
          0.5042474341267456,
          0.6737389595504739,
          0.8432304849742023,
          1.0127220103979315,
          1.1822135358216608,
          1.3517050612453891,
          1.5211965866691175,
          1.6906881120928468,
          1.860179637516576,
          2.0296711629403044,
          2.1991626883640327,
          2.368654213787762,
          2.5381457392114912,
          2.7076372646352196,
          2.877128790058948,
          3.046620315482677,
          3.2161118409064064,
          3.385603366330135,
          3.555094891753863,
          3.7245864171775924,
          3.8940779426013217,
          4.06356946802505,
          4.233060993448778,
          4.402552518872507,
          4.572044044296237,
          4.741535569719965,
          4.911027095143694,
          5.080518620567424,
          5.250010145991152,
          5.4195016714148805,
          5.588993196838609,
          5.758484722262337,
          5.927976247686067
         ],
         "y": [
          -255.01393038795862,
          -238.35031544897544,
          -222.0338644868702,
          -211.91982410821353,
          -195.31921813553018,
          -181.35082316026754,
          -167.51758337329153,
          -160.4219382672812,
          -143.9006346858875,
          -134.53479838004813,
          -123.24882531191084,
          -116.02794506904185,
          -103.69345991962153,
          -98.11836707818051,
          -88.17211095955237,
          -79.67358150684237,
          -72.41091357465893,
          -64.7610617836819,
          -59.221581340586994,
          -54.97730736130395,
          -51.91417371236077,
          -46.071261966707794,
          -41.99147728757919,
          -38.747441264052185,
          -36.62011291850441,
          -34.37270557612919,
          -33.60985411433752,
          -32.48671852169259,
          -31.916604649098577,
          -31.92440253843298,
          -31.965072252107213,
          -32.52050922802994,
          -33.6616796288293,
          -35.31791550854747,
          -37.023388575988534,
          -40.06370496559779,
          -40.95724156537862,
          -46.38536945499083,
          -51.46926663906016,
          -56.150708168408315,
          -58.780083502232294,
          -68.12483889194701,
          -72.59670205784546,
          -78.15315124230104,
          -87.55499289418385,
          -94.73899873347249,
          -108.48310576170938,
          -117.06417365427207,
          -122.7486297378722,
          -134.88951469376778,
          -143.45316777250108,
          -154.9932416193641,
          -165.6601897932658,
          -183.3647098726561,
          -194.49612631276048,
          -207.5358179212756,
          -221.57054103909707,
          -236.2386525173468,
          -254.27430803902737,
          -275.0316500400788
         ]
        }
       ],
       "layout": {
        "grid": {
         "columns": 1,
         "rows": 1
        },
        "legend": {
         "font": {
          "size": 10
         }
        },
        "shapes": [
         {
          "line": {
           "color": "black",
           "dash": "dash"
          },
          "name": "Theta=0.927976247686067",
          "type": "line",
          "x0": 0.927976247686067,
          "x1": 0.927976247686067,
          "y0": -300,
          "y1": 500
         }
        ],
        "showlegend": true,
        "template": {
         "data": {
          "bar": [
           {
            "error_x": {
             "color": "#2a3f5f"
            },
            "error_y": {
             "color": "#2a3f5f"
            },
            "marker": {
             "line": {
              "color": "#E5ECF6",
              "width": 0.5
             },
             "pattern": {
              "fillmode": "overlay",
              "size": 10,
              "solidity": 0.2
             }
            },
            "type": "bar"
           }
          ],
          "barpolar": [
           {
            "marker": {
             "line": {
              "color": "#E5ECF6",
              "width": 0.5
             },
             "pattern": {
              "fillmode": "overlay",
              "size": 10,
              "solidity": 0.2
             }
            },
            "type": "barpolar"
           }
          ],
          "carpet": [
           {
            "aaxis": {
             "endlinecolor": "#2a3f5f",
             "gridcolor": "white",
             "linecolor": "white",
             "minorgridcolor": "white",
             "startlinecolor": "#2a3f5f"
            },
            "baxis": {
             "endlinecolor": "#2a3f5f",
             "gridcolor": "white",
             "linecolor": "white",
             "minorgridcolor": "white",
             "startlinecolor": "#2a3f5f"
            },
            "type": "carpet"
           }
          ],
          "choropleth": [
           {
            "colorbar": {
             "outlinewidth": 0,
             "ticks": ""
            },
            "type": "choropleth"
           }
          ],
          "contour": [
           {
            "colorbar": {
             "outlinewidth": 0,
             "ticks": ""
            },
            "colorscale": [
             [
              0,
              "#0d0887"
             ],
             [
              0.1111111111111111,
              "#46039f"
             ],
             [
              0.2222222222222222,
              "#7201a8"
             ],
             [
              0.3333333333333333,
              "#9c179e"
             ],
             [
              0.4444444444444444,
              "#bd3786"
             ],
             [
              0.5555555555555556,
              "#d8576b"
             ],
             [
              0.6666666666666666,
              "#ed7953"
             ],
             [
              0.7777777777777778,
              "#fb9f3a"
             ],
             [
              0.8888888888888888,
              "#fdca26"
             ],
             [
              1,
              "#f0f921"
             ]
            ],
            "type": "contour"
           }
          ],
          "contourcarpet": [
           {
            "colorbar": {
             "outlinewidth": 0,
             "ticks": ""
            },
            "type": "contourcarpet"
           }
          ],
          "heatmap": [
           {
            "colorbar": {
             "outlinewidth": 0,
             "ticks": ""
            },
            "colorscale": [
             [
              0,
              "#0d0887"
             ],
             [
              0.1111111111111111,
              "#46039f"
             ],
             [
              0.2222222222222222,
              "#7201a8"
             ],
             [
              0.3333333333333333,
              "#9c179e"
             ],
             [
              0.4444444444444444,
              "#bd3786"
             ],
             [
              0.5555555555555556,
              "#d8576b"
             ],
             [
              0.6666666666666666,
              "#ed7953"
             ],
             [
              0.7777777777777778,
              "#fb9f3a"
             ],
             [
              0.8888888888888888,
              "#fdca26"
             ],
             [
              1,
              "#f0f921"
             ]
            ],
            "type": "heatmap"
           }
          ],
          "heatmapgl": [
           {
            "colorbar": {
             "outlinewidth": 0,
             "ticks": ""
            },
            "colorscale": [
             [
              0,
              "#0d0887"
             ],
             [
              0.1111111111111111,
              "#46039f"
             ],
             [
              0.2222222222222222,
              "#7201a8"
             ],
             [
              0.3333333333333333,
              "#9c179e"
             ],
             [
              0.4444444444444444,
              "#bd3786"
             ],
             [
              0.5555555555555556,
              "#d8576b"
             ],
             [
              0.6666666666666666,
              "#ed7953"
             ],
             [
              0.7777777777777778,
              "#fb9f3a"
             ],
             [
              0.8888888888888888,
              "#fdca26"
             ],
             [
              1,
              "#f0f921"
             ]
            ],
            "type": "heatmapgl"
           }
          ],
          "histogram": [
           {
            "marker": {
             "pattern": {
              "fillmode": "overlay",
              "size": 10,
              "solidity": 0.2
             }
            },
            "type": "histogram"
           }
          ],
          "histogram2d": [
           {
            "colorbar": {
             "outlinewidth": 0,
             "ticks": ""
            },
            "colorscale": [
             [
              0,
              "#0d0887"
             ],
             [
              0.1111111111111111,
              "#46039f"
             ],
             [
              0.2222222222222222,
              "#7201a8"
             ],
             [
              0.3333333333333333,
              "#9c179e"
             ],
             [
              0.4444444444444444,
              "#bd3786"
             ],
             [
              0.5555555555555556,
              "#d8576b"
             ],
             [
              0.6666666666666666,
              "#ed7953"
             ],
             [
              0.7777777777777778,
              "#fb9f3a"
             ],
             [
              0.8888888888888888,
              "#fdca26"
             ],
             [
              1,
              "#f0f921"
             ]
            ],
            "type": "histogram2d"
           }
          ],
          "histogram2dcontour": [
           {
            "colorbar": {
             "outlinewidth": 0,
             "ticks": ""
            },
            "colorscale": [
             [
              0,
              "#0d0887"
             ],
             [
              0.1111111111111111,
              "#46039f"
             ],
             [
              0.2222222222222222,
              "#7201a8"
             ],
             [
              0.3333333333333333,
              "#9c179e"
             ],
             [
              0.4444444444444444,
              "#bd3786"
             ],
             [
              0.5555555555555556,
              "#d8576b"
             ],
             [
              0.6666666666666666,
              "#ed7953"
             ],
             [
              0.7777777777777778,
              "#fb9f3a"
             ],
             [
              0.8888888888888888,
              "#fdca26"
             ],
             [
              1,
              "#f0f921"
             ]
            ],
            "type": "histogram2dcontour"
           }
          ],
          "mesh3d": [
           {
            "colorbar": {
             "outlinewidth": 0,
             "ticks": ""
            },
            "type": "mesh3d"
           }
          ],
          "parcoords": [
           {
            "line": {
             "colorbar": {
              "outlinewidth": 0,
              "ticks": ""
             }
            },
            "type": "parcoords"
           }
          ],
          "pie": [
           {
            "automargin": true,
            "type": "pie"
           }
          ],
          "scatter": [
           {
            "fillpattern": {
             "fillmode": "overlay",
             "size": 10,
             "solidity": 0.2
            },
            "type": "scatter"
           }
          ],
          "scatter3d": [
           {
            "line": {
             "colorbar": {
              "outlinewidth": 0,
              "ticks": ""
             }
            },
            "marker": {
             "colorbar": {
              "outlinewidth": 0,
              "ticks": ""
             }
            },
            "type": "scatter3d"
           }
          ],
          "scattercarpet": [
           {
            "marker": {
             "colorbar": {
              "outlinewidth": 0,
              "ticks": ""
             }
            },
            "type": "scattercarpet"
           }
          ],
          "scattergeo": [
           {
            "marker": {
             "colorbar": {
              "outlinewidth": 0,
              "ticks": ""
             }
            },
            "type": "scattergeo"
           }
          ],
          "scattergl": [
           {
            "marker": {
             "colorbar": {
              "outlinewidth": 0,
              "ticks": ""
             }
            },
            "type": "scattergl"
           }
          ],
          "scattermapbox": [
           {
            "marker": {
             "colorbar": {
              "outlinewidth": 0,
              "ticks": ""
             }
            },
            "type": "scattermapbox"
           }
          ],
          "scatterpolar": [
           {
            "marker": {
             "colorbar": {
              "outlinewidth": 0,
              "ticks": ""
             }
            },
            "type": "scatterpolar"
           }
          ],
          "scatterpolargl": [
           {
            "marker": {
             "colorbar": {
              "outlinewidth": 0,
              "ticks": ""
             }
            },
            "type": "scatterpolargl"
           }
          ],
          "scatterternary": [
           {
            "marker": {
             "colorbar": {
              "outlinewidth": 0,
              "ticks": ""
             }
            },
            "type": "scatterternary"
           }
          ],
          "surface": [
           {
            "colorbar": {
             "outlinewidth": 0,
             "ticks": ""
            },
            "colorscale": [
             [
              0,
              "#0d0887"
             ],
             [
              0.1111111111111111,
              "#46039f"
             ],
             [
              0.2222222222222222,
              "#7201a8"
             ],
             [
              0.3333333333333333,
              "#9c179e"
             ],
             [
              0.4444444444444444,
              "#bd3786"
             ],
             [
              0.5555555555555556,
              "#d8576b"
             ],
             [
              0.6666666666666666,
              "#ed7953"
             ],
             [
              0.7777777777777778,
              "#fb9f3a"
             ],
             [
              0.8888888888888888,
              "#fdca26"
             ],
             [
              1,
              "#f0f921"
             ]
            ],
            "type": "surface"
           }
          ],
          "table": [
           {
            "cells": {
             "fill": {
              "color": "#EBF0F8"
             },
             "line": {
              "color": "white"
             }
            },
            "header": {
             "fill": {
              "color": "#C8D4E3"
             },
             "line": {
              "color": "white"
             }
            },
            "type": "table"
           }
          ]
         },
         "layout": {
          "annotationdefaults": {
           "arrowcolor": "#2a3f5f",
           "arrowhead": 0,
           "arrowwidth": 1
          },
          "autotypenumbers": "strict",
          "coloraxis": {
           "colorbar": {
            "outlinewidth": 0,
            "ticks": ""
           }
          },
          "colorscale": {
           "diverging": [
            [
             0,
             "#8e0152"
            ],
            [
             0.1,
             "#c51b7d"
            ],
            [
             0.2,
             "#de77ae"
            ],
            [
             0.3,
             "#f1b6da"
            ],
            [
             0.4,
             "#fde0ef"
            ],
            [
             0.5,
             "#f7f7f7"
            ],
            [
             0.6,
             "#e6f5d0"
            ],
            [
             0.7,
             "#b8e186"
            ],
            [
             0.8,
             "#7fbc41"
            ],
            [
             0.9,
             "#4d9221"
            ],
            [
             1,
             "#276419"
            ]
           ],
           "sequential": [
            [
             0,
             "#0d0887"
            ],
            [
             0.1111111111111111,
             "#46039f"
            ],
            [
             0.2222222222222222,
             "#7201a8"
            ],
            [
             0.3333333333333333,
             "#9c179e"
            ],
            [
             0.4444444444444444,
             "#bd3786"
            ],
            [
             0.5555555555555556,
             "#d8576b"
            ],
            [
             0.6666666666666666,
             "#ed7953"
            ],
            [
             0.7777777777777778,
             "#fb9f3a"
            ],
            [
             0.8888888888888888,
             "#fdca26"
            ],
            [
             1,
             "#f0f921"
            ]
           ],
           "sequentialminus": [
            [
             0,
             "#0d0887"
            ],
            [
             0.1111111111111111,
             "#46039f"
            ],
            [
             0.2222222222222222,
             "#7201a8"
            ],
            [
             0.3333333333333333,
             "#9c179e"
            ],
            [
             0.4444444444444444,
             "#bd3786"
            ],
            [
             0.5555555555555556,
             "#d8576b"
            ],
            [
             0.6666666666666666,
             "#ed7953"
            ],
            [
             0.7777777777777778,
             "#fb9f3a"
            ],
            [
             0.8888888888888888,
             "#fdca26"
            ],
            [
             1,
             "#f0f921"
            ]
           ]
          },
          "colorway": [
           "#636efa",
           "#EF553B",
           "#00cc96",
           "#ab63fa",
           "#FFA15A",
           "#19d3f3",
           "#FF6692",
           "#B6E880",
           "#FF97FF",
           "#FECB52"
          ],
          "font": {
           "color": "#2a3f5f"
          },
          "geo": {
           "bgcolor": "white",
           "lakecolor": "white",
           "landcolor": "#E5ECF6",
           "showlakes": true,
           "showland": true,
           "subunitcolor": "white"
          },
          "hoverlabel": {
           "align": "left"
          },
          "hovermode": "closest",
          "mapbox": {
           "style": "light"
          },
          "paper_bgcolor": "white",
          "plot_bgcolor": "#E5ECF6",
          "polar": {
           "angularaxis": {
            "gridcolor": "white",
            "linecolor": "white",
            "ticks": ""
           },
           "bgcolor": "#E5ECF6",
           "radialaxis": {
            "gridcolor": "white",
            "linecolor": "white",
            "ticks": ""
           }
          },
          "scene": {
           "xaxis": {
            "backgroundcolor": "#E5ECF6",
            "gridcolor": "white",
            "gridwidth": 2,
            "linecolor": "white",
            "showbackground": true,
            "ticks": "",
            "zerolinecolor": "white"
           },
           "yaxis": {
            "backgroundcolor": "#E5ECF6",
            "gridcolor": "white",
            "gridwidth": 2,
            "linecolor": "white",
            "showbackground": true,
            "ticks": "",
            "zerolinecolor": "white"
           },
           "zaxis": {
            "backgroundcolor": "#E5ECF6",
            "gridcolor": "white",
            "gridwidth": 2,
            "linecolor": "white",
            "showbackground": true,
            "ticks": "",
            "zerolinecolor": "white"
           }
          },
          "shapedefaults": {
           "line": {
            "color": "#2a3f5f"
           }
          },
          "ternary": {
           "aaxis": {
            "gridcolor": "white",
            "linecolor": "white",
            "ticks": ""
           },
           "baxis": {
            "gridcolor": "white",
            "linecolor": "white",
            "ticks": ""
           },
           "bgcolor": "#E5ECF6",
           "caxis": {
            "gridcolor": "white",
            "linecolor": "white",
            "ticks": ""
           }
          },
          "title": {
           "x": 0.05
          },
          "xaxis": {
           "automargin": true,
           "gridcolor": "white",
           "linecolor": "white",
           "ticks": "",
           "title": {
            "standoff": 15
           },
           "zerolinecolor": "white",
           "zerolinewidth": 2
          },
          "yaxis": {
           "automargin": true,
           "gridcolor": "white",
           "linecolor": "white",
           "ticks": "",
           "title": {
            "standoff": 15
           },
           "zerolinecolor": "white",
           "zerolinewidth": 2
          }
         }
        },
        "title": {
         "text": "Estimation de la vraisemblance par IWAE"
        },
        "xaxis": {
         "tickfont": {
          "size": 12
         },
         "title": {
          "text": "Theta"
         }
        },
        "yaxis": {
         "range": [
          -300,
          500
         ],
         "tickfont": {
          "size": 12
         },
         "title": {
          "text": "Vraisemblance"
         }
        }
       }
      }
     },
     "metadata": {},
     "output_type": "display_data"
    }
   ],
   "source": [
    "k_IWAE = 5\n",
    "\n",
    "Code.plot_likelihood(r, x, noised_A, noised_b, theta_true,  n_simulations, k_IWAE, \"IWAE\")"
   ]
  },
  {
   "cell_type": "code",
   "execution_count": null,
   "metadata": {},
   "outputs": [
    {
     "data": {
      "application/vnd.plotly.v1+json": {
       "config": {
        "plotlyServerURL": "https://plot.ly"
       },
       "data": [
        {
         "line": {
          "color": "red"
         },
         "mode": "lines",
         "name": "True Gradient",
         "type": "scatter",
         "x": [
          -5.627517960456272,
          -5.458026435032544,
          -5.288534909608814,
          -5.119043384185085,
          -4.949551858761357,
          -4.780060333337628,
          -4.610568807913899,
          -4.44107728249017,
          -4.2715857570664415,
          -4.102094231642713,
          -3.932602706218984,
          -3.763111180795255,
          -3.5936196553715263,
          -3.4241281299477975,
          -3.2546366045240687,
          -3.08514507910034,
          -2.915653553676611,
          -2.7461620282528822,
          -2.5766705028291534,
          -2.4071789774054246,
          -2.237687451981696,
          -2.068195926557967,
          -1.8987044011342382,
          -1.7292128757105094,
          -1.5597213502867806,
          -1.3902298248630522,
          -1.220738299439323,
          -1.0512467740155937,
          -0.8817552485918654,
          -0.712263723168137,
          -0.5427721977444078,
          -0.3732806723206785,
          -0.20378914689695016,
          -0.034297621473221795,
          0.13519390395050745,
          0.3046854293742367,
          0.47417695479796507,
          0.6436684802216934,
          0.8131600056454227,
          0.9826515310691519,
          1.1521430564928803,
          1.3216345819166087,
          1.491126107340338,
          1.6606176327640672,
          1.8301091581877955,
          1.9996006836115239,
          2.169092209035253,
          2.3385837344589824,
          2.5080752598827107,
          2.677566785306439,
          2.8470583107301675,
          3.0165498361538976,
          3.186041361577626,
          3.3555328870013543,
          3.5250244124250845,
          3.694515937848813,
          3.864007463272541,
          4.0334989886962695,
          4.202990514119998,
          4.372482039543728
         ],
         "y": [
          -2.4972486856093727,
          -2.4125029228975086,
          -2.327757160185644,
          -2.2430113974737793,
          -2.158265634761915,
          -2.073519872050051,
          -1.9887741093381863,
          -1.9040283466263217,
          -1.8192825839144575,
          -1.7345368212025933,
          -1.6497910584907287,
          -1.5650452957788643,
          -1.480299533067,
          -1.3955537703551355,
          -1.310808007643271,
          -1.2260622449314067,
          -1.1413164822195423,
          -1.056570719507678,
          -0.9718249567958135,
          -0.8870791940839491,
          -0.8023334313720847,
          -0.7175876686602203,
          -0.6328419059483559,
          -0.5480961432364915,
          -0.46335038052462707,
          -0.3786046178127629,
          -0.29385885510089826,
          -0.20911309238903364,
          -0.12436732967716946,
          -0.03962156696530528,
          0.04512419574655935,
          0.12986995845842397,
          0.21461572117028815,
          0.29936148388215233,
          0.38410724659401696,
          0.4688530093058816,
          0.5535987720177458,
          0.63834453472961,
          0.7230902974414746,
          0.8078360601533392,
          0.8925818228652034,
          0.9773275855770676,
          1.0620733482889322,
          1.1468191110007968,
          1.231564873712661,
          1.3163106364245252,
          1.4010563991363898,
          1.4858021618482544,
          1.5705479245601186,
          1.6552936872719828,
          1.740039449983847,
          1.824785212695712,
          1.9095309754075762,
          1.9942767381194404,
          2.0790225008313055,
          2.1637682635431696,
          2.248514026255034,
          2.333259788966898,
          2.418005551678762,
          2.5027513143906273
         ]
        },
        {
         "marker": {
          "color": "purple",
          "symbol": "x"
         },
         "mode": "markers",
         "name": "IWAE",
         "type": "scatter",
         "x": [
          -5.627517960456272,
          -5.458026435032544,
          -5.288534909608814,
          -5.119043384185085,
          -4.949551858761357,
          -4.780060333337628,
          -4.610568807913899,
          -4.44107728249017,
          -4.2715857570664415,
          -4.102094231642713,
          -3.932602706218984,
          -3.763111180795255,
          -3.5936196553715263,
          -3.4241281299477975,
          -3.2546366045240687,
          -3.08514507910034,
          -2.915653553676611,
          -2.7461620282528822,
          -2.5766705028291534,
          -2.4071789774054246,
          -2.237687451981696,
          -2.068195926557967,
          -1.8987044011342382,
          -1.7292128757105094,
          -1.5597213502867806,
          -1.3902298248630522,
          -1.220738299439323,
          -1.0512467740155937,
          -0.8817552485918654,
          -0.712263723168137,
          -0.5427721977444078,
          -0.3732806723206785,
          -0.20378914689695016,
          -0.034297621473221795,
          0.13519390395050745,
          0.3046854293742367,
          0.47417695479796507,
          0.6436684802216934,
          0.8131600056454227,
          0.9826515310691519,
          1.1521430564928803,
          1.3216345819166087,
          1.491126107340338,
          1.6606176327640672,
          1.8301091581877955,
          1.9996006836115239,
          2.169092209035253,
          2.3385837344589824,
          2.5080752598827107,
          2.677566785306439,
          2.8470583107301675,
          3.0165498361538976,
          3.186041361577626,
          3.3555328870013543,
          3.5250244124250845,
          3.694515937848813,
          3.864007463272541,
          4.0334989886962695,
          4.202990514119998,
          4.372482039543728
         ],
         "y": [
          0.03358874416200388,
          -0.7918302976530072,
          0.2764914769125255,
          0.4959215059677149,
          -0.3447736121754872,
          0.3146352810842643,
          -0.02463665528995307,
          -0.4922036992718972,
          -0.21846702608084456,
          0.2586965734227249,
          -0.17066957894510892,
          0.41091060679195834,
          0.3534316237994801,
          -0.6208625629563471,
          -0.3619908446928264,
          0.6967181916875518,
          0.20549826231703605,
          -0.5613235195094717,
          0.7825433245586737,
          0.46120124557555187,
          -0.8360488308429979,
          -0.6961809238529497,
          -0.1340381854092243,
          0.1084233452077683,
          -0.5041785195983266,
          -0.21818264412570443,
          0.8085408044981648,
          0.24138932339923258,
          0.25956104208447073,
          0.27081728774652447,
          0.27927238084151895,
          0.6766715306442848,
          -0.8644333792798307,
          -0.13733130382996706,
          0.48086494003726443,
          -1.0399946268412634,
          -0.009299573479495393,
          0.5243420959982075,
          -0.0575054232447485,
          0.15977620113389435,
          0.32144171568103275,
          -0.7199744370072096,
          -0.5225762679199022,
          1.4258167927264083,
          -0.12618002258514593,
          -1.488774007757712,
          -0.10175353695845502,
          0.32698042046843057,
          0.8142645609943031,
          0.9088540573982868,
          -0.061990564815232574,
          -0.6110420257900273,
          -0.4214403293680391,
          0.3150681044596979,
          -0.26209017466749174,
          -0.5937872116864185,
          -0.6440087339709919,
          0.0036588441536196115,
          0.4479908561278876,
          -0.49556009395009154
         ]
        }
       ],
       "layout": {
        "legend": {
         "font": {
          "size": 12
         },
         "traceorder": "normal",
         "x": 0,
         "y": 1
        },
        "shapes": [
         {
          "line": {
           "color": "black",
           "dash": "dash",
           "width": 2
          },
          "name": "theta=-0.6275179604562722",
          "type": "line",
          "x0": -0.6275179604562722,
          "x1": -0.6275179604562722,
          "y0": -2.4972486856093727,
          "y1": 2.5027513143906273
         }
        ],
        "showlegend": true,
        "template": {
         "data": {
          "bar": [
           {
            "error_x": {
             "color": "#2a3f5f"
            },
            "error_y": {
             "color": "#2a3f5f"
            },
            "marker": {
             "line": {
              "color": "#E5ECF6",
              "width": 0.5
             },
             "pattern": {
              "fillmode": "overlay",
              "size": 10,
              "solidity": 0.2
             }
            },
            "type": "bar"
           }
          ],
          "barpolar": [
           {
            "marker": {
             "line": {
              "color": "#E5ECF6",
              "width": 0.5
             },
             "pattern": {
              "fillmode": "overlay",
              "size": 10,
              "solidity": 0.2
             }
            },
            "type": "barpolar"
           }
          ],
          "carpet": [
           {
            "aaxis": {
             "endlinecolor": "#2a3f5f",
             "gridcolor": "white",
             "linecolor": "white",
             "minorgridcolor": "white",
             "startlinecolor": "#2a3f5f"
            },
            "baxis": {
             "endlinecolor": "#2a3f5f",
             "gridcolor": "white",
             "linecolor": "white",
             "minorgridcolor": "white",
             "startlinecolor": "#2a3f5f"
            },
            "type": "carpet"
           }
          ],
          "choropleth": [
           {
            "colorbar": {
             "outlinewidth": 0,
             "ticks": ""
            },
            "type": "choropleth"
           }
          ],
          "contour": [
           {
            "colorbar": {
             "outlinewidth": 0,
             "ticks": ""
            },
            "colorscale": [
             [
              0,
              "#0d0887"
             ],
             [
              0.1111111111111111,
              "#46039f"
             ],
             [
              0.2222222222222222,
              "#7201a8"
             ],
             [
              0.3333333333333333,
              "#9c179e"
             ],
             [
              0.4444444444444444,
              "#bd3786"
             ],
             [
              0.5555555555555556,
              "#d8576b"
             ],
             [
              0.6666666666666666,
              "#ed7953"
             ],
             [
              0.7777777777777778,
              "#fb9f3a"
             ],
             [
              0.8888888888888888,
              "#fdca26"
             ],
             [
              1,
              "#f0f921"
             ]
            ],
            "type": "contour"
           }
          ],
          "contourcarpet": [
           {
            "colorbar": {
             "outlinewidth": 0,
             "ticks": ""
            },
            "type": "contourcarpet"
           }
          ],
          "heatmap": [
           {
            "colorbar": {
             "outlinewidth": 0,
             "ticks": ""
            },
            "colorscale": [
             [
              0,
              "#0d0887"
             ],
             [
              0.1111111111111111,
              "#46039f"
             ],
             [
              0.2222222222222222,
              "#7201a8"
             ],
             [
              0.3333333333333333,
              "#9c179e"
             ],
             [
              0.4444444444444444,
              "#bd3786"
             ],
             [
              0.5555555555555556,
              "#d8576b"
             ],
             [
              0.6666666666666666,
              "#ed7953"
             ],
             [
              0.7777777777777778,
              "#fb9f3a"
             ],
             [
              0.8888888888888888,
              "#fdca26"
             ],
             [
              1,
              "#f0f921"
             ]
            ],
            "type": "heatmap"
           }
          ],
          "heatmapgl": [
           {
            "colorbar": {
             "outlinewidth": 0,
             "ticks": ""
            },
            "colorscale": [
             [
              0,
              "#0d0887"
             ],
             [
              0.1111111111111111,
              "#46039f"
             ],
             [
              0.2222222222222222,
              "#7201a8"
             ],
             [
              0.3333333333333333,
              "#9c179e"
             ],
             [
              0.4444444444444444,
              "#bd3786"
             ],
             [
              0.5555555555555556,
              "#d8576b"
             ],
             [
              0.6666666666666666,
              "#ed7953"
             ],
             [
              0.7777777777777778,
              "#fb9f3a"
             ],
             [
              0.8888888888888888,
              "#fdca26"
             ],
             [
              1,
              "#f0f921"
             ]
            ],
            "type": "heatmapgl"
           }
          ],
          "histogram": [
           {
            "marker": {
             "pattern": {
              "fillmode": "overlay",
              "size": 10,
              "solidity": 0.2
             }
            },
            "type": "histogram"
           }
          ],
          "histogram2d": [
           {
            "colorbar": {
             "outlinewidth": 0,
             "ticks": ""
            },
            "colorscale": [
             [
              0,
              "#0d0887"
             ],
             [
              0.1111111111111111,
              "#46039f"
             ],
             [
              0.2222222222222222,
              "#7201a8"
             ],
             [
              0.3333333333333333,
              "#9c179e"
             ],
             [
              0.4444444444444444,
              "#bd3786"
             ],
             [
              0.5555555555555556,
              "#d8576b"
             ],
             [
              0.6666666666666666,
              "#ed7953"
             ],
             [
              0.7777777777777778,
              "#fb9f3a"
             ],
             [
              0.8888888888888888,
              "#fdca26"
             ],
             [
              1,
              "#f0f921"
             ]
            ],
            "type": "histogram2d"
           }
          ],
          "histogram2dcontour": [
           {
            "colorbar": {
             "outlinewidth": 0,
             "ticks": ""
            },
            "colorscale": [
             [
              0,
              "#0d0887"
             ],
             [
              0.1111111111111111,
              "#46039f"
             ],
             [
              0.2222222222222222,
              "#7201a8"
             ],
             [
              0.3333333333333333,
              "#9c179e"
             ],
             [
              0.4444444444444444,
              "#bd3786"
             ],
             [
              0.5555555555555556,
              "#d8576b"
             ],
             [
              0.6666666666666666,
              "#ed7953"
             ],
             [
              0.7777777777777778,
              "#fb9f3a"
             ],
             [
              0.8888888888888888,
              "#fdca26"
             ],
             [
              1,
              "#f0f921"
             ]
            ],
            "type": "histogram2dcontour"
           }
          ],
          "mesh3d": [
           {
            "colorbar": {
             "outlinewidth": 0,
             "ticks": ""
            },
            "type": "mesh3d"
           }
          ],
          "parcoords": [
           {
            "line": {
             "colorbar": {
              "outlinewidth": 0,
              "ticks": ""
             }
            },
            "type": "parcoords"
           }
          ],
          "pie": [
           {
            "automargin": true,
            "type": "pie"
           }
          ],
          "scatter": [
           {
            "fillpattern": {
             "fillmode": "overlay",
             "size": 10,
             "solidity": 0.2
            },
            "type": "scatter"
           }
          ],
          "scatter3d": [
           {
            "line": {
             "colorbar": {
              "outlinewidth": 0,
              "ticks": ""
             }
            },
            "marker": {
             "colorbar": {
              "outlinewidth": 0,
              "ticks": ""
             }
            },
            "type": "scatter3d"
           }
          ],
          "scattercarpet": [
           {
            "marker": {
             "colorbar": {
              "outlinewidth": 0,
              "ticks": ""
             }
            },
            "type": "scattercarpet"
           }
          ],
          "scattergeo": [
           {
            "marker": {
             "colorbar": {
              "outlinewidth": 0,
              "ticks": ""
             }
            },
            "type": "scattergeo"
           }
          ],
          "scattergl": [
           {
            "marker": {
             "colorbar": {
              "outlinewidth": 0,
              "ticks": ""
             }
            },
            "type": "scattergl"
           }
          ],
          "scattermapbox": [
           {
            "marker": {
             "colorbar": {
              "outlinewidth": 0,
              "ticks": ""
             }
            },
            "type": "scattermapbox"
           }
          ],
          "scatterpolar": [
           {
            "marker": {
             "colorbar": {
              "outlinewidth": 0,
              "ticks": ""
             }
            },
            "type": "scatterpolar"
           }
          ],
          "scatterpolargl": [
           {
            "marker": {
             "colorbar": {
              "outlinewidth": 0,
              "ticks": ""
             }
            },
            "type": "scatterpolargl"
           }
          ],
          "scatterternary": [
           {
            "marker": {
             "colorbar": {
              "outlinewidth": 0,
              "ticks": ""
             }
            },
            "type": "scatterternary"
           }
          ],
          "surface": [
           {
            "colorbar": {
             "outlinewidth": 0,
             "ticks": ""
            },
            "colorscale": [
             [
              0,
              "#0d0887"
             ],
             [
              0.1111111111111111,
              "#46039f"
             ],
             [
              0.2222222222222222,
              "#7201a8"
             ],
             [
              0.3333333333333333,
              "#9c179e"
             ],
             [
              0.4444444444444444,
              "#bd3786"
             ],
             [
              0.5555555555555556,
              "#d8576b"
             ],
             [
              0.6666666666666666,
              "#ed7953"
             ],
             [
              0.7777777777777778,
              "#fb9f3a"
             ],
             [
              0.8888888888888888,
              "#fdca26"
             ],
             [
              1,
              "#f0f921"
             ]
            ],
            "type": "surface"
           }
          ],
          "table": [
           {
            "cells": {
             "fill": {
              "color": "#EBF0F8"
             },
             "line": {
              "color": "white"
             }
            },
            "header": {
             "fill": {
              "color": "#C8D4E3"
             },
             "line": {
              "color": "white"
             }
            },
            "type": "table"
           }
          ]
         },
         "layout": {
          "annotationdefaults": {
           "arrowcolor": "#2a3f5f",
           "arrowhead": 0,
           "arrowwidth": 1
          },
          "autotypenumbers": "strict",
          "coloraxis": {
           "colorbar": {
            "outlinewidth": 0,
            "ticks": ""
           }
          },
          "colorscale": {
           "diverging": [
            [
             0,
             "#8e0152"
            ],
            [
             0.1,
             "#c51b7d"
            ],
            [
             0.2,
             "#de77ae"
            ],
            [
             0.3,
             "#f1b6da"
            ],
            [
             0.4,
             "#fde0ef"
            ],
            [
             0.5,
             "#f7f7f7"
            ],
            [
             0.6,
             "#e6f5d0"
            ],
            [
             0.7,
             "#b8e186"
            ],
            [
             0.8,
             "#7fbc41"
            ],
            [
             0.9,
             "#4d9221"
            ],
            [
             1,
             "#276419"
            ]
           ],
           "sequential": [
            [
             0,
             "#0d0887"
            ],
            [
             0.1111111111111111,
             "#46039f"
            ],
            [
             0.2222222222222222,
             "#7201a8"
            ],
            [
             0.3333333333333333,
             "#9c179e"
            ],
            [
             0.4444444444444444,
             "#bd3786"
            ],
            [
             0.5555555555555556,
             "#d8576b"
            ],
            [
             0.6666666666666666,
             "#ed7953"
            ],
            [
             0.7777777777777778,
             "#fb9f3a"
            ],
            [
             0.8888888888888888,
             "#fdca26"
            ],
            [
             1,
             "#f0f921"
            ]
           ],
           "sequentialminus": [
            [
             0,
             "#0d0887"
            ],
            [
             0.1111111111111111,
             "#46039f"
            ],
            [
             0.2222222222222222,
             "#7201a8"
            ],
            [
             0.3333333333333333,
             "#9c179e"
            ],
            [
             0.4444444444444444,
             "#bd3786"
            ],
            [
             0.5555555555555556,
             "#d8576b"
            ],
            [
             0.6666666666666666,
             "#ed7953"
            ],
            [
             0.7777777777777778,
             "#fb9f3a"
            ],
            [
             0.8888888888888888,
             "#fdca26"
            ],
            [
             1,
             "#f0f921"
            ]
           ]
          },
          "colorway": [
           "#636efa",
           "#EF553B",
           "#00cc96",
           "#ab63fa",
           "#FFA15A",
           "#19d3f3",
           "#FF6692",
           "#B6E880",
           "#FF97FF",
           "#FECB52"
          ],
          "font": {
           "color": "#2a3f5f"
          },
          "geo": {
           "bgcolor": "white",
           "lakecolor": "white",
           "landcolor": "#E5ECF6",
           "showlakes": true,
           "showland": true,
           "subunitcolor": "white"
          },
          "hoverlabel": {
           "align": "left"
          },
          "hovermode": "closest",
          "mapbox": {
           "style": "light"
          },
          "paper_bgcolor": "white",
          "plot_bgcolor": "#E5ECF6",
          "polar": {
           "angularaxis": {
            "gridcolor": "white",
            "linecolor": "white",
            "ticks": ""
           },
           "bgcolor": "#E5ECF6",
           "radialaxis": {
            "gridcolor": "white",
            "linecolor": "white",
            "ticks": ""
           }
          },
          "scene": {
           "xaxis": {
            "backgroundcolor": "#E5ECF6",
            "gridcolor": "white",
            "gridwidth": 2,
            "linecolor": "white",
            "showbackground": true,
            "ticks": "",
            "zerolinecolor": "white"
           },
           "yaxis": {
            "backgroundcolor": "#E5ECF6",
            "gridcolor": "white",
            "gridwidth": 2,
            "linecolor": "white",
            "showbackground": true,
            "ticks": "",
            "zerolinecolor": "white"
           },
           "zaxis": {
            "backgroundcolor": "#E5ECF6",
            "gridcolor": "white",
            "gridwidth": 2,
            "linecolor": "white",
            "showbackground": true,
            "ticks": "",
            "zerolinecolor": "white"
           }
          },
          "shapedefaults": {
           "line": {
            "color": "#2a3f5f"
           }
          },
          "ternary": {
           "aaxis": {
            "gridcolor": "white",
            "linecolor": "white",
            "ticks": ""
           },
           "baxis": {
            "gridcolor": "white",
            "linecolor": "white",
            "ticks": ""
           },
           "bgcolor": "#E5ECF6",
           "caxis": {
            "gridcolor": "white",
            "linecolor": "white",
            "ticks": ""
           }
          },
          "title": {
           "x": 0.05
          },
          "xaxis": {
           "automargin": true,
           "gridcolor": "white",
           "linecolor": "white",
           "ticks": "",
           "title": {
            "standoff": 15
           },
           "zerolinecolor": "white",
           "zerolinewidth": 2
          },
          "yaxis": {
           "automargin": true,
           "gridcolor": "white",
           "linecolor": "white",
           "ticks": "",
           "title": {
            "standoff": 15
           },
           "zerolinecolor": "white",
           "zerolinewidth": 2
          }
         }
        },
        "title": {
         "text": "Estimation du gradient par IWAE"
        },
        "xaxis": {
         "title": {
          "text": "Theta"
         }
        },
        "yaxis": {
         "title": {
          "text": "Gradient"
         }
        }
       }
      }
     },
     "metadata": {},
     "output_type": "display_data"
    }
   ],
   "source": [
    "Code.plot_gradient(r, x, noised_A, noised_b, theta_true, n_simulations, 'IWAE')"
   ]
  },
  {
   "cell_type": "markdown",
   "metadata": {},
   "source": [
    "### <span style=\"color:orange\">  **1.4 Comparaison entre les différents estimateurs**  </span>\n",
    "\n",
    "Dans cette partie, nous allons comparer les estimateurs sur un même graphique. "
   ]
  },
  {
   "cell_type": "code",
   "execution_count": null,
   "metadata": {},
   "outputs": [
    {
     "name": "stderr",
     "output_type": "stream",
     "text": [
      "Progression: 100%|██████████| 60/60 [02:06<00:00,  2.11s/it]\n"
     ]
    },
    {
     "data": {
      "application/vnd.plotly.v1+json": {
       "config": {
        "plotlyServerURL": "https://plot.ly"
       },
       "data": [
        {
         "line": {
          "color": "red"
         },
         "mode": "lines",
         "name": "True likelihood",
         "type": "scatter",
         "x": [
          -2.9388223082554052,
          -2.7693307828316764,
          -2.5998392574079476,
          -2.430347731984219,
          -2.26085620656049,
          -2.091364681136761,
          -1.9218731557130324,
          -1.7523816302893036,
          -1.5828901048655748,
          -1.413398579441846,
          -1.2439070540181172,
          -1.0744155285943884,
          -0.9049240031706596,
          -0.7354324777469308,
          -0.565940952323202,
          -0.39644942689947316,
          -0.22695790147574435,
          -0.057466376052015544,
          0.11202514937171326,
          0.28151667479544207,
          0.4510082002191709,
          0.6204997256428997,
          0.7899912510666285,
          0.9594827764903573,
          1.128974301914086,
          1.2984658273378145,
          1.4679573527615437,
          1.637448878185273,
          1.8069404036090013,
          1.9764319290327297,
          2.145923454456459,
          2.315414979880188,
          2.4849065053039165,
          2.654398030727645,
          2.823889556151374,
          2.9933810815751034,
          3.1628726069988318,
          3.33236413242256,
          3.5018556578462894,
          3.6713471832700186,
          3.840838708693747,
          4.010330234117475,
          4.179821759541205,
          4.349313284964934,
          4.518804810388662,
          4.688296335812391,
          4.85778786123612,
          5.027279386659849,
          5.196770912083577,
          5.366262437507306,
          5.535753962931034,
          5.705245488354764,
          5.874737013778493,
          6.044228539202221,
          6.213720064625951,
          6.3832115900496795,
          6.552703115473408,
          6.722194640897136,
          6.891686166320865,
          7.061177691744595
         ],
         "y": [
          -152.99269754297242,
          -144.63895362400115,
          -136.57248347693448,
          -128.79328710177245,
          -121.30136449851506,
          -114.09671566716226,
          -107.17934060771411,
          -100.54923932017059,
          -94.20641180453167,
          -88.15085806079739,
          -82.38257808896776,
          -76.90157188904271,
          -71.70783946102232,
          -66.80138080490653,
          -62.182195920695364,
          -57.85028480838884,
          -53.80564746798694,
          -50.048283899489654,
          -46.57819410289701,
          -43.39537807820897,
          -40.49983582542556,
          -37.89156734454679,
          -35.57057263557264,
          -33.536851698503106,
          -31.790404533338204,
          -30.33123114007793,
          -29.159331518722272,
          -28.27470566927124,
          -27.677353591724835,
          -27.36727528608306,
          -27.344470752345906,
          -27.608939990513377,
          -28.160683000585475,
          -28.999699782562192,
          -30.125990336443543,
          -31.539554662229516,
          -33.24039275992011,
          -35.228504629515335,
          -37.50389027101518,
          -40.06654968441966,
          -42.91648286972875,
          -46.05368982694247,
          -49.478170556060824,
          -53.189925057083805,
          -57.18895333001139,
          -61.4752553748436,
          -66.04883119158046,
          -70.90968078022195,
          -76.05780414076803,
          -81.49320127321874,
          -87.21587217757407,
          -93.2258168538341,
          -99.52303530199869,
          -106.10752752206788,
          -112.97929351404179,
          -120.13833327792025,
          -127.5846468137033,
          -135.31823412139101,
          -143.33909520098337,
          -151.6472300524804
         ]
        },
        {
         "marker": {
          "color": "purple",
          "symbol": "x"
         },
         "mode": "markers",
         "name": "IWAE",
         "type": "scatter",
         "x": [
          -2.9388223082554052,
          -2.7693307828316764,
          -2.5998392574079476,
          -2.430347731984219,
          -2.26085620656049,
          -2.091364681136761,
          -1.9218731557130324,
          -1.7523816302893036,
          -1.5828901048655748,
          -1.413398579441846,
          -1.2439070540181172,
          -1.0744155285943884,
          -0.9049240031706596,
          -0.7354324777469308,
          -0.565940952323202,
          -0.39644942689947316,
          -0.22695790147574435,
          -0.057466376052015544,
          0.11202514937171326,
          0.28151667479544207,
          0.4510082002191709,
          0.6204997256428997,
          0.7899912510666285,
          0.9594827764903573,
          1.128974301914086,
          1.2984658273378145,
          1.4679573527615437,
          1.637448878185273,
          1.8069404036090013,
          1.9764319290327297,
          2.145923454456459,
          2.315414979880188,
          2.4849065053039165,
          2.654398030727645,
          2.823889556151374,
          2.9933810815751034,
          3.1628726069988318,
          3.33236413242256,
          3.5018556578462894,
          3.6713471832700186,
          3.840838708693747,
          4.010330234117475,
          4.179821759541205,
          4.349313284964934,
          4.518804810388662,
          4.688296335812391,
          4.85778786123612,
          5.027279386659849,
          5.196770912083577,
          5.366262437507306,
          5.535753962931034,
          5.705245488354764,
          5.874737013778493,
          6.044228539202221,
          6.213720064625951,
          6.3832115900496795,
          6.552703115473408,
          6.722194640897136,
          6.891686166320865,
          7.061177691744595
         ],
         "y": [
          -260.2862477438511,
          -249.25308382460662,
          -232.12633656938962,
          -217.55756297209197,
          -182.9546950457394,
          -169.7131270675972,
          -136.98152127565385,
          -171.65802980642093,
          -146.26058655865558,
          -147.16589582854888,
          -97.69936860043822,
          -122.85149023134582,
          -15.01527564582078,
          -101.41736910459025,
          -66.91932189069112,
          -32.30662494455979,
          -74.0410946335605,
          -74.43312214321432,
          -58.8109063944339,
          -58.163906734948384,
          -52.930708296665266,
          -30.0676339337092,
          -46.85194209874294,
          -42.23152011476024,
          -37.72394944439823,
          -38.85681792879663,
          -36.986158470209396,
          -35.59727560307759,
          -34.71524223918108,
          -34.377283289621985,
          -34.20227509095696,
          -34.35490797343885,
          -35.27334854962125,
          -37.141537824434366,
          -38.06497119639184,
          -40.18985504143286,
          -42.2164829080931,
          -46.92837272485297,
          -52.452297359422964,
          -54.53352417080831,
          -52.49300001288308,
          -46.93137669799221,
          -70.81586528100166,
          -75.04834557888785,
          -84.2460763833822,
          -69.47561344520543,
          -104.87669813192942,
          -111.90539364689158,
          -102.27969828099917,
          -127.18298569984076,
          -147.68349695306284,
          -148.54851091232192,
          -162.8415087521799,
          -169.11212901364186,
          -191.3946569802408,
          -205.6805870887021,
          -225.09298772363567,
          -209.42158086477153,
          -253.0168976694892,
          -228.08441836359816
         ]
        },
        {
         "marker": {
          "color": "orange",
          "symbol": "x"
         },
         "mode": "markers",
         "name": "ML_SS",
         "type": "scatter",
         "x": [
          -2.9388223082554052,
          -2.7693307828316764,
          -2.5998392574079476,
          -2.430347731984219,
          -2.26085620656049,
          -2.091364681136761,
          -1.9218731557130324,
          -1.7523816302893036,
          -1.5828901048655748,
          -1.413398579441846,
          -1.2439070540181172,
          -1.0744155285943884,
          -0.9049240031706596,
          -0.7354324777469308,
          -0.565940952323202,
          -0.39644942689947316,
          -0.22695790147574435,
          -0.057466376052015544,
          0.11202514937171326,
          0.28151667479544207,
          0.4510082002191709,
          0.6204997256428997,
          0.7899912510666285,
          0.9594827764903573,
          1.128974301914086,
          1.2984658273378145,
          1.4679573527615437,
          1.637448878185273,
          1.8069404036090013,
          1.9764319290327297,
          2.145923454456459,
          2.315414979880188,
          2.4849065053039165,
          2.654398030727645,
          2.823889556151374,
          2.9933810815751034,
          3.1628726069988318,
          3.33236413242256,
          3.5018556578462894,
          3.6713471832700186,
          3.840838708693747,
          4.010330234117475,
          4.179821759541205,
          4.349313284964934,
          4.518804810388662,
          4.688296335812391,
          4.85778786123612,
          5.027279386659849,
          5.196770912083577,
          5.366262437507306,
          5.535753962931034,
          5.705245488354764,
          5.874737013778493,
          6.044228539202221,
          6.213720064625951,
          6.3832115900496795,
          6.552703115473408,
          6.722194640897136,
          6.891686166320865,
          7.061177691744595
         ],
         "y": [
          -250.39924243285608,
          -177.83172269541046,
          -221.1869702070674,
          -194.24028138768128,
          -205.1435932621012,
          -150.7358806908505,
          -151.87256546407386,
          -151.8135195977764,
          -90.9778319125921,
          -106.21412833877746,
          -109.54851402039853,
          -48.681925214147,
          14.675346102052517,
          -71.9257842527498,
          -89.59003947113982,
          -82.41923669948129,
          -65.23882064746061,
          -64.03302455302655,
          -57.73176014601399,
          -53.56402100660201,
          -48.531373290116306,
          -44.08389430571197,
          -40.25882698888829,
          -38.39968420839997,
          -36.851172893259914,
          -36.68902430186118,
          -35.74570636663084,
          -35.06348954254329,
          -34.36989946828617,
          -33.53503586596499,
          -34.10620282150409,
          -33.73257830272039,
          -33.13924830335271,
          -34.29561570695089,
          -34.06223703408389,
          -39.21319067701437,
          -40.7720419229224,
          -42.648187051260685,
          -47.54357181083491,
          -52.51343642750762,
          -34.45959398284549,
          -56.81363547180188,
          -65.1205415816822,
          -70.46624992026919,
          -70.84515018621282,
          -72.18583224950572,
          -91.01130763466072,
          87.55953855665759,
          -112.66723339409378,
          -120.8729635306893,
          -134.62207154740105,
          -145.07779528773563,
          -151.56564541857432,
          -168.34101477384993,
          -149.2498577561369,
          -156.60258348728365,
          -185.07329403673097,
          12832.611669611731,
          -226.02191492009757,
          -261.0478270395253
         ]
        },
        {
         "marker": {
          "color": "green",
          "symbol": "x"
         },
         "mode": "markers",
         "name": "ML_RR",
         "type": "scatter",
         "x": [
          -2.9388223082554052,
          -2.7693307828316764,
          -2.5998392574079476,
          -2.430347731984219,
          -2.26085620656049,
          -2.091364681136761,
          -1.9218731557130324,
          -1.7523816302893036,
          -1.5828901048655748,
          -1.413398579441846,
          -1.2439070540181172,
          -1.0744155285943884,
          -0.9049240031706596,
          -0.7354324777469308,
          -0.565940952323202,
          -0.39644942689947316,
          -0.22695790147574435,
          -0.057466376052015544,
          0.11202514937171326,
          0.28151667479544207,
          0.4510082002191709,
          0.6204997256428997,
          0.7899912510666285,
          0.9594827764903573,
          1.128974301914086,
          1.2984658273378145,
          1.4679573527615437,
          1.637448878185273,
          1.8069404036090013,
          1.9764319290327297,
          2.145923454456459,
          2.315414979880188,
          2.4849065053039165,
          2.654398030727645,
          2.823889556151374,
          2.9933810815751034,
          3.1628726069988318,
          3.33236413242256,
          3.5018556578462894,
          3.6713471832700186,
          3.840838708693747,
          4.010330234117475,
          4.179821759541205,
          4.349313284964934,
          4.518804810388662,
          4.688296335812391,
          4.85778786123612,
          5.027279386659849,
          5.196770912083577,
          5.366262437507306,
          5.535753962931034,
          5.705245488354764,
          5.874737013778493,
          6.044228539202221,
          6.213720064625951,
          6.3832115900496795,
          6.552703115473408,
          6.722194640897136,
          6.891686166320865,
          7.061177691744595
         ],
         "y": [
          -279.88150818405774,
          -247.82887920521395,
          -245.66494278623986,
          -193.68028372608222,
          -215.37530527801408,
          -215.0057785422785,
          -170.69753879854323,
          -172.24224767787942,
          -149.11977405439015,
          -153.26584295862764,
          -114.69023934883734,
          -130.7995364052685,
          -118.4993068320076,
          -109.46614253647252,
          -101.72810731337418,
          -84.6083796632421,
          -84.03009697604138,
          -1230.9983270468829,
          -76.39772542332535,
          -59.74796988116382,
          -56.89699753698377,
          -45.667656417627214,
          -50.89829844953657,
          -44.042200436549734,
          -43.08489025794473,
          -37.93939987929335,
          -37.05402683497876,
          -36.12004482062885,
          -35.763206554042526,
          -34.4882892050122,
          -32.92404570697755,
          -35.03352841988035,
          -35.789883363229784,
          -37.676420210470994,
          -133.85786918416176,
          -43.451653295704666,
          -43.256437540527564,
          -51.75635317104592,
          -45.05874650981541,
          -62.83591248216912,
          -64.74762322142011,
          -73.71621018482354,
          -78.92060446078291,
          -83.85530019374697,
          -89.53497613641393,
          -102.99051105837984,
          -108.41236622333909,
          -115.52642702047274,
          -130.4252441943812,
          -140.81555319440443,
          -153.8467295440099,
          -148.46876182669263,
          -182.08539199005847,
          -185.65215104372547,
          -206.58146256304266,
          -208.0601030515307,
          -239.89831042884785,
          -246.34899959489272,
          -251.97471987447014,
          -268.0743355626909
         ]
        },
        {
         "marker": {
          "color": "yellow",
          "symbol": "x"
         },
         "mode": "markers",
         "name": "SUMO",
         "type": "scatter",
         "x": [
          -2.9388223082554052,
          -2.7693307828316764,
          -2.5998392574079476,
          -2.430347731984219,
          -2.26085620656049,
          -2.091364681136761,
          -1.9218731557130324,
          -1.7523816302893036,
          -1.5828901048655748,
          -1.413398579441846,
          -1.2439070540181172,
          -1.0744155285943884,
          -0.9049240031706596,
          -0.7354324777469308,
          -0.565940952323202,
          -0.39644942689947316,
          -0.22695790147574435,
          -0.057466376052015544,
          0.11202514937171326,
          0.28151667479544207,
          0.4510082002191709,
          0.6204997256428997,
          0.7899912510666285,
          0.9594827764903573,
          1.128974301914086,
          1.2984658273378145,
          1.4679573527615437,
          1.637448878185273,
          1.8069404036090013,
          1.9764319290327297,
          2.145923454456459,
          2.315414979880188,
          2.4849065053039165,
          2.654398030727645,
          2.823889556151374,
          2.9933810815751034,
          3.1628726069988318,
          3.33236413242256,
          3.5018556578462894,
          3.6713471832700186,
          3.840838708693747,
          4.010330234117475,
          4.179821759541205,
          4.349313284964934,
          4.518804810388662,
          4.688296335812391,
          4.85778786123612,
          5.027279386659849,
          5.196770912083577,
          5.366262437507306,
          5.535753962931034,
          5.705245488354764,
          5.874737013778493,
          6.044228539202221,
          6.213720064625951,
          6.3832115900496795,
          6.552703115473408,
          6.722194640897136,
          6.891686166320865,
          7.061177691744595
         ],
         "y": [
          -279.2592160316281,
          -253.80514784113953,
          -248.4592123599784,
          -230.48436866814788,
          -223.551314378753,
          -198.74462151717518,
          -187.06164464888795,
          -178.01852706557642,
          -161.81741898950747,
          -149.80306344519315,
          -139.47670880048526,
          -128.36356064524765,
          -119.2620582425579,
          -110.84561103201294,
          -99.96377372285512,
          -93.64218514213516,
          -83.66129189499308,
          -80.93773408512318,
          -70.43821587779257,
          -64.81521323304734,
          -58.47576576561086,
          -54.26626205622287,
          -49.32779947060299,
          -44.565354650073544,
          -41.63553831315841,
          -39.7684632797858,
          -38.15917838430213,
          -35.519958757939,
          -35.19076079588653,
          -34.593091919284156,
          -34.645945313380984,
          -34.44380603277151,
          -35.30297953621227,
          -38.35337141992907,
          -39.5750687420001,
          -43.596119073213636,
          -47.53894804556318,
          -50.10020535834123,
          -53.47201091320694,
          -60.41933776351575,
          -63.19051779261626,
          -69.30754774230975,
          -75.33054006488037,
          -85.36572972837993,
          -96.62367440306802,
          -101.87551670237103,
          -113.95954911606427,
          -115.8211649632225,
          -137.00506929846367,
          -145.6946628931965,
          -149.2290594458706,
          -166.60999146049883,
          -177.99345582776053,
          -186.6367235457954,
          -203.87952270284285,
          -218.43384777811426,
          -233.12592590620363,
          -247.29987663796229,
          -265.7448093163545,
          -274.35504520235486
         ]
        }
       ],
       "layout": {
        "grid": {
         "columns": 1,
         "rows": 1
        },
        "legend": {
         "font": {
          "size": 10
         }
        },
        "shapes": [
         {
          "line": {
           "color": "black",
           "dash": "dash"
          },
          "name": "Theta=2.0611776917445948",
          "type": "line",
          "x0": 2.0611776917445948,
          "x1": 2.0611776917445948,
          "y0": -300,
          "y1": 500
         }
        ],
        "showlegend": true,
        "template": {
         "data": {
          "bar": [
           {
            "error_x": {
             "color": "#2a3f5f"
            },
            "error_y": {
             "color": "#2a3f5f"
            },
            "marker": {
             "line": {
              "color": "#E5ECF6",
              "width": 0.5
             },
             "pattern": {
              "fillmode": "overlay",
              "size": 10,
              "solidity": 0.2
             }
            },
            "type": "bar"
           }
          ],
          "barpolar": [
           {
            "marker": {
             "line": {
              "color": "#E5ECF6",
              "width": 0.5
             },
             "pattern": {
              "fillmode": "overlay",
              "size": 10,
              "solidity": 0.2
             }
            },
            "type": "barpolar"
           }
          ],
          "carpet": [
           {
            "aaxis": {
             "endlinecolor": "#2a3f5f",
             "gridcolor": "white",
             "linecolor": "white",
             "minorgridcolor": "white",
             "startlinecolor": "#2a3f5f"
            },
            "baxis": {
             "endlinecolor": "#2a3f5f",
             "gridcolor": "white",
             "linecolor": "white",
             "minorgridcolor": "white",
             "startlinecolor": "#2a3f5f"
            },
            "type": "carpet"
           }
          ],
          "choropleth": [
           {
            "colorbar": {
             "outlinewidth": 0,
             "ticks": ""
            },
            "type": "choropleth"
           }
          ],
          "contour": [
           {
            "colorbar": {
             "outlinewidth": 0,
             "ticks": ""
            },
            "colorscale": [
             [
              0,
              "#0d0887"
             ],
             [
              0.1111111111111111,
              "#46039f"
             ],
             [
              0.2222222222222222,
              "#7201a8"
             ],
             [
              0.3333333333333333,
              "#9c179e"
             ],
             [
              0.4444444444444444,
              "#bd3786"
             ],
             [
              0.5555555555555556,
              "#d8576b"
             ],
             [
              0.6666666666666666,
              "#ed7953"
             ],
             [
              0.7777777777777778,
              "#fb9f3a"
             ],
             [
              0.8888888888888888,
              "#fdca26"
             ],
             [
              1,
              "#f0f921"
             ]
            ],
            "type": "contour"
           }
          ],
          "contourcarpet": [
           {
            "colorbar": {
             "outlinewidth": 0,
             "ticks": ""
            },
            "type": "contourcarpet"
           }
          ],
          "heatmap": [
           {
            "colorbar": {
             "outlinewidth": 0,
             "ticks": ""
            },
            "colorscale": [
             [
              0,
              "#0d0887"
             ],
             [
              0.1111111111111111,
              "#46039f"
             ],
             [
              0.2222222222222222,
              "#7201a8"
             ],
             [
              0.3333333333333333,
              "#9c179e"
             ],
             [
              0.4444444444444444,
              "#bd3786"
             ],
             [
              0.5555555555555556,
              "#d8576b"
             ],
             [
              0.6666666666666666,
              "#ed7953"
             ],
             [
              0.7777777777777778,
              "#fb9f3a"
             ],
             [
              0.8888888888888888,
              "#fdca26"
             ],
             [
              1,
              "#f0f921"
             ]
            ],
            "type": "heatmap"
           }
          ],
          "heatmapgl": [
           {
            "colorbar": {
             "outlinewidth": 0,
             "ticks": ""
            },
            "colorscale": [
             [
              0,
              "#0d0887"
             ],
             [
              0.1111111111111111,
              "#46039f"
             ],
             [
              0.2222222222222222,
              "#7201a8"
             ],
             [
              0.3333333333333333,
              "#9c179e"
             ],
             [
              0.4444444444444444,
              "#bd3786"
             ],
             [
              0.5555555555555556,
              "#d8576b"
             ],
             [
              0.6666666666666666,
              "#ed7953"
             ],
             [
              0.7777777777777778,
              "#fb9f3a"
             ],
             [
              0.8888888888888888,
              "#fdca26"
             ],
             [
              1,
              "#f0f921"
             ]
            ],
            "type": "heatmapgl"
           }
          ],
          "histogram": [
           {
            "marker": {
             "pattern": {
              "fillmode": "overlay",
              "size": 10,
              "solidity": 0.2
             }
            },
            "type": "histogram"
           }
          ],
          "histogram2d": [
           {
            "colorbar": {
             "outlinewidth": 0,
             "ticks": ""
            },
            "colorscale": [
             [
              0,
              "#0d0887"
             ],
             [
              0.1111111111111111,
              "#46039f"
             ],
             [
              0.2222222222222222,
              "#7201a8"
             ],
             [
              0.3333333333333333,
              "#9c179e"
             ],
             [
              0.4444444444444444,
              "#bd3786"
             ],
             [
              0.5555555555555556,
              "#d8576b"
             ],
             [
              0.6666666666666666,
              "#ed7953"
             ],
             [
              0.7777777777777778,
              "#fb9f3a"
             ],
             [
              0.8888888888888888,
              "#fdca26"
             ],
             [
              1,
              "#f0f921"
             ]
            ],
            "type": "histogram2d"
           }
          ],
          "histogram2dcontour": [
           {
            "colorbar": {
             "outlinewidth": 0,
             "ticks": ""
            },
            "colorscale": [
             [
              0,
              "#0d0887"
             ],
             [
              0.1111111111111111,
              "#46039f"
             ],
             [
              0.2222222222222222,
              "#7201a8"
             ],
             [
              0.3333333333333333,
              "#9c179e"
             ],
             [
              0.4444444444444444,
              "#bd3786"
             ],
             [
              0.5555555555555556,
              "#d8576b"
             ],
             [
              0.6666666666666666,
              "#ed7953"
             ],
             [
              0.7777777777777778,
              "#fb9f3a"
             ],
             [
              0.8888888888888888,
              "#fdca26"
             ],
             [
              1,
              "#f0f921"
             ]
            ],
            "type": "histogram2dcontour"
           }
          ],
          "mesh3d": [
           {
            "colorbar": {
             "outlinewidth": 0,
             "ticks": ""
            },
            "type": "mesh3d"
           }
          ],
          "parcoords": [
           {
            "line": {
             "colorbar": {
              "outlinewidth": 0,
              "ticks": ""
             }
            },
            "type": "parcoords"
           }
          ],
          "pie": [
           {
            "automargin": true,
            "type": "pie"
           }
          ],
          "scatter": [
           {
            "fillpattern": {
             "fillmode": "overlay",
             "size": 10,
             "solidity": 0.2
            },
            "type": "scatter"
           }
          ],
          "scatter3d": [
           {
            "line": {
             "colorbar": {
              "outlinewidth": 0,
              "ticks": ""
             }
            },
            "marker": {
             "colorbar": {
              "outlinewidth": 0,
              "ticks": ""
             }
            },
            "type": "scatter3d"
           }
          ],
          "scattercarpet": [
           {
            "marker": {
             "colorbar": {
              "outlinewidth": 0,
              "ticks": ""
             }
            },
            "type": "scattercarpet"
           }
          ],
          "scattergeo": [
           {
            "marker": {
             "colorbar": {
              "outlinewidth": 0,
              "ticks": ""
             }
            },
            "type": "scattergeo"
           }
          ],
          "scattergl": [
           {
            "marker": {
             "colorbar": {
              "outlinewidth": 0,
              "ticks": ""
             }
            },
            "type": "scattergl"
           }
          ],
          "scattermapbox": [
           {
            "marker": {
             "colorbar": {
              "outlinewidth": 0,
              "ticks": ""
             }
            },
            "type": "scattermapbox"
           }
          ],
          "scatterpolar": [
           {
            "marker": {
             "colorbar": {
              "outlinewidth": 0,
              "ticks": ""
             }
            },
            "type": "scatterpolar"
           }
          ],
          "scatterpolargl": [
           {
            "marker": {
             "colorbar": {
              "outlinewidth": 0,
              "ticks": ""
             }
            },
            "type": "scatterpolargl"
           }
          ],
          "scatterternary": [
           {
            "marker": {
             "colorbar": {
              "outlinewidth": 0,
              "ticks": ""
             }
            },
            "type": "scatterternary"
           }
          ],
          "surface": [
           {
            "colorbar": {
             "outlinewidth": 0,
             "ticks": ""
            },
            "colorscale": [
             [
              0,
              "#0d0887"
             ],
             [
              0.1111111111111111,
              "#46039f"
             ],
             [
              0.2222222222222222,
              "#7201a8"
             ],
             [
              0.3333333333333333,
              "#9c179e"
             ],
             [
              0.4444444444444444,
              "#bd3786"
             ],
             [
              0.5555555555555556,
              "#d8576b"
             ],
             [
              0.6666666666666666,
              "#ed7953"
             ],
             [
              0.7777777777777778,
              "#fb9f3a"
             ],
             [
              0.8888888888888888,
              "#fdca26"
             ],
             [
              1,
              "#f0f921"
             ]
            ],
            "type": "surface"
           }
          ],
          "table": [
           {
            "cells": {
             "fill": {
              "color": "#EBF0F8"
             },
             "line": {
              "color": "white"
             }
            },
            "header": {
             "fill": {
              "color": "#C8D4E3"
             },
             "line": {
              "color": "white"
             }
            },
            "type": "table"
           }
          ]
         },
         "layout": {
          "annotationdefaults": {
           "arrowcolor": "#2a3f5f",
           "arrowhead": 0,
           "arrowwidth": 1
          },
          "autotypenumbers": "strict",
          "coloraxis": {
           "colorbar": {
            "outlinewidth": 0,
            "ticks": ""
           }
          },
          "colorscale": {
           "diverging": [
            [
             0,
             "#8e0152"
            ],
            [
             0.1,
             "#c51b7d"
            ],
            [
             0.2,
             "#de77ae"
            ],
            [
             0.3,
             "#f1b6da"
            ],
            [
             0.4,
             "#fde0ef"
            ],
            [
             0.5,
             "#f7f7f7"
            ],
            [
             0.6,
             "#e6f5d0"
            ],
            [
             0.7,
             "#b8e186"
            ],
            [
             0.8,
             "#7fbc41"
            ],
            [
             0.9,
             "#4d9221"
            ],
            [
             1,
             "#276419"
            ]
           ],
           "sequential": [
            [
             0,
             "#0d0887"
            ],
            [
             0.1111111111111111,
             "#46039f"
            ],
            [
             0.2222222222222222,
             "#7201a8"
            ],
            [
             0.3333333333333333,
             "#9c179e"
            ],
            [
             0.4444444444444444,
             "#bd3786"
            ],
            [
             0.5555555555555556,
             "#d8576b"
            ],
            [
             0.6666666666666666,
             "#ed7953"
            ],
            [
             0.7777777777777778,
             "#fb9f3a"
            ],
            [
             0.8888888888888888,
             "#fdca26"
            ],
            [
             1,
             "#f0f921"
            ]
           ],
           "sequentialminus": [
            [
             0,
             "#0d0887"
            ],
            [
             0.1111111111111111,
             "#46039f"
            ],
            [
             0.2222222222222222,
             "#7201a8"
            ],
            [
             0.3333333333333333,
             "#9c179e"
            ],
            [
             0.4444444444444444,
             "#bd3786"
            ],
            [
             0.5555555555555556,
             "#d8576b"
            ],
            [
             0.6666666666666666,
             "#ed7953"
            ],
            [
             0.7777777777777778,
             "#fb9f3a"
            ],
            [
             0.8888888888888888,
             "#fdca26"
            ],
            [
             1,
             "#f0f921"
            ]
           ]
          },
          "colorway": [
           "#636efa",
           "#EF553B",
           "#00cc96",
           "#ab63fa",
           "#FFA15A",
           "#19d3f3",
           "#FF6692",
           "#B6E880",
           "#FF97FF",
           "#FECB52"
          ],
          "font": {
           "color": "#2a3f5f"
          },
          "geo": {
           "bgcolor": "white",
           "lakecolor": "white",
           "landcolor": "#E5ECF6",
           "showlakes": true,
           "showland": true,
           "subunitcolor": "white"
          },
          "hoverlabel": {
           "align": "left"
          },
          "hovermode": "closest",
          "mapbox": {
           "style": "light"
          },
          "paper_bgcolor": "white",
          "plot_bgcolor": "#E5ECF6",
          "polar": {
           "angularaxis": {
            "gridcolor": "white",
            "linecolor": "white",
            "ticks": ""
           },
           "bgcolor": "#E5ECF6",
           "radialaxis": {
            "gridcolor": "white",
            "linecolor": "white",
            "ticks": ""
           }
          },
          "scene": {
           "xaxis": {
            "backgroundcolor": "#E5ECF6",
            "gridcolor": "white",
            "gridwidth": 2,
            "linecolor": "white",
            "showbackground": true,
            "ticks": "",
            "zerolinecolor": "white"
           },
           "yaxis": {
            "backgroundcolor": "#E5ECF6",
            "gridcolor": "white",
            "gridwidth": 2,
            "linecolor": "white",
            "showbackground": true,
            "ticks": "",
            "zerolinecolor": "white"
           },
           "zaxis": {
            "backgroundcolor": "#E5ECF6",
            "gridcolor": "white",
            "gridwidth": 2,
            "linecolor": "white",
            "showbackground": true,
            "ticks": "",
            "zerolinecolor": "white"
           }
          },
          "shapedefaults": {
           "line": {
            "color": "#2a3f5f"
           }
          },
          "ternary": {
           "aaxis": {
            "gridcolor": "white",
            "linecolor": "white",
            "ticks": ""
           },
           "baxis": {
            "gridcolor": "white",
            "linecolor": "white",
            "ticks": ""
           },
           "bgcolor": "#E5ECF6",
           "caxis": {
            "gridcolor": "white",
            "linecolor": "white",
            "ticks": ""
           }
          },
          "title": {
           "x": 0.05
          },
          "xaxis": {
           "automargin": true,
           "gridcolor": "white",
           "linecolor": "white",
           "ticks": "",
           "title": {
            "standoff": 15
           },
           "zerolinecolor": "white",
           "zerolinewidth": 2
          },
          "yaxis": {
           "automargin": true,
           "gridcolor": "white",
           "linecolor": "white",
           "ticks": "",
           "title": {
            "standoff": 15
           },
           "zerolinecolor": "white",
           "zerolinewidth": 2
          }
         }
        },
        "title": {
         "text": "Estimation de la likelihood"
        },
        "xaxis": {
         "tickfont": {
          "size": 12
         },
         "title": {
          "text": "Theta"
         }
        },
        "yaxis": {
         "range": [
          -300,
          500
         ],
         "tickfont": {
          "size": 12
         },
         "title": {
          "text": "Likelihood"
         }
        }
       }
      }
     },
     "metadata": {},
     "output_type": "display_data"
    }
   ],
   "source": [
    "Code.plot_likelihood(r, x, noised_A, noised_b, theta_true, n_simulations, \"all\")"
   ]
  },
  {
   "cell_type": "markdown",
   "metadata": {},
   "source": [
    "On fait de même pour le gradient : "
   ]
  },
  {
   "cell_type": "code",
   "execution_count": null,
   "metadata": {},
   "outputs": [
    {
     "data": {
      "application/vnd.plotly.v1+json": {
       "config": {
        "plotlyServerURL": "https://plot.ly"
       },
       "data": [
        {
         "line": {
          "color": "red"
         },
         "mode": "lines",
         "name": "True Gradient",
         "type": "scatter",
         "x": [
          -5.51670171554442,
          -5.347210190120691,
          -5.177718664696962,
          -5.008227139273233,
          -4.838735613849504,
          -4.669244088425776,
          -4.499752563002047,
          -4.3302610375783175,
          -4.160769512154589,
          -3.9912779867308603,
          -3.8217864613071315,
          -3.6522949358834027,
          -3.482803410459674,
          -3.313311885035945,
          -3.1438203596122163,
          -2.9743288341884875,
          -2.8048373087647587,
          -2.63534578334103,
          -2.465854257917301,
          -2.2963627324935723,
          -2.1268712070698435,
          -1.9573796816461146,
          -1.7878881562223858,
          -1.618396630798657,
          -1.4489051053749282,
          -1.2794135799511999,
          -1.1099220545274706,
          -0.9404305291037414,
          -0.770939003680013,
          -0.6014474782562846,
          -0.4319559528325554,
          -0.26246442740882614,
          -0.09297290198509778,
          0.07651862343863058,
          0.24601014886235983,
          0.4155016742860891,
          0.5849931997098174,
          0.7544847251335458,
          0.9239762505572751,
          1.0934677759810043,
          1.2629593014047327,
          1.432450826828461,
          1.6019423522521903,
          1.7714338776759195,
          1.940925403099648,
          2.1104169285233763,
          2.2799084539471055,
          2.4493999793708348,
          2.618891504794563,
          2.7883830302182915,
          2.95787455564202,
          3.12736608106575,
          3.2968576064894783,
          3.4663491319132067,
          3.635840657336937,
          3.805332182760665,
          3.9748237081843936,
          4.144315233608122,
          4.31380675903185,
          4.48329828445558
         ],
         "y": [
          -2.4941979396625067,
          -2.4094521769506425,
          -2.324706414238778,
          -2.2399606515269133,
          -2.155214888815049,
          -2.070469126103185,
          -1.98572336339132,
          -1.9009776006794554,
          -1.8162318379675912,
          -1.7314860752557268,
          -1.6467403125438624,
          -1.561994549831998,
          -1.4772487871201336,
          -1.3925030244082692,
          -1.3077572616964048,
          -1.2230114989845404,
          -1.138265736272676,
          -1.0535199735608116,
          -0.9687742108489472,
          -0.8840284481370828,
          -0.7992826854252184,
          -0.714536922713354,
          -0.6297911600014896,
          -0.5450453972896252,
          -0.46029963457776085,
          -0.37555387186589667,
          -0.29080810915403205,
          -0.20606234644216742,
          -0.12131658373030324,
          -0.03657082101843906,
          0.048174941693425566,
          0.1329207044052902,
          0.21766646711715437,
          0.30241222982901855,
          0.3871579925408832,
          0.4719037552527478,
          0.556649517964612,
          0.6413952806764762,
          0.7261410433883408,
          0.8108868061002055,
          0.8956325688120697,
          0.9803783315239338,
          1.0651240942357985,
          1.149869856947663,
          1.2346156196595273,
          1.3193613823713914,
          1.404107145083256,
          1.4888529077951207,
          1.5735986705069849,
          1.658344433218849,
          1.7430901959307132,
          1.8278359586425783,
          1.9125817213544425,
          1.9973274840663067,
          2.0820732467781715,
          2.1668190094900357,
          2.2515647722019,
          2.336310534913764,
          2.4210562976256282,
          2.5058020603374933
         ]
        },
        {
         "marker": {
          "color": "purple",
          "symbol": "x"
         },
         "mode": "markers",
         "name": "all",
         "type": "scatter",
         "x": [
          -5.51670171554442,
          -5.347210190120691,
          -5.177718664696962,
          -5.008227139273233,
          -4.838735613849504,
          -4.669244088425776,
          -4.499752563002047,
          -4.3302610375783175,
          -4.160769512154589,
          -3.9912779867308603,
          -3.8217864613071315,
          -3.6522949358834027,
          -3.482803410459674,
          -3.313311885035945,
          -3.1438203596122163,
          -2.9743288341884875,
          -2.8048373087647587,
          -2.63534578334103,
          -2.465854257917301,
          -2.2963627324935723,
          -2.1268712070698435,
          -1.9573796816461146,
          -1.7878881562223858,
          -1.618396630798657,
          -1.4489051053749282,
          -1.2794135799511999,
          -1.1099220545274706,
          -0.9404305291037414,
          -0.770939003680013,
          -0.6014474782562846,
          -0.4319559528325554,
          -0.26246442740882614,
          -0.09297290198509778,
          0.07651862343863058,
          0.24601014886235983,
          0.4155016742860891,
          0.5849931997098174,
          0.7544847251335458,
          0.9239762505572751,
          1.0934677759810043,
          1.2629593014047327,
          1.432450826828461,
          1.6019423522521903,
          1.7714338776759195,
          1.940925403099648,
          2.1104169285233763,
          2.2799084539471055,
          2.4493999793708348,
          2.618891504794563,
          2.7883830302182915,
          2.95787455564202,
          3.12736608106575,
          3.2968576064894783,
          3.4663491319132067,
          3.635840657336937,
          3.805332182760665,
          3.9748237081843936,
          4.144315233608122,
          4.31380675903185,
          4.48329828445558
         ],
         "y": [
          -13.267747129406386,
          -0.862678361968932,
          -6.182814390104852,
          18.718099842766364,
          5.4822534400682486,
          -27.525488728492803,
          5.397732406295319,
          11.191524122463647,
          21.85590334235323,
          10.965967549987155,
          -17.432201705819892,
          -25.264828167055683,
          -10.2636932939171,
          32.53459196960776,
          -1.1214799526795787,
          -21.40588637295221,
          3.7025086257565505,
          2.3962556717743837,
          23.251638882244094,
          -9.138641898283538,
          -10.3557219200908,
          55.2023247925124,
          -3.653710406024558,
          -48.027263414650946,
          -2.59842884148577,
          -5.8993463926785665,
          -4.823139496002554,
          259.92887968134613,
          1.988047919426677,
          -261.2870125176377,
          -9.479408805176405,
          -1.7128578636862386,
          4.250012016111924,
          14.123270753063196,
          43.538709651925586,
          -8.558338194010062,
          -46.9584957673129,
          -0.3348691215069266,
          1.0308484037714152,
          62.113393813866196,
          -2.076366248631288,
          -60.9483018328163,
          12.10724170136534,
          14.934673235133545,
          -3.6823490574396374,
          -6.53412154530794,
          -2.52124534202396,
          -4.78536282210851,
          -0.6994478983978496,
          -8.695199537998121,
          -7.18963160140207,
          18.080034252308224,
          13.089905251942412,
          -5.997994373049721,
          5.3073035136043245,
          2.219198816053151,
          -5.180528549914868,
          -12.70553469074116,
          -1.1059999139028065,
          12.638159467796301
         ]
        },
        {
         "marker": {
          "color": "orange",
          "symbol": "x"
         },
         "mode": "markers",
         "name": "all",
         "type": "scatter",
         "x": [
          -5.51670171554442,
          -5.347210190120691,
          -5.177718664696962,
          -5.008227139273233,
          -4.838735613849504,
          -4.669244088425776,
          -4.499752563002047,
          -4.3302610375783175,
          -4.160769512154589,
          -3.9912779867308603,
          -3.8217864613071315,
          -3.6522949358834027,
          -3.482803410459674,
          -3.313311885035945,
          -3.1438203596122163,
          -2.9743288341884875,
          -2.8048373087647587,
          -2.63534578334103,
          -2.465854257917301,
          -2.2963627324935723,
          -2.1268712070698435,
          -1.9573796816461146,
          -1.7878881562223858,
          -1.618396630798657,
          -1.4489051053749282,
          -1.2794135799511999,
          -1.1099220545274706,
          -0.9404305291037414,
          -0.770939003680013,
          -0.6014474782562846,
          -0.4319559528325554,
          -0.26246442740882614,
          -0.09297290198509778,
          0.07651862343863058,
          0.24601014886235983,
          0.4155016742860891,
          0.5849931997098174,
          0.7544847251335458,
          0.9239762505572751,
          1.0934677759810043,
          1.2629593014047327,
          1.432450826828461,
          1.6019423522521903,
          1.7714338776759195,
          1.940925403099648,
          2.1104169285233763,
          2.2799084539471055,
          2.4493999793708348,
          2.618891504794563,
          2.7883830302182915,
          2.95787455564202,
          3.12736608106575,
          3.2968576064894783,
          3.4663491319132067,
          3.635840657336937,
          3.805332182760665,
          3.9748237081843936,
          4.144315233608122,
          4.31380675903185,
          4.48329828445558
         ],
         "y": [
          76.94366681954274,
          59.122802701836775,
          -20.7107258882872,
          -43.23265663631127,
          -11.76840120309231,
          -14.38794030378547,
          -12.222211283482679,
          120.06249251036971,
          0.3797215878925897,
          -123.05955296506744,
          -4.214560429840361,
          5.35102819779604,
          1168.9542678350033,
          -13.426438347505098,
          -1096.6153780558072,
          6.612563519812113,
          -70.66302102518486,
          34.55301406427354,
          27.077160507842308,
          -35.6541126223042,
          -20.881154022373153,
          -3.394918912589759,
          -10.24802160344467,
          2.9011713984591694,
          153.19965133755187,
          -2.0285745643617474,
          -134.66830398871392,
          19.14939244334667,
          -12.399965687062235,
          -10.717792460120705,
          205.43613798188073,
          -0.22314467782406666,
          -195.7274577620945,
          8.906144421729792,
          -9.093775822310292,
          14.327887705781023,
          59.20672401423084,
          -33.93679463737999,
          -63.62277897690307,
          3.973555973106997,
          -8.550372768058907,
          17.173491513986463,
          33.165498935031195,
          9.752593547174158,
          -6.086867709318952,
          10.142231492513773,
          14.208178341331703,
          -27.01120496232393,
          -31.336142594972117,
          4.015632239789554,
          12.18984862655121,
          -14.449426603139685,
          8.709523285839452,
          -1.1767686875239747,
          -14.572708836928058,
          185.18913601580442,
          81.86371120165794,
          -178.18414094843632,
          -78.04530837841796,
          2.1708612223711463
         ]
        },
        {
         "marker": {
          "color": "green",
          "symbol": "x"
         },
         "mode": "markers",
         "name": "all",
         "type": "scatter",
         "x": [
          -5.51670171554442,
          -5.347210190120691,
          -5.177718664696962,
          -5.008227139273233,
          -4.838735613849504,
          -4.669244088425776,
          -4.499752563002047,
          -4.3302610375783175,
          -4.160769512154589,
          -3.9912779867308603,
          -3.8217864613071315,
          -3.6522949358834027,
          -3.482803410459674,
          -3.313311885035945,
          -3.1438203596122163,
          -2.9743288341884875,
          -2.8048373087647587,
          -2.63534578334103,
          -2.465854257917301,
          -2.2963627324935723,
          -2.1268712070698435,
          -1.9573796816461146,
          -1.7878881562223858,
          -1.618396630798657,
          -1.4489051053749282,
          -1.2794135799511999,
          -1.1099220545274706,
          -0.9404305291037414,
          -0.770939003680013,
          -0.6014474782562846,
          -0.4319559528325554,
          -0.26246442740882614,
          -0.09297290198509778,
          0.07651862343863058,
          0.24601014886235983,
          0.4155016742860891,
          0.5849931997098174,
          0.7544847251335458,
          0.9239762505572751,
          1.0934677759810043,
          1.2629593014047327,
          1.432450826828461,
          1.6019423522521903,
          1.7714338776759195,
          1.940925403099648,
          2.1104169285233763,
          2.2799084539471055,
          2.4493999793708348,
          2.618891504794563,
          2.7883830302182915,
          2.95787455564202,
          3.12736608106575,
          3.2968576064894783,
          3.4663491319132067,
          3.635840657336937,
          3.805332182760665,
          3.9748237081843936,
          4.144315233608122,
          4.31380675903185,
          4.48329828445558
         ],
         "y": [
          -5.319494007176127,
          -9.012044827581349,
          -2.65179508302235,
          -1.2766818512840246,
          0.8436766655472923,
          12.07135639740298,
          -6.210201982031975,
          58.69923486963245,
          2.867860845930295,
          -70.22494645171022,
          3.24983473884177,
          -1.0446907655205848,
          -6.735046431028394,
          -0.20142183732400554,
          28.586141522744825,
          -2.1049008062826147,
          -28.592609555532007,
          10.786192969465503,
          11.82995910726595,
          -9.282034216603023,
          -6.338237819876213,
          215.76454077997022,
          30.727748054298644,
          -215.515882034906,
          -35.403902237571714,
          6.062284749681311,
          18.2696514752233,
          -10.871613058777143,
          -17.618452634282562,
          2.4614319420077777,
          0.43036320761183333,
          1.064133051715345,
          0.27462131423700953,
          12.117803952778829,
          14.829960188279799,
          250.26028830491265,
          -10.696670430676306,
          -262.7959706854483,
          24.858308189042404,
          5.364460561938955,
          -32.28750079827438,
          13.97563994870076,
          48.76539077830469,
          -0.8954022793909928,
          -40.888941502005096,
          10.85467177050566,
          -5.273813647079265,
          -26.793810362149202,
          -1.3209912930598762,
          0.733329384034505,
          3.241386014281062,
          -2.3809137259767397,
          -6.115751231832974,
          -2.8972364675234417,
          26.963341275667688,
          7.493718352732685,
          -20.57961847545232,
          8.125988486396125,
          0.7908032017089681,
          -14.763519395453734
         ]
        },
        {
         "marker": {
          "color": "yellow",
          "symbol": "x"
         },
         "mode": "markers",
         "name": "all",
         "type": "scatter",
         "x": [
          -5.51670171554442,
          -5.347210190120691,
          -5.177718664696962,
          -5.008227139273233,
          -4.838735613849504,
          -4.669244088425776,
          -4.499752563002047,
          -4.3302610375783175,
          -4.160769512154589,
          -3.9912779867308603,
          -3.8217864613071315,
          -3.6522949358834027,
          -3.482803410459674,
          -3.313311885035945,
          -3.1438203596122163,
          -2.9743288341884875,
          -2.8048373087647587,
          -2.63534578334103,
          -2.465854257917301,
          -2.2963627324935723,
          -2.1268712070698435,
          -1.9573796816461146,
          -1.7878881562223858,
          -1.618396630798657,
          -1.4489051053749282,
          -1.2794135799511999,
          -1.1099220545274706,
          -0.9404305291037414,
          -0.770939003680013,
          -0.6014474782562846,
          -0.4319559528325554,
          -0.26246442740882614,
          -0.09297290198509778,
          0.07651862343863058,
          0.24601014886235983,
          0.4155016742860891,
          0.5849931997098174,
          0.7544847251335458,
          0.9239762505572751,
          1.0934677759810043,
          1.2629593014047327,
          1.432450826828461,
          1.6019423522521903,
          1.7714338776759195,
          1.940925403099648,
          2.1104169285233763,
          2.2799084539471055,
          2.4493999793708348,
          2.618891504794563,
          2.7883830302182915,
          2.95787455564202,
          3.12736608106575,
          3.2968576064894783,
          3.4663491319132067,
          3.635840657336937,
          3.805332182760665,
          3.9748237081843936,
          4.144315233608122,
          4.31380675903185,
          4.48329828445558
         ],
         "y": [
          0.3743953254603152,
          -0.2762283817551321,
          -0.12700503900491356,
          0.3265558527575365,
          -0.5737926036225929,
          -0.2235746504979943,
          0.5832662720027031,
          0.42996954373091967,
          -0.8552255346653936,
          -0.5795294459912412,
          0.48996823041518667,
          0.49177419616815143,
          -0.3922585129979552,
          -0.29310375555505175,
          0.2491883393133918,
          -0.2831141408993574,
          0.3728110812585044,
          -0.12353416194576994,
          -0.6026974508648237,
          0.04935408467497382,
          0.5586555355458103,
          0.22717302461235533,
          -0.004786931979737119,
          -0.4133497316653063,
          -0.04780378749791225,
          0.7054331903525366,
          0.08704274384187727,
          -0.2700957912082629,
          -1.2800390974438614,
          -0.3761761378467554,
          0.7904258623675702,
          -0.009684098312646938,
          0.0766019167683396,
          -0.11990675014241958,
          0.9331164369702378,
          0.7966640726453136,
          -0.7255612134916731,
          0.01340038539083821,
          0.199659229145567,
          -0.6766362743196339,
          -0.6912740342882131,
          0.3319459323305267,
          0.312205481200337,
          0.11673782154639412,
          -0.1549461524911635,
          -0.7846547511850872,
          0.8172493851521523,
          -0.03215468188949444,
          0.03457433811769306,
          0.38066594066684445,
          -0.3117620408366122,
          0.5294106962055025,
          -0.19489648419597927,
          0.28371967742795334,
          -0.3870334786793279,
          -0.6688256732245037,
          0.6732688702876715,
          -0.3628360959158101,
          -0.36602694095695654,
          0.9214443718893398
         ]
        }
       ],
       "layout": {
        "legend": {
         "font": {
          "size": 12
         },
         "traceorder": "normal",
         "x": 0,
         "y": 1
        },
        "shapes": [
         {
          "line": {
           "color": "black",
           "dash": "dash",
           "width": 2
          },
          "name": "theta=-0.5167017155444199",
          "type": "line",
          "x0": -0.5167017155444199,
          "x1": -0.5167017155444199,
          "y0": -1096.6153780558072,
          "y1": 1168.9542678350033
         }
        ],
        "showlegend": true,
        "template": {
         "data": {
          "bar": [
           {
            "error_x": {
             "color": "#2a3f5f"
            },
            "error_y": {
             "color": "#2a3f5f"
            },
            "marker": {
             "line": {
              "color": "#E5ECF6",
              "width": 0.5
             },
             "pattern": {
              "fillmode": "overlay",
              "size": 10,
              "solidity": 0.2
             }
            },
            "type": "bar"
           }
          ],
          "barpolar": [
           {
            "marker": {
             "line": {
              "color": "#E5ECF6",
              "width": 0.5
             },
             "pattern": {
              "fillmode": "overlay",
              "size": 10,
              "solidity": 0.2
             }
            },
            "type": "barpolar"
           }
          ],
          "carpet": [
           {
            "aaxis": {
             "endlinecolor": "#2a3f5f",
             "gridcolor": "white",
             "linecolor": "white",
             "minorgridcolor": "white",
             "startlinecolor": "#2a3f5f"
            },
            "baxis": {
             "endlinecolor": "#2a3f5f",
             "gridcolor": "white",
             "linecolor": "white",
             "minorgridcolor": "white",
             "startlinecolor": "#2a3f5f"
            },
            "type": "carpet"
           }
          ],
          "choropleth": [
           {
            "colorbar": {
             "outlinewidth": 0,
             "ticks": ""
            },
            "type": "choropleth"
           }
          ],
          "contour": [
           {
            "colorbar": {
             "outlinewidth": 0,
             "ticks": ""
            },
            "colorscale": [
             [
              0,
              "#0d0887"
             ],
             [
              0.1111111111111111,
              "#46039f"
             ],
             [
              0.2222222222222222,
              "#7201a8"
             ],
             [
              0.3333333333333333,
              "#9c179e"
             ],
             [
              0.4444444444444444,
              "#bd3786"
             ],
             [
              0.5555555555555556,
              "#d8576b"
             ],
             [
              0.6666666666666666,
              "#ed7953"
             ],
             [
              0.7777777777777778,
              "#fb9f3a"
             ],
             [
              0.8888888888888888,
              "#fdca26"
             ],
             [
              1,
              "#f0f921"
             ]
            ],
            "type": "contour"
           }
          ],
          "contourcarpet": [
           {
            "colorbar": {
             "outlinewidth": 0,
             "ticks": ""
            },
            "type": "contourcarpet"
           }
          ],
          "heatmap": [
           {
            "colorbar": {
             "outlinewidth": 0,
             "ticks": ""
            },
            "colorscale": [
             [
              0,
              "#0d0887"
             ],
             [
              0.1111111111111111,
              "#46039f"
             ],
             [
              0.2222222222222222,
              "#7201a8"
             ],
             [
              0.3333333333333333,
              "#9c179e"
             ],
             [
              0.4444444444444444,
              "#bd3786"
             ],
             [
              0.5555555555555556,
              "#d8576b"
             ],
             [
              0.6666666666666666,
              "#ed7953"
             ],
             [
              0.7777777777777778,
              "#fb9f3a"
             ],
             [
              0.8888888888888888,
              "#fdca26"
             ],
             [
              1,
              "#f0f921"
             ]
            ],
            "type": "heatmap"
           }
          ],
          "heatmapgl": [
           {
            "colorbar": {
             "outlinewidth": 0,
             "ticks": ""
            },
            "colorscale": [
             [
              0,
              "#0d0887"
             ],
             [
              0.1111111111111111,
              "#46039f"
             ],
             [
              0.2222222222222222,
              "#7201a8"
             ],
             [
              0.3333333333333333,
              "#9c179e"
             ],
             [
              0.4444444444444444,
              "#bd3786"
             ],
             [
              0.5555555555555556,
              "#d8576b"
             ],
             [
              0.6666666666666666,
              "#ed7953"
             ],
             [
              0.7777777777777778,
              "#fb9f3a"
             ],
             [
              0.8888888888888888,
              "#fdca26"
             ],
             [
              1,
              "#f0f921"
             ]
            ],
            "type": "heatmapgl"
           }
          ],
          "histogram": [
           {
            "marker": {
             "pattern": {
              "fillmode": "overlay",
              "size": 10,
              "solidity": 0.2
             }
            },
            "type": "histogram"
           }
          ],
          "histogram2d": [
           {
            "colorbar": {
             "outlinewidth": 0,
             "ticks": ""
            },
            "colorscale": [
             [
              0,
              "#0d0887"
             ],
             [
              0.1111111111111111,
              "#46039f"
             ],
             [
              0.2222222222222222,
              "#7201a8"
             ],
             [
              0.3333333333333333,
              "#9c179e"
             ],
             [
              0.4444444444444444,
              "#bd3786"
             ],
             [
              0.5555555555555556,
              "#d8576b"
             ],
             [
              0.6666666666666666,
              "#ed7953"
             ],
             [
              0.7777777777777778,
              "#fb9f3a"
             ],
             [
              0.8888888888888888,
              "#fdca26"
             ],
             [
              1,
              "#f0f921"
             ]
            ],
            "type": "histogram2d"
           }
          ],
          "histogram2dcontour": [
           {
            "colorbar": {
             "outlinewidth": 0,
             "ticks": ""
            },
            "colorscale": [
             [
              0,
              "#0d0887"
             ],
             [
              0.1111111111111111,
              "#46039f"
             ],
             [
              0.2222222222222222,
              "#7201a8"
             ],
             [
              0.3333333333333333,
              "#9c179e"
             ],
             [
              0.4444444444444444,
              "#bd3786"
             ],
             [
              0.5555555555555556,
              "#d8576b"
             ],
             [
              0.6666666666666666,
              "#ed7953"
             ],
             [
              0.7777777777777778,
              "#fb9f3a"
             ],
             [
              0.8888888888888888,
              "#fdca26"
             ],
             [
              1,
              "#f0f921"
             ]
            ],
            "type": "histogram2dcontour"
           }
          ],
          "mesh3d": [
           {
            "colorbar": {
             "outlinewidth": 0,
             "ticks": ""
            },
            "type": "mesh3d"
           }
          ],
          "parcoords": [
           {
            "line": {
             "colorbar": {
              "outlinewidth": 0,
              "ticks": ""
             }
            },
            "type": "parcoords"
           }
          ],
          "pie": [
           {
            "automargin": true,
            "type": "pie"
           }
          ],
          "scatter": [
           {
            "fillpattern": {
             "fillmode": "overlay",
             "size": 10,
             "solidity": 0.2
            },
            "type": "scatter"
           }
          ],
          "scatter3d": [
           {
            "line": {
             "colorbar": {
              "outlinewidth": 0,
              "ticks": ""
             }
            },
            "marker": {
             "colorbar": {
              "outlinewidth": 0,
              "ticks": ""
             }
            },
            "type": "scatter3d"
           }
          ],
          "scattercarpet": [
           {
            "marker": {
             "colorbar": {
              "outlinewidth": 0,
              "ticks": ""
             }
            },
            "type": "scattercarpet"
           }
          ],
          "scattergeo": [
           {
            "marker": {
             "colorbar": {
              "outlinewidth": 0,
              "ticks": ""
             }
            },
            "type": "scattergeo"
           }
          ],
          "scattergl": [
           {
            "marker": {
             "colorbar": {
              "outlinewidth": 0,
              "ticks": ""
             }
            },
            "type": "scattergl"
           }
          ],
          "scattermapbox": [
           {
            "marker": {
             "colorbar": {
              "outlinewidth": 0,
              "ticks": ""
             }
            },
            "type": "scattermapbox"
           }
          ],
          "scatterpolar": [
           {
            "marker": {
             "colorbar": {
              "outlinewidth": 0,
              "ticks": ""
             }
            },
            "type": "scatterpolar"
           }
          ],
          "scatterpolargl": [
           {
            "marker": {
             "colorbar": {
              "outlinewidth": 0,
              "ticks": ""
             }
            },
            "type": "scatterpolargl"
           }
          ],
          "scatterternary": [
           {
            "marker": {
             "colorbar": {
              "outlinewidth": 0,
              "ticks": ""
             }
            },
            "type": "scatterternary"
           }
          ],
          "surface": [
           {
            "colorbar": {
             "outlinewidth": 0,
             "ticks": ""
            },
            "colorscale": [
             [
              0,
              "#0d0887"
             ],
             [
              0.1111111111111111,
              "#46039f"
             ],
             [
              0.2222222222222222,
              "#7201a8"
             ],
             [
              0.3333333333333333,
              "#9c179e"
             ],
             [
              0.4444444444444444,
              "#bd3786"
             ],
             [
              0.5555555555555556,
              "#d8576b"
             ],
             [
              0.6666666666666666,
              "#ed7953"
             ],
             [
              0.7777777777777778,
              "#fb9f3a"
             ],
             [
              0.8888888888888888,
              "#fdca26"
             ],
             [
              1,
              "#f0f921"
             ]
            ],
            "type": "surface"
           }
          ],
          "table": [
           {
            "cells": {
             "fill": {
              "color": "#EBF0F8"
             },
             "line": {
              "color": "white"
             }
            },
            "header": {
             "fill": {
              "color": "#C8D4E3"
             },
             "line": {
              "color": "white"
             }
            },
            "type": "table"
           }
          ]
         },
         "layout": {
          "annotationdefaults": {
           "arrowcolor": "#2a3f5f",
           "arrowhead": 0,
           "arrowwidth": 1
          },
          "autotypenumbers": "strict",
          "coloraxis": {
           "colorbar": {
            "outlinewidth": 0,
            "ticks": ""
           }
          },
          "colorscale": {
           "diverging": [
            [
             0,
             "#8e0152"
            ],
            [
             0.1,
             "#c51b7d"
            ],
            [
             0.2,
             "#de77ae"
            ],
            [
             0.3,
             "#f1b6da"
            ],
            [
             0.4,
             "#fde0ef"
            ],
            [
             0.5,
             "#f7f7f7"
            ],
            [
             0.6,
             "#e6f5d0"
            ],
            [
             0.7,
             "#b8e186"
            ],
            [
             0.8,
             "#7fbc41"
            ],
            [
             0.9,
             "#4d9221"
            ],
            [
             1,
             "#276419"
            ]
           ],
           "sequential": [
            [
             0,
             "#0d0887"
            ],
            [
             0.1111111111111111,
             "#46039f"
            ],
            [
             0.2222222222222222,
             "#7201a8"
            ],
            [
             0.3333333333333333,
             "#9c179e"
            ],
            [
             0.4444444444444444,
             "#bd3786"
            ],
            [
             0.5555555555555556,
             "#d8576b"
            ],
            [
             0.6666666666666666,
             "#ed7953"
            ],
            [
             0.7777777777777778,
             "#fb9f3a"
            ],
            [
             0.8888888888888888,
             "#fdca26"
            ],
            [
             1,
             "#f0f921"
            ]
           ],
           "sequentialminus": [
            [
             0,
             "#0d0887"
            ],
            [
             0.1111111111111111,
             "#46039f"
            ],
            [
             0.2222222222222222,
             "#7201a8"
            ],
            [
             0.3333333333333333,
             "#9c179e"
            ],
            [
             0.4444444444444444,
             "#bd3786"
            ],
            [
             0.5555555555555556,
             "#d8576b"
            ],
            [
             0.6666666666666666,
             "#ed7953"
            ],
            [
             0.7777777777777778,
             "#fb9f3a"
            ],
            [
             0.8888888888888888,
             "#fdca26"
            ],
            [
             1,
             "#f0f921"
            ]
           ]
          },
          "colorway": [
           "#636efa",
           "#EF553B",
           "#00cc96",
           "#ab63fa",
           "#FFA15A",
           "#19d3f3",
           "#FF6692",
           "#B6E880",
           "#FF97FF",
           "#FECB52"
          ],
          "font": {
           "color": "#2a3f5f"
          },
          "geo": {
           "bgcolor": "white",
           "lakecolor": "white",
           "landcolor": "#E5ECF6",
           "showlakes": true,
           "showland": true,
           "subunitcolor": "white"
          },
          "hoverlabel": {
           "align": "left"
          },
          "hovermode": "closest",
          "mapbox": {
           "style": "light"
          },
          "paper_bgcolor": "white",
          "plot_bgcolor": "#E5ECF6",
          "polar": {
           "angularaxis": {
            "gridcolor": "white",
            "linecolor": "white",
            "ticks": ""
           },
           "bgcolor": "#E5ECF6",
           "radialaxis": {
            "gridcolor": "white",
            "linecolor": "white",
            "ticks": ""
           }
          },
          "scene": {
           "xaxis": {
            "backgroundcolor": "#E5ECF6",
            "gridcolor": "white",
            "gridwidth": 2,
            "linecolor": "white",
            "showbackground": true,
            "ticks": "",
            "zerolinecolor": "white"
           },
           "yaxis": {
            "backgroundcolor": "#E5ECF6",
            "gridcolor": "white",
            "gridwidth": 2,
            "linecolor": "white",
            "showbackground": true,
            "ticks": "",
            "zerolinecolor": "white"
           },
           "zaxis": {
            "backgroundcolor": "#E5ECF6",
            "gridcolor": "white",
            "gridwidth": 2,
            "linecolor": "white",
            "showbackground": true,
            "ticks": "",
            "zerolinecolor": "white"
           }
          },
          "shapedefaults": {
           "line": {
            "color": "#2a3f5f"
           }
          },
          "ternary": {
           "aaxis": {
            "gridcolor": "white",
            "linecolor": "white",
            "ticks": ""
           },
           "baxis": {
            "gridcolor": "white",
            "linecolor": "white",
            "ticks": ""
           },
           "bgcolor": "#E5ECF6",
           "caxis": {
            "gridcolor": "white",
            "linecolor": "white",
            "ticks": ""
           }
          },
          "title": {
           "x": 0.05
          },
          "xaxis": {
           "automargin": true,
           "gridcolor": "white",
           "linecolor": "white",
           "ticks": "",
           "title": {
            "standoff": 15
           },
           "zerolinecolor": "white",
           "zerolinewidth": 2
          },
          "yaxis": {
           "automargin": true,
           "gridcolor": "white",
           "linecolor": "white",
           "ticks": "",
           "title": {
            "standoff": 15
           },
           "zerolinecolor": "white",
           "zerolinewidth": 2
          }
         }
        },
        "title": {
         "text": "Comparaison des estimateurs du gradient"
        },
        "xaxis": {
         "title": {
          "text": "Theta"
         }
        },
        "yaxis": {
         "title": {
          "text": "Gradient"
         }
        }
       }
      }
     },
     "metadata": {},
     "output_type": "display_data"
    }
   ],
   "source": [
    "Code.plot_gradient(r, x, noised_A, noised_b, theta_true, n_simulations, 'all')"
   ]
  },
  {
   "cell_type": "markdown",
   "metadata": {},
   "source": [
    "## <span style=\"color:green\">  **Partie 2. Analyse du Biais et de la Variance des estimateurs**  </span>\n",
    "\n",
    "Dans cette partie, nous allons comparer les différents estimateurs de la vraisemblance et du gradient en termes de Biais et de Variance (Figure 2 dans la Section de 9 de [l'article](https://proceedings.mlr.press/v130/shi21d.html)).\n",
    "\n",
    "Le biais d'un estimateur de la vraisemblance $ \\ell({\\theta})$ est donné par : ${\\displaystyle {\\text{Biais}}({\\hat {\\theta }})\\equiv \\mathbb {E} [{\\hat {\\theta }}]-\\theta }$.\n",
    "\n",
    "La variance d'un estimateur de la vraisemblance $ \\ell({\\theta})$ est donné par : $ \\text{Var}(\\ell(\\hat{\\theta})) = \\mathbb{E}\\left[(\\ell(\\hat{\\theta}) - \\mathbb{E}[\\ell(\\hat{\\theta})])^2 \\right]$\n",
    "\n",
    "Traçons le Biais au carré de chacun des estimateurs en fonctions de l'espérance du coût computationnel ?? "
   ]
  },
  {
   "cell_type": "code",
   "execution_count": 21,
   "metadata": {},
   "outputs": [
    {
     "data": {
      "application/vnd.plotly.v1+json": {
       "config": {
        "plotlyServerURL": "https://plot.ly"
       },
       "data": [
        {
         "line": {
          "color": "green"
         },
         "mode": "lines",
         "name": "SUMO",
         "type": "scatter",
         "x": [
          0.2,
          0.24210526315789474,
          0.28421052631578947,
          0.3263157894736842,
          0.368421052631579,
          0.4105263157894737,
          0.45263157894736844,
          0.49473684210526314,
          0.5368421052631579,
          0.5789473684210527,
          0.6210526315789473,
          0.6631578947368422,
          0.7052631578947368,
          0.7473684210526317,
          0.7894736842105263,
          0.831578947368421,
          0.8736842105263158,
          0.9157894736842105,
          0.9578947368421054,
          1
         ],
         "y": [
          56.25231804622708,
          69.24104550705853,
          54.31295054409872,
          51.659197088556276,
          45.290383935400875,
          40.05974049418385,
          73.61928524937879,
          37.84467582482625,
          48.97733975994358,
          33.52147103574674,
          49.91456201402674,
          51.672099629993184,
          51.67684948519009,
          49.41360154466975,
          46.49991867690027,
          50.70899681260152,
          60.50968786986249,
          49.91001240388276,
          51.43380182831086,
          46.30497404923626
         ]
        },
        {
         "line": {
          "color": "purple"
         },
         "mode": "lines",
         "name": "ML_SS",
         "type": "scatter",
         "x": [
          0.2,
          0.24210526315789474,
          0.28421052631578947,
          0.3263157894736842,
          0.368421052631579,
          0.4105263157894737,
          0.45263157894736844,
          0.49473684210526314,
          0.5368421052631579,
          0.5789473684210527,
          0.6210526315789473,
          0.6631578947368422,
          0.7052631578947368,
          0.7473684210526317,
          0.7894736842105263,
          0.831578947368421,
          0.8736842105263158,
          0.9157894736842105,
          0.9578947368421054,
          1
         ],
         "y": [
          52.22197314677247,
          52.305142353375444,
          49.21605471253864,
          47.3241616868694,
          37.90327097601292,
          42.192177836118525,
          48.61414223590239,
          47.754606830123734,
          45.00434588945052,
          40.121035712076136,
          45.96901019655873,
          47.502535991212206,
          47.770401079997164,
          45.580949819206865,
          41.13680207013419,
          46.79938380152141,
          43.71982856599427,
          42.894984340027534,
          46.22662184580478,
          40.76792024935298
         ]
        },
        {
         "line": {
          "color": "orange"
         },
         "mode": "lines",
         "name": "ML_RR",
         "type": "scatter",
         "x": [
          0.2,
          0.24210526315789474,
          0.28421052631578947,
          0.3263157894736842,
          0.368421052631579,
          0.4105263157894737,
          0.45263157894736844,
          0.49473684210526314,
          0.5368421052631579,
          0.5789473684210527,
          0.6210526315789473,
          0.6631578947368422,
          0.7052631578947368,
          0.7473684210526317,
          0.7894736842105263,
          0.831578947368421,
          0.8736842105263158,
          0.9157894736842105,
          0.9578947368421054,
          1
         ],
         "y": [
          28.170092995375388,
          44.24028992592329,
          41.62594236573825,
          40.683369696399886,
          45.32162366010093,
          52.53520191303953,
          35.62754024473485,
          43.02691842178645,
          47.545863761756166,
          44.388381455636065,
          44.50751139450464,
          33.4072299402591,
          30.953762621539354,
          48.091249772213246,
          41.494262876250296,
          41.03777311874202,
          42.112423127629555,
          43.03054311918539,
          54.4674968677035,
          50.78234960746811
         ]
        },
        {
         "line": {
          "color": "yellow"
         },
         "mode": "lines",
         "name": "IWAE",
         "type": "scatter",
         "x": [
          0.2,
          0.24210526315789474,
          0.28421052631578947,
          0.3263157894736842,
          0.368421052631579,
          0.4105263157894737,
          0.45263157894736844,
          0.49473684210526314,
          0.5368421052631579,
          0.5789473684210527,
          0.6210526315789473,
          0.6631578947368422,
          0.7052631578947368,
          0.7473684210526317,
          0.7894736842105263,
          0.831578947368421,
          0.8736842105263158,
          0.9157894736842105,
          0.9578947368421054,
          1
         ],
         "y": [
          42.534146555778186,
          39.10116884917149,
          44.675485672866664,
          41.25171631588666,
          50.69265276638835,
          50.18240154818477,
          52.66013587479059,
          38.82610841590105,
          40.9569200388208,
          84.17879546060396,
          62.14823358856412,
          51.65060229299099,
          63.55791377598836,
          66.64493074352414,
          41.21695792547673,
          47.78530360367383,
          61.77573813754698,
          61.074850378341665,
          59.527980317663314,
          61.551452188650195
         ]
        }
       ],
       "layout": {
        "legend": {
         "font": {
          "size": 12
         },
         "traceorder": "normal",
         "x": 0,
         "y": 1
        },
        "showlegend": true,
        "template": {
         "data": {
          "bar": [
           {
            "error_x": {
             "color": "#2a3f5f"
            },
            "error_y": {
             "color": "#2a3f5f"
            },
            "marker": {
             "line": {
              "color": "#E5ECF6",
              "width": 0.5
             },
             "pattern": {
              "fillmode": "overlay",
              "size": 10,
              "solidity": 0.2
             }
            },
            "type": "bar"
           }
          ],
          "barpolar": [
           {
            "marker": {
             "line": {
              "color": "#E5ECF6",
              "width": 0.5
             },
             "pattern": {
              "fillmode": "overlay",
              "size": 10,
              "solidity": 0.2
             }
            },
            "type": "barpolar"
           }
          ],
          "carpet": [
           {
            "aaxis": {
             "endlinecolor": "#2a3f5f",
             "gridcolor": "white",
             "linecolor": "white",
             "minorgridcolor": "white",
             "startlinecolor": "#2a3f5f"
            },
            "baxis": {
             "endlinecolor": "#2a3f5f",
             "gridcolor": "white",
             "linecolor": "white",
             "minorgridcolor": "white",
             "startlinecolor": "#2a3f5f"
            },
            "type": "carpet"
           }
          ],
          "choropleth": [
           {
            "colorbar": {
             "outlinewidth": 0,
             "ticks": ""
            },
            "type": "choropleth"
           }
          ],
          "contour": [
           {
            "colorbar": {
             "outlinewidth": 0,
             "ticks": ""
            },
            "colorscale": [
             [
              0,
              "#0d0887"
             ],
             [
              0.1111111111111111,
              "#46039f"
             ],
             [
              0.2222222222222222,
              "#7201a8"
             ],
             [
              0.3333333333333333,
              "#9c179e"
             ],
             [
              0.4444444444444444,
              "#bd3786"
             ],
             [
              0.5555555555555556,
              "#d8576b"
             ],
             [
              0.6666666666666666,
              "#ed7953"
             ],
             [
              0.7777777777777778,
              "#fb9f3a"
             ],
             [
              0.8888888888888888,
              "#fdca26"
             ],
             [
              1,
              "#f0f921"
             ]
            ],
            "type": "contour"
           }
          ],
          "contourcarpet": [
           {
            "colorbar": {
             "outlinewidth": 0,
             "ticks": ""
            },
            "type": "contourcarpet"
           }
          ],
          "heatmap": [
           {
            "colorbar": {
             "outlinewidth": 0,
             "ticks": ""
            },
            "colorscale": [
             [
              0,
              "#0d0887"
             ],
             [
              0.1111111111111111,
              "#46039f"
             ],
             [
              0.2222222222222222,
              "#7201a8"
             ],
             [
              0.3333333333333333,
              "#9c179e"
             ],
             [
              0.4444444444444444,
              "#bd3786"
             ],
             [
              0.5555555555555556,
              "#d8576b"
             ],
             [
              0.6666666666666666,
              "#ed7953"
             ],
             [
              0.7777777777777778,
              "#fb9f3a"
             ],
             [
              0.8888888888888888,
              "#fdca26"
             ],
             [
              1,
              "#f0f921"
             ]
            ],
            "type": "heatmap"
           }
          ],
          "heatmapgl": [
           {
            "colorbar": {
             "outlinewidth": 0,
             "ticks": ""
            },
            "colorscale": [
             [
              0,
              "#0d0887"
             ],
             [
              0.1111111111111111,
              "#46039f"
             ],
             [
              0.2222222222222222,
              "#7201a8"
             ],
             [
              0.3333333333333333,
              "#9c179e"
             ],
             [
              0.4444444444444444,
              "#bd3786"
             ],
             [
              0.5555555555555556,
              "#d8576b"
             ],
             [
              0.6666666666666666,
              "#ed7953"
             ],
             [
              0.7777777777777778,
              "#fb9f3a"
             ],
             [
              0.8888888888888888,
              "#fdca26"
             ],
             [
              1,
              "#f0f921"
             ]
            ],
            "type": "heatmapgl"
           }
          ],
          "histogram": [
           {
            "marker": {
             "pattern": {
              "fillmode": "overlay",
              "size": 10,
              "solidity": 0.2
             }
            },
            "type": "histogram"
           }
          ],
          "histogram2d": [
           {
            "colorbar": {
             "outlinewidth": 0,
             "ticks": ""
            },
            "colorscale": [
             [
              0,
              "#0d0887"
             ],
             [
              0.1111111111111111,
              "#46039f"
             ],
             [
              0.2222222222222222,
              "#7201a8"
             ],
             [
              0.3333333333333333,
              "#9c179e"
             ],
             [
              0.4444444444444444,
              "#bd3786"
             ],
             [
              0.5555555555555556,
              "#d8576b"
             ],
             [
              0.6666666666666666,
              "#ed7953"
             ],
             [
              0.7777777777777778,
              "#fb9f3a"
             ],
             [
              0.8888888888888888,
              "#fdca26"
             ],
             [
              1,
              "#f0f921"
             ]
            ],
            "type": "histogram2d"
           }
          ],
          "histogram2dcontour": [
           {
            "colorbar": {
             "outlinewidth": 0,
             "ticks": ""
            },
            "colorscale": [
             [
              0,
              "#0d0887"
             ],
             [
              0.1111111111111111,
              "#46039f"
             ],
             [
              0.2222222222222222,
              "#7201a8"
             ],
             [
              0.3333333333333333,
              "#9c179e"
             ],
             [
              0.4444444444444444,
              "#bd3786"
             ],
             [
              0.5555555555555556,
              "#d8576b"
             ],
             [
              0.6666666666666666,
              "#ed7953"
             ],
             [
              0.7777777777777778,
              "#fb9f3a"
             ],
             [
              0.8888888888888888,
              "#fdca26"
             ],
             [
              1,
              "#f0f921"
             ]
            ],
            "type": "histogram2dcontour"
           }
          ],
          "mesh3d": [
           {
            "colorbar": {
             "outlinewidth": 0,
             "ticks": ""
            },
            "type": "mesh3d"
           }
          ],
          "parcoords": [
           {
            "line": {
             "colorbar": {
              "outlinewidth": 0,
              "ticks": ""
             }
            },
            "type": "parcoords"
           }
          ],
          "pie": [
           {
            "automargin": true,
            "type": "pie"
           }
          ],
          "scatter": [
           {
            "fillpattern": {
             "fillmode": "overlay",
             "size": 10,
             "solidity": 0.2
            },
            "type": "scatter"
           }
          ],
          "scatter3d": [
           {
            "line": {
             "colorbar": {
              "outlinewidth": 0,
              "ticks": ""
             }
            },
            "marker": {
             "colorbar": {
              "outlinewidth": 0,
              "ticks": ""
             }
            },
            "type": "scatter3d"
           }
          ],
          "scattercarpet": [
           {
            "marker": {
             "colorbar": {
              "outlinewidth": 0,
              "ticks": ""
             }
            },
            "type": "scattercarpet"
           }
          ],
          "scattergeo": [
           {
            "marker": {
             "colorbar": {
              "outlinewidth": 0,
              "ticks": ""
             }
            },
            "type": "scattergeo"
           }
          ],
          "scattergl": [
           {
            "marker": {
             "colorbar": {
              "outlinewidth": 0,
              "ticks": ""
             }
            },
            "type": "scattergl"
           }
          ],
          "scattermapbox": [
           {
            "marker": {
             "colorbar": {
              "outlinewidth": 0,
              "ticks": ""
             }
            },
            "type": "scattermapbox"
           }
          ],
          "scatterpolar": [
           {
            "marker": {
             "colorbar": {
              "outlinewidth": 0,
              "ticks": ""
             }
            },
            "type": "scatterpolar"
           }
          ],
          "scatterpolargl": [
           {
            "marker": {
             "colorbar": {
              "outlinewidth": 0,
              "ticks": ""
             }
            },
            "type": "scatterpolargl"
           }
          ],
          "scatterternary": [
           {
            "marker": {
             "colorbar": {
              "outlinewidth": 0,
              "ticks": ""
             }
            },
            "type": "scatterternary"
           }
          ],
          "surface": [
           {
            "colorbar": {
             "outlinewidth": 0,
             "ticks": ""
            },
            "colorscale": [
             [
              0,
              "#0d0887"
             ],
             [
              0.1111111111111111,
              "#46039f"
             ],
             [
              0.2222222222222222,
              "#7201a8"
             ],
             [
              0.3333333333333333,
              "#9c179e"
             ],
             [
              0.4444444444444444,
              "#bd3786"
             ],
             [
              0.5555555555555556,
              "#d8576b"
             ],
             [
              0.6666666666666666,
              "#ed7953"
             ],
             [
              0.7777777777777778,
              "#fb9f3a"
             ],
             [
              0.8888888888888888,
              "#fdca26"
             ],
             [
              1,
              "#f0f921"
             ]
            ],
            "type": "surface"
           }
          ],
          "table": [
           {
            "cells": {
             "fill": {
              "color": "#EBF0F8"
             },
             "line": {
              "color": "white"
             }
            },
            "header": {
             "fill": {
              "color": "#C8D4E3"
             },
             "line": {
              "color": "white"
             }
            },
            "type": "table"
           }
          ]
         },
         "layout": {
          "annotationdefaults": {
           "arrowcolor": "#2a3f5f",
           "arrowhead": 0,
           "arrowwidth": 1
          },
          "autotypenumbers": "strict",
          "coloraxis": {
           "colorbar": {
            "outlinewidth": 0,
            "ticks": ""
           }
          },
          "colorscale": {
           "diverging": [
            [
             0,
             "#8e0152"
            ],
            [
             0.1,
             "#c51b7d"
            ],
            [
             0.2,
             "#de77ae"
            ],
            [
             0.3,
             "#f1b6da"
            ],
            [
             0.4,
             "#fde0ef"
            ],
            [
             0.5,
             "#f7f7f7"
            ],
            [
             0.6,
             "#e6f5d0"
            ],
            [
             0.7,
             "#b8e186"
            ],
            [
             0.8,
             "#7fbc41"
            ],
            [
             0.9,
             "#4d9221"
            ],
            [
             1,
             "#276419"
            ]
           ],
           "sequential": [
            [
             0,
             "#0d0887"
            ],
            [
             0.1111111111111111,
             "#46039f"
            ],
            [
             0.2222222222222222,
             "#7201a8"
            ],
            [
             0.3333333333333333,
             "#9c179e"
            ],
            [
             0.4444444444444444,
             "#bd3786"
            ],
            [
             0.5555555555555556,
             "#d8576b"
            ],
            [
             0.6666666666666666,
             "#ed7953"
            ],
            [
             0.7777777777777778,
             "#fb9f3a"
            ],
            [
             0.8888888888888888,
             "#fdca26"
            ],
            [
             1,
             "#f0f921"
            ]
           ],
           "sequentialminus": [
            [
             0,
             "#0d0887"
            ],
            [
             0.1111111111111111,
             "#46039f"
            ],
            [
             0.2222222222222222,
             "#7201a8"
            ],
            [
             0.3333333333333333,
             "#9c179e"
            ],
            [
             0.4444444444444444,
             "#bd3786"
            ],
            [
             0.5555555555555556,
             "#d8576b"
            ],
            [
             0.6666666666666666,
             "#ed7953"
            ],
            [
             0.7777777777777778,
             "#fb9f3a"
            ],
            [
             0.8888888888888888,
             "#fdca26"
            ],
            [
             1,
             "#f0f921"
            ]
           ]
          },
          "colorway": [
           "#636efa",
           "#EF553B",
           "#00cc96",
           "#ab63fa",
           "#FFA15A",
           "#19d3f3",
           "#FF6692",
           "#B6E880",
           "#FF97FF",
           "#FECB52"
          ],
          "font": {
           "color": "#2a3f5f"
          },
          "geo": {
           "bgcolor": "white",
           "lakecolor": "white",
           "landcolor": "#E5ECF6",
           "showlakes": true,
           "showland": true,
           "subunitcolor": "white"
          },
          "hoverlabel": {
           "align": "left"
          },
          "hovermode": "closest",
          "mapbox": {
           "style": "light"
          },
          "paper_bgcolor": "white",
          "plot_bgcolor": "#E5ECF6",
          "polar": {
           "angularaxis": {
            "gridcolor": "white",
            "linecolor": "white",
            "ticks": ""
           },
           "bgcolor": "#E5ECF6",
           "radialaxis": {
            "gridcolor": "white",
            "linecolor": "white",
            "ticks": ""
           }
          },
          "scene": {
           "xaxis": {
            "backgroundcolor": "#E5ECF6",
            "gridcolor": "white",
            "gridwidth": 2,
            "linecolor": "white",
            "showbackground": true,
            "ticks": "",
            "zerolinecolor": "white"
           },
           "yaxis": {
            "backgroundcolor": "#E5ECF6",
            "gridcolor": "white",
            "gridwidth": 2,
            "linecolor": "white",
            "showbackground": true,
            "ticks": "",
            "zerolinecolor": "white"
           },
           "zaxis": {
            "backgroundcolor": "#E5ECF6",
            "gridcolor": "white",
            "gridwidth": 2,
            "linecolor": "white",
            "showbackground": true,
            "ticks": "",
            "zerolinecolor": "white"
           }
          },
          "shapedefaults": {
           "line": {
            "color": "#2a3f5f"
           }
          },
          "ternary": {
           "aaxis": {
            "gridcolor": "white",
            "linecolor": "white",
            "ticks": ""
           },
           "baxis": {
            "gridcolor": "white",
            "linecolor": "white",
            "ticks": ""
           },
           "bgcolor": "#E5ECF6",
           "caxis": {
            "gridcolor": "white",
            "linecolor": "white",
            "ticks": ""
           }
          },
          "title": {
           "x": 0.05
          },
          "xaxis": {
           "automargin": true,
           "gridcolor": "white",
           "linecolor": "white",
           "ticks": "",
           "title": {
            "standoff": 15
           },
           "zerolinecolor": "white",
           "zerolinewidth": 2
          },
          "yaxis": {
           "automargin": true,
           "gridcolor": "white",
           "linecolor": "white",
           "ticks": "",
           "title": {
            "standoff": 15
           },
           "zerolinecolor": "white",
           "zerolinewidth": 2
          }
         }
        },
        "title": {
         "text": "Comparaison du biais des estimateurs de la vraisemblance en fonction du nombre de simulations"
        },
        "xaxis": {
         "title": {
          "text": "Nombre de simulations"
         }
        },
        "yaxis": {
         "title": {
          "text": "Biais de l'estimateur"
         }
        }
       }
      }
     },
     "metadata": {},
     "output_type": "display_data"
    }
   ],
   "source": [
    "Code.plot_bias_variance_likelihood(r, x, theta_true, noised_A, noised_b, 1/5, 1, 2)"
   ]
  },
  {
   "cell_type": "code",
   "execution_count": 16,
   "metadata": {},
   "outputs": [
    {
     "name": "stderr",
     "output_type": "stream",
     "text": [
      "/opt/anaconda3/lib/python3.9/site-packages/numpy/core/fromnumeric.py:3474: RuntimeWarning:\n",
      "\n",
      "Mean of empty slice.\n",
      "\n",
      "/opt/anaconda3/lib/python3.9/site-packages/numpy/core/_methods.py:189: RuntimeWarning:\n",
      "\n",
      "invalid value encountered in double_scalars\n",
      "\n"
     ]
    },
    {
     "data": {
      "application/vnd.plotly.v1+json": {
       "config": {
        "plotlyServerURL": "https://plot.ly"
       },
       "data": [
        {
         "line": {
          "color": "green"
         },
         "mode": "lines",
         "name": "SUMO",
         "type": "scatter",
         "x": [
          6,
          11,
          16,
          21,
          26,
          31,
          36,
          41,
          46,
          51,
          56,
          61,
          66,
          71,
          76,
          81,
          86,
          91,
          96
         ],
         "y": [
          null,
          0,
          0,
          0,
          0,
          0,
          0,
          0,
          0,
          0,
          0,
          0,
          0,
          0,
          0,
          0,
          0,
          0,
          0
         ]
        },
        {
         "line": {
          "color": "purple"
         },
         "mode": "lines",
         "name": "ML_SS",
         "type": "scatter",
         "x": [
          6,
          11,
          16,
          21,
          26,
          31,
          36,
          41,
          46,
          51,
          56,
          61,
          66,
          71,
          76,
          81,
          86,
          91,
          96
         ],
         "y": [
          null,
          0,
          0,
          0,
          0,
          0,
          0,
          0,
          0,
          0,
          0,
          0,
          0,
          0,
          0,
          0,
          0,
          0,
          0
         ]
        },
        {
         "line": {
          "color": "orange"
         },
         "mode": "lines",
         "name": "ML_RR",
         "type": "scatter",
         "x": [
          6,
          11,
          16,
          21,
          26,
          31,
          36,
          41,
          46,
          51,
          56,
          61,
          66,
          71,
          76,
          81,
          86,
          91,
          96
         ],
         "y": [
          null,
          0,
          0,
          0,
          0,
          0,
          0,
          0,
          0,
          0,
          0,
          0,
          0,
          0,
          0,
          0,
          0,
          0,
          0
         ]
        },
        {
         "line": {
          "color": "yellow"
         },
         "mode": "lines",
         "name": "IWAE",
         "type": "scatter",
         "x": [
          6,
          11,
          16,
          21,
          26,
          31,
          36,
          41,
          46,
          51,
          56,
          61,
          66,
          71,
          76,
          81,
          86,
          91,
          96
         ],
         "y": [
          null,
          0,
          0,
          0,
          0,
          0,
          0,
          0,
          0,
          0,
          0,
          0,
          0,
          0,
          0,
          0,
          0,
          0,
          0
         ]
        }
       ],
       "layout": {
        "legend": {
         "font": {
          "size": 12
         },
         "traceorder": "normal",
         "x": 0,
         "y": 1
        },
        "showlegend": true,
        "template": {
         "data": {
          "bar": [
           {
            "error_x": {
             "color": "#2a3f5f"
            },
            "error_y": {
             "color": "#2a3f5f"
            },
            "marker": {
             "line": {
              "color": "#E5ECF6",
              "width": 0.5
             },
             "pattern": {
              "fillmode": "overlay",
              "size": 10,
              "solidity": 0.2
             }
            },
            "type": "bar"
           }
          ],
          "barpolar": [
           {
            "marker": {
             "line": {
              "color": "#E5ECF6",
              "width": 0.5
             },
             "pattern": {
              "fillmode": "overlay",
              "size": 10,
              "solidity": 0.2
             }
            },
            "type": "barpolar"
           }
          ],
          "carpet": [
           {
            "aaxis": {
             "endlinecolor": "#2a3f5f",
             "gridcolor": "white",
             "linecolor": "white",
             "minorgridcolor": "white",
             "startlinecolor": "#2a3f5f"
            },
            "baxis": {
             "endlinecolor": "#2a3f5f",
             "gridcolor": "white",
             "linecolor": "white",
             "minorgridcolor": "white",
             "startlinecolor": "#2a3f5f"
            },
            "type": "carpet"
           }
          ],
          "choropleth": [
           {
            "colorbar": {
             "outlinewidth": 0,
             "ticks": ""
            },
            "type": "choropleth"
           }
          ],
          "contour": [
           {
            "colorbar": {
             "outlinewidth": 0,
             "ticks": ""
            },
            "colorscale": [
             [
              0,
              "#0d0887"
             ],
             [
              0.1111111111111111,
              "#46039f"
             ],
             [
              0.2222222222222222,
              "#7201a8"
             ],
             [
              0.3333333333333333,
              "#9c179e"
             ],
             [
              0.4444444444444444,
              "#bd3786"
             ],
             [
              0.5555555555555556,
              "#d8576b"
             ],
             [
              0.6666666666666666,
              "#ed7953"
             ],
             [
              0.7777777777777778,
              "#fb9f3a"
             ],
             [
              0.8888888888888888,
              "#fdca26"
             ],
             [
              1,
              "#f0f921"
             ]
            ],
            "type": "contour"
           }
          ],
          "contourcarpet": [
           {
            "colorbar": {
             "outlinewidth": 0,
             "ticks": ""
            },
            "type": "contourcarpet"
           }
          ],
          "heatmap": [
           {
            "colorbar": {
             "outlinewidth": 0,
             "ticks": ""
            },
            "colorscale": [
             [
              0,
              "#0d0887"
             ],
             [
              0.1111111111111111,
              "#46039f"
             ],
             [
              0.2222222222222222,
              "#7201a8"
             ],
             [
              0.3333333333333333,
              "#9c179e"
             ],
             [
              0.4444444444444444,
              "#bd3786"
             ],
             [
              0.5555555555555556,
              "#d8576b"
             ],
             [
              0.6666666666666666,
              "#ed7953"
             ],
             [
              0.7777777777777778,
              "#fb9f3a"
             ],
             [
              0.8888888888888888,
              "#fdca26"
             ],
             [
              1,
              "#f0f921"
             ]
            ],
            "type": "heatmap"
           }
          ],
          "heatmapgl": [
           {
            "colorbar": {
             "outlinewidth": 0,
             "ticks": ""
            },
            "colorscale": [
             [
              0,
              "#0d0887"
             ],
             [
              0.1111111111111111,
              "#46039f"
             ],
             [
              0.2222222222222222,
              "#7201a8"
             ],
             [
              0.3333333333333333,
              "#9c179e"
             ],
             [
              0.4444444444444444,
              "#bd3786"
             ],
             [
              0.5555555555555556,
              "#d8576b"
             ],
             [
              0.6666666666666666,
              "#ed7953"
             ],
             [
              0.7777777777777778,
              "#fb9f3a"
             ],
             [
              0.8888888888888888,
              "#fdca26"
             ],
             [
              1,
              "#f0f921"
             ]
            ],
            "type": "heatmapgl"
           }
          ],
          "histogram": [
           {
            "marker": {
             "pattern": {
              "fillmode": "overlay",
              "size": 10,
              "solidity": 0.2
             }
            },
            "type": "histogram"
           }
          ],
          "histogram2d": [
           {
            "colorbar": {
             "outlinewidth": 0,
             "ticks": ""
            },
            "colorscale": [
             [
              0,
              "#0d0887"
             ],
             [
              0.1111111111111111,
              "#46039f"
             ],
             [
              0.2222222222222222,
              "#7201a8"
             ],
             [
              0.3333333333333333,
              "#9c179e"
             ],
             [
              0.4444444444444444,
              "#bd3786"
             ],
             [
              0.5555555555555556,
              "#d8576b"
             ],
             [
              0.6666666666666666,
              "#ed7953"
             ],
             [
              0.7777777777777778,
              "#fb9f3a"
             ],
             [
              0.8888888888888888,
              "#fdca26"
             ],
             [
              1,
              "#f0f921"
             ]
            ],
            "type": "histogram2d"
           }
          ],
          "histogram2dcontour": [
           {
            "colorbar": {
             "outlinewidth": 0,
             "ticks": ""
            },
            "colorscale": [
             [
              0,
              "#0d0887"
             ],
             [
              0.1111111111111111,
              "#46039f"
             ],
             [
              0.2222222222222222,
              "#7201a8"
             ],
             [
              0.3333333333333333,
              "#9c179e"
             ],
             [
              0.4444444444444444,
              "#bd3786"
             ],
             [
              0.5555555555555556,
              "#d8576b"
             ],
             [
              0.6666666666666666,
              "#ed7953"
             ],
             [
              0.7777777777777778,
              "#fb9f3a"
             ],
             [
              0.8888888888888888,
              "#fdca26"
             ],
             [
              1,
              "#f0f921"
             ]
            ],
            "type": "histogram2dcontour"
           }
          ],
          "mesh3d": [
           {
            "colorbar": {
             "outlinewidth": 0,
             "ticks": ""
            },
            "type": "mesh3d"
           }
          ],
          "parcoords": [
           {
            "line": {
             "colorbar": {
              "outlinewidth": 0,
              "ticks": ""
             }
            },
            "type": "parcoords"
           }
          ],
          "pie": [
           {
            "automargin": true,
            "type": "pie"
           }
          ],
          "scatter": [
           {
            "fillpattern": {
             "fillmode": "overlay",
             "size": 10,
             "solidity": 0.2
            },
            "type": "scatter"
           }
          ],
          "scatter3d": [
           {
            "line": {
             "colorbar": {
              "outlinewidth": 0,
              "ticks": ""
             }
            },
            "marker": {
             "colorbar": {
              "outlinewidth": 0,
              "ticks": ""
             }
            },
            "type": "scatter3d"
           }
          ],
          "scattercarpet": [
           {
            "marker": {
             "colorbar": {
              "outlinewidth": 0,
              "ticks": ""
             }
            },
            "type": "scattercarpet"
           }
          ],
          "scattergeo": [
           {
            "marker": {
             "colorbar": {
              "outlinewidth": 0,
              "ticks": ""
             }
            },
            "type": "scattergeo"
           }
          ],
          "scattergl": [
           {
            "marker": {
             "colorbar": {
              "outlinewidth": 0,
              "ticks": ""
             }
            },
            "type": "scattergl"
           }
          ],
          "scattermapbox": [
           {
            "marker": {
             "colorbar": {
              "outlinewidth": 0,
              "ticks": ""
             }
            },
            "type": "scattermapbox"
           }
          ],
          "scatterpolar": [
           {
            "marker": {
             "colorbar": {
              "outlinewidth": 0,
              "ticks": ""
             }
            },
            "type": "scatterpolar"
           }
          ],
          "scatterpolargl": [
           {
            "marker": {
             "colorbar": {
              "outlinewidth": 0,
              "ticks": ""
             }
            },
            "type": "scatterpolargl"
           }
          ],
          "scatterternary": [
           {
            "marker": {
             "colorbar": {
              "outlinewidth": 0,
              "ticks": ""
             }
            },
            "type": "scatterternary"
           }
          ],
          "surface": [
           {
            "colorbar": {
             "outlinewidth": 0,
             "ticks": ""
            },
            "colorscale": [
             [
              0,
              "#0d0887"
             ],
             [
              0.1111111111111111,
              "#46039f"
             ],
             [
              0.2222222222222222,
              "#7201a8"
             ],
             [
              0.3333333333333333,
              "#9c179e"
             ],
             [
              0.4444444444444444,
              "#bd3786"
             ],
             [
              0.5555555555555556,
              "#d8576b"
             ],
             [
              0.6666666666666666,
              "#ed7953"
             ],
             [
              0.7777777777777778,
              "#fb9f3a"
             ],
             [
              0.8888888888888888,
              "#fdca26"
             ],
             [
              1,
              "#f0f921"
             ]
            ],
            "type": "surface"
           }
          ],
          "table": [
           {
            "cells": {
             "fill": {
              "color": "#EBF0F8"
             },
             "line": {
              "color": "white"
             }
            },
            "header": {
             "fill": {
              "color": "#C8D4E3"
             },
             "line": {
              "color": "white"
             }
            },
            "type": "table"
           }
          ]
         },
         "layout": {
          "annotationdefaults": {
           "arrowcolor": "#2a3f5f",
           "arrowhead": 0,
           "arrowwidth": 1
          },
          "autotypenumbers": "strict",
          "coloraxis": {
           "colorbar": {
            "outlinewidth": 0,
            "ticks": ""
           }
          },
          "colorscale": {
           "diverging": [
            [
             0,
             "#8e0152"
            ],
            [
             0.1,
             "#c51b7d"
            ],
            [
             0.2,
             "#de77ae"
            ],
            [
             0.3,
             "#f1b6da"
            ],
            [
             0.4,
             "#fde0ef"
            ],
            [
             0.5,
             "#f7f7f7"
            ],
            [
             0.6,
             "#e6f5d0"
            ],
            [
             0.7,
             "#b8e186"
            ],
            [
             0.8,
             "#7fbc41"
            ],
            [
             0.9,
             "#4d9221"
            ],
            [
             1,
             "#276419"
            ]
           ],
           "sequential": [
            [
             0,
             "#0d0887"
            ],
            [
             0.1111111111111111,
             "#46039f"
            ],
            [
             0.2222222222222222,
             "#7201a8"
            ],
            [
             0.3333333333333333,
             "#9c179e"
            ],
            [
             0.4444444444444444,
             "#bd3786"
            ],
            [
             0.5555555555555556,
             "#d8576b"
            ],
            [
             0.6666666666666666,
             "#ed7953"
            ],
            [
             0.7777777777777778,
             "#fb9f3a"
            ],
            [
             0.8888888888888888,
             "#fdca26"
            ],
            [
             1,
             "#f0f921"
            ]
           ],
           "sequentialminus": [
            [
             0,
             "#0d0887"
            ],
            [
             0.1111111111111111,
             "#46039f"
            ],
            [
             0.2222222222222222,
             "#7201a8"
            ],
            [
             0.3333333333333333,
             "#9c179e"
            ],
            [
             0.4444444444444444,
             "#bd3786"
            ],
            [
             0.5555555555555556,
             "#d8576b"
            ],
            [
             0.6666666666666666,
             "#ed7953"
            ],
            [
             0.7777777777777778,
             "#fb9f3a"
            ],
            [
             0.8888888888888888,
             "#fdca26"
            ],
            [
             1,
             "#f0f921"
            ]
           ]
          },
          "colorway": [
           "#636efa",
           "#EF553B",
           "#00cc96",
           "#ab63fa",
           "#FFA15A",
           "#19d3f3",
           "#FF6692",
           "#B6E880",
           "#FF97FF",
           "#FECB52"
          ],
          "font": {
           "color": "#2a3f5f"
          },
          "geo": {
           "bgcolor": "white",
           "lakecolor": "white",
           "landcolor": "#E5ECF6",
           "showlakes": true,
           "showland": true,
           "subunitcolor": "white"
          },
          "hoverlabel": {
           "align": "left"
          },
          "hovermode": "closest",
          "mapbox": {
           "style": "light"
          },
          "paper_bgcolor": "white",
          "plot_bgcolor": "#E5ECF6",
          "polar": {
           "angularaxis": {
            "gridcolor": "white",
            "linecolor": "white",
            "ticks": ""
           },
           "bgcolor": "#E5ECF6",
           "radialaxis": {
            "gridcolor": "white",
            "linecolor": "white",
            "ticks": ""
           }
          },
          "scene": {
           "xaxis": {
            "backgroundcolor": "#E5ECF6",
            "gridcolor": "white",
            "gridwidth": 2,
            "linecolor": "white",
            "showbackground": true,
            "ticks": "",
            "zerolinecolor": "white"
           },
           "yaxis": {
            "backgroundcolor": "#E5ECF6",
            "gridcolor": "white",
            "gridwidth": 2,
            "linecolor": "white",
            "showbackground": true,
            "ticks": "",
            "zerolinecolor": "white"
           },
           "zaxis": {
            "backgroundcolor": "#E5ECF6",
            "gridcolor": "white",
            "gridwidth": 2,
            "linecolor": "white",
            "showbackground": true,
            "ticks": "",
            "zerolinecolor": "white"
           }
          },
          "shapedefaults": {
           "line": {
            "color": "#2a3f5f"
           }
          },
          "ternary": {
           "aaxis": {
            "gridcolor": "white",
            "linecolor": "white",
            "ticks": ""
           },
           "baxis": {
            "gridcolor": "white",
            "linecolor": "white",
            "ticks": ""
           },
           "bgcolor": "#E5ECF6",
           "caxis": {
            "gridcolor": "white",
            "linecolor": "white",
            "ticks": ""
           }
          },
          "title": {
           "x": 0.05
          },
          "xaxis": {
           "automargin": true,
           "gridcolor": "white",
           "linecolor": "white",
           "ticks": "",
           "title": {
            "standoff": 15
           },
           "zerolinecolor": "white",
           "zerolinewidth": 2
          },
          "yaxis": {
           "automargin": true,
           "gridcolor": "white",
           "linecolor": "white",
           "ticks": "",
           "title": {
            "standoff": 15
           },
           "zerolinecolor": "white",
           "zerolinewidth": 2
          }
         }
        },
        "title": {
         "text": "Comparaison de la variance des estimateurs de la vraisemblance en fonction du nombre de simulations"
        },
        "xaxis": {
         "title": {
          "text": "Nombre de simulations"
         }
        },
        "yaxis": {
         "title": {
          "text": "Variance de l'estimateur"
         }
        }
       }
      }
     },
     "metadata": {},
     "output_type": "display_data"
    }
   ],
   "source": [
    "Code.plot_bias_likelihood(r, x, theta_true, noised_A, noised_b, 6, 100, 'variance')"
   ]
  },
  {
   "cell_type": "code",
   "execution_count": 18,
   "metadata": {},
   "outputs": [],
   "source": [
    "#Même fonction en faisant varier le nombre de simus :\n",
    "\n",
    "import plotly.graph_objects as go\n",
    "\n",
    "def plot_bias_likelihood(r, x, theta_true, noised_A, noised_b, n_simulations_min, n_simulations_max, plot_type = 'bias', k_IWAE = 5): \n",
    "\n",
    "    step = 5\n",
    "    simus = np.arange(n_simulations_min, n_simulations_max, step) #Ici on fait varier le nombre de simulations\n",
    "\n",
    "    #Calcul de la vraisemblance vraie\n",
    "    param_true = Code.true_likelihood(x, theta_true)\n",
    "\n",
    "    if plot_type == 'bias' :\n",
    "\n",
    "        bias = [], [], [], [] \n",
    "\n",
    "        for n_simus in simus:\n",
    "\n",
    "            n_simus = int(n_simus)\n",
    "\n",
    "            log_SUMO, log_ML_SS, log_ML_RR, log_IWAE = [], [], [], []\n",
    "\n",
    "            for i in range(1): #On pourra intégrer le nombre de répétitions aux paramètres si besoin -> moyenne des estimateurs à chaque pas\n",
    "\n",
    "                log_SUMO.append(Code.log_likelihood_SUMO(r, theta_true, x, noised_A, noised_b, n_simus))\n",
    "\n",
    "                log_ML_SS.append(Code.log_likelihood_ML_SS(r, theta_true, x, noised_A, noised_b, n_simus))\n",
    "\n",
    "                log_ML_RR.append(Code.log_likelihood_ML_RR(r, theta_true, x, noised_A, noised_b, n_simus))\n",
    "\n",
    "                log_IWAE.append(Code.log_likelihood_IWAE(theta_true, x, noised_A, noised_b, k_IWAE, n_simus))\n",
    "\n",
    "            bias[0].append((np.mean(log_SUMO) - param_true)**2)\n",
    "\n",
    "            bias[1].append((np.mean(log_ML_SS) - param_true)**2)\n",
    "\n",
    "            bias[2].append((np.mean(log_ML_RR) - param_true)**2) \n",
    "\n",
    "            bias[3].append((np.mean(log_IWAE) - param_true)**2)\n",
    "\n",
    "        # Créer la figure\n",
    "        fig = go.Figure()\n",
    "\n",
    "        # Ajouter les courbes des biais\n",
    "        fig.add_trace(go.Scatter(x=simus, y=bias[0], mode='lines', name='SUMO', line=dict(color='green')))\n",
    "        fig.add_trace(go.Scatter(x=simus, y=bias[1], mode='lines', name='ML_SS', line=dict(color='purple')))\n",
    "        fig.add_trace(go.Scatter(x=simus, y=bias[2], mode='lines', name='ML_RR', line=dict(color='orange')))\n",
    "        fig.add_trace(go.Scatter(x=simus, y=bias[3], mode='lines', name='IWAE', line=dict(color='yellow')))\n",
    "\n",
    "        #fig.add_shape(type='line', x0=theta_true, x1=theta_true, y0=min(min(true_gradient_values), min(estimated_grad)), y1=max(max(true_gradient_values), max(estimated_grad)), \n",
    "                    #line=dict(color='black', width=2, dash='dash'), name=f'theta={theta_true}')\n",
    "\n",
    "        # Mise en forme de la figure\n",
    "        fig.update_layout(\n",
    "            xaxis=dict(title='Nombre de simulations'),\n",
    "            yaxis=dict(title=\"Biais de l'estimateur\"),\n",
    "            title=f'Comparaison du biais des estimateurs de la vraisemblance en fonction du nombre de simulations',\n",
    "            legend=dict(x=0, y=1, traceorder='normal', font=dict(size=12)),\n",
    "            showlegend=True\n",
    "        )\n",
    "\n",
    "        # Affichage de la figure\n",
    "        fig.show()\n",
    "\n",
    "    elif plot_type == 'variance' : #Pas d'actualité on répare d'abord le biais\n",
    "                \n",
    "        variance = [], [], [], []\n",
    "\n",
    "        for n_simus in range(len(simus)):\n",
    "\n",
    "            n_simus = int(n_simus)\n",
    "\n",
    "            log_SUMO, log_ML_SS, log_ML_RR, log_IWAE = [], [], [], []\n",
    "\n",
    "            for i in range(10): #On pourra intégrer le nombre de répétitions aux paramètres si besoin\n",
    "\n",
    "                log_SUMO.append(log_likelihood_SUMO(r, theta_true, x, noised_A, noised_b, n_simus))\n",
    "\n",
    "                log_ML_SS.append(log_likelihood_ML_SS(r, theta_true, x, noised_A, noised_b, n_simus))\n",
    "\n",
    "                log_ML_RR.append(log_likelihood_ML_RR(r, theta_true, x, noised_A, noised_b, n_simus))\n",
    "\n",
    "                log_IWAE.append(log_likelihood_IWAE(theta_true, x, noised_A, noised_b, k_IWAE, n_simus))\n",
    "                \n",
    "            variance[0].append(np.std(log_SUMO) / np.sqrt(10))\n",
    "\n",
    "            variance[1].append(np.std(log_ML_SS) / np.sqrt(10))\n",
    "\n",
    "            variance[2].append(np.std(log_ML_RR) / np.sqrt(10))\n",
    "\n",
    "            variance[3].append(np.std(log_IWAE) / np.sqrt(10))\n",
    "\n",
    "        # Créer la figure\n",
    "        fig = go.Figure()\n",
    "\n",
    "        # Ajouter les courbes des biais\n",
    "        fig.add_trace(go.Scatter(x=simus, y=variance[0], mode='lines', name='SUMO', line=dict(color='green')))\n",
    "        fig.add_trace(go.Scatter(x=simus, y=variance[1], mode='lines', name='ML_SS', line=dict(color='purple')))\n",
    "        fig.add_trace(go.Scatter(x=simus, y=variance[2], mode='lines', name='ML_RR', line=dict(color='orange')))\n",
    "        fig.add_trace(go.Scatter(x=simus, y=variance[3], mode='lines', name='IWAE', line=dict(color='yellow')))\n",
    "\n",
    "        #fig.add_shape(type='line', x0=theta_true, x1=theta_true, y0=min(min(true_gradient_values), min(estimated_grad)), y1=max(max(true_gradient_values), max(estimated_grad)), \n",
    "                    #line=dict(color='black', width=2, dash='dash'), name=f'theta={theta_true}')\n",
    "\n",
    "        # Mise en forme de la figure\n",
    "        fig.update_layout(\n",
    "            xaxis=dict(title='Nombre de simulations'),\n",
    "            yaxis=dict(title=\"Variance de l'estimateur\"),\n",
    "            title=f'Comparaison de la variance des estimateurs de la vraisemblance en fonction du nombre de simulations',\n",
    "            legend=dict(x=0, y=1, traceorder='normal', font=dict(size=12)),\n",
    "            showlegend=True\n",
    "        )\n",
    "\n",
    "        # Affichage de la figure\n",
    "        fig.show()\n",
    "    \n",
    "    return\n"
   ]
  },
  {
   "cell_type": "code",
   "execution_count": 19,
   "metadata": {},
   "outputs": [
    {
     "data": {
      "application/vnd.plotly.v1+json": {
       "config": {
        "plotlyServerURL": "https://plot.ly"
       },
       "data": [
        {
         "line": {
          "color": "green"
         },
         "mode": "lines",
         "name": "SUMO",
         "type": "scatter",
         "x": [
          1,
          6,
          11,
          16,
          21,
          26,
          31,
          36,
          41,
          46,
          51,
          56,
          61,
          66,
          71,
          76,
          81,
          86,
          91,
          96
         ],
         "y": [
          48.09312399580058,
          49.17071017701638,
          65.36553072125055,
          50.32740428209829,
          52.50752397364338,
          44.46381416078923,
          35.8133647712091,
          49.02020729300094,
          47.579436166817786,
          52.5574307289341,
          66.59101927734078,
          49.40245485389003,
          47.828122051801735,
          18.53960260344156,
          50.27202996746821,
          47.841316402427665,
          51.32476121532121,
          49.81180401049008,
          44.72042935674518,
          50.933065053164164
         ]
        },
        {
         "line": {
          "color": "purple"
         },
         "mode": "lines",
         "name": "ML_SS",
         "type": "scatter",
         "x": [
          1,
          6,
          11,
          16,
          21,
          26,
          31,
          36,
          41,
          46,
          51,
          56,
          61,
          66,
          71,
          76,
          81,
          86,
          91,
          96
         ],
         "y": [
          58.66718113713237,
          50.11920225262891,
          45.97946183156901,
          46.03990274683968,
          47.7453181873985,
          49.36459380322017,
          45.74497690147822,
          47.39243793081913,
          44.90625857335545,
          47.30082627101123,
          46.61681280547525,
          49.18474778994057,
          46.62365211173836,
          47.76250005327446,
          45.538501263086964,
          47.97051120163777,
          47.60660104864368,
          46.355849948408036,
          46.53885781368809,
          47.014305628234965
         ]
        },
        {
         "line": {
          "color": "orange"
         },
         "mode": "lines",
         "name": "ML_RR",
         "type": "scatter",
         "x": [
          1,
          6,
          11,
          16,
          21,
          26,
          31,
          36,
          41,
          46,
          51,
          56,
          61,
          66,
          71,
          76,
          81,
          86,
          91,
          96
         ],
         "y": [
          39.235044971333274,
          45.44698716938851,
          44.57232220468975,
          46.37154381224955,
          43.35776675979721,
          42.53106438669784,
          42.12899644468893,
          40.21355871023668,
          44.24425022138557,
          43.97519096989289,
          43.36791904959523,
          42.615384635579225,
          41.85390802282854,
          43.255599788015175,
          41.414810517839356,
          43.78122252933751,
          40.41082080476625,
          39.37362112325487,
          39.65875910584291,
          43.28249395056303
         ]
        },
        {
         "line": {
          "color": "yellow"
         },
         "mode": "lines",
         "name": "IWAE",
         "type": "scatter",
         "x": [
          1,
          6,
          11,
          16,
          21,
          26,
          31,
          36,
          41,
          46,
          51,
          56,
          61,
          66,
          71,
          76,
          81,
          86,
          91,
          96
         ],
         "y": [
          55.79701951095155,
          46.051948716442375,
          45.85311330490653,
          47.50902380123875,
          44.0291047967087,
          43.92395468630931,
          45.07350535544406,
          43.95675586036485,
          45.4801608634802,
          44.86172320855675,
          42.823441608760774,
          45.25292331570992,
          44.89023984390677,
          46.00257863862722,
          43.15280571078244,
          45.78492959749746,
          44.93098575011179,
          43.47121392750236,
          43.71864980663073,
          45.75785603921115
         ]
        }
       ],
       "layout": {
        "legend": {
         "font": {
          "size": 12
         },
         "traceorder": "normal",
         "x": 0,
         "y": 1
        },
        "showlegend": true,
        "template": {
         "data": {
          "bar": [
           {
            "error_x": {
             "color": "#2a3f5f"
            },
            "error_y": {
             "color": "#2a3f5f"
            },
            "marker": {
             "line": {
              "color": "#E5ECF6",
              "width": 0.5
             },
             "pattern": {
              "fillmode": "overlay",
              "size": 10,
              "solidity": 0.2
             }
            },
            "type": "bar"
           }
          ],
          "barpolar": [
           {
            "marker": {
             "line": {
              "color": "#E5ECF6",
              "width": 0.5
             },
             "pattern": {
              "fillmode": "overlay",
              "size": 10,
              "solidity": 0.2
             }
            },
            "type": "barpolar"
           }
          ],
          "carpet": [
           {
            "aaxis": {
             "endlinecolor": "#2a3f5f",
             "gridcolor": "white",
             "linecolor": "white",
             "minorgridcolor": "white",
             "startlinecolor": "#2a3f5f"
            },
            "baxis": {
             "endlinecolor": "#2a3f5f",
             "gridcolor": "white",
             "linecolor": "white",
             "minorgridcolor": "white",
             "startlinecolor": "#2a3f5f"
            },
            "type": "carpet"
           }
          ],
          "choropleth": [
           {
            "colorbar": {
             "outlinewidth": 0,
             "ticks": ""
            },
            "type": "choropleth"
           }
          ],
          "contour": [
           {
            "colorbar": {
             "outlinewidth": 0,
             "ticks": ""
            },
            "colorscale": [
             [
              0,
              "#0d0887"
             ],
             [
              0.1111111111111111,
              "#46039f"
             ],
             [
              0.2222222222222222,
              "#7201a8"
             ],
             [
              0.3333333333333333,
              "#9c179e"
             ],
             [
              0.4444444444444444,
              "#bd3786"
             ],
             [
              0.5555555555555556,
              "#d8576b"
             ],
             [
              0.6666666666666666,
              "#ed7953"
             ],
             [
              0.7777777777777778,
              "#fb9f3a"
             ],
             [
              0.8888888888888888,
              "#fdca26"
             ],
             [
              1,
              "#f0f921"
             ]
            ],
            "type": "contour"
           }
          ],
          "contourcarpet": [
           {
            "colorbar": {
             "outlinewidth": 0,
             "ticks": ""
            },
            "type": "contourcarpet"
           }
          ],
          "heatmap": [
           {
            "colorbar": {
             "outlinewidth": 0,
             "ticks": ""
            },
            "colorscale": [
             [
              0,
              "#0d0887"
             ],
             [
              0.1111111111111111,
              "#46039f"
             ],
             [
              0.2222222222222222,
              "#7201a8"
             ],
             [
              0.3333333333333333,
              "#9c179e"
             ],
             [
              0.4444444444444444,
              "#bd3786"
             ],
             [
              0.5555555555555556,
              "#d8576b"
             ],
             [
              0.6666666666666666,
              "#ed7953"
             ],
             [
              0.7777777777777778,
              "#fb9f3a"
             ],
             [
              0.8888888888888888,
              "#fdca26"
             ],
             [
              1,
              "#f0f921"
             ]
            ],
            "type": "heatmap"
           }
          ],
          "heatmapgl": [
           {
            "colorbar": {
             "outlinewidth": 0,
             "ticks": ""
            },
            "colorscale": [
             [
              0,
              "#0d0887"
             ],
             [
              0.1111111111111111,
              "#46039f"
             ],
             [
              0.2222222222222222,
              "#7201a8"
             ],
             [
              0.3333333333333333,
              "#9c179e"
             ],
             [
              0.4444444444444444,
              "#bd3786"
             ],
             [
              0.5555555555555556,
              "#d8576b"
             ],
             [
              0.6666666666666666,
              "#ed7953"
             ],
             [
              0.7777777777777778,
              "#fb9f3a"
             ],
             [
              0.8888888888888888,
              "#fdca26"
             ],
             [
              1,
              "#f0f921"
             ]
            ],
            "type": "heatmapgl"
           }
          ],
          "histogram": [
           {
            "marker": {
             "pattern": {
              "fillmode": "overlay",
              "size": 10,
              "solidity": 0.2
             }
            },
            "type": "histogram"
           }
          ],
          "histogram2d": [
           {
            "colorbar": {
             "outlinewidth": 0,
             "ticks": ""
            },
            "colorscale": [
             [
              0,
              "#0d0887"
             ],
             [
              0.1111111111111111,
              "#46039f"
             ],
             [
              0.2222222222222222,
              "#7201a8"
             ],
             [
              0.3333333333333333,
              "#9c179e"
             ],
             [
              0.4444444444444444,
              "#bd3786"
             ],
             [
              0.5555555555555556,
              "#d8576b"
             ],
             [
              0.6666666666666666,
              "#ed7953"
             ],
             [
              0.7777777777777778,
              "#fb9f3a"
             ],
             [
              0.8888888888888888,
              "#fdca26"
             ],
             [
              1,
              "#f0f921"
             ]
            ],
            "type": "histogram2d"
           }
          ],
          "histogram2dcontour": [
           {
            "colorbar": {
             "outlinewidth": 0,
             "ticks": ""
            },
            "colorscale": [
             [
              0,
              "#0d0887"
             ],
             [
              0.1111111111111111,
              "#46039f"
             ],
             [
              0.2222222222222222,
              "#7201a8"
             ],
             [
              0.3333333333333333,
              "#9c179e"
             ],
             [
              0.4444444444444444,
              "#bd3786"
             ],
             [
              0.5555555555555556,
              "#d8576b"
             ],
             [
              0.6666666666666666,
              "#ed7953"
             ],
             [
              0.7777777777777778,
              "#fb9f3a"
             ],
             [
              0.8888888888888888,
              "#fdca26"
             ],
             [
              1,
              "#f0f921"
             ]
            ],
            "type": "histogram2dcontour"
           }
          ],
          "mesh3d": [
           {
            "colorbar": {
             "outlinewidth": 0,
             "ticks": ""
            },
            "type": "mesh3d"
           }
          ],
          "parcoords": [
           {
            "line": {
             "colorbar": {
              "outlinewidth": 0,
              "ticks": ""
             }
            },
            "type": "parcoords"
           }
          ],
          "pie": [
           {
            "automargin": true,
            "type": "pie"
           }
          ],
          "scatter": [
           {
            "fillpattern": {
             "fillmode": "overlay",
             "size": 10,
             "solidity": 0.2
            },
            "type": "scatter"
           }
          ],
          "scatter3d": [
           {
            "line": {
             "colorbar": {
              "outlinewidth": 0,
              "ticks": ""
             }
            },
            "marker": {
             "colorbar": {
              "outlinewidth": 0,
              "ticks": ""
             }
            },
            "type": "scatter3d"
           }
          ],
          "scattercarpet": [
           {
            "marker": {
             "colorbar": {
              "outlinewidth": 0,
              "ticks": ""
             }
            },
            "type": "scattercarpet"
           }
          ],
          "scattergeo": [
           {
            "marker": {
             "colorbar": {
              "outlinewidth": 0,
              "ticks": ""
             }
            },
            "type": "scattergeo"
           }
          ],
          "scattergl": [
           {
            "marker": {
             "colorbar": {
              "outlinewidth": 0,
              "ticks": ""
             }
            },
            "type": "scattergl"
           }
          ],
          "scattermapbox": [
           {
            "marker": {
             "colorbar": {
              "outlinewidth": 0,
              "ticks": ""
             }
            },
            "type": "scattermapbox"
           }
          ],
          "scatterpolar": [
           {
            "marker": {
             "colorbar": {
              "outlinewidth": 0,
              "ticks": ""
             }
            },
            "type": "scatterpolar"
           }
          ],
          "scatterpolargl": [
           {
            "marker": {
             "colorbar": {
              "outlinewidth": 0,
              "ticks": ""
             }
            },
            "type": "scatterpolargl"
           }
          ],
          "scatterternary": [
           {
            "marker": {
             "colorbar": {
              "outlinewidth": 0,
              "ticks": ""
             }
            },
            "type": "scatterternary"
           }
          ],
          "surface": [
           {
            "colorbar": {
             "outlinewidth": 0,
             "ticks": ""
            },
            "colorscale": [
             [
              0,
              "#0d0887"
             ],
             [
              0.1111111111111111,
              "#46039f"
             ],
             [
              0.2222222222222222,
              "#7201a8"
             ],
             [
              0.3333333333333333,
              "#9c179e"
             ],
             [
              0.4444444444444444,
              "#bd3786"
             ],
             [
              0.5555555555555556,
              "#d8576b"
             ],
             [
              0.6666666666666666,
              "#ed7953"
             ],
             [
              0.7777777777777778,
              "#fb9f3a"
             ],
             [
              0.8888888888888888,
              "#fdca26"
             ],
             [
              1,
              "#f0f921"
             ]
            ],
            "type": "surface"
           }
          ],
          "table": [
           {
            "cells": {
             "fill": {
              "color": "#EBF0F8"
             },
             "line": {
              "color": "white"
             }
            },
            "header": {
             "fill": {
              "color": "#C8D4E3"
             },
             "line": {
              "color": "white"
             }
            },
            "type": "table"
           }
          ]
         },
         "layout": {
          "annotationdefaults": {
           "arrowcolor": "#2a3f5f",
           "arrowhead": 0,
           "arrowwidth": 1
          },
          "autotypenumbers": "strict",
          "coloraxis": {
           "colorbar": {
            "outlinewidth": 0,
            "ticks": ""
           }
          },
          "colorscale": {
           "diverging": [
            [
             0,
             "#8e0152"
            ],
            [
             0.1,
             "#c51b7d"
            ],
            [
             0.2,
             "#de77ae"
            ],
            [
             0.3,
             "#f1b6da"
            ],
            [
             0.4,
             "#fde0ef"
            ],
            [
             0.5,
             "#f7f7f7"
            ],
            [
             0.6,
             "#e6f5d0"
            ],
            [
             0.7,
             "#b8e186"
            ],
            [
             0.8,
             "#7fbc41"
            ],
            [
             0.9,
             "#4d9221"
            ],
            [
             1,
             "#276419"
            ]
           ],
           "sequential": [
            [
             0,
             "#0d0887"
            ],
            [
             0.1111111111111111,
             "#46039f"
            ],
            [
             0.2222222222222222,
             "#7201a8"
            ],
            [
             0.3333333333333333,
             "#9c179e"
            ],
            [
             0.4444444444444444,
             "#bd3786"
            ],
            [
             0.5555555555555556,
             "#d8576b"
            ],
            [
             0.6666666666666666,
             "#ed7953"
            ],
            [
             0.7777777777777778,
             "#fb9f3a"
            ],
            [
             0.8888888888888888,
             "#fdca26"
            ],
            [
             1,
             "#f0f921"
            ]
           ],
           "sequentialminus": [
            [
             0,
             "#0d0887"
            ],
            [
             0.1111111111111111,
             "#46039f"
            ],
            [
             0.2222222222222222,
             "#7201a8"
            ],
            [
             0.3333333333333333,
             "#9c179e"
            ],
            [
             0.4444444444444444,
             "#bd3786"
            ],
            [
             0.5555555555555556,
             "#d8576b"
            ],
            [
             0.6666666666666666,
             "#ed7953"
            ],
            [
             0.7777777777777778,
             "#fb9f3a"
            ],
            [
             0.8888888888888888,
             "#fdca26"
            ],
            [
             1,
             "#f0f921"
            ]
           ]
          },
          "colorway": [
           "#636efa",
           "#EF553B",
           "#00cc96",
           "#ab63fa",
           "#FFA15A",
           "#19d3f3",
           "#FF6692",
           "#B6E880",
           "#FF97FF",
           "#FECB52"
          ],
          "font": {
           "color": "#2a3f5f"
          },
          "geo": {
           "bgcolor": "white",
           "lakecolor": "white",
           "landcolor": "#E5ECF6",
           "showlakes": true,
           "showland": true,
           "subunitcolor": "white"
          },
          "hoverlabel": {
           "align": "left"
          },
          "hovermode": "closest",
          "mapbox": {
           "style": "light"
          },
          "paper_bgcolor": "white",
          "plot_bgcolor": "#E5ECF6",
          "polar": {
           "angularaxis": {
            "gridcolor": "white",
            "linecolor": "white",
            "ticks": ""
           },
           "bgcolor": "#E5ECF6",
           "radialaxis": {
            "gridcolor": "white",
            "linecolor": "white",
            "ticks": ""
           }
          },
          "scene": {
           "xaxis": {
            "backgroundcolor": "#E5ECF6",
            "gridcolor": "white",
            "gridwidth": 2,
            "linecolor": "white",
            "showbackground": true,
            "ticks": "",
            "zerolinecolor": "white"
           },
           "yaxis": {
            "backgroundcolor": "#E5ECF6",
            "gridcolor": "white",
            "gridwidth": 2,
            "linecolor": "white",
            "showbackground": true,
            "ticks": "",
            "zerolinecolor": "white"
           },
           "zaxis": {
            "backgroundcolor": "#E5ECF6",
            "gridcolor": "white",
            "gridwidth": 2,
            "linecolor": "white",
            "showbackground": true,
            "ticks": "",
            "zerolinecolor": "white"
           }
          },
          "shapedefaults": {
           "line": {
            "color": "#2a3f5f"
           }
          },
          "ternary": {
           "aaxis": {
            "gridcolor": "white",
            "linecolor": "white",
            "ticks": ""
           },
           "baxis": {
            "gridcolor": "white",
            "linecolor": "white",
            "ticks": ""
           },
           "bgcolor": "#E5ECF6",
           "caxis": {
            "gridcolor": "white",
            "linecolor": "white",
            "ticks": ""
           }
          },
          "title": {
           "x": 0.05
          },
          "xaxis": {
           "automargin": true,
           "gridcolor": "white",
           "linecolor": "white",
           "ticks": "",
           "title": {
            "standoff": 15
           },
           "zerolinecolor": "white",
           "zerolinewidth": 2
          },
          "yaxis": {
           "automargin": true,
           "gridcolor": "white",
           "linecolor": "white",
           "ticks": "",
           "title": {
            "standoff": 15
           },
           "zerolinecolor": "white",
           "zerolinewidth": 2
          }
         }
        },
        "title": {
         "text": "Comparaison du biais des estimateurs de la vraisemblance en fonction du nombre de simulations"
        },
        "xaxis": {
         "title": {
          "text": "Nombre de simulations"
         }
        },
        "yaxis": {
         "title": {
          "text": "Biais de l'estimateur"
         }
        }
       }
      }
     },
     "metadata": {},
     "output_type": "display_data"
    }
   ],
   "source": [
    "plot_bias_likelihood(r, x, theta_true, noised_A, noised_b, 1, 100)"
   ]
  }
 ],
 "metadata": {
  "kernelspec": {
   "display_name": "Python 3",
   "language": "python",
   "name": "python3"
  },
  "language_info": {
   "codemirror_mode": {
    "name": "ipython",
    "version": 3
   },
   "file_extension": ".py",
   "mimetype": "text/x-python",
   "name": "python",
   "nbconvert_exporter": "python",
   "pygments_lexer": "ipython3",
   "version": "3.11.5"
  },
  "orig_nbformat": 4
 },
 "nbformat": 4,
 "nbformat_minor": 2
}
