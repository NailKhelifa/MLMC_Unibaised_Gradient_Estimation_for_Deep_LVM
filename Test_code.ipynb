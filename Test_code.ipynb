{
 "cells": [
  {
   "cell_type": "code",
   "execution_count": 1,
   "metadata": {},
   "outputs": [],
   "source": [
    "import numpy as np \n",
    "from scipy.stats import multivariate_normal\n",
    "import Estimateurs"
   ]
  },
  {
   "cell_type": "markdown",
   "metadata": {},
   "source": [
    "On commence par tirer le $\\theta$* ($\\in \\mathbb{R}$) qui sera le paramètre que l'on cherchera à estimer par la suite. \n",
    "\n",
    "A la manière de la génération des données dans l'article Rainforth et al. (2018) : $\\theta^* \\sim \\mathcal{N}(0, 1)$"
   ]
  },
  {
   "cell_type": "code",
   "execution_count": 2,
   "metadata": {},
   "outputs": [
    {
     "name": "stdout",
     "output_type": "stream",
     "text": [
      "La valeur de theta à estimer est 1.01\n"
     ]
    }
   ],
   "source": [
    "#theta_true = np.random.multivariate_normal(np.zeros(20), np.identity(20))\n",
    "theta_true = np.random.normal(0, 1)\n",
    "print(f\"La valeur de theta à estimer est {int(theta_true*100)/100}\")"
   ]
  },
  {
   "cell_type": "markdown",
   "metadata": {},
   "source": [
    "Désormais, on va tirer un échantillon $((Z_i, X_i))_i \\stackrel{iid}{\\sim} \\mathcal{N}(\\boldsymbol{z}|\\theta, \\boldsymbol{I}) * \\mathcal{N}(\\boldsymbol{x}|\\boldsymbol{z}, \\boldsymbol{I})$. \n"
   ]
  },
  {
   "cell_type": "code",
   "execution_count": 3,
   "metadata": {},
   "outputs": [
    {
     "name": "stdout",
     "output_type": "stream",
     "text": [
      "L'échantillon x observé est :\n",
      " \n",
      " x = [ 0.62708049 -1.88402291  0.27970445  2.91995055  3.35245272  3.03822922\n",
      " -1.32046595  0.10037036 -1.40654483  2.88937144 -1.9155619   2.87865627\n",
      "  2.37488217  0.66437847  1.50190432  2.29082669  2.17680317  1.97622803\n",
      " -0.01341003  0.94014867] \n",
      " \n",
      " et sa taille est (20,)\n"
     ]
    }
   ],
   "source": [
    "## On se donne notre échantillon x\n",
    "\n",
    "x, _ = Estimateurs.joint_probability(theta_true)\n",
    "\n",
    "print(f\"L'échantillon x observé est :\\n \\n x = {x} \\n \\n et sa taille est {x.shape}\")"
   ]
  },
  {
   "cell_type": "markdown",
   "metadata": {},
   "source": [
    "Ceci nous suffit pour tester notre classe Estimateurs dont le code se trouve dans le fichier Estimateurs.py"
   ]
  },
  {
   "cell_type": "code",
   "execution_count": 4,
   "metadata": {},
   "outputs": [],
   "source": [
    "theta_hat = np.mean(x)\n",
    "A, b = Estimateurs.noised_params((1/2)*np.eye(20), (np.zeros(20) + theta_true)/2)\n",
    "A_hat, b_hat = Estimateurs.noised_params((1/2)*np.eye(20), (np.zeros(20) + theta_hat)/2)"
   ]
  },
  {
   "cell_type": "code",
   "execution_count": 5,
   "metadata": {},
   "outputs": [],
   "source": [
    "z_sample = Estimateurs.generate_encoder(x, 4, A, b)[0]\n",
    "\n",
    "def compute_ratio(x, z, theta, A, b):\n",
    "    # Parameters\n",
    "    I = np.eye(20)\n",
    "\n",
    "    # Probability densities\n",
    "    p_theta_xz = np.exp(-0.5 * np.dot(np.dot((z - theta).T, np.linalg.inv(2*I)), (z - theta)) - 0.5 * np.dot(np.dot((x - z).T, np.linalg.inv(I)), (x - z)))\n",
    "    q_phi_z_given_x_density = np.exp(-0.5 * np.dot(np.dot((z - (np.dot(A, x) + b)).T, np.linalg.inv((2/3)*I)), (z - (np.dot(A, x) + b.flatten()))))\n",
    "\n",
    "    # Compute the ratio\n",
    "    ratio = p_theta_xz / q_phi_z_given_x_density\n",
    "\n",
    "    return ratio\n",
    "\n",
    "def weight(x, theta_hat, theta, A_hat, b_hat, A, b, z):\n",
    "\n",
    "    \n",
    "    ## calcul des poids pour theta_hat (associé à l'observation x)\n",
    "    weight_theta_hat = compute_ratio(x, z, theta_hat, A_hat, b_hat)\n",
    "\n",
    "    ## cacul des poids pour theta (associé à un theta)                                                                                                    \n",
    "    weight_theta = compute_ratio(x, z, theta, A, b)\n",
    "    \n",
    "    return (weight_theta_hat, weight_theta) ## attention, renvoie un tuple\n",
    "              \n",
    "def l_hat(x, theta_hat, theta, A_hat, b_hat, A, b, z_sample): \n",
    "\n",
    "\n",
    "    ## calcul de l_theta_hat (pour theta_hat)\n",
    "    l_theta_hat = np.log((1/(len(z_sample)) * sum(weight(x, theta_hat, theta, A_hat, b_hat, A, b, z_sample[i])[0] for i in range(len(z_sample)))))\n",
    "\n",
    "    ## calcul de l_theta (pour theta)\n",
    "    l_theta = np.log((1/(len(z_sample)) * sum(weight(x, theta_hat, theta, A_hat, b_hat, A, b, z_sample[i])[1] for i in range(len(z_sample)))))\n",
    "\n",
    "    return (l_theta_hat, l_theta)"
   ]
  },
  {
   "cell_type": "code",
   "execution_count": 6,
   "metadata": {},
   "outputs": [
    {
     "data": {
      "text/plain": [
       "(-2.8827480076217213, -2.91285760298495)"
      ]
     },
     "execution_count": 6,
     "metadata": {},
     "output_type": "execute_result"
    }
   ],
   "source": [
    "l_hat(z_sample[0], theta_hat, theta_true, A_hat, b_hat, A, b, z_sample)"
   ]
  },
  {
   "cell_type": "code",
   "execution_count": 7,
   "metadata": {},
   "outputs": [],
   "source": [
    "estimateur = Estimateurs.Estimateurs(x, theta_true, 0.6)"
   ]
  },
  {
   "cell_type": "code",
   "execution_count": 8,
   "metadata": {},
   "outputs": [],
   "source": [
    "x = estimateur.grad_ML_RR(theta_star=theta_true, n_simulations=1)"
   ]
  },
  {
   "cell_type": "code",
   "execution_count": 10,
   "metadata": {},
   "outputs": [
    {
     "data": {
      "text/plain": [
       "array([-85.33360645, -20.90572445,  28.96190213,   4.58250994,\n",
       "        -6.06496283,   6.06055485,  -5.04536984, -40.52988114,\n",
       "       -31.48126449,   6.12631459,  13.39693739,  25.40134969,\n",
       "        20.86514062, -20.95379378,   3.98967579,  33.86274255,\n",
       "         8.76821409,  37.96856848,  44.81163528,   7.84492834])"
      ]
     },
     "execution_count": 10,
     "metadata": {},
     "output_type": "execute_result"
    }
   ],
   "source": [
    "x"
   ]
  }
 ],
 "metadata": {
  "kernelspec": {
   "display_name": "Python 3",
   "language": "python",
   "name": "python3"
  },
  "language_info": {
   "codemirror_mode": {
    "name": "ipython",
    "version": 3
   },
   "file_extension": ".py",
   "mimetype": "text/x-python",
   "name": "python",
   "nbconvert_exporter": "python",
   "pygments_lexer": "ipython3",
   "version": "3.11.5"
  },
  "orig_nbformat": 4
 },
 "nbformat": 4,
 "nbformat_minor": 2
}
