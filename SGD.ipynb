{
 "cells": [
  {
   "cell_type": "code",
   "execution_count": 39,
   "metadata": {},
   "outputs": [],
   "source": [
    "import numpy as np\n",
    "import Code\n",
    "from tqdm import tqdm\n",
    "import time\n",
    "import matplotlib.pyplot as plt\n",
    "import random"
   ]
  },
  {
   "cell_type": "markdown",
   "metadata": {},
   "source": [
    "## <span style=\"color:orange\">  **Cadre général de la descente de gradient stochastique pour obtenir une estimation du maximum de vraisemblance**  </span>\n",
    "\n",
    "On se donne un échantillon d'observations $\\boldsymbol{x} \\in \\mathbb{R}^{20} = [x^{(1)}, ..., x^{(20)}]^T$ tiré selon une loi paramétrée par $\\theta$, qui est donc le paramètre du modèle probabiliste que nous souhaitons estimer. La log-vraisemblance des données observées $\\ell (\\theta) = \\log p_{\\theta}(\\boldsymbol{x}) = \\sum_{i=1}^{20} \\log p_{\\theta}(x^{(i)})$ est maximisée pour obtenir une estimation de maximum de vraisemblance (EMV) du paramètre $\\theta$. \n",
    "\n",
    "En utilisant la **descente de gradient stochastique (SGD)**, l'algorithme pour estimer les paramètres peut être formulé comme suit :\n",
    "\n",
    "\n",
    "1. **Initialisation** : On choisit un $\\theta^{(0)}$ De manière aléatoire ou déterministe. On peut par exemple choisir une telle valeur à partir d'une première approximation.\n",
    "\n",
    "2. **Itération** : À chaque itération $t$, les paramètres $\\theta$ sont mis à jour en utilisant un échantillon aléatoire de données $x^{(i)}$ (donc pour $i \\in \\{1, ..., 20\\}$) tiré de l'ensemble de données et on a alors : \n",
    "\\begin{equation}\n",
    "\\theta^{(t+1)} = \\theta^{(t)} - \\eta \\nabla_{\\theta} \\log p_{\\theta^{(t)}}(x^{(i)}),\n",
    "\\end{equation}\n",
    "\n",
    "    où $\\eta$ est le **taux d'apprentissage** (également appelé pas d'apprentissage) et $\\nabla_{\\theta} \\log p_{\\theta^{(t)}}(\\boldsymbol{x}^{(i)})$ est le gradient du logarithme de la vraisemblance conditionnelle évalué pour l'échantillon $\\boldsymbol{x}^{(i)}$ à l'itération $t$. \n",
    "\n",
    "3. **Convergence** : On répète $(1)$ jusqu'à ce qu'un critère d'arrêt prédéfini soit satisfait. Par exemple, on peut fixer pour un $\\epsilon$ donné le critère d'arrêt suivant :  \n",
    "$$ \n",
    "\\| \\theta^{(t+1)} - \\theta^{(t)} \\| < \\epsilon\n",
    "$$\n",
    "\n"
   ]
  },
  {
   "cell_type": "markdown",
   "metadata": {},
   "source": [
    "### <span style=\"color:violet\">  1.1. **Calcul explicite du gradient de la log-vraisemblance**  </span>"
   ]
  },
  {
   "cell_type": "markdown",
   "metadata": {},
   "source": [
    "Dans l'article, pour effectuer l'expérience empirique, on nous donne la valeur explicite de la densité avec laquelle on tire les observations $\\boldsymbol{x}$. On nous donne : \n",
    "\n",
    "$$\n",
    "p_{\\theta}(\\boldsymbol{x}) = \\mathcal{N}(\\boldsymbol{x}|\\theta \\mathbf{1}_{20}, 2\\mathbf{I}_{20}) = \\frac{1}{(4\\pi)^{10}} \\exp \\left\\{ -\\frac{1}{4} (\\boldsymbol{x} - \\theta \\mathbf{1}_{20})^T  (\\boldsymbol{x} - \\theta \\mathbf{1}_{20}) \\right\\}\n",
    "$$\n",
    "\n",
    "Ainsi, on a : \n",
    "\n",
    "$$\n",
    "\\log p_{\\theta}(\\boldsymbol{x}) = \\sum_{i=1}^{20}  \\log p_{\\theta}(x^{(i)}) = \\sum_{i=1}^{20} \\log \\left( \\frac{1}{2\\sqrt{\\pi}} \\exp\\left(-\\frac{(x - \\theta)^2}{4}\\right) \\right)\n",
    "$$\n",
    "\n",
    "Une fois cette expression explicite de la log-vraisemblance obtenue, on peut calculer explicitement le gradient de celle-ci **par rapport au paramètre  $\\theta$**. On a : \n",
    "\n",
    "$$\n",
    "\\nabla_{\\theta} \\log p_{\\theta} (\\boldsymbol{x}) = \\sum_{i=1}^{20}  \\log \\nabla_{\\theta} p_{\\theta}(x^{(i)}) = \\frac{1}{2} \\sum_{i=1}^{20} (x^{(i)} - \\theta)\n",
    "$$\n",
    "\n",
    "Si bien que l'on retrouve la version du gradient **en un point** de l'échantillon $\\boldsymbol{x}$ que l'on utilise dans l'étape itérative : \n",
    "\n",
    "$$\n",
    "\\nabla_{\\theta} \\log p_{\\theta}(x^{(i)}) = \\frac{1}{2} (x^{(i)} - \\theta)\n",
    "$$"
   ]
  },
  {
   "cell_type": "markdown",
   "metadata": {},
   "source": [
    "### <span style=\"color:violet\">  1.2. **Tirage du paramètre génératif $\\theta$**  </span>"
   ]
  },
  {
   "cell_type": "markdown",
   "metadata": {},
   "source": [
    "Avant toute chose, on tire une valeur du paramètre $\\theta$ que l'on considère comme étant la quantité que l'on souhaite approximer dans la suite de cette partie. On sait d'après le cadre de l'application numérique de l'article que $\\theta \\sim \\mathcal{N}(1, 0)$. "
   ]
  },
  {
   "cell_type": "code",
   "execution_count": 40,
   "metadata": {},
   "outputs": [
    {
     "name": "stdout",
     "output_type": "stream",
     "text": [
      "La valeur de theta à estimer est -0.11357769168362511\n"
     ]
    }
   ],
   "source": [
    "#theta_true = np.random.multivariate_normal(np.zeros(20), np.identity(20))\n",
    "theta_true = np.random.normal(0, 1)\n",
    "print(f\"La valeur de theta à estimer est {theta_true}\")"
   ]
  },
  {
   "cell_type": "markdown",
   "metadata": {},
   "source": [
    "### <span style=\"color:violet\">  1.3. **Tirage de l'échantillon**  </span>"
   ]
  },
  {
   "cell_type": "code",
   "execution_count": 54,
   "metadata": {},
   "outputs": [
    {
     "name": "stdout",
     "output_type": "stream",
     "text": [
      "L'échantillon d'observation x de taille 20 sur lequel on travaillera tiré est \n",
      " \n",
      " [-0.2937694501014042, 1.5696386997880158, -0.14515528039374054, 1.7852144115958497, -1.297187257120742, -1.58011745664496, -2.4554035150308953, -0.43068380901292647, -3.819062133490065, -1.4522957117331756, 1.7671428773209445, -0.6630163948755565, 0.7145027082986055, -0.2510327393021645, -0.8252743510571311, 0.9087821412213151, -0.06519440371558796, 0.24538928295795967, -2.7542560129278, 1.0296511200944634]\n"
     ]
    }
   ],
   "source": [
    "def p_theta_x(theta_val):\n",
    "    \n",
    "    x = []\n",
    "\n",
    "    for _ in range(20):\n",
    "        x.append(np.random.normal(loc=theta_val, scale=np.sqrt(2)))\n",
    "\n",
    "    return x\n",
    "\n",
    "true_x = p_theta_x(theta_true)\n",
    "\n",
    "print(f\"L'échantillon d'observation x de taille 20 sur lequel on travaillera tiré est \\n \\n {x}\")"
   ]
  },
  {
   "cell_type": "markdown",
   "metadata": {},
   "source": [
    "### <span style=\"color:violet\">  1.4. **Adaptation de l'itération avec des estimation du gradient**  </span>"
   ]
  },
  {
   "cell_type": "markdown",
   "metadata": {},
   "source": [
    " l'idée est désormais d'adapter l'étape itérative décrite précédemment. Dans le cas où celle-ci est mise à jour à partir d'une estimation du gradient. On notera $\\hat{\\nabla}^{\\text{SUMO}}_{\\theta}, \\hat{\\nabla}^{\\text{ML-SS}}_{\\theta}, \\hat{\\nabla}^{\\text{ML-RR}}_{\\theta}$ et $\\hat{\\nabla}^{\\text{IWAE}}_{\\theta}$ l'estimateur du gradient selon les quatre méthodes sur lesquels repose nous travail (SUMO, ML_SS, ML_RR et IWAE).\n",
    "\n",
    "**Itération** : Par exemple, en utilisant l'estimateur du gradient avec la méthode SUMO, on a l'itération $t$ du paramètres $\\theta$ donnée, en utilisant un échantillon aléatoire de données $x^{(i)}$ (donc pour $i \\in \\{1, ..., 20\\}$) tiré de l'ensemble de données : \n",
    "\\begin{equation}\n",
    "\\theta^{(t+1)} = \\theta^{(t)} - \\eta \\hat{\\nabla}^{\\text{SUMO}}_{\\theta} (x^{(i)}),\n",
    "\\end{equation} "
   ]
  },
  {
   "cell_type": "markdown",
   "metadata": {},
   "source": [
    "### <span style=\"color:violet\">  1.4. **Étape itérative avec des estimation du gradient**  </span>"
   ]
  },
  {
   "cell_type": "code",
   "execution_count": 55,
   "metadata": {},
   "outputs": [],
   "source": [
    "def SGD_iteration(theta_t, true_x, eta, r, k_IWAE, n_simulations, method):\n",
    "\n",
    "    ## on tire un indice entre 0 et 19 (inclus)\n",
    "    random_index = random.randint(0, 19)\n",
    "\n",
    "    ## On crée un vecteur de taille 20 dont tous les éléments sont nuls, sauf celui donnée par l'index random_index\n",
    "    modified_x = np.zeros(20)\n",
    "    modified_x[random_index] = true_x[random_index]\n",
    "\n",
    "    ## on recalcule noised_A et noised_b SELON LE PARAMÈTRE PRÉCÉDENT theta_t\n",
    "    A, b = np.eye(20), (theta_t/2)*np.ones(20)\n",
    "    noised_A, noised_b = Code.noised_params(A, b)\n",
    "\n",
    "    if method == 'IWAE':\n",
    "        ## on calcule le gradient selon l'estimateur donné dans method\n",
    "        grad_theta_t = Code.grad_IWAE(modified_x, noised_A, noised_b, theta_t, k_IWAE, n_simulations)\n",
    "\n",
    "    elif method == 'SUMO':\n",
    "        ## on calcule le gradient selon l'estimateur donné dans method\n",
    "        grad_theta_t = Code.grad_SUMO(r, modified_x, noised_A, noised_b, theta_t, n_simulations)\n",
    "\n",
    "    elif method == 'ML_SS':\n",
    "        ## on calcule le gradient selon l'estimateur donné dans method\n",
    "        grad_theta_t = Code.grad_IWAE(r, modified_x, noised_A, noised_b, theta_t, n_simulations)\n",
    "\n",
    "    elif method == 'ML_RR':\n",
    "        ## on calcule le gradient selon l'estimateur donné dans method\n",
    "        grad_theta_t = Code.grad_IWAE(r, modified_x, noised_A, noised_b, theta_t, n_simulations)\n",
    "\n",
    "    theta_next =  theta_t - eta * grad_theta_t\n",
    "\n",
    "    return theta_next"
   ]
  },
  {
   "cell_type": "markdown",
   "metadata": {},
   "source": [
    "Une fois le code pour les itération fini, on s'attaque à la convergence de l'algorithme de descendre de gradient stochastique rien"
   ]
  },
  {
   "cell_type": "code",
   "execution_count": 56,
   "metadata": {},
   "outputs": [],
   "source": [
    "def SGD_convergence(theta_0, true_x, eps, eta, r, k_IWAE, n_simulations, method):\n",
    "\n",
    "    theta_t = [theta_0]\n",
    "    theta_t.append(SGD_iteration(theta_0, true_x, eta, r, k_IWAE, n_simulations, method))\n",
    "    t = 1\n",
    "    while abs(theta_t[t] - theta_t[t-1]) > eps:\n",
    "\n",
    "        theta_next = SGD_iteration(theta_t[t], true_x, eta, r, k_IWAE, n_simulations, method)\n",
    "        theta_t.append(theta_next)\n",
    "        t += 1\n",
    "\n",
    "    return theta_t"
   ]
  },
  {
   "cell_type": "code",
   "execution_count": 57,
   "metadata": {},
   "outputs": [
    {
     "ename": "TypeError",
     "evalue": "only length-1 arrays can be converted to Python scalars",
     "output_type": "error",
     "traceback": [
      "\u001b[0;31m---------------------------------------------------------------------------\u001b[0m",
      "\u001b[0;31mTypeError\u001b[0m                                 Traceback (most recent call last)",
      "\u001b[1;32m/Users/khelifanail/MLMC_Unibaised_Gradient_Estimation_for_Deep_LVM/SGD.ipynb Cell 16\u001b[0m line \u001b[0;36m9\n\u001b[1;32m      <a href='vscode-notebook-cell:/Users/khelifanail/MLMC_Unibaised_Gradient_Estimation_for_Deep_LVM/SGD.ipynb#X14sZmlsZQ%3D%3D?line=5'>6</a>\u001b[0m n_simulations \u001b[39m=\u001b[39m \u001b[39m5\u001b[39m \n\u001b[1;32m      <a href='vscode-notebook-cell:/Users/khelifanail/MLMC_Unibaised_Gradient_Estimation_for_Deep_LVM/SGD.ipynb#X14sZmlsZQ%3D%3D?line=6'>7</a>\u001b[0m method \u001b[39m=\u001b[39m \u001b[39m'\u001b[39m\u001b[39mML_RR\u001b[39m\u001b[39m'\u001b[39m\n\u001b[0;32m----> <a href='vscode-notebook-cell:/Users/khelifanail/MLMC_Unibaised_Gradient_Estimation_for_Deep_LVM/SGD.ipynb#X14sZmlsZQ%3D%3D?line=8'>9</a>\u001b[0m SGD_conv \u001b[39m=\u001b[39m SGD_convergence(theta_0, true_x, eps, eta, r, k_IWAE, n_simulations, method)\n",
      "\u001b[1;32m/Users/khelifanail/MLMC_Unibaised_Gradient_Estimation_for_Deep_LVM/SGD.ipynb Cell 16\u001b[0m line \u001b[0;36m4\n\u001b[1;32m      <a href='vscode-notebook-cell:/Users/khelifanail/MLMC_Unibaised_Gradient_Estimation_for_Deep_LVM/SGD.ipynb#X14sZmlsZQ%3D%3D?line=0'>1</a>\u001b[0m \u001b[39mdef\u001b[39;00m \u001b[39mSGD_convergence\u001b[39m(theta_0, true_x, eps, eta, r, k_IWAE, n_simulations, method):\n\u001b[1;32m      <a href='vscode-notebook-cell:/Users/khelifanail/MLMC_Unibaised_Gradient_Estimation_for_Deep_LVM/SGD.ipynb#X14sZmlsZQ%3D%3D?line=2'>3</a>\u001b[0m     theta_t \u001b[39m=\u001b[39m [theta_0]\n\u001b[0;32m----> <a href='vscode-notebook-cell:/Users/khelifanail/MLMC_Unibaised_Gradient_Estimation_for_Deep_LVM/SGD.ipynb#X14sZmlsZQ%3D%3D?line=3'>4</a>\u001b[0m     theta_t\u001b[39m.\u001b[39mappend(SGD_iteration(theta_0, true_x, eta, r, k_IWAE, n_simulations, method))\n\u001b[1;32m      <a href='vscode-notebook-cell:/Users/khelifanail/MLMC_Unibaised_Gradient_Estimation_for_Deep_LVM/SGD.ipynb#X14sZmlsZQ%3D%3D?line=4'>5</a>\u001b[0m     t \u001b[39m=\u001b[39m \u001b[39m1\u001b[39m\n\u001b[1;32m      <a href='vscode-notebook-cell:/Users/khelifanail/MLMC_Unibaised_Gradient_Estimation_for_Deep_LVM/SGD.ipynb#X14sZmlsZQ%3D%3D?line=5'>6</a>\u001b[0m     \u001b[39mwhile\u001b[39;00m \u001b[39mabs\u001b[39m(theta_t[t] \u001b[39m-\u001b[39m theta_t[t\u001b[39m-\u001b[39m\u001b[39m1\u001b[39m]) \u001b[39m>\u001b[39m eps:\n",
      "\u001b[1;32m/Users/khelifanail/MLMC_Unibaised_Gradient_Estimation_for_Deep_LVM/SGD.ipynb Cell 16\u001b[0m line \u001b[0;36m2\n\u001b[1;32m     <a href='vscode-notebook-cell:/Users/khelifanail/MLMC_Unibaised_Gradient_Estimation_for_Deep_LVM/SGD.ipynb#X14sZmlsZQ%3D%3D?line=23'>24</a>\u001b[0m     grad_theta_t \u001b[39m=\u001b[39m Code\u001b[39m.\u001b[39mgrad_IWAE(r, modified_x, noised_A, noised_b, theta_t, n_simulations)\n\u001b[1;32m     <a href='vscode-notebook-cell:/Users/khelifanail/MLMC_Unibaised_Gradient_Estimation_for_Deep_LVM/SGD.ipynb#X14sZmlsZQ%3D%3D?line=25'>26</a>\u001b[0m \u001b[39melif\u001b[39;00m method \u001b[39m==\u001b[39m \u001b[39m'\u001b[39m\u001b[39mML_RR\u001b[39m\u001b[39m'\u001b[39m:\n\u001b[1;32m     <a href='vscode-notebook-cell:/Users/khelifanail/MLMC_Unibaised_Gradient_Estimation_for_Deep_LVM/SGD.ipynb#X14sZmlsZQ%3D%3D?line=26'>27</a>\u001b[0m     \u001b[39m## on calcule le gradient selon l'estimateur donné dans method\u001b[39;00m\n\u001b[0;32m---> <a href='vscode-notebook-cell:/Users/khelifanail/MLMC_Unibaised_Gradient_Estimation_for_Deep_LVM/SGD.ipynb#X14sZmlsZQ%3D%3D?line=27'>28</a>\u001b[0m     grad_theta_t \u001b[39m=\u001b[39m Code\u001b[39m.\u001b[39;49mgrad_IWAE(r, modified_x, noised_A, noised_b, theta_t, n_simulations)\n\u001b[1;32m     <a href='vscode-notebook-cell:/Users/khelifanail/MLMC_Unibaised_Gradient_Estimation_for_Deep_LVM/SGD.ipynb#X14sZmlsZQ%3D%3D?line=29'>30</a>\u001b[0m theta_next \u001b[39m=\u001b[39m  theta_t \u001b[39m-\u001b[39m eta \u001b[39m*\u001b[39m grad_theta_t\n\u001b[1;32m     <a href='vscode-notebook-cell:/Users/khelifanail/MLMC_Unibaised_Gradient_Estimation_for_Deep_LVM/SGD.ipynb#X14sZmlsZQ%3D%3D?line=31'>32</a>\u001b[0m \u001b[39mreturn\u001b[39;00m theta_next\n",
      "File \u001b[0;32m~/MLMC_Unibaised_Gradient_Estimation_for_Deep_LVM/Code.py:640\u001b[0m, in \u001b[0;36mgrad_IWAE\u001b[0;34m(x, noised_A, noised_b, theta, k_IWAE, n_simulations, one_shot)\u001b[0m\n\u001b[1;32m    638\u001b[0m step \u001b[39m=\u001b[39m \u001b[39m0.2\u001b[39m\n\u001b[1;32m    639\u001b[0m num_points \u001b[39m=\u001b[39m \u001b[39mint\u001b[39m((theta_max \u001b[39m-\u001b[39m theta_min) \u001b[39m/\u001b[39m step) \u001b[39m# Nombre de points à générer\u001b[39;00m\n\u001b[0;32m--> 640\u001b[0m theta_values \u001b[39m=\u001b[39m np\u001b[39m.\u001b[39mlinspace(theta_min, theta_max, num_points)\n\u001b[1;32m    642\u001b[0m \u001b[39mif\u001b[39;00m one_shot:\n\u001b[1;32m    643\u001b[0m     theta_values \u001b[39m=\u001b[39m [theta] \n",
      "\u001b[0;31mTypeError\u001b[0m: only length-1 arrays can be converted to Python scalars"
     ]
    }
   ],
   "source": [
    "theta_0 = -3\n",
    "eta = 0.0001\n",
    "eps = 0.001\n",
    "r = 0.6\n",
    "k_IWAE = 5\n",
    "n_simulations = 5 \n",
    "method = 'ML_RR'\n",
    "\n",
    "SGD_conv = SGD_convergence(theta_0, true_x, eps, eta, r, k_IWAE, n_simulations, method)"
   ]
  },
  {
   "cell_type": "code",
   "execution_count": 25,
   "metadata": {},
   "outputs": [],
   "source": [
    "def plot_convergence(convergence_values, theta_true):\n",
    "    \"\"\"\n",
    "    Trace la convergence des points vers la valeur du vrai paramètre.\n",
    "\n",
    "    Args:\n",
    "    - convergence_values (list or numpy array): Liste des valeurs de convergence de l'algorithme.\n",
    "    - theta_true (float): Valeur vraie du paramètre.\n",
    "\n",
    "    \"\"\"\n",
    "    num_iterations = len(convergence_values)\n",
    "    iterations = np.arange(1, num_iterations + 1)  # Numéro des itérations\n",
    "\n",
    "    plt.figure(figsize=(10, 6))\n",
    "    plt.scatter(iterations, convergence_values, color='blue', label='Convergence')\n",
    "    plt.axhline(y=theta_true, color='red', linestyle='--', label='True Parameter Value')\n",
    "\n",
    "    plt.title('Convergence vers la valeur du vrai paramètre')\n",
    "    plt.xlabel('Iterations')\n",
    "    plt.ylabel('Valeur de convergence')\n",
    "    plt.legend()\n",
    "    plt.grid(True)\n",
    "    plt.show()\n"
   ]
  },
  {
   "cell_type": "code",
   "execution_count": 26,
   "metadata": {},
   "outputs": [
    {
     "data": {
      "image/png": "[encoded data removed]",
      "text/plain": [
       "<Figure size 1000x600 with 1 Axes>"
      ]
     },
     "metadata": {},
     "output_type": "display_data"
    }
   ],
   "source": [
    "plot_convergence(SGD_conv, theta_true)"
   ]
  },
  {
   "cell_type": "markdown",
   "metadata": {},
   "source": [
    "La descente de gradient stochastique (SGD) est un algorithme d'optimisation largement utilisé pour estimer les paramètres d'un modèle probabiliste par maximum de vraisemblance. L'algorithme fonctionne de la manière suivante :\n",
    "\n",
    "1. Choisir un point initial $ \\theta_0 $ dans l'espace des paramètres.\n",
    "2. Itération jusqu'à convergence :\n",
    "2.1. Échantillonnage stochastique : Sélectionner aléatoirement un échantillon $(x_i, y_i)$ parmi les données d'entraînement.\n",
    "2.2. Calcul du gradient : Calculer le gradient de la fonction de perte par rapport aux paramètres du modèle en utilisant l'échantillon sélectionné : $ \\nabla_{\\theta} \\mathcal{L}(\\theta; x_i, y_i) $.\n",
    "2.3. Mise à jour des paramètres : Mettre à jour les paramètres du modèle en utilisant le gradient calculé et un taux d'apprentissage $ \\eta $ : $ \\theta_{t+1} = \\theta_t - \\eta \\nabla_{\\theta} \\mathcal{L}(\\theta_t; x_i, y_i) $.\n",
    "\n",
    "\n",
    "\\textbf{Remarques :}\n",
    "\\begin{itemize}\n",
    "    \\item Le terme \"stochastique\" vient du fait que le gradient est calculé sur un seul échantillon à la fois, ce qui rend l'algorithme adapté aux grands ensembles de données.\n",
    "    \\item Le choix du taux d'apprentissage \\( \\eta \\) est crucial ; un taux d'apprentissage trop grand peut entraîner des oscillations et une convergence instable, tandis qu'un taux d'apprentissage trop petit peut ralentir la convergence.\n",
    "    \\item La convergence de l'algorithme dépend de plusieurs facteurs, notamment du choix du taux d'apprentissage, de la fonction de perte utilisée et de la nature de l'ensemble de données.\n",
    "\\end{itemize}\n",
    "\n"
   ]
  },
  {
   "cell_type": "markdown",
   "metadata": {},
   "source": []
  }
 ],
 "metadata": {
  "kernelspec": {
   "display_name": "Python 3",
   "language": "python",
   "name": "python3"
  },
  "language_info": {
   "codemirror_mode": {
    "name": "ipython",
    "version": 3
   },
   "file_extension": ".py",
   "mimetype": "text/x-python",
   "name": "python",
   "nbconvert_exporter": "python",
   "pygments_lexer": "ipython3",
   "version": "3.11.5"
  },
  "orig_nbformat": 4
 },
 "nbformat": 4,
 "nbformat_minor": 2
}
