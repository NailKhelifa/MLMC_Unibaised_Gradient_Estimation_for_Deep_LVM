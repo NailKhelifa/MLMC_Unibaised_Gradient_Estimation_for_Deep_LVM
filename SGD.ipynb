{
 "cells": [
  {
   "cell_type": "code",
   "execution_count": 43,
   "metadata": {},
   "outputs": [],
   "source": [
    "import numpy as np\n",
    "import Code\n",
    "from tqdm import tqdm\n",
    "import time"
   ]
  },
  {
   "cell_type": "code",
   "execution_count": 44,
   "metadata": {},
   "outputs": [
    {
     "name": "stdout",
     "output_type": "stream",
     "text": [
      "La valeur de theta à estimer est -1.3532634930117546\n"
     ]
    }
   ],
   "source": [
    "#theta_true = np.random.multivariate_normal(np.zeros(20), np.identity(20))\n",
    "theta_true = np.random.normal(0, 1)\n",
    "print(f\"La valeur de theta à estimer est {theta_true}\")"
   ]
  },
  {
   "cell_type": "code",
   "execution_count": 45,
   "metadata": {},
   "outputs": [
    {
     "name": "stdout",
     "output_type": "stream",
     "text": [
      "On vérifie que les tailles de A, b et x coincident :\n",
      " \n",
      " taille A : (20, 20) \n",
      " taille b : (20,) \n",
      " taille x : (20,)\n"
     ]
    }
   ],
   "source": [
    "x = np.random.multivariate_normal(mean=theta_true * np.ones(20), cov=np.eye(20))\n",
    "r = 0.6\n",
    "n_simulations = 5\n",
    "k_IWAE = 5\n",
    "dim = 20 \n",
    "\n",
    "## On calcule les valeurs optimales de A et de b\n",
    "A = 0.5 * np.eye(dim)\n",
    "b = 0.5 * theta_true * np.ones(dim)\n",
    "\n",
    "## On calcule les valeurs perturbées de A et de b, qui sont FIXÉES dans la suite\n",
    "noised_A, noised_b = Code.noised_params(A, b)\n",
    "\n",
    "print(f\"On vérifie que les tailles de A, b et x coincident :\\n \\n taille A : {A.shape} \\n taille b : {b.shape} \\n taille x : {x.shape}\")"
   ]
  },
  {
   "cell_type": "code",
   "execution_count": 46,
   "metadata": {},
   "outputs": [],
   "source": [
    "def grad_IWAE_theta(x, noised_A, noised_b, theta_true, k_IWAE, n_simulations):\n",
    "\n",
    "    theta_min = theta_true - 5  # Limite inférieure de la plage\n",
    "    theta_max = theta_true + 5 # Limite supérieure de la plage\n",
    "    num_points = 51  # Pour inclure theta_true au milieu # Nombre de points à générer\n",
    "    theta_values = np.linspace(theta_min, theta_max, num_points)\n",
    "\n",
    "    ## on caclue les valeurs de IWAE sur cette plage de valeurs\n",
    "    IWAE_values = [Code.log_likelihood_IWAE(theta, x, noised_A, noised_b, k_IWAE, n_simulations) for theta in theta_values]\n",
    "\n",
    "    gradient_IWAE = np.gradient(IWAE_values)\n",
    "\n",
    "    return gradient_IWAE[25]"
   ]
  },
  {
   "cell_type": "code",
   "execution_count": 52,
   "metadata": {},
   "outputs": [
    {
     "name": "stderr",
     "output_type": "stream",
     "text": [
      "Progression:  16%|█▌        | 8/50 [00:08<00:44,  1.06s/it]\n",
      "Progression: 100%|██████████| 50/50 [00:36<00:00,  1.37it/s]"
     ]
    },
    {
     "name": "stdout",
     "output_type": "stream",
     "text": [
      "Paramètre theta optimal: -1.363031739612915\n"
     ]
    },
    {
     "name": "stderr",
     "output_type": "stream",
     "text": [
      "\n"
     ]
    }
   ],
   "source": [
    "theta = theta_true-10**(-2)\n",
    "num_iterations = 50\n",
    "learning_rate = 2.5 * 10**(-4)\n",
    "\n",
    "progress_bar = tqdm(total=num_iterations, desc='Progression', position=0)\n",
    "for _ in range(num_iterations):\n",
    "    gradient = grad_IWAE_theta(x, noised_A, noised_b, theta_true, k_IWAE, n_simulations)  # Gradient de la log-probabilité\n",
    "    theta = theta + learning_rate * gradient\n",
    "    time.sleep(0.01)\n",
    "    progress_bar.update(1)\n",
    "progress_bar.close()\n",
    "\n",
    "# Effectuer la descente de gradient\n",
    "theta_optimal = theta \n",
    "\n",
    "# Afficher le résultat\n",
    "print(\"Paramètre theta optimal:\", theta_optimal)"
   ]
  },
  {
   "cell_type": "code",
   "execution_count": 53,
   "metadata": {},
   "outputs": [
    {
     "data": {
      "text/plain": [
       "-1.363031739612915"
      ]
     },
     "execution_count": 53,
     "metadata": {},
     "output_type": "execute_result"
    }
   ],
   "source": [
    "theta"
   ]
  },
  {
   "cell_type": "code",
   "execution_count": 50,
   "metadata": {},
   "outputs": [
    {
     "data": {
      "text/plain": [
       "0.0762473506041883"
      ]
     },
     "execution_count": 50,
     "metadata": {},
     "output_type": "execute_result"
    }
   ],
   "source": [
    "true_grad"
   ]
  },
  {
   "cell_type": "code",
   "execution_count": null,
   "metadata": {},
   "outputs": [],
   "source": []
  }
 ],
 "metadata": {
  "kernelspec": {
   "display_name": "Python 3",
   "language": "python",
   "name": "python3"
  },
  "language_info": {
   "codemirror_mode": {
    "name": "ipython",
    "version": 3
   },
   "file_extension": ".py",
   "mimetype": "text/x-python",
   "name": "python",
   "nbconvert_exporter": "python",
   "pygments_lexer": "ipython3",
   "version": "3.11.5"
  },
  "orig_nbformat": 4
 },
 "nbformat": 4,
 "nbformat_minor": 2
}
