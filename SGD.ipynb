{
 "cells": [
  {
   "cell_type": "code",
   "execution_count": 18,
   "metadata": {},
   "outputs": [],
   "source": [
    "import numpy as np\n",
    "import Code\n",
    "from tqdm import tqdm\n",
    "import time\n",
    "import matplotlib.pyplot as plt"
   ]
  },
  {
   "cell_type": "markdown",
   "metadata": {},
   "source": [
    "Avant toute chose, on tire une valeur du paramètre $\\theta$ que l'on considère comme étant la quantité que l'on souhaite approximer dans la suite de cette partie. On sait d'après le cadre de l'application numérique de l'article que $\\theta \\sim \\mathcal{N}(\\theta\\mathbf{1}_{20}, 2I_{20})$. "
   ]
  },
  {
   "cell_type": "code",
   "execution_count": 19,
   "metadata": {},
   "outputs": [
    {
     "name": "stdout",
     "output_type": "stream",
     "text": [
      "La valeur de theta à estimer est 0.6444003497038127\n"
     ]
    }
   ],
   "source": [
    "#theta_true = np.random.multivariate_normal(np.zeros(20), np.identity(20))\n",
    "theta_true = np.random.normal(0, 1)\n",
    "print(f\"La valeur de theta à estimer est {theta_true}\")"
   ]
  },
  {
   "cell_type": "markdown",
   "metadata": {},
   "source": [
    "### <span style=\"color:orange\">  **Cadre général de la descente de gradient stochastique pour obtenir une estimation du maximum de vraisemblance**  </span>\n",
    "\n",
    "Soit $\\boldsymbol{x}$ un ensemble de variables aléatoires observées et $\\theta$ le paramètre du modèle probabiliste que nous souhaitons estimer. La vraisemblance des données observées $p_{\\theta}(\\boldsymbol{x})$ est maximisée pour obtenir une estimation de maximum de vraisemblance (EMV) du paramètre $\\theta$. En utilisant la **descente de gradient stochastique (SGD)**, l'algorithme pour estimer les paramètres peut être formulé comme suit :\n",
    "\n",
    "\n",
    "1. **Initialisation** : On choisit un $\\theta^{(0)}$ De manière aléatoire ou déterministe. On peut par exemple choisir une telle valeur à partir d'une première approximation.\n",
    "\n",
    "2. **Itération** : À chaque itération $t$, les paramètres $\\theta$ sont mis à jour en utilisant un échantillon aléatoire de données $x^{(i)}$ tiré de l'ensemble de données paramétré par $\\theta^{(t)}$ et on a alors : \n",
    "\\begin{equation}\n",
    "\\theta^{(t+1)} = \\theta^{(t)} - \\eta \\nabla_{\\theta} \\log p(\\boldsymbol{x}^{(i)} | \\theta^{(t)}),\n",
    "\\end{equation}\n",
    "\n",
    "    où $\\eta$ est le **taux d'apprentissage** (également appelé pas d'apprentissage) et $\\nabla_{\\theta} \\log p_{\\theta^{(t)}}(\\boldsymbol{x}^{(i)})$ est le gradient du logarithme de la vraisemblance conditionnelle évalué pour l'échantillon $\\boldsymbol{x}^{(i)}$ à l'itération $t$. \n",
    "\n",
    "3. **Convergence** : On répète $(1)$ jusqu'à ce qu'un critère d'arrêt prédéfini soit satisfait, tel qu'un nombre maximal d'itérations atteint ou une convergence suffisante des paramètres.\n"
   ]
  },
  {
   "cell_type": "markdown",
   "metadata": {},
   "source": [
    "Dans l'article, pour effectuer l'expérience empirique, on nous donne la valeur explicite de la densité avec laquelle on tire les observations $\\boldsymbol{x}$. On nous donne : \n",
    "\n",
    "$$\n",
    "p_{\\theta}(\\boldsymbol{x}) = \\mathcal{N}(\\boldsymbol{x}|\\theta, 2I)\n",
    "$$"
   ]
  },
  {
   "cell_type": "code",
   "execution_count": 20,
   "metadata": {},
   "outputs": [],
   "source": [
    "def p_theta_x(theta_val):\n",
    "    \n",
    "    x = np.random.multivariate_normal(mean=theta_val * np.ones(20), cov=np.eye(20))\n",
    "\n",
    "    return np.log(x)"
   ]
  },
  {
   "cell_type": "markdown",
   "metadata": {},
   "source": [
    "On code désormais la partie itérative de l'algorithme de descentes de gradient stochastique."
   ]
  },
  {
   "cell_type": "code",
   "execution_count": 21,
   "metadata": {},
   "outputs": [],
   "source": [
    "## calcul du gradient \n",
    "\n",
    "def grad_theta(x, r, noised_A, noised_b, theta_true, k_IWAE, n_simulations, method):\n",
    "\n",
    "    theta_min = theta_true - 5  # Limite inférieure de la plage\n",
    "    theta_max = theta_true + 5 # Limite supérieure de la plage\n",
    "    num_points = 51  # Pour inclure theta_true au milieu # Nombre de points à générer\n",
    "    theta_values = np.linspace(theta_min, theta_max, num_points)\n",
    "\n",
    "    grad = 0\n",
    "\n",
    "    if method == 'IWAE':\n",
    "        ## on caclue les valeurs de IWAE sur cette plage de valeurs\n",
    "        IWAE_values = [Code.log_likelihood_IWAE(theta, x, noised_A, noised_b, k_IWAE, n_simulations) for theta in theta_values]\n",
    "\n",
    "        grad = np.gradient(IWAE_values)[25]\n",
    "\n",
    "    if method == 'SUMO':\n",
    "        SUMO_values = [Code.log_likelihood_SUMO(r, theta, x, noised_A, noised_b, n_simulations) for theta in theta_values]\n",
    "\n",
    "        grad = np.gradient(SUMO_values)[25]\n",
    "\n",
    "    if method == 'ML_SS':\n",
    "        ML_SS_values = [Code.log_likelihood_ML_SS(r, theta, x, noised_A, noised_b, n_simulations) for theta in theta_values]\n",
    "\n",
    "        grad = np.gradient(ML_SS_values)[25]\n",
    "\n",
    "    if method == 'ML_RR':\n",
    "        ML_RR_values = [Code.log_likelihood_ML_RR(r, theta, x, noised_A, noised_b, n_simulations) for theta in theta_values]\n",
    "\n",
    "        grad = np.gradient(ML_RR_values)[25]\n",
    "\n",
    "    return grad"
   ]
  },
  {
   "cell_type": "code",
   "execution_count": 22,
   "metadata": {},
   "outputs": [],
   "source": [
    "def SGD_iteration(theta_t, eta, r, k_IWAE, n_simulations, method):\n",
    "\n",
    "    ## on tire un échantillon aléatoire de données SELON LE PARAMÈTRE PRÉCÉDENT theta_t\n",
    "    x = p_theta_x(theta_t)\n",
    "\n",
    "    ## on recalcule noised_A et noised_b SELON LE PARAMÈTRE PRÉCÉDENT theta_t\n",
    "    A, b = np.eye(20), (theta_t/2)*np.ones(20)\n",
    "    noised_A, noised_b = Code.noised_params(A, b)\n",
    "    \n",
    "    ## on calcule le gradient selon l'estimateur donné dans method\n",
    "    grad_theta_t = grad_theta(x, r, noised_A, noised_b, theta_t, k_IWAE, n_simulations, method)\n",
    "\n",
    "    theta_next =  theta_t - eta * grad_theta_t\n",
    "\n",
    "    return theta_next"
   ]
  },
  {
   "cell_type": "markdown",
   "metadata": {},
   "source": [
    "Une fois le code pour les itération fini, on s'attaque à la convergence de l'algorithme de descendre de gradient stochastique rien"
   ]
  },
  {
   "cell_type": "code",
   "execution_count": 23,
   "metadata": {},
   "outputs": [],
   "source": [
    "def SGD_convergence(n_iterations, theta_0, eta, r, k_IWAE, n_simulations, method):\n",
    "\n",
    "    theta_t = [theta_0]\n",
    "\n",
    "    progress_bar = tqdm(total=n_iterations, desc='Progression', position=0)\n",
    "    \n",
    "    for i in range(n_iterations):\n",
    "\n",
    "        theta_next = SGD_iteration(theta_t[i], eta, r, k_IWAE, n_simulations, method)\n",
    "        theta_t.append(theta_next)\n",
    "        time.sleep(0.01)\n",
    "        progress_bar.update(1)\n",
    "\n",
    "    progress_bar.close()\n",
    "\n",
    "    return theta_t"
   ]
  },
  {
   "cell_type": "code",
   "execution_count": 24,
   "metadata": {},
   "outputs": [
    {
     "name": "stderr",
     "output_type": "stream",
     "text": [
      "Progression:   0%|          | 0/50 [00:00<?, ?it/s]/var/folders/q2/wg5gyfhj2r9cd97zfmckktvw0000gn/T/ipykernel_81553/3149367810.py:5: RuntimeWarning: invalid value encountered in log\n",
      "  return np.log(x)\n",
      "Progression: 100%|██████████| 50/50 [02:13<00:00,  2.67s/it]\n"
     ]
    }
   ],
   "source": [
    "n_iterations = 50\n",
    "theta_0 = 0\n",
    "eta = 0.0001\n",
    "r = 0.6\n",
    "k_IWAE = 5\n",
    "n_simulations = 5 \n",
    "method = 'ML_RR'\n",
    "\n",
    "SGD_conv = SGD_convergence(n_iterations, theta_0, eta, r, k_IWAE, n_simulations, method)"
   ]
  },
  {
   "cell_type": "code",
   "execution_count": 25,
   "metadata": {},
   "outputs": [],
   "source": [
    "def plot_convergence(convergence_values, theta_true):\n",
    "    \"\"\"\n",
    "    Trace la convergence des points vers la valeur du vrai paramètre.\n",
    "\n",
    "    Args:\n",
    "    - convergence_values (list or numpy array): Liste des valeurs de convergence de l'algorithme.\n",
    "    - theta_true (float): Valeur vraie du paramètre.\n",
    "\n",
    "    \"\"\"\n",
    "    num_iterations = len(convergence_values)\n",
    "    iterations = np.arange(1, num_iterations + 1)  # Numéro des itérations\n",
    "\n",
    "    plt.figure(figsize=(10, 6))\n",
    "    plt.scatter(iterations, convergence_values, color='blue', label='Convergence')\n",
    "    plt.axhline(y=theta_true, color='red', linestyle='--', label='True Parameter Value')\n",
    "\n",
    "    plt.title('Convergence vers la valeur du vrai paramètre')\n",
    "    plt.xlabel('Iterations')\n",
    "    plt.ylabel('Valeur de convergence')\n",
    "    plt.legend()\n",
    "    plt.grid(True)\n",
    "    plt.show()\n"
   ]
  },
  {
   "cell_type": "code",
   "execution_count": 26,
   "metadata": {},
   "outputs": [
    {
     "data": {
      "image/png": "[encoded data removed]",
      "text/plain": [
       "<Figure size 1000x600 with 1 Axes>"
      ]
     },
     "metadata": {},
     "output_type": "display_data"
    }
   ],
   "source": [
    "plot_convergence(SGD_conv, theta_true)"
   ]
  },
  {
   "cell_type": "code",
   "execution_count": null,
   "metadata": {},
   "outputs": [],
   "source": []
  }
 ],
 "metadata": {
  "kernelspec": {
   "display_name": "Python 3",
   "language": "python",
   "name": "python3"
  },
  "language_info": {
   "codemirror_mode": {
    "name": "ipython",
    "version": 3
   },
   "file_extension": ".py",
   "mimetype": "text/x-python",
   "name": "python",
   "nbconvert_exporter": "python",
   "pygments_lexer": "ipython3",
   "version": "3.11.5"
  },
  "orig_nbformat": 4
 },
 "nbformat": 4,
 "nbformat_minor": 2
}
