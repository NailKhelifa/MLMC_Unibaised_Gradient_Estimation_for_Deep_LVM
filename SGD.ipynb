{
 "cells": [
  {
   "cell_type": "code",
   "execution_count": 1,
   "metadata": {},
   "outputs": [],
   "source": [
    "import numpy as np\n",
    "import Code\n",
    "from tqdm import tqdm\n",
    "import time\n",
    "import matplotlib.pyplot as plt\n",
    "import random"
   ]
  },
  {
   "cell_type": "markdown",
   "metadata": {},
   "source": [
    "## <span style=\"color:orange\">  **Cadre général de la descente de gradient stochastique pour obtenir une estimation du maximum de vraisemblance**  </span>\n",
    "\n",
    "On se donne un échantillon d'observations $\\boldsymbol{x} \\in \\mathbb{R}^{20} = [x^{(1)}, ..., x^{(20)}]^T$ tiré selon une loi paramétrée par $\\theta$, qui est donc le paramètre du modèle probabiliste que nous souhaitons estimer. La log-vraisemblance des données observées $\\ell (\\theta) = \\log p_{\\theta}(\\boldsymbol{x}) = \\sum_{i=1}^{20} \\log p_{\\theta}(x^{(i)})$ est maximisée pour obtenir une estimation de maximum de vraisemblance (EMV) du paramètre $\\theta$. \n",
    "\n",
    "En utilisant la **descente de gradient stochastique (SGD)**, l'algorithme pour estimer les paramètres peut être formulé comme suit :\n",
    "\n",
    "\n",
    "1. **Initialisation** : On choisit un $\\theta^{(0)}$ De manière aléatoire ou déterministe. On peut par exemple choisir une telle valeur à partir d'une première approximation.\n",
    "\n",
    "2. **Itération** : À chaque itération $t$, les paramètres $\\theta$ sont mis à jour en utilisant un échantillon aléatoire de données $x^{(i)}$ (donc pour $i \\in \\{1, ..., 20\\}$) tiré de l'ensemble de données et on a alors : \n",
    "\\begin{equation}\n",
    "\\theta^{(t+1)} = \\theta^{(t)} - \\eta \\nabla_{\\theta} \\log p_{\\theta^{(t)}}(x^{(i)}),\n",
    "\\end{equation}\n",
    "\n",
    "    où $\\eta$ est le **taux d'apprentissage** (également appelé pas d'apprentissage) et $\\nabla_{\\theta} \\log p_{\\theta^{(t)}}(\\boldsymbol{x}^{(i)})$ est le gradient du logarithme de la vraisemblance conditionnelle évalué pour l'échantillon $\\boldsymbol{x}^{(i)}$ à l'itération $t$. \n",
    "\n",
    "3. **Convergence** : On répète $(1)$ jusqu'à ce qu'un critère d'arrêt prédéfini soit satisfait. Par exemple, on peut fixer pour un $\\epsilon$ donné le critère d'arrêt suivant :  \n",
    "$$ \n",
    "\\| \\theta^{(t+1)} - \\theta^{(t)} \\| < \\epsilon\n",
    "$$\n",
    "\n"
   ]
  },
  {
   "cell_type": "markdown",
   "metadata": {},
   "source": [
    "### <span style=\"color:violet\">  1.1. **Calcul explicite du gradient de la log-vraisemblance**  </span>"
   ]
  },
  {
   "cell_type": "markdown",
   "metadata": {},
   "source": [
    "Dans l'article, pour effectuer l'expérience empirique, on nous donne la valeur explicite de la densité avec laquelle on tire les observations $\\boldsymbol{x}$. On nous donne : \n",
    "\n",
    "$$\n",
    "p_{\\theta}(\\boldsymbol{x}) = \\mathcal{N}(\\boldsymbol{x}|\\theta \\mathbf{1}_{20}, 2\\mathbf{I}_{20}) = \\frac{1}{(4\\pi)^{10}} \\exp \\left\\{ -\\frac{1}{4} (\\boldsymbol{x} - \\theta \\mathbf{1}_{20})^T  (\\boldsymbol{x} - \\theta \\mathbf{1}_{20}) \\right\\}\n",
    "$$\n",
    "\n",
    "Ainsi, on a : \n",
    "\n",
    "$$\n",
    "\\log p_{\\theta}(\\boldsymbol{x}) = \\sum_{i=1}^{20}  \\log p_{\\theta}(x^{(i)}) = \\sum_{i=1}^{20} \\log \\left( \\frac{1}{2\\sqrt{\\pi}} \\exp\\left(-\\frac{(x - \\theta)^2}{4}\\right) \\right)\n",
    "$$\n",
    "\n",
    "Une fois cette expression explicite de la log-vraisemblance obtenue, on peut calculer explicitement le gradient de celle-ci **par rapport au paramètre  $\\theta$**. On a : \n",
    "\n",
    "$$\n",
    "\\nabla_{\\theta} \\log p_{\\theta} (\\boldsymbol{x}) = \\sum_{i=1}^{20}  \\log \\nabla_{\\theta} p_{\\theta}(x^{(i)}) = \\frac{1}{2} \\sum_{i=1}^{20} (x^{(i)} - \\theta)\n",
    "$$\n",
    "\n",
    "Si bien que l'on retrouve la version du gradient **en un point** de l'échantillon $\\boldsymbol{x}$ que l'on utilise dans l'étape itérative : \n",
    "\n",
    "$$\n",
    "\\nabla_{\\theta} \\log p_{\\theta}(x^{(i)}) = \\frac{1}{2} (x^{(i)} - \\theta)\n",
    "$$\n",
    "\n",
    "A MODIFIER + ERREUR D"
   ]
  },
  {
   "cell_type": "markdown",
   "metadata": {},
   "source": [
    "### <span style=\"color:violet\">  1.2. **Tirage du paramètre génératif $\\theta$**  </span>"
   ]
  },
  {
   "cell_type": "markdown",
   "metadata": {},
   "source": [
    "Avant toute chose, on tire une valeur du paramètre $\\theta$ que l'on considère comme étant la quantité que l'on souhaite approximer dans la suite de cette partie. On sait d'après le cadre de l'application numérique de l'article que $\\theta \\sim \\mathcal{N}(1, 0)$. "
   ]
  },
  {
   "cell_type": "code",
   "execution_count": 2,
   "metadata": {},
   "outputs": [
    {
     "name": "stdout",
     "output_type": "stream",
     "text": [
      "La valeur de theta à estimer est 0.2700757111025037\n"
     ]
    }
   ],
   "source": [
    "#theta_true = np.random.multivariate_normal(np.zeros(20), np.identity(20))\n",
    "theta_true = np.random.normal(0, 1)\n",
    "print(f\"La valeur de theta à estimer est {theta_true}\")"
   ]
  },
  {
   "cell_type": "markdown",
   "metadata": {},
   "source": [
    "### <span style=\"color:violet\">  1.3. **Tirage de l'échantillon**  </span>"
   ]
  },
  {
   "cell_type": "code",
   "execution_count": 3,
   "metadata": {},
   "outputs": [
    {
     "name": "stdout",
     "output_type": "stream",
     "text": [
      "L'échantillon d'observation x de taille 20 sur lequel on travaillera tiré est \n",
      " \n",
      " [2.056948515976391, -1.5754790853180172, 1.795495705853603, 1.1677129245726634, -0.3055298090643941, -1.3950078300646558, -0.8983084196588546, 1.2877601790498994, -0.4817172279154345, -0.6344557437606904, 2.247319678417429, -0.10837324004200499, -0.2682017018124947, 3.1173166573324957, 2.7338693872933453, 1.9669471194570547, -1.3932013555059957, 0.8129227992569387, 0.2978899656114728, 0.34268362201861]\n"
     ]
    }
   ],
   "source": [
    "def p_theta_x(theta_val):\n",
    "    \n",
    "    x = []\n",
    "\n",
    "    for _ in range(20):\n",
    "        x.append(np.random.normal(loc=theta_val, scale=np.sqrt(2)))\n",
    "\n",
    "    return x\n",
    "\n",
    "true_x = p_theta_x(theta_true)\n",
    "\n",
    "print(f\"L'échantillon d'observation x de taille 20 sur lequel on travaillera tiré est \\n \\n {true_x}\")"
   ]
  },
  {
   "cell_type": "markdown",
   "metadata": {},
   "source": [
    "### <span style=\"color:violet\">  1.4. **Adaptation de l'itération avec des estimation du gradient**  </span>"
   ]
  },
  {
   "cell_type": "markdown",
   "metadata": {},
   "source": [
    " l'idée est désormais d'adapter l'étape itérative décrite précédemment. Dans le cas où celle-ci est mise à jour à partir d'une estimation du gradient. On notera $\\hat{\\nabla}^{\\text{SUMO}}_{\\theta}, \\hat{\\nabla}^{\\text{ML-SS}}_{\\theta}, \\hat{\\nabla}^{\\text{ML-RR}}_{\\theta}$ et $\\hat{\\nabla}^{\\text{IWAE}}_{\\theta}$ l'estimateur du gradient selon les quatre méthodes sur lesquels repose nous travail (SUMO, ML_SS, ML_RR et IWAE).\n",
    "\n",
    "**Itération** : Par exemple, en utilisant l'estimateur du gradient avec la méthode SUMO, on a l'itération $t$ du paramètres $\\theta$ donnée, en utilisant un échantillon aléatoire de données $x^{(i)}$ (donc pour $i \\in \\{1, ..., 20\\}$) tiré de l'ensemble de données : \n",
    "\\begin{equation}\n",
    "\\theta^{(t+1)} = \\theta^{(t)} - \\eta \\hat{\\nabla}^{\\text{SUMO}}_{\\theta} (x^{(i)}),\n",
    "\\end{equation} \n",
    "\n",
    "A MODIFIER (?)"
   ]
  },
  {
   "cell_type": "markdown",
   "metadata": {},
   "source": [
    "### <span style=\"color:violet\">  1.4. **Étape itérative avec des estimation du gradient**  </span>"
   ]
  },
  {
   "cell_type": "code",
   "execution_count": 4,
   "metadata": {},
   "outputs": [],
   "source": [
    "def SGD_iteration(theta_t, true_x, eta, r, k_IWAE, n_simulations, method):\n",
    "\n",
    "    ## on tire un indice entre 0 et 19 (inclus)\n",
    "    random_index = random.randint(0, 19)\n",
    "\n",
    "    ## On crée un vecteur de taille 20 dont tous les éléments sont nuls, sauf celui donnée par l'index random_index\n",
    "    modified_x = np.zeros(20)\n",
    "    modified_x[random_index] = true_x[random_index]\n",
    "\n",
    "    ## on recalcule noised_A et noised_b SELON LE PARAMÈTRE PRÉCÉDENT theta_t\n",
    "    A, b = np.eye(20), (theta_t/2)*np.ones(20)\n",
    "    noised_A, noised_b = Code.noised_params(A, b)\n",
    "\n",
    "    if method == 'IWAE':\n",
    "        ## on calcule le gradient selon l'estimateur donné dans method\n",
    "        grad_theta_t = Code.grad_IWAE(modified_x, noised_A, noised_b, theta_t, k_IWAE, n_simulations)\n",
    "\n",
    "    elif method == 'SUMO':\n",
    "        ## on calcule le gradient selon l'estimateur donné dans method\n",
    "        grad_theta_t = Code.grad_SUMO(r, modified_x, noised_A, noised_b, theta_t, n_simulations)\n",
    "\n",
    "    elif method == 'ML_SS':\n",
    "        ## on calcule le gradient selon l'estimateur donné dans method\n",
    "        grad_theta_t = Code.grad_IWAE(r, modified_x, noised_A, noised_b, theta_t, n_simulations)\n",
    "\n",
    "    elif method == 'ML_RR':\n",
    "        ## on calcule le gradient selon l'estimateur donné dans method\n",
    "        grad_theta_t = Code.grad_IWAE(r, modified_x, noised_A, noised_b, theta_t, n_simulations)\n",
    "\n",
    "    theta_next =  theta_t - eta * grad_theta_t\n",
    "\n",
    "    return theta_next"
   ]
  },
  {
   "cell_type": "code",
   "execution_count": 5,
   "metadata": {},
   "outputs": [],
   "source": [
    "def SGD_iteration_tom(true_x, sum_log, position, theta_t, eta, r, k_IWAE, n_simulations, method):\n",
    "\n",
    "    #modified_x = true_x[position]\n",
    "\n",
    "    ## on recalcule noised_A et noised_b SELON LE PARAMÈTRE PRÉCÉDENT theta_t\n",
    "    #A, b = np.eye(20), (theta_t/2)*np.ones(20)\n",
    "    #noised_A, noised_b = Code.noised_params(A, b)\n",
    "    \n",
    "    A, b = np.eye(2), (theta_t/2)*np.ones(2)\n",
    "    noised_A, noised_b = Code.noised_params(A, b, dim=2)\n",
    "\n",
    "    if method == 'IWAE':\n",
    "        ## on calcule le gradient selon l'estimateur donné dans method\n",
    "        grad_theta_t = Code.grad_IWAE(true_x, noised_A, noised_b, float(theta_t), k_IWAE, n_simulations, dim = 2, one_shot=True)\n",
    "\n",
    "    elif method == 'SUMO':\n",
    "        ## on calcule le gradient selon l'estimateur donné dans method\n",
    "        grad_theta_t = Code.grad_SUMO(r, true_x, noised_A, noised_b, float(theta_t), n_simulations, dim = 2, one_shot=True)\n",
    "\n",
    "    elif method == 'ML_SS':\n",
    "        ## on calcule le gradient selon l'estimateur donné dans method\n",
    "        grad_theta_t = Code.grad_ML_SS(r, true_x, noised_A, noised_b, float(theta_t), n_simulations, dim = 2, one_shot=True)\n",
    "\n",
    "    elif method == 'ML_RR':\n",
    "        ## on calcule le gradient selon l'estimateur donné dans method\n",
    "        grad_theta_t = Code.grad_ML_RR(r, true_x, noised_A, noised_b, float(theta_t), n_simulations, dim = 2, one_shot=True)\n",
    "\n",
    "     ## On prend le ième terme de notre somme et cela sera celui-ci que l'on dérive à cette itération\n",
    "    sum_log[position] = grad_theta_t\n",
    "\n",
    "    theta_next =  theta_t + eta * sum(sum_log)/len(sum_log) ## ON est sur du gradient ascent\n",
    "\n",
    "    return theta_next, sum_log"
   ]
  },
  {
   "cell_type": "markdown",
   "metadata": {},
   "source": [
    "Une fois le code pour les itération fini, on s'attaque à la convergence de l'algorithme de descendre de gradient stochastique rien"
   ]
  },
  {
   "cell_type": "code",
   "execution_count": 33,
   "metadata": {},
   "outputs": [],
   "source": [
    "def SGD_convergence(theta_0, true_x, eps, eta, r, k_IWAE, n_simulations, method):\n",
    "    \n",
    "    ## On initialise la somme des log pour chaque i\n",
    "    sum_log = []\n",
    "\n",
    "    if method == 'IWAE':\n",
    "        \n",
    "        #for i in range(10):\n",
    "            #sum_log.append(Code.grad_IWAE(true_x[i, i+1], np.eye(20), (theta_0/2)*np.ones(20), theta_0, k_IWAE, n_simulations, dim = 2, one_shot=True, range=1))\n",
    "        for i in range(len(true_x)) : \n",
    "            sum_log.append(Code.grad_IWAE([true_x[2*i], true_x[2*i+1]], np.eye(2), (theta_0/2)*np.ones(2), theta_0, k_IWAE, n_simulations, dim = 2, one_shot=True, range=1))\n",
    "\n",
    "    elif method == 'SUMO':\n",
    "\n",
    "        for i in range(len(true_x)) : \n",
    "            sum_log.append(Code.grad_SUMO(r, [true_x[2*i], true_x[2*i+1]], np.eye(2), (theta_0/2)*np.ones(2), theta_0, n_simulations, dim = 2, one_shot=True, range=1))\n",
    "\n",
    "    elif method == 'ML_SS':\n",
    "\n",
    "        for i in range(len(true_x)) : \n",
    "            sum_log.append(Code.grad_ML_SS(r, [true_x[2*i], true_x[2*i+1]], np.eye(2), (theta_0/2)*np.ones(2), theta_0, n_simulations, dim = 2, one_shot=True, range=1))\n",
    "    \n",
    "    elif method == 'ML_RR':\n",
    "\n",
    "        for i in range(10):\n",
    "            sum_log.append(Code.grad_ML_RR(r, [true_x[2*i], true_x[2*i+1]], np.eye(2), (theta_0/2)*np.ones(2), theta_0, n_simulations, dim = 2, one_shot=True, range=1))\n",
    "        #for i in range(len(true_x)) : \n",
    "            #sum_log.append(Code.grad_ML_RR(r, true_x[i], np.eye(2), (theta_0/2)*np.ones(2), theta_0, n_simulations, dim = 2, one_shot=True, range=1))\n",
    "\n",
    "    print(f\" voici la sommelog {sum_log}\")\n",
    "\n",
    "    theta_t = [0, theta_0]\n",
    "    #theta_t.append(SGD_iteration_tom(true_x[], sum_log, 0, theta_0, eta, r, k_IWAE, n_simulations, method)[0])\n",
    "    t = 1\n",
    "    #while abs(theta_t[t] - theta_t[t-1]) > eps:\n",
    "    while abs(theta_t[t] - theta_true) > eps:\n",
    "        \n",
    "        ## peut-être que l'on peut inverser les deux boucles cela ferait plus de sens mais c'est pour voir si ça s'arrête\n",
    "\n",
    "        for i in range(10):\n",
    "            \n",
    "            theta_next, sum_log = SGD_iteration_tom([true_x[2*i], true_x[2*i+1]], sum_log, i, theta_t[t], eta, r, k_IWAE, n_simulations, method)\n",
    "            \n",
    "            theta_t.append(theta_next)\n",
    "            print(theta_next)\n",
    "            if abs(theta_next - theta_true) < eps:\n",
    "                return theta_t\n",
    "            else : \n",
    "                t += 1\n",
    "        #for i in range(len(true_x)):\n",
    "            #print(f'thetaT{theta_t[t]}')\n",
    "            #theta_next, sum_log = SGD_iteration_tom(true_x[i], sum_log, i, theta_t[t], eta, r, k_IWAE, n_simulations, method)\n",
    "            #print(f\"thetaNext{theta_next}\")\n",
    "            #if abs(theta_next - theta_t[t]) < eps:\n",
    "                #return theta_next\n",
    "            #else : \n",
    "                #theta_t.append(theta_next)\n",
    "                #t += 1\n",
    "\n",
    "    return theta_t"
   ]
  },
  {
   "cell_type": "code",
   "execution_count": 34,
   "metadata": {},
   "outputs": [
    {
     "name": "stdout",
     "output_type": "stream",
     "text": [
      " voici la sommelog [0.08248578586178645, -0.10928179593208842, 0.46671221768201754, 0.11310003583601347, 0.3187212979392613, 0.3218274947557678, -1.9126638378372984, -1.0391351175080148, 0.04489048378496863, 0.02928005242541687]\n",
      "-3.0102967404485286\n",
      "-3.007431286960884\n",
      "-3.0038816620331805\n",
      "-2.992497625037402\n",
      "-2.976783378571782\n",
      "-2.9930337713110706\n",
      "-2.9708713435366945\n",
      "-2.929079475663955\n",
      "-2.882587774310202\n",
      "-2.830888039572115\n",
      "-2.7822059638766503\n",
      "-2.7305191617771993\n",
      "-2.6771120715842596\n",
      "-2.627064767052311\n",
      "-2.577634592168351\n",
      "-2.5040629615545673\n",
      "-2.577377125280572\n",
      "-2.648998785106657\n",
      "-2.717046649987116\n",
      "-2.7837265772328097\n",
      "-2.8492620622615816\n",
      "-2.918339224014925\n",
      "-2.999740643964068\n",
      "-3.087191254325894\n",
      "-3.1763199586846196\n",
      "-3.2412663764318017\n",
      "-3.18165331140051\n",
      "-3.1437094791672986\n",
      "-3.10586232473494\n",
      "-3.06849201925782\n",
      "-3.033540494104094\n",
      "-2.9902956669702045\n",
      "-2.935533424483309\n",
      "-2.8728043500411378\n",
      "-2.8094363889557172\n",
      "-2.7598612156925624\n",
      "-2.6960864230247163\n",
      "-2.632950221138654\n",
      "-2.5750010053829504\n",
      "-2.5177766188577495\n",
      "-2.466517413774439\n",
      "-2.422950006677716\n",
      "-2.3816756183703283\n",
      "-2.3454526883963656\n",
      "-2.309721894033761\n",
      "-2.268120049828285\n",
      "-2.2165285331508615\n",
      "-2.13097563477749\n",
      "-2.0508160888853797\n",
      "-1.9707056981891427\n",
      "-1.876720834081831\n",
      "-1.7938387471079924\n",
      "-1.7140593166719373\n",
      "-1.6373933118540591\n",
      "-1.5629160955289543\n",
      "-1.496428291606734\n",
      "-1.4480397649506371\n",
      "-1.4019162003914676\n",
      "-1.3486166989391624\n",
      "-1.2977600289919986\n",
      "-1.2460026554763903\n",
      "-1.200909411759489\n",
      "-1.155220150711331\n",
      "-1.100007720414974\n",
      "-1.046854410845999\n",
      "-0.9912683869638174\n",
      "-0.9334568352845144\n",
      "-0.8705906956997663\n",
      "-0.8179785430429567\n",
      "-0.7668981999368223\n",
      "-0.7177786698506028\n",
      "-0.6486466083995382\n",
      "-0.5778736128080423\n",
      "-0.5129020308745689\n",
      "-0.45036161840573635\n",
      "-0.3918192603779632\n",
      "-0.44121727958511475\n",
      "-0.5596584548155533\n",
      "-0.6609907555295822\n",
      "-0.7622557773359198\n",
      "-0.8647647239829808\n",
      "-0.9788166787419235\n",
      "-1.0975222047573208\n",
      "-1.215111108371233\n",
      "-1.3319683691488404\n",
      "-1.4498476084273773\n",
      "-1.470222293124748\n",
      "-1.451163286103866\n",
      "-1.4372301881025318\n",
      "-1.4220452683028006\n",
      "-1.4076439548870379\n",
      "-1.3817166140979686\n",
      "-1.3529380299373606\n",
      "-1.321956629503768\n",
      "-1.2912200290537295\n",
      "-1.253282185518766\n",
      "-1.214788980295555\n",
      "-1.1736758806820762\n",
      "-1.1227471148767538\n",
      "-1.0708349342180745\n",
      "-1.0257619186810114\n",
      "-0.9817513450742512\n",
      "-0.9418438236926563\n",
      "-0.8980000499991307\n",
      "-0.8486411395178702\n",
      "-0.7914777866784938\n",
      "-0.7103373284103346\n",
      "-0.6213730354545814\n",
      "-0.5445537342616528\n",
      "-0.4688338274719209\n",
      "-0.39123563755158186\n",
      "-0.3259661607642494\n",
      "-0.2651763848050093\n",
      "-0.2132381032494774\n",
      "-0.16580571762834825\n",
      "-0.16045082669294003\n",
      "-0.15668067285552026\n",
      "-0.14613380113862615\n",
      "-0.1392598803603055\n",
      "-0.13474925711194286\n",
      "-0.1311513287516714\n",
      "-0.12309299811574717\n",
      "-0.10101452031057817\n",
      "-0.08029405217167536\n",
      "-0.05994589726460726\n",
      "-0.002246250155667137\n",
      "0.032196085993743885\n",
      "0.06184455713769489\n",
      "0.08888100895738488\n",
      "0.11572699743123037\n",
      "0.1595425027224789\n",
      "0.20310799548442549\n",
      "0.23725088863901564\n",
      "0.2733530921795324\n"
     ]
    }
   ],
   "source": [
    "theta_0 = -3\n",
    "#eta = 0.0001\n",
    "#eps = 0.001\n",
    "eta = 0.1\n",
    "eps = 0.01\n",
    "r = 0.6\n",
    "k_IWAE = 5\n",
    "n_simulations = 2\n",
    "method = 'ML_RR'\n",
    "\n",
    "SGD_conv = SGD_convergence(theta_0, true_x, eps, eta, r, k_IWAE, n_simulations, method)"
   ]
  },
  {
   "cell_type": "code",
   "execution_count": 37,
   "metadata": {},
   "outputs": [],
   "source": [
    "def plot_convergence(convergence_values, theta_true):\n",
    "    \"\"\"\n",
    "    Trace la convergence des points vers la valeur du vrai paramètre.\n",
    "\n",
    "    Args:\n",
    "    - convergence_values (list or numpy array): Liste des valeurs de convergence de l'algorithme.\n",
    "    - theta_true (float): Valeur vraie du paramètre.\n",
    "\n",
    "    \"\"\"\n",
    "    num_iterations = len(convergence_values)  # Nombre d'itérations\n",
    "    iterations = np.arange(1, num_iterations + 1)  # Numéro des itérations\n",
    "\n",
    "    plt.figure(figsize=(10, 6))\n",
    "    plt.scatter(iterations, convergence_values, color='blue', label='Convergence')\n",
    "    plt.axhline(y=theta_true, color='red', linestyle='--', label='True Parameter Value')\n",
    "\n",
    "    plt.title('Convergence vers la valeur du vrai paramètre')\n",
    "    plt.xlabel('Iterations')\n",
    "    plt.ylabel('Valeur de convergence')\n",
    "    plt.legend()\n",
    "    plt.grid(True)\n",
    "    plt.show()\n"
   ]
  },
  {
   "cell_type": "code",
   "execution_count": 38,
   "metadata": {},
   "outputs": [
    {
     "data": {
      "image/png": "[encoded data removed]",
      "text/plain": [
       "<Figure size 720x432 with 1 Axes>"
      ]
     },
     "metadata": {
      "needs_background": "light"
     },
     "output_type": "display_data"
    }
   ],
   "source": [
    "plot_convergence(SGD_conv, theta_true)"
   ]
  },
  {
   "cell_type": "markdown",
   "metadata": {},
   "source": [
    "La descente de gradient stochastique (SGD) est un algorithme d'optimisation largement utilisé pour estimer les paramètres d'un modèle probabiliste par maximum de vraisemblance. L'algorithme fonctionne de la manière suivante :\n",
    "\n",
    "1. Choisir un point initial $ \\theta_0 $ dans l'espace des paramètres.\n",
    "2. Itération jusqu'à convergence :\n",
    "2.1. Échantillonnage stochastique : Sélectionner aléatoirement un échantillon $(x_i, y_i)$ parmi les données d'entraînement.\n",
    "2.2. Calcul du gradient : Calculer le gradient de la fonction de perte par rapport aux paramètres du modèle en utilisant l'échantillon sélectionné : $ \\nabla_{\\theta} \\mathcal{L}(\\theta; x_i, y_i) $.\n",
    "2.3. Mise à jour des paramètres : Mettre à jour les paramètres du modèle en utilisant le gradient calculé et un taux d'apprentissage $ \\eta $ : $ \\theta_{t+1} = \\theta_t - \\eta \\nabla_{\\theta} \\mathcal{L}(\\theta_t; x_i, y_i) $.\n",
    "\n",
    "\n",
    "\\textbf{Remarques :}\n",
    "\\begin{itemize}\n",
    "    \\item Le terme \"stochastique\" vient du fait que le gradient est calculé sur un seul échantillon à la fois, ce qui rend l'algorithme adapté aux grands ensembles de données.\n",
    "    \\item Le choix du taux d'apprentissage \\( \\eta \\) est crucial ; un taux d'apprentissage trop grand peut entraîner des oscillations et une convergence instable, tandis qu'un taux d'apprentissage trop petit peut ralentir la convergence.\n",
    "    \\item La convergence de l'algorithme dépend de plusieurs facteurs, notamment du choix du taux d'apprentissage, de la fonction de perte utilisée et de la nature de l'ensemble de données.\n",
    "\\end{itemize}\n",
    "\n"
   ]
  }
 ],
 "metadata": {
  "kernelspec": {
   "display_name": "Python 3",
   "language": "python",
   "name": "python3"
  },
  "language_info": {
   "codemirror_mode": {
    "name": "ipython",
    "version": 3
   },
   "file_extension": ".py",
   "mimetype": "text/x-python",
   "name": "python",
   "nbconvert_exporter": "python",
   "pygments_lexer": "ipython3",
   "version": "3.9.7"
  },
  "orig_nbformat": 4
 },
 "nbformat": 4,
 "nbformat_minor": 2
}
