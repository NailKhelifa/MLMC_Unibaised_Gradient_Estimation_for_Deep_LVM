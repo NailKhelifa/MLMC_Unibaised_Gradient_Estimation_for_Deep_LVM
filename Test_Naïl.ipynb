{
 "cells": [
  {
   "cell_type": "markdown",
   "metadata": {},
   "source": [
    "## <span style=\"color:red\">  1. Introduction  </span>\n",
    "\n",
    "#### 1.1. **Notations**\n",
    "\n",
    "On se donne un ensemble de données $\\boldsymbol{x} = \\{x^{(i)}\\}_{i=1}^n$ composé de $n$ échantillons i.i.d. d'une variable continue ou discrète $x$ à valeurs dans un espace d'observations $\\boldsymbol{\\mathcal{X}}$ (ainsi $\\boldsymbol{x} \\in \\boldsymbol{\\mathcal{X}}$). Nous supposons que les données sont générées par un processus aléatoire impliquant une variable aléatoire continue non observée $\\boldsymbol{z} = \\{z^{(i)}\\}_{i=1}^n$ à valeur dans un espace d'observations $\\boldsymbol{\\mathcal{Z}}$ (ainsi $\\boldsymbol{z} \\in \\boldsymbol{\\mathcal{Z}}$). Le processus se compose de deux étapes :\n",
    "\n",
    "\n",
    "1. La valeur $z^{(i)}$ est générée à partir d'une distribution a priori $p_{\\theta^*}(z)$ ;\n",
    "2. Une valeur $x^{(i)}$ est générée à partir d'une distribution conditionnelle $p_{\\theta^*}(x|z)$.\n",
    "\n",
    "\n",
    "Nous supposons que la distribution a priori $p_{\\theta^*}(\\boldsymbol{z})$ et la vraisemblance $p_{\\theta^*}(\\boldsymbol{x}|\\boldsymbol{z})$ proviennent de familles paramétriques de distributions $p_{\\theta}(\\boldsymbol{z})$ et $p_{\\theta}(\\boldsymbol{x}|\\boldsymbol{z})$ et on note $\\Theta \\subset \\mathbb{R}^d$ l'espace des paramètres. On connait ainsi l'expression de ces deux distributions. En revanche une grande partie de ce processus nous est cachée : les véritables paramètres $\\theta^*$ ainsi que les valeurs des $\\textbf{variables latentes}$ $z^{(i)}$ nous sont inconnus. \n",
    "\n",
    "Connaissant l'expression de la distribution a priori $p_{\\theta^*}(\\boldsymbol{z})$ et la vraisemblance $p_{\\theta^*}(\\boldsymbol{x}|\\boldsymbol{z})$ pour tout $\\theta \\in \\Theta$, on peut définir la densité jointe $p_{\\theta}(\\boldsymbol{x}, \\boldsymbol{z})$ sur $\\boldsymbol{\\mathcal{X}} \\times \\boldsymbol{\\mathcal{Z}}$ par : \n",
    "\n",
    "$$\n",
    "p_{\\theta}(\\boldsymbol{x}, \\boldsymbol{z}) = p_{\\theta}(\\boldsymbol{x}|\\boldsymbol{z}) p_{\\theta}(\\boldsymbol{z})\n",
    "$$\n",
    "\n",
    "#### 1.2. **Formulation du problème** \n",
    "\n",
    "***Objectif*** : on cherche à déterminer la vraie valeur du paramètre (ici $\\theta^*$) ainsi que les valeurs des variables latentes. \n",
    "\n",
    "Une approche classique pour apprendre $\\boldsymbol{\\theta}$ est de choisir, si celle-ci existe, la valeur de ce paramètre qui maximise la log-vraisemblance marginale de l’ ́echantillon définie par :\n",
    "\n",
    "$$\n",
    "\\ell(\\boldsymbol{\\theta}) = \\log p_{\\boldsymbol{\\theta}}(\\boldsymbol{x}) = \\log \\int_{\\boldsymbol{\\mathcal{Z}}} p_{\\boldsymbol{\\theta}}(\\boldsymbol{x}, \\boldsymbol{z}) d\\boldsymbol{z}\n",
    "$$\n",
    "\n",
    "***Problème*** : l'intégrale donnée en ci-dessus est intractable (nous ne pouvons donc pas évaluer ou différencier la vraisemblance marginale).\n",
    "\n",
    "#### 1.3. **Nouvelle approche : méthodes variationnelles Bayésiennes**\n",
    "\n",
    "##### 1.3.1. *Modèle de reconnaissance*\n",
    "\n",
    "Dans le but de résoudre les problèmes ci-dessus, introduisons un **modèle de reconnaissance** (paramétrique) {$ q_{\\phi}(\\boldsymbol{z}|\\boldsymbol{x}) : \\phi \\in \\Phi$} avec $\\Phi \\subset \\mathbb{R}^d$. Pour tout $\\phi$, $q_{\\phi}(\\boldsymbol{z}|\\boldsymbol{x})$ est choisi comme une approximation de la véritable postérieure intractable $p_{\\theta}(\\boldsymbol{z}|\\boldsymbol{x})$. L'idée est donc de proposer une valeur de l'a posteriori (faire une hypothèse) et d'introduire une méthode pour apprendre les paramètres du **modèle de reconnaissance** $\\phi$ conjointement avec les paramètres du **modèle génératif** $\\theta$.\n",
    "\n",
    "##### 1.3.2. *Borne inférieure variationnelle*\n",
    "\n",
    "On observe la réecriture suivante de $\\ell (\\boldsymbol{\\theta})$ : \n",
    "\n",
    "\\begin{align*}\n",
    "\\ell (\\boldsymbol{\\theta}) &= \\log p_{\\boldsymbol{\\theta}}(\\boldsymbol{x})\\\\\n",
    "&= \\log \\int_{\\boldsymbol{\\mathcal{Z}}} p_{\\boldsymbol{\\theta}}(\\boldsymbol{x}, \\boldsymbol{z}) d\\boldsymbol{z}\\\\\n",
    "&= \\log \\int_{\\boldsymbol{\\mathcal{Z}}} \\frac{p_{\\theta}(\\boldsymbol{x}, \\boldsymbol{z})}{q_{\\phi}(\\boldsymbol{z}|\\boldsymbol{x})}q_{\\phi}(\\boldsymbol{z}|\\boldsymbol{x})d\\boldsymbol{z}\\\\\n",
    "&= \\log \\mathbb{E}[\\frac{p_{\\theta}(\\boldsymbol{x}, \\boldsymbol{z})}{q_{\\phi}(\\boldsymbol{z}|\\boldsymbol{x})}]\\\\\n",
    "&\\geq \\mathbb{E}_{q_{\\phi}(\\boldsymbol{z}|\\boldsymbol{x})}[\\log \\frac{p_{\\theta}(\\boldsymbol{x}, \\boldsymbol{z})}{q_{\\phi}(\\boldsymbol{z}|\\boldsymbol{x})}] \\quad \\text{Inégalité de Jensen}\\\\\n",
    "&= \\mathbb{E}_{q_{\\phi}(\\boldsymbol{z}|\\boldsymbol{x})}[\\log \\boldsymbol{w}(\\boldsymbol{x})]\\\\\n",
    "&= \\mathcal{L}(\\boldsymbol{\\theta}, \\phi; \\boldsymbol{x})\n",
    "\\end{align*}\n",
    "\n",
    "Ce dernier terme $\\mathcal{L}(\\boldsymbol{\\theta}, \\phi; \\boldsymbol{x})$ est appelé la <span style=\"color:blue\"> borne inférieure variationnelle de l'évidence (ELBO dans l'article) </span>  du point de données $\\boldsymbol{x} \\in \\boldsymbol{\\mathcal{X}}$.\n",
    "\n",
    "##### 1.3.3. *Méthodes variationnelles*\n",
    "\n",
    "L’idée est de différencier et optimiser la borne inférieure à la fois par rapport aux paramètres variationnels $\\phi$ et aux paramètres génératifs $\\theta$."
   ]
  },
  {
   "cell_type": "markdown",
   "metadata": {},
   "source": [
    "## <span style=\"color:green\">  Valeurs pour les applications numériques (tout au long du notebook) </span> \n",
    "\n",
    "(Application numérique inspirée de cet [article](https://arxiv.org/pdf/1802.04537.pdf))\n",
    "\n",
    "- Le **modèle génératif** est donné par $p_{\\theta}(\\boldsymbol{x}, \\boldsymbol{z}) = \\mathcal{N}(\\boldsymbol{z}|\\theta, I) \\mathcal{N}(\\boldsymbol{x}|\\boldsymbol{z}, I)$, où $\\boldsymbol{x}$ et $\\boldsymbol{z} \\in \\mathbb{R}^{20}$, de sorte que $p_{\\theta}(\\boldsymbol{x}) = \\mathcal{N}(\\boldsymbol{x}|\\theta, 2I)$ et $p_{\\theta}(\\boldsymbol{z}|\\boldsymbol{x}) = \\mathcal{N}\\left( \\frac{\\theta + x}{2}, \\frac{1}{2}I \\right)$. \n",
    "\n",
    "- La **distribution de l'encodeur** (le modèle de reconnaissance) est $q_{\\phi}(z|x) = \\mathcal{N}\\left(\\boldsymbol{z}|A\\boldsymbol{x} + b, \\frac{2}{3}I \\right)$, où $\\phi = (A, b)$.\n",
    "\n",
    "- Nous considérons des perturbations aléatoires des paramètres près de la valeur optimale par une distribution gaussienne de moyenne nulle et d'écart-type $0.01$.\n",
    "\n",
    "**Dans ce cas, on peut analytiquement calculer la vraie log-vraisemblance du modèle pour quantifier le biais et la variance de tous les estimateurs**.\n",
    "\n",
    "Puisque $q_{\\phi}(z|x) = \\mathcal{N}\\left(\\boldsymbol{z}|A\\boldsymbol{x} + b, \\frac{2}{3}I \\right)$ est censé être une approximation de la véritable loi a posteriori donnée par $p_{\\boldsymbol{\\theta}}(\\boldsymbol{z} | \\boldsymbol{x}) = \\mathcal{N}\\left( \\frac{\\theta + x}{2}, \\frac{1}{2}I \\right)$"
   ]
  },
  {
   "cell_type": "code",
   "execution_count": 24,
   "metadata": {},
   "outputs": [],
   "source": [
    "import numpy as np \n",
    "from scipy.stats import multivariate_normal\n",
    "import Estimateurs"
   ]
  },
  {
   "cell_type": "markdown",
   "metadata": {},
   "source": [
    "On commence par tirer le $\\theta$* ($\\in \\mathbb{R}$) qui sera le paramètre que l'on cherchera à estimer par la suite. \n",
    "\n",
    "A la manière de la génération des données dans l'article Rainforth et al. (2018) : $\\theta^* \\sim \\mathcal{N}(0, 1)$\n",
    "\n",
    "\n"
   ]
  },
  {
   "cell_type": "code",
   "execution_count": 25,
   "metadata": {},
   "outputs": [
    {
     "name": "stdout",
     "output_type": "stream",
     "text": [
      "La valeur de theta à estimer est -0.85\n"
     ]
    }
   ],
   "source": [
    "#theta_true = np.random.multivariate_normal(np.zeros(20), np.identity(20))\n",
    "theta_true = np.random.normal(0, 1)\n",
    "print(f\"La valeur de theta à estimer est {int(theta_true*100)/100}\")"
   ]
  },
  {
   "cell_type": "markdown",
   "metadata": {},
   "source": [
    "Désormais, on va tirer un échantillon $((Z_i, X_i))_i \\stackrel{iid}{\\sim} \\mathcal{N}(\\boldsymbol{z}|\\theta, \\boldsymbol{I}) * \\mathcal{N}(\\boldsymbol{x}|\\boldsymbol{z}, \\boldsymbol{I})$. \n"
   ]
  },
  {
   "cell_type": "code",
   "execution_count": 26,
   "metadata": {},
   "outputs": [
    {
     "name": "stdout",
     "output_type": "stream",
     "text": [
      "L'échantillon x observé est :\n",
      " \n",
      " x = [-0.14808246 -1.65797246 -0.21224544 -1.44094508  0.70515073 -0.66083784\n",
      " -0.3997248  -3.80170216 -0.40708179 -1.24953844 -0.33577715 -1.80186794\n",
      " -1.44971131 -1.15043685 -2.52285081 -0.15801816 -3.17207732  0.4899044\n",
      "  2.07114114  1.07834605]\n"
     ]
    }
   ],
   "source": [
    "## On se donne notre échantillon x\n",
    "\n",
    "x, _ = Estimateurs.joint_probability(theta_true)\n",
    "\n",
    "print(f\"L'échantillon x observé est :\\n \\n x = {x}\")"
   ]
  },
  {
   "cell_type": "markdown",
   "metadata": {},
   "source": [
    "Il est maintenant question de tirer notre encodeur tel que : $q_{\\phi}(z|x) = \\mathcal{N}\\left(\\boldsymbol{z}|A\\boldsymbol{x} + b, \\frac{2}{3}I \\right)$, où $\\phi = (A, b)$\n",
    "\n",
    "Étant donné un ensemble de données $(X_n)_{n=1}^N$, nous pouvons calculer analytiquement l'optimum de notre objectif $J(\\theta,\\phi)$, donnant $\\hat{\\theta} := \\frac{1}{N} \\sum_{n=1}^N X_n$ et $\\phi^* := (A^*, b^*)$, où $A^* = \\frac{1}{2}\\boldsymbol{I}_{20} \\in \\mathbb{R}^{20 \\times 20}$ et $b^* = [\\frac{\\theta^*}{2}, ..., \\frac{\\theta^*}{2}]^T \\in \\mathbb{R}^{20} $.\n",
    "\n",
    "Nous nous plaçons dans un cas où on aurait réussi à inférer de manière convenable la loi $p_{\\theta}(\\boldsymbol{z}|\\boldsymbol{x}) = \\mathcal{N}\\left( \\frac{\\theta + x}{2}, \\frac{1}{2}I \\right)$, mais pas parfaitement. Ainsi,  on introduit de la même façon que dans l'article [Tighter Variational Bounds are Not Necessarily Better](https://arxiv.org/pdf/1802.04537.pdf) (Rainforth et al., 2018) une perturbation autour de la valeur optimale du paramètre $\\phi$. Cette perturbation se caractérise par le fait chaque dimension de chaque paramètre a été décalée de manière aléatoire par rapport à sa valeur optimale en utilisant une gaussienne centrée en zéro avec un écart-type de 0,01.\n"
   ]
  },
  {
   "cell_type": "code",
   "execution_count": 23,
   "metadata": {},
   "outputs": [
    {
     "data": {
      "text/plain": [
       "(array([[ 5.02057674e-01,  7.48286632e-03, -9.02216484e-03,\n",
       "          1.68970661e-03,  4.96097712e-04,  1.15492068e-02,\n",
       "         -1.88118841e-03, -1.24011270e-02,  2.92937291e-04,\n",
       "         -7.84758568e-03,  7.98884227e-03,  2.86297382e-04,\n",
       "         -1.62938896e-03, -8.89799437e-03, -4.35051900e-03,\n",
       "          1.05568910e-04,  9.21532350e-03, -2.83141955e-04,\n",
       "         -1.95160162e-02,  8.55719554e-03],\n",
       "        [-1.39761155e-02,  4.99150828e-01, -4.89788596e-03,\n",
       "         -1.60604733e-02,  5.56359763e-04, -8.05867062e-03,\n",
       "          1.40874186e-02, -4.29945588e-03,  5.17102758e-03,\n",
       "          3.44780357e-03,  1.13271405e-02, -4.23613153e-03,\n",
       "          2.41059466e-03, -6.26744561e-03,  3.00627503e-03,\n",
       "         -2.50330224e-03, -6.55701307e-03, -3.43586932e-03,\n",
       "          6.74182771e-03, -3.77708658e-03],\n",
       "        [ 1.35800192e-04, -2.19717586e-02,  4.93884227e-01,\n",
       "          5.39016547e-03, -5.21154441e-03,  7.30665082e-04,\n",
       "         -8.77012364e-03,  5.14092979e-03, -1.32544946e-02,\n",
       "          1.52468379e-02, -1.99284170e-03,  7.95578639e-03,\n",
       "          4.37542521e-03, -4.97121765e-04,  1.57195468e-02,\n",
       "          3.34847717e-03, -1.01938861e-02, -1.02407805e-02,\n",
       "          6.83318269e-03, -1.78463611e-02],\n",
       "        [-3.90517514e-03,  2.04526780e-02, -2.45476914e-02,\n",
       "          4.99210421e-01, -1.12997864e-02, -1.22948636e-02,\n",
       "          5.90755462e-03,  7.05640341e-03, -6.12860458e-03,\n",
       "          9.02386361e-03, -1.34373720e-02,  7.11600096e-03,\n",
       "          3.88053831e-03, -2.07243608e-02, -8.19991688e-03,\n",
       "         -6.50876212e-03, -1.49225406e-02,  3.00815573e-02,\n",
       "          1.30656807e-02, -1.32244476e-03],\n",
       "        [-1.79832870e-03,  4.06996821e-04, -6.30163698e-03,\n",
       "          2.98433683e-03,  4.92547867e-01,  2.17228604e-02,\n",
       "         -1.66434041e-03,  9.99007609e-03,  1.52850516e-02,\n",
       "         -3.37785830e-03, -4.80833849e-03, -3.08693990e-03,\n",
       "          1.28319008e-02, -3.61475158e-03,  4.28072129e-04,\n",
       "         -5.68142892e-03,  3.34564779e-03, -1.80125466e-02,\n",
       "         -1.07754946e-04, -9.19159599e-03],\n",
       "        [ 3.78908612e-03, -1.88299138e-03,  1.18623637e-02,\n",
       "         -4.52815557e-03,  6.17713168e-03,  5.07738251e-01,\n",
       "         -1.12122831e-02, -1.01345401e-02, -9.03604089e-03,\n",
       "          5.36643915e-03,  3.77444695e-03,  5.66726598e-04,\n",
       "         -9.87999979e-04,  1.01840880e-02,  1.05861674e-02,\n",
       "          3.29824197e-03,  7.51685812e-04, -3.65607403e-03,\n",
       "         -5.54852593e-03, -1.24371426e-02],\n",
       "        [-1.47643848e-02,  1.08508869e-02, -4.90044284e-03,\n",
       "          5.85482728e-03, -3.16123018e-03, -2.43240921e-04,\n",
       "          5.04963946e-01,  4.63169772e-03, -6.29134423e-03,\n",
       "         -1.21331554e-02, -9.18278868e-03,  1.97167350e-02,\n",
       "          1.30871660e-02, -5.56669555e-03,  3.15303810e-03,\n",
       "         -3.09939251e-03, -6.12040264e-04, -1.46459499e-03,\n",
       "         -5.20693078e-03,  1.23469252e-02],\n",
       "        [-1.11544819e-03,  2.47445874e-03,  1.18496363e-02,\n",
       "          7.20800294e-03,  2.12441923e-02, -2.25269374e-03,\n",
       "          1.28960217e-03,  4.80369762e-01, -8.25785284e-04,\n",
       "          1.67079487e-03,  1.22904179e-02,  1.34524230e-02,\n",
       "         -3.29196231e-03,  6.09196502e-03, -1.22826772e-02,\n",
       "         -9.95074597e-04,  1.74084063e-04,  5.37700874e-05,\n",
       "          1.43296814e-02,  1.70922484e-02],\n",
       "        [ 8.94828280e-03, -5.95907077e-03,  2.91608083e-03,\n",
       "         -1.94308912e-03,  1.20382312e-02,  6.31700271e-03,\n",
       "         -1.54962482e-03,  8.20476455e-03,  5.00054446e-01,\n",
       "         -6.50736516e-03, -8.68265876e-03, -9.88395683e-04,\n",
       "          1.35840021e-02,  1.19277579e-02,  2.16431138e-03,\n",
       "          1.27846053e-02,  1.60024901e-02, -3.87249306e-03,\n",
       "          7.57639279e-03, -2.19306454e-03],\n",
       "        [-8.23975282e-03, -3.28213874e-03, -1.02514488e-02,\n",
       "         -1.33303141e-02,  5.17663380e-03, -1.69266505e-02,\n",
       "         -1.59939770e-03, -1.75828001e-02, -6.78989390e-03,\n",
       "          4.93970687e-01, -1.15114961e-02, -5.96483108e-03,\n",
       "          4.84743798e-03, -3.28849940e-03, -3.14921156e-03,\n",
       "         -5.89576308e-03,  1.69834068e-02, -5.49648725e-03,\n",
       "         -2.37669776e-03,  3.82626966e-03],\n",
       "        [ 1.41532600e-02, -1.83845310e-02, -6.72638048e-03,\n",
       "         -7.22663951e-03,  3.42728664e-03,  1.26035980e-02,\n",
       "          1.16970463e-02, -9.79350731e-03,  5.55405773e-03,\n",
       "          6.75277413e-04,  4.84613583e-01, -1.49432637e-02,\n",
       "         -3.68769638e-03, -7.46210538e-03, -2.05993250e-03,\n",
       "          1.39304038e-02, -3.08352511e-03,  6.65326042e-03,\n",
       "         -1.79460778e-02, -1.36346641e-02],\n",
       "        [-8.96098718e-03,  8.71153165e-03, -6.23031889e-03,\n",
       "          1.87430326e-03,  1.44094501e-02, -1.24573472e-02,\n",
       "         -1.22671563e-02,  3.68160502e-03, -1.76061989e-04,\n",
       "          6.18298906e-03,  6.70762023e-03,  4.82801448e-01,\n",
       "         -1.43182129e-02, -1.09896546e-02,  1.44369973e-02,\n",
       "          2.40878751e-02, -3.32402420e-04,  1.09851113e-02,\n",
       "         -1.90940999e-03,  2.16783173e-03],\n",
       "        [ 2.04589108e-03, -6.55361076e-03, -8.55392316e-04,\n",
       "         -4.29280390e-03, -1.38917780e-02,  1.67572813e-02,\n",
       "         -8.55179839e-04, -1.78355805e-03, -3.06790139e-03,\n",
       "          1.32555649e-02,  9.13419053e-03,  1.58126096e-02,\n",
       "          4.91932117e-01,  1.39828353e-02,  1.71114016e-02,\n",
       "          1.83260735e-03,  5.27237517e-03, -2.34910912e-02,\n",
       "         -1.63277372e-02, -8.47942910e-03],\n",
       "        [ 8.50493632e-04,  2.30225850e-03,  9.48655619e-04,\n",
       "         -1.50064426e-02, -5.80911969e-03, -1.46791641e-04,\n",
       "         -1.69494016e-02,  6.83088572e-03, -1.39814077e-02,\n",
       "         -6.82557563e-03,  3.44252389e-03, -3.54257091e-03,\n",
       "          5.59013895e-03,  4.97527261e-01, -4.46585840e-03,\n",
       "          1.38343867e-02, -1.56224297e-03, -4.31333877e-03,\n",
       "         -1.09545977e-03,  1.83285053e-02],\n",
       "        [ 5.07607227e-03,  4.94771341e-03, -6.85404045e-03,\n",
       "         -8.67359386e-03, -6.41107283e-03,  4.63255266e-03,\n",
       "          6.16270150e-03,  7.65345912e-03,  1.11043032e-02,\n",
       "         -1.55657704e-02, -1.19380022e-02, -1.44985046e-02,\n",
       "          9.98455071e-03,  1.38886700e-02,  5.05400108e-01,\n",
       "          8.48841309e-03, -3.46357874e-04,  9.63335360e-03,\n",
       "          5.12411001e-03,  3.14350666e-03],\n",
       "        [-5.58987343e-04, -5.37536576e-03,  3.63438071e-03,\n",
       "          1.30086328e-02, -7.95065855e-03,  6.32068027e-04,\n",
       "         -1.83739904e-02, -1.17930032e-02,  1.04030093e-02,\n",
       "         -2.30113970e-02, -1.58533100e-02,  8.01794837e-03,\n",
       "         -1.24764233e-02, -4.91141758e-03, -5.00077959e-03,\n",
       "          4.73852610e-01, -4.59949152e-03, -6.00518714e-03,\n",
       "         -4.18456680e-03,  4.79673593e-03],\n",
       "        [-1.04118700e-03, -5.02963095e-03,  7.56513333e-03,\n",
       "         -5.09282460e-03, -2.35328509e-02, -3.37216961e-03,\n",
       "         -1.04639777e-02, -8.19483255e-03,  3.02125800e-03,\n",
       "          1.78217170e-02, -1.20400252e-02,  2.54040888e-03,\n",
       "          3.59497027e-03, -1.42541028e-02, -7.35378506e-03,\n",
       "          6.53349546e-03,  4.99948568e-01, -1.79734197e-02,\n",
       "         -5.52334410e-03,  2.71942251e-05],\n",
       "        [-1.42411022e-02,  5.85203282e-03, -3.74643496e-04,\n",
       "          2.97973251e-03, -2.44454027e-03, -4.81979892e-03,\n",
       "          3.74453533e-03,  7.90726270e-03,  1.73426758e-04,\n",
       "          3.22307973e-03, -8.56456408e-03, -9.14907076e-03,\n",
       "          3.41359888e-03,  1.38311499e-03,  4.23099804e-03,\n",
       "          8.02948350e-04, -1.65352408e-02,  5.08207662e-01,\n",
       "          1.97939900e-03,  1.70834356e-02],\n",
       "        [ 1.17514621e-02, -1.46088604e-02,  5.93396190e-04,\n",
       "         -7.93522902e-03,  1.23211365e-02,  1.32446358e-03,\n",
       "         -1.27180001e-02, -5.24697552e-03, -1.36748074e-02,\n",
       "          1.67963231e-03,  1.46269255e-02,  1.38917111e-02,\n",
       "         -4.92486398e-03, -2.60336758e-03,  3.40940061e-03,\n",
       "         -8.76142040e-03, -1.35343670e-02, -1.57654225e-02,\n",
       "          5.01890391e-01, -5.15197128e-03],\n",
       "        [-9.62280979e-03, -5.56595784e-03,  6.20232281e-03,\n",
       "         -9.12976514e-03,  8.95236442e-03, -1.20873943e-02,\n",
       "         -1.04287697e-03, -3.90297018e-03, -1.08401325e-02,\n",
       "          1.78879295e-02,  1.05805322e-02, -4.94698915e-03,\n",
       "          9.40857443e-03, -2.01965634e-02, -4.05369332e-03,\n",
       "         -7.20064794e-03, -4.79286939e-03, -3.28081725e-03,\n",
       "         -5.23672627e-03,  5.12238777e-01]]),\n",
       " array([0.45925669, 0.46837911, 0.46539761, 0.46423988, 0.46754435,\n",
       "        0.47315612, 0.47228276, 0.47032049, 0.46922303, 0.49095333,\n",
       "        0.4709138 , 0.46809435, 0.46442294, 0.48009906, 0.47535278,\n",
       "        0.46370919, 0.46791694, 0.46805872, 0.48083987, 0.46714536]))"
      ]
     },
     "execution_count": 23,
     "metadata": {},
     "output_type": "execute_result"
    }
   ],
   "source": [
    "theta_hat = np.mean(x)\n",
    "\n",
    "noised_A, noised_b = Estimateurs.noised_params((1/2)*np.eye(20), (np.zeros(20) + theta_true)/2)\n",
    "noised_A_hat, noised_b_hat = Estimateurs.noised_params((1/2)*np.eye(20), (np.zeros(20) + theta_hat)/2)\n",
    "\n",
    "noised_A, noised_b"
   ]
  },
  {
   "cell_type": "markdown",
   "metadata": {},
   "source": [
    "Lorsque $z_i \\underset{i.i.d}{\\sim} q_{\\phi}(\\cdot|x)$ pour $i = 1, ..., k$, nous obtenons l'estimateur *biaisé* suivant de la log-vraisemblance marginale $\\ell(\\boldsymbol{\\theta}) = \\log p_{\\boldsymbol{\\theta}}(\\boldsymbol{x})$ :\n",
    "\n",
    "$$\n",
    "\\hat{\\ell}^{(k)}(\\boldsymbol{\\theta}) = \\log \\left( \\frac{1}{k} \\sum_{i=1}^{k} w_i \\right),\n",
    "$$\n",
    "\n",
    "où $w_i := w(z_i) = \\frac{p_{\\theta}(\\boldsymbol{x}, \\boldsymbol{z}_i)}{q_{\\phi}(\\boldsymbol{z}_i|\\boldsymbol{x})}$ est la fonction de poids d'importance."
   ]
  },
  {
   "cell_type": "markdown",
   "metadata": {},
   "source": [
    "On génère nos échantillons à partir des fonctions précédentes : "
   ]
  },
  {
   "cell_type": "code",
   "execution_count": 51,
   "metadata": {},
   "outputs": [],
   "source": [
    "joint = joint_probability(theta_true, 1000)\n",
    "X_sample = joint[0] #On prend seulement les X\n",
    "encoder = generate_encoder(X_sample, theta_true)\n",
    "Z_sample = encoder[0] #On prend seulement les Z\n",
    "AX_b = encoder[1]"
   ]
  },
  {
   "cell_type": "code",
   "execution_count": 67,
   "metadata": {},
   "outputs": [],
   "source": [
    "def weight(X_sample, Z_sample, AX_b):\n",
    "    q_phi,p_theta = [],[]\n",
    "    theta_hat = X_sample.mean(axis=0) #On prend la moyenne de l'échantillon mais là encore on pourrait s'épargner le tirage de tout l'échantillon\n",
    "    \n",
    "    #Remarque : Avec cette façon de faire on ne fait pas la disctinction entre x_data et Theta_hat -> pas normal\n",
    "    for i in range(len(Z_sample)):\n",
    "        Z_i = Z_sample[i][0]\n",
    "        q_phi.append(multivariate_normal.pdf(Z_i, mean=AX_b[i], cov=(2/3)*np.identity(20)))\n",
    "        p_theta.append(multivariate_normal.pdf(Z_i, mean=theta_hat, cov=np.identity(20)) * multivariate_normal.pdf(X_sample[i], mean=Z_i, cov=np.identity(20)))\n",
    "    \n",
    "    return np.array(p_theta) / np.array(q_phi)\n",
    "\n",
    "def l_hat(x, z, AX_b):\n",
    "    return np.log((1/len(z))*sum(weight(X_sample, Z_sample, AX_b) for i in range(len(z))))"
   ]
  },
  {
   "cell_type": "markdown",
   "metadata": {},
   "source": [
    "## <span style=\"color:red\">  2. Autoencodeur Pondéré par l’Importance (IAWE) </span> \n",
    "\n",
    "Voir l'article séminal sur l'IAWE [ici](https://arxiv.org/pdf/1509.00519.pdf).\n",
    "\n",
    "L'IWAE utilise cette architecture avec à la fois un **réseau génératif** (paramètre $\\boldsymbol{\\theta}$) et un **réseau de reconnaissance** (paramètre $\\phi$). **La différence est qu'il est entraîné à maximiser une autre borne inférieure** sur $\\log p_{\\boldsymbol{\\theta}}(\\boldsymbol{x})$. En particulier, nous utilisons la borne inférieure suivante, correspondant à l'estimation de pondération d'importance à $k$ échantillons de la log-vraisemblance :\n",
    "\n",
    "\\begin{align*}\n",
    "\\ell_{\\text{IAWE}}^{(k)}(\\boldsymbol{\\theta}, \\phi) &= \\mathbb{E}_{\\boldsymbol{z}_1,\\dots,\\boldsymbol{z}_k \\underset{i.i.d}{\\sim} q_{\\phi}(\\boldsymbol{z}|\\boldsymbol{x})}\\left[\\log \\frac{1}{k} \\sum_{i=1}^{k} \\frac{p_{\\boldsymbol{\\theta}}(\\boldsymbol{x}, \\boldsymbol{z}_i)}{q_{\\phi}(\\boldsymbol{z}_i | \\boldsymbol{x})}\\right ]\n",
    "\\end{align*}\n",
    "\n",
    "Ici, $\\boldsymbol{z}_1, \\dots, \\boldsymbol{z}_k$ sont échantillonnés indépendamment du modèle de reconnaissance. Le terme à l'intérieur de la somme correspond aux poids d'importance non normalisés pour la distribution conjointe, que nous noterons $w_i = \\frac{p(\\boldsymbol{x}, \\boldsymbol{z}_i)}{q_{\\phi}(\\boldsymbol{z}_i | \\boldsymbol{x})}$. \n",
    "\n",
    "L'optimisation de $\\ell_{\\text{IAWE}}^{(k)}(\\boldsymbol{\\theta}, \\phi)$ est effectuée conjointement en $\\boldsymbol{\\theta}$ et $\\phi$. \n",
    "\n",
    "Il existe deux propriétés de l'IWAE qui nous permettront de le modifier pour produire un estimateur non biaisé :\n",
    "1. Il est consistant, i.e. lorsque le nombre d'échantillons $k$ augmente, l'espérance de $\\ell_{\\text{IAWE}}^{(k)}(\\boldsymbol{\\theta}, \\phi)$ converge vers $\\log p_{\\boldsymbol{\\theta}}(\\boldsymbol{x})$ : \n",
    "$$\n",
    "\\log p_{\\boldsymbol{\\theta}}(\\boldsymbol{x}) = \\lim_{k \\rightarrow +\\infty} \\mathbb{E}[\\ell_{\\text{IAWE}}^{(k)}(\\boldsymbol{\\theta}, \\phi)]\n",
    "$$\n",
    "\n",
    "2. Il est également croissant en espérance : \n",
    "$$\n",
    "\\mathbb{E}[\\ell_{\\text{IAWE}}^{(k+1)}(\\boldsymbol{\\theta}, \\phi)] \\geq \\mathbb{E}[\\ell_{\\text{IAWE}}^{(k)}(\\boldsymbol{\\theta}, \\phi)]\n",
    "$$ \n",
    "\n",
    "Ces propriétés sont suffisantes pour créer un estimateur non biaisé en utilisant l'estimateur de la roulette russe.\n"
   ]
  },
  {
   "cell_type": "code",
   "execution_count": null,
   "metadata": {},
   "outputs": [],
   "source": [
    "## code IAWE à mettre ici "
   ]
  },
  {
   "cell_type": "markdown",
   "metadata": {},
   "source": [
    "Cependant, à moins que $q_{\\phi}(\\boldsymbol{z}|\\boldsymbol{x})$ corresponde exactement à $p_{\\boldsymbol{\\theta}}(\\boldsymbol{z}|\\boldsymbol{x})$, alors en général $\\nabla_{\\boldsymbol{\\theta}}\\ell_{\\text{IAWE}}^{(k)}(\\boldsymbol{\\theta}, \\phi) \\neq \\nabla_{\\boldsymbol{\\theta}}\\ell(\\boldsymbol{\\theta})$, et donc SGD peut optimiser $\\boldsymbol{\\theta}$ loin du vrai maximiseur de $\\mathcal{L}(\\boldsymbol{\\theta})$ à moins que $k$ soit grand."
   ]
  },
  {
   "cell_type": "markdown",
   "metadata": {},
   "source": [
    "## <span style=\"color:red\">  3. Estimateur de la roulette russe (rr) </span> \n",
    "\n",
    "\n",
    "Pour créer un estimateur non biaisé de la fonction de $\\log p_{\\boldsymbol{\\theta}}(\\boldsymbol{x})$, nous utilisons l'estimateur de la roulette russe (voir [Kahn, 1955](https://www.rand.org/content/dam/rand/pubs/papers/2008/P766.pdf)). Cet estimateur est utilisé pour estimer la somme de séries infinies, où l'évaluation de chaque terme de la série nécessite presque sûrement seulement une quantité finie de calcul. Intuitivement, l'estimateur de la roulette russe repose sur une troncature aléatoire et une pondération de chaque terme pour tenir compte de la possibilité de ne pas calculer ces termes.\n",
    "\n",
    "Pour illustrer l'idée, soit $\\tilde{\\Delta}_k$ $k$-ième terme d'une série infinie. Supposons que la somme partielle de la série $\\sum_{k=1}^{+\\infty}\\tilde{\\Delta}_k$ converge vers une quantité que nous souhaitons obtenir. Nous pouvons construire un estimateur simple en calculant toujours le premier terme puis en lançant une pièce $b \\sim$ Bernoulli($q$) pour déterminer si nous arrêtons ou continuons à évaluer les termes restants. Avec une probabilité de $1 − q$, nous calculons le reste de la série. En pondérant à nouveau les termes futurs restants par $\\frac{1}{1-q}$, nous obtenons un estimateur non biaisé :\n",
    "\n",
    "$$\n",
    "\\tilde{Y} = \\tilde{\\Delta}_0 + \\left(\\frac{\\sum_{k=1}^{+\\infty}\\tilde{\\Delta}_k}{1-q}\\right)\\mathbb{1}_{b=0} + (0)\\mathbb{1}_{b=1}\n",
    "$$\n",
    "\n",
    "$$\n",
    "\\mathbb{E}[\\tilde{Y}] = \\tilde{\\Delta}_0 + \\frac{\\sum_{k=1}^{+\\infty}\\tilde{\\Delta}_k}{1-q}(1-q) = \\sum_{k=0}^{+\\infty}\\tilde{\\Delta}_k\n",
    "$$\n",
    "Pour obtenir l'estimateur de la \"roulette russe\" (rr) (Forsythe & Leibler, 1950), nous appliquons cette astuce de manière répétée aux termes restants. En effet, en voyant le nombre de termes comme une variable aléatoire $\\mathcal{K}$ à valeurs dans $1, 2, ...$ à utiliser dans la sommation (c'est-à-dire, le nombre de lancers de pièce réussis) dont la distribution a pour fonction de masse de probabilité $p(\\mathcal{K}) = P(\\mathcal{K} = k)$ de support les entiers positifs. Avec $\\mathcal{K}$ tiré de $p(\\cdot)$, l'estimateur prend la forme :\n",
    "\n",
    "$$\n",
    "\\hat{Y}(\\mathcal{K}) = \\sum_{k=0}^K \\frac{\\tilde{\\Delta}_k}{\\mathbb{P}(\\mathcal{K} \\geq k)}\n",
    "$$\n",
    "\n",
    "$$\n",
    "\\mathbb{E}_{\\mathcal{K} \\sim p(\\cdot)}[\\hat{Y}(\\mathcal{K})] = \\sum_{k=0}^{+\\infty}\\tilde{\\Delta}_k\n",
    "\\tag{*}\n",
    "$$\n",
    "\n",
    "**Cependant, la variance de cet estimateur dépend du choix de p(K) et peut potentiellement être très grande voire infinie.**"
   ]
  },
  {
   "cell_type": "markdown",
   "metadata": {},
   "source": [
    "## <span style=\"color:red\"> 4. Stochastically Unbiased Marginalization Objective (SUMO) </span> \n",
    "\n",
    "\n",
    "Voir l'article séminal [ici](https://arxiv.org/pdf/2004.00353.pdf).\n",
    "\n",
    "L'objectif reste ici toujours d'estimer la log-vraisemblance, ce qui revient, dans le cadre introduit ci-dessus à poser\n",
    "\n",
    "\n",
    "$$\n",
    "I_{\\infty} = \\log p_{\\boldsymbol{\\theta}}(\\boldsymbol{x})\n",
    "$$\n",
    "\n",
    "Nous pouvons transformer toute série absolument convergente en une série télescopique et appliquer la randomisation de la roulette russe pour former un estimateur stochastique non biaisé. Nous nous concentrons ici sur la borne IWAE décrite précédemment. \n",
    "\n",
    "On pose \n",
    "\\begin{align*}\n",
    "\\Delta^{\\text{SUMO}}_k &:= \\hat{\\ell}^{(k+2)}(\\boldsymbol{\\theta}) - \\hat{\\ell}^{(k+1)}(\\boldsymbol{\\theta})\\\\\n",
    "&:= \\log \\left( \\frac{1}{k+2} \\sum_{i=1}^{k+2} w(\\boldsymbol{z}_i) \\right) - \\log \\left( \\frac{1}{k+1} \\sum_{i=1}^{k+1} w(\\boldsymbol{z}_i) \\right),\n",
    "\\end{align*}\n",
    "\n",
    "où on rappelle que $w(\\boldsymbol{z}) := \\frac{p_{\\boldsymbol{\\theta}}(\\boldsymbol{x}, \\boldsymbol{z})}{q_{\\phi}(\\boldsymbol{z}|\\boldsymbol{x})}$.\n",
    "\n",
    "On applique l'équation (*) pour construire notre estimateur, que nous appelons $\\textbf{SUMO}$ (Stochastically Unbiased Marginalization Objective) qui correspond précisément à l'estimateur de la roulette russe pour $\\Delta^{\\text{SUMO}}_k$. Ainsi, \n",
    "$$\n",
    "\\hat{\\ell}^{\\text{SUMO}}(\\boldsymbol{\\theta}) := I_0 + \\sum^K_{k=0} \\frac{\\Delta^{\\text{SUMO}}_k}{P(\\mathcal{K} \\geq k)}\n",
    "$$\n",
    "    \n",
    "où $\\mathcal{K} \\sim p(\\cdot)$ une distrubtion de support dans $\\mathbb{N}$\n",
    "\\end{définition}\n",
    "\n",
    "La troncature aléatoire de la série à l'aide de l'estimateur de la roulette russe signifie que c'est un estimateur non biaisé de la log-vraisemblance marginale, quelle que soit la distribution $p(\\cdot)$, i.e. que :\n",
    "\n",
    "$$\n",
    "\\mathbb{E}_{\\mathcal{K} \\sim p(\\cdot)}[\\hat{\\ell}^{\\text{SUMO}}(\\boldsymbol{\\theta})] = \\log p_{\\boldsymbol{\\theta}}(\\boldsymbol{x}) = \\ell (\\boldsymbol{\\theta})\n",
    "$$\n",
    "\n"
   ]
  },
  {
   "cell_type": "code",
   "execution_count": null,
   "metadata": {},
   "outputs": [],
   "source": [
    "## code SUMO"
   ]
  },
  {
   "cell_type": "markdown",
   "metadata": {},
   "source": [
    "## <span style=\"color:red\"> 5. Estimateur de vraisemblance non biaisé Multi-Level Monte Carlo (MLMC) </span> \n",
    "\n",
    "La méthodologie du Monte Carlo multiniveau de (voir cet [article](https://web.stanford.edu/~glynn/papers/2015/BlanchetG15.html)) repose sur un schéma alternatif astucieux pour construire $\\Delta_k$, qui peut garantir la construction d'estimateurs non biaisés de $\\ell(\\boldsymbol{\\theta})$ qui admettent une variance finie et peuvent être calculés en un temps attendu fini.\n",
    "\n",
    "Nous désignons par $\\boldsymbol{z}^O_i$, $\\boldsymbol{z}^E_i$ deux séquences indépendantes d'échantillons i.i.d. de $q_\\phi$, où $O$, $E$ désignent respectivement impair (odd), pair (even), et $w^O_i$, $w^E_i$ les poids d'importance correspondants. Ensuite, nous définissons $I_0 = \\hat{\\ell}^{(1)}(\\boldsymbol{\\theta})$ et\n",
    "\n",
    "\\begin{align*}\n",
    "\\Delta^\\text{ML}_k = \\hat{\\ell}^{(2^{k+1})}_{O\\cup E}(\\boldsymbol{\\theta}) - \\frac{1}{2} \\left( \\hat{\\ell}^{(2^k)}_O (\\boldsymbol{\\theta}) + \\hat{\\ell}^{(2^k)}_E (\\boldsymbol{\\theta}) \\right),\n",
    "\\end{align*}\n",
    "\n",
    "où $\\hat{\\ell}^{(2^k)}_O (\\boldsymbol{\\theta}) = \\log \\left(\\frac{1}{2^k} \\sum_{i=1}^{2^k} w(z^{O}_i) \\right)$ est calculé en utilisant les échantillons impairs $\\{z^O_i\\}_{i=1}^{2^k}$, $\\hat{\\ell}^{(2^k)}_E (\\boldsymbol{\\theta}) = \\log \\left(\\frac{1}{2^k} \\sum_{i=1}^{2^k} w(z^{E}_i) \\right)$ en utilisant les échantillons pairs $\\{z^E_i\\}_{i=1}^{2^k}$, et $\\hat{\\ell}^{(2^{k+1})}_{O\\cup E} (\\boldsymbol{\\theta})$ en utilisant $\\{z^O_i\\}_{i=1}^{2^k} \\cup \\{z^E_i\\}_{i=1}^{2^k}$. Nous désignons les estimateurs SS/RR multiniveaux correspondants de $\\hat{\\ell}(\\boldsymbol{\\theta})$ comme $\\hat{\\ell}^\\text{ML-SS}(\\boldsymbol{\\theta})$ et $\\hat{\\ell}^\\text{ML-RR}(\\boldsymbol{\\theta})$, et collectivement comme $\\hat{\\ell}^\\text{ML}(\\boldsymbol{\\theta})$.\n",
    "\n",
    "Ainsi, \n",
    "\n",
    "$$\n",
    "\\hat{\\ell}^\\text{ML-SS}(\\boldsymbol{\\theta}) = I_0 + \\frac{\\Delta^{\\text{ML}}_\\mathcal{K}}{p(\\mathcal{K})}, \\quad \\hat{\\ell}^\\text{ML-RR}(\\boldsymbol{\\theta}) = I_0 + \\sum_{k=0}^{K} \\frac{\\Delta^{\\text{ML}}_k}{\\mathbb{P}(\\mathcal{K} \\geq k)},\n",
    "$$\n"
   ]
  },
  {
   "cell_type": "code",
   "execution_count": 1,
   "metadata": {},
   "outputs": [
    {
     "ename": "NameError",
     "evalue": "name 'np' is not defined",
     "output_type": "error",
     "traceback": [
      "\u001b[0;31m---------------------------------------------------------------------------\u001b[0m",
      "\u001b[0;31mNameError\u001b[0m                                 Traceback (most recent call last)",
      "\u001b[1;32m/Users/khelifanail/MLMC_Unibaised_Gradient_Estimation_for_Deep_LVM/Test_Naïl.ipynb Cell 21\u001b[0m line \u001b[0;36m1\n\u001b[0;32m----> <a href='vscode-notebook-cell:/Users/khelifanail/MLMC_Unibaised_Gradient_Estimation_for_Deep_LVM/Test_Na%C3%AFl.ipynb#X26sZmlsZQ%3D%3D?line=0'>1</a>\u001b[0m theta_true \u001b[39m=\u001b[39m np\u001b[39m.\u001b[39mrandom\u001b[39m.\u001b[39mnormal(\u001b[39m0\u001b[39m, \u001b[39m1\u001b[39m)\n\u001b[1;32m      <a href='vscode-notebook-cell:/Users/khelifanail/MLMC_Unibaised_Gradient_Estimation_for_Deep_LVM/Test_Na%C3%AFl.ipynb#X26sZmlsZQ%3D%3D?line=2'>3</a>\u001b[0m x \u001b[39m=\u001b[39m Estimateurs\u001b[39m.\u001b[39mjoint_probability(theta_true)\n\u001b[1;32m      <a href='vscode-notebook-cell:/Users/khelifanail/MLMC_Unibaised_Gradient_Estimation_for_Deep_LVM/Test_Na%C3%AFl.ipynb#X26sZmlsZQ%3D%3D?line=4'>5</a>\u001b[0m \u001b[39mprint\u001b[39m(x)\n",
      "\u001b[0;31mNameError\u001b[0m: name 'np' is not defined"
     ]
    }
   ],
   "source": [
    "theta_true = np.random.normal(0, 1)\n",
    "\n",
    "x = Estimateurs.joint_probability(theta_true)\n",
    "\n",
    "print(x)\n"
   ]
  },
  {
   "cell_type": "code",
   "execution_count": null,
   "metadata": {},
   "outputs": [],
   "source": []
  }
 ],
 "metadata": {
  "kernelspec": {
   "display_name": "Python 3",
   "language": "python",
   "name": "python3"
  },
  "language_info": {
   "codemirror_mode": {
    "name": "ipython",
    "version": 3
   },
   "file_extension": ".py",
   "mimetype": "text/x-python",
   "name": "python",
   "nbconvert_exporter": "python",
   "pygments_lexer": "ipython3",
   "version": "3.11.5"
  },
  "orig_nbformat": 4
 },
 "nbformat": 4,
 "nbformat_minor": 2
}
